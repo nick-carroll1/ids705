{
 "cells": [
  {
   "cell_type": "markdown",
   "metadata": {},
   "source": [
    "# Assignment 3 - Supervised Learning: model training and evaluation"
   ]
  },
  {
   "attachments": {},
   "cell_type": "markdown",
   "metadata": {},
   "source": [
    "## *Nick Carroll*\n",
    "Netid: nc230\n",
    "\n",
    "Note: this assignment falls under collaboration Mode 2: Individual Assignment – Collaboration Permitted. Please refer to the syllabus for additional information."
   ]
  },
  {
   "cell_type": "markdown",
   "metadata": {},
   "source": [
    "Instructions for all assignments can be found [here](https://github.com/kylebradbury/ids705/blob/master/assignments/_Assignment%20Instructions.ipynb), and is also linked to from the [course syllabus](https://kylebradbury.github.io/ids705/index.html).\n",
    "\n",
    "Total points in the assignment add up to 90; an additional 10 points are allocated to presentation quality."
   ]
  },
  {
   "cell_type": "markdown",
   "metadata": {},
   "source": [
    "# Learning Objectives:\n",
    "This assignment will provide structured practice to help enable you to...\n",
    "1. Understand the primary workflow in machine learning: (1) identifying a hypothesis function set of models, (2) determining a loss/cost/error/objective function to minimize, and (3) minimizing that function through gradient descent\n",
    "2. Understand the inner workings of logistic regression and how linear models for classification can be developed.\n",
    "3. Gain practice in implementing machine learning algorithms from the most basic building blocks to understand the math and programming behind them to achieve practical proficiency with the techniques\n",
    "4. Implement batch gradient descent and become familiar with how that technique is used and its dependence on the choice of learning rate\n",
    "5. Evaluate supervised learning algorithm performance through ROC curves and using cross validation\n",
    "6. Apply regularization to linear models to improve model generalization performance"
   ]
  },
  {
   "cell_type": "markdown",
   "metadata": {},
   "source": [
    "# 1\n",
    "## Classification using logistic regression: build it from the ground up\n",
    "**[60 points]**\n",
    "\n",
    "This exercise will walk you through the full life-cycle of a supervised machine learning classification problem. Classification problem consists of two features/predictors (e.g. petal width and petal length) and your goal is to predict one of two possible classes (class 0 or class 1). You will build, train, and evaluate the performance of a logistic regression classifier on the data provided. Before you begin any modeling, you'll load and explore your data in Part I to familiarize yourself with it - and check for any missing or erroneous data. Then, in Part II, we will review an appropriate hypothesis set of functions to fit to the data: in this case, logistic regression. In Part III, we will derive an appropriate cost function for the data (spoiler alert: it's cross-entropy) as well as the gradient descent update equation that will allow you to optimize that cost function to identify the parameters that minimize the cost for the training data. In Part IV, all the pieces come together and you will implement your logistic regression model class including methods for fitting the data using gradient descent. Using that model you'll test it out and plot learning curves to verify the model learns as you train it and to identify and appropriate learning rate hyperparameter. Lastly, in Part V you will apply the model you designed, implemented, and verified to your actual data and evaluate and visualize its generalization performance as compared to a KNN algorithm. **When complete, you will have accomplished learning objectives 1-5 above!**\n",
    "\n",
    "### I. Load, prepare, and plot your data\n",
    "You are given some data for which you are tasked with constructing a classifier. The first step when facing any machine learning project: look at your data!\n",
    "\n",
    "**(a)** Load the data. \n",
    "- In the data folder in the same directory of this notebook, you'll find the data in `A3_Q1_data.csv`. This file contains the binary class labels, $y$, and the features $x_1$ and $x_2$.\n",
    "- Divide your data into a training and testing set where the test set accounts for 30 percent of the data and the training set the remaining 70 percent.  \n",
    "- Plot the training data by class. \n",
    "- Comment on the data: do the data appear separable? May logistic regression be a good choice for these data? Why or why not?\n",
    "\n",
    "**(b)** Do the data require any preprocessing due to missing values, scale differences (e.g. different ranges of values), etc.? If so, how did you handle these issues?\n",
    "\n",
    "Next, we walk through our key steps for model fitting: choose a hypothesis set of models to train (in this case, logistic regression); identify a cost function to measure the model fit to our training data; optimize model parameters to minimize cost (in this case using gradient descent). Once we've completed model fitting, we will evaluate the performance of our model and compare performance to another approach (a KNN classifier)."
   ]
  },
  {
   "cell_type": "markdown",
   "metadata": {},
   "source": [
    "### II. Stating the hypothesis set of models to evaluate (we'll use logistic regression)\n",
    "\n",
    "Given that our data consists of two features, our logistic regression problem will be applied to a two-dimensional feature space. Recall that our logistic regression model is:\n",
    "\n",
    "$$f(\\mathbf{x}_i,\\mathbf{w})=\\sigma(\\mathbf{w}^{\\top} \\mathbf{x}_i)$$\n",
    "\n",
    "where the sigmoid function is defined as $\\sigma(x) = \\dfrac{e^x}{1+e^{x}}= \\dfrac{1}{1+e^{-x}}$. Also, since this is a two-dimensional problem, we define $\\mathbf{w}^{\\top} \\mathbf{x}_i = w_0 x_{i,0} + w_1 x_{i,1} + w_2 x_{i,2}$ and here, $\\mathbf{x}_i=[x_{i,0}, x_{i,1}, x_{i,2}]^{\\top}$, and $x_{i,0} \\triangleq 1$\n",
    "\n",
    "Remember from class that we interpret our logistic regression classifier output (or confidence score) as the conditional probability that the target variable for a given sample $y_i$ is from class \"1\", given the observed features, $\\mathbf{x}_i$. For one sample, $(y_i, \\mathbf{x}_i)$, this is given as:\n",
    "\n",
    "$$P(Y=1|X=\\mathbf{x}_i) = f(\\mathbf{x}_i,\\mathbf{w})=\\sigma(\\mathbf{w}^{\\top} \\mathbf{x}_i)$$\n",
    "\n",
    "In the context of maximizing the likelihood of our parameters given the data, we define this to be the likelihood function $L(\\mathbf{w}|y_i,\\mathbf{x}_i)$, corresponding to one sample observation from the training dataset.\n",
    "\n",
    "*Aside: the careful reader will recognize this expression looks different from when we talk about the likelihood of our data given the true class label, typically expressed as $P(x|y)$, or the posterior probability of a class label given our data, typically expressed as $P(y|x)$. In the context of training a logistic regression model, the likelihood we are interested in is the likelihood function of our logistic regression **parameters**, $\\mathbf{w}$. It's our goal to use this to choose the parameters to maximize the likelihood function.*\n",
    "\n",
    "**No output is required for this section - just read and use this information in the later sections.**"
   ]
  },
  {
   "attachments": {},
   "cell_type": "markdown",
   "metadata": {},
   "source": [
    "### III. Find the cost function that we can use to choose the model parameters, $\\mathbf{w}$, that best fit the training data.\n",
    "\n",
    "**(c)** What is the likelihood function that corresponds to all the $N$ samples in our training dataset that we will wish to maximize? Unlike the likelihood function written above which gives the likelihood function for a *single training data pair* $(y_i, \\mathbf{x}_i)$, this question asks for the likelihood function for the *entire training dataset* $\\{(y_1, \\mathbf{x}_1), (y_2, \\mathbf{x}_2), ..., (y_N, \\mathbf{x}_N)\\}$. \n",
    "\n",
    "**(d)** Since a logarithm is a monotonic function, maximizing the $f(x)$ is equivalent to maximizing $\\ln [f(x)]$. Express the likelihood from the last question as a cost function of the model parameters, $C(\\mathbf{w})$; that is the negative of the logarithm of the likelihood. Express this cost as an average cost per sample (i.e. divide your final value by $N$), and use this quantity going forward as the cost function to optimize.\n",
    "\n",
    "**(e)** Calculate the gradient of the cost function with respect to the model parameters $\\nabla_{\\mathbf{w}}C(\\mathbf{w})$. Express this in terms of the partial derivatives of the cost function with respect to each of the parameters, e.g. $\\nabla_{\\mathbf{w}}C(\\mathbf{w}) = \\left[\\dfrac{\\partial C}{\\partial w_0}, \\dfrac{\\partial C}{\\partial w_1}, \\dfrac{\\partial C}{\\partial w_2}\\right]$. \n",
    "\n",
    "To simplify notation, please use $\\mathbf{w}^{\\top}\\mathbf{x}$ instead of writing out $w_0 x_{i,0} + w_1 x_{i,1} + w_2 x_{i,2}$ when it appears each time (where $x_{i,0} = 1$ for all $i$). You are also welcome to use $\\sigma()$ to represent the sigmoid function. Lastly, this will be a function the features, $x_{i,j}$ (with the first index in the subscript representing the observation and the second the feature; targets, $y_i$; and the logistic regression model parameters, $w_j$.\n",
    "\n",
    "**(f)** Write out the gradient descent update equation. This should clearly express how to update each weight from one step in gradient descent $w_j^{(k)}$ to the next $w_j^{(k+1)}$.  There should be one equation for each model logistic regression model parameter (or you can represent it in vectorized form). Assume that $\\eta$ represents the learning rate."
   ]
  },
  {
   "cell_type": "markdown",
   "metadata": {},
   "source": [
    "### IV. Implement gradient descent and your logistic regression algorithm\n",
    "\n",
    "**(g)** Implement your logistic regression model. \n",
    "- You are provided with a template, below, for a class with key methods to help with your model development. It is modeled on the Scikit-Learn convention. For this, you only need to create a version of logistic regression for the case of two feature variables (i.e. two predictors).\n",
    "- Create a method called `sigmoid` that calculates the sigmoid function\n",
    "- Create a method called `cost` that computes the cost function $C(\\mathbf{w})$ for a given dataset and corresponding class labels. This should be the **average cost** (make sure your total cost is divided by your number of samples in the dataset).\n",
    "- Create a method called `gradient_descent` to run **one step** of gradient descent on your training data. We'll refer to this as \"batch\" gradient descent since it takes into account the gradient based on all our data at each iteration of the algorithm. \n",
    "- Create a method called `fit` that fits the model to the data (i.e. sets the model parameters to minimize cost) using your `gradient_descent` method. In doing this we'll need to make some assumptions about the following:\n",
    "    - Weight initialization. What should you initialize the model parameters to? For this, randomly initialize the weights to a different values between 0 and 1.\n",
    "    - Learning rate. How slow/fast should the algorithm step towards the minimum? This you will vary in a later part of this problem.\n",
    "    - Stopping criteria. When should the algorithm be finished searching for the optimum? There are two stopping criteria: small changes in the gradient descent step size and a maximum number of iterations. The first is whether there was a sufficiently small change in the gradient; this is evaluated as whether the magnitude of the step that the gradient descent algorithm takes changes by less than $10^{-6}$ between iterations. Since we have a weight vector, we can compute the change in the weight by evaluating the $L_2$ norm (Euclidean norm) of the change in the vector between iterations. From our gradient descent update equation we know that mathematically this is $||-\\eta\\nabla_{\\mathbf{w}}C(\\mathbf{w})||$. The second criterion is met if a maximum number of iterations has been reach (5,000 in this case, to prevent infinite loops from poor choices of learning rates).\n",
    "    - Design your approach so that at each step in the gradient descent algorithm you evaluate the cost function for both the training and the test data for each new value for the model weights. You should be able to plot cost vs gradient descent iteration for both the training and the test data. This will allow you to plot \"learning curves\" that can be informative for how the model training process is proceeding.\n",
    "- Create a method called `predict_proba` that predicts confidence scores (that can be thresholded into the predictions of the `predict` method.\n",
    "- Create a method called `predict` that makes predictions based on the trained model, selecting the most probable class, given the data, as the prediction, that is class that yields the larger $P(y|\\mathbf{x})$.\n",
    "- (Optional, but recommended) Create a method called `learning_curve` that produces the cost function values that correspond to each step from a previously run gradient descent operation.\n",
    "- (Optional, but recommended) Create a method called `prepare_x` which appends a column of ones as the first feature of the dataset $\\mathbf{X}$ to account for the bias term ($x_{i,1}=1$).\n",
    "\n",
    "This structure is strongly encouraged; however, you're welcome to adjust this to your needs (adding helper methods, modifying parameters, etc.)."
   ]
  },
  {
   "cell_type": "code",
   "execution_count": null,
   "metadata": {},
   "outputs": [],
   "source": [
    "# Logistic regression class\n",
    "class Logistic_regression:\n",
    "    # Class constructor\n",
    "    def __init__(self):\n",
    "        self.w = None     # logistic regression weights\n",
    "        self.saved_w = [] # Since this is a small problem, we can save the weights\n",
    "                          #  at each iteration of gradient descent to build our \n",
    "                          #  learning curves\n",
    "        # returns nothing\n",
    "        pass\n",
    "    \n",
    "    # Method for calculating the sigmoid function of w^T X for an input set of weights\n",
    "    def sigmoid(self, X, w):\n",
    "        # returns the value of the sigmoid\n",
    "        pass\n",
    "    \n",
    "    # Cost function for an input set of weights\n",
    "    def cost(self, X, y, w):\n",
    "        # returns the average cross entropy cost\n",
    "        pass\n",
    "    \n",
    "    # Update the weights in an iteration of gradient descent\n",
    "    def gradient_descent(self, X, y, lr):\n",
    "        # returns a scalar of the magnitude of the Euclidean norm \n",
    "        #  of the change in the weights during one gradient descent step\n",
    "        pass\n",
    "    \n",
    "    # Fit the logistic regression model to the data through gradient descent\n",
    "    def fit(self, X, y, w_init, lr, delta_thresh=1e-6, max_iter=5000, verbose=False):\n",
    "        # Note the verbose flag enables you to print out the weights at each iteration \n",
    "        #  (optional - but may help with one of the questions)\n",
    "        \n",
    "        # returns nothing\n",
    "        pass\n",
    "    \n",
    "    # Use the trained model to predict the confidence scores (prob of positive class in this case)\n",
    "    def predict_proba(self, X):\n",
    "        # returns the confidence score for the each sample\n",
    "        pass\n",
    "    \n",
    "    # Use the trained model to make binary predictions\n",
    "    def predict(self, X, thresh=0.5):\n",
    "        # returns a binary prediction for each sample\n",
    "        pass\n",
    "    \n",
    "    # Stores the learning curves from saved weights from gradient descent\n",
    "    def learning_curve(self, X, y):\n",
    "        # returns the value of the cost function from each step in gradient descent\n",
    "        #  from the last model fitting process\n",
    "        pass\n",
    "    \n",
    "    # Appends a column of ones as the first feature to account for the bias term\n",
    "    def prepare_x(self, X):\n",
    "        # returns the X with a new feature of all ones (a column that is the new column 0)\n",
    "        pass"
   ]
  },
  {
   "attachments": {},
   "cell_type": "markdown",
   "metadata": {},
   "source": [
    "**(h)** Choose a learning rate and fit your model. Learning curves are a plot of metrics of model performance evaluated through the process of model training to provide insight about how model training is proceeding. Show the learning curves for the gradient descent process for learning rates of $\\{10^{-0}, 10^{-2}, 10^{-4}\\}$. For each learning rate plot the learning curves by plotting **both the training and test data average cost** as a function of each iteration of gradient descent. You should run the model fitting process until it completes (up to 5,000 iterations of gradient descent). Each of the 6 resulting curves (train and test average cost for each learning rate) should be plotted on the **same set of axes** to enable direct comparison. *Note: make sure you're using average cost per sample, not the total cost*.\n",
    "- Try running this process for a really big learning rate for this problem: $10^2$. Look at the weights that the fitting process generates over the first 50 iterations and how they change. Either print these first 50 iterations as console output or plot them. What happens? How does the output compare to that corresponding to a learning rate of $10^0$ and why?\n",
    "- What is the impact that the different values of learning have on the speed of the process and the results? \n",
    "- Of the options explored, what learning rate do you prefer and why?\n",
    "- Use your chosen learning rate for the remainder of this problem."
   ]
  },
  {
   "attachments": {},
   "cell_type": "markdown",
   "metadata": {},
   "source": [
    "### V. Evaluate your model performance through cross validation\n",
    "\n",
    "**(i)** Test the performance of your trained classifier using K-folds cross validation resampling technique. The scikit-learn package [StratifiedKFolds](http://scikit-learn.org/stable/modules/generated/sklearn.model_selection.StratifiedKFold.html#sklearn.model_selection.StratifiedKFold) may be helpful. \n",
    "- Train your logistic regression model and a K-Nearest Neighbor classification model with $k=7$ nearest neighbors.\n",
    "- Using the trained models, make four plots: two for logistic regression and two for KNN. For each model have one plot showing the training data used for fitting the model, and the other showing the test data. On each plot, include the decision boundary resulting from your trained classifier.\n",
    "- Produce a Receiver Operating Characteristic curve (ROC curve) that represents the performance from cross validated performance evaluation for each classifier (your logistic regression model and the KNN model, with $k=7$ nearest neighbors). For the cross validation, use $k=10$ folds. \n",
    "  - Plot these curves on the same set of axes to compare them\n",
    "  - On the ROC curve plot, also include the chance diagonal for reference (this represents the performance of the worst possible classifier). This is represented as a line from $(0,0)$ to $(1,1)$.\n",
    "  - Calculate the Area Under the Curve for each model and include this measure in the legend of the ROC plot.\n",
    "- Comment on the following:\n",
    "  - What is the purpose of using cross validation for this problem?\n",
    "  - How do the models compare in terms of performance (both ROC curves and decision boundaries) and which model (logistic regression or KNN) would you select to use on previously unseen data for this problem and why?"
   ]
  },
  {
   "cell_type": "markdown",
   "metadata": {},
   "source": [
    "**ANSWER**"
   ]
  },
  {
   "attachments": {},
   "cell_type": "markdown",
   "metadata": {},
   "source": [
    "**(a)** Loading Data"
   ]
  },
  {
   "cell_type": "code",
   "execution_count": 49,
   "metadata": {},
   "outputs": [],
   "source": [
    "import pandas as pd\n",
    "import numpy as np\n",
    "import altair as alt\n",
    "data = pd.read_csv('data\\A3_Q1_data.csv')"
   ]
  },
  {
   "cell_type": "code",
   "execution_count": 25,
   "metadata": {},
   "outputs": [],
   "source": [
    "test = data.sample(frac = .3)\n",
    "train = data.loc[~data.index.isin(test.index), :]"
   ]
  },
  {
   "cell_type": "code",
   "execution_count": 27,
   "metadata": {},
   "outputs": [
    {
     "data": {
      "text/html": [
       "\n",
       "<div id=\"altair-viz-b45920c2a8b7431e8451115672c48a31\"></div>\n",
       "<script type=\"text/javascript\">\n",
       "  var VEGA_DEBUG = (typeof VEGA_DEBUG == \"undefined\") ? {} : VEGA_DEBUG;\n",
       "  (function(spec, embedOpt){\n",
       "    let outputDiv = document.currentScript.previousElementSibling;\n",
       "    if (outputDiv.id !== \"altair-viz-b45920c2a8b7431e8451115672c48a31\") {\n",
       "      outputDiv = document.getElementById(\"altair-viz-b45920c2a8b7431e8451115672c48a31\");\n",
       "    }\n",
       "    const paths = {\n",
       "      \"vega\": \"https://cdn.jsdelivr.net/npm//vega@5?noext\",\n",
       "      \"vega-lib\": \"https://cdn.jsdelivr.net/npm//vega-lib?noext\",\n",
       "      \"vega-lite\": \"https://cdn.jsdelivr.net/npm//vega-lite@4.17.0?noext\",\n",
       "      \"vega-embed\": \"https://cdn.jsdelivr.net/npm//vega-embed@6?noext\",\n",
       "    };\n",
       "\n",
       "    function maybeLoadScript(lib, version) {\n",
       "      var key = `${lib.replace(\"-\", \"\")}_version`;\n",
       "      return (VEGA_DEBUG[key] == version) ?\n",
       "        Promise.resolve(paths[lib]) :\n",
       "        new Promise(function(resolve, reject) {\n",
       "          var s = document.createElement('script');\n",
       "          document.getElementsByTagName(\"head\")[0].appendChild(s);\n",
       "          s.async = true;\n",
       "          s.onload = () => {\n",
       "            VEGA_DEBUG[key] = version;\n",
       "            return resolve(paths[lib]);\n",
       "          };\n",
       "          s.onerror = () => reject(`Error loading script: ${paths[lib]}`);\n",
       "          s.src = paths[lib];\n",
       "        });\n",
       "    }\n",
       "\n",
       "    function showError(err) {\n",
       "      outputDiv.innerHTML = `<div class=\"error\" style=\"color:red;\">${err}</div>`;\n",
       "      throw err;\n",
       "    }\n",
       "\n",
       "    function displayChart(vegaEmbed) {\n",
       "      vegaEmbed(outputDiv, spec, embedOpt)\n",
       "        .catch(err => showError(`Javascript Error: ${err.message}<br>This usually means there's a typo in your chart specification. See the javascript console for the full traceback.`));\n",
       "    }\n",
       "\n",
       "    if(typeof define === \"function\" && define.amd) {\n",
       "      requirejs.config({paths});\n",
       "      require([\"vega-embed\"], displayChart, err => showError(`Error loading script: ${err.message}`));\n",
       "    } else {\n",
       "      maybeLoadScript(\"vega\", \"5\")\n",
       "        .then(() => maybeLoadScript(\"vega-lite\", \"4.17.0\"))\n",
       "        .then(() => maybeLoadScript(\"vega-embed\", \"6\"))\n",
       "        .catch(showError)\n",
       "        .then(() => displayChart(vegaEmbed));\n",
       "    }\n",
       "  })({\"config\": {\"view\": {\"continuousWidth\": 400, \"continuousHeight\": 300}}, \"data\": {\"name\": \"data-e185a47b7214e1f7623848a11c4aa1a9\"}, \"mark\": \"circle\", \"encoding\": {\"color\": {\"field\": \"y\", \"scale\": {\"domain\": [0.0, 1.0], \"range\": [\"red\", \"blue\"]}, \"type\": \"quantitative\"}, \"x\": {\"field\": \"x1\", \"type\": \"quantitative\"}, \"y\": {\"field\": \"x2\", \"type\": \"quantitative\"}}, \"title\": \"Data Separated by Class\", \"$schema\": \"https://vega.github.io/schema/vega-lite/v4.17.0.json\", \"datasets\": {\"data-e185a47b7214e1f7623848a11c4aa1a9\": [{\"x1\": 2.553123949, \"x2\": 0.337756751, \"y\": 0}, {\"x1\": -0.87775704, \"x2\": 0.045790023, \"y\": 1}, {\"x1\": -0.903528228, \"x2\": 0.368076281, \"y\": 1}, {\"x1\": -1.532151789, \"x2\": -0.863736661, \"y\": 1}, {\"x1\": -0.046953501, \"x2\": -0.388760741, \"y\": 1}, {\"x1\": -0.021464258, \"x2\": -1.555591362, \"y\": 0}, {\"x1\": 2.026366212, \"x2\": 1.134847469, \"y\": 0}, {\"x1\": -0.469223082, \"x2\": -1.574729178, \"y\": 1}, {\"x1\": -1.458154831, \"x2\": -1.638013901, \"y\": 1}, {\"x1\": 1.054660771, \"x2\": 0.454724, \"y\": 0}, {\"x1\": 0.172939319, \"x2\": -0.116064438, \"y\": 1}, {\"x1\": 0.774929357, \"x2\": -0.685645632, \"y\": 0}, {\"x1\": -0.109782689, \"x2\": -2.369723429, \"y\": 1}, {\"x1\": 0.640037911, \"x2\": 1.50060152, \"y\": 0}, {\"x1\": -0.36662777, \"x2\": -0.534451738, \"y\": 1}, {\"x1\": -1.123357809, \"x2\": -2.211004238, \"y\": 1}, {\"x1\": 2.685322475, \"x2\": 0.657468201, \"y\": 0}, {\"x1\": 0.075889738, \"x2\": -0.60854785, \"y\": 1}, {\"x1\": -1.937668214, \"x2\": 1.12273708, \"y\": 1}, {\"x1\": 1.850115505, \"x2\": 0.622683648, \"y\": 0}, {\"x1\": 0.707288975, \"x2\": 0.77687517, \"y\": 0}, {\"x1\": 2.381464073, \"x2\": 1.257515195, \"y\": 0}, {\"x1\": 0.577972327, \"x2\": -0.401149141, \"y\": 1}, {\"x1\": -0.230629496, \"x2\": -1.91130248, \"y\": 1}, {\"x1\": 1.523814101, \"x2\": 0.266118388, \"y\": 0}, {\"x1\": 1.893261729, \"x2\": -0.225563429, \"y\": 0}, {\"x1\": -0.889696894, \"x2\": -1.462454772, \"y\": 1}, {\"x1\": -2.430606998, \"x2\": -0.564274646, \"y\": 1}, {\"x1\": 2.079480219, \"x2\": 0.354120622, \"y\": 0}, {\"x1\": 0.092434607, \"x2\": -0.774875006, \"y\": 1}, {\"x1\": 1.651982935, \"x2\": -0.307426854, \"y\": 0}, {\"x1\": -2.046110133, \"x2\": -1.326004247, \"y\": 1}, {\"x1\": -1.762468634, \"x2\": -1.531180786, \"y\": 1}, {\"x1\": 1.140203316, \"x2\": 0.551817352, \"y\": 0}, {\"x1\": 0.706304542, \"x2\": -0.634994468, \"y\": 0}, {\"x1\": -1.286521773, \"x2\": 0.428978394, \"y\": 1}, {\"x1\": 0.298262995, \"x2\": -0.667320032, \"y\": 0}, {\"x1\": -0.724818466, \"x2\": -0.557537467, \"y\": 1}, {\"x1\": 2.778100503, \"x2\": 0.61291612, \"y\": 0}, {\"x1\": 0.496279431, \"x2\": 0.203469096, \"y\": 0}, {\"x1\": -1.511178805, \"x2\": -1.431720615, \"y\": 1}, {\"x1\": 2.456719568, \"x2\": 1.255525346, \"y\": 0}, {\"x1\": 0.064865011, \"x2\": -1.251235436, \"y\": 0}, {\"x1\": 1.832966852, \"x2\": 1.331440211, \"y\": 0}, {\"x1\": -0.642482559, \"x2\": -1.417102765, \"y\": 1}, {\"x1\": 2.128547759, \"x2\": 1.681659563, \"y\": 0}, {\"x1\": 0.112160425, \"x2\": -1.94055357, \"y\": 1}, {\"x1\": -0.49715167, \"x2\": -1.52283383, \"y\": 1}, {\"x1\": 0.148682762, \"x2\": -0.627849672, \"y\": 0}, {\"x1\": 1.292361405, \"x2\": 0.412275193, \"y\": 0}, {\"x1\": -0.735208618, \"x2\": -1.519899771, \"y\": 1}, {\"x1\": 0.003203342, \"x2\": -0.363207661, \"y\": 0}, {\"x1\": -1.863952448, \"x2\": -2.034416052, \"y\": 1}, {\"x1\": -0.108343634, \"x2\": -1.900319608, \"y\": 1}, {\"x1\": 2.072695396, \"x2\": 1.851453696, \"y\": 0}, {\"x1\": 2.110430157, \"x2\": 2.008745869, \"y\": 0}, {\"x1\": -1.989682387, \"x2\": -1.38617527, \"y\": 1}, {\"x1\": -0.652259305, \"x2\": -2.431489555, \"y\": 1}, {\"x1\": 1.365717445, \"x2\": 0.203251364, \"y\": 0}, {\"x1\": 2.34514843, \"x2\": 1.490681063, \"y\": 0}, {\"x1\": 0.96671, \"x2\": 0.994419986, \"y\": 0}, {\"x1\": 0.427682261, \"x2\": 0.099645083, \"y\": 0}, {\"x1\": -0.346103561, \"x2\": -1.737501268, \"y\": 1}, {\"x1\": 1.169063033, \"x2\": 0.637136499, \"y\": 0}, {\"x1\": -0.161427553, \"x2\": -1.978294264, \"y\": 0}, {\"x1\": 0.032457069, \"x2\": -0.441787617, \"y\": 0}, {\"x1\": 1.171522278, \"x2\": 0.212631286, \"y\": 0}, {\"x1\": -1.710864031, \"x2\": -2.362803869, \"y\": 1}, {\"x1\": -1.62205606, \"x2\": -0.707307689, \"y\": 1}, {\"x1\": -2.682962389, \"x2\": -1.505691965, \"y\": 1}, {\"x1\": 0.242388783, \"x2\": -1.936824046, \"y\": 1}, {\"x1\": 0.697208636, \"x2\": -0.164482015, \"y\": 0}, {\"x1\": 1.139956663, \"x2\": 0.006389154, \"y\": 0}, {\"x1\": -1.153531495, \"x2\": -0.754392995, \"y\": 1}, {\"x1\": 1.628416185, \"x2\": 1.243158098, \"y\": 0}, {\"x1\": 0.188510647, \"x2\": 0.745585115, \"y\": 1}, {\"x1\": -0.98346844, \"x2\": -1.264368375, \"y\": 1}, {\"x1\": -2.023917353, \"x2\": -2.154461272, \"y\": 1}, {\"x1\": -1.446611647, \"x2\": -2.966269493, \"y\": 1}, {\"x1\": 0.640500297, \"x2\": -0.856900497, \"y\": 0}, {\"x1\": -0.646824364, \"x2\": -1.831589543, \"y\": 1}, {\"x1\": 1.097030627, \"x2\": 0.4916369, \"y\": 0}, {\"x1\": -0.625202987, \"x2\": 0.168522044, \"y\": 1}, {\"x1\": -0.135700485, \"x2\": -0.707945491, \"y\": 0}, {\"x1\": 0.630149278, \"x2\": 0.99618655, \"y\": 0}, {\"x1\": 1.393900044, \"x2\": 0.567253495, \"y\": 0}, {\"x1\": -1.366212617, \"x2\": -2.518470325, \"y\": 1}, {\"x1\": 0.853098728, \"x2\": 0.603939582, \"y\": 0}, {\"x1\": 0.885468494, \"x2\": 0.90988618, \"y\": 0}, {\"x1\": -1.00498961, \"x2\": 0.994876179, \"y\": 1}, {\"x1\": -0.092374552, \"x2\": -0.610210177, \"y\": 0}, {\"x1\": -0.726497429, \"x2\": -2.260092492, \"y\": 1}, {\"x1\": -1.060106621, \"x2\": -0.193353847, \"y\": 1}, {\"x1\": -0.105929273, \"x2\": -1.814424804, \"y\": 1}, {\"x1\": -1.361069879, \"x2\": -0.396912668, \"y\": 1}, {\"x1\": 0.949411425, \"x2\": 0.46481336, \"y\": 0}, {\"x1\": -2.029434334, \"x2\": -0.906355411, \"y\": 1}, {\"x1\": 1.894627815, \"x2\": 1.149923548, \"y\": 0}, {\"x1\": 2.027899066, \"x2\": 1.696779334, \"y\": 0}, {\"x1\": 1.664325967, \"x2\": 0.87519055, \"y\": 0}, {\"x1\": 1.237454809, \"x2\": -2.175075432, \"y\": 1}, {\"x1\": -1.305948519, \"x2\": -0.798109984, \"y\": 1}, {\"x1\": -2.207024922, \"x2\": -1.125512416, \"y\": 1}, {\"x1\": -0.323048687, \"x2\": -0.849386164, \"y\": 0}, {\"x1\": -0.468854546, \"x2\": 0.261416794, \"y\": 1}, {\"x1\": -0.172616062, \"x2\": -1.193187492, \"y\": 1}, {\"x1\": -0.74825408, \"x2\": -2.791071681, \"y\": 1}, {\"x1\": 1.681758778, \"x2\": 0.415884025, \"y\": 0}, {\"x1\": 0.11170898, \"x2\": 0.135736529, \"y\": 1}, {\"x1\": -3.072982933, \"x2\": -1.922923854, \"y\": 1}, {\"x1\": 1.444961964, \"x2\": -0.069621506, \"y\": 0}, {\"x1\": -1.588860735, \"x2\": 1.422838949, \"y\": 1}, {\"x1\": 1.101296399, \"x2\": 0.109497512, \"y\": 0}, {\"x1\": 0.588668694, \"x2\": -0.870732612, \"y\": 1}, {\"x1\": 0.112412233, \"x2\": -0.522041359, \"y\": 0}, {\"x1\": -1.195603871, \"x2\": -0.010959758, \"y\": 1}, {\"x1\": 0.601136759, \"x2\": -2.136904342, \"y\": 1}, {\"x1\": -0.871954881, \"x2\": -0.427056087, \"y\": 0}, {\"x1\": -2.234917097, \"x2\": -0.611167858, \"y\": 1}, {\"x1\": -0.046625939, \"x2\": -0.52406424, \"y\": 0}, {\"x1\": 0.701424362, \"x2\": 1.042119814, \"y\": 0}, {\"x1\": -0.442277981, \"x2\": -2.852569712, \"y\": 1}, {\"x1\": -0.381016093, \"x2\": -0.48804599, \"y\": 1}, {\"x1\": 1.273200003, \"x2\": -0.340120192, \"y\": 0}, {\"x1\": 0.160715368, \"x2\": 0.170858556, \"y\": 1}, {\"x1\": -3.210005474, \"x2\": -1.502395689, \"y\": 1}, {\"x1\": 1.621585468, \"x2\": 1.154234044, \"y\": 0}, {\"x1\": -0.003832934, \"x2\": -1.628245012, \"y\": 1}, {\"x1\": 0.422517618, \"x2\": -0.48099191, \"y\": 0}, {\"x1\": 1.04469938, \"x2\": -0.733358296, \"y\": 0}, {\"x1\": -0.734539292, \"x2\": -2.625427662, \"y\": 1}, {\"x1\": -0.00599533, \"x2\": -0.801180718, \"y\": 0}, {\"x1\": 2.494212343, \"x2\": 0.615475696, \"y\": 0}, {\"x1\": 3.862194625, \"x2\": 3.103540912, \"y\": 0}, {\"x1\": -1.203602143, \"x2\": 0.046698807, \"y\": 1}, {\"x1\": 1.487502436, \"x2\": 0.076703381, \"y\": 0}, {\"x1\": 1.378828675, \"x2\": 1.373242934, \"y\": 0}, {\"x1\": -2.130028917, \"x2\": -0.64065452, \"y\": 1}, {\"x1\": -2.042914779, \"x2\": -1.097197718, \"y\": 1}, {\"x1\": -2.100484265, \"x2\": -0.532331851, \"y\": 1}]}}, {\"mode\": \"vega-lite\"});\n",
       "</script>"
      ],
      "text/plain": [
       "alt.Chart(...)"
      ]
     },
     "execution_count": 27,
     "metadata": {},
     "output_type": "execute_result"
    }
   ],
   "source": [
    "%%capture --no-display\n",
    "alt.Chart(\n",
    "    train, \n",
    "    title = \"Data Separated by Class\").mark_circle().encode(\n",
    "        x='x1',\n",
    "        y='x2', \n",
    "        color=alt.Color(\n",
    "            'y', \n",
    "            scale=alt.Scale(\n",
    "                domain = [0.0, 1.0], \n",
    "                range = ['red', 'blue'])))"
   ]
  },
  {
   "attachments": {},
   "cell_type": "markdown",
   "metadata": {},
   "source": [
    "The Data appears separable, and logistic regression appears to be a reasonable choice for predicting classes, because the analysis is seeking binary classification and the data appears separable."
   ]
  },
  {
   "attachments": {},
   "cell_type": "markdown",
   "metadata": {},
   "source": [
    "**(b)** Exploratory Data Analysis"
   ]
  },
  {
   "cell_type": "code",
   "execution_count": 42,
   "metadata": {},
   "outputs": [
    {
     "data": {
      "text/html": [
       "<div>\n",
       "<style scoped>\n",
       "    .dataframe tbody tr th:only-of-type {\n",
       "        vertical-align: middle;\n",
       "    }\n",
       "\n",
       "    .dataframe tbody tr th {\n",
       "        vertical-align: top;\n",
       "    }\n",
       "\n",
       "    .dataframe thead th {\n",
       "        text-align: right;\n",
       "    }\n",
       "</style>\n",
       "<table border=\"1\" class=\"dataframe\">\n",
       "  <thead>\n",
       "    <tr style=\"text-align: right;\">\n",
       "      <th></th>\n",
       "      <th>x1</th>\n",
       "      <th>x2</th>\n",
       "    </tr>\n",
       "  </thead>\n",
       "  <tbody>\n",
       "    <tr>\n",
       "      <th>min</th>\n",
       "      <td>-3.210005</td>\n",
       "      <td>-2.966269</td>\n",
       "    </tr>\n",
       "    <tr>\n",
       "      <th>max</th>\n",
       "      <td>3.862195</td>\n",
       "      <td>3.103541</td>\n",
       "    </tr>\n",
       "    <tr>\n",
       "      <th>range</th>\n",
       "      <td>7.072200</td>\n",
       "      <td>6.069810</td>\n",
       "    </tr>\n",
       "    <tr>\n",
       "      <th>mean</th>\n",
       "      <td>0.079471</td>\n",
       "      <td>-0.406001</td>\n",
       "    </tr>\n",
       "    <tr>\n",
       "      <th>std</th>\n",
       "      <td>1.400624</td>\n",
       "      <td>1.199310</td>\n",
       "    </tr>\n",
       "  </tbody>\n",
       "</table>\n",
       "</div>"
      ],
      "text/plain": [
       "             x1        x2\n",
       "min   -3.210005 -2.966269\n",
       "max    3.862195  3.103541\n",
       "range  7.072200  6.069810\n",
       "mean   0.079471 -0.406001\n",
       "std    1.400624  1.199310"
      ]
     },
     "execution_count": 42,
     "metadata": {},
     "output_type": "execute_result"
    }
   ],
   "source": [
    "eda = pd.DataFrame(\n",
    "    {'x1': [train.loc[:, 'x1'].min(), \n",
    "        train.loc[:, 'x1'].max(), \n",
    "        train.loc[:, 'x1'].max() - train.loc[:, 'x1'].min(), \n",
    "        train.loc[:, 'x1'].mean(), \n",
    "        train.loc[:, 'x1'].std()],\n",
    "    'x2': [train.loc[:, 'x2'].min(), \n",
    "        train.loc[:, 'x2'].max(), \n",
    "        train.loc[:, 'x2'].max() - train.loc[:, 'x2'].min(),\n",
    "        train.loc[:, 'x2'].mean(), \n",
    "        train.loc[:, 'x2'].std()]},\n",
    "    index = ['min', 'max', 'range', 'mean', 'std'])\n",
    "\n",
    "eda"
   ]
  },
  {
   "attachments": {},
   "cell_type": "markdown",
   "metadata": {},
   "source": [
    "While there are some minor differences in the training data exploratory statistics, the axes do not seem different enough to require pre-processing."
   ]
  },
  {
   "cell_type": "code",
   "execution_count": 47,
   "metadata": {},
   "outputs": [
    {
     "name": "stdout",
     "output_type": "stream",
     "text": [
      "The number of missing values in the training data is: \n"
     ]
    },
    {
     "data": {
      "text/plain": [
       "x1    0\n",
       "x2    0\n",
       "y     0\n",
       "dtype: int64"
      ]
     },
     "execution_count": 47,
     "metadata": {},
     "output_type": "execute_result"
    }
   ],
   "source": [
    "print(\"The number of missing values in the training data is: \")\n",
    "train.isna().sum()"
   ]
  },
  {
   "attachments": {},
   "cell_type": "markdown",
   "metadata": {},
   "source": [
    "There does not appear to be any missing data in the data."
   ]
  },
  {
   "cell_type": "code",
   "execution_count": 48,
   "metadata": {},
   "outputs": [
    {
     "name": "stdout",
     "output_type": "stream",
     "text": [
      "The range of values for class in the training data is [0 1].\n"
     ]
    }
   ],
   "source": [
    "print(f\"The range of values for class in the training data is {train.loc[:, 'y'].unique()}.\")"
   ]
  },
  {
   "attachments": {},
   "cell_type": "markdown",
   "metadata": {},
   "source": [
    "The y value data is appropriate for binary classification."
   ]
  },
  {
   "attachments": {},
   "cell_type": "markdown",
   "metadata": {},
   "source": [
    "**(c)** Likelihood Function"
   ]
  },
  {
   "attachments": {},
   "cell_type": "markdown",
   "metadata": {},
   "source": [
    "The likelihood function associated with the entire dataset can be written as $ L(\\textbf{w}|\\textbf{y}, \\textbf{x}) = \\Pi_{i}^{N} P(y_i| \\textbf{x}_i) = \\Pi_{i}^{N} P(y_i = 1| \\textbf{x}_i)^{y_i} P(y_i = 0| \\textbf{x}_i)^{1 - y_i} = \\Pi_{i}^{N} \\sigma(\\textbf{w}^T\\textbf{x}_i)^{y_i} (1-\\sigma(\\textbf{w}^T\\textbf{x}_i))^{1 - y_i} $."
   ]
  },
  {
   "attachments": {},
   "cell_type": "markdown",
   "metadata": {},
   "source": [
    "**(d)** Cost Function"
   ]
  },
  {
   "attachments": {},
   "cell_type": "markdown",
   "metadata": {},
   "source": [
    "$ C(\\textbf{w}) = -\\frac{1}{N} log(L(\\textbf{w}|\\textbf{y}, \\textbf{x})) = -\\frac{1}{N} log(\\Pi_{i}^{N} \\sigma(\\textbf{w}^T\\textbf{x}_i)^{y_i} (1-\\sigma(\\textbf{w}^T\\textbf{x}_i))^{1 - y_i}) = -\\frac{1}{N} \\sum_{i}^{N} (y_i log(\\sigma(\\textbf{w}^T\\textbf{x}_i)) + (1 - y_i) log(1-\\sigma(\\textbf{w}^T\\textbf{x}_i))) $"
   ]
  },
  {
   "attachments": {},
   "cell_type": "markdown",
   "metadata": {},
   "source": [
    "**(e)** Gradient of the Cost Function"
   ]
  },
  {
   "attachments": {},
   "cell_type": "markdown",
   "metadata": {},
   "source": [
    "$ \\nabla_{\\textbf{w}}(C(\\textbf{w})) = \\nabla_{\\textbf{w}}(-\\frac{1}{N} \\sum_{i}^{N} (y_i log(\\sigma(\\textbf{w}^T\\textbf{x}_i)) + (1 - y_i) log(1-\\sigma(\\textbf{w}^T\\textbf{x}_i)))) = -\\frac{1}{N} \\sum_{i}^{N} (\\nabla_{\\textbf{w}}(y_i log(\\sigma(\\textbf{w}^T\\textbf{x}_i))) + \\nabla_{\\textbf{w}}((1 - y_i) log(1-\\sigma(\\textbf{w}^T\\textbf{x}_i)))) = -\\frac{1}{N} \\sum_{i}^{N} (\\frac{y_i}{\\sigma(\\textbf{w}^T\\textbf{x}_i)} \\nabla_{\\textbf{w}}(\\sigma(\\textbf{w}^T\\textbf{x}_i)) + \\frac{1 - y_i}{1 - \\sigma(\\textbf{w}^T\\textbf{x}_i)} \\nabla_{\\textbf{w}}(1 - \\sigma(\\textbf{w}^T\\textbf{x}_i))) = -\\frac{1}{N} \\sum_{i}^{N} (\\frac{y_i}{\\sigma(\\textbf{w}^T\\textbf{x}_i)} \\sigma(\\textbf{w}^T\\textbf{x}_i)(1 - \\sigma(\\textbf{w}^T\\textbf{x}_i))\\nabla_{\\textbf{w}}(\\textbf{w}^T\\textbf{x}_i) + \\frac{1 - y_i}{1 - \\sigma(\\textbf{w}^T\\textbf{x}_i)} \\sigma(\\textbf{w}^T\\textbf{x}_i)(\\sigma(\\textbf{w}^T\\textbf{x}_i) - 1) \\nabla_{\\textbf{w}}(\\textbf{w}^T\\textbf{x}_i)) = -\\frac{1}{N} \\sum_{i}^{N} (\\frac{y_i}{\\sigma(\\textbf{w}^T\\textbf{x}_i)} \\sigma(\\textbf{w}^T\\textbf{x}_i)(1 - \\sigma(\\textbf{w}^T\\textbf{x}_i))\\textbf{x}_i + \\frac{y_i - 1}{1 - \\sigma(\\textbf{w}^T\\textbf{x}_i)} \\sigma(\\textbf{w}^T\\textbf{x}_i)(1 - \\sigma(\\textbf{w}^T\\textbf{x}_i)) \\textbf{x}_i) = -\\frac{1}{N} \\sum_{i}^{N} (y_i - \\sigma(\\textbf{w}^T\\textbf{x}_i))\\textbf{x}_i $ "
   ]
  },
  {
   "attachments": {},
   "cell_type": "markdown",
   "metadata": {},
   "source": [
    "**(f)** Gradient Descent Function"
   ]
  },
  {
   "attachments": {},
   "cell_type": "markdown",
   "metadata": {},
   "source": [
    "$ \\textbf{w}_{n + 1} = \\textbf{w}_{n} - \\eta \\nabla_{\\textbf{w}}(C(\\textbf{w})) = \\textbf{w}_{n} + \\eta \\frac{1}{N} \\sum_{i}^{N} (2 y_i - 1) (1 - \\sigma(\\textbf{w}^T\\textbf{x}_i))\\textbf{x}_i $"
   ]
  },
  {
   "attachments": {},
   "cell_type": "markdown",
   "metadata": {},
   "source": [
    "**(g)** Defining Logistic Regression Model"
   ]
  },
  {
   "cell_type": "code",
   "execution_count": 229,
   "metadata": {},
   "outputs": [],
   "source": [
    "# Logistic regression class\n",
    "class Logistic_regression:\n",
    "    # Class constructor\n",
    "    def __init__(self):\n",
    "        self.w = None     # logistic regression weights\n",
    "        self.saved_w = [] # Since this is a small problem, we can save the weights\n",
    "                          #  at each iteration of gradient descent to build our \n",
    "                          #  learning curves\n",
    "        # returns nothing\n",
    "        pass\n",
    "    \n",
    "    # Method for calculating the sigmoid function of w^T X for an input set of weights\n",
    "    def sigmoid(self, X, w):\n",
    "        return 1 / (1 + np.exp(-np.matmul(X, w.T)))\n",
    "    \n",
    "    # Cost function for an input set of weights\n",
    "    def cost(self, X, y, w):\n",
    "        N = X.shape[0]\n",
    "        return -1 / N * np.sum(y * np.log(self.sigmoid(X, w)) + (1 - y) * np.log(1 - self.sigmoid(X, w)))\n",
    "    \n",
    "    # Update the weights in an iteration of gradient descent\n",
    "    def gradient_descent(self, X, y, lr):\n",
    "        N = X.shape[0]\n",
    "        return self.w + lr / N * np.sum(np.multiply(y - self.sigmoid(X, self.w),  X), axis = 0)\n",
    "    \n",
    "    # Fit the logistic regression model to the data through gradient descent\n",
    "    def fit(self, X, y, lr, w_init = None, delta_thresh=1e-6, max_iter=5000, verbose=False):\n",
    "        X = self.prepare_x(X)\n",
    "        if w_init is None:\n",
    "            self.w = np.random.rand(y.shape[1] if len(y.shape) > 1 else 1, X.shape[1])\n",
    "        else:\n",
    "            self.w = w_init\n",
    "        self.saved_w.append(self.w)\n",
    "        for i in range(max_iter):\n",
    "            self.w = self.gradient_descent(X, np.reshape(y.to_numpy(), (-1, 1)), lr)\n",
    "            if np.linalg.norm(self.w - self.saved_w[-1], 2) < delta_thresh:\n",
    "                break\n",
    "            self.saved_w.append(self.w)\n",
    "    \n",
    "    # Use the trained model to predict the confidence scores (prob of positive class in this case)\n",
    "    def predict_proba(self, X):\n",
    "        return self.sigmoid(self.prepare_x(X), self.w)\n",
    "    \n",
    "    # Use the trained model to make binary predictions\n",
    "    def predict(self, X, thresh=0.5):\n",
    "        return np.where(self.predict_proba(X) > thresh, 1, 0)\n",
    "    \n",
    "    # Stores the learning curves from saved weights from gradient descent\n",
    "    def learning_curve(self, X, y):\n",
    "        return np.array([self.cost(self.prepare_x(X), np.reshape(y.to_numpy(), (-1, 1)), each_w) for each_w in self.saved_w])\n",
    "        \n",
    "    # Appends a column of ones as the first feature to account for the bias term\n",
    "    def prepare_x(self, X):\n",
    "        return np.hstack([np.ones((X.shape[0], 1)), X])"
   ]
  },
  {
   "attachments": {},
   "cell_type": "markdown",
   "metadata": {},
   "source": [
    "**(h)** Implementing Logistic Regression Model"
   ]
  },
  {
   "cell_type": "code",
   "execution_count": 233,
   "metadata": {},
   "outputs": [
    {
     "data": {
      "image/png": "[encoded data removed]",
      "text/plain": [
       "<Figure size 640x480 with 1 Axes>"
      ]
     },
     "metadata": {},
     "output_type": "display_data"
    },
    {
     "data": {
      "image/png": "[encoded data removed]",
      "text/plain": [
       "<Figure size 640x480 with 1 Axes>"
      ]
     },
     "metadata": {},
     "output_type": "display_data"
    },
    {
     "data": {
      "image/png": "[encoded data removed]",
      "text/plain": [
       "<Figure size 640x480 with 1 Axes>"
      ]
     },
     "metadata": {},
     "output_type": "display_data"
    }
   ],
   "source": [
    "lrates = [10, .01, .0001]\n",
    "for lr in lrates:\n",
    "    model = Logistic_regression()\n",
    "    model.fit(train.loc[:, ['x1', 'x2']], train.loc[:, 'y'], lr)\n",
    "    pd.DataFrame(model.learning_curve(train.loc[:, ['x1', 'x2']], train.loc[:, 'y'])).plot()"
   ]
  },
  {
   "attachments": {},
   "cell_type": "markdown",
   "metadata": {},
   "source": [
    "# 2\n",
    "\n",
    "## Digits classification\n",
    "**[30 points]**\n",
    "\n",
    "*An exploration of regularization, imbalanced classes, ROC and PR curves*\n",
    "\n",
    "The goal of this exercise is to apply your supervised learning skills on a very different dataset: in this case, image data; MNIST: a collection of images of handwritten digits. Your goal is to train a classifier that is able to distinguish the number \"3\" from all possible numbers and to do so as accurately as possible. You will first explore your data (this should always be your starting point to gain domain knowledge about the problem.). Since the feature space in this problem is 784-dimensional, overfitting is possible. To avoid overfitting you will investigate the impact of regularization on generalization performance (test accuracy) and compare regularized and unregularized logistic regression model test error against other classification techniques such as linear discriminant analysis and random forests and draw conclusions about the best-performing model.\n",
    "\n",
    "Start by loading your dataset from the [MNIST dataset](http://yann.lecun.com/exdb/mnist/) of handwritten digits, using the code provided below. MNIST has a training set of 60,000 examples, and a test set of 10,000 examples. The digits have been size-normalized and centered in a fixed-size image.\n",
    "\n",
    "Your goal is to classify whether or not an example digit is a 3. Your binary classifier should predict $y=1$ if the digit is a 3, and $y=0$ otherwise. Create your dataset by transforming your labels into a binary format (3's are class 1, and all other digits are class 0). "
   ]
  },
  {
   "attachments": {},
   "cell_type": "markdown",
   "metadata": {},
   "source": [
    "\n",
    "**(a)** Plot 10 examples of each class (i.e. class $y=0$, which are not 3's and class $y=1$ which are 3's), from the training dataset.\n",
    "- Note that the data are composed of samples of length 784. These represent 28 x 28 images, but have been reshaped for storage convenience. To plot digit examples, you'll need to reshape the data to be 28 x 28 (which can be done with numpy `reshape`).\n",
    "\n",
    "**(b)** How many examples are present in each class? Show a plot of samples by class (bar plot). What fraction of samples are positive? What issues might this cause?\n",
    "\n",
    "**(c)** Identify the value of the regularization parameter that optimizes model performance on out-of-sample data. Using a logistic regression classifier, apply lasso regularization and retrain the model and evaluate its performance on the test set over a range of values on the regularization coefficient. You can implement this using the [LogisticRegression](http://scikit-learn.org/stable/modules/generated/sklearn.linear_model.LogisticRegression.html) module and activating the 'l1' penalty; the parameter $C$ is the inverse of the regularization strength. Vary the value of C logarithmically from $10^{-4}$ to $10^4$ (and make your x-axes logarithmic in scale) and evaluate it at least 20 different values of C. As you vary the regularization coefficient, Plot the following four quantities (this should result in 4 separate plots)... \n",
    "- The number of model parameters that are estimated to be nonzero (in the logistic regression model, one attribute is `coef_`, which gives you access to the model parameters for a trained model)\n",
    "- The cross entropy loss (which can be evaluated with the Scikit Learn `log_loss` function)\n",
    "- Area under the ROC curve (AUC)\n",
    "- The $F_1$-score (assuming a threshold of 0.5 on the predicted confidence scores, that is, scores above 0.5 are predicted as Class 1, otherwise Class 0). Scikit Learn also has a `f1_score` function which may be useful.\n",
    "-Which value of C seems best for this problem? Please select the closest power of 10. You will use this in the next part of this exercise.\n",
    "\n",
    "**(d)** Train and test a (1) logistic regression classifier with minimal regularization (using the Scikit Learn package, set penalty='l1', C=1e100 to approximate this), (2) a logistic regression classifier with the best value of the regularization parameter from the last section, (3) a Linear Discriminant Analysis (LDA) Classifier, and (4) a Random Forest (RF) classifier (using default parameters for the LDA and RF classifiers). \n",
    "- Compare your classifiers' performance using ROC and Precision Recall (PR) curves. For the ROC curves, all your curves should be plotted on the same set of axes so that you can directly compare them. Please do the same wih the PR curves.\n",
    "- Plot the line that represents randomly guessing the class (50% of the time a \"3\", 50% not a \"3\"). You SHOULD NOT actually create random guesses. Instead, you should think through the theory behind how ROC and PR curves work and plot the appropriate lines. It's a good practice to include these in ROC and PR curve plots as a reference point.\n",
    "- For PR curves, an excellent resource on how to correctly plot them can be found [here](https://classeval.wordpress.com/introduction/introduction-to-the-precision-recall-plot/) (ignore the section on \"non-linear interpolation between two points\"). This describes how a random classifier is represented in PR curves and demonstrates that it should provide a lower bound on performance.\n",
    "- When training your logistic regression model, it's recommended that you use solver=\"liblinear\"; otherwise, your results may not converge.\n",
    "- Describe the performance of the classifiers you compared. Did the regularization of the logistic regression model make much difference here? Which classifier you would select for application to unseen data."
   ]
  },
  {
   "cell_type": "code",
   "execution_count": null,
   "metadata": {},
   "outputs": [],
   "source": [
    "# Load the MNIST Data\n",
    "from sklearn.datasets import fetch_openml\n",
    "from sklearn.model_selection import train_test_split\n",
    "import numpy as np\n",
    "import matplotlib.pyplot as plt\n",
    "import pickle\n",
    "\n",
    "# Set this to True to download the data for the first time and False after the first time \n",
    "#   so that you just load the data locally instead\n",
    "download_data = True\n",
    "\n",
    "if download_data:\n",
    "    # Load data from https://www.openml.org/d/554\n",
    "    X, y = fetch_openml('mnist_784', return_X_y=True, as_frame=False)\n",
    "    \n",
    "    # Adjust the labels to be '1' if y==3, and '0' otherwise\n",
    "    y[y!='3'] = 0\n",
    "    y[y=='3'] = 1\n",
    "    y = y.astype('int')\n",
    "    \n",
    "    # Divide the data into a training and test split\n",
    "    X_train, X_test, y_train, y_test = train_test_split(X, y, test_size=1/7, random_state=88)\n",
    "    \n",
    "    file = open('tmpdata', 'wb')\n",
    "    pickle.dump((X_train, X_test, y_train, y_test), file)\n",
    "    file.close()\n",
    "else:\n",
    "    file = open('tmpdata', 'rb')\n",
    "    X_train, X_test, y_train, y_test = pickle.load(file)\n",
    "    file.close()"
   ]
  },
  {
   "cell_type": "markdown",
   "metadata": {},
   "source": [
    "**ANSWER**"
   ]
  }
 ],
 "metadata": {
  "kernelspec": {
   "display_name": "base",
   "language": "python",
   "name": "python3"
  },
  "language_info": {
   "codemirror_mode": {
    "name": "ipython",
    "version": 3
   },
   "file_extension": ".py",
   "mimetype": "text/x-python",
   "name": "python",
   "nbconvert_exporter": "python",
   "pygments_lexer": "ipython3",
   "version": "3.10.6"
  },
  "varInspector": {
   "cols": {
    "lenName": 16,
    "lenType": 16,
    "lenVar": 40
   },
   "kernels_config": {
    "python": {
     "delete_cmd_postfix": "",
     "delete_cmd_prefix": "del ",
     "library": "var_list.py",
     "varRefreshCmd": "print(var_dic_list())"
    },
    "r": {
     "delete_cmd_postfix": ") ",
     "delete_cmd_prefix": "rm(",
     "library": "var_list.r",
     "varRefreshCmd": "cat(var_dic_list()) "
    }
   },
   "position": {
    "height": "722px",
    "left": "1550px",
    "right": "20px",
    "top": "121px",
    "width": "353px"
   },
   "types_to_exclude": [
    "module",
    "function",
    "builtin_function_or_method",
    "instance",
    "_Feature"
   ],
   "window_display": false
  },
  "vscode": {
   "interpreter": {
    "hash": "72db1ef4dcd6e2344e9289c13171ece59739274764f83c0b8f73f911c07b82ff"
   }
  }
 },
 "nbformat": 4,
 "nbformat_minor": 4
}
