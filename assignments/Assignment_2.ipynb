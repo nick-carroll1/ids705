{
 "cells": [
  {
   "cell_type": "markdown",
   "metadata": {},
   "source": [
    "# Assignment 2 - Supervised Machine Learning Fundamentals"
   ]
  },
  {
   "attachments": {},
   "cell_type": "markdown",
   "metadata": {},
   "source": [
    "## *Nick Carroll*\n",
    "Netid: nc230\n",
    "\n",
    "Note: this assignment falls under collaboration Mode 2: Individual Assignment – Collaboration Permitted. Please refer to the syllabus for additional information.\n",
    "\n",
    "Instructions for all assignments can be found [here](https://github.com/kylebradbury/ids705/blob/master/assignments/_Assignment%20Instructions.ipynb), and is also linked to from the [course syllabus](https://kylebradbury.github.io/ids705/index.html).\n",
    "\n",
    "Total points in the assignment add up to 90; an additional 10 points are allocated to presentation quality."
   ]
  },
  {
   "cell_type": "markdown",
   "metadata": {},
   "source": [
    "## Learning Objectives:\n",
    "By successfully completing this assignment you will be able to...\n",
    "- Explain the bias-variance tradeoff of supervised machine learning and the impact of model flexibility on algorithm performance\n",
    "- Perform supervised machine learning training and performance evaluation\n",
    "- Implement a k-nearest neighbors machine learning algorithm from scratch in a style similar to that of popular machine learning tools like `scikit-learn`\n",
    "- Describe how KNN classification works, the method's reliance on distance measurements, and the impact of higher dimensionality on computational speed\n",
    "- Apply regression (linear regression) and classification (KNN) supervised learning techniques to data and evaluate the performance of those methods\n",
    "- Construct simple feature transformations for improving model fit in linear models\n",
    "- Fit a `scikit-learn` supervised learning technique to training data and make predictions using it"
   ]
  },
  {
   "cell_type": "code",
   "execution_count": 1,
   "metadata": {},
   "outputs": [],
   "source": [
    "# MAC USERS TAKE NOTE:\n",
    "# For clearer plots in Jupyter notebooks on macs, run the following line of code:\n",
    "# %config InlineBackend.figure_format = 'retina'"
   ]
  },
  {
   "attachments": {},
   "cell_type": "markdown",
   "metadata": {},
   "source": [
    "---\n",
    "\n",
    "# Conceptual Questions on Supervised Learning"
   ]
  },
  {
   "cell_type": "markdown",
   "metadata": {},
   "source": [
    "## 1\n",
    "**[4 points]**\n",
    "For each part below, indicate whether we would generally expect the performance of a flexible statistical learning method to be *better* or *worse* than an inflexible method. Justify your answer.\n",
    "\n",
    "1. The sample size $n$ is extremely large, and the number of predictors $p$ is small.\n",
    "2. The number of predictors $p$ is extremely large, and the number of observations $n$ is small.\n",
    "3. The relationship between the predictors and response is highly non-linear.\n",
    "4. The variance of the error terms, i.e. $\\sigma^2 = Var(\\epsilon)$, is extremely high"
   ]
  },
  {
   "cell_type": "markdown",
   "metadata": {},
   "source": [
    "**ANSWER**"
   ]
  },
  {
   "attachments": {},
   "cell_type": "markdown",
   "metadata": {},
   "source": [
    "1. If the sample size is extremely large, but the number of predictors is small, I would expect that a more flexible model will be much more likely to overfit to the large number of samples (i.e. over-fitting a classification around a point of one class that is surrounded by points of another class) and therefore perform worse than an inflexible model.\n",
    "2. If the number of predictors is extremely large, and the number of observations is small, then a more flexible model will be more likely to overfit to the small number of observations, and there is more likely to be a noise from predictors that may not be statistically significant (i.e. connecting three points into a curve when it is actually a linear relationship), and therefore a more flexible model would likely perform worse than an inflexible model.\n",
    "3. If the relationship between the predictors and the response is highly non-linear than a more flexible model will likely perform better than an inflexible model, because an inflexible model will not be able to account for the non-linearity.\n",
    "4. If the variance of the error terms is extremely high, then an inflexible model will seek to account for that variance, even if there is simply a lot of noise in the data than cannot be accounted for; therefore, a more flexible model will likely perform worse than an inflexible model."
   ]
  },
  {
   "attachments": {},
   "cell_type": "markdown",
   "metadata": {},
   "source": [
    "---\n",
    "\n",
    "## 2\n",
    "**[6 points]** For each of the following, (i) explain if each scenario is a classification or regression problem AND why, (ii) indicate whether we are most interested in inference or prediction for that problem AND why, and (iii) provide the sample size $n$ and number of predictors $p$ indicated for each scenario.\n",
    "\n",
    "**(a)** We collect a set of data on the top 500 firms in the US. For each firm we record profit, number of employees, industry and the CEO salary. We are interested in understanding which factors affect CEO salary.\n",
    "\n",
    "**(b)** We are considering launching a new product and wish to know whether it will be a success or a failure. We collect data on 20 similar products that were previously launched. For each product we have recorded whether it was a success or failure, price charged for the product, marketing budget, competition price, and ten other variables.\n",
    "\n",
    "**(c)** We are interesting in predicting the % change in the US dollar in relation to the weekly changes in the world stock markets. Hence we collect weekly data for all of 2012. For each week we record the % change in the dollar, the % change in the US market, the % change in the British market, and the % change in the German market."
   ]
  },
  {
   "cell_type": "markdown",
   "metadata": {},
   "source": [
    "**ANSWER**\n"
   ]
  },
  {
   "attachments": {},
   "cell_type": "markdown",
   "metadata": {},
   "source": [
    "**(a)** To understand which factors affect CEO salary, a regression would be required because the CEO salary is a continuous variable.  In this scenario, we would be most interested in inference, since we are trying to understand the factors that affect it, and not interested in predicting the actual salary itself.  In this scenario, the sample size is the 500 firms, and the predictors are profit, number of employees, and industry (3 predictors)."
   ]
  },
  {
   "attachments": {},
   "cell_type": "markdown",
   "metadata": {},
   "source": [
    "**(b)** To understand whether a new product launch will be a success or a failure, we will need a classification problem, because the output is being classified as a binary output: success or failure.  In this scenario, we would be most interested in prediction, because we want to know what will be the outcome of the product which has not launched yet.  In this scenario, the sample size is the 20 similar products, and the predictors are the price charged, marketing budget, competition price, and ten other variables (13 predictors in total)."
   ]
  },
  {
   "attachments": {},
   "cell_type": "markdown",
   "metadata": {},
   "source": [
    "**(c)** To predict the % change in the US dollar, we will need a regression, because the percent change is a continuous variable.  In this scneario, we would be most interested in prediction, because we are trying to predict the % change in the US dollar in the future.  In this scenario, the sample size is the 52 weeks of weekly data, and the predictors are the % change in the US market, % change in the British market, % change in the German market (3 predictors)."
   ]
  },
  {
   "attachments": {},
   "cell_type": "markdown",
   "metadata": {},
   "source": [
    "---\n",
    "\n",
    "# Practical Questions"
   ]
  },
  {
   "cell_type": "markdown",
   "metadata": {},
   "source": [
    "## 3\n",
    "**[6 points] Classification using KNN**. The table below provides a training dataset containing six observations (a.k.a. samples) ($n=6$) each with three predictors (a.k.a. features) ($p=3$), and one qualitative response variable (a.k.a. target).\n",
    "\n",
    "*Table 1. Training dataset with $n=6$ observations in $p=3$ dimensions with a categorical response, $y$*\n",
    "\n",
    "| Obs. | $x_1$ | $x_2$ | $x_3$ | $y$   |\n",
    "|------|-------|-------|-------|-------|\n",
    "| **1**| 0     | 3     | 0     | Red   |\n",
    "| **2**| 2     | 0     | 0     | Red   |\n",
    "| **3**| 0     | 1     | 3     | Red   |\n",
    "| **4**| 0     | 1     | 2     | Blue  |\n",
    "| **5**| -1    | 0     | 1     | Blue  |\n",
    "| **6**| 1     | 1     | 1     | Red   |\n",
    "\n",
    "We want to use the above training dataset to make a prediction, $\\hat{y}$, for an unlabeled test data observation where $x_1=x_2=x_3=0$ using $K$-nearest neighbors. You are given some code below to get you started. *Note: coding is only required for part (a), for (b)-(d) please provide your reasoning based on your answer to part (a)*.\n",
    "\n",
    "**(a)** Compute the Euclidean distance between each observation and the test point, $x_1=x_2=x_3=0$. Present your answer in a table similar in style to Table 1 with observations 1-6 as the row headers.\n",
    "\n",
    "**(b)** What is our prediction, $\\hat{y}$, when $K=1$ for the test point? Why?\n",
    "\n",
    "**(c)** What is our prediction, $\\hat{y}$, when $K=3$ for the test point? Why?\n",
    "\n",
    "**(d)** If the Bayes decision boundary (the optimal decision boundary) in this problem is highly nonlinear, then would we expect the *best* value of $K$ to be large or small? Why?"
   ]
  },
  {
   "cell_type": "code",
   "execution_count": 2,
   "metadata": {},
   "outputs": [],
   "source": [
    "import numpy as np\n",
    "\n",
    "X = np.array([[ 0, 3, 0],\n",
    "              [ 2, 0, 0],\n",
    "              [ 0, 1, 3],\n",
    "              [ 0, 1, 2],\n",
    "              [-1, 0, 1],\n",
    "              [ 1, 1, 1]])\n",
    "y = np.array(['r','r','r','b','b','r'])"
   ]
  },
  {
   "cell_type": "markdown",
   "metadata": {},
   "source": [
    "**ANSWER**:"
   ]
  },
  {
   "attachments": {},
   "cell_type": "markdown",
   "metadata": {},
   "source": [
    "**(a)** Below is a table showing the Euclidean distances for each observation along with its y-value."
   ]
  },
  {
   "cell_type": "code",
   "execution_count": 3,
   "metadata": {},
   "outputs": [],
   "source": [
    "%%capture --no-stdout \n",
    "import pandas as pd\n",
    "test = np.array([[0, 0, 0]])\n",
    "obs = np.arange(1, 7)\n",
    "distances = np.diagonal(np.matmul((X - test), (X - test).T))\n",
    "table = pd.DataFrame(np.vstack((obs, distances, y)).T, columns=[\n",
    "                     'Observations', 'Distances', 'y']).set_index('Observations').replace({'r': 'Red', 'b': 'Blue'})\n",
    "table.loc[:, 'Distances'] = table.loc[:, 'Distances'].astype('int')"
   ]
  },
  {
   "cell_type": "code",
   "execution_count": 4,
   "metadata": {},
   "outputs": [
    {
     "data": {
      "text/html": [
       "<div>\n",
       "<style scoped>\n",
       "    .dataframe tbody tr th:only-of-type {\n",
       "        vertical-align: middle;\n",
       "    }\n",
       "\n",
       "    .dataframe tbody tr th {\n",
       "        vertical-align: top;\n",
       "    }\n",
       "\n",
       "    .dataframe thead th {\n",
       "        text-align: right;\n",
       "    }\n",
       "</style>\n",
       "<table border=\"1\" class=\"dataframe\">\n",
       "  <thead>\n",
       "    <tr style=\"text-align: right;\">\n",
       "      <th></th>\n",
       "      <th>Distances</th>\n",
       "      <th>y</th>\n",
       "    </tr>\n",
       "    <tr>\n",
       "      <th>Observations</th>\n",
       "      <th></th>\n",
       "      <th></th>\n",
       "    </tr>\n",
       "  </thead>\n",
       "  <tbody>\n",
       "    <tr>\n",
       "      <th>1</th>\n",
       "      <td>9</td>\n",
       "      <td>Red</td>\n",
       "    </tr>\n",
       "    <tr>\n",
       "      <th>2</th>\n",
       "      <td>4</td>\n",
       "      <td>Red</td>\n",
       "    </tr>\n",
       "    <tr>\n",
       "      <th>3</th>\n",
       "      <td>10</td>\n",
       "      <td>Red</td>\n",
       "    </tr>\n",
       "    <tr>\n",
       "      <th>4</th>\n",
       "      <td>5</td>\n",
       "      <td>Blue</td>\n",
       "    </tr>\n",
       "    <tr>\n",
       "      <th>5</th>\n",
       "      <td>2</td>\n",
       "      <td>Blue</td>\n",
       "    </tr>\n",
       "    <tr>\n",
       "      <th>6</th>\n",
       "      <td>3</td>\n",
       "      <td>Red</td>\n",
       "    </tr>\n",
       "  </tbody>\n",
       "</table>\n",
       "</div>"
      ],
      "text/plain": [
       "              Distances     y\n",
       "Observations                 \n",
       "1                     9   Red\n",
       "2                     4   Red\n",
       "3                    10   Red\n",
       "4                     5  Blue\n",
       "5                     2  Blue\n",
       "6                     3   Red"
      ]
     },
     "execution_count": 4,
     "metadata": {},
     "output_type": "execute_result"
    }
   ],
   "source": [
    "table"
   ]
  },
  {
   "attachments": {},
   "cell_type": "markdown",
   "metadata": {},
   "source": [
    "**(b)**"
   ]
  },
  {
   "cell_type": "code",
   "execution_count": 5,
   "metadata": {},
   "outputs": [
    {
     "name": "stdout",
     "output_type": "stream",
     "text": [
      "The KNN prediction for the test point when K = 1 is Blue.\n"
     ]
    }
   ],
   "source": [
    "print(f\"The KNN prediction for the test point when K = 1 is {table.loc[table.loc[:, 'Distances'] == table.loc[:, 'Distances'].min(), 'y'].values[0]}.\")"
   ]
  },
  {
   "attachments": {},
   "cell_type": "markdown",
   "metadata": {},
   "source": [
    "**(c)**"
   ]
  },
  {
   "cell_type": "code",
   "execution_count": 6,
   "metadata": {},
   "outputs": [
    {
     "name": "stdout",
     "output_type": "stream",
     "text": [
      "The KNN prediction for the test point when K = 3 is Red.\n"
     ]
    }
   ],
   "source": [
    "print(\n",
    "    f\"The KNN prediction for the test point when K = 3 is {table.sort_values('Distances').iloc[:3].loc[:, 'y'].value_counts().loc[table.sort_values('Distances').iloc[:3].loc[:, 'y'].value_counts() == table.sort_values('Distances').iloc[:3].loc[:, 'y'].value_counts().max()].index.values[0]}.\")\n"
   ]
  },
  {
   "attachments": {},
   "cell_type": "markdown",
   "metadata": {},
   "source": [
    "**(d)** If the Bayes decision boundary is highly non-linear, we would expect the best value of K to be small."
   ]
  },
  {
   "attachments": {},
   "cell_type": "markdown",
   "metadata": {},
   "source": [
    "---\n",
    "\n",
    "## 4\n",
    "**[18 points] Build your own classification algorithm**.\n",
    "\n",
    "**(a)** Build a working version of a binary KNN classifier using the skeleton code below. We'll use the `sklearn` convention that a supervised learning algorithm has the methods `fit` which trains your algorithm (for KNN that means storing the data) and `predict` which identifies the K nearest neighbors and determines the most common class among those K neighbors. *Note: Most classification algorithms typically also have a method `predict_proba` which outputs the confidence score of each prediction, but we will explore that in a later assignment.*\n",
    "\n",
    "**(b)** Load the datasets to be evaluated here. Each includes training features ($\\mathbf{X}$), and test features ($\\mathbf{y}$) for both a low dimensional dataset ($p = 2$ features/predictors) and a higher dimensional dataset ($p = 100$ features/predictors). For each of these datasets there are $n=1000$ observations of each. They can be found in the `data` subfolder in the `assignments` folder on github. Each file is labeled similar to `A2_X_train_low.csv`, which lets you know whether the dataset is of features, $X$, targets, $y$; training or testing; and low or high dimensions.\n",
    "\n",
    "**(c)** Train your classifier on first the low dimensional dataset and then the high dimensional dataset with $k=5$. Evaluate the classification performance on the corresponding test data for each of those trained models. Calculate the time it takes each model to make the predictions and the overall accuracy of those predictions for each corresponding set of test data - state each.\n",
    "\n",
    "**(d)** Compare your implementation's accuracy and computation time to the scikit learn [KNeighborsClassifier](http://scikit-learn.org/stable/modules/generated/sklearn.neighbors.KNeighborsClassifier.html) class. How do the results and speed compare to your implementation?\n",
    "\n",
    "**(e)** Some supervised learning algorithms are more computationally intensive during training than testing. What are the drawbacks of the prediction process being slow? In what cases in practice might slow testing (inference) be more problematic than slow training?"
   ]
  },
  {
   "cell_type": "code",
   "execution_count": 7,
   "metadata": {},
   "outputs": [],
   "source": [
    "# # Skeleton code for part (a) to write your own kNN classifier\n",
    "\n",
    "# class Knn:\n",
    "# # k-Nearest Neighbor class object for classification training and testing\n",
    "#     def __init__(self):\n",
    "        \n",
    "#     def fit(self, x, y):\n",
    "#         # Save the training data to properties of this class\n",
    "        \n",
    "#     def predict(self, x, k):\n",
    "#         y_hat = [] # Variable to store the estimated class label for \n",
    "#         # Calculate the distance from each vector in x to the training data\n",
    "        \n",
    "#         # Return the estimated targets\n",
    "#         return y_hat\n",
    "\n",
    "# # Metric of overall classification accuracy\n",
    "# #  (a more general function, sklearn.metrics.accuracy_score, is also available)\n",
    "# def accuracy(y,y_hat):\n",
    "#     nvalues = len(y)\n",
    "#     accuracy = sum(y == y_hat) / nvalues\n",
    "#     return accuracy"
   ]
  },
  {
   "cell_type": "markdown",
   "metadata": {},
   "source": [
    "**ANSWER**:"
   ]
  },
  {
   "attachments": {},
   "cell_type": "markdown",
   "metadata": {},
   "source": [
    "**(a)** Below is the code for my KNN classifier."
   ]
  },
  {
   "cell_type": "code",
   "execution_count": 8,
   "metadata": {},
   "outputs": [],
   "source": [
    "class Knn:\n",
    "# k-Nearest Neighbor class object for classification training and testing\n",
    "    def __init__(self):\n",
    "        self.X = []\n",
    "        self.Y = []\n",
    "\n",
    "    def fit(self, x, y):\n",
    "        self.X = x\n",
    "        self.Y = y\n",
    "        \n",
    "    def predict(self, x, k):\n",
    "        y_hat = [] # Variable to store the estimated class label for \n",
    "        # Calculate the distance from each vector in x to the training data\n",
    "        X_3d = np.stack(x.shape[0] * [self.X.to_numpy()])\n",
    "        x_3d = np.transpose(np.stack(self.X.shape[0] * [x.to_numpy()]), axes = [1, 0, 2])\n",
    "        distances = pd.DataFrame(np.hstack((np.sum(np.multiply((X_3d - x_3d), (X_3d - x_3d)), axis = 2).T, self.Y)))\n",
    "        y_hat = np.asarray([distances.sort_values(i).iloc[:k, -1].value_counts().loc[distances.sort_values(i).iloc[:k, -1].value_counts() == distances.sort_values(i).iloc[:k, -1].value_counts().max()].index.values[0] for i in range(x.shape[0])])\n",
    "        \n",
    "        # Return the estimated targets\n",
    "        return y_hat\n",
    "\n",
    "# Metric of overall classification accuracy\n",
    "#  (a more general function, sklearn.metrics.accuracy_score, is also available)\n",
    "def accuracy(y, y_hat):\n",
    "    nvalues = len(y)\n",
    "    accuracy = sum(y == y_hat) / nvalues\n",
    "    return accuracy"
   ]
  },
  {
   "attachments": {},
   "cell_type": "markdown",
   "metadata": {},
   "source": [
    "**(b)** Loading datasets"
   ]
  },
  {
   "cell_type": "code",
   "execution_count": 9,
   "metadata": {},
   "outputs": [],
   "source": [
    "A2_X_test_high = pd.read_csv('data/A2_X_test_high.csv')\n",
    "A2_X_test_low = pd.read_csv('data/A2_X_test_low.csv')\n",
    "A2_X_train_high = pd.read_csv('data/A2_X_train_high.csv')\n",
    "A2_X_train_low = pd.read_csv('data/A2_X_train_low.csv')\n",
    "A2_y_test_high = pd.read_csv('data/A2_y_test_high.csv')\n",
    "A2_y_test_low = pd.read_csv('data/A2_y_test_low.csv')\n",
    "A2_y_train_high = pd.read_csv('data/A2_y_train_high.csv')\n",
    "A2_y_train_low = pd.read_csv('data/A2_y_train_low.csv')"
   ]
  },
  {
   "attachments": {},
   "cell_type": "markdown",
   "metadata": {},
   "source": [
    "**(c)** Classifier Training"
   ]
  },
  {
   "cell_type": "code",
   "execution_count": 10,
   "metadata": {},
   "outputs": [
    {
     "ename": "NameError",
     "evalue": "name 'low_predictions' is not defined",
     "output_type": "error",
     "traceback": [
      "\u001b[0;31m---------------------------------------------------------------------------\u001b[0m",
      "\u001b[0;31mNameError\u001b[0m                                 Traceback (most recent call last)",
      "Cell \u001b[0;32mIn[10], line 8\u001b[0m\n\u001b[1;32m      6\u001b[0m low_classifier_time \u001b[39m=\u001b[39m get_ipython()\u001b[39m.\u001b[39mrun_line_magic(\u001b[39m'\u001b[39m\u001b[39mtimeit\u001b[39m\u001b[39m'\u001b[39m, \u001b[39m'\u001b[39m\u001b[39m-o -q low_predictions = low_classifier.predict(A2_X_test_low, k)\u001b[39m\u001b[39m'\u001b[39m)\n\u001b[1;32m      7\u001b[0m high_classifier_time \u001b[39m=\u001b[39m get_ipython()\u001b[39m.\u001b[39mrun_line_magic(\u001b[39m'\u001b[39m\u001b[39mtimeit\u001b[39m\u001b[39m'\u001b[39m, \u001b[39m'\u001b[39m\u001b[39m-o -q high_predictions = high_classifier.predict(A2_X_test_high, k)\u001b[39m\u001b[39m'\u001b[39m)\n\u001b[0;32m----> 8\u001b[0m low_classifier_accuracy \u001b[39m=\u001b[39m accuracy(A2_y_test_low\u001b[39m.\u001b[39mto_numpy()[:, \u001b[39m0\u001b[39m], low_predictions)\n\u001b[1;32m      9\u001b[0m high_classifier_accuracy \u001b[39m=\u001b[39m accuracy(A2_y_test_high\u001b[39m.\u001b[39mto_numpy()[:, \u001b[39m0\u001b[39m], high_predictions)\n\u001b[1;32m     10\u001b[0m \u001b[39mprint\u001b[39m(\u001b[39mf\u001b[39m\u001b[39m\"\u001b[39m\u001b[39mThe KNN classifier took \u001b[39m\u001b[39m{\u001b[39;00mlow_classifier_time\u001b[39m.\u001b[39maverage\u001b[39m:\u001b[39;00m\u001b[39m .2f\u001b[39m\u001b[39m}\u001b[39;00m\u001b[39m seconds to predict the values in the small dataset, and had \u001b[39m\u001b[39m{\u001b[39;00mlow_classifier_accuracy\u001b[39m \u001b[39m\u001b[39m*\u001b[39m\u001b[39m \u001b[39m\u001b[39m100\u001b[39m\u001b[39m:\u001b[39;00m\u001b[39m .2f\u001b[39m\u001b[39m}\u001b[39;00m\u001b[39m % accuracy.\u001b[39m\u001b[39m\"\u001b[39m)\n",
      "\u001b[0;31mNameError\u001b[0m: name 'low_predictions' is not defined"
     ]
    }
   ],
   "source": [
    "low_classifier = Knn()\n",
    "high_classifier = Knn()\n",
    "k = 5\n",
    "low_classifier.fit(A2_X_train_low, A2_y_train_low)\n",
    "high_classifier.fit(A2_X_train_high, A2_y_train_high)\n",
    "low_classifier_time = %timeit -o -q low_predictions = low_classifier.predict(A2_X_test_low, k)\n",
    "high_classifier_time = %timeit -o -q high_predictions = high_classifier.predict(A2_X_test_high, k)\n",
    "low_classifier_accuracy = accuracy(A2_y_test_low.to_numpy()[:, 0], low_predictions)\n",
    "high_classifier_accuracy = accuracy(A2_y_test_high.to_numpy()[:, 0], high_predictions)\n",
    "print(f\"The KNN classifier took {low_classifier_time.average: .2f} seconds to predict the values in the small dataset, and had {low_classifier_accuracy * 100: .2f} % accuracy.\")\n",
    "print(f\"The KNN classifier took {high_classifier_time.average: .2f} seconds to predict the values in the large dataset, and had {high_classifier_accuracy * 100: .2f} % accuracy.\")\n"
   ]
  },
  {
   "attachments": {},
   "cell_type": "markdown",
   "metadata": {},
   "source": [
    "**(d)** Comparing Sci-Kit Learn"
   ]
  },
  {
   "cell_type": "code",
   "execution_count": 11,
   "metadata": {},
   "outputs": [
    {
     "name": "stdout",
     "output_type": "stream",
     "text": [
      "(999, 2) (999, 1)\n",
      "The Scikit-Learn KNN classifier took  0.02 seconds to predict the values in the small dataset, and had  92.49 % accuracy.\n",
      "The Scikit-Learn KNN classifier took  0.03 seconds to predict the values in the large dataset, and had  99.30 % accuracy.\n"
     ]
    }
   ],
   "source": [
    "%%capture --no-stdout\n",
    "from sklearn.neighbors import KNeighborsClassifier\n",
    "\n",
    "scikit_low_classifier = KNeighborsClassifier(n_neighbors = k)\n",
    "scikit_high_classifier = KNeighborsClassifier(n_neighbors = k)\n",
    "print(A2_X_train_low.to_numpy().shape, A2_y_train_low.to_numpy().shape)\n",
    "scikit_low_classifier.fit(A2_X_train_low.to_numpy(), A2_y_train_low.to_numpy())\n",
    "scikit_high_classifier.fit(A2_X_train_high.to_numpy(), A2_y_train_high.to_numpy())\n",
    "scikit_low_classifier_time = %timeit -o -q scikit_low_predictions = scikit_low_classifier.predict(A2_X_test_low.to_numpy())\n",
    "scikit_high_classifier_time = %timeit -o -q scikit_high_predictions = scikit_high_classifier.predict(A2_X_test_high.to_numpy())\n",
    "scikit_low_classifier_accuracy = scikit_low_classifier.score(A2_X_test_low, A2_y_test_low)\n",
    "scikit_high_classifier_accuracy = scikit_high_classifier.score(A2_X_test_high, A2_y_test_high)\n",
    "print(f\"The Scikit-Learn KNN classifier took {scikit_low_classifier_time.average: .2f} seconds to predict the values in the small dataset, and had {scikit_low_classifier_accuracy * 100: .2f} % accuracy.\")\n",
    "print(f\"The Scikit-Learn KNN classifier took {scikit_high_classifier_time.average: .2f} seconds to predict the values in the large dataset, and had {scikit_high_classifier_accuracy * 100: .2f} % accuracy.\")\n"
   ]
  },
  {
   "attachments": {},
   "cell_type": "markdown",
   "metadata": {},
   "source": [
    "**(e)** Computational Intensity"
   ]
  },
  {
   "attachments": {},
   "cell_type": "markdown",
   "metadata": {},
   "source": [
    "The drawbacks of the prediction process being slow, is that the prediction process is what you are likely using if you are implementing your model in a development environment.  In this scenario, you do not want to slow down a customer or a process that relies on a model being able to predict quickly.  In algorithmic trading of the stock market, trades can take place on the order of milliseconds, and if the model takes excessive time to predict, the opportunity might be lost by the time the model completes its predictions.  \n",
    "\n",
    "Slow testing would be problematic, when the testing is computationally intensive compared to the training, for example in a cross validation situation, where many sections of the dataset are tested, slow testing could compound the validation timeline and slow down the whole process of developing a model."
   ]
  },
  {
   "attachments": {},
   "cell_type": "markdown",
   "metadata": {},
   "source": [
    "---\n",
    "\n",
    "## 5\n",
    "**[20 points] Bias-variance tradeoff: exploring the tradeoff with a KNN classifier**. This exercise will illustrate the impact of the bias-variance tradeoff on classifier performance by investigating how model flexibility impacts classifier decision boundaries. For this problem, please us Scikit-learn's KNN implementation rather than your own implementation, as you did at the end of the last question.\n",
    "\n",
    "**(a)** Create a synthetic dataset (with both features and targets). Use the [`make_moons`](http://scikit-learn.org/stable/modules/generated/sklearn.datasets.make_moons.html#sklearn.datasets.make_moons) module with the parameter `noise=0.35` to generate 1000 random samples.\n",
    "\n",
    "**(b)** Visualize your data: scatterplot your random samples with each class in a different color.\n",
    "\n",
    "**(c)** Create 3 different data subsets by selecting 100 of the 1000 data points at random three times (with replacement). For each of these 100-sample datasets, fit three separate k-Nearest Neighbor classifiers with: $k = \\{1, 25, 50\\}$. This will result in 9 combinations (3 datasets, each with 3 trained classifiers).\n",
    "\n",
    "**(d)** For each combination of dataset and trained classifier plot the decision boundary (similar in style to Figure 2.15 from *Introduction to Statistical Learning*). This should form a 3-by-3 grid. Each column should represent a different value of $k$ and each row should represent a different dataset. \n",
    "\n",
    "**(e)** What do you notice about the difference between the rows and the columns. Which decision boundaries appear to best separate the two classes of data? Which decision boundaries vary the most as the data change?\n",
    "\n",
    "**(f)** Explain the bias-variance tradeoff using the example of the plots you made in this exercise and its implications for training supervised machine learning algorithms.\n",
    "\n",
    "Notes and tips for plotting decision boundaries (as in part d):\n",
    "- *Resource for plotting decision boundaries with meshgrid and contour: https://scikit-learn.org/stable/auto_examples/neighbors/plot_classification.html*\n",
    "- If you would like to change the colors of the background, and do not like any of the existing cmap available in matplotlib, you can make your own cmap using the 2 sets of rgb values. Sample code (replace r, g, b with respective rgb values):"
   ]
  },
  {
   "cell_type": "code",
   "execution_count": null,
   "metadata": {},
   "outputs": [
    {
     "ename": "NameError",
     "evalue": "name 'r' is not defined",
     "output_type": "error",
     "traceback": [
      "\u001b[0;31m---------------------------------------------------------------------------\u001b[0m",
      "\u001b[0;31mNameError\u001b[0m                                 Traceback (most recent call last)",
      "Cell \u001b[0;32mIn[13], line 2\u001b[0m\n\u001b[1;32m      1\u001b[0m \u001b[39mfrom\u001b[39;00m \u001b[39mmatplotlib\u001b[39;00m\u001b[39m.\u001b[39;00m\u001b[39mcolors\u001b[39;00m \u001b[39mimport\u001b[39;00m LinearSegmentedColormap\n\u001b[0;32m----> 2\u001b[0m newcmp \u001b[39m=\u001b[39m LinearSegmentedColormap\u001b[39m.\u001b[39mfrom_list(\u001b[39m\"\u001b[39m\u001b[39mnew\u001b[39m\u001b[39m\"\u001b[39m, [(r\u001b[39m/\u001b[39m\u001b[39m255\u001b[39m, g\u001b[39m/\u001b[39m\u001b[39m255\u001b[39m, b\u001b[39m/\u001b[39m\u001b[39m255\u001b[39m), (r\u001b[39m/\u001b[39m\u001b[39m255\u001b[39m, g\u001b[39m/\u001b[39m\u001b[39m255\u001b[39m, b\u001b[39m/\u001b[39m\u001b[39m255\u001b[39m)], N\u001b[39m=\u001b[39m\u001b[39m2\u001b[39m)\n",
      "\u001b[0;31mNameError\u001b[0m: name 'r' is not defined"
     ]
    }
   ],
   "source": [
    "from matplotlib.colors import LinearSegmentedColormap\n",
    "newcmp = LinearSegmentedColormap.from_list(\"new\", [(r/255, g/255, b/255), (r/255, g/255, b/255)], N=2)"
   ]
  },
  {
   "cell_type": "markdown",
   "metadata": {},
   "source": [
    "**ANSWER**"
   ]
  },
  {
   "attachments": {},
   "cell_type": "markdown",
   "metadata": {},
   "source": [
    "**(a)** Creating a Synthetic Dataset"
   ]
  },
  {
   "cell_type": "code",
   "execution_count": 12,
   "metadata": {},
   "outputs": [],
   "source": [
    "from sklearn.datasets import make_moons\n",
    "\n",
    "X_data, Y_data = make_moons(n_samples = 1000, noise = .35)"
   ]
  },
  {
   "attachments": {},
   "cell_type": "markdown",
   "metadata": {},
   "source": [
    "**(b)** Visualizing Data"
   ]
  },
  {
   "cell_type": "code",
   "execution_count": null,
   "metadata": {},
   "outputs": [
    {
     "data": {
      "text/html": [
       "\n",
       "<div id=\"altair-viz-80f80377e886455b90f2487700cca7be\"></div>\n",
       "<script type=\"text/javascript\">\n",
       "  var VEGA_DEBUG = (typeof VEGA_DEBUG == \"undefined\") ? {} : VEGA_DEBUG;\n",
       "  (function(spec, embedOpt){\n",
       "    let outputDiv = document.currentScript.previousElementSibling;\n",
       "    if (outputDiv.id !== \"altair-viz-80f80377e886455b90f2487700cca7be\") {\n",
       "      outputDiv = document.getElementById(\"altair-viz-80f80377e886455b90f2487700cca7be\");\n",
       "    }\n",
       "    const paths = {\n",
       "      \"vega\": \"https://cdn.jsdelivr.net/npm//vega@5?noext\",\n",
       "      \"vega-lib\": \"https://cdn.jsdelivr.net/npm//vega-lib?noext\",\n",
       "      \"vega-lite\": \"https://cdn.jsdelivr.net/npm//vega-lite@4.17.0?noext\",\n",
       "      \"vega-embed\": \"https://cdn.jsdelivr.net/npm//vega-embed@6?noext\",\n",
       "    };\n",
       "\n",
       "    function maybeLoadScript(lib, version) {\n",
       "      var key = `${lib.replace(\"-\", \"\")}_version`;\n",
       "      return (VEGA_DEBUG[key] == version) ?\n",
       "        Promise.resolve(paths[lib]) :\n",
       "        new Promise(function(resolve, reject) {\n",
       "          var s = document.createElement('script');\n",
       "          document.getElementsByTagName(\"head\")[0].appendChild(s);\n",
       "          s.async = true;\n",
       "          s.onload = () => {\n",
       "            VEGA_DEBUG[key] = version;\n",
       "            return resolve(paths[lib]);\n",
       "          };\n",
       "          s.onerror = () => reject(`Error loading script: ${paths[lib]}`);\n",
       "          s.src = paths[lib];\n",
       "        });\n",
       "    }\n",
       "\n",
       "    function showError(err) {\n",
       "      outputDiv.innerHTML = `<div class=\"error\" style=\"color:red;\">${err}</div>`;\n",
       "      throw err;\n",
       "    }\n",
       "\n",
       "    function displayChart(vegaEmbed) {\n",
       "      vegaEmbed(outputDiv, spec, embedOpt)\n",
       "        .catch(err => showError(`Javascript Error: ${err.message}<br>This usually means there's a typo in your chart specification. See the javascript console for the full traceback.`));\n",
       "    }\n",
       "\n",
       "    if(typeof define === \"function\" && define.amd) {\n",
       "      requirejs.config({paths});\n",
       "      require([\"vega-embed\"], displayChart, err => showError(`Error loading script: ${err.message}`));\n",
       "    } else {\n",
       "      maybeLoadScript(\"vega\", \"5\")\n",
       "        .then(() => maybeLoadScript(\"vega-lite\", \"4.17.0\"))\n",
       "        .then(() => maybeLoadScript(\"vega-embed\", \"6\"))\n",
       "        .catch(showError)\n",
       "        .then(() => displayChart(vegaEmbed));\n",
       "    }\n",
       "  })({\"config\": {\"view\": {\"continuousWidth\": 400, \"continuousHeight\": 300}}, \"data\": {\"name\": \"data-4b1e7cf100ee0ea2a7d6000534c9f4cb\"}, \"mark\": \"point\", \"encoding\": {\"color\": {\"field\": \"y\", \"scale\": {\"domain\": [0.0, 1.0], \"range\": [\"red\", \"blue\"]}, \"type\": \"quantitative\"}, \"x\": {\"field\": \"x1\", \"type\": \"quantitative\"}, \"y\": {\"field\": \"x2\", \"type\": \"quantitative\"}}, \"$schema\": \"https://vega.github.io/schema/vega-lite/v4.17.0.json\", \"datasets\": {\"data-4b1e7cf100ee0ea2a7d6000534c9f4cb\": [{\"x1\": 0.44807724801753546, \"x2\": 0.7195700977166333, \"y\": 0}, {\"x1\": 0.6623670041965064, \"x2\": -0.4162178829476094, \"y\": 1}, {\"x1\": -1.2260436009406597, \"x2\": 1.0098454478094914, \"y\": 0}, {\"x1\": 0.5272872540304863, \"x2\": -0.5497031395617195, \"y\": 1}, {\"x1\": 0.7572277378683882, \"x2\": -0.5519837766777117, \"y\": 1}, {\"x1\": -0.5129194007594899, \"x2\": 1.2221380564925144, \"y\": 0}, {\"x1\": -0.3259004189253969, \"x2\": 0.10127313500042645, \"y\": 0}, {\"x1\": 1.8291463369581655, \"x2\": 0.25317139297687297, \"y\": 1}, {\"x1\": 0.6512033400540147, \"x2\": 0.6755891933916285, \"y\": 0}, {\"x1\": 0.2894743403394483, \"x2\": 0.300832996418503, \"y\": 0}, {\"x1\": 1.3442777097262382, \"x2\": -0.015714413570396824, \"y\": 1}, {\"x1\": 0.575160034794582, \"x2\": -0.3056215104069464, \"y\": 1}, {\"x1\": -0.06118959755206299, \"x2\": 1.1342703674390182, \"y\": 0}, {\"x1\": -0.9281792846455781, \"x2\": 0.2902989585733157, \"y\": 0}, {\"x1\": 0.9687104800004896, \"x2\": -0.3258429946634397, \"y\": 1}, {\"x1\": 1.6504973185027407, \"x2\": 0.5273819095013821, \"y\": 1}, {\"x1\": 0.7871840969756877, \"x2\": 1.3849269980828545, \"y\": 0}, {\"x1\": 0.13194048468532238, \"x2\": 0.5831559414738765, \"y\": 0}, {\"x1\": 1.3905569758390806, \"x2\": -0.18665276509463197, \"y\": 1}, {\"x1\": -1.029260374774016, \"x2\": 0.14958075397263795, \"y\": 0}, {\"x1\": 1.5022234511692665, \"x2\": -0.1591128679378026, \"y\": 0}, {\"x1\": 0.6400606856880445, \"x2\": 0.12220473278249652, \"y\": 1}, {\"x1\": 0.7366987857667687, \"x2\": -0.7743229861744487, \"y\": 1}, {\"x1\": 0.6802023177480946, \"x2\": -0.4078324650372027, \"y\": 1}, {\"x1\": -0.14861891457048967, \"x2\": -0.25911686558421454, \"y\": 1}, {\"x1\": 1.046490122262956, \"x2\": 1.1589688107610585, \"y\": 0}, {\"x1\": 0.49234539236179586, \"x2\": -0.10257996242633743, \"y\": 1}, {\"x1\": -0.7093994144382723, \"x2\": 0.12310651717719412, \"y\": 0}, {\"x1\": 2.0861776602142035, \"x2\": 0.5995367447146515, \"y\": 1}, {\"x1\": 0.18974636683540969, \"x2\": 0.38983556154644816, \"y\": 0}, {\"x1\": 1.01976658741917, \"x2\": -0.42899461743588274, \"y\": 1}, {\"x1\": 0.9807591062960921, \"x2\": -0.08489752674995643, \"y\": 1}, {\"x1\": -1.0528723266629392, \"x2\": -0.13744379135204127, \"y\": 0}, {\"x1\": 1.3539101617444713, \"x2\": -0.31925273315985336, \"y\": 1}, {\"x1\": -0.633529581819021, \"x2\": 0.4862423363601386, \"y\": 1}, {\"x1\": 1.3915339832296802, \"x2\": 0.49285460154190386, \"y\": 1}, {\"x1\": -0.8976911496736563, \"x2\": -0.029139174327948936, \"y\": 0}, {\"x1\": 2.0018407620114447, \"x2\": 0.4172826383026838, \"y\": 1}, {\"x1\": -0.5600537418263241, \"x2\": 1.189343521299476, \"y\": 0}, {\"x1\": 0.41864282219327614, \"x2\": 0.6230545183868612, \"y\": 0}, {\"x1\": 0.7882663614320944, \"x2\": 1.0517741772168663, \"y\": 0}, {\"x1\": 2.04759231269397, \"x2\": 0.28188382211465, \"y\": 1}, {\"x1\": 1.8662730409911816, \"x2\": -0.6805558649309849, \"y\": 1}, {\"x1\": -0.16615903171887442, \"x2\": 1.5903000133501048, \"y\": 0}, {\"x1\": -0.4167091704745189, \"x2\": 0.8947866070068137, \"y\": 0}, {\"x1\": 0.6233720140463481, \"x2\": -0.3436179730588266, \"y\": 1}, {\"x1\": 0.47941644209515777, \"x2\": 1.4273773283881646, \"y\": 0}, {\"x1\": -0.23242987634094547, \"x2\": -0.10628612981374419, \"y\": 0}, {\"x1\": 1.6450407601676404, \"x2\": -0.10116600783622054, \"y\": 1}, {\"x1\": -0.6546160794314386, \"x2\": 0.1395546580764505, \"y\": 0}, {\"x1\": -0.34570957544821324, \"x2\": -0.11004096392553853, \"y\": 0}, {\"x1\": 2.082962915688489, \"x2\": 0.15712561772170197, \"y\": 1}, {\"x1\": -0.4458430278439891, \"x2\": -0.06424417976407612, \"y\": 1}, {\"x1\": 0.7619233861898697, \"x2\": 0.1452386683672478, \"y\": 0}, {\"x1\": -0.9371446873549858, \"x2\": 0.893602022924364, \"y\": 0}, {\"x1\": 1.0073407251561763, \"x2\": -0.09513095879405536, \"y\": 0}, {\"x1\": 0.06722927500526191, \"x2\": 0.6418807671168304, \"y\": 1}, {\"x1\": -0.24244612781993433, \"x2\": 0.861887651084159, \"y\": 0}, {\"x1\": 0.9072100272326948, \"x2\": -0.517621122521376, \"y\": 1}, {\"x1\": 1.0275690997319615, \"x2\": 0.479916692590698, \"y\": 0}, {\"x1\": -0.40798319897426016, \"x2\": -0.35839173230875054, \"y\": 1}, {\"x1\": -0.22596989354833322, \"x2\": 0.6436519604373284, \"y\": 0}, {\"x1\": 2.4391328057679127, \"x2\": 1.0082430503447, \"y\": 1}, {\"x1\": 1.2183695214348984, \"x2\": 0.018710199657234694, \"y\": 0}, {\"x1\": -0.4424050127539561, \"x2\": 0.8989374376415749, \"y\": 0}, {\"x1\": 2.028836022868249, \"x2\": 0.7183799365662902, \"y\": 1}, {\"x1\": 1.4121700368410928, \"x2\": -0.5448247795952041, \"y\": 1}, {\"x1\": 0.4996832585276984, \"x2\": 0.6916725281001559, \"y\": 0}, {\"x1\": -0.201284649579683, \"x2\": 0.23071866138782549, \"y\": 0}, {\"x1\": 0.7154307416697747, \"x2\": 0.34665402362254827, \"y\": 0}, {\"x1\": 1.8016067106864933, \"x2\": -0.2930171629133344, \"y\": 1}, {\"x1\": -0.11729752068912708, \"x2\": 0.8329582468895393, \"y\": 0}, {\"x1\": 1.5707759640615142, \"x2\": 0.41945883427925906, \"y\": 1}, {\"x1\": 2.1939016316302546, \"x2\": 0.07771119409276683, \"y\": 1}, {\"x1\": -1.2129740739919679, \"x2\": 0.31738986610272985, \"y\": 0}, {\"x1\": 0.30400565794300016, \"x2\": 1.103978525759931, \"y\": 0}, {\"x1\": 0.7044683692871843, \"x2\": -0.559032775048805, \"y\": 0}, {\"x1\": -0.026900293323638524, \"x2\": 0.36849241318731724, \"y\": 1}, {\"x1\": -0.8272438678613172, \"x2\": 0.9120400568409643, \"y\": 0}, {\"x1\": -0.7332961020370692, \"x2\": 0.37606542881988436, \"y\": 0}, {\"x1\": 1.3307965627381915, \"x2\": -0.18277163073814223, \"y\": 0}, {\"x1\": 0.45068331301382436, \"x2\": -0.6055650484145452, \"y\": 1}, {\"x1\": 1.2536940833765104, \"x2\": 0.12509252144491972, \"y\": 1}, {\"x1\": 0.6050880739211976, \"x2\": -0.705606649104207, \"y\": 1}, {\"x1\": 1.886969031788631, \"x2\": -0.893287349101236, \"y\": 1}, {\"x1\": 0.710064498502096, \"x2\": 0.22370733947629362, \"y\": 0}, {\"x1\": -0.8208929556502962, \"x2\": 0.723153045325299, \"y\": 0}, {\"x1\": 1.6543192496784196, \"x2\": 0.42505391841953444, \"y\": 1}, {\"x1\": 1.7516475737448247, \"x2\": -0.5577791639374088, \"y\": 1}, {\"x1\": 0.8941861700128041, \"x2\": 0.7162739799913076, \"y\": 0}, {\"x1\": -0.08459042917217763, \"x2\": 0.7970720125970472, \"y\": 0}, {\"x1\": 0.9370382295044375, \"x2\": 0.7544396188366554, \"y\": 0}, {\"x1\": 0.07898251946051066, \"x2\": 1.1783137376163622, \"y\": 0}, {\"x1\": -0.11687819996849758, \"x2\": 0.3143255809867977, \"y\": 1}, {\"x1\": -0.23969122877383087, \"x2\": 0.7150249717664883, \"y\": 0}, {\"x1\": 0.3713648935833572, \"x2\": 1.2116581181837165, \"y\": 0}, {\"x1\": 0.9134805994853273, \"x2\": 0.8345559991423704, \"y\": 0}, {\"x1\": -0.08151302784904194, \"x2\": -0.5750026788932133, \"y\": 1}, {\"x1\": -0.03666817621761759, \"x2\": -0.24595059401748015, \"y\": 1}, {\"x1\": 1.3475953665198148, \"x2\": 0.8342914571240245, \"y\": 0}, {\"x1\": -0.6015030964224246, \"x2\": 1.2766997430888707, \"y\": 0}, {\"x1\": -0.24971991178377084, \"x2\": 0.9229805093911858, \"y\": 0}, {\"x1\": -0.6878127225214308, \"x2\": 0.15673694311282993, \"y\": 1}, {\"x1\": -0.23913252916809172, \"x2\": 0.7279859412452937, \"y\": 0}, {\"x1\": 0.6224537416041449, \"x2\": -0.531143643903054, \"y\": 1}, {\"x1\": 0.07039146410633201, \"x2\": 0.23241037915470386, \"y\": 0}, {\"x1\": -0.2723584104551171, \"x2\": 0.2732634407768072, \"y\": 0}, {\"x1\": -0.24948757898438162, \"x2\": 0.8696116307201465, \"y\": 0}, {\"x1\": 1.5752819293341243, \"x2\": -0.0466385824700003, \"y\": 0}, {\"x1\": 0.7647541810243873, \"x2\": 0.8191865194237198, \"y\": 0}, {\"x1\": -0.47866260732320315, \"x2\": 1.0664549339830196, \"y\": 0}, {\"x1\": -0.12983775258414065, \"x2\": 0.22595652190781046, \"y\": 0}, {\"x1\": 0.6701539089561657, \"x2\": -0.30462615677748406, \"y\": 0}, {\"x1\": -0.4160309568422889, \"x2\": 0.41355090650186144, \"y\": 0}, {\"x1\": -0.3017862310518784, \"x2\": 0.06651210273826197, \"y\": 0}, {\"x1\": -1.1455691883466086, \"x2\": 0.277885878249927, \"y\": 0}, {\"x1\": 0.45407611281158344, \"x2\": 1.0173789285759636, \"y\": 0}, {\"x1\": -0.3731031726512861, \"x2\": 0.660520721127638, \"y\": 1}, {\"x1\": 0.5871715789340901, \"x2\": -0.04610435095949181, \"y\": 1}, {\"x1\": -0.14930258499033053, \"x2\": 0.5814638768426992, \"y\": 1}, {\"x1\": -0.12945028977770362, \"x2\": 0.13484559828177412, \"y\": 0}, {\"x1\": 0.7101827061689732, \"x2\": 0.6666328451161491, \"y\": 0}, {\"x1\": 0.35758417382583557, \"x2\": 1.0018631711806971, \"y\": 0}, {\"x1\": 1.9369760481727778, \"x2\": -0.07973505635692629, \"y\": 1}, {\"x1\": -0.3187397003855344, \"x2\": 0.8893105935878773, \"y\": 1}, {\"x1\": -0.09466809433568404, \"x2\": -0.26514869845046407, \"y\": 1}, {\"x1\": 0.8512124232977429, \"x2\": -0.60631192187825, \"y\": 1}, {\"x1\": 0.32615481828502024, \"x2\": -0.33169102633496883, \"y\": 1}, {\"x1\": -0.2234821560022358, \"x2\": 1.2330416857755793, \"y\": 0}, {\"x1\": -0.11897266265342782, \"x2\": -0.539654183031116, \"y\": 1}, {\"x1\": 0.4178272519647092, \"x2\": 0.8207696217389061, \"y\": 1}, {\"x1\": 0.9611424459912136, \"x2\": 0.31506695062565365, \"y\": 1}, {\"x1\": 0.5640808709944986, \"x2\": 0.21937176110386242, \"y\": 0}, {\"x1\": 1.0260612566626568, \"x2\": -0.18354999324935634, \"y\": 1}, {\"x1\": 0.8551387318389164, \"x2\": 0.6069696480461468, \"y\": 0}, {\"x1\": -1.0669616271876143, \"x2\": 0.9162683210276692, \"y\": 0}, {\"x1\": 0.0017211497924653832, \"x2\": 1.198685336187338, \"y\": 0}, {\"x1\": 0.484225314064745, \"x2\": 0.8653926653250957, \"y\": 0}, {\"x1\": 0.8395802183094461, \"x2\": -0.6165215528897602, \"y\": 1}, {\"x1\": -1.021692396061068, \"x2\": -0.24113726844930053, \"y\": 0}, {\"x1\": 0.6184001988985821, \"x2\": 0.10015276878860463, \"y\": 1}, {\"x1\": 0.6629271763961734, \"x2\": 0.570140250457597, \"y\": 0}, {\"x1\": 0.7646514402286769, \"x2\": -0.07818423403013591, \"y\": 1}, {\"x1\": 0.8833776083318741, \"x2\": -0.13233499462809556, \"y\": 0}, {\"x1\": 0.9483014931326441, \"x2\": -0.7627053121195193, \"y\": 1}, {\"x1\": -0.1406430411366849, \"x2\": -0.8255753445500147, \"y\": 1}, {\"x1\": -0.4986242241134148, \"x2\": 0.8169072654937217, \"y\": 0}, {\"x1\": 1.6178112078825428, \"x2\": -0.3676314627815606, \"y\": 1}, {\"x1\": 1.2956875206142802, \"x2\": -0.6763371458301772, \"y\": 1}, {\"x1\": 0.08109337308052239, \"x2\": 0.9804332499036935, \"y\": 0}, {\"x1\": 0.4395985575273196, \"x2\": 0.518357403667897, \"y\": 1}, {\"x1\": -0.7329621109937016, \"x2\": 0.5301198488037843, \"y\": 0}, {\"x1\": 1.3103772022930174, \"x2\": -0.3324936041246531, \"y\": 1}, {\"x1\": 0.9398954918827634, \"x2\": 0.2452542126899157, \"y\": 0}, {\"x1\": 1.536375739520831, \"x2\": -0.468279335879212, \"y\": 1}, {\"x1\": 0.4490503648356904, \"x2\": 0.014363237828651166, \"y\": 1}, {\"x1\": 0.261010059842957, \"x2\": 1.2035973684349974, \"y\": 0}, {\"x1\": -0.2129122341570567, \"x2\": 0.9596952360445875, \"y\": 0}, {\"x1\": -0.12276965498309192, \"x2\": 0.8281321151332091, \"y\": 0}, {\"x1\": 0.38153832598734244, \"x2\": 0.3122443282526736, \"y\": 0}, {\"x1\": 1.9196527491510136, \"x2\": 0.02491192519852259, \"y\": 1}, {\"x1\": -0.8853347508421124, \"x2\": 1.2113326180271051, \"y\": 0}, {\"x1\": 0.7001468884678501, \"x2\": 0.7250761168770672, \"y\": 0}, {\"x1\": 0.31904211195239635, \"x2\": 1.3133036269951037, \"y\": 0}, {\"x1\": 0.021033693552090747, \"x2\": 0.4855980106422463, \"y\": 1}, {\"x1\": -0.5364703950236462, \"x2\": -0.07607641091717643, \"y\": 0}, {\"x1\": 0.5157618973832528, \"x2\": 0.10460647327178385, \"y\": 1}, {\"x1\": 1.4069001151448477, \"x2\": -0.5728831000396032, \"y\": 1}, {\"x1\": -1.0023285374385924, \"x2\": 0.8457994361133843, \"y\": 0}, {\"x1\": 1.8868655259405462, \"x2\": -0.3362519988566124, \"y\": 1}, {\"x1\": 1.0264314146701046, \"x2\": 0.46187280701250394, \"y\": 0}, {\"x1\": 0.40636843288455377, \"x2\": -0.6288807005030153, \"y\": 1}, {\"x1\": -1.2196462096425922, \"x2\": -0.054187308847596954, \"y\": 0}, {\"x1\": -0.058855872327045644, \"x2\": 1.1790174641699718, \"y\": 0}, {\"x1\": 1.2856716107543373, \"x2\": -0.2555011960020956, \"y\": 1}, {\"x1\": -0.05957267685112794, \"x2\": 1.8322808425500197, \"y\": 0}, {\"x1\": 1.0098637213610502, \"x2\": 0.5426580479042958, \"y\": 0}, {\"x1\": 1.7164720172657881, \"x2\": -0.03805507205582126, \"y\": 1}, {\"x1\": -0.9299094161674124, \"x2\": 0.4552616267763476, \"y\": 0}, {\"x1\": -0.16166346285708338, \"x2\": -0.08017906298304323, \"y\": 1}, {\"x1\": 0.8840797945145383, \"x2\": 0.2062794311789803, \"y\": 0}, {\"x1\": 0.4501075207272613, \"x2\": -0.3265418832521528, \"y\": 1}, {\"x1\": -0.6228449224868291, \"x2\": 0.9316899279742554, \"y\": 0}, {\"x1\": -0.2881724452425335, \"x2\": 1.3835740185007184, \"y\": 0}, {\"x1\": 1.0247050615731779, \"x2\": 0.5383355365945188, \"y\": 0}, {\"x1\": -0.3110833410406816, \"x2\": -0.8130026122128104, \"y\": 1}, {\"x1\": 1.831743730821992, \"x2\": -0.5442555941282807, \"y\": 1}, {\"x1\": -0.45901825586201883, \"x2\": 1.0985232811181989, \"y\": 0}, {\"x1\": 1.461396543194566, \"x2\": -0.5274718337100107, \"y\": 1}, {\"x1\": -0.7046864139653831, \"x2\": 0.9245592323243644, \"y\": 0}, {\"x1\": 1.5173144365794182, \"x2\": 0.25670601478177074, \"y\": 1}, {\"x1\": 2.1364316545233693, \"x2\": 0.10376057886378534, \"y\": 1}, {\"x1\": 1.5330079214724823, \"x2\": -0.4463665721208034, \"y\": 1}, {\"x1\": -0.4680255465678287, \"x2\": 0.3213466844572511, \"y\": 1}, {\"x1\": 1.367665310097857, \"x2\": -0.7246926219809486, \"y\": 1}, {\"x1\": 0.8626262575213948, \"x2\": -0.6904720590796047, \"y\": 1}, {\"x1\": 0.31299721538007796, \"x2\": 0.2720797293186954, \"y\": 0}, {\"x1\": -0.5554245284695589, \"x2\": 0.5862406711848085, \"y\": 0}, {\"x1\": 0.24224820818016152, \"x2\": -0.2745518542886348, \"y\": 1}, {\"x1\": -0.4143084704170259, \"x2\": 0.11865050933739901, \"y\": 0}, {\"x1\": -0.36145123341016894, \"x2\": -0.0028507624432172474, \"y\": 1}, {\"x1\": 0.8197069917282298, \"x2\": 0.6516079398668376, \"y\": 0}, {\"x1\": 1.5986549484112313, \"x2\": -0.6235365792425132, \"y\": 1}, {\"x1\": -0.5321780872840176, \"x2\": 0.5663978985863585, \"y\": 0}, {\"x1\": 0.3111555009981387, \"x2\": 1.048343172472598, \"y\": 0}, {\"x1\": 0.1775282679246618, \"x2\": 0.17756024742240323, \"y\": 0}, {\"x1\": 1.1121504568416634, \"x2\": 1.0646992040479628, \"y\": 0}, {\"x1\": 1.1381980147725734, \"x2\": -0.19190105689911796, \"y\": 0}, {\"x1\": 1.5072256031279223, \"x2\": -0.6842290035218904, \"y\": 1}, {\"x1\": 1.9875347088263449, \"x2\": -0.33766315826679105, \"y\": 1}, {\"x1\": 1.1864531868398225, \"x2\": 0.4277180485782358, \"y\": 0}, {\"x1\": 1.0186282908651614, \"x2\": 0.02080956610136644, \"y\": 0}, {\"x1\": 2.020606257964636, \"x2\": 0.08827685144505612, \"y\": 1}, {\"x1\": 1.5280780610999165, \"x2\": -0.3157942795350508, \"y\": 1}, {\"x1\": 0.22658917683375285, \"x2\": -0.019580973934484935, \"y\": 1}, {\"x1\": -0.11869360183499889, \"x2\": 1.073532595712521, \"y\": 0}, {\"x1\": 1.3019769530011496, \"x2\": 0.15333417339256153, \"y\": 0}, {\"x1\": 0.7036740984261275, \"x2\": 1.0582609477942349, \"y\": 0}, {\"x1\": 0.6750450749578046, \"x2\": 0.8225083595174854, \"y\": 0}, {\"x1\": 0.4647155007333617, \"x2\": 0.22085545873573476, \"y\": 0}, {\"x1\": -0.30116892775970927, \"x2\": 1.303873167403879, \"y\": 0}, {\"x1\": -1.4847421728706909, \"x2\": -0.027690349338127085, \"y\": 0}, {\"x1\": -0.4182148943563127, \"x2\": 1.1008230839843516, \"y\": 0}, {\"x1\": 1.020212049721741, \"x2\": 0.5977648514689121, \"y\": 1}, {\"x1\": 1.6582066769592005, \"x2\": 0.3468182909801879, \"y\": 1}, {\"x1\": 1.9461486828402323, \"x2\": -0.657194631961024, \"y\": 1}, {\"x1\": 0.3093704394539747, \"x2\": 0.4007054249593848, \"y\": 0}, {\"x1\": -0.9110930291892699, \"x2\": 0.603189924356396, \"y\": 0}, {\"x1\": 0.9851242460982198, \"x2\": -0.41007444168356005, \"y\": 0}, {\"x1\": 1.0311991477739337, \"x2\": -0.28432702738199334, \"y\": 1}, {\"x1\": 0.8864971903454646, \"x2\": 0.5178081740776481, \"y\": 0}, {\"x1\": 1.4157792191778482, \"x2\": -0.8701344069570482, \"y\": 1}, {\"x1\": 0.38268719316607674, \"x2\": 0.5749171874449703, \"y\": 0}, {\"x1\": -1.4940848464990593, \"x2\": -0.0694041529923668, \"y\": 0}, {\"x1\": 2.0896961256013227, \"x2\": 0.6547774521594161, \"y\": 1}, {\"x1\": 1.8081106726531504, \"x2\": -0.040676827496557155, \"y\": 1}, {\"x1\": 0.7475953879053447, \"x2\": 0.05763057251356696, \"y\": 0}, {\"x1\": 0.4178746860125618, \"x2\": -0.6449838941780206, \"y\": 1}, {\"x1\": 0.726098439618407, \"x2\": -0.3530649090816588, \"y\": 0}, {\"x1\": 1.4219802840595894, \"x2\": -0.08355826624967738, \"y\": 1}, {\"x1\": 0.3927571760663666, \"x2\": 1.0718203910426498, \"y\": 0}, {\"x1\": 1.4989376373929935, \"x2\": -0.592855892777316, \"y\": 1}, {\"x1\": -0.978046099000287, \"x2\": 0.9021272966883539, \"y\": 0}, {\"x1\": 0.6209026301475647, \"x2\": -0.6209428620834003, \"y\": 1}, {\"x1\": 1.2313033758744072, \"x2\": 0.18337860397910583, \"y\": 1}, {\"x1\": 0.6060279614855333, \"x2\": 0.3361631767225917, \"y\": 1}, {\"x1\": 0.61066691003811, \"x2\": 0.5968929671377108, \"y\": 1}, {\"x1\": 0.7266442528325294, \"x2\": 0.022727426678370716, \"y\": 1}, {\"x1\": -0.9781171205943013, \"x2\": 0.6168472381048673, \"y\": 0}, {\"x1\": 0.8589224412076628, \"x2\": 0.9381958870379185, \"y\": 0}, {\"x1\": 0.8612933521934203, \"x2\": 0.2428025626772503, \"y\": 1}, {\"x1\": 0.15361120715836285, \"x2\": -0.006072887493388163, \"y\": 1}, {\"x1\": 0.41396265530676823, \"x2\": 0.4214403754075672, \"y\": 0}, {\"x1\": -0.878871348982087, \"x2\": 0.07831803736860754, \"y\": 0}, {\"x1\": 1.4006538849350396, \"x2\": -0.8863446713255334, \"y\": 1}, {\"x1\": 0.7792608957554749, \"x2\": 0.746150445491263, \"y\": 0}, {\"x1\": 1.6790715895453283, \"x2\": 0.04666199898527185, \"y\": 1}, {\"x1\": -0.3012670235342374, \"x2\": 0.29477482569227986, \"y\": 1}, {\"x1\": -1.1175853511652902, \"x2\": 0.3788317599131452, \"y\": 0}, {\"x1\": -0.9383327989545892, \"x2\": -0.18087939137326148, \"y\": 0}, {\"x1\": 0.828597608476296, \"x2\": 0.11375227233982338, \"y\": 1}, {\"x1\": -0.031900406163546766, \"x2\": 0.38667112151999494, \"y\": 1}, {\"x1\": -0.3646966307124806, \"x2\": 0.8979589623154225, \"y\": 0}, {\"x1\": 0.9248321544439886, \"x2\": 0.5681161588505769, \"y\": 0}, {\"x1\": 0.025916349778345005, \"x2\": 0.2489046717677733, \"y\": 0}, {\"x1\": 1.4550237644493085, \"x2\": -0.6338385552546244, \"y\": 1}, {\"x1\": 0.8378123909558421, \"x2\": 1.5388402677287665, \"y\": 0}, {\"x1\": 0.8837636262760459, \"x2\": 0.6948154284099985, \"y\": 0}, {\"x1\": 0.19972534896603084, \"x2\": -0.04670122680759431, \"y\": 1}, {\"x1\": 0.04043585444564057, \"x2\": 0.0862965873519424, \"y\": 1}, {\"x1\": -0.1788621387151934, \"x2\": 0.7954566336744386, \"y\": 0}, {\"x1\": -0.30974269042981706, \"x2\": 0.8771880808881309, \"y\": 0}, {\"x1\": -0.9270205676427993, \"x2\": 1.0517397215501667, \"y\": 0}, {\"x1\": 1.7641176902924087, \"x2\": 0.04004691544807032, \"y\": 1}, {\"x1\": 1.6648972634677206, \"x2\": -0.6158088484907087, \"y\": 1}, {\"x1\": 0.3171816891174739, \"x2\": -0.0209331006584679, \"y\": 1}, {\"x1\": -0.3876185523996071, \"x2\": 0.37654085043180346, \"y\": 1}, {\"x1\": -0.2374036685157106, \"x2\": 1.0014520696950084, \"y\": 0}, {\"x1\": 0.6656838462930257, \"x2\": -0.5860440034881904, \"y\": 1}, {\"x1\": 0.015558971293675238, \"x2\": 1.0685262979889474, \"y\": 0}, {\"x1\": 0.11578357094725446, \"x2\": -0.5136099778816625, \"y\": 1}, {\"x1\": -0.11318834682685797, \"x2\": -0.6935454664106637, \"y\": 1}, {\"x1\": 1.0198846534179768, \"x2\": 0.10020649880002819, \"y\": 0}, {\"x1\": 0.6469218953158292, \"x2\": 0.6825045820304751, \"y\": 0}, {\"x1\": -0.6028675946332407, \"x2\": 0.9660591872256307, \"y\": 0}, {\"x1\": 2.1591449360947443, \"x2\": 0.4223184999188855, \"y\": 1}, {\"x1\": -0.09329792505625017, \"x2\": 0.7506055303678019, \"y\": 0}, {\"x1\": 1.2516129454081772, \"x2\": 0.13088144384422837, \"y\": 1}, {\"x1\": 0.4698273077582177, \"x2\": -0.5880728226004471, \"y\": 1}, {\"x1\": 0.5900388803366718, \"x2\": -0.22471652618584964, \"y\": 1}, {\"x1\": 2.011447606178689, \"x2\": 0.15006745182971426, \"y\": 1}, {\"x1\": 0.017708493746404215, \"x2\": 0.4914397804392859, \"y\": 1}, {\"x1\": 0.04762583682625643, \"x2\": 0.5797546233141235, \"y\": 0}, {\"x1\": 0.13873607857477172, \"x2\": 1.9649902871082234, \"y\": 0}, {\"x1\": 0.19484675561770315, \"x2\": -0.3036205260173439, \"y\": 1}, {\"x1\": 1.4426186632160518, \"x2\": -0.6171216818102977, \"y\": 1}, {\"x1\": 1.2461792281754347, \"x2\": -0.5265219461226376, \"y\": 0}, {\"x1\": 1.1578755360529165, \"x2\": -0.34410952477732226, \"y\": 1}, {\"x1\": 2.16916838019892, \"x2\": -0.13727311638034903, \"y\": 1}, {\"x1\": 0.6627804789223264, \"x2\": 0.450097991028578, \"y\": 0}, {\"x1\": 0.1640083561206918, \"x2\": -0.7062058384128249, \"y\": 1}, {\"x1\": -1.0019865387330225, \"x2\": 0.04107296141984679, \"y\": 0}, {\"x1\": 1.1670245029890944, \"x2\": 1.2329098789089374, \"y\": 0}, {\"x1\": 0.12682635620762017, \"x2\": 0.33380167923498505, \"y\": 1}, {\"x1\": -0.7449729698145233, \"x2\": 0.8371729752243013, \"y\": 0}, {\"x1\": 1.6857406673130928, \"x2\": -0.3081913758547773, \"y\": 1}, {\"x1\": 1.0670276421677005, \"x2\": -0.2062536598858804, \"y\": 1}, {\"x1\": 0.8446642740505037, \"x2\": 0.5046122153044191, \"y\": 0}, {\"x1\": 0.6066958600801075, \"x2\": 0.10968703936617857, \"y\": 1}, {\"x1\": 0.5115294908134791, \"x2\": 0.08368382262324814, \"y\": 1}, {\"x1\": 0.36206163075292813, \"x2\": 1.1046019279582722, \"y\": 0}, {\"x1\": -0.5562958466417095, \"x2\": 0.3396520825619148, \"y\": 0}, {\"x1\": -1.0955286113632594, \"x2\": 0.10347628303521872, \"y\": 0}, {\"x1\": 1.0254797293735394, \"x2\": -0.5643181885719304, \"y\": 1}, {\"x1\": -0.8092260123158548, \"x2\": 1.6912192543724602, \"y\": 0}, {\"x1\": 0.37972676162320707, \"x2\": 0.7802764576621498, \"y\": 0}, {\"x1\": 0.4151206441802385, \"x2\": -0.2393705952866662, \"y\": 1}, {\"x1\": 0.8381938985927871, \"x2\": 0.24859625499806776, \"y\": 0}, {\"x1\": -0.0018274689203807704, \"x2\": 1.2877594941889088, \"y\": 0}, {\"x1\": 1.2505053738263987, \"x2\": -0.4465332222313537, \"y\": 1}, {\"x1\": -1.4338903763990363, \"x2\": 0.5759344187921165, \"y\": 0}, {\"x1\": -0.4644711445308407, \"x2\": 0.10729539377485577, \"y\": 1}, {\"x1\": 0.017975860866044843, \"x2\": 0.12944067965305175, \"y\": 1}, {\"x1\": 0.38575575117920924, \"x2\": -0.32232869187385177, \"y\": 1}, {\"x1\": -1.2956523721251716, \"x2\": 0.30658035165738895, \"y\": 0}, {\"x1\": 1.7094410373093263, \"x2\": -0.5603728032326193, \"y\": 1}, {\"x1\": 0.211522633034042, \"x2\": -0.4865235364732173, \"y\": 1}, {\"x1\": 1.3529025131347798, \"x2\": 0.07964851231540526, \"y\": 1}, {\"x1\": 1.165593876188424, \"x2\": -0.2680595665331667, \"y\": 1}, {\"x1\": 1.5580696302728123, \"x2\": -0.10362089756229734, \"y\": 1}, {\"x1\": 1.6444544119590025, \"x2\": 0.15668337776156635, \"y\": 1}, {\"x1\": -1.1481256874022014, \"x2\": 0.1860244025385509, \"y\": 0}, {\"x1\": 0.21445250602734867, \"x2\": 1.0499227792559, \"y\": 0}, {\"x1\": -0.11600811147124965, \"x2\": 0.876229872202627, \"y\": 0}, {\"x1\": -0.48138738501824463, \"x2\": 0.7651970795010411, \"y\": 0}, {\"x1\": -0.40210286283746455, \"x2\": 0.2393919944440256, \"y\": 0}, {\"x1\": -0.286582574409612, \"x2\": -0.2500954523996078, \"y\": 1}, {\"x1\": 2.416371880532963, \"x2\": 0.5912144098452162, \"y\": 1}, {\"x1\": -0.8762640345606685, \"x2\": 0.880866806047273, \"y\": 0}, {\"x1\": 1.4671504850799235, \"x2\": -0.7985633211491356, \"y\": 1}, {\"x1\": 0.9309625997764517, \"x2\": -0.010321914493118145, \"y\": 0}, {\"x1\": 1.438483831307233, \"x2\": -0.23071375151057355, \"y\": 1}, {\"x1\": 0.3678852231481725, \"x2\": 0.8848396977180658, \"y\": 0}, {\"x1\": -0.3133980167611473, \"x2\": 1.025115154853089, \"y\": 0}, {\"x1\": 0.3940196509907431, \"x2\": 0.3133651207572401, \"y\": 0}, {\"x1\": 0.20116915673584795, \"x2\": 0.7598660424937118, \"y\": 0}, {\"x1\": 1.7590833346841825, \"x2\": 0.2939561187670321, \"y\": 1}, {\"x1\": 1.3559431233321058, \"x2\": 0.07320987958887182, \"y\": 1}, {\"x1\": 1.1057463333082214, \"x2\": 0.1715044625408489, \"y\": 0}, {\"x1\": -1.5240124692881025, \"x2\": 1.1161046072903387, \"y\": 0}, {\"x1\": 0.7748101420892952, \"x2\": 0.21161951630092293, \"y\": 1}, {\"x1\": 0.7687186171189504, \"x2\": -0.5027024619952292, \"y\": 1}, {\"x1\": 1.058079411748379, \"x2\": 0.2108231809378967, \"y\": 0}, {\"x1\": 0.6213459165627884, \"x2\": 0.3065792245462565, \"y\": 0}, {\"x1\": 0.3744254875422579, \"x2\": -0.4727588974982381, \"y\": 1}, {\"x1\": -0.6930398152564534, \"x2\": 0.42085200534749656, \"y\": 0}, {\"x1\": 0.9427619397602229, \"x2\": 0.6556852439209298, \"y\": 0}, {\"x1\": -0.7721527236215922, \"x2\": 0.2784365938135838, \"y\": 0}, {\"x1\": 0.8233660278087103, \"x2\": 0.4815996008747061, \"y\": 0}, {\"x1\": -0.08949145287599544, \"x2\": 0.22287920509048453, \"y\": 1}, {\"x1\": 1.5683666655472974, \"x2\": 0.18063235587733642, \"y\": 1}, {\"x1\": 2.0068946681922917, \"x2\": 0.6214173541178788, \"y\": 1}, {\"x1\": 0.6787895264813578, \"x2\": -0.18967398461831197, \"y\": 0}, {\"x1\": 0.5338684432957556, \"x2\": 0.8658821953524245, \"y\": 1}, {\"x1\": -0.9633853529568279, \"x2\": 0.08234763672840459, \"y\": 0}, {\"x1\": -0.8060225936654535, \"x2\": 0.9283025300457293, \"y\": 0}, {\"x1\": 1.6345801349517015, \"x2\": 0.3416873865971249, \"y\": 1}, {\"x1\": -0.6441908874755411, \"x2\": 0.8745781404219173, \"y\": 0}, {\"x1\": 1.6338864847406127, \"x2\": 0.08774816161510537, \"y\": 1}, {\"x1\": 1.3842353687222657, \"x2\": -1.584496093262771, \"y\": 1}, {\"x1\": -1.1970135543867277, \"x2\": 0.18696123169939116, \"y\": 0}, {\"x1\": 0.19769562775031133, \"x2\": 0.22865420134000625, \"y\": 0}, {\"x1\": -0.5034231085470064, \"x2\": 1.428648984091296, \"y\": 0}, {\"x1\": 2.269041105740739, \"x2\": -0.45476796294854105, \"y\": 1}, {\"x1\": -0.5967564042446174, \"x2\": 0.7687914212727276, \"y\": 0}, {\"x1\": 0.5506639889628888, \"x2\": 0.5251131325553924, \"y\": 0}, {\"x1\": 0.5136046656618727, \"x2\": 1.2398875340450295, \"y\": 0}, {\"x1\": 1.618784608015181, \"x2\": 0.6833599033842225, \"y\": 1}, {\"x1\": 0.9922033650517412, \"x2\": 1.0620696099057458, \"y\": 0}, {\"x1\": -0.34249751696890013, \"x2\": 0.7727446603955577, \"y\": 0}, {\"x1\": 1.332396717084587, \"x2\": -0.08184975117316964, \"y\": 1}, {\"x1\": -0.0207660697153942, \"x2\": -0.9080346614813785, \"y\": 1}, {\"x1\": 0.9267983789144894, \"x2\": -0.07862370916505362, \"y\": 1}, {\"x1\": 1.228669204319954, \"x2\": -0.15557088446489215, \"y\": 0}, {\"x1\": -1.2937161049220403, \"x2\": 0.06579728403350293, \"y\": 0}, {\"x1\": 1.4720540283955312, \"x2\": 0.8355715311047099, \"y\": 0}, {\"x1\": 0.022112234572669864, \"x2\": 0.9835154392208038, \"y\": 0}, {\"x1\": 1.7928664454399308, \"x2\": 0.10075257189357978, \"y\": 1}, {\"x1\": 0.535045059440403, \"x2\": -0.4134393860079123, \"y\": 1}, {\"x1\": 2.453819938233809, \"x2\": 0.1634068196326751, \"y\": 1}, {\"x1\": 1.7281750760559842, \"x2\": -0.23843348919696689, \"y\": 1}, {\"x1\": -0.21901422044760066, \"x2\": 0.30117414629201333, \"y\": 1}, {\"x1\": -0.21853619187067214, \"x2\": -0.5312836199606839, \"y\": 1}, {\"x1\": -0.8597384655611336, \"x2\": 1.0571834901700274, \"y\": 1}, {\"x1\": 0.11935603726014325, \"x2\": 0.62618988726624, \"y\": 1}, {\"x1\": 0.7345628644318366, \"x2\": -0.5571480417149106, \"y\": 1}, {\"x1\": -0.16853868062785815, \"x2\": 0.9659540699275808, \"y\": 0}, {\"x1\": -0.6144463590505237, \"x2\": 1.5651455139269683, \"y\": 0}, {\"x1\": 0.4567570305539541, \"x2\": 1.2835085217462727, \"y\": 0}, {\"x1\": 2.0359131069391188, \"x2\": -0.1303578699385717, \"y\": 1}, {\"x1\": 0.05334492591445411, \"x2\": 1.3106500718259617, \"y\": 0}, {\"x1\": -0.0956768152281742, \"x2\": 0.7030981117192201, \"y\": 0}, {\"x1\": 0.8400131458784534, \"x2\": -0.41076364361440876, \"y\": 1}, {\"x1\": 1.2993521167921607, \"x2\": -1.3579099765459182, \"y\": 1}, {\"x1\": -1.0644307675387028, \"x2\": 0.42420581689379844, \"y\": 0}, {\"x1\": 0.47572949382185165, \"x2\": 0.44335584676118395, \"y\": 0}, {\"x1\": 1.350887936976418, \"x2\": 0.399740647432804, \"y\": 0}, {\"x1\": 1.1817590935695357, \"x2\": 0.20908181270698512, \"y\": 0}, {\"x1\": -0.6836789051731982, \"x2\": 0.7051918015569838, \"y\": 0}, {\"x1\": 1.0051099040548714, \"x2\": 0.9076066279452893, \"y\": 0}, {\"x1\": 0.7747818761865612, \"x2\": -0.5011389769622242, \"y\": 1}, {\"x1\": 1.281939883050233, \"x2\": -0.15986726262949275, \"y\": 0}, {\"x1\": -0.6679318036009065, \"x2\": 0.5799423071612206, \"y\": 0}, {\"x1\": 1.372137941629394, \"x2\": -0.7560430566445762, \"y\": 1}, {\"x1\": 0.5528665065296996, \"x2\": 1.0659844102806089, \"y\": 0}, {\"x1\": 1.1258480523228669, \"x2\": -0.5460888807761234, \"y\": 1}, {\"x1\": 1.1497628412047294, \"x2\": 0.6562377312319915, \"y\": 0}, {\"x1\": 0.5863882846941131, \"x2\": -1.1557072223457627, \"y\": 1}, {\"x1\": 1.6753568952009918, \"x2\": 0.04656753071393138, \"y\": 1}, {\"x1\": -0.11678279777134298, \"x2\": 0.8235629265395997, \"y\": 0}, {\"x1\": -0.07538037685497667, \"x2\": 0.7125674690519038, \"y\": 0}, {\"x1\": -1.0126141729773466, \"x2\": -0.15758944129021524, \"y\": 0}, {\"x1\": 1.0010124521853216, \"x2\": 1.1418415161569966, \"y\": 0}, {\"x1\": 0.5666282875456281, \"x2\": 1.0561480757954722, \"y\": 0}, {\"x1\": 1.0466975317979446, \"x2\": 0.17856323455474005, \"y\": 0}, {\"x1\": 0.5827687882767122, \"x2\": 0.8591460705556273, \"y\": 0}, {\"x1\": -0.8737987975539613, \"x2\": -0.021088376687187216, \"y\": 0}, {\"x1\": 0.7575520589884559, \"x2\": -0.3642841871937041, \"y\": 1}, {\"x1\": 1.26831594357031, \"x2\": 0.3674605139497277, \"y\": 1}, {\"x1\": 1.7875144587237843, \"x2\": 0.13616316988322322, \"y\": 1}, {\"x1\": -1.1526207111512838, \"x2\": 0.30707274082917374, \"y\": 0}, {\"x1\": 1.3710770799103957, \"x2\": -0.12187130129881293, \"y\": 1}, {\"x1\": 0.9544311405123709, \"x2\": 0.3825753524303552, \"y\": 0}, {\"x1\": 0.19284891559815986, \"x2\": -0.8773280398637249, \"y\": 1}, {\"x1\": -0.4015916285606933, \"x2\": 0.8069809055095667, \"y\": 0}, {\"x1\": -0.268019877153881, \"x2\": 0.744802634326974, \"y\": 0}, {\"x1\": -0.658919796284464, \"x2\": 0.7378477690917853, \"y\": 0}, {\"x1\": -1.2920445540558338, \"x2\": 0.31834373806409266, \"y\": 0}, {\"x1\": 1.2476490835821907, \"x2\": -0.68234636831607, \"y\": 1}, {\"x1\": -0.4097718602605861, \"x2\": 1.2763984401190611, \"y\": 0}, {\"x1\": -0.8202388678059568, \"x2\": 0.7833615039217036, \"y\": 0}, {\"x1\": 0.47024180288878586, \"x2\": 1.06823060683391, \"y\": 1}, {\"x1\": -0.3164562820422599, \"x2\": 0.9358801396106247, \"y\": 0}, {\"x1\": 1.9699047622567198, \"x2\": -0.4058985719531332, \"y\": 1}, {\"x1\": 0.8224645751741999, \"x2\": 0.5608317643241962, \"y\": 0}, {\"x1\": 0.9086797978178531, \"x2\": -0.29981768482233584, \"y\": 1}, {\"x1\": 1.4175805441191935, \"x2\": -0.265795126207369, \"y\": 1}, {\"x1\": 1.181795397042732, \"x2\": 0.5308505030663249, \"y\": 0}, {\"x1\": 0.4647722940453144, \"x2\": 1.1023254670261267, \"y\": 0}, {\"x1\": 0.4529496892939362, \"x2\": -0.41217235724455903, \"y\": 1}, {\"x1\": 0.6525854416628707, \"x2\": 1.0638154274568166, \"y\": 0}, {\"x1\": -0.4320209164407448, \"x2\": -0.03158092798230855, \"y\": 1}, {\"x1\": 1.9708032943394063, \"x2\": -0.18721716010372544, \"y\": 1}, {\"x1\": -0.12467030894851344, \"x2\": 1.016481231268029, \"y\": 0}, {\"x1\": 2.278546443016766, \"x2\": 1.2938642790641306, \"y\": 1}, {\"x1\": -0.2894427357821483, \"x2\": 1.0006527117104453, \"y\": 0}, {\"x1\": 0.2496018230777414, \"x2\": 0.12176143599621385, \"y\": 1}, {\"x1\": -0.2252515401176458, \"x2\": 0.03786067616174829, \"y\": 1}, {\"x1\": 0.2473983524086907, \"x2\": 0.022191262192941097, \"y\": 1}, {\"x1\": 1.2235223311770698, \"x2\": 0.7653768564197427, \"y\": 1}, {\"x1\": 1.5187834518819516, \"x2\": -0.5587992800952386, \"y\": 1}, {\"x1\": 1.294113266923773, \"x2\": -1.008870224379844, \"y\": 1}, {\"x1\": 1.138597604351558, \"x2\": -0.14236626196257024, \"y\": 1}, {\"x1\": 2.1197284377567893, \"x2\": 0.5164207019771354, \"y\": 1}, {\"x1\": 0.3925920938503906, \"x2\": 0.1906584911398319, \"y\": 1}, {\"x1\": -0.44588705494343983, \"x2\": 0.3287368986704542, \"y\": 0}, {\"x1\": -0.011145500894608779, \"x2\": -0.5975467738563405, \"y\": 1}, {\"x1\": -0.7170833061839309, \"x2\": 0.37438625410391524, \"y\": 0}, {\"x1\": 0.9830564777416937, \"x2\": 0.2507785675744944, \"y\": 0}, {\"x1\": -0.10035291267072549, \"x2\": 1.6727014400205023, \"y\": 0}, {\"x1\": 0.5794639645561738, \"x2\": 0.7400641334412926, \"y\": 0}, {\"x1\": 1.229414658987702, \"x2\": 1.0075050607685578, \"y\": 0}, {\"x1\": 1.2063291004403691, \"x2\": -0.918329107842858, \"y\": 1}, {\"x1\": 0.6771254924502901, \"x2\": -0.5487501271071817, \"y\": 1}, {\"x1\": -0.3771851754745913, \"x2\": -0.3111087105759528, \"y\": 0}, {\"x1\": 1.0727154372319554, \"x2\": 0.9403385083076713, \"y\": 0}, {\"x1\": 1.502107276972704, \"x2\": -0.9108403459126343, \"y\": 1}, {\"x1\": 1.4150887818838507, \"x2\": -0.022750944057815248, \"y\": 1}, {\"x1\": 1.4914406518592196, \"x2\": 0.6317008364907342, \"y\": 1}, {\"x1\": -0.2678945055845297, \"x2\": 1.2276359984225882, \"y\": 0}, {\"x1\": 1.2680265450212094, \"x2\": -0.9377210201179368, \"y\": 1}, {\"x1\": 0.8354736404185023, \"x2\": -0.42275658883780387, \"y\": 1}, {\"x1\": 1.2436294713037315, \"x2\": -0.449208349779602, \"y\": 1}, {\"x1\": -0.6818042223549734, \"x2\": 1.2674829167556796, \"y\": 0}, {\"x1\": -0.20622808843489546, \"x2\": 0.8541499168822623, \"y\": 0}, {\"x1\": 0.6114074217651094, \"x2\": -0.6212115381214999, \"y\": 1}, {\"x1\": -0.036129850378672945, \"x2\": 0.7112501073291375, \"y\": 1}, {\"x1\": -0.9500961665651284, \"x2\": 0.6574882572252357, \"y\": 0}, {\"x1\": -0.6919568818861804, \"x2\": 1.132941862518647, \"y\": 0}, {\"x1\": -1.3367301512646932, \"x2\": 0.35536194741819027, \"y\": 0}, {\"x1\": 0.9066480394697649, \"x2\": 0.3545989727469845, \"y\": 0}, {\"x1\": 1.5699168391698253, \"x2\": 0.22908695783778155, \"y\": 1}, {\"x1\": 0.4914603907345393, \"x2\": -0.6088843709092197, \"y\": 1}, {\"x1\": 0.4995785626093687, \"x2\": 0.7991156719626603, \"y\": 0}, {\"x1\": 0.3244464977231983, \"x2\": -0.5550296847468024, \"y\": 1}, {\"x1\": 0.26152065081558984, \"x2\": 0.9649130701026699, \"y\": 0}, {\"x1\": 1.4496231977209513, \"x2\": -0.4962194343552639, \"y\": 1}, {\"x1\": -0.6354946846067643, \"x2\": 0.9718399604601827, \"y\": 0}, {\"x1\": -1.6045405342073504, \"x2\": -0.190096927705416, \"y\": 0}, {\"x1\": -0.8211501454279395, \"x2\": 0.1766079694398076, \"y\": 0}, {\"x1\": -0.7529277043227761, \"x2\": 0.8550136273640896, \"y\": 0}, {\"x1\": 1.193934760990009, \"x2\": -0.578179961902577, \"y\": 1}, {\"x1\": 1.8152754296875193, \"x2\": -0.08719190632737599, \"y\": 1}, {\"x1\": 1.2984689198296147, \"x2\": 0.0745710032477025, \"y\": 1}, {\"x1\": 1.220629881692124, \"x2\": -0.11600890791092389, \"y\": 1}, {\"x1\": 1.1110933232218194, \"x2\": -0.6059905525765921, \"y\": 1}, {\"x1\": -0.13256497268141393, \"x2\": 0.8409928760194929, \"y\": 0}, {\"x1\": 2.1021807269628896, \"x2\": 0.6747750286616351, \"y\": 1}, {\"x1\": -0.28283843203087977, \"x2\": 1.3702750518214954, \"y\": 0}, {\"x1\": 0.5160790773200435, \"x2\": 0.7212719090472632, \"y\": 0}, {\"x1\": -0.76290047109565, \"x2\": 0.12524280675662436, \"y\": 0}, {\"x1\": 1.3824515835095244, \"x2\": 0.1596177043096671, \"y\": 0}, {\"x1\": 2.4082564056211537, \"x2\": 0.14811862310907747, \"y\": 1}, {\"x1\": -0.5381166835600825, \"x2\": 0.7931968044597508, \"y\": 0}, {\"x1\": 0.9220607092271942, \"x2\": -0.9275724355185203, \"y\": 1}, {\"x1\": 0.5032626360849535, \"x2\": -0.5003646540068137, \"y\": 1}, {\"x1\": 0.9125340658888456, \"x2\": -0.07505758717064365, \"y\": 1}, {\"x1\": -0.5887891237336631, \"x2\": 0.5229457430024782, \"y\": 0}, {\"x1\": 1.3843649587470825, \"x2\": -0.163140192478966, \"y\": 1}, {\"x1\": 1.6346570057052328, \"x2\": 0.3256210842311554, \"y\": 0}, {\"x1\": -1.0818985341564629, \"x2\": -0.14288724318875273, \"y\": 0}, {\"x1\": 1.9692345911814866, \"x2\": 0.0971939288978601, \"y\": 1}, {\"x1\": 0.29869307940146317, \"x2\": 0.3268490513157939, \"y\": 1}, {\"x1\": 0.5928564904007146, \"x2\": -0.2008407357074214, \"y\": 1}, {\"x1\": -0.5177474489622989, \"x2\": 1.049308502551948, \"y\": 0}, {\"x1\": 0.01421835845819637, \"x2\": 1.322446566613796, \"y\": 0}, {\"x1\": 0.04994685780877148, \"x2\": 1.0195171777514065, \"y\": 0}, {\"x1\": 0.2709363734914177, \"x2\": 0.9224510287455768, \"y\": 0}, {\"x1\": 1.8073937270604556, \"x2\": -0.49650083060955336, \"y\": 1}, {\"x1\": 1.81185482336116, \"x2\": -0.5665577207721341, \"y\": 1}, {\"x1\": 0.4244512290596269, \"x2\": 1.0195449537660604, \"y\": 0}, {\"x1\": 2.27614719279813, \"x2\": -0.03373321921504138, \"y\": 1}, {\"x1\": 0.7806490260195168, \"x2\": -0.4001325699774859, \"y\": 1}, {\"x1\": -0.9771573227894744, \"x2\": 1.173028274821446, \"y\": 0}, {\"x1\": -0.8301394681389226, \"x2\": 1.0322358363889568, \"y\": 0}, {\"x1\": -0.8123304965558888, \"x2\": 0.647341908618396, \"y\": 0}, {\"x1\": 0.13870287508234574, \"x2\": -0.6811367559412185, \"y\": 1}, {\"x1\": 0.1734418909144232, \"x2\": -0.5126229416432706, \"y\": 1}, {\"x1\": 0.4586443267487029, \"x2\": -0.528514810029316, \"y\": 1}, {\"x1\": -0.10815133675716812, \"x2\": 0.2374358267307024, \"y\": 1}, {\"x1\": -0.8942099437039734, \"x2\": 0.34141659295220284, \"y\": 0}, {\"x1\": 0.6488543855754295, \"x2\": 0.3721165040413724, \"y\": 0}, {\"x1\": -1.3920401413779229, \"x2\": 0.42282235524559064, \"y\": 0}, {\"x1\": 0.26268645437941385, \"x2\": -0.7391033237450713, \"y\": 1}, {\"x1\": 1.5289146146674628, \"x2\": -0.35638570916713125, \"y\": 1}, {\"x1\": 0.35713660796088176, \"x2\": 1.270077290740752, \"y\": 0}, {\"x1\": -1.1254508567699402, \"x2\": 0.8427917016253975, \"y\": 0}, {\"x1\": -0.2650143942405265, \"x2\": 1.069544835270906, \"y\": 0}, {\"x1\": -0.022674297900322687, \"x2\": 0.4327310665410332, \"y\": 1}, {\"x1\": 1.2976928257135767, \"x2\": -0.3982792121873271, \"y\": 1}, {\"x1\": -0.8723872541576715, \"x2\": 1.2450473286397012, \"y\": 0}, {\"x1\": 1.2713695854265528, \"x2\": -0.08157732260517869, \"y\": 1}, {\"x1\": 1.1241416379030071, \"x2\": 0.2106702027231543, \"y\": 1}, {\"x1\": -1.2045556386941056, \"x2\": 0.5160711404002851, \"y\": 0}, {\"x1\": -0.32972050938334185, \"x2\": -0.2758237681168446, \"y\": 1}, {\"x1\": 1.5885946959220298, \"x2\": 0.1527039217303529, \"y\": 0}, {\"x1\": 0.8795994950710591, \"x2\": 0.14416810045755024, \"y\": 1}, {\"x1\": -1.0598696122369666, \"x2\": 0.9089127700800098, \"y\": 0}, {\"x1\": 0.49402521503436003, \"x2\": 0.9424316619551445, \"y\": 0}, {\"x1\": 1.729270556435226, \"x2\": -0.557950358623612, \"y\": 1}, {\"x1\": -0.6040244373132684, \"x2\": -0.008126883874454115, \"y\": 1}, {\"x1\": -0.11924330056394472, \"x2\": 1.1219033857878222, \"y\": 0}, {\"x1\": -0.7635170391206301, \"x2\": 0.15564639960653442, \"y\": 0}, {\"x1\": 2.368058915019914, \"x2\": 0.11667731404326687, \"y\": 1}, {\"x1\": 0.21290895778000105, \"x2\": 1.080281434705008, \"y\": 0}, {\"x1\": 0.1530301445154522, \"x2\": -0.049772740701653606, \"y\": 1}, {\"x1\": 0.6291926148568012, \"x2\": 0.4725675352961672, \"y\": 1}, {\"x1\": 0.07157085711701128, \"x2\": 0.3944088640395569, \"y\": 0}, {\"x1\": 0.7275394881310907, \"x2\": -0.6616155176707776, \"y\": 1}, {\"x1\": 1.4864087791773308, \"x2\": -1.0023492881123415, \"y\": 1}, {\"x1\": 2.526788241519314, \"x2\": -0.14568639624907587, \"y\": 1}, {\"x1\": 0.29669270972810424, \"x2\": 0.1271794583813964, \"y\": 1}, {\"x1\": -0.2391993225327843, \"x2\": 1.0391996485151958, \"y\": 0}, {\"x1\": -1.0600656415120013, \"x2\": 0.4151710817878477, \"y\": 0}, {\"x1\": 0.2221566200077745, \"x2\": 0.6739965812428426, \"y\": 0}, {\"x1\": -1.0570012702109675, \"x2\": 1.2735259807211758, \"y\": 0}, {\"x1\": 0.4075536032889717, \"x2\": 0.5242744765339291, \"y\": 1}, {\"x1\": 1.438838823809009, \"x2\": 0.47205824393711227, \"y\": 1}, {\"x1\": 1.900413069063093, \"x2\": 0.29069525271770524, \"y\": 1}, {\"x1\": -0.40217190905148437, \"x2\": 0.387102219001317, \"y\": 0}, {\"x1\": 0.7390242486483756, \"x2\": 0.5429811578986804, \"y\": 0}, {\"x1\": 1.2137165876559797, \"x2\": 0.4294734055909595, \"y\": 0}, {\"x1\": 0.3869505079864639, \"x2\": 1.0847107839426546, \"y\": 0}, {\"x1\": 2.6104966895117663, \"x2\": -0.16473118085755298, \"y\": 1}, {\"x1\": 0.4520362637084819, \"x2\": -0.8781999870985883, \"y\": 1}, {\"x1\": 1.940674568256853, \"x2\": -0.1997534455685227, \"y\": 1}, {\"x1\": 1.1338530505243627, \"x2\": 0.15967297773144118, \"y\": 0}, {\"x1\": 0.6504972574121921, \"x2\": 1.1728284222928604, \"y\": 0}, {\"x1\": -0.521689348150863, \"x2\": 0.5196045483730549, \"y\": 1}, {\"x1\": 1.495734765865504, \"x2\": -0.8886201869099721, \"y\": 1}, {\"x1\": 0.7311252313360932, \"x2\": -0.6286003033347233, \"y\": 1}, {\"x1\": -0.06679095826305526, \"x2\": 0.9999941529233844, \"y\": 0}, {\"x1\": -0.3956968651338505, \"x2\": 0.9689097005030384, \"y\": 0}, {\"x1\": -0.18077193145438852, \"x2\": 0.9268085000434754, \"y\": 0}, {\"x1\": 0.8493763109367712, \"x2\": -0.8897180359074917, \"y\": 1}, {\"x1\": 2.0765401913336468, \"x2\": -0.5291879842572182, \"y\": 1}, {\"x1\": 0.5916234586422077, \"x2\": 0.210508532642798, \"y\": 0}, {\"x1\": -0.7148284524310531, \"x2\": 0.6609455853384283, \"y\": 0}, {\"x1\": 0.4866356031332193, \"x2\": 0.39259599000755746, \"y\": 1}, {\"x1\": 1.2671675061821093, \"x2\": 0.09993620200188391, \"y\": 1}, {\"x1\": -0.3303159106772211, \"x2\": 0.8698406688756204, \"y\": 0}, {\"x1\": 0.5184095354911438, \"x2\": 0.16863628569313405, \"y\": 1}, {\"x1\": -0.3032043721148072, \"x2\": 1.603634996865606, \"y\": 0}, {\"x1\": 0.8086919250763996, \"x2\": 1.1786092400706352, \"y\": 0}, {\"x1\": 0.692426696179981, \"x2\": -0.1969490902215249, \"y\": 1}, {\"x1\": 0.7714305529489948, \"x2\": -0.26495580132870744, \"y\": 1}, {\"x1\": 1.071154763402275, \"x2\": -0.14884991370360692, \"y\": 1}, {\"x1\": -0.40068531853668193, \"x2\": 0.5973816611604785, \"y\": 0}, {\"x1\": 0.34775720215933936, \"x2\": 0.12639216071644702, \"y\": 1}, {\"x1\": 1.067992416258421, \"x2\": 0.345660755396343, \"y\": 1}, {\"x1\": -0.021018485390647705, \"x2\": 1.1157802131869015, \"y\": 1}, {\"x1\": -1.0695018829964502, \"x2\": 0.8081436080504829, \"y\": 0}, {\"x1\": 0.4048993632849023, \"x2\": -0.9715896388841602, \"y\": 1}, {\"x1\": 0.4229077215496357, \"x2\": 0.6039996028834982, \"y\": 0}, {\"x1\": 1.419156507771028, \"x2\": -0.1736062143367899, \"y\": 1}, {\"x1\": 0.37368566389828095, \"x2\": 0.9824710128002272, \"y\": 0}, {\"x1\": 0.30358395596973553, \"x2\": 0.22967873744139722, \"y\": 1}, {\"x1\": 0.22218923008911032, \"x2\": 0.8024498428428889, \"y\": 0}, {\"x1\": 0.8836216141883703, \"x2\": -0.21350888875313795, \"y\": 1}, {\"x1\": -0.04575216086272725, \"x2\": 1.4982846750136516, \"y\": 0}, {\"x1\": 1.9900781600077473, \"x2\": -0.010220331144915218, \"y\": 1}, {\"x1\": -1.2236212156993045, \"x2\": 0.8954582845488693, \"y\": 0}, {\"x1\": 0.7353411016553544, \"x2\": -0.4471814681470973, \"y\": 1}, {\"x1\": 0.012796338713497387, \"x2\": 0.7831904680521582, \"y\": 0}, {\"x1\": 0.6905052239946801, \"x2\": -0.7819716954547953, \"y\": 1}, {\"x1\": -0.3923802916245128, \"x2\": 0.37268639931568276, \"y\": 1}, {\"x1\": 1.2553888652801155, \"x2\": -0.1738090631210345, \"y\": 0}, {\"x1\": 0.12401460914272588, \"x2\": -0.8112723589932767, \"y\": 1}, {\"x1\": 1.2776434641013021, \"x2\": 0.3632762309073382, \"y\": 0}, {\"x1\": 0.9802695854632566, \"x2\": 1.1816661672637432, \"y\": 0}, {\"x1\": 0.31052627969133884, \"x2\": 0.3239412777209971, \"y\": 0}, {\"x1\": -0.9910654883781097, \"x2\": 0.2373767970762915, \"y\": 0}, {\"x1\": 0.8265114418162436, \"x2\": -0.14751434661249085, \"y\": 0}, {\"x1\": 2.5865831991264567, \"x2\": 0.2736233936914786, \"y\": 1}, {\"x1\": 1.4284402822364168, \"x2\": 0.05890643536825518, \"y\": 0}, {\"x1\": -0.4839403307426204, \"x2\": 1.159243142049637, \"y\": 0}, {\"x1\": -0.5852237143614204, \"x2\": 0.7910904373647017, \"y\": 0}, {\"x1\": 1.1394970633671022, \"x2\": -0.11612113168430638, \"y\": 1}, {\"x1\": -0.6378075892305825, \"x2\": 1.3881382680739909, \"y\": 0}, {\"x1\": 0.31008119164762943, \"x2\": 1.2734266760335098, \"y\": 0}, {\"x1\": 1.0074372206264608, \"x2\": -0.23494498868576003, \"y\": 0}, {\"x1\": 1.2247891978787946, \"x2\": -0.5141862801601879, \"y\": 1}, {\"x1\": 1.2071963705507214, \"x2\": -0.15813978532518372, \"y\": 1}, {\"x1\": 0.048590385461463215, \"x2\": 0.7384068103361492, \"y\": 0}, {\"x1\": 0.5194903606137367, \"x2\": 0.4534105391896169, \"y\": 0}, {\"x1\": -0.6806464053196415, \"x2\": 0.3810258898422004, \"y\": 0}, {\"x1\": -0.5888494989065765, \"x2\": 0.91957974236577, \"y\": 0}, {\"x1\": 1.2661311432455011, \"x2\": -0.29364822002605834, \"y\": 0}, {\"x1\": -0.6467066008929262, \"x2\": 1.1250845212429057, \"y\": 0}, {\"x1\": 2.7049332504735157, \"x2\": -0.39862153639341114, \"y\": 1}, {\"x1\": 0.8164806087213217, \"x2\": -0.0026021138028897717, \"y\": 0}, {\"x1\": 1.5555605421696739, \"x2\": 0.0046935133501846416, \"y\": 1}, {\"x1\": 0.4844730831193902, \"x2\": 0.8706182156732941, \"y\": 0}, {\"x1\": 0.05241233081548646, \"x2\": -0.1477963889870097, \"y\": 1}, {\"x1\": -0.2852653424382963, \"x2\": 0.3737369190887204, \"y\": 1}, {\"x1\": -0.7836932628594877, \"x2\": 0.6234790971745474, \"y\": 0}, {\"x1\": 2.2113655075066827, \"x2\": 0.06896933481045267, \"y\": 1}, {\"x1\": -0.09008907354210853, \"x2\": 0.029789908643303442, \"y\": 1}, {\"x1\": 1.2516447057459268, \"x2\": -0.10762017868018647, \"y\": 1}, {\"x1\": 0.9539843131517496, \"x2\": -0.5762995329334838, \"y\": 1}, {\"x1\": 1.2705112970766115, \"x2\": -0.17309047877232167, \"y\": 1}, {\"x1\": 0.2152134979300696, \"x2\": 0.5182988917580071, \"y\": 0}, {\"x1\": -1.3807305241957417, \"x2\": 0.06321580644392061, \"y\": 0}, {\"x1\": 1.6277303929010831, \"x2\": -0.3029721162768456, \"y\": 1}, {\"x1\": 1.7963612448287887, \"x2\": 0.1957923543206571, \"y\": 1}, {\"x1\": 1.3603139776174866, \"x2\": -0.9637242590516616, \"y\": 1}, {\"x1\": -0.10815350262074563, \"x2\": -0.41398382962785957, \"y\": 1}, {\"x1\": 0.38855189691630093, \"x2\": -0.14394185401530307, \"y\": 1}, {\"x1\": 2.3685611020474915, \"x2\": -0.8662909137322178, \"y\": 1}, {\"x1\": 1.6695515034921977, \"x2\": 0.04484390680843814, \"y\": 1}, {\"x1\": -0.15930308233557217, \"x2\": 0.2278304732734847, \"y\": 1}, {\"x1\": -0.6652379571421008, \"x2\": -0.19626544698007672, \"y\": 0}, {\"x1\": 0.538250607816161, \"x2\": -0.2041448400980544, \"y\": 1}, {\"x1\": 0.8188330015099295, \"x2\": -0.5588156353622825, \"y\": 1}, {\"x1\": -0.4731733113439113, \"x2\": 1.0957418273365354, \"y\": 0}, {\"x1\": 0.17266409940861288, \"x2\": 0.1063130458705035, \"y\": 1}, {\"x1\": 0.030601223377491382, \"x2\": 0.1854749149287847, \"y\": 0}, {\"x1\": 1.1633931466322711, \"x2\": -0.01855932688256995, \"y\": 1}, {\"x1\": 1.834905554527485, \"x2\": 0.7508683284658582, \"y\": 1}, {\"x1\": -1.171175866619743, \"x2\": 0.04554817634849717, \"y\": 0}, {\"x1\": 2.2733501987214986, \"x2\": -1.1610019791124373, \"y\": 1}, {\"x1\": 0.13496465227819007, \"x2\": 1.5469006679996415, \"y\": 0}, {\"x1\": 1.6546898556282486, \"x2\": -0.5459134229205256, \"y\": 1}, {\"x1\": -0.3911694094694501, \"x2\": 1.2752279730422915, \"y\": 0}, {\"x1\": -0.028824444005939844, \"x2\": -0.18748255439745853, \"y\": 1}, {\"x1\": 0.12535047264191565, \"x2\": 0.4861979171026737, \"y\": 0}, {\"x1\": 0.7874106325802868, \"x2\": 0.5748813346366735, \"y\": 0}, {\"x1\": 1.7784469647335504, \"x2\": 0.20404958077534102, \"y\": 1}, {\"x1\": -0.13864541462745497, \"x2\": 0.5938012137949841, \"y\": 0}, {\"x1\": 0.4230169328502771, \"x2\": 0.11493775405479277, \"y\": 1}, {\"x1\": 1.1954195467760265, \"x2\": 0.7592255032104739, \"y\": 0}, {\"x1\": 0.9370032023466471, \"x2\": -0.708318327573398, \"y\": 1}, {\"x1\": 1.01540097884986, \"x2\": 0.8127495652502058, \"y\": 0}, {\"x1\": 0.6006861966038737, \"x2\": -0.7666347278598156, \"y\": 1}, {\"x1\": -1.4295456149977464, \"x2\": 1.0297334200526969, \"y\": 0}, {\"x1\": 1.1227849184931644, \"x2\": -0.9660861230723133, \"y\": 1}, {\"x1\": 0.24491013519789478, \"x2\": 0.2366607405723411, \"y\": 1}, {\"x1\": -0.514455047002065, \"x2\": 0.8238638605770964, \"y\": 0}, {\"x1\": 0.5852847690558395, \"x2\": -0.1764269500841842, \"y\": 1}, {\"x1\": 0.2972801890227578, \"x2\": -0.3581552809730482, \"y\": 1}, {\"x1\": 2.0566905986806043, \"x2\": 0.8654590320895068, \"y\": 1}, {\"x1\": 2.177695782329524, \"x2\": 0.4131462983815838, \"y\": 1}, {\"x1\": 1.0504470973979776, \"x2\": 0.46277076117144983, \"y\": 0}, {\"x1\": -0.6212508289300114, \"x2\": 0.9067925405365731, \"y\": 0}, {\"x1\": 0.4719095041908794, \"x2\": 1.0182156653713925, \"y\": 0}, {\"x1\": 0.4580503728410925, \"x2\": -0.3042607292991524, \"y\": 1}, {\"x1\": -0.9391080642065562, \"x2\": -0.07939265318094577, \"y\": 0}, {\"x1\": -1.3239462127530492, \"x2\": 0.38607764915889264, \"y\": 0}, {\"x1\": -0.41767898481995397, \"x2\": 1.1582149552030265, \"y\": 0}, {\"x1\": -0.18813893054714448, \"x2\": 0.8579590907201105, \"y\": 0}, {\"x1\": -0.23192175060741793, \"x2\": 0.8524827265018406, \"y\": 0}, {\"x1\": 1.888934861857777, \"x2\": -0.6196788406423503, \"y\": 1}, {\"x1\": -1.0137253432422548, \"x2\": 0.8824567741249677, \"y\": 0}, {\"x1\": 0.44089835082251433, \"x2\": 0.14028020836440347, \"y\": 1}, {\"x1\": -0.8493099484408653, \"x2\": 0.27334358281908, \"y\": 0}, {\"x1\": 0.8549753466905426, \"x2\": 1.0602240223520694, \"y\": 0}, {\"x1\": -1.0641757286871607, \"x2\": -0.43067913637043975, \"y\": 0}, {\"x1\": 1.0752179683342518, \"x2\": 0.33609038719694756, \"y\": 0}, {\"x1\": 1.3388073164041268, \"x2\": -0.7789964477568364, \"y\": 1}, {\"x1\": -0.7804226040984581, \"x2\": 0.6210315900602529, \"y\": 0}, {\"x1\": -0.2749743716830566, \"x2\": 1.069542957929194, \"y\": 0}, {\"x1\": 0.9099091477003746, \"x2\": -0.47821167820326893, \"y\": 1}, {\"x1\": -0.8781073819014049, \"x2\": 1.0238828954093155, \"y\": 0}, {\"x1\": 2.105316086171688, \"x2\": 0.7735672532914591, \"y\": 1}, {\"x1\": 0.7220972605688674, \"x2\": -0.3105582233180991, \"y\": 1}, {\"x1\": 0.6605274080654239, \"x2\": 0.26631030981722176, \"y\": 0}, {\"x1\": -1.582312722680939, \"x2\": -0.08645544106596396, \"y\": 0}, {\"x1\": -0.6900662406829249, \"x2\": 1.638236900001024, \"y\": 0}, {\"x1\": -0.208304289736572, \"x2\": 0.7096860953084354, \"y\": 0}, {\"x1\": 2.105502673675197, \"x2\": 0.046514234172173444, \"y\": 1}, {\"x1\": 1.8484128982625752, \"x2\": -0.3100257037458047, \"y\": 1}, {\"x1\": 0.5347871025095465, \"x2\": 0.3951447205642571, \"y\": 1}, {\"x1\": 1.2118530168939794, \"x2\": -0.5216862720671335, \"y\": 1}, {\"x1\": 1.6530394038825422, \"x2\": -0.374851390630349, \"y\": 1}, {\"x1\": 1.4166732251641136, \"x2\": 0.027359315559037867, \"y\": 0}, {\"x1\": 0.07240348864634774, \"x2\": 0.15449106211277125, \"y\": 1}, {\"x1\": -0.30713195885147754, \"x2\": 0.23338141996092038, \"y\": 1}, {\"x1\": 0.5632254626472155, \"x2\": 0.7460794111894404, \"y\": 0}, {\"x1\": 0.4393808922066347, \"x2\": 0.37249431227488683, \"y\": 1}, {\"x1\": 2.295254940086877, \"x2\": 0.18674388688051657, \"y\": 1}, {\"x1\": 1.80697631021563, \"x2\": -0.5783055724059061, \"y\": 1}, {\"x1\": 0.3609627316057592, \"x2\": -0.8231568035976885, \"y\": 1}, {\"x1\": -0.7909232919834218, \"x2\": 0.1646897119497795, \"y\": 1}, {\"x1\": -0.6802109802135552, \"x2\": 1.042121155380261, \"y\": 0}, {\"x1\": 1.7795542150863133, \"x2\": 0.7879350041388277, \"y\": 1}, {\"x1\": 0.10701518548078424, \"x2\": -0.7532488956277447, \"y\": 1}, {\"x1\": 1.0270630137852086, \"x2\": -0.9175479860015112, \"y\": 1}, {\"x1\": 0.12444861829467839, \"x2\": 0.3590782029087885, \"y\": 1}, {\"x1\": -1.1174387679304512, \"x2\": 0.5367718899475833, \"y\": 0}, {\"x1\": 0.38126443618176553, \"x2\": -0.2619107750348032, \"y\": 1}, {\"x1\": 1.7434168670234311, \"x2\": 0.20332995554589472, \"y\": 1}, {\"x1\": 0.3711623958354987, \"x2\": -0.2815005180097805, \"y\": 1}, {\"x1\": 0.12625659963674346, \"x2\": 0.5416635421124196, \"y\": 0}, {\"x1\": 3.0573116372063565, \"x2\": 0.9782928941637913, \"y\": 1}, {\"x1\": 0.5411944339159495, \"x2\": 0.06857870111343944, \"y\": 1}, {\"x1\": 1.9569947867548612, \"x2\": -0.5037632364385116, \"y\": 1}, {\"x1\": -0.9211503936736181, \"x2\": 0.7006415676319675, \"y\": 0}, {\"x1\": 0.30175014013532486, \"x2\": 0.29464435408297207, \"y\": 1}, {\"x1\": -0.671271742050968, \"x2\": 0.8027259023614756, \"y\": 0}, {\"x1\": 0.390974598878929, \"x2\": -0.3260529233557864, \"y\": 1}, {\"x1\": -0.3577059284776465, \"x2\": 0.335308611198471, \"y\": 0}, {\"x1\": 1.8433057838376636, \"x2\": -0.02624565168163545, \"y\": 1}, {\"x1\": 1.2000925039486978, \"x2\": -0.3076715665146147, \"y\": 1}, {\"x1\": 0.6672153648101071, \"x2\": 0.9563604014998469, \"y\": 0}, {\"x1\": 0.9375382211679506, \"x2\": -0.2790941236023291, \"y\": 1}, {\"x1\": -0.9707949595312017, \"x2\": 0.06824008922021094, \"y\": 0}, {\"x1\": 0.5622959168865513, \"x2\": 1.202956745230968, \"y\": 0}, {\"x1\": 0.5169981587031158, \"x2\": 0.7843697071804862, \"y\": 0}, {\"x1\": 0.7160213690033126, \"x2\": -0.5793542553613443, \"y\": 1}, {\"x1\": 1.4742831787248711, \"x2\": 0.06814388432440363, \"y\": 1}, {\"x1\": 1.4744435828173155, \"x2\": -0.9122354259001096, \"y\": 1}, {\"x1\": 0.8148034735895288, \"x2\": 0.13062949773833077, \"y\": 1}, {\"x1\": 0.08380913206042179, \"x2\": -0.11478649244164077, \"y\": 1}, {\"x1\": -0.8820131967680731, \"x2\": -0.2176102271798102, \"y\": 0}, {\"x1\": -0.3357712854671644, \"x2\": 0.9372771409695896, \"y\": 0}, {\"x1\": 1.0297351328129718, \"x2\": 0.04501716241622589, \"y\": 1}, {\"x1\": 0.4971352580129891, \"x2\": -0.6940262249874585, \"y\": 1}, {\"x1\": -0.36757508313485576, \"x2\": 0.3707074848066153, \"y\": 0}, {\"x1\": 0.6050961927726652, \"x2\": -0.9205538678199625, \"y\": 1}, {\"x1\": -0.6347273894019337, \"x2\": -0.1889379675703518, \"y\": 0}, {\"x1\": 1.7081343849664545, \"x2\": -0.15290093358762846, \"y\": 1}, {\"x1\": -0.9885638984049137, \"x2\": -0.024873425438549368, \"y\": 0}, {\"x1\": -0.542843346565011, \"x2\": 0.9545528871528812, \"y\": 0}, {\"x1\": -0.2708133199296501, \"x2\": 0.850139693477707, \"y\": 0}, {\"x1\": 0.9822470954115788, \"x2\": -0.022633384465596373, \"y\": 1}, {\"x1\": 1.2174572494104619, \"x2\": -0.36546911720556463, \"y\": 1}, {\"x1\": 2.19280708459491, \"x2\": 0.036260869258374434, \"y\": 1}, {\"x1\": -0.09780867426991416, \"x2\": 0.1726126208545202, \"y\": 1}, {\"x1\": -1.117640696553746, \"x2\": 0.45016398577278627, \"y\": 0}, {\"x1\": 0.6080825950900672, \"x2\": -0.1729073577972035, \"y\": 0}, {\"x1\": 1.2700867763447672, \"x2\": -0.06419271184213668, \"y\": 1}, {\"x1\": 0.6877014443489018, \"x2\": 0.39420315742656065, \"y\": 0}, {\"x1\": 0.5203918056659653, \"x2\": 0.7488175664743685, \"y\": 0}, {\"x1\": -0.6512805997500948, \"x2\": 0.031577873022165304, \"y\": 0}, {\"x1\": 1.7973507277257852, \"x2\": 0.43247959197781316, \"y\": 1}, {\"x1\": -0.024332809982384962, \"x2\": 0.7789771332165899, \"y\": 0}, {\"x1\": 1.7914467461841102, \"x2\": 0.3856400084058226, \"y\": 1}, {\"x1\": 0.8399335295677497, \"x2\": -0.09233410808507686, \"y\": 0}, {\"x1\": -0.33057225646522004, \"x2\": 0.24346829015837823, \"y\": 0}, {\"x1\": 0.4007418145226873, \"x2\": -0.39723930532279894, \"y\": 1}, {\"x1\": 1.508943470444245, \"x2\": -0.5010546665879534, \"y\": 1}, {\"x1\": 1.5425840245745919, \"x2\": -0.513991804751911, \"y\": 1}, {\"x1\": 1.9324625510207205, \"x2\": 0.10183733287719021, \"y\": 1}, {\"x1\": 1.846054338531871, \"x2\": -0.05075402931119094, \"y\": 1}, {\"x1\": 0.4835547833864086, \"x2\": -0.5704659331383521, \"y\": 1}, {\"x1\": 0.6458346842688623, \"x2\": 0.8179355476703656, \"y\": 0}, {\"x1\": -0.6701427861027425, \"x2\": 0.5534269756565016, \"y\": 0}, {\"x1\": 0.9405130743062813, \"x2\": 0.78982675920612, \"y\": 0}, {\"x1\": 0.09905899004547601, \"x2\": 0.511469438062986, \"y\": 1}, {\"x1\": 1.8541697807318722, \"x2\": -0.34583806453979327, \"y\": 1}, {\"x1\": -0.3935507844131116, \"x2\": 1.037323943676401, \"y\": 0}, {\"x1\": 1.6978854984467744, \"x2\": -0.1937352464489065, \"y\": 1}, {\"x1\": 0.26082989440759785, \"x2\": -0.38212361894182567, \"y\": 1}, {\"x1\": -0.2596446510985641, \"x2\": 1.1037662060089015, \"y\": 0}, {\"x1\": 1.2632004147607723, \"x2\": 0.12261290422305438, \"y\": 1}, {\"x1\": -0.2838962934206049, \"x2\": 1.6010928509412863, \"y\": 0}, {\"x1\": 0.015459383921033687, \"x2\": 0.7733213832589206, \"y\": 0}, {\"x1\": 2.035316526616848, \"x2\": -0.3176010166011708, \"y\": 1}, {\"x1\": 1.5655658278027846, \"x2\": -0.3803975301415219, \"y\": 1}, {\"x1\": 0.4377639986761926, \"x2\": 0.1291577824427511, \"y\": 0}, {\"x1\": -0.5891931135630241, \"x2\": 0.5019704358583055, \"y\": 0}, {\"x1\": 0.49941309229193287, \"x2\": -0.23209764253111714, \"y\": 1}, {\"x1\": 2.2326490162201695, \"x2\": 0.2066889252088404, \"y\": 1}, {\"x1\": 1.3073803004279436, \"x2\": 0.3648169226737918, \"y\": 0}, {\"x1\": 1.0260940697328973, \"x2\": 0.497539189630363, \"y\": 0}, {\"x1\": 1.0234361863094672, \"x2\": -0.3838231723104893, \"y\": 1}, {\"x1\": -1.041358590516464, \"x2\": 0.8512311460602346, \"y\": 0}, {\"x1\": -0.8600198351948853, \"x2\": -0.09022595798647365, \"y\": 0}, {\"x1\": 1.2484771147148428, \"x2\": 0.4625174862571789, \"y\": 0}, {\"x1\": 1.2246213791400624, \"x2\": 0.1770218863409874, \"y\": 1}, {\"x1\": 1.0541001097742995, \"x2\": -0.5400624595566929, \"y\": 0}, {\"x1\": 1.333209192023069, \"x2\": -0.30659189613799, \"y\": 1}, {\"x1\": 0.8121998525396308, \"x2\": -0.09571260913916374, \"y\": 1}, {\"x1\": 0.2774842419293083, \"x2\": -0.4023924089920262, \"y\": 1}, {\"x1\": -0.2647703028854625, \"x2\": 1.131170374432716, \"y\": 0}, {\"x1\": 0.368721630857363, \"x2\": 0.6542933289236655, \"y\": 0}, {\"x1\": 0.8490990598735119, \"x2\": 1.2711028647895342, \"y\": 0}, {\"x1\": 0.3602857833806096, \"x2\": 0.5378991277960468, \"y\": 0}, {\"x1\": 0.7622620956495677, \"x2\": 1.1105927448572164, \"y\": 0}, {\"x1\": 0.6496716747285982, \"x2\": -0.506940402965906, \"y\": 1}, {\"x1\": 2.1006754149881766, \"x2\": -1.0472926377646952, \"y\": 1}, {\"x1\": 0.5036975526894956, \"x2\": -0.5065548334550037, \"y\": 1}, {\"x1\": 1.9164175801960945, \"x2\": 0.08338516186502404, \"y\": 1}, {\"x1\": 0.07590771211912971, \"x2\": 1.6437592152479055, \"y\": 0}, {\"x1\": 0.3478803828433359, \"x2\": -0.2770746110412896, \"y\": 1}, {\"x1\": 2.2342750711816404, \"x2\": 0.2483252390432631, \"y\": 1}, {\"x1\": 1.8231303430747963, \"x2\": 0.08992609631291204, \"y\": 1}, {\"x1\": 0.22451724544863388, \"x2\": 0.27638589998337737, \"y\": 1}, {\"x1\": 0.7128507817568255, \"x2\": -0.5507622620982949, \"y\": 1}, {\"x1\": -0.5619126680898223, \"x2\": 0.7065246856729264, \"y\": 0}, {\"x1\": 1.1020697410708766, \"x2\": -0.4404510789489248, \"y\": 1}, {\"x1\": 1.6717836267819348, \"x2\": -0.23387603350373243, \"y\": 1}, {\"x1\": -0.5358149182365665, \"x2\": -0.322694708208328, \"y\": 1}, {\"x1\": 0.7033698779544965, \"x2\": 0.42270472850971275, \"y\": 0}, {\"x1\": 0.5114749403146311, \"x2\": 0.7830250971241, \"y\": 0}, {\"x1\": 2.27494715639806, \"x2\": 0.08093849551414098, \"y\": 1}, {\"x1\": 1.1271260816623365, \"x2\": -0.16272897135705916, \"y\": 1}, {\"x1\": -0.14715132647219872, \"x2\": 0.3933069670575159, \"y\": 1}, {\"x1\": 0.12835155892263736, \"x2\": -0.1464291458049906, \"y\": 1}, {\"x1\": 0.5098286422883137, \"x2\": 0.0011327309297384791, \"y\": 1}, {\"x1\": 0.5872840794770957, \"x2\": 0.4761506915587341, \"y\": 0}, {\"x1\": -0.8591530951950073, \"x2\": 0.27506052338644416, \"y\": 0}, {\"x1\": -0.2205141703127278, \"x2\": -0.40725365154505255, \"y\": 1}, {\"x1\": 0.41245700381734446, \"x2\": 0.4880261823411484, \"y\": 0}, {\"x1\": 1.193294108527978, \"x2\": -0.5700276848902356, \"y\": 1}, {\"x1\": 1.0370823543121257, \"x2\": -0.48000153966085574, \"y\": 1}, {\"x1\": 0.10740439843141662, \"x2\": 0.2399308255580398, \"y\": 1}, {\"x1\": 0.4740665631758476, \"x2\": 0.7159851374947872, \"y\": 0}, {\"x1\": -0.1637909559264531, \"x2\": 0.4768619043434764, \"y\": 0}, {\"x1\": 1.6378989923447895, \"x2\": -0.08496105515782973, \"y\": 1}, {\"x1\": 0.39825468417446164, \"x2\": -0.4047106381282688, \"y\": 1}, {\"x1\": 1.1400755157464875, \"x2\": 0.22585470692012322, \"y\": 0}, {\"x1\": 0.7640399531125552, \"x2\": -0.22327330206303947, \"y\": 1}, {\"x1\": -1.091084295350827, \"x2\": 0.13743830500126225, \"y\": 0}, {\"x1\": 1.66977080334141, \"x2\": 0.15194992351452663, \"y\": 1}, {\"x1\": 0.15381740419369488, \"x2\": 0.2096739596844533, \"y\": 1}, {\"x1\": 0.2312604833647601, \"x2\": -0.05441479708121924, \"y\": 1}, {\"x1\": 1.5762869798848418, \"x2\": 0.4759860410055982, \"y\": 1}, {\"x1\": 0.5359179766629918, \"x2\": 0.8341031169396537, \"y\": 0}, {\"x1\": 0.572078922654941, \"x2\": -0.29787207182659553, \"y\": 1}, {\"x1\": 0.9288801597961996, \"x2\": 0.48872898439073204, \"y\": 0}, {\"x1\": 0.2654091992339668, \"x2\": 1.3870664578882104, \"y\": 0}, {\"x1\": 0.027653888520980496, \"x2\": 1.2405346074717045, \"y\": 0}, {\"x1\": 0.7638167757379353, \"x2\": 0.6266130422333404, \"y\": 0}, {\"x1\": -0.27185501438146864, \"x2\": 0.4506645786878575, \"y\": 1}, {\"x1\": 0.8839632308984438, \"x2\": 0.8645411877436666, \"y\": 0}, {\"x1\": 0.7197109978712326, \"x2\": -0.5781906329963239, \"y\": 1}, {\"x1\": 1.1835805898464544, \"x2\": 0.24798864887868177, \"y\": 0}, {\"x1\": 2.5518483954116475, \"x2\": 1.0215853535158013, \"y\": 1}, {\"x1\": 0.19009652636413565, \"x2\": 1.4415695823360133, \"y\": 0}, {\"x1\": 0.49981345696668245, \"x2\": -0.8129848944582707, \"y\": 1}, {\"x1\": 0.17034577916143218, \"x2\": 0.08622043211366687, \"y\": 1}, {\"x1\": 1.6190778812848567, \"x2\": 0.030102729450492915, \"y\": 1}, {\"x1\": 0.9537189891118691, \"x2\": 1.2491498926843219, \"y\": 0}, {\"x1\": 0.1306882636553428, \"x2\": -0.2805884784754697, \"y\": 1}, {\"x1\": 0.9476405791992728, \"x2\": -0.25263696758085574, \"y\": 1}, {\"x1\": 1.7913015170701407, \"x2\": -0.6348826173995218, \"y\": 1}, {\"x1\": 1.2184458261458664, \"x2\": 0.3487933317054316, \"y\": 0}, {\"x1\": 0.25307297959995134, \"x2\": -0.2164572528186631, \"y\": 1}, {\"x1\": 1.1240667104139583, \"x2\": 0.888468142819832, \"y\": 0}, {\"x1\": 0.4605400238230552, \"x2\": 1.096316500279928, \"y\": 0}, {\"x1\": -0.27315106602095857, \"x2\": 0.17010589862289244, \"y\": 1}, {\"x1\": -1.6896907426757455, \"x2\": 0.05464601164186089, \"y\": 0}, {\"x1\": 0.20731850676573937, \"x2\": 0.14816482891735872, \"y\": 1}, {\"x1\": 1.9614147913054638, \"x2\": -0.6903551493584784, \"y\": 1}, {\"x1\": 0.41825045401094396, \"x2\": 0.07633078642604171, \"y\": 1}, {\"x1\": 1.8306383343060104, \"x2\": 0.15785737707170427, \"y\": 1}, {\"x1\": 2.3583722616557248, \"x2\": 0.01203983343183817, \"y\": 1}, {\"x1\": -0.21642510356088157, \"x2\": 1.0293844577252755, \"y\": 0}, {\"x1\": 0.06526043877970689, \"x2\": 0.542808876772753, \"y\": 0}, {\"x1\": 0.9098642516576052, \"x2\": 1.4968684078999441, \"y\": 0}, {\"x1\": -1.049245810203231, \"x2\": -0.029886190098676102, \"y\": 0}, {\"x1\": 0.23556767833780534, \"x2\": 0.8001269623858374, \"y\": 0}, {\"x1\": 2.386245062610514, \"x2\": 0.3596584221658473, \"y\": 1}, {\"x1\": -0.32984557635346584, \"x2\": 1.166282047776495, \"y\": 0}, {\"x1\": -0.14414309199765252, \"x2\": 0.9883894708943036, \"y\": 0}, {\"x1\": 0.5134692130548417, \"x2\": -0.638679349476571, \"y\": 1}, {\"x1\": 0.5976837605975878, \"x2\": 0.48336146382129525, \"y\": 0}, {\"x1\": 0.48935233984344245, \"x2\": 0.8912828721097648, \"y\": 0}, {\"x1\": 1.193405394638387, \"x2\": -0.9541179644438229, \"y\": 1}, {\"x1\": 0.6850730567939377, \"x2\": 0.06764568190096741, \"y\": 0}, {\"x1\": 1.7776910265689938, \"x2\": -0.2426161401430141, \"y\": 1}, {\"x1\": 0.4179893079169935, \"x2\": 0.7542636294946551, \"y\": 0}, {\"x1\": 0.9475572818530984, \"x2\": -0.20906482043203367, \"y\": 1}, {\"x1\": -1.112121361675454, \"x2\": 0.5657193188097872, \"y\": 0}, {\"x1\": -0.20177558010074254, \"x2\": 0.4232861836944429, \"y\": 0}, {\"x1\": 0.1418480629966361, \"x2\": 0.019892677766573247, \"y\": 1}, {\"x1\": 1.2015267989723855, \"x2\": -0.6642656074025213, \"y\": 1}, {\"x1\": -0.7555075792986944, \"x2\": 0.00737954485758747, \"y\": 0}, {\"x1\": 1.7407311510951802, \"x2\": 0.27965426385212383, \"y\": 1}, {\"x1\": 0.10831079493481485, \"x2\": -0.4109724017207404, \"y\": 1}, {\"x1\": -1.652678784567612, \"x2\": 0.03748574803328686, \"y\": 0}, {\"x1\": -0.7308585927008604, \"x2\": -0.2403835987038379, \"y\": 0}, {\"x1\": -1.1624494439258501, \"x2\": 0.42190391397082094, \"y\": 0}, {\"x1\": 1.806409867391949, \"x2\": 0.22846988641989274, \"y\": 1}, {\"x1\": 0.9963126764660997, \"x2\": -0.4440033049646216, \"y\": 1}, {\"x1\": 0.6010130035436572, \"x2\": -0.3689450617415892, \"y\": 1}, {\"x1\": 0.17286413203659118, \"x2\": 0.15029611334174778, \"y\": 1}, {\"x1\": -0.5021029972243983, \"x2\": -0.2978680570816646, \"y\": 1}, {\"x1\": -0.010944724091534908, \"x2\": -0.45543440951398084, \"y\": 1}, {\"x1\": -0.1802936367975222, \"x2\": 1.0657972143824868, \"y\": 0}, {\"x1\": -0.12989423928267893, \"x2\": 1.2271418146751234, \"y\": 0}, {\"x1\": 2.353172949517426, \"x2\": -0.32548253626698753, \"y\": 1}, {\"x1\": 2.104524071501146, \"x2\": 0.7709881644616489, \"y\": 1}, {\"x1\": 1.7302152066462362, \"x2\": -0.5287826768074386, \"y\": 1}, {\"x1\": 1.1852176111912454, \"x2\": 0.6163352938365457, \"y\": 0}, {\"x1\": 1.099026683811821, \"x2\": -0.608235987407252, \"y\": 1}, {\"x1\": 1.5254144095896875, \"x2\": -0.7627705528332015, \"y\": 1}, {\"x1\": -0.4039206792809217, \"x2\": 0.8591514778511298, \"y\": 0}, {\"x1\": 1.5980728256534662, \"x2\": 0.37617785167886586, \"y\": 0}, {\"x1\": -0.6093186519345883, \"x2\": -0.15290397664795013, \"y\": 0}, {\"x1\": 2.1850143645882762, \"x2\": -0.6061598256272913, \"y\": 1}, {\"x1\": -0.20570964083521726, \"x2\": 1.1678129169012434, \"y\": 0}, {\"x1\": -0.14331365558378165, \"x2\": 1.1482878157777714, \"y\": 0}, {\"x1\": 0.252762537530699, \"x2\": -0.05994221518852058, \"y\": 1}, {\"x1\": 0.5053745378764507, \"x2\": 0.9828800781428171, \"y\": 0}, {\"x1\": 0.7518954698809861, \"x2\": -0.17367242703470226, \"y\": 1}, {\"x1\": 0.1875483416025344, \"x2\": 1.4525663921362202, \"y\": 0}, {\"x1\": 0.6797320960220644, \"x2\": -0.6977759281293914, \"y\": 1}, {\"x1\": 0.6491269283613186, \"x2\": -0.27190757775757435, \"y\": 0}, {\"x1\": 0.5538842216961308, \"x2\": -0.8396159103395817, \"y\": 1}, {\"x1\": 1.683495757376415, \"x2\": -0.5284981138485721, \"y\": 1}, {\"x1\": 2.270063841625725, \"x2\": 0.18370779248700098, \"y\": 1}, {\"x1\": 0.16668212627767562, \"x2\": 1.5833280596245864, \"y\": 0}, {\"x1\": -1.1016106272547437, \"x2\": 0.10715978686195676, \"y\": 0}, {\"x1\": -1.947063256434602, \"x2\": 0.19861051122804343, \"y\": 0}, {\"x1\": -1.4776346597290295, \"x2\": 0.2333655974091538, \"y\": 0}, {\"x1\": 1.2875200730154888, \"x2\": -0.24801716677428795, \"y\": 1}, {\"x1\": 1.1078606879205921, \"x2\": -0.43887086991906493, \"y\": 1}, {\"x1\": -0.356699374249828, \"x2\": 0.4909405838227112, \"y\": 0}, {\"x1\": -0.23146948244532678, \"x2\": 0.04048922058052236, \"y\": 1}, {\"x1\": -0.7708286396790514, \"x2\": 0.9914297328994289, \"y\": 0}, {\"x1\": 0.8080688958245478, \"x2\": 0.9995787423918634, \"y\": 0}, {\"x1\": -0.41743662791281444, \"x2\": 0.7175168658342794, \"y\": 0}, {\"x1\": 1.3915432584510383, \"x2\": -0.4115890585606071, \"y\": 1}, {\"x1\": 0.4014675490963062, \"x2\": 0.8156033606827936, \"y\": 1}, {\"x1\": 1.4417236983236525, \"x2\": -0.20210327421033852, \"y\": 1}, {\"x1\": 1.970230731375496, \"x2\": -0.04842452630216182, \"y\": 1}, {\"x1\": 1.4024259092896143, \"x2\": 0.16017021161942435, \"y\": 1}, {\"x1\": 0.9370246157061117, \"x2\": 0.34330493746145474, \"y\": 0}, {\"x1\": 1.3445483802232292, \"x2\": 0.5457092980964344, \"y\": 1}, {\"x1\": 1.9032193184539294, \"x2\": -0.05135571007284971, \"y\": 1}, {\"x1\": 1.0799576723146433, \"x2\": -0.11808875634814747, \"y\": 0}, {\"x1\": 0.9635521379531724, \"x2\": -0.2999665524582298, \"y\": 1}, {\"x1\": -0.08306311200202027, \"x2\": 0.9222928078795725, \"y\": 0}, {\"x1\": -1.4896219478350963, \"x2\": 0.12518366382489565, \"y\": 0}, {\"x1\": -0.6205207739298138, \"x2\": 0.7294190589824265, \"y\": 0}, {\"x1\": 1.1437507424403328, \"x2\": -0.09057910015036724, \"y\": 1}, {\"x1\": 1.176523561740389, \"x2\": -1.2686771018637204, \"y\": 1}, {\"x1\": 0.06291237153326108, \"x2\": 1.5037780050651337, \"y\": 0}, {\"x1\": 0.41123930170087, \"x2\": 0.5780007226965072, \"y\": 0}, {\"x1\": -0.6657763616560586, \"x2\": 0.4065845549039341, \"y\": 0}, {\"x1\": 0.783923483848245, \"x2\": 0.3204094959795774, \"y\": 0}, {\"x1\": 1.7931522102862032, \"x2\": 0.7871368470530583, \"y\": 1}, {\"x1\": 0.5561240336942684, \"x2\": 0.9360107033249375, \"y\": 0}, {\"x1\": 0.3037326572993974, \"x2\": 0.5673426528382735, \"y\": 1}, {\"x1\": 0.8261647662134799, \"x2\": -0.013199648660278285, \"y\": 1}, {\"x1\": -0.17911078764394084, \"x2\": -0.8571318658187708, \"y\": 1}, {\"x1\": -0.7579917852821981, \"x2\": 0.44101097946874146, \"y\": 0}, {\"x1\": -0.3028308872976828, \"x2\": 0.7959921267463229, \"y\": 0}]}}, {\"mode\": \"vega-lite\"});\n",
       "</script>"
      ],
      "text/plain": [
       "alt.Chart(...)"
      ]
     },
     "execution_count": 24,
     "metadata": {},
     "output_type": "execute_result"
    }
   ],
   "source": [
    "import altair as alt\n",
    "alt.Chart(pd.DataFrame({'x1': X_data[:, 0], 'x2': X_data[:, 1], 'y': Y_data})).mark_point().encode(\n",
    "    x='x1', y='x2', color=alt.Color('y', scale=alt.Scale(domain=[0.0, 1.0], range=['red', 'blue'])))\n"
   ]
  },
  {
   "attachments": {},
   "cell_type": "markdown",
   "metadata": {},
   "source": [
    "**(c)** Visualizing Data Subsets"
   ]
  },
  {
   "cell_type": "code",
   "execution_count": null,
   "metadata": {},
   "outputs": [
    {
     "data": {
      "text/html": [
       "\n",
       "<div id=\"altair-viz-fa83f1d1974845e5a66999f1189b8572\"></div>\n",
       "<script type=\"text/javascript\">\n",
       "  var VEGA_DEBUG = (typeof VEGA_DEBUG == \"undefined\") ? {} : VEGA_DEBUG;\n",
       "  (function(spec, embedOpt){\n",
       "    let outputDiv = document.currentScript.previousElementSibling;\n",
       "    if (outputDiv.id !== \"altair-viz-fa83f1d1974845e5a66999f1189b8572\") {\n",
       "      outputDiv = document.getElementById(\"altair-viz-fa83f1d1974845e5a66999f1189b8572\");\n",
       "    }\n",
       "    const paths = {\n",
       "      \"vega\": \"https://cdn.jsdelivr.net/npm//vega@5?noext\",\n",
       "      \"vega-lib\": \"https://cdn.jsdelivr.net/npm//vega-lib?noext\",\n",
       "      \"vega-lite\": \"https://cdn.jsdelivr.net/npm//vega-lite@4.17.0?noext\",\n",
       "      \"vega-embed\": \"https://cdn.jsdelivr.net/npm//vega-embed@6?noext\",\n",
       "    };\n",
       "\n",
       "    function maybeLoadScript(lib, version) {\n",
       "      var key = `${lib.replace(\"-\", \"\")}_version`;\n",
       "      return (VEGA_DEBUG[key] == version) ?\n",
       "        Promise.resolve(paths[lib]) :\n",
       "        new Promise(function(resolve, reject) {\n",
       "          var s = document.createElement('script');\n",
       "          document.getElementsByTagName(\"head\")[0].appendChild(s);\n",
       "          s.async = true;\n",
       "          s.onload = () => {\n",
       "            VEGA_DEBUG[key] = version;\n",
       "            return resolve(paths[lib]);\n",
       "          };\n",
       "          s.onerror = () => reject(`Error loading script: ${paths[lib]}`);\n",
       "          s.src = paths[lib];\n",
       "        });\n",
       "    }\n",
       "\n",
       "    function showError(err) {\n",
       "      outputDiv.innerHTML = `<div class=\"error\" style=\"color:red;\">${err}</div>`;\n",
       "      throw err;\n",
       "    }\n",
       "\n",
       "    function displayChart(vegaEmbed) {\n",
       "      vegaEmbed(outputDiv, spec, embedOpt)\n",
       "        .catch(err => showError(`Javascript Error: ${err.message}<br>This usually means there's a typo in your chart specification. See the javascript console for the full traceback.`));\n",
       "    }\n",
       "\n",
       "    if(typeof define === \"function\" && define.amd) {\n",
       "      requirejs.config({paths});\n",
       "      require([\"vega-embed\"], displayChart, err => showError(`Error loading script: ${err.message}`));\n",
       "    } else {\n",
       "      maybeLoadScript(\"vega\", \"5\")\n",
       "        .then(() => maybeLoadScript(\"vega-lite\", \"4.17.0\"))\n",
       "        .then(() => maybeLoadScript(\"vega-embed\", \"6\"))\n",
       "        .catch(showError)\n",
       "        .then(() => displayChart(vegaEmbed));\n",
       "    }\n",
       "  })({\"config\": {\"view\": {\"continuousWidth\": 400, \"continuousHeight\": 300}}, \"vconcat\": [{\"hconcat\": [{\"data\": {\"name\": \"data-a299a5839f5da208f655b68483efdb4b\"}, \"mark\": \"point\", \"encoding\": {\"color\": {\"field\": \"y\", \"scale\": {\"domain\": [0.0, 1.0], \"range\": [\"red\", \"blue\"]}, \"type\": \"quantitative\"}, \"x\": {\"field\": \"x1\", \"type\": \"quantitative\"}, \"y\": {\"field\": \"x2\", \"type\": \"quantitative\"}}}, {\"data\": {\"name\": \"data-3c97f5da6332a5f986c60c88bae7da1c\"}, \"mark\": \"point\", \"encoding\": {\"color\": {\"field\": \"y\", \"scale\": {\"domain\": [0.0, 1.0], \"range\": [\"red\", \"blue\"]}, \"type\": \"quantitative\"}, \"x\": {\"field\": \"x1\", \"type\": \"quantitative\"}, \"y\": {\"field\": \"x2\", \"type\": \"quantitative\"}}}, {\"data\": {\"name\": \"data-ecbfe4640f1e712de284b5010467a301\"}, \"mark\": \"point\", \"encoding\": {\"color\": {\"field\": \"y\", \"scale\": {\"domain\": [0.0, 1.0], \"range\": [\"red\", \"blue\"]}, \"type\": \"quantitative\"}, \"x\": {\"field\": \"x1\", \"type\": \"quantitative\"}, \"y\": {\"field\": \"x2\", \"type\": \"quantitative\"}}}]}, {\"hconcat\": [{\"data\": {\"name\": \"data-fbafc27971d2ac1febaca513ad49e58f\"}, \"mark\": \"point\", \"encoding\": {\"color\": {\"field\": \"y\", \"scale\": {\"domain\": [0.0, 1.0], \"range\": [\"red\", \"blue\"]}, \"type\": \"quantitative\"}, \"x\": {\"field\": \"x1\", \"type\": \"quantitative\"}, \"y\": {\"field\": \"x2\", \"type\": \"quantitative\"}}}, {\"data\": {\"name\": \"data-962400d2744ff7a1d2deb6674fb8e38c\"}, \"mark\": \"point\", \"encoding\": {\"color\": {\"field\": \"y\", \"scale\": {\"domain\": [0.0, 1.0], \"range\": [\"red\", \"blue\"]}, \"type\": \"quantitative\"}, \"x\": {\"field\": \"x1\", \"type\": \"quantitative\"}, \"y\": {\"field\": \"x2\", \"type\": \"quantitative\"}}}, {\"data\": {\"name\": \"data-991372a5dc6ceb073aa3af8b0fba83bc\"}, \"mark\": \"point\", \"encoding\": {\"color\": {\"field\": \"y\", \"scale\": {\"domain\": [0.0, 1.0], \"range\": [\"red\", \"blue\"]}, \"type\": \"quantitative\"}, \"x\": {\"field\": \"x1\", \"type\": \"quantitative\"}, \"y\": {\"field\": \"x2\", \"type\": \"quantitative\"}}}]}, {\"hconcat\": [{\"data\": {\"name\": \"data-b098576bffd03b2e525cf3eb2a848392\"}, \"mark\": \"point\", \"encoding\": {\"color\": {\"field\": \"y\", \"scale\": {\"domain\": [0.0, 1.0], \"range\": [\"red\", \"blue\"]}, \"type\": \"quantitative\"}, \"x\": {\"field\": \"x1\", \"type\": \"quantitative\"}, \"y\": {\"field\": \"x2\", \"type\": \"quantitative\"}}}, {\"data\": {\"name\": \"data-88fe0b9577aeea772ae5e06f7e35abdd\"}, \"mark\": \"point\", \"encoding\": {\"color\": {\"field\": \"y\", \"scale\": {\"domain\": [0.0, 1.0], \"range\": [\"red\", \"blue\"]}, \"type\": \"quantitative\"}, \"x\": {\"field\": \"x1\", \"type\": \"quantitative\"}, \"y\": {\"field\": \"x2\", \"type\": \"quantitative\"}}}, {\"data\": {\"name\": \"data-96143fd44bcb64a18da5e4d3b6277e03\"}, \"mark\": \"point\", \"encoding\": {\"color\": {\"field\": \"y\", \"scale\": {\"domain\": [0.0, 1.0], \"range\": [\"red\", \"blue\"]}, \"type\": \"quantitative\"}, \"x\": {\"field\": \"x1\", \"type\": \"quantitative\"}, \"y\": {\"field\": \"x2\", \"type\": \"quantitative\"}}}]}], \"$schema\": \"https://vega.github.io/schema/vega-lite/v4.17.0.json\", \"datasets\": {\"data-a299a5839f5da208f655b68483efdb4b\": [{\"x1\": -0.8853347508421124, \"x2\": 1.2113326180271051, \"y\": 0}, {\"x1\": -0.3028308872976828, \"x2\": 0.7959921267463229, \"y\": 0}, {\"x1\": -0.3935507844131116, \"x2\": 1.037323943676401, \"y\": 0}, {\"x1\": -0.41767898481995397, \"x2\": 1.1582149552030265, \"y\": 0}, {\"x1\": 0.4229077215496357, \"x2\": 0.6039996028834982, \"y\": 0}, {\"x1\": 2.270063841625725, \"x2\": 0.18370779248700098, \"y\": 1}, {\"x1\": -0.8597384655611336, \"x2\": 1.0571834901700274, \"y\": 1}, {\"x1\": 0.017708493746404215, \"x2\": 0.4914397804392859, \"y\": 1}, {\"x1\": -0.23242987634094547, \"x2\": -0.10628612981374419, \"y\": 0}, {\"x1\": 1.5187834518819516, \"x2\": -0.5587992800952386, \"y\": 1}, {\"x1\": 0.5053745378764507, \"x2\": 0.9828800781428171, \"y\": 0}, {\"x1\": 0.6400606856880445, \"x2\": 0.12220473278249652, \"y\": 1}, {\"x1\": 0.9086797978178531, \"x2\": -0.29981768482233584, \"y\": 1}, {\"x1\": -1.0641757286871607, \"x2\": -0.43067913637043975, \"y\": 0}, {\"x1\": -1.021692396061068, \"x2\": -0.24113726844930053, \"y\": 0}, {\"x1\": -0.05957267685112794, \"x2\": 1.8322808425500197, \"y\": 0}, {\"x1\": -0.6512805997500948, \"x2\": 0.031577873022165304, \"y\": 0}, {\"x1\": -0.878871348982087, \"x2\": 0.07831803736860754, \"y\": 0}, {\"x1\": 0.4178272519647092, \"x2\": 0.8207696217389061, \"y\": 1}, {\"x1\": 0.38268719316607674, \"x2\": 0.5749171874449703, \"y\": 0}, {\"x1\": -0.21853619187067214, \"x2\": -0.5312836199606839, \"y\": 1}, {\"x1\": -0.8820131967680731, \"x2\": -0.2176102271798102, \"y\": 0}, {\"x1\": 1.461396543194566, \"x2\": -0.5274718337100107, \"y\": 1}, {\"x1\": 1.1258480523228669, \"x2\": -0.5460888807761234, \"y\": 1}, {\"x1\": -0.09780867426991416, \"x2\": 0.1726126208545202, \"y\": 1}, {\"x1\": 0.41825045401094396, \"x2\": 0.07633078642604171, \"y\": 1}, {\"x1\": 0.6787895264813578, \"x2\": -0.18967398461831197, \"y\": 0}, {\"x1\": -0.23242987634094547, \"x2\": -0.10628612981374419, \"y\": 0}, {\"x1\": 0.5160790773200435, \"x2\": 0.7212719090472632, \"y\": 0}, {\"x1\": -1.1970135543867277, \"x2\": 0.18696123169939116, \"y\": 0}, {\"x1\": 0.04994685780877148, \"x2\": 1.0195171777514065, \"y\": 0}, {\"x1\": -1.2920445540558338, \"x2\": 0.31834373806409266, \"y\": 0}, {\"x1\": 0.5347871025095465, \"x2\": 0.3951447205642571, \"y\": 1}, {\"x1\": 0.7882663614320944, \"x2\": 1.0517741772168663, \"y\": 0}, {\"x1\": 0.31008119164762943, \"x2\": 1.2734266760335098, \"y\": 0}, {\"x1\": -0.7555075792986944, \"x2\": 0.00737954485758747, \"y\": 0}, {\"x1\": 1.6345801349517015, \"x2\": 0.3416873865971249, \"y\": 1}, {\"x1\": 1.9196527491510136, \"x2\": 0.02491192519852259, \"y\": 1}, {\"x1\": -1.4295456149977464, \"x2\": 1.0297334200526969, \"y\": 0}, {\"x1\": 2.1021807269628896, \"x2\": 0.6747750286616351, \"y\": 1}, {\"x1\": -0.0018274689203807704, \"x2\": 1.2877594941889088, \"y\": 0}, {\"x1\": 1.3445483802232292, \"x2\": 0.5457092980964344, \"y\": 1}, {\"x1\": 0.12625659963674346, \"x2\": 0.5416635421124196, \"y\": 0}, {\"x1\": -0.9781171205943013, \"x2\": 0.6168472381048673, \"y\": 0}, {\"x1\": 0.3713648935833572, \"x2\": 1.2116581181837165, \"y\": 0}, {\"x1\": 1.1817590935695357, \"x2\": 0.20908181270698512, \"y\": 0}, {\"x1\": 0.9086797978178531, \"x2\": -0.29981768482233584, \"y\": 1}, {\"x1\": -0.9383327989545892, \"x2\": -0.18087939137326148, \"y\": 0}, {\"x1\": 0.3171816891174739, \"x2\": -0.0209331006584679, \"y\": 1}, {\"x1\": 1.4989376373929935, \"x2\": -0.592855892777316, \"y\": 1}, {\"x1\": 2.035316526616848, \"x2\": -0.3176010166011708, \"y\": 1}, {\"x1\": -0.9707949595312017, \"x2\": 0.06824008922021094, \"y\": 0}, {\"x1\": 1.193405394638387, \"x2\": -0.9541179644438229, \"y\": 1}, {\"x1\": -0.010944724091534908, \"x2\": -0.45543440951398084, \"y\": 1}, {\"x1\": 0.40636843288455377, \"x2\": -0.6288807005030153, \"y\": 1}, {\"x1\": -0.4015916285606933, \"x2\": 0.8069809055095667, \"y\": 0}, {\"x1\": -0.76290047109565, \"x2\": 0.12524280675662436, \"y\": 0}, {\"x1\": -0.978046099000287, \"x2\": 0.9021272966883539, \"y\": 0}, {\"x1\": 1.683495757376415, \"x2\": -0.5284981138485721, \"y\": 1}, {\"x1\": 1.046490122262956, \"x2\": 1.1589688107610585, \"y\": 0}, {\"x1\": 0.07157085711701128, \"x2\": 0.3944088640395569, \"y\": 0}, {\"x1\": 1.1497628412047294, \"x2\": 0.6562377312319915, \"y\": 0}, {\"x1\": 0.06526043877970689, \"x2\": 0.542808876772753, \"y\": 0}, {\"x1\": 1.5762869798848418, \"x2\": 0.4759860410055982, \"y\": 1}, {\"x1\": 0.7275394881310907, \"x2\": -0.6616155176707776, \"y\": 1}, {\"x1\": -0.27185501438146864, \"x2\": 0.4506645786878575, \"y\": 1}, {\"x1\": 1.4989376373929935, \"x2\": -0.592855892777316, \"y\": 1}, {\"x1\": 2.7049332504735157, \"x2\": -0.39862153639341114, \"y\": 1}, {\"x1\": 1.66977080334141, \"x2\": 0.15194992351452663, \"y\": 1}, {\"x1\": 1.5752819293341243, \"x2\": -0.0466385824700003, \"y\": 0}, {\"x1\": -0.30974269042981706, \"x2\": 0.8771880808881309, \"y\": 0}, {\"x1\": -0.08151302784904194, \"x2\": -0.5750026788932133, \"y\": 1}, {\"x1\": -0.12989423928267893, \"x2\": 1.2271418146751234, \"y\": 0}, {\"x1\": 1.2071963705507214, \"x2\": -0.15813978532518372, \"y\": 1}, {\"x1\": 0.4605400238230552, \"x2\": 1.096316500279928, \"y\": 0}, {\"x1\": 1.281939883050233, \"x2\": -0.15986726262949275, \"y\": 0}, {\"x1\": -0.4015916285606933, \"x2\": 0.8069809055095667, \"y\": 0}, {\"x1\": -1.3239462127530492, \"x2\": 0.38607764915889264, \"y\": 0}, {\"x1\": 1.4166732251641136, \"x2\": 0.027359315559037867, \"y\": 0}, {\"x1\": 0.9288801597961996, \"x2\": 0.48872898439073204, \"y\": 0}, {\"x1\": 1.0247050615731779, \"x2\": 0.5383355365945188, \"y\": 0}, {\"x1\": 1.8081106726531504, \"x2\": -0.040676827496557155, \"y\": 1}, {\"x1\": -1.1624494439258501, \"x2\": 0.42190391397082094, \"y\": 0}, {\"x1\": -0.2374036685157106, \"x2\": 1.0014520696950084, \"y\": 0}, {\"x1\": 0.8395802183094461, \"x2\": -0.6165215528897602, \"y\": 1}, {\"x1\": 1.6345801349517015, \"x2\": 0.3416873865971249, \"y\": 1}, {\"x1\": -0.3357712854671644, \"x2\": 0.9372771409695896, \"y\": 0}, {\"x1\": 1.372137941629394, \"x2\": -0.7560430566445762, \"y\": 1}, {\"x1\": 0.9098642516576052, \"x2\": 1.4968684078999441, \"y\": 0}, {\"x1\": 0.6496716747285982, \"x2\": -0.506940402965906, \"y\": 1}, {\"x1\": -0.8737987975539613, \"x2\": -0.021088376687187216, \"y\": 0}, {\"x1\": 0.8080688958245478, \"x2\": 0.9995787423918634, \"y\": 0}, {\"x1\": -0.12945028977770362, \"x2\": 0.13484559828177412, \"y\": 0}, {\"x1\": -0.03666817621761759, \"x2\": -0.24595059401748015, \"y\": 1}, {\"x1\": -0.6818042223549734, \"x2\": 1.2674829167556796, \"y\": 0}, {\"x1\": 1.0010124521853216, \"x2\": 1.1418415161569966, \"y\": 0}, {\"x1\": 1.1835805898464544, \"x2\": 0.24798864887868177, \"y\": 0}, {\"x1\": -0.32972050938334185, \"x2\": -0.2758237681168446, \"y\": 1}, {\"x1\": 0.5528665065296996, \"x2\": 1.0659844102806089, \"y\": 0}, {\"x1\": -1.0695018829964502, \"x2\": 0.8081436080504829, \"y\": 0}], \"data-3c97f5da6332a5f986c60c88bae7da1c\": [{\"x1\": -0.8853347508421124, \"x2\": 1.2113326180271051, \"y\": 0}, {\"x1\": -0.3028308872976828, \"x2\": 0.7959921267463229, \"y\": 0}, {\"x1\": -0.3935507844131116, \"x2\": 1.037323943676401, \"y\": 0}, {\"x1\": -0.41767898481995397, \"x2\": 1.1582149552030265, \"y\": 0}, {\"x1\": 0.4229077215496357, \"x2\": 0.6039996028834982, \"y\": 0}, {\"x1\": 2.270063841625725, \"x2\": 0.18370779248700098, \"y\": 1}, {\"x1\": -0.8597384655611336, \"x2\": 1.0571834901700274, \"y\": 0}, {\"x1\": 0.017708493746404215, \"x2\": 0.4914397804392859, \"y\": 0}, {\"x1\": -0.23242987634094547, \"x2\": -0.10628612981374419, \"y\": 0}, {\"x1\": 1.5187834518819516, \"x2\": -0.5587992800952386, \"y\": 1}, {\"x1\": 0.5053745378764507, \"x2\": 0.9828800781428171, \"y\": 0}, {\"x1\": 0.6400606856880445, \"x2\": 0.12220473278249652, \"y\": 0}, {\"x1\": 0.9086797978178531, \"x2\": -0.29981768482233584, \"y\": 1}, {\"x1\": -1.0641757286871607, \"x2\": -0.43067913637043975, \"y\": 0}, {\"x1\": -1.021692396061068, \"x2\": -0.24113726844930053, \"y\": 0}, {\"x1\": -0.05957267685112794, \"x2\": 1.8322808425500197, \"y\": 0}, {\"x1\": -0.6512805997500948, \"x2\": 0.031577873022165304, \"y\": 0}, {\"x1\": -0.878871348982087, \"x2\": 0.07831803736860754, \"y\": 0}, {\"x1\": 0.4178272519647092, \"x2\": 0.8207696217389061, \"y\": 0}, {\"x1\": 0.38268719316607674, \"x2\": 0.5749171874449703, \"y\": 0}, {\"x1\": -0.21853619187067214, \"x2\": -0.5312836199606839, \"y\": 0}, {\"x1\": -0.8820131967680731, \"x2\": -0.2176102271798102, \"y\": 0}, {\"x1\": 1.461396543194566, \"x2\": -0.5274718337100107, \"y\": 1}, {\"x1\": 1.1258480523228669, \"x2\": -0.5460888807761234, \"y\": 1}, {\"x1\": -0.09780867426991416, \"x2\": 0.1726126208545202, \"y\": 0}, {\"x1\": 0.41825045401094396, \"x2\": 0.07633078642604171, \"y\": 1}, {\"x1\": 0.6787895264813578, \"x2\": -0.18967398461831197, \"y\": 1}, {\"x1\": -0.23242987634094547, \"x2\": -0.10628612981374419, \"y\": 0}, {\"x1\": 0.5160790773200435, \"x2\": 0.7212719090472632, \"y\": 0}, {\"x1\": -1.1970135543867277, \"x2\": 0.18696123169939116, \"y\": 0}, {\"x1\": 0.04994685780877148, \"x2\": 1.0195171777514065, \"y\": 0}, {\"x1\": -1.2920445540558338, \"x2\": 0.31834373806409266, \"y\": 0}, {\"x1\": 0.5347871025095465, \"x2\": 0.3951447205642571, \"y\": 0}, {\"x1\": 0.7882663614320944, \"x2\": 1.0517741772168663, \"y\": 0}, {\"x1\": 0.31008119164762943, \"x2\": 1.2734266760335098, \"y\": 0}, {\"x1\": -0.7555075792986944, \"x2\": 0.00737954485758747, \"y\": 0}, {\"x1\": 1.6345801349517015, \"x2\": 0.3416873865971249, \"y\": 1}, {\"x1\": 1.9196527491510136, \"x2\": 0.02491192519852259, \"y\": 1}, {\"x1\": -1.4295456149977464, \"x2\": 1.0297334200526969, \"y\": 0}, {\"x1\": 2.1021807269628896, \"x2\": 0.6747750286616351, \"y\": 1}, {\"x1\": -0.0018274689203807704, \"x2\": 1.2877594941889088, \"y\": 0}, {\"x1\": 1.3445483802232292, \"x2\": 0.5457092980964344, \"y\": 0}, {\"x1\": 0.12625659963674346, \"x2\": 0.5416635421124196, \"y\": 0}, {\"x1\": -0.9781171205943013, \"x2\": 0.6168472381048673, \"y\": 0}, {\"x1\": 0.3713648935833572, \"x2\": 1.2116581181837165, \"y\": 0}, {\"x1\": 1.1817590935695357, \"x2\": 0.20908181270698512, \"y\": 1}, {\"x1\": 0.9086797978178531, \"x2\": -0.29981768482233584, \"y\": 1}, {\"x1\": -0.9383327989545892, \"x2\": -0.18087939137326148, \"y\": 0}, {\"x1\": 0.3171816891174739, \"x2\": -0.0209331006584679, \"y\": 1}, {\"x1\": 1.4989376373929935, \"x2\": -0.592855892777316, \"y\": 1}, {\"x1\": 2.035316526616848, \"x2\": -0.3176010166011708, \"y\": 1}, {\"x1\": -0.9707949595312017, \"x2\": 0.06824008922021094, \"y\": 0}, {\"x1\": 1.193405394638387, \"x2\": -0.9541179644438229, \"y\": 1}, {\"x1\": -0.010944724091534908, \"x2\": -0.45543440951398084, \"y\": 1}, {\"x1\": 0.40636843288455377, \"x2\": -0.6288807005030153, \"y\": 1}, {\"x1\": -0.4015916285606933, \"x2\": 0.8069809055095667, \"y\": 0}, {\"x1\": -0.76290047109565, \"x2\": 0.12524280675662436, \"y\": 0}, {\"x1\": -0.978046099000287, \"x2\": 0.9021272966883539, \"y\": 0}, {\"x1\": 1.683495757376415, \"x2\": -0.5284981138485721, \"y\": 1}, {\"x1\": 1.046490122262956, \"x2\": 1.1589688107610585, \"y\": 0}, {\"x1\": 0.07157085711701128, \"x2\": 0.3944088640395569, \"y\": 0}, {\"x1\": 1.1497628412047294, \"x2\": 0.6562377312319915, \"y\": 0}, {\"x1\": 0.06526043877970689, \"x2\": 0.542808876772753, \"y\": 0}, {\"x1\": 1.5762869798848418, \"x2\": 0.4759860410055982, \"y\": 1}, {\"x1\": 0.7275394881310907, \"x2\": -0.6616155176707776, \"y\": 1}, {\"x1\": -0.27185501438146864, \"x2\": 0.4506645786878575, \"y\": 0}, {\"x1\": 1.4989376373929935, \"x2\": -0.592855892777316, \"y\": 1}, {\"x1\": 2.7049332504735157, \"x2\": -0.39862153639341114, \"y\": 1}, {\"x1\": 1.66977080334141, \"x2\": 0.15194992351452663, \"y\": 1}, {\"x1\": 1.5752819293341243, \"x2\": -0.0466385824700003, \"y\": 1}, {\"x1\": -0.30974269042981706, \"x2\": 0.8771880808881309, \"y\": 0}, {\"x1\": -0.08151302784904194, \"x2\": -0.5750026788932133, \"y\": 0}, {\"x1\": -0.12989423928267893, \"x2\": 1.2271418146751234, \"y\": 0}, {\"x1\": 1.2071963705507214, \"x2\": -0.15813978532518372, \"y\": 1}, {\"x1\": 0.4605400238230552, \"x2\": 1.096316500279928, \"y\": 0}, {\"x1\": 1.281939883050233, \"x2\": -0.15986726262949275, \"y\": 1}, {\"x1\": -0.4015916285606933, \"x2\": 0.8069809055095667, \"y\": 0}, {\"x1\": -1.3239462127530492, \"x2\": 0.38607764915889264, \"y\": 0}, {\"x1\": 1.4166732251641136, \"x2\": 0.027359315559037867, \"y\": 1}, {\"x1\": 0.9288801597961996, \"x2\": 0.48872898439073204, \"y\": 0}, {\"x1\": 1.0247050615731779, \"x2\": 0.5383355365945188, \"y\": 0}, {\"x1\": 1.8081106726531504, \"x2\": -0.040676827496557155, \"y\": 1}, {\"x1\": -1.1624494439258501, \"x2\": 0.42190391397082094, \"y\": 0}, {\"x1\": -0.2374036685157106, \"x2\": 1.0014520696950084, \"y\": 0}, {\"x1\": 0.8395802183094461, \"x2\": -0.6165215528897602, \"y\": 1}, {\"x1\": 1.6345801349517015, \"x2\": 0.3416873865971249, \"y\": 1}, {\"x1\": -0.3357712854671644, \"x2\": 0.9372771409695896, \"y\": 0}, {\"x1\": 1.372137941629394, \"x2\": -0.7560430566445762, \"y\": 1}, {\"x1\": 0.9098642516576052, \"x2\": 1.4968684078999441, \"y\": 0}, {\"x1\": 0.6496716747285982, \"x2\": -0.506940402965906, \"y\": 1}, {\"x1\": -0.8737987975539613, \"x2\": -0.021088376687187216, \"y\": 0}, {\"x1\": 0.8080688958245478, \"x2\": 0.9995787423918634, \"y\": 0}, {\"x1\": -0.12945028977770362, \"x2\": 0.13484559828177412, \"y\": 0}, {\"x1\": -0.03666817621761759, \"x2\": -0.24595059401748015, \"y\": 1}, {\"x1\": -0.6818042223549734, \"x2\": 1.2674829167556796, \"y\": 0}, {\"x1\": 1.0010124521853216, \"x2\": 1.1418415161569966, \"y\": 0}, {\"x1\": 1.1835805898464544, \"x2\": 0.24798864887868177, \"y\": 1}, {\"x1\": -0.32972050938334185, \"x2\": -0.2758237681168446, \"y\": 0}, {\"x1\": 0.5528665065296996, \"x2\": 1.0659844102806089, \"y\": 0}, {\"x1\": -1.0695018829964502, \"x2\": 0.8081436080504829, \"y\": 0}], \"data-ecbfe4640f1e712de284b5010467a301\": [{\"x1\": -0.8853347508421124, \"x2\": 1.2113326180271051, \"y\": 0}, {\"x1\": -0.3028308872976828, \"x2\": 0.7959921267463229, \"y\": 0}, {\"x1\": -0.3935507844131116, \"x2\": 1.037323943676401, \"y\": 0}, {\"x1\": -0.41767898481995397, \"x2\": 1.1582149552030265, \"y\": 0}, {\"x1\": 0.4229077215496357, \"x2\": 0.6039996028834982, \"y\": 0}, {\"x1\": 2.270063841625725, \"x2\": 0.18370779248700098, \"y\": 1}, {\"x1\": -0.8597384655611336, \"x2\": 1.0571834901700274, \"y\": 0}, {\"x1\": 0.017708493746404215, \"x2\": 0.4914397804392859, \"y\": 0}, {\"x1\": -0.23242987634094547, \"x2\": -0.10628612981374419, \"y\": 0}, {\"x1\": 1.5187834518819516, \"x2\": -0.5587992800952386, \"y\": 1}, {\"x1\": 0.5053745378764507, \"x2\": 0.9828800781428171, \"y\": 0}, {\"x1\": 0.6400606856880445, \"x2\": 0.12220473278249652, \"y\": 1}, {\"x1\": 0.9086797978178531, \"x2\": -0.29981768482233584, \"y\": 1}, {\"x1\": -1.0641757286871607, \"x2\": -0.43067913637043975, \"y\": 0}, {\"x1\": -1.021692396061068, \"x2\": -0.24113726844930053, \"y\": 0}, {\"x1\": -0.05957267685112794, \"x2\": 1.8322808425500197, \"y\": 0}, {\"x1\": -0.6512805997500948, \"x2\": 0.031577873022165304, \"y\": 0}, {\"x1\": -0.878871348982087, \"x2\": 0.07831803736860754, \"y\": 0}, {\"x1\": 0.4178272519647092, \"x2\": 0.8207696217389061, \"y\": 0}, {\"x1\": 0.38268719316607674, \"x2\": 0.5749171874449703, \"y\": 0}, {\"x1\": -0.21853619187067214, \"x2\": -0.5312836199606839, \"y\": 0}, {\"x1\": -0.8820131967680731, \"x2\": -0.2176102271798102, \"y\": 0}, {\"x1\": 1.461396543194566, \"x2\": -0.5274718337100107, \"y\": 1}, {\"x1\": 1.1258480523228669, \"x2\": -0.5460888807761234, \"y\": 1}, {\"x1\": -0.09780867426991416, \"x2\": 0.1726126208545202, \"y\": 0}, {\"x1\": 0.41825045401094396, \"x2\": 0.07633078642604171, \"y\": 0}, {\"x1\": 0.6787895264813578, \"x2\": -0.18967398461831197, \"y\": 1}, {\"x1\": -0.23242987634094547, \"x2\": -0.10628612981374419, \"y\": 0}, {\"x1\": 0.5160790773200435, \"x2\": 0.7212719090472632, \"y\": 0}, {\"x1\": -1.1970135543867277, \"x2\": 0.18696123169939116, \"y\": 0}, {\"x1\": 0.04994685780877148, \"x2\": 1.0195171777514065, \"y\": 0}, {\"x1\": -1.2920445540558338, \"x2\": 0.31834373806409266, \"y\": 0}, {\"x1\": 0.5347871025095465, \"x2\": 0.3951447205642571, \"y\": 0}, {\"x1\": 0.7882663614320944, \"x2\": 1.0517741772168663, \"y\": 0}, {\"x1\": 0.31008119164762943, \"x2\": 1.2734266760335098, \"y\": 0}, {\"x1\": -0.7555075792986944, \"x2\": 0.00737954485758747, \"y\": 0}, {\"x1\": 1.6345801349517015, \"x2\": 0.3416873865971249, \"y\": 1}, {\"x1\": 1.9196527491510136, \"x2\": 0.02491192519852259, \"y\": 1}, {\"x1\": -1.4295456149977464, \"x2\": 1.0297334200526969, \"y\": 0}, {\"x1\": 2.1021807269628896, \"x2\": 0.6747750286616351, \"y\": 1}, {\"x1\": -0.0018274689203807704, \"x2\": 1.2877594941889088, \"y\": 0}, {\"x1\": 1.3445483802232292, \"x2\": 0.5457092980964344, \"y\": 1}, {\"x1\": 0.12625659963674346, \"x2\": 0.5416635421124196, \"y\": 0}, {\"x1\": -0.9781171205943013, \"x2\": 0.6168472381048673, \"y\": 0}, {\"x1\": 0.3713648935833572, \"x2\": 1.2116581181837165, \"y\": 0}, {\"x1\": 1.1817590935695357, \"x2\": 0.20908181270698512, \"y\": 1}, {\"x1\": 0.9086797978178531, \"x2\": -0.29981768482233584, \"y\": 1}, {\"x1\": -0.9383327989545892, \"x2\": -0.18087939137326148, \"y\": 0}, {\"x1\": 0.3171816891174739, \"x2\": -0.0209331006584679, \"y\": 0}, {\"x1\": 1.4989376373929935, \"x2\": -0.592855892777316, \"y\": 1}, {\"x1\": 2.035316526616848, \"x2\": -0.3176010166011708, \"y\": 1}, {\"x1\": -0.9707949595312017, \"x2\": 0.06824008922021094, \"y\": 0}, {\"x1\": 1.193405394638387, \"x2\": -0.9541179644438229, \"y\": 1}, {\"x1\": -0.010944724091534908, \"x2\": -0.45543440951398084, \"y\": 0}, {\"x1\": 0.40636843288455377, \"x2\": -0.6288807005030153, \"y\": 1}, {\"x1\": -0.4015916285606933, \"x2\": 0.8069809055095667, \"y\": 0}, {\"x1\": -0.76290047109565, \"x2\": 0.12524280675662436, \"y\": 0}, {\"x1\": -0.978046099000287, \"x2\": 0.9021272966883539, \"y\": 0}, {\"x1\": 1.683495757376415, \"x2\": -0.5284981138485721, \"y\": 1}, {\"x1\": 1.046490122262956, \"x2\": 1.1589688107610585, \"y\": 0}, {\"x1\": 0.07157085711701128, \"x2\": 0.3944088640395569, \"y\": 0}, {\"x1\": 1.1497628412047294, \"x2\": 0.6562377312319915, \"y\": 0}, {\"x1\": 0.06526043877970689, \"x2\": 0.542808876772753, \"y\": 0}, {\"x1\": 1.5762869798848418, \"x2\": 0.4759860410055982, \"y\": 1}, {\"x1\": 0.7275394881310907, \"x2\": -0.6616155176707776, \"y\": 1}, {\"x1\": -0.27185501438146864, \"x2\": 0.4506645786878575, \"y\": 0}, {\"x1\": 1.4989376373929935, \"x2\": -0.592855892777316, \"y\": 1}, {\"x1\": 2.7049332504735157, \"x2\": -0.39862153639341114, \"y\": 1}, {\"x1\": 1.66977080334141, \"x2\": 0.15194992351452663, \"y\": 1}, {\"x1\": 1.5752819293341243, \"x2\": -0.0466385824700003, \"y\": 1}, {\"x1\": -0.30974269042981706, \"x2\": 0.8771880808881309, \"y\": 0}, {\"x1\": -0.08151302784904194, \"x2\": -0.5750026788932133, \"y\": 0}, {\"x1\": -0.12989423928267893, \"x2\": 1.2271418146751234, \"y\": 0}, {\"x1\": 1.2071963705507214, \"x2\": -0.15813978532518372, \"y\": 1}, {\"x1\": 0.4605400238230552, \"x2\": 1.096316500279928, \"y\": 0}, {\"x1\": 1.281939883050233, \"x2\": -0.15986726262949275, \"y\": 1}, {\"x1\": -0.4015916285606933, \"x2\": 0.8069809055095667, \"y\": 0}, {\"x1\": -1.3239462127530492, \"x2\": 0.38607764915889264, \"y\": 0}, {\"x1\": 1.4166732251641136, \"x2\": 0.027359315559037867, \"y\": 1}, {\"x1\": 0.9288801597961996, \"x2\": 0.48872898439073204, \"y\": 0}, {\"x1\": 1.0247050615731779, \"x2\": 0.5383355365945188, \"y\": 0}, {\"x1\": 1.8081106726531504, \"x2\": -0.040676827496557155, \"y\": 1}, {\"x1\": -1.1624494439258501, \"x2\": 0.42190391397082094, \"y\": 0}, {\"x1\": -0.2374036685157106, \"x2\": 1.0014520696950084, \"y\": 0}, {\"x1\": 0.8395802183094461, \"x2\": -0.6165215528897602, \"y\": 1}, {\"x1\": 1.6345801349517015, \"x2\": 0.3416873865971249, \"y\": 1}, {\"x1\": -0.3357712854671644, \"x2\": 0.9372771409695896, \"y\": 0}, {\"x1\": 1.372137941629394, \"x2\": -0.7560430566445762, \"y\": 1}, {\"x1\": 0.9098642516576052, \"x2\": 1.4968684078999441, \"y\": 0}, {\"x1\": 0.6496716747285982, \"x2\": -0.506940402965906, \"y\": 1}, {\"x1\": -0.8737987975539613, \"x2\": -0.021088376687187216, \"y\": 0}, {\"x1\": 0.8080688958245478, \"x2\": 0.9995787423918634, \"y\": 0}, {\"x1\": -0.12945028977770362, \"x2\": 0.13484559828177412, \"y\": 0}, {\"x1\": -0.03666817621761759, \"x2\": -0.24595059401748015, \"y\": 0}, {\"x1\": -0.6818042223549734, \"x2\": 1.2674829167556796, \"y\": 0}, {\"x1\": 1.0010124521853216, \"x2\": 1.1418415161569966, \"y\": 0}, {\"x1\": 1.1835805898464544, \"x2\": 0.24798864887868177, \"y\": 1}, {\"x1\": -0.32972050938334185, \"x2\": -0.2758237681168446, \"y\": 0}, {\"x1\": 0.5528665065296996, \"x2\": 1.0659844102806089, \"y\": 0}, {\"x1\": -1.0695018829964502, \"x2\": 0.8081436080504829, \"y\": 0}], \"data-fbafc27971d2ac1febaca513ad49e58f\": [{\"x1\": 1.495734765865504, \"x2\": -0.8886201869099721, \"y\": 1}, {\"x1\": -0.16166346285708338, \"x2\": -0.08017906298304323, \"y\": 1}, {\"x1\": -0.06679095826305526, \"x2\": 0.9999941529233844, \"y\": 0}, {\"x1\": -0.14414309199765252, \"x2\": 0.9883894708943036, \"y\": 0}, {\"x1\": -0.8301394681389226, \"x2\": 1.0322358363889568, \"y\": 0}, {\"x1\": 1.7281750760559842, \"x2\": -0.23843348919696689, \"y\": 1}, {\"x1\": 0.9483014931326441, \"x2\": -0.7627053121195193, \"y\": 1}, {\"x1\": -1.3239462127530492, \"x2\": 0.38607764915889264, \"y\": 0}, {\"x1\": -0.1637909559264531, \"x2\": 0.4768619043434764, \"y\": 0}, {\"x1\": 0.0017211497924653832, \"x2\": 1.198685336187338, \"y\": 0}, {\"x1\": -0.18813893054714448, \"x2\": 0.8579590907201105, \"y\": 0}, {\"x1\": -0.32972050938334185, \"x2\": -0.2758237681168446, \"y\": 1}, {\"x1\": -0.4680255465678287, \"x2\": 0.3213466844572511, \"y\": 1}, {\"x1\": 1.0260612566626568, \"x2\": -0.18354999324935634, \"y\": 1}, {\"x1\": 0.7572277378683882, \"x2\": -0.5519837766777117, \"y\": 1}, {\"x1\": -0.4182148943563127, \"x2\": 1.1008230839843516, \"y\": 0}, {\"x1\": -0.16853868062785815, \"x2\": 0.9659540699275808, \"y\": 0}, {\"x1\": -0.48138738501824463, \"x2\": 0.7651970795010411, \"y\": 0}, {\"x1\": -0.8737987975539613, \"x2\": -0.021088376687187216, \"y\": 0}, {\"x1\": -0.9371446873549858, \"x2\": 0.893602022924364, \"y\": 0}, {\"x1\": 0.19009652636413565, \"x2\": 1.4415695823360133, \"y\": 0}, {\"x1\": 1.3442777097262382, \"x2\": -0.015714413570396824, \"y\": 1}, {\"x1\": 0.6605274080654239, \"x2\": 0.26631030981722176, \"y\": 0}, {\"x1\": 2.278546443016766, \"x2\": 1.2938642790641306, \"y\": 1}, {\"x1\": -0.7579917852821981, \"x2\": 0.44101097946874146, \"y\": 0}, {\"x1\": -0.7579917852821981, \"x2\": 0.44101097946874146, \"y\": 0}, {\"x1\": -0.2650143942405265, \"x2\": 1.069544835270906, \"y\": 0}, {\"x1\": -1.2956523721251716, \"x2\": 0.30658035165738895, \"y\": 0}, {\"x1\": -1.171175866619743, \"x2\": 0.04554817634849717, \"y\": 0}, {\"x1\": 2.2733501987214986, \"x2\": -1.1610019791124373, \"y\": 1}, {\"x1\": 0.10831079493481485, \"x2\": -0.4109724017207404, \"y\": 1}, {\"x1\": 0.5666282875456281, \"x2\": 1.0561480757954722, \"y\": 0}, {\"x1\": 1.7302152066462362, \"x2\": -0.5287826768074386, \"y\": 1}, {\"x1\": -0.2374036685157106, \"x2\": 1.0014520696950084, \"y\": 0}, {\"x1\": 0.9248321544439886, \"x2\": 0.5681161588505769, \"y\": 0}, {\"x1\": 1.0466975317979446, \"x2\": 0.17856323455474005, \"y\": 0}, {\"x1\": 0.025916349778345005, \"x2\": 0.2489046717677733, \"y\": 0}, {\"x1\": -0.24244612781993433, \"x2\": 0.861887651084159, \"y\": 0}, {\"x1\": 1.8662730409911816, \"x2\": -0.6805558649309849, \"y\": 1}, {\"x1\": -0.8591530951950073, \"x2\": 0.27506052338644416, \"y\": 0}, {\"x1\": -0.6900662406829249, \"x2\": 1.638236900001024, \"y\": 0}, {\"x1\": 0.1530301445154522, \"x2\": -0.049772740701653606, \"y\": 1}, {\"x1\": -0.3771851754745913, \"x2\": -0.3111087105759528, \"y\": 0}, {\"x1\": -0.09329792505625017, \"x2\": 0.7506055303678019, \"y\": 0}, {\"x1\": 0.6458346842688623, \"x2\": 0.8179355476703656, \"y\": 0}, {\"x1\": 0.5640808709944986, \"x2\": 0.21937176110386242, \"y\": 0}, {\"x1\": 1.4550237644493085, \"x2\": -0.6338385552546244, \"y\": 1}, {\"x1\": 1.6857406673130928, \"x2\": -0.3081913758547773, \"y\": 1}, {\"x1\": 0.6905052239946801, \"x2\": -0.7819716954547953, \"y\": 1}, {\"x1\": 0.45068331301382436, \"x2\": -0.6055650484145452, \"y\": 1}, {\"x1\": -0.7308585927008604, \"x2\": -0.2403835987038379, \"y\": 0}, {\"x1\": 0.26268645437941385, \"x2\": -0.7391033237450713, \"y\": 1}, {\"x1\": 1.536375739520831, \"x2\": -0.468279335879212, \"y\": 1}, {\"x1\": 1.4989376373929935, \"x2\": -0.592855892777316, \"y\": 1}, {\"x1\": 1.8231303430747963, \"x2\": 0.08992609631291204, \"y\": 1}, {\"x1\": -0.2596446510985641, \"x2\": 1.1037662060089015, \"y\": 0}, {\"x1\": 1.26831594357031, \"x2\": 0.3674605139497277, \"y\": 1}, {\"x1\": 0.7871840969756877, \"x2\": 1.3849269980828545, \"y\": 0}, {\"x1\": 1.7963612448287887, \"x2\": 0.1957923543206571, \"y\": 1}, {\"x1\": 1.3442777097262382, \"x2\": -0.015714413570396824, \"y\": 1}, {\"x1\": -0.09329792505625017, \"x2\": 0.7506055303678019, \"y\": 0}, {\"x1\": 0.05241233081548646, \"x2\": -0.1477963889870097, \"y\": 1}, {\"x1\": 1.8662730409911816, \"x2\": -0.6805558649309849, \"y\": 1}, {\"x1\": 1.4175805441191935, \"x2\": -0.265795126207369, \"y\": 1}, {\"x1\": 0.726098439618407, \"x2\": -0.3530649090816588, \"y\": 0}, {\"x1\": 1.058079411748379, \"x2\": 0.2108231809378967, \"y\": 0}, {\"x1\": 0.027653888520980496, \"x2\": 1.2405346074717045, \"y\": 0}, {\"x1\": -0.0207660697153942, \"x2\": -0.9080346614813785, \"y\": 1}, {\"x1\": 0.4178746860125618, \"x2\": -0.6449838941780206, \"y\": 1}, {\"x1\": 0.4971352580129891, \"x2\": -0.6940262249874585, \"y\": 1}, {\"x1\": -1.0955286113632594, \"x2\": 0.10347628303521872, \"y\": 0}, {\"x1\": -0.14414309199765252, \"x2\": 0.9883894708943036, \"y\": 0}, {\"x1\": 1.9699047622567198, \"x2\": -0.4058985719531332, \"y\": 1}, {\"x1\": 0.7646514402286769, \"x2\": -0.07818423403013591, \"y\": 1}, {\"x1\": -0.0956768152281742, \"x2\": 0.7030981117192201, \"y\": 0}, {\"x1\": -0.3303159106772211, \"x2\": 0.8698406688756204, \"y\": 0}, {\"x1\": 0.5916234586422077, \"x2\": 0.210508532642798, \"y\": 0}, {\"x1\": -0.21853619187067214, \"x2\": -0.5312836199606839, \"y\": 1}, {\"x1\": 0.29869307940146317, \"x2\": 0.3268490513157939, \"y\": 1}, {\"x1\": 1.3843649587470825, \"x2\": -0.163140192478966, \"y\": 1}, {\"x1\": 0.6458346842688623, \"x2\": 0.8179355476703656, \"y\": 0}, {\"x1\": -0.9211503936736181, \"x2\": 0.7006415676319675, \"y\": 0}, {\"x1\": 0.6627804789223264, \"x2\": 0.450097991028578, \"y\": 0}, {\"x1\": 0.484225314064745, \"x2\": 0.8653926653250957, \"y\": 0}, {\"x1\": 0.6605274080654239, \"x2\": 0.26631030981722176, \"y\": 0}, {\"x1\": 2.5518483954116475, \"x2\": 1.0215853535158013, \"y\": 1}, {\"x1\": 0.5900388803366718, \"x2\": -0.22471652618584964, \"y\": 1}, {\"x1\": 2.4391328057679127, \"x2\": 1.0082430503447, \"y\": 1}, {\"x1\": 0.252762537530699, \"x2\": -0.05994221518852058, \"y\": 1}, {\"x1\": 0.484225314064745, \"x2\": 0.8653926653250957, \"y\": 0}, {\"x1\": 0.015459383921033687, \"x2\": 0.7733213832589206, \"y\": 0}, {\"x1\": 1.181795397042732, \"x2\": 0.5308505030663249, \"y\": 0}, {\"x1\": 1.2184458261458664, \"x2\": 0.3487933317054316, \"y\": 0}, {\"x1\": 1.502107276972704, \"x2\": -0.9108403459126343, \"y\": 1}, {\"x1\": -0.6354946846067643, \"x2\": 0.9718399604601827, \"y\": 0}, {\"x1\": 0.41396265530676823, \"x2\": 0.4214403754075672, \"y\": 0}, {\"x1\": 1.5173144365794182, \"x2\": 0.25670601478177074, \"y\": 1}, {\"x1\": 0.3609627316057592, \"x2\": -0.8231568035976885, \"y\": 1}, {\"x1\": -0.4039206792809217, \"x2\": 0.8591514778511298, \"y\": 0}, {\"x1\": -0.3187397003855344, \"x2\": 0.8893105935878773, \"y\": 1}], \"data-962400d2744ff7a1d2deb6674fb8e38c\": [{\"x1\": 1.495734765865504, \"x2\": -0.8886201869099721, \"y\": 1}, {\"x1\": -0.16166346285708338, \"x2\": -0.08017906298304323, \"y\": 1}, {\"x1\": -0.06679095826305526, \"x2\": 0.9999941529233844, \"y\": 0}, {\"x1\": -0.14414309199765252, \"x2\": 0.9883894708943036, \"y\": 0}, {\"x1\": -0.8301394681389226, \"x2\": 1.0322358363889568, \"y\": 0}, {\"x1\": 1.7281750760559842, \"x2\": -0.23843348919696689, \"y\": 1}, {\"x1\": 0.9483014931326441, \"x2\": -0.7627053121195193, \"y\": 1}, {\"x1\": -1.3239462127530492, \"x2\": 0.38607764915889264, \"y\": 0}, {\"x1\": -0.1637909559264531, \"x2\": 0.4768619043434764, \"y\": 0}, {\"x1\": 0.0017211497924653832, \"x2\": 1.198685336187338, \"y\": 0}, {\"x1\": -0.18813893054714448, \"x2\": 0.8579590907201105, \"y\": 0}, {\"x1\": -0.32972050938334185, \"x2\": -0.2758237681168446, \"y\": 1}, {\"x1\": -0.4680255465678287, \"x2\": 0.3213466844572511, \"y\": 0}, {\"x1\": 1.0260612566626568, \"x2\": -0.18354999324935634, \"y\": 1}, {\"x1\": 0.7572277378683882, \"x2\": -0.5519837766777117, \"y\": 1}, {\"x1\": -0.4182148943563127, \"x2\": 1.1008230839843516, \"y\": 0}, {\"x1\": -0.16853868062785815, \"x2\": 0.9659540699275808, \"y\": 0}, {\"x1\": -0.48138738501824463, \"x2\": 0.7651970795010411, \"y\": 0}, {\"x1\": -0.8737987975539613, \"x2\": -0.021088376687187216, \"y\": 0}, {\"x1\": -0.9371446873549858, \"x2\": 0.893602022924364, \"y\": 0}, {\"x1\": 0.19009652636413565, \"x2\": 1.4415695823360133, \"y\": 0}, {\"x1\": 1.3442777097262382, \"x2\": -0.015714413570396824, \"y\": 1}, {\"x1\": 0.6605274080654239, \"x2\": 0.26631030981722176, \"y\": 0}, {\"x1\": 2.278546443016766, \"x2\": 1.2938642790641306, \"y\": 1}, {\"x1\": -0.7579917852821981, \"x2\": 0.44101097946874146, \"y\": 0}, {\"x1\": -0.7579917852821981, \"x2\": 0.44101097946874146, \"y\": 0}, {\"x1\": -0.2650143942405265, \"x2\": 1.069544835270906, \"y\": 0}, {\"x1\": -1.2956523721251716, \"x2\": 0.30658035165738895, \"y\": 0}, {\"x1\": -1.171175866619743, \"x2\": 0.04554817634849717, \"y\": 0}, {\"x1\": 2.2733501987214986, \"x2\": -1.1610019791124373, \"y\": 1}, {\"x1\": 0.10831079493481485, \"x2\": -0.4109724017207404, \"y\": 1}, {\"x1\": 0.5666282875456281, \"x2\": 1.0561480757954722, \"y\": 0}, {\"x1\": 1.7302152066462362, \"x2\": -0.5287826768074386, \"y\": 1}, {\"x1\": -0.2374036685157106, \"x2\": 1.0014520696950084, \"y\": 0}, {\"x1\": 0.9248321544439886, \"x2\": 0.5681161588505769, \"y\": 0}, {\"x1\": 1.0466975317979446, \"x2\": 0.17856323455474005, \"y\": 0}, {\"x1\": 0.025916349778345005, \"x2\": 0.2489046717677733, \"y\": 0}, {\"x1\": -0.24244612781993433, \"x2\": 0.861887651084159, \"y\": 0}, {\"x1\": 1.8662730409911816, \"x2\": -0.6805558649309849, \"y\": 1}, {\"x1\": -0.8591530951950073, \"x2\": 0.27506052338644416, \"y\": 0}, {\"x1\": -0.6900662406829249, \"x2\": 1.638236900001024, \"y\": 0}, {\"x1\": 0.1530301445154522, \"x2\": -0.049772740701653606, \"y\": 1}, {\"x1\": -0.3771851754745913, \"x2\": -0.3111087105759528, \"y\": 1}, {\"x1\": -0.09329792505625017, \"x2\": 0.7506055303678019, \"y\": 0}, {\"x1\": 0.6458346842688623, \"x2\": 0.8179355476703656, \"y\": 0}, {\"x1\": 0.5640808709944986, \"x2\": 0.21937176110386242, \"y\": 0}, {\"x1\": 1.4550237644493085, \"x2\": -0.6338385552546244, \"y\": 1}, {\"x1\": 1.6857406673130928, \"x2\": -0.3081913758547773, \"y\": 1}, {\"x1\": 0.6905052239946801, \"x2\": -0.7819716954547953, \"y\": 1}, {\"x1\": 0.45068331301382436, \"x2\": -0.6055650484145452, \"y\": 1}, {\"x1\": -0.7308585927008604, \"x2\": -0.2403835987038379, \"y\": 0}, {\"x1\": 0.26268645437941385, \"x2\": -0.7391033237450713, \"y\": 1}, {\"x1\": 1.536375739520831, \"x2\": -0.468279335879212, \"y\": 1}, {\"x1\": 1.4989376373929935, \"x2\": -0.592855892777316, \"y\": 1}, {\"x1\": 1.8231303430747963, \"x2\": 0.08992609631291204, \"y\": 1}, {\"x1\": -0.2596446510985641, \"x2\": 1.1037662060089015, \"y\": 0}, {\"x1\": 1.26831594357031, \"x2\": 0.3674605139497277, \"y\": 0}, {\"x1\": 0.7871840969756877, \"x2\": 1.3849269980828545, \"y\": 0}, {\"x1\": 1.7963612448287887, \"x2\": 0.1957923543206571, \"y\": 1}, {\"x1\": 1.3442777097262382, \"x2\": -0.015714413570396824, \"y\": 1}, {\"x1\": -0.09329792505625017, \"x2\": 0.7506055303678019, \"y\": 0}, {\"x1\": 0.05241233081548646, \"x2\": -0.1477963889870097, \"y\": 1}, {\"x1\": 1.8662730409911816, \"x2\": -0.6805558649309849, \"y\": 1}, {\"x1\": 1.4175805441191935, \"x2\": -0.265795126207369, \"y\": 1}, {\"x1\": 0.726098439618407, \"x2\": -0.3530649090816588, \"y\": 1}, {\"x1\": 1.058079411748379, \"x2\": 0.2108231809378967, \"y\": 0}, {\"x1\": 0.027653888520980496, \"x2\": 1.2405346074717045, \"y\": 0}, {\"x1\": -0.0207660697153942, \"x2\": -0.9080346614813785, \"y\": 1}, {\"x1\": 0.4178746860125618, \"x2\": -0.6449838941780206, \"y\": 1}, {\"x1\": 0.4971352580129891, \"x2\": -0.6940262249874585, \"y\": 1}, {\"x1\": -1.0955286113632594, \"x2\": 0.10347628303521872, \"y\": 0}, {\"x1\": -0.14414309199765252, \"x2\": 0.9883894708943036, \"y\": 0}, {\"x1\": 1.9699047622567198, \"x2\": -0.4058985719531332, \"y\": 1}, {\"x1\": 0.7646514402286769, \"x2\": -0.07818423403013591, \"y\": 1}, {\"x1\": -0.0956768152281742, \"x2\": 0.7030981117192201, \"y\": 0}, {\"x1\": -0.3303159106772211, \"x2\": 0.8698406688756204, \"y\": 0}, {\"x1\": 0.5916234586422077, \"x2\": 0.210508532642798, \"y\": 0}, {\"x1\": -0.21853619187067214, \"x2\": -0.5312836199606839, \"y\": 1}, {\"x1\": 0.29869307940146317, \"x2\": 0.3268490513157939, \"y\": 0}, {\"x1\": 1.3843649587470825, \"x2\": -0.163140192478966, \"y\": 1}, {\"x1\": 0.6458346842688623, \"x2\": 0.8179355476703656, \"y\": 0}, {\"x1\": -0.9211503936736181, \"x2\": 0.7006415676319675, \"y\": 0}, {\"x1\": 0.6627804789223264, \"x2\": 0.450097991028578, \"y\": 0}, {\"x1\": 0.484225314064745, \"x2\": 0.8653926653250957, \"y\": 0}, {\"x1\": 0.6605274080654239, \"x2\": 0.26631030981722176, \"y\": 0}, {\"x1\": 2.5518483954116475, \"x2\": 1.0215853535158013, \"y\": 1}, {\"x1\": 0.5900388803366718, \"x2\": -0.22471652618584964, \"y\": 1}, {\"x1\": 2.4391328057679127, \"x2\": 1.0082430503447, \"y\": 1}, {\"x1\": 0.252762537530699, \"x2\": -0.05994221518852058, \"y\": 1}, {\"x1\": 0.484225314064745, \"x2\": 0.8653926653250957, \"y\": 0}, {\"x1\": 0.015459383921033687, \"x2\": 0.7733213832589206, \"y\": 0}, {\"x1\": 1.181795397042732, \"x2\": 0.5308505030663249, \"y\": 0}, {\"x1\": 1.2184458261458664, \"x2\": 0.3487933317054316, \"y\": 0}, {\"x1\": 1.502107276972704, \"x2\": -0.9108403459126343, \"y\": 1}, {\"x1\": -0.6354946846067643, \"x2\": 0.9718399604601827, \"y\": 0}, {\"x1\": 0.41396265530676823, \"x2\": 0.4214403754075672, \"y\": 0}, {\"x1\": 1.5173144365794182, \"x2\": 0.25670601478177074, \"y\": 1}, {\"x1\": 0.3609627316057592, \"x2\": -0.8231568035976885, \"y\": 1}, {\"x1\": -0.4039206792809217, \"x2\": 0.8591514778511298, \"y\": 0}, {\"x1\": -0.3187397003855344, \"x2\": 0.8893105935878773, \"y\": 0}], \"data-991372a5dc6ceb073aa3af8b0fba83bc\": [{\"x1\": 1.495734765865504, \"x2\": -0.8886201869099721, \"y\": 1}, {\"x1\": -0.16166346285708338, \"x2\": -0.08017906298304323, \"y\": 0}, {\"x1\": -0.06679095826305526, \"x2\": 0.9999941529233844, \"y\": 0}, {\"x1\": -0.14414309199765252, \"x2\": 0.9883894708943036, \"y\": 0}, {\"x1\": -0.8301394681389226, \"x2\": 1.0322358363889568, \"y\": 0}, {\"x1\": 1.7281750760559842, \"x2\": -0.23843348919696689, \"y\": 1}, {\"x1\": 0.9483014931326441, \"x2\": -0.7627053121195193, \"y\": 1}, {\"x1\": -1.3239462127530492, \"x2\": 0.38607764915889264, \"y\": 0}, {\"x1\": -0.1637909559264531, \"x2\": 0.4768619043434764, \"y\": 0}, {\"x1\": 0.0017211497924653832, \"x2\": 1.198685336187338, \"y\": 0}, {\"x1\": -0.18813893054714448, \"x2\": 0.8579590907201105, \"y\": 0}, {\"x1\": -0.32972050938334185, \"x2\": -0.2758237681168446, \"y\": 0}, {\"x1\": -0.4680255465678287, \"x2\": 0.3213466844572511, \"y\": 0}, {\"x1\": 1.0260612566626568, \"x2\": -0.18354999324935634, \"y\": 1}, {\"x1\": 0.7572277378683882, \"x2\": -0.5519837766777117, \"y\": 1}, {\"x1\": -0.4182148943563127, \"x2\": 1.1008230839843516, \"y\": 0}, {\"x1\": -0.16853868062785815, \"x2\": 0.9659540699275808, \"y\": 0}, {\"x1\": -0.48138738501824463, \"x2\": 0.7651970795010411, \"y\": 0}, {\"x1\": -0.8737987975539613, \"x2\": -0.021088376687187216, \"y\": 0}, {\"x1\": -0.9371446873549858, \"x2\": 0.893602022924364, \"y\": 0}, {\"x1\": 0.19009652636413565, \"x2\": 1.4415695823360133, \"y\": 0}, {\"x1\": 1.3442777097262382, \"x2\": -0.015714413570396824, \"y\": 1}, {\"x1\": 0.6605274080654239, \"x2\": 0.26631030981722176, \"y\": 0}, {\"x1\": 2.278546443016766, \"x2\": 1.2938642790641306, \"y\": 1}, {\"x1\": -0.7579917852821981, \"x2\": 0.44101097946874146, \"y\": 0}, {\"x1\": -0.7579917852821981, \"x2\": 0.44101097946874146, \"y\": 0}, {\"x1\": -0.2650143942405265, \"x2\": 1.069544835270906, \"y\": 0}, {\"x1\": -1.2956523721251716, \"x2\": 0.30658035165738895, \"y\": 0}, {\"x1\": -1.171175866619743, \"x2\": 0.04554817634849717, \"y\": 0}, {\"x1\": 2.2733501987214986, \"x2\": -1.1610019791124373, \"y\": 1}, {\"x1\": 0.10831079493481485, \"x2\": -0.4109724017207404, \"y\": 0}, {\"x1\": 0.5666282875456281, \"x2\": 1.0561480757954722, \"y\": 0}, {\"x1\": 1.7302152066462362, \"x2\": -0.5287826768074386, \"y\": 1}, {\"x1\": -0.2374036685157106, \"x2\": 1.0014520696950084, \"y\": 0}, {\"x1\": 0.9248321544439886, \"x2\": 0.5681161588505769, \"y\": 0}, {\"x1\": 1.0466975317979446, \"x2\": 0.17856323455474005, \"y\": 1}, {\"x1\": 0.025916349778345005, \"x2\": 0.2489046717677733, \"y\": 0}, {\"x1\": -0.24244612781993433, \"x2\": 0.861887651084159, \"y\": 0}, {\"x1\": 1.8662730409911816, \"x2\": -0.6805558649309849, \"y\": 1}, {\"x1\": -0.8591530951950073, \"x2\": 0.27506052338644416, \"y\": 0}, {\"x1\": -0.6900662406829249, \"x2\": 1.638236900001024, \"y\": 0}, {\"x1\": 0.1530301445154522, \"x2\": -0.049772740701653606, \"y\": 0}, {\"x1\": -0.3771851754745913, \"x2\": -0.3111087105759528, \"y\": 0}, {\"x1\": -0.09329792505625017, \"x2\": 0.7506055303678019, \"y\": 0}, {\"x1\": 0.6458346842688623, \"x2\": 0.8179355476703656, \"y\": 0}, {\"x1\": 0.5640808709944986, \"x2\": 0.21937176110386242, \"y\": 0}, {\"x1\": 1.4550237644493085, \"x2\": -0.6338385552546244, \"y\": 1}, {\"x1\": 1.6857406673130928, \"x2\": -0.3081913758547773, \"y\": 1}, {\"x1\": 0.6905052239946801, \"x2\": -0.7819716954547953, \"y\": 1}, {\"x1\": 0.45068331301382436, \"x2\": -0.6055650484145452, \"y\": 1}, {\"x1\": -0.7308585927008604, \"x2\": -0.2403835987038379, \"y\": 0}, {\"x1\": 0.26268645437941385, \"x2\": -0.7391033237450713, \"y\": 1}, {\"x1\": 1.536375739520831, \"x2\": -0.468279335879212, \"y\": 1}, {\"x1\": 1.4989376373929935, \"x2\": -0.592855892777316, \"y\": 1}, {\"x1\": 1.8231303430747963, \"x2\": 0.08992609631291204, \"y\": 1}, {\"x1\": -0.2596446510985641, \"x2\": 1.1037662060089015, \"y\": 0}, {\"x1\": 1.26831594357031, \"x2\": 0.3674605139497277, \"y\": 1}, {\"x1\": 0.7871840969756877, \"x2\": 1.3849269980828545, \"y\": 0}, {\"x1\": 1.7963612448287887, \"x2\": 0.1957923543206571, \"y\": 1}, {\"x1\": 1.3442777097262382, \"x2\": -0.015714413570396824, \"y\": 1}, {\"x1\": -0.09329792505625017, \"x2\": 0.7506055303678019, \"y\": 0}, {\"x1\": 0.05241233081548646, \"x2\": -0.1477963889870097, \"y\": 0}, {\"x1\": 1.8662730409911816, \"x2\": -0.6805558649309849, \"y\": 1}, {\"x1\": 1.4175805441191935, \"x2\": -0.265795126207369, \"y\": 1}, {\"x1\": 0.726098439618407, \"x2\": -0.3530649090816588, \"y\": 1}, {\"x1\": 1.058079411748379, \"x2\": 0.2108231809378967, \"y\": 1}, {\"x1\": 0.027653888520980496, \"x2\": 1.2405346074717045, \"y\": 0}, {\"x1\": -0.0207660697153942, \"x2\": -0.9080346614813785, \"y\": 1}, {\"x1\": 0.4178746860125618, \"x2\": -0.6449838941780206, \"y\": 1}, {\"x1\": 0.4971352580129891, \"x2\": -0.6940262249874585, \"y\": 1}, {\"x1\": -1.0955286113632594, \"x2\": 0.10347628303521872, \"y\": 0}, {\"x1\": -0.14414309199765252, \"x2\": 0.9883894708943036, \"y\": 0}, {\"x1\": 1.9699047622567198, \"x2\": -0.4058985719531332, \"y\": 1}, {\"x1\": 0.7646514402286769, \"x2\": -0.07818423403013591, \"y\": 1}, {\"x1\": -0.0956768152281742, \"x2\": 0.7030981117192201, \"y\": 0}, {\"x1\": -0.3303159106772211, \"x2\": 0.8698406688756204, \"y\": 0}, {\"x1\": 0.5916234586422077, \"x2\": 0.210508532642798, \"y\": 0}, {\"x1\": -0.21853619187067214, \"x2\": -0.5312836199606839, \"y\": 0}, {\"x1\": 0.29869307940146317, \"x2\": 0.3268490513157939, \"y\": 0}, {\"x1\": 1.3843649587470825, \"x2\": -0.163140192478966, \"y\": 1}, {\"x1\": 0.6458346842688623, \"x2\": 0.8179355476703656, \"y\": 0}, {\"x1\": -0.9211503936736181, \"x2\": 0.7006415676319675, \"y\": 0}, {\"x1\": 0.6627804789223264, \"x2\": 0.450097991028578, \"y\": 0}, {\"x1\": 0.484225314064745, \"x2\": 0.8653926653250957, \"y\": 0}, {\"x1\": 0.6605274080654239, \"x2\": 0.26631030981722176, \"y\": 0}, {\"x1\": 2.5518483954116475, \"x2\": 1.0215853535158013, \"y\": 1}, {\"x1\": 0.5900388803366718, \"x2\": -0.22471652618584964, \"y\": 1}, {\"x1\": 2.4391328057679127, \"x2\": 1.0082430503447, \"y\": 1}, {\"x1\": 0.252762537530699, \"x2\": -0.05994221518852058, \"y\": 0}, {\"x1\": 0.484225314064745, \"x2\": 0.8653926653250957, \"y\": 0}, {\"x1\": 0.015459383921033687, \"x2\": 0.7733213832589206, \"y\": 0}, {\"x1\": 1.181795397042732, \"x2\": 0.5308505030663249, \"y\": 1}, {\"x1\": 1.2184458261458664, \"x2\": 0.3487933317054316, \"y\": 1}, {\"x1\": 1.502107276972704, \"x2\": -0.9108403459126343, \"y\": 1}, {\"x1\": -0.6354946846067643, \"x2\": 0.9718399604601827, \"y\": 0}, {\"x1\": 0.41396265530676823, \"x2\": 0.4214403754075672, \"y\": 0}, {\"x1\": 1.5173144365794182, \"x2\": 0.25670601478177074, \"y\": 1}, {\"x1\": 0.3609627316057592, \"x2\": -0.8231568035976885, \"y\": 1}, {\"x1\": -0.4039206792809217, \"x2\": 0.8591514778511298, \"y\": 0}, {\"x1\": -0.3187397003855344, \"x2\": 0.8893105935878773, \"y\": 0}], \"data-b098576bffd03b2e525cf3eb2a848392\": [{\"x1\": -0.10815350262074563, \"x2\": -0.41398382962785957, \"y\": 1}, {\"x1\": 0.19769562775031133, \"x2\": 0.22865420134000625, \"y\": 0}, {\"x1\": 2.5865831991264567, \"x2\": 0.2736233936914786, \"y\": 1}, {\"x1\": -0.4986242241134148, \"x2\": 0.8169072654937217, \"y\": 0}, {\"x1\": -0.3935507844131116, \"x2\": 1.037323943676401, \"y\": 0}, {\"x1\": 1.6338864847406127, \"x2\": 0.08774816161510537, \"y\": 1}, {\"x1\": 0.7647541810243873, \"x2\": 0.8191865194237198, \"y\": 0}, {\"x1\": 2.3685611020474915, \"x2\": -0.8662909137322178, \"y\": 1}, {\"x1\": 0.9611424459912136, \"x2\": 0.31506695062565365, \"y\": 1}, {\"x1\": 0.5134692130548417, \"x2\": -0.638679349476571, \"y\": 1}, {\"x1\": 0.7353411016553544, \"x2\": -0.4471814681470973, \"y\": 1}, {\"x1\": 0.06722927500526191, \"x2\": 0.6418807671168304, \"y\": 1}, {\"x1\": -0.8762640345606685, \"x2\": 0.880866806047273, \"y\": 0}, {\"x1\": 0.7101827061689732, \"x2\": 0.6666328451161491, \"y\": 0}, {\"x1\": -0.11687819996849758, \"x2\": 0.3143255809867977, \"y\": 1}, {\"x1\": -0.2129122341570567, \"x2\": 0.9596952360445875, \"y\": 0}, {\"x1\": 1.3824515835095244, \"x2\": 0.1596177043096671, \"y\": 0}, {\"x1\": 0.11935603726014325, \"x2\": 0.62618988726624, \"y\": 1}, {\"x1\": 1.1437507424403328, \"x2\": -0.09057910015036724, \"y\": 1}, {\"x1\": 0.021033693552090747, \"x2\": 0.4855980106422463, \"y\": 1}, {\"x1\": 1.193294108527978, \"x2\": -0.5700276848902356, \"y\": 1}, {\"x1\": 2.386245062610514, \"x2\": 0.3596584221658473, \"y\": 1}, {\"x1\": 0.17034577916143218, \"x2\": 0.08622043211366687, \"y\": 1}, {\"x1\": 0.21290895778000105, \"x2\": 1.080281434705008, \"y\": 0}, {\"x1\": 0.26152065081558984, \"x2\": 0.9649130701026699, \"y\": 0}, {\"x1\": 1.438483831307233, \"x2\": -0.23071375151057355, \"y\": 1}, {\"x1\": 1.2246213791400624, \"x2\": 0.1770218863409874, \"y\": 1}, {\"x1\": 1.9196527491510136, \"x2\": 0.02491192519852259, \"y\": 1}, {\"x1\": 0.048590385461463215, \"x2\": 0.7384068103361492, \"y\": 0}, {\"x1\": 0.4178272519647092, \"x2\": 0.8207696217389061, \"y\": 1}, {\"x1\": 0.8839632308984438, \"x2\": 0.8645411877436666, \"y\": 0}, {\"x1\": 1.0254797293735394, \"x2\": -0.5643181885719304, \"y\": 1}, {\"x1\": 0.7033698779544965, \"x2\": 0.42270472850971275, \"y\": 0}, {\"x1\": -0.4731733113439113, \"x2\": 1.0957418273365354, \"y\": 0}, {\"x1\": 0.4179893079169935, \"x2\": 0.7542636294946551, \"y\": 0}, {\"x1\": 0.35758417382583557, \"x2\": 1.0018631711806971, \"y\": 0}, {\"x1\": 1.5555605421696739, \"x2\": 0.0046935133501846416, \"y\": 1}, {\"x1\": 0.4580503728410925, \"x2\": -0.3042607292991524, \"y\": 1}, {\"x1\": 1.2776434641013021, \"x2\": 0.3632762309073382, \"y\": 0}, {\"x1\": -0.6028675946332407, \"x2\": 0.9660591872256307, \"y\": 0}, {\"x1\": 1.4157792191778482, \"x2\": -0.8701344069570482, \"y\": 1}, {\"x1\": 1.7784469647335504, \"x2\": 0.20404958077534102, \"y\": 1}, {\"x1\": 0.3711623958354987, \"x2\": -0.2815005180097805, \"y\": 1}, {\"x1\": 1.9461486828402323, \"x2\": -0.657194631961024, \"y\": 1}, {\"x1\": 1.4219802840595894, \"x2\": -0.08355826624967738, \"y\": 1}, {\"x1\": 0.19484675561770315, \"x2\": -0.3036205260173439, \"y\": 1}, {\"x1\": -0.11729752068912708, \"x2\": 0.8329582468895393, \"y\": 0}, {\"x1\": 1.1338530505243627, \"x2\": 0.15967297773144118, \"y\": 0}, {\"x1\": -1.4776346597290295, \"x2\": 0.2333655974091538, \"y\": 0}, {\"x1\": 0.6496716747285982, \"x2\": -0.506940402965906, \"y\": 1}, {\"x1\": 0.9370382295044375, \"x2\": 0.7544396188366554, \"y\": 0}, {\"x1\": -0.03666817621761759, \"x2\": -0.24595059401748015, \"y\": 1}, {\"x1\": 1.1852176111912454, \"x2\": 0.6163352938365457, \"y\": 0}, {\"x1\": 0.37368566389828095, \"x2\": 0.9824710128002272, \"y\": 0}, {\"x1\": 1.0264314146701046, \"x2\": 0.46187280701250394, \"y\": 0}, {\"x1\": 2.27614719279813, \"x2\": -0.03373321921504138, \"y\": 1}, {\"x1\": 2.7049332504735157, \"x2\": -0.39862153639341114, \"y\": 1}, {\"x1\": -1.2956523721251716, \"x2\": 0.30658035165738895, \"y\": 0}, {\"x1\": -0.27315106602095857, \"x2\": 0.17010589862289244, \"y\": 1}, {\"x1\": 0.7622620956495677, \"x2\": 1.1105927448572164, \"y\": 0}, {\"x1\": -0.20622808843489546, \"x2\": 0.8541499168822623, \"y\": 0}, {\"x1\": 0.24491013519789478, \"x2\": 0.2366607405723411, \"y\": 1}, {\"x1\": 0.41123930170087, \"x2\": 0.5780007226965072, \"y\": 0}, {\"x1\": 1.3442777097262382, \"x2\": -0.015714413570396824, \"y\": 1}, {\"x1\": -0.011145500894608779, \"x2\": -0.5975467738563405, \"y\": 1}, {\"x1\": 1.0010124521853216, \"x2\": 1.1418415161569966, \"y\": 0}, {\"x1\": 0.6291926148568012, \"x2\": 0.4725675352961672, \"y\": 1}, {\"x1\": -0.6919568818861804, \"x2\": 1.132941862518647, \"y\": 0}, {\"x1\": 0.01421835845819637, \"x2\": 1.322446566613796, \"y\": 0}, {\"x1\": -1.112121361675454, \"x2\": 0.5657193188097872, \"y\": 0}, {\"x1\": 0.6512033400540147, \"x2\": 0.6755891933916285, \"y\": 0}, {\"x1\": 0.9134805994853273, \"x2\": 0.8345559991423704, \"y\": 0}, {\"x1\": 0.35758417382583557, \"x2\": 1.0018631711806971, \"y\": 0}, {\"x1\": 0.19284891559815986, \"x2\": -0.8773280398637249, \"y\": 1}, {\"x1\": -0.5891931135630241, \"x2\": 0.5019704358583055, \"y\": 0}, {\"x1\": 0.26152065081558984, \"x2\": 0.9649130701026699, \"y\": 0}, {\"x1\": 1.1670245029890944, \"x2\": 1.2329098789089374, \"y\": 0}, {\"x1\": 0.37368566389828095, \"x2\": 0.9824710128002272, \"y\": 0}, {\"x1\": -0.09466809433568404, \"x2\": -0.26514869845046407, \"y\": 1}, {\"x1\": 1.2461792281754347, \"x2\": -0.5265219461226376, \"y\": 0}, {\"x1\": 0.9539843131517496, \"x2\": -0.5762995329334838, \"y\": 1}, {\"x1\": -0.30116892775970927, \"x2\": 1.303873167403879, \"y\": 0}, {\"x1\": -0.4680255465678287, \"x2\": 0.3213466844572511, \"y\": 1}, {\"x1\": 1.7407311510951802, \"x2\": 0.27965426385212383, \"y\": 1}, {\"x1\": -1.4295456149977464, \"x2\": 1.0297334200526969, \"y\": 0}, {\"x1\": 0.22451724544863388, \"x2\": 0.27638589998337737, \"y\": 1}, {\"x1\": 1.6346570057052328, \"x2\": 0.3256210842311554, \"y\": 0}, {\"x1\": 1.3842353687222657, \"x2\": -1.584496093262771, \"y\": 1}, {\"x1\": 0.5622959168865513, \"x2\": 1.202956745230968, \"y\": 0}, {\"x1\": -0.3357712854671644, \"x2\": 0.9372771409695896, \"y\": 0}, {\"x1\": 1.0051099040548714, \"x2\": 0.9076066279452893, \"y\": 0}, {\"x1\": 0.015558971293675238, \"x2\": 1.0685262979889474, \"y\": 0}, {\"x1\": 1.4150887818838507, \"x2\": -0.022750944057815248, \"y\": 1}, {\"x1\": -1.1526207111512838, \"x2\": 0.30707274082917374, \"y\": 0}, {\"x1\": 1.7516475737448247, \"x2\": -0.5577791639374088, \"y\": 1}, {\"x1\": 2.0359131069391188, \"x2\": -0.1303578699385717, \"y\": 1}, {\"x1\": 0.41123930170087, \"x2\": 0.5780007226965072, \"y\": 0}, {\"x1\": 0.7646514402286769, \"x2\": -0.07818423403013591, \"y\": 1}, {\"x1\": -1.4776346597290295, \"x2\": 0.2333655974091538, \"y\": 0}, {\"x1\": 1.228669204319954, \"x2\": -0.15557088446489215, \"y\": 0}], \"data-88fe0b9577aeea772ae5e06f7e35abdd\": [{\"x1\": -0.10815350262074563, \"x2\": -0.41398382962785957, \"y\": 1}, {\"x1\": 0.19769562775031133, \"x2\": 0.22865420134000625, \"y\": 1}, {\"x1\": 2.5865831991264567, \"x2\": 0.2736233936914786, \"y\": 1}, {\"x1\": -0.4986242241134148, \"x2\": 0.8169072654937217, \"y\": 0}, {\"x1\": -0.3935507844131116, \"x2\": 1.037323943676401, \"y\": 0}, {\"x1\": 1.6338864847406127, \"x2\": 0.08774816161510537, \"y\": 1}, {\"x1\": 0.7647541810243873, \"x2\": 0.8191865194237198, \"y\": 0}, {\"x1\": 2.3685611020474915, \"x2\": -0.8662909137322178, \"y\": 1}, {\"x1\": 0.9611424459912136, \"x2\": 0.31506695062565365, \"y\": 0}, {\"x1\": 0.5134692130548417, \"x2\": -0.638679349476571, \"y\": 1}, {\"x1\": 0.7353411016553544, \"x2\": -0.4471814681470973, \"y\": 1}, {\"x1\": 0.06722927500526191, \"x2\": 0.6418807671168304, \"y\": 0}, {\"x1\": -0.8762640345606685, \"x2\": 0.880866806047273, \"y\": 0}, {\"x1\": 0.7101827061689732, \"x2\": 0.6666328451161491, \"y\": 0}, {\"x1\": -0.11687819996849758, \"x2\": 0.3143255809867977, \"y\": 1}, {\"x1\": -0.2129122341570567, \"x2\": 0.9596952360445875, \"y\": 0}, {\"x1\": 1.3824515835095244, \"x2\": 0.1596177043096671, \"y\": 1}, {\"x1\": 0.11935603726014325, \"x2\": 0.62618988726624, \"y\": 0}, {\"x1\": 1.1437507424403328, \"x2\": -0.09057910015036724, \"y\": 1}, {\"x1\": 0.021033693552090747, \"x2\": 0.4855980106422463, \"y\": 0}, {\"x1\": 1.193294108527978, \"x2\": -0.5700276848902356, \"y\": 1}, {\"x1\": 2.386245062610514, \"x2\": 0.3596584221658473, \"y\": 1}, {\"x1\": 0.17034577916143218, \"x2\": 0.08622043211366687, \"y\": 1}, {\"x1\": 0.21290895778000105, \"x2\": 1.080281434705008, \"y\": 0}, {\"x1\": 0.26152065081558984, \"x2\": 0.9649130701026699, \"y\": 0}, {\"x1\": 1.438483831307233, \"x2\": -0.23071375151057355, \"y\": 1}, {\"x1\": 1.2246213791400624, \"x2\": 0.1770218863409874, \"y\": 1}, {\"x1\": 1.9196527491510136, \"x2\": 0.02491192519852259, \"y\": 1}, {\"x1\": 0.048590385461463215, \"x2\": 0.7384068103361492, \"y\": 0}, {\"x1\": 0.4178272519647092, \"x2\": 0.8207696217389061, \"y\": 0}, {\"x1\": 0.8839632308984438, \"x2\": 0.8645411877436666, \"y\": 0}, {\"x1\": 1.0254797293735394, \"x2\": -0.5643181885719304, \"y\": 1}, {\"x1\": 0.7033698779544965, \"x2\": 0.42270472850971275, \"y\": 0}, {\"x1\": -0.4731733113439113, \"x2\": 1.0957418273365354, \"y\": 0}, {\"x1\": 0.4179893079169935, \"x2\": 0.7542636294946551, \"y\": 0}, {\"x1\": 0.35758417382583557, \"x2\": 1.0018631711806971, \"y\": 0}, {\"x1\": 1.5555605421696739, \"x2\": 0.0046935133501846416, \"y\": 1}, {\"x1\": 0.4580503728410925, \"x2\": -0.3042607292991524, \"y\": 1}, {\"x1\": 1.2776434641013021, \"x2\": 0.3632762309073382, \"y\": 0}, {\"x1\": -0.6028675946332407, \"x2\": 0.9660591872256307, \"y\": 0}, {\"x1\": 1.4157792191778482, \"x2\": -0.8701344069570482, \"y\": 1}, {\"x1\": 1.7784469647335504, \"x2\": 0.20404958077534102, \"y\": 1}, {\"x1\": 0.3711623958354987, \"x2\": -0.2815005180097805, \"y\": 1}, {\"x1\": 1.9461486828402323, \"x2\": -0.657194631961024, \"y\": 1}, {\"x1\": 1.4219802840595894, \"x2\": -0.08355826624967738, \"y\": 1}, {\"x1\": 0.19484675561770315, \"x2\": -0.3036205260173439, \"y\": 1}, {\"x1\": -0.11729752068912708, \"x2\": 0.8329582468895393, \"y\": 0}, {\"x1\": 1.1338530505243627, \"x2\": 0.15967297773144118, \"y\": 1}, {\"x1\": -1.4776346597290295, \"x2\": 0.2333655974091538, \"y\": 0}, {\"x1\": 0.6496716747285982, \"x2\": -0.506940402965906, \"y\": 1}, {\"x1\": 0.9370382295044375, \"x2\": 0.7544396188366554, \"y\": 0}, {\"x1\": -0.03666817621761759, \"x2\": -0.24595059401748015, \"y\": 1}, {\"x1\": 1.1852176111912454, \"x2\": 0.6163352938365457, \"y\": 0}, {\"x1\": 0.37368566389828095, \"x2\": 0.9824710128002272, \"y\": 0}, {\"x1\": 1.0264314146701046, \"x2\": 0.46187280701250394, \"y\": 0}, {\"x1\": 2.27614719279813, \"x2\": -0.03373321921504138, \"y\": 1}, {\"x1\": 2.7049332504735157, \"x2\": -0.39862153639341114, \"y\": 1}, {\"x1\": -1.2956523721251716, \"x2\": 0.30658035165738895, \"y\": 0}, {\"x1\": -0.27315106602095857, \"x2\": 0.17010589862289244, \"y\": 1}, {\"x1\": 0.7622620956495677, \"x2\": 1.1105927448572164, \"y\": 0}, {\"x1\": -0.20622808843489546, \"x2\": 0.8541499168822623, \"y\": 0}, {\"x1\": 0.24491013519789478, \"x2\": 0.2366607405723411, \"y\": 1}, {\"x1\": 0.41123930170087, \"x2\": 0.5780007226965072, \"y\": 0}, {\"x1\": 1.3442777097262382, \"x2\": -0.015714413570396824, \"y\": 1}, {\"x1\": -0.011145500894608779, \"x2\": -0.5975467738563405, \"y\": 1}, {\"x1\": 1.0010124521853216, \"x2\": 1.1418415161569966, \"y\": 0}, {\"x1\": 0.6291926148568012, \"x2\": 0.4725675352961672, \"y\": 0}, {\"x1\": -0.6919568818861804, \"x2\": 1.132941862518647, \"y\": 0}, {\"x1\": 0.01421835845819637, \"x2\": 1.322446566613796, \"y\": 0}, {\"x1\": -1.112121361675454, \"x2\": 0.5657193188097872, \"y\": 0}, {\"x1\": 0.6512033400540147, \"x2\": 0.6755891933916285, \"y\": 0}, {\"x1\": 0.9134805994853273, \"x2\": 0.8345559991423704, \"y\": 0}, {\"x1\": 0.35758417382583557, \"x2\": 1.0018631711806971, \"y\": 0}, {\"x1\": 0.19284891559815986, \"x2\": -0.8773280398637249, \"y\": 1}, {\"x1\": -0.5891931135630241, \"x2\": 0.5019704358583055, \"y\": 0}, {\"x1\": 0.26152065081558984, \"x2\": 0.9649130701026699, \"y\": 0}, {\"x1\": 1.1670245029890944, \"x2\": 1.2329098789089374, \"y\": 0}, {\"x1\": 0.37368566389828095, \"x2\": 0.9824710128002272, \"y\": 0}, {\"x1\": -0.09466809433568404, \"x2\": -0.26514869845046407, \"y\": 1}, {\"x1\": 1.2461792281754347, \"x2\": -0.5265219461226376, \"y\": 1}, {\"x1\": 0.9539843131517496, \"x2\": -0.5762995329334838, \"y\": 1}, {\"x1\": -0.30116892775970927, \"x2\": 1.303873167403879, \"y\": 0}, {\"x1\": -0.4680255465678287, \"x2\": 0.3213466844572511, \"y\": 0}, {\"x1\": 1.7407311510951802, \"x2\": 0.27965426385212383, \"y\": 1}, {\"x1\": -1.4295456149977464, \"x2\": 1.0297334200526969, \"y\": 0}, {\"x1\": 0.22451724544863388, \"x2\": 0.27638589998337737, \"y\": 1}, {\"x1\": 1.6346570057052328, \"x2\": 0.3256210842311554, \"y\": 1}, {\"x1\": 1.3842353687222657, \"x2\": -1.584496093262771, \"y\": 1}, {\"x1\": 0.5622959168865513, \"x2\": 1.202956745230968, \"y\": 0}, {\"x1\": -0.3357712854671644, \"x2\": 0.9372771409695896, \"y\": 0}, {\"x1\": 1.0051099040548714, \"x2\": 0.9076066279452893, \"y\": 0}, {\"x1\": 0.015558971293675238, \"x2\": 1.0685262979889474, \"y\": 0}, {\"x1\": 1.4150887818838507, \"x2\": -0.022750944057815248, \"y\": 1}, {\"x1\": -1.1526207111512838, \"x2\": 0.30707274082917374, \"y\": 0}, {\"x1\": 1.7516475737448247, \"x2\": -0.5577791639374088, \"y\": 1}, {\"x1\": 2.0359131069391188, \"x2\": -0.1303578699385717, \"y\": 1}, {\"x1\": 0.41123930170087, \"x2\": 0.5780007226965072, \"y\": 0}, {\"x1\": 0.7646514402286769, \"x2\": -0.07818423403013591, \"y\": 1}, {\"x1\": -1.4776346597290295, \"x2\": 0.2333655974091538, \"y\": 0}, {\"x1\": 1.228669204319954, \"x2\": -0.15557088446489215, \"y\": 1}], \"data-96143fd44bcb64a18da5e4d3b6277e03\": [{\"x1\": -0.10815350262074563, \"x2\": -0.41398382962785957, \"y\": 1}, {\"x1\": 0.19769562775031133, \"x2\": 0.22865420134000625, \"y\": 0}, {\"x1\": 2.5865831991264567, \"x2\": 0.2736233936914786, \"y\": 1}, {\"x1\": -0.4986242241134148, \"x2\": 0.8169072654937217, \"y\": 0}, {\"x1\": -0.3935507844131116, \"x2\": 1.037323943676401, \"y\": 0}, {\"x1\": 1.6338864847406127, \"x2\": 0.08774816161510537, \"y\": 1}, {\"x1\": 0.7647541810243873, \"x2\": 0.8191865194237198, \"y\": 0}, {\"x1\": 2.3685611020474915, \"x2\": -0.8662909137322178, \"y\": 1}, {\"x1\": 0.9611424459912136, \"x2\": 0.31506695062565365, \"y\": 0}, {\"x1\": 0.5134692130548417, \"x2\": -0.638679349476571, \"y\": 1}, {\"x1\": 0.7353411016553544, \"x2\": -0.4471814681470973, \"y\": 1}, {\"x1\": 0.06722927500526191, \"x2\": 0.6418807671168304, \"y\": 0}, {\"x1\": -0.8762640345606685, \"x2\": 0.880866806047273, \"y\": 0}, {\"x1\": 0.7101827061689732, \"x2\": 0.6666328451161491, \"y\": 0}, {\"x1\": -0.11687819996849758, \"x2\": 0.3143255809867977, \"y\": 0}, {\"x1\": -0.2129122341570567, \"x2\": 0.9596952360445875, \"y\": 0}, {\"x1\": 1.3824515835095244, \"x2\": 0.1596177043096671, \"y\": 1}, {\"x1\": 0.11935603726014325, \"x2\": 0.62618988726624, \"y\": 0}, {\"x1\": 1.1437507424403328, \"x2\": -0.09057910015036724, \"y\": 1}, {\"x1\": 0.021033693552090747, \"x2\": 0.4855980106422463, \"y\": 0}, {\"x1\": 1.193294108527978, \"x2\": -0.5700276848902356, \"y\": 1}, {\"x1\": 2.386245062610514, \"x2\": 0.3596584221658473, \"y\": 1}, {\"x1\": 0.17034577916143218, \"x2\": 0.08622043211366687, \"y\": 0}, {\"x1\": 0.21290895778000105, \"x2\": 1.080281434705008, \"y\": 0}, {\"x1\": 0.26152065081558984, \"x2\": 0.9649130701026699, \"y\": 0}, {\"x1\": 1.438483831307233, \"x2\": -0.23071375151057355, \"y\": 1}, {\"x1\": 1.2246213791400624, \"x2\": 0.1770218863409874, \"y\": 1}, {\"x1\": 1.9196527491510136, \"x2\": 0.02491192519852259, \"y\": 1}, {\"x1\": 0.048590385461463215, \"x2\": 0.7384068103361492, \"y\": 0}, {\"x1\": 0.4178272519647092, \"x2\": 0.8207696217389061, \"y\": 0}, {\"x1\": 0.8839632308984438, \"x2\": 0.8645411877436666, \"y\": 0}, {\"x1\": 1.0254797293735394, \"x2\": -0.5643181885719304, \"y\": 1}, {\"x1\": 0.7033698779544965, \"x2\": 0.42270472850971275, \"y\": 0}, {\"x1\": -0.4731733113439113, \"x2\": 1.0957418273365354, \"y\": 0}, {\"x1\": 0.4179893079169935, \"x2\": 0.7542636294946551, \"y\": 0}, {\"x1\": 0.35758417382583557, \"x2\": 1.0018631711806971, \"y\": 0}, {\"x1\": 1.5555605421696739, \"x2\": 0.0046935133501846416, \"y\": 1}, {\"x1\": 0.4580503728410925, \"x2\": -0.3042607292991524, \"y\": 1}, {\"x1\": 1.2776434641013021, \"x2\": 0.3632762309073382, \"y\": 1}, {\"x1\": -0.6028675946332407, \"x2\": 0.9660591872256307, \"y\": 0}, {\"x1\": 1.4157792191778482, \"x2\": -0.8701344069570482, \"y\": 1}, {\"x1\": 1.7784469647335504, \"x2\": 0.20404958077534102, \"y\": 1}, {\"x1\": 0.3711623958354987, \"x2\": -0.2815005180097805, \"y\": 1}, {\"x1\": 1.9461486828402323, \"x2\": -0.657194631961024, \"y\": 1}, {\"x1\": 1.4219802840595894, \"x2\": -0.08355826624967738, \"y\": 1}, {\"x1\": 0.19484675561770315, \"x2\": -0.3036205260173439, \"y\": 1}, {\"x1\": -0.11729752068912708, \"x2\": 0.8329582468895393, \"y\": 0}, {\"x1\": 1.1338530505243627, \"x2\": 0.15967297773144118, \"y\": 1}, {\"x1\": -1.4776346597290295, \"x2\": 0.2333655974091538, \"y\": 0}, {\"x1\": 0.6496716747285982, \"x2\": -0.506940402965906, \"y\": 1}, {\"x1\": 0.9370382295044375, \"x2\": 0.7544396188366554, \"y\": 0}, {\"x1\": -0.03666817621761759, \"x2\": -0.24595059401748015, \"y\": 1}, {\"x1\": 1.1852176111912454, \"x2\": 0.6163352938365457, \"y\": 0}, {\"x1\": 0.37368566389828095, \"x2\": 0.9824710128002272, \"y\": 0}, {\"x1\": 1.0264314146701046, \"x2\": 0.46187280701250394, \"y\": 0}, {\"x1\": 2.27614719279813, \"x2\": -0.03373321921504138, \"y\": 1}, {\"x1\": 2.7049332504735157, \"x2\": -0.39862153639341114, \"y\": 1}, {\"x1\": -1.2956523721251716, \"x2\": 0.30658035165738895, \"y\": 0}, {\"x1\": -0.27315106602095857, \"x2\": 0.17010589862289244, \"y\": 0}, {\"x1\": 0.7622620956495677, \"x2\": 1.1105927448572164, \"y\": 0}, {\"x1\": -0.20622808843489546, \"x2\": 0.8541499168822623, \"y\": 0}, {\"x1\": 0.24491013519789478, \"x2\": 0.2366607405723411, \"y\": 0}, {\"x1\": 0.41123930170087, \"x2\": 0.5780007226965072, \"y\": 0}, {\"x1\": 1.3442777097262382, \"x2\": -0.015714413570396824, \"y\": 1}, {\"x1\": -0.011145500894608779, \"x2\": -0.5975467738563405, \"y\": 1}, {\"x1\": 1.0010124521853216, \"x2\": 1.1418415161569966, \"y\": 0}, {\"x1\": 0.6291926148568012, \"x2\": 0.4725675352961672, \"y\": 0}, {\"x1\": -0.6919568818861804, \"x2\": 1.132941862518647, \"y\": 0}, {\"x1\": 0.01421835845819637, \"x2\": 1.322446566613796, \"y\": 0}, {\"x1\": -1.112121361675454, \"x2\": 0.5657193188097872, \"y\": 0}, {\"x1\": 0.6512033400540147, \"x2\": 0.6755891933916285, \"y\": 0}, {\"x1\": 0.9134805994853273, \"x2\": 0.8345559991423704, \"y\": 0}, {\"x1\": 0.35758417382583557, \"x2\": 1.0018631711806971, \"y\": 0}, {\"x1\": 0.19284891559815986, \"x2\": -0.8773280398637249, \"y\": 1}, {\"x1\": -0.5891931135630241, \"x2\": 0.5019704358583055, \"y\": 0}, {\"x1\": 0.26152065081558984, \"x2\": 0.9649130701026699, \"y\": 0}, {\"x1\": 1.1670245029890944, \"x2\": 1.2329098789089374, \"y\": 0}, {\"x1\": 0.37368566389828095, \"x2\": 0.9824710128002272, \"y\": 0}, {\"x1\": -0.09466809433568404, \"x2\": -0.26514869845046407, \"y\": 1}, {\"x1\": 1.2461792281754347, \"x2\": -0.5265219461226376, \"y\": 1}, {\"x1\": 0.9539843131517496, \"x2\": -0.5762995329334838, \"y\": 1}, {\"x1\": -0.30116892775970927, \"x2\": 1.303873167403879, \"y\": 0}, {\"x1\": -0.4680255465678287, \"x2\": 0.3213466844572511, \"y\": 0}, {\"x1\": 1.7407311510951802, \"x2\": 0.27965426385212383, \"y\": 1}, {\"x1\": -1.4295456149977464, \"x2\": 1.0297334200526969, \"y\": 0}, {\"x1\": 0.22451724544863388, \"x2\": 0.27638589998337737, \"y\": 0}, {\"x1\": 1.6346570057052328, \"x2\": 0.3256210842311554, \"y\": 1}, {\"x1\": 1.3842353687222657, \"x2\": -1.584496093262771, \"y\": 1}, {\"x1\": 0.5622959168865513, \"x2\": 1.202956745230968, \"y\": 0}, {\"x1\": -0.3357712854671644, \"x2\": 0.9372771409695896, \"y\": 0}, {\"x1\": 1.0051099040548714, \"x2\": 0.9076066279452893, \"y\": 0}, {\"x1\": 0.015558971293675238, \"x2\": 1.0685262979889474, \"y\": 0}, {\"x1\": 1.4150887818838507, \"x2\": -0.022750944057815248, \"y\": 1}, {\"x1\": -1.1526207111512838, \"x2\": 0.30707274082917374, \"y\": 0}, {\"x1\": 1.7516475737448247, \"x2\": -0.5577791639374088, \"y\": 1}, {\"x1\": 2.0359131069391188, \"x2\": -0.1303578699385717, \"y\": 1}, {\"x1\": 0.41123930170087, \"x2\": 0.5780007226965072, \"y\": 0}, {\"x1\": 0.7646514402286769, \"x2\": -0.07818423403013591, \"y\": 1}, {\"x1\": -1.4776346597290295, \"x2\": 0.2333655974091538, \"y\": 0}, {\"x1\": 1.228669204319954, \"x2\": -0.15557088446489215, \"y\": 1}]}}, {\"mode\": \"vega-lite\"});\n",
       "</script>"
      ],
      "text/plain": [
       "alt.VConcatChart(...)"
      ]
     },
     "execution_count": 56,
     "metadata": {},
     "output_type": "execute_result"
    }
   ],
   "source": [
    "myCharts = [[], [], []]\n",
    "for i in range(3):\n",
    "    indices = np.random.randint(low = 0, high = 1000, size = 100)\n",
    "    for eachK in [1, 25, 50]:\n",
    "        scikit_classifier = KNeighborsClassifier(n_neighbors = eachK)\n",
    "        scikit_classifier.fit(X_data[indices, :], Y_data[indices])\n",
    "        scikit_predictions = scikit_classifier.predict(X_data[indices, :])\n",
    "        myCharts[i].append(alt.Chart(pd.DataFrame({'x1': X_data[indices, 0], 'x2': X_data[indices, 1], 'y': scikit_predictions})).mark_point().encode(\n",
    "            x='x1', y='x2', color=alt.Color('y', scale=alt.Scale(domain=[0.0, 1.0], range=['red', 'blue']))))\n",
    "alt.vconcat(alt.hconcat(myCharts[0][0], myCharts[0][1], myCharts[0][2]), alt.hconcat(myCharts[1][0], myCharts[1][1], myCharts[1][2]), alt.hconcat(myCharts[2][0], myCharts[2][1], myCharts[2][2]))"
   ]
  },
  {
   "attachments": {},
   "cell_type": "markdown",
   "metadata": {},
   "source": [
    "**(d)** Plotting Decision Boundaries"
   ]
  },
  {
   "cell_type": "code",
   "execution_count": null,
   "metadata": {},
   "outputs": [
    {
     "data": {
      "text/plain": [
       "<sklearn.inspection._plot.decision_boundary.DecisionBoundaryDisplay at 0x7f77efdefcd0>"
      ]
     },
     "execution_count": 69,
     "metadata": {},
     "output_type": "execute_result"
    },
    {
     "data": {
      "image/png": "[encoded data removed]",
      "text/plain": [
       "<Figure size 640x480 with 1 Axes>"
      ]
     },
     "metadata": {},
     "output_type": "display_data"
    }
   ],
   "source": [
    "from sklearn.inspection import DecisionBoundaryDisplay\n",
    "from matplotlib.colors import ListedColormap\n",
    "\n",
    "DecisionBoundaryDisplay.from_estimator(\n",
    "scikit_classifier,\n",
    "X_data[indices, :],\n",
    "response_method = 'predict',\n",
    "cmap = ListedColormap(['pink', 'lightblue']))"
   ]
  },
  {
   "attachments": {},
   "cell_type": "markdown",
   "metadata": {},
   "source": [
    "---\n",
    "\n",
    "## 6\n",
    "**[18 points] Bias-variance trade-off II: Quantifying the tradeoff**. This exercise explores the impact of the bias-variance tradeoff on classifier performance by looking at the performance on both training and test data.\n",
    "\n",
    "Here, the value of $k$ determines how flexible our model is.\n",
    "\n",
    "**(a)** Using the function created earlier to generate random samples (using the `make_moons` function setting the `noise` parameter to 0.35), create a new set of 1000 random samples, and call this dataset your test set and the previously created dataset your training set.\n",
    "\n",
    "**(b)** Train a kNN classifier on your training set for $k = 1,2,...500$. Apply each of these trained classifiers to both your training dataset and your test dataset and plot the classification error (fraction of incorrect predictions).\n",
    "\n",
    "**(c)** What trend do you see in the results?\n",
    "\n",
    "**(d)** What values of $k$ represent high bias and which represent high variance?\n",
    "\n",
    "**(e)** What is the optimal value of $k$ and why?\n",
    "\n",
    "**(f)** In KNN classifiers, the value of k controls the flexibility of the model - what controls the flexibility of other models?"
   ]
  },
  {
   "cell_type": "markdown",
   "metadata": {},
   "source": [
    "**ANSWER**"
   ]
  },
  {
   "attachments": {},
   "cell_type": "markdown",
   "metadata": {},
   "source": [
    "**(a)** Creating Test Data"
   ]
  },
  {
   "cell_type": "code",
   "execution_count": 13,
   "metadata": {},
   "outputs": [],
   "source": [
    "X_test, Y_test = make_moons(n_samples = 1000, noise = .35)"
   ]
  },
  {
   "attachments": {},
   "cell_type": "markdown",
   "metadata": {},
   "source": [
    "**(b)** Plotting Classification Error against K"
   ]
  },
  {
   "cell_type": "code",
   "execution_count": null,
   "metadata": {},
   "outputs": [],
   "source": []
  },
  {
   "attachments": {},
   "cell_type": "markdown",
   "metadata": {},
   "source": [
    "---\n",
    "\n",
    "## 7\n",
    "**[18 points] Linear regression and nonlinear transformations**. Linear regression can be used to model nonlinear relationships when feature variables are properly transformed to represent the nonlinearities in the data. In this exercise, you're given training and test data contained in files \"A2_Q7_train.csv\" and \"A2_Q7_test.csv\" in the \"data\" folder for this assignment. Your goal is to develop a regression algorithm from the training data that performs well on the test data.\n",
    "\n",
    "*Hint: Use the scikit learn [LinearRegression](http://scikit-learn.org/stable/modules/generated/sklearn.linear_model.LinearRegression.html) module.*\n",
    "\n",
    "**(a)** Create a scatter plot of your training data.\n",
    "\n",
    "**(b)** Estimate a linear regression model ($y = a_0 + a_1 x$) for the training data and calculate both the $R^2$ value and mean square error for the fit of that model for the training data. Also provide the equation representing the estimated model (e.g. $y = a_0 + a_1 x$, but with the estimated coefficients inserted. Consider this your baseline model against which you will compare other model options. *Evaluating performance on the training data is not a measure of how well this model would generalize to unseen data. We will evaluate performance on the test data once we see our models fit the training data decently well.*  \n",
    "\n",
    "**(c)** If features can be nonlinearly transformed, a linear model may incorporate those non-linear feature transformation relationships in the training process. From looking at the scatter plot of the training data, choose a transformation of the predictor variable, $x$ that may make sense for these data. This will be a multiple regression model of the form $y = a_0 + a_1 z_1 + a_2 z_2 + \\ldots + a_n z_n$. Here $z_i$ could be any transformations of x - perhaps it's $\\frac{1}{x}$, $log(x)$, $sin(x)$, $x^k$ (where $k$ is any power of your choosing). Provide the estimated equation for this multiple regression model (e.g. if you chose your predictors to be $z_1 = x$ and $z_2 = log(x)$, your model would be of the form $y = a_0 + a_1 x + a_2 log(x)$. Also provide the $R^2$ and mean square error of the fit for the training data.\n",
    "\n",
    "**(d)** Visualize the model fit to the training data. Using both of the models you created in parts (b) and (c), plot the original data (as a scatter plot) AND the curves representing your models (each as a separate curve) from (b) and (c).\n",
    "\n",
    "**(e)** Now its time to compare your models and evaluate the generalization performance on held out test data. Using the models above from (b) an (c), apply them to the test data and estimate the $R^2$ and mean square error of the test dataset.\n",
    "\n",
    "**(f)** Which models perform better on the training data, and which on the test data? Why?\n",
    "\n",
    "**(g)** Imagine that the test data were significantly different from the training dataset. How might this affect the predictive capability of your model? How would the accuracy of generalization performance be impacted? Why?\n",
    "\n",
    "*To help get you started - here's some code to help you load in the data for this exercise (you'll just need to update the path)*:"
   ]
  },
  {
   "cell_type": "code",
   "execution_count": null,
   "metadata": {},
   "outputs": [],
   "source": [
    "import numpy as np\n",
    "import pandas as pd\n",
    "\n",
    "path = './data/'\n",
    "train = pd.read_csv(path + 'A2_Q7_train.csv')\n",
    "test = pd.read_csv(path + 'A2_Q7_test.csv')\n",
    "\n",
    "x_train = train.x.values\n",
    "y_train = train.y.values\n",
    "\n",
    "x_test = test.x.values\n",
    "y_test = test.y.values"
   ]
  },
  {
   "cell_type": "markdown",
   "metadata": {},
   "source": [
    "**ANSWER**"
   ]
  }
 ],
 "metadata": {
  "kernelspec": {
   "display_name": "Python 3",
   "language": "python",
   "name": "python3"
  },
  "language_info": {
   "codemirror_mode": {
    "name": "ipython",
    "version": 3
   },
   "file_extension": ".py",
   "mimetype": "text/x-python",
   "name": "python",
   "nbconvert_exporter": "python",
   "pygments_lexer": "ipython3",
   "version": "3.10.4"
  },
  "varInspector": {
   "cols": {
    "lenName": 16,
    "lenType": 16,
    "lenVar": 40
   },
   "kernels_config": {
    "python": {
     "delete_cmd_postfix": "",
     "delete_cmd_prefix": "del ",
     "library": "var_list.py",
     "varRefreshCmd": "print(var_dic_list())"
    },
    "r": {
     "delete_cmd_postfix": ") ",
     "delete_cmd_prefix": "rm(",
     "library": "var_list.r",
     "varRefreshCmd": "cat(var_dic_list()) "
    }
   },
   "types_to_exclude": [
    "module",
    "function",
    "builtin_function_or_method",
    "instance",
    "_Feature"
   ],
   "window_display": false
  },
  "vscode": {
   "interpreter": {
    "hash": "3ad933181bd8a04b432d3370b9dc3b0662ad032c4dfaa4e4f1596c548f763858"
   }
  }
 },
 "nbformat": 4,
 "nbformat_minor": 4
}
