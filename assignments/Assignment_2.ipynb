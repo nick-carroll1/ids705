{
 "cells": [
  {
   "cell_type": "markdown",
   "metadata": {},
   "source": [
    "# Assignment 2 - Supervised Machine Learning Fundamentals"
   ]
  },
  {
   "attachments": {},
   "cell_type": "markdown",
   "metadata": {},
   "source": [
    "## *Nick Carroll*\n",
    "Netid: nc230\n",
    "\n",
    "Note: this assignment falls under collaboration Mode 2: Individual Assignment – Collaboration Permitted. Please refer to the syllabus for additional information.\n",
    "\n",
    "Instructions for all assignments can be found [here](https://github.com/kylebradbury/ids705/blob/master/assignments/_Assignment%20Instructions.ipynb), and is also linked to from the [course syllabus](https://kylebradbury.github.io/ids705/index.html).\n",
    "\n",
    "Total points in the assignment add up to 90; an additional 10 points are allocated to presentation quality."
   ]
  },
  {
   "cell_type": "markdown",
   "metadata": {},
   "source": [
    "## Learning Objectives:\n",
    "By successfully completing this assignment you will be able to...\n",
    "- Explain the bias-variance tradeoff of supervised machine learning and the impact of model flexibility on algorithm performance\n",
    "- Perform supervised machine learning training and performance evaluation\n",
    "- Implement a k-nearest neighbors machine learning algorithm from scratch in a style similar to that of popular machine learning tools like `scikit-learn`\n",
    "- Describe how KNN classification works, the method's reliance on distance measurements, and the impact of higher dimensionality on computational speed\n",
    "- Apply regression (linear regression) and classification (KNN) supervised learning techniques to data and evaluate the performance of those methods\n",
    "- Construct simple feature transformations for improving model fit in linear models\n",
    "- Fit a `scikit-learn` supervised learning technique to training data and make predictions using it"
   ]
  },
  {
   "cell_type": "code",
   "execution_count": 1,
   "metadata": {},
   "outputs": [],
   "source": [
    "# MAC USERS TAKE NOTE:\n",
    "# For clearer plots in Jupyter notebooks on macs, run the following line of code:\n",
    "# %config InlineBackend.figure_format = 'retina'"
   ]
  },
  {
   "attachments": {},
   "cell_type": "markdown",
   "metadata": {},
   "source": [
    "---\n",
    "\n",
    "# Conceptual Questions on Supervised Learning"
   ]
  },
  {
   "cell_type": "markdown",
   "metadata": {},
   "source": [
    "## 1\n",
    "**[4 points]**\n",
    "For each part below, indicate whether we would generally expect the performance of a flexible statistical learning method to be *better* or *worse* than an inflexible method. Justify your answer.\n",
    "\n",
    "1. The sample size $n$ is extremely large, and the number of predictors $p$ is small.\n",
    "2. The number of predictors $p$ is extremely large, and the number of observations $n$ is small.\n",
    "3. The relationship between the predictors and response is highly non-linear.\n",
    "4. The variance of the error terms, i.e. $\\sigma^2 = Var(\\epsilon)$, is extremely high"
   ]
  },
  {
   "cell_type": "markdown",
   "metadata": {},
   "source": [
    "**ANSWER**"
   ]
  },
  {
   "attachments": {},
   "cell_type": "markdown",
   "metadata": {},
   "source": [
    "1. If the sample size is extremely large, but the number of predictors is small, I would expect that a more flexible model will be much more likely to overfit to the large number of samples (i.e. over-fitting a classification around a point of one class that is surrounded by points of another class) and therefore perform worse than an inflexible model.\n",
    "2. If the number of predictors is extremely large, and the number of observations is small, then a more flexible model will be more likely to overfit to the small number of observations, and there is more likely to be a noise from predictors that may not be statistically significant (i.e. connecting three points into a curve when it is actually a linear relationship), and therefore a more flexible model would likely perform worse than an inflexible model.\n",
    "3. If the relationship between the predictors and the response is highly non-linear than a more flexible model will likely perform better than an inflexible model, because an inflexible model will not be able to account for the non-linearity.\n",
    "4. If the variance of the error terms is extremely high, then an inflexible model will seek to account for that variance, even if there is simply a lot of noise in the data than cannot be accounted for; therefore, a more flexible model will likely perform worse than an inflexible model."
   ]
  },
  {
   "attachments": {},
   "cell_type": "markdown",
   "metadata": {},
   "source": [
    "---\n",
    "\n",
    "## 2\n",
    "**[6 points]** For each of the following, (i) explain if each scenario is a classification or regression problem AND why, (ii) indicate whether we are most interested in inference or prediction for that problem AND why, and (iii) provide the sample size $n$ and number of predictors $p$ indicated for each scenario.\n",
    "\n",
    "**(a)** We collect a set of data on the top 500 firms in the US. For each firm we record profit, number of employees, industry and the CEO salary. We are interested in understanding which factors affect CEO salary.\n",
    "\n",
    "**(b)** We are considering launching a new product and wish to know whether it will be a success or a failure. We collect data on 20 similar products that were previously launched. For each product we have recorded whether it was a success or failure, price charged for the product, marketing budget, competition price, and ten other variables.\n",
    "\n",
    "**(c)** We are interesting in predicting the % change in the US dollar in relation to the weekly changes in the world stock markets. Hence we collect weekly data for all of 2012. For each week we record the % change in the dollar, the % change in the US market, the % change in the British market, and the % change in the German market."
   ]
  },
  {
   "cell_type": "markdown",
   "metadata": {},
   "source": [
    "**ANSWER**\n"
   ]
  },
  {
   "attachments": {},
   "cell_type": "markdown",
   "metadata": {},
   "source": [
    "**(a)** To understand which factors affect CEO salary, a regression would be required because the CEO salary is a continuous variable.  In this scenario, we would be most interested in inference, since we are trying to understand the factors that affect it, and not interested in predicting the actual salary itself.  In this scenario, the sample size is the 500 firms, and the predictors are profit, number of employees, and industry (3 predictors)."
   ]
  },
  {
   "attachments": {},
   "cell_type": "markdown",
   "metadata": {},
   "source": [
    "**(b)** To understand whether a new product launch will be a success or a failure, we will need a classification problem, because the output is being classified as a binary output: success or failure.  In this scenario, we would be most interested in prediction, because we want to know what will be the outcome of the product which has not launched yet.  In this scenario, the sample size is the 20 similar products, and the predictors are the price charged, marketing budget, competition price, and ten other variables (13 predictors in total)."
   ]
  },
  {
   "attachments": {},
   "cell_type": "markdown",
   "metadata": {},
   "source": [
    "**(c)** To predict the % change in the US dollar, we will need a regression, because the percent change is a continuous variable.  In this scneario, we would be most interested in prediction, because we are trying to predict the % change in the US dollar in the future.  In this scenario, the sample size is the 52 weeks of weekly data, and the predictors are the % change in the US market, % change in the British market, % change in the German market (3 predictors)."
   ]
  },
  {
   "attachments": {},
   "cell_type": "markdown",
   "metadata": {},
   "source": [
    "---\n",
    "\n",
    "# Practical Questions"
   ]
  },
  {
   "cell_type": "markdown",
   "metadata": {},
   "source": [
    "## 3\n",
    "**[6 points] Classification using KNN**. The table below provides a training dataset containing six observations (a.k.a. samples) ($n=6$) each with three predictors (a.k.a. features) ($p=3$), and one qualitative response variable (a.k.a. target).\n",
    "\n",
    "*Table 1. Training dataset with $n=6$ observations in $p=3$ dimensions with a categorical response, $y$*\n",
    "\n",
    "| Obs. | $x_1$ | $x_2$ | $x_3$ | $y$   |\n",
    "|------|-------|-------|-------|-------|\n",
    "| **1**| 0     | 3     | 0     | Red   |\n",
    "| **2**| 2     | 0     | 0     | Red   |\n",
    "| **3**| 0     | 1     | 3     | Red   |\n",
    "| **4**| 0     | 1     | 2     | Blue  |\n",
    "| **5**| -1    | 0     | 1     | Blue  |\n",
    "| **6**| 1     | 1     | 1     | Red   |\n",
    "\n",
    "We want to use the above training dataset to make a prediction, $\\hat{y}$, for an unlabeled test data observation where $x_1=x_2=x_3=0$ using $K$-nearest neighbors. You are given some code below to get you started. *Note: coding is only required for part (a), for (b)-(d) please provide your reasoning based on your answer to part (a)*.\n",
    "\n",
    "**(a)** Compute the Euclidean distance between each observation and the test point, $x_1=x_2=x_3=0$. Present your answer in a table similar in style to Table 1 with observations 1-6 as the row headers.\n",
    "\n",
    "**(b)** What is our prediction, $\\hat{y}$, when $K=1$ for the test point? Why?\n",
    "\n",
    "**(c)** What is our prediction, $\\hat{y}$, when $K=3$ for the test point? Why?\n",
    "\n",
    "**(d)** If the Bayes decision boundary (the optimal decision boundary) in this problem is highly nonlinear, then would we expect the *best* value of $K$ to be large or small? Why?"
   ]
  },
  {
   "cell_type": "code",
   "execution_count": 1,
   "metadata": {},
   "outputs": [],
   "source": [
    "import numpy as np\n",
    "\n",
    "X = np.array([[ 0, 3, 0],\n",
    "              [ 2, 0, 0],\n",
    "              [ 0, 1, 3],\n",
    "              [ 0, 1, 2],\n",
    "              [-1, 0, 1],\n",
    "              [ 1, 1, 1]])\n",
    "y = np.array(['r','r','r','b','b','r'])"
   ]
  },
  {
   "cell_type": "markdown",
   "metadata": {},
   "source": [
    "**ANSWER**:"
   ]
  },
  {
   "attachments": {},
   "cell_type": "markdown",
   "metadata": {},
   "source": [
    "**(a)** Below is a table showing the Euclidean distances for each observation along with its y-value."
   ]
  },
  {
   "cell_type": "code",
   "execution_count": 2,
   "metadata": {},
   "outputs": [],
   "source": [
    "%%capture --no-stdout \n",
    "import pandas as pd\n",
    "test = np.array([[0, 0, 0]])\n",
    "obs = np.arange(1, 7)\n",
    "distances = np.diagonal(np.matmul((X - test), (X - test).T))\n",
    "table = pd.DataFrame(np.vstack((obs, distances, y)).T, columns=[\n",
    "                     'Observations', 'Distances', 'y']).set_index('Observations').replace({'r': 'Red', 'b': 'Blue'})\n",
    "table.loc[:, 'Distances'] = table.loc[:, 'Distances'].astype('int')"
   ]
  },
  {
   "cell_type": "code",
   "execution_count": 4,
   "metadata": {},
   "outputs": [
    {
     "data": {
      "text/html": [
       "<div>\n",
       "<style scoped>\n",
       "    .dataframe tbody tr th:only-of-type {\n",
       "        vertical-align: middle;\n",
       "    }\n",
       "\n",
       "    .dataframe tbody tr th {\n",
       "        vertical-align: top;\n",
       "    }\n",
       "\n",
       "    .dataframe thead th {\n",
       "        text-align: right;\n",
       "    }\n",
       "</style>\n",
       "<table border=\"1\" class=\"dataframe\">\n",
       "  <thead>\n",
       "    <tr style=\"text-align: right;\">\n",
       "      <th></th>\n",
       "      <th>Distances</th>\n",
       "      <th>y</th>\n",
       "    </tr>\n",
       "    <tr>\n",
       "      <th>Observations</th>\n",
       "      <th></th>\n",
       "      <th></th>\n",
       "    </tr>\n",
       "  </thead>\n",
       "  <tbody>\n",
       "    <tr>\n",
       "      <th>1</th>\n",
       "      <td>9</td>\n",
       "      <td>Red</td>\n",
       "    </tr>\n",
       "    <tr>\n",
       "      <th>2</th>\n",
       "      <td>4</td>\n",
       "      <td>Red</td>\n",
       "    </tr>\n",
       "    <tr>\n",
       "      <th>3</th>\n",
       "      <td>10</td>\n",
       "      <td>Red</td>\n",
       "    </tr>\n",
       "    <tr>\n",
       "      <th>4</th>\n",
       "      <td>5</td>\n",
       "      <td>Blue</td>\n",
       "    </tr>\n",
       "    <tr>\n",
       "      <th>5</th>\n",
       "      <td>2</td>\n",
       "      <td>Blue</td>\n",
       "    </tr>\n",
       "    <tr>\n",
       "      <th>6</th>\n",
       "      <td>3</td>\n",
       "      <td>Red</td>\n",
       "    </tr>\n",
       "  </tbody>\n",
       "</table>\n",
       "</div>"
      ],
      "text/plain": [
       "              Distances     y\n",
       "Observations                 \n",
       "1                     9   Red\n",
       "2                     4   Red\n",
       "3                    10   Red\n",
       "4                     5  Blue\n",
       "5                     2  Blue\n",
       "6                     3   Red"
      ]
     },
     "execution_count": 4,
     "metadata": {},
     "output_type": "execute_result"
    }
   ],
   "source": [
    "table"
   ]
  },
  {
   "attachments": {},
   "cell_type": "markdown",
   "metadata": {},
   "source": [
    "**(b)**"
   ]
  },
  {
   "cell_type": "code",
   "execution_count": 5,
   "metadata": {},
   "outputs": [
    {
     "name": "stdout",
     "output_type": "stream",
     "text": [
      "The KNN prediction for the test point when K = 1 is Blue.\n"
     ]
    }
   ],
   "source": [
    "print(f\"The KNN prediction for the test point when K = 1 is {table.loc[table.loc[:, 'Distances'] == table.loc[:, 'Distances'].min(), 'y'].values[0]}.\")"
   ]
  },
  {
   "attachments": {},
   "cell_type": "markdown",
   "metadata": {},
   "source": [
    "**(c)**"
   ]
  },
  {
   "cell_type": "code",
   "execution_count": 6,
   "metadata": {},
   "outputs": [
    {
     "name": "stdout",
     "output_type": "stream",
     "text": [
      "The KNN prediction for the test point when K = 3 is Red.\n"
     ]
    }
   ],
   "source": [
    "print(\n",
    "    f\"The KNN prediction for the test point when K = 3 is {table.sort_values('Distances').iloc[:3].loc[:, 'y'].value_counts().loc[table.sort_values('Distances').iloc[:3].loc[:, 'y'].value_counts() == table.sort_values('Distances').iloc[:3].loc[:, 'y'].value_counts().max()].index.values[0]}.\")\n"
   ]
  },
  {
   "attachments": {},
   "cell_type": "markdown",
   "metadata": {},
   "source": [
    "**(d)** If the Bayes decision boundary is highly non-linear, we would expect the best value of K to be small."
   ]
  },
  {
   "attachments": {},
   "cell_type": "markdown",
   "metadata": {},
   "source": [
    "---\n",
    "\n",
    "## 4\n",
    "**[18 points] Build your own classification algorithm**.\n",
    "\n",
    "**(a)** Build a working version of a binary KNN classifier using the skeleton code below. We'll use the `sklearn` convention that a supervised learning algorithm has the methods `fit` which trains your algorithm (for KNN that means storing the data) and `predict` which identifies the K nearest neighbors and determines the most common class among those K neighbors. *Note: Most classification algorithms typically also have a method `predict_proba` which outputs the confidence score of each prediction, but we will explore that in a later assignment.*\n",
    "\n",
    "**(b)** Load the datasets to be evaluated here. Each includes training features ($\\mathbf{X}$), and test features ($\\mathbf{y}$) for both a low dimensional dataset ($p = 2$ features/predictors) and a higher dimensional dataset ($p = 100$ features/predictors). For each of these datasets there are $n=1000$ observations of each. They can be found in the `data` subfolder in the `assignments` folder on github. Each file is labeled similar to `A2_X_train_low.csv`, which lets you know whether the dataset is of features, $X$, targets, $y$; training or testing; and low or high dimensions.\n",
    "\n",
    "**(c)** Train your classifier on first the low dimensional dataset and then the high dimensional dataset with $k=5$. Evaluate the classification performance on the corresponding test data for each of those trained models. Calculate the time it takes each model to make the predictions and the overall accuracy of those predictions for each corresponding set of test data - state each.\n",
    "\n",
    "**(d)** Compare your implementation's accuracy and computation time to the scikit learn [KNeighborsClassifier](http://scikit-learn.org/stable/modules/generated/sklearn.neighbors.KNeighborsClassifier.html) class. How do the results and speed compare to your implementation?\n",
    "\n",
    "**(e)** Some supervised learning algorithms are more computationally intensive during training than testing. What are the drawbacks of the prediction process being slow? In what cases in practice might slow testing (inference) be more problematic than slow training?"
   ]
  },
  {
   "cell_type": "code",
   "execution_count": 7,
   "metadata": {},
   "outputs": [],
   "source": [
    "# # Skeleton code for part (a) to write your own kNN classifier\n",
    "\n",
    "# class Knn:\n",
    "# # k-Nearest Neighbor class object for classification training and testing\n",
    "#     def __init__(self):\n",
    "        \n",
    "#     def fit(self, x, y):\n",
    "#         # Save the training data to properties of this class\n",
    "        \n",
    "#     def predict(self, x, k):\n",
    "#         y_hat = [] # Variable to store the estimated class label for \n",
    "#         # Calculate the distance from each vector in x to the training data\n",
    "        \n",
    "#         # Return the estimated targets\n",
    "#         return y_hat\n",
    "\n",
    "# # Metric of overall classification accuracy\n",
    "# #  (a more general function, sklearn.metrics.accuracy_score, is also available)\n",
    "# def accuracy(y,y_hat):\n",
    "#     nvalues = len(y)\n",
    "#     accuracy = sum(y == y_hat) / nvalues\n",
    "#     return accuracy"
   ]
  },
  {
   "cell_type": "markdown",
   "metadata": {},
   "source": [
    "**ANSWER**:"
   ]
  },
  {
   "attachments": {},
   "cell_type": "markdown",
   "metadata": {},
   "source": [
    "**(a)** Below is the code for my KNN classifier."
   ]
  },
  {
   "cell_type": "code",
   "execution_count": 8,
   "metadata": {},
   "outputs": [],
   "source": [
    "class Knn:\n",
    "# k-Nearest Neighbor class object for classification training and testing\n",
    "    def __init__(self):\n",
    "        self.X = []\n",
    "        self.Y = []\n",
    "\n",
    "    def fit(self, x, y):\n",
    "        self.X = x\n",
    "        self.Y = y\n",
    "        \n",
    "    def predict(self, x, k):\n",
    "        y_hat = [] # Variable to store the estimated class label for \n",
    "        # Calculate the distance from each vector in x to the training data\n",
    "        X_3d = np.stack(x.shape[0] * [self.X.to_numpy()])\n",
    "        x_3d = np.transpose(np.stack(self.X.shape[0] * [x.to_numpy()]), axes = [1, 0, 2])\n",
    "        distances = pd.DataFrame(np.hstack((np.sum(np.multiply((X_3d - x_3d), (X_3d - x_3d)), axis = 2).T, self.Y)))\n",
    "        y_hat = np.asarray([distances.sort_values(i).iloc[:k, -1].value_counts().loc[distances.sort_values(i).iloc[:k, -1].value_counts() == distances.sort_values(i).iloc[:k, -1].value_counts().max()].index.values[0] for i in range(x.shape[0])])\n",
    "        \n",
    "        # Return the estimated targets\n",
    "        return y_hat\n",
    "\n",
    "# Metric of overall classification accuracy\n",
    "#  (a more general function, sklearn.metrics.accuracy_score, is also available)\n",
    "def accuracy(y, y_hat):\n",
    "    nvalues = len(y)\n",
    "    accuracy = sum(y == y_hat) / nvalues\n",
    "    return accuracy"
   ]
  },
  {
   "attachments": {},
   "cell_type": "markdown",
   "metadata": {},
   "source": [
    "**(b)** Loading datasets"
   ]
  },
  {
   "cell_type": "code",
   "execution_count": 9,
   "metadata": {},
   "outputs": [],
   "source": [
    "A2_X_test_high = pd.read_csv('data/A2_X_test_high.csv')\n",
    "A2_X_test_low = pd.read_csv('data/A2_X_test_low.csv')\n",
    "A2_X_train_high = pd.read_csv('data/A2_X_train_high.csv')\n",
    "A2_X_train_low = pd.read_csv('data/A2_X_train_low.csv')\n",
    "A2_y_test_high = pd.read_csv('data/A2_y_test_high.csv')\n",
    "A2_y_test_low = pd.read_csv('data/A2_y_test_low.csv')\n",
    "A2_y_train_high = pd.read_csv('data/A2_y_train_high.csv')\n",
    "A2_y_train_low = pd.read_csv('data/A2_y_train_low.csv')"
   ]
  },
  {
   "attachments": {},
   "cell_type": "markdown",
   "metadata": {},
   "source": [
    "**(c)** Classifier Training"
   ]
  },
  {
   "cell_type": "code",
   "execution_count": 10,
   "metadata": {},
   "outputs": [
    {
     "ename": "NameError",
     "evalue": "name 'low_predictions' is not defined",
     "output_type": "error",
     "traceback": [
      "\u001b[0;31m---------------------------------------------------------------------------\u001b[0m",
      "\u001b[0;31mNameError\u001b[0m                                 Traceback (most recent call last)",
      "Cell \u001b[0;32mIn[10], line 8\u001b[0m\n\u001b[1;32m      6\u001b[0m low_classifier_time \u001b[39m=\u001b[39m get_ipython()\u001b[39m.\u001b[39mrun_line_magic(\u001b[39m'\u001b[39m\u001b[39mtimeit\u001b[39m\u001b[39m'\u001b[39m, \u001b[39m'\u001b[39m\u001b[39m-o -q low_predictions = low_classifier.predict(A2_X_test_low, k)\u001b[39m\u001b[39m'\u001b[39m)\n\u001b[1;32m      7\u001b[0m high_classifier_time \u001b[39m=\u001b[39m get_ipython()\u001b[39m.\u001b[39mrun_line_magic(\u001b[39m'\u001b[39m\u001b[39mtimeit\u001b[39m\u001b[39m'\u001b[39m, \u001b[39m'\u001b[39m\u001b[39m-o -q high_predictions = high_classifier.predict(A2_X_test_high, k)\u001b[39m\u001b[39m'\u001b[39m)\n\u001b[0;32m----> 8\u001b[0m low_classifier_accuracy \u001b[39m=\u001b[39m accuracy(A2_y_test_low\u001b[39m.\u001b[39mto_numpy()[:, \u001b[39m0\u001b[39m], low_predictions)\n\u001b[1;32m      9\u001b[0m high_classifier_accuracy \u001b[39m=\u001b[39m accuracy(A2_y_test_high\u001b[39m.\u001b[39mto_numpy()[:, \u001b[39m0\u001b[39m], high_predictions)\n\u001b[1;32m     10\u001b[0m \u001b[39mprint\u001b[39m(\u001b[39mf\u001b[39m\u001b[39m\"\u001b[39m\u001b[39mThe KNN classifier took \u001b[39m\u001b[39m{\u001b[39;00mlow_classifier_time\u001b[39m.\u001b[39maverage\u001b[39m:\u001b[39;00m\u001b[39m .2f\u001b[39m\u001b[39m}\u001b[39;00m\u001b[39m seconds to predict the values in the small dataset, and had \u001b[39m\u001b[39m{\u001b[39;00mlow_classifier_accuracy\u001b[39m \u001b[39m\u001b[39m*\u001b[39m\u001b[39m \u001b[39m\u001b[39m100\u001b[39m\u001b[39m:\u001b[39;00m\u001b[39m .2f\u001b[39m\u001b[39m}\u001b[39;00m\u001b[39m % accuracy.\u001b[39m\u001b[39m\"\u001b[39m)\n",
      "\u001b[0;31mNameError\u001b[0m: name 'low_predictions' is not defined"
     ]
    }
   ],
   "source": [
    "low_classifier = Knn()\n",
    "high_classifier = Knn()\n",
    "k = 5\n",
    "low_classifier.fit(A2_X_train_low, A2_y_train_low)\n",
    "high_classifier.fit(A2_X_train_high, A2_y_train_high)\n",
    "low_classifier_time = %timeit -o -q low_predictions = low_classifier.predict(A2_X_test_low, k)\n",
    "high_classifier_time = %timeit -o -q high_predictions = high_classifier.predict(A2_X_test_high, k)\n",
    "low_classifier_accuracy = accuracy(A2_y_test_low.to_numpy()[:, 0], low_predictions)\n",
    "high_classifier_accuracy = accuracy(A2_y_test_high.to_numpy()[:, 0], high_predictions)\n",
    "print(f\"The KNN classifier took {low_classifier_time.average: .2f} seconds to predict the values in the small dataset, and had {low_classifier_accuracy * 100: .2f} % accuracy.\")\n",
    "print(f\"The KNN classifier took {high_classifier_time.average: .2f} seconds to predict the values in the large dataset, and had {high_classifier_accuracy * 100: .2f} % accuracy.\")\n"
   ]
  },
  {
   "attachments": {},
   "cell_type": "markdown",
   "metadata": {},
   "source": [
    "**(d)** Comparing Sci-Kit Learn"
   ]
  },
  {
   "cell_type": "code",
   "execution_count": 3,
   "metadata": {},
   "outputs": [
    {
     "ename": "NameError",
     "evalue": "name 'k' is not defined",
     "output_type": "error",
     "traceback": [
      "\u001b[0;31m---------------------------------------------------------------------------\u001b[0m",
      "\u001b[0;31mNameError\u001b[0m                                 Traceback (most recent call last)",
      "Cell \u001b[0;32mIn[3], line 3\u001b[0m\n\u001b[1;32m      1\u001b[0m \u001b[39mfrom\u001b[39;00m \u001b[39msklearn\u001b[39;00m\u001b[39m.\u001b[39;00m\u001b[39mneighbors\u001b[39;00m \u001b[39mimport\u001b[39;00m KNeighborsClassifier\n\u001b[0;32m----> 3\u001b[0m scikit_low_classifier \u001b[39m=\u001b[39m KNeighborsClassifier(n_neighbors \u001b[39m=\u001b[39m k)\n\u001b[1;32m      4\u001b[0m scikit_high_classifier \u001b[39m=\u001b[39m KNeighborsClassifier(n_neighbors \u001b[39m=\u001b[39m k)\n\u001b[1;32m      5\u001b[0m \u001b[39mprint\u001b[39m(A2_X_train_low\u001b[39m.\u001b[39mto_numpy()\u001b[39m.\u001b[39mshape, A2_y_train_low\u001b[39m.\u001b[39mto_numpy()\u001b[39m.\u001b[39mshape)\n",
      "\u001b[0;31mNameError\u001b[0m: name 'k' is not defined"
     ]
    }
   ],
   "source": [
    "%%capture --no-stdout\n",
    "from sklearn.neighbors import KNeighborsClassifier\n",
    "\n",
    "scikit_low_classifier = KNeighborsClassifier(n_neighbors = k)\n",
    "scikit_high_classifier = KNeighborsClassifier(n_neighbors = k)\n",
    "print(A2_X_train_low.to_numpy().shape, A2_y_train_low.to_numpy().shape)\n",
    "scikit_low_classifier.fit(A2_X_train_low.to_numpy(), A2_y_train_low.to_numpy())\n",
    "scikit_high_classifier.fit(A2_X_train_high.to_numpy(), A2_y_train_high.to_numpy())\n",
    "scikit_low_classifier_time = %timeit -o -q scikit_low_predictions = scikit_low_classifier.predict(A2_X_test_low.to_numpy())\n",
    "scikit_high_classifier_time = %timeit -o -q scikit_high_predictions = scikit_high_classifier.predict(A2_X_test_high.to_numpy())\n",
    "scikit_low_classifier_accuracy = scikit_low_classifier.score(A2_X_test_low, A2_y_test_low)\n",
    "scikit_high_classifier_accuracy = scikit_high_classifier.score(A2_X_test_high, A2_y_test_high)\n",
    "print(f\"The Scikit-Learn KNN classifier took {scikit_low_classifier_time.average: .2f} seconds to predict the values in the small dataset, and had {scikit_low_classifier_accuracy * 100: .2f} % accuracy.\")\n",
    "print(f\"The Scikit-Learn KNN classifier took {scikit_high_classifier_time.average: .2f} seconds to predict the values in the large dataset, and had {scikit_high_classifier_accuracy * 100: .2f} % accuracy.\")\n"
   ]
  },
  {
   "attachments": {},
   "cell_type": "markdown",
   "metadata": {},
   "source": [
    "**(e)** Computational Intensity"
   ]
  },
  {
   "attachments": {},
   "cell_type": "markdown",
   "metadata": {},
   "source": [
    "The drawbacks of the prediction process being slow, is that the prediction process is what you are likely using if you are implementing your model in a development environment.  In this scenario, you do not want to slow down a customer or a process that relies on a model being able to predict quickly.  In algorithmic trading of the stock market, trades can take place on the order of milliseconds, and if the model takes excessive time to predict, the opportunity might be lost by the time the model completes its predictions.  \n",
    "\n",
    "Slow testing would be problematic, when the testing is computationally intensive compared to the training, for example in a cross validation situation, where many sections of the dataset are tested, slow testing could compound the validation timeline and slow down the whole process of developing a model."
   ]
  },
  {
   "attachments": {},
   "cell_type": "markdown",
   "metadata": {},
   "source": [
    "---\n",
    "\n",
    "## 5\n",
    "**[20 points] Bias-variance tradeoff: exploring the tradeoff with a KNN classifier**. This exercise will illustrate the impact of the bias-variance tradeoff on classifier performance by investigating how model flexibility impacts classifier decision boundaries. For this problem, please us Scikit-learn's KNN implementation rather than your own implementation, as you did at the end of the last question.\n",
    "\n",
    "**(a)** Create a synthetic dataset (with both features and targets). Use the [`make_moons`](http://scikit-learn.org/stable/modules/generated/sklearn.datasets.make_moons.html#sklearn.datasets.make_moons) module with the parameter `noise=0.35` to generate 1000 random samples.\n",
    "\n",
    "**(b)** Visualize your data: scatterplot your random samples with each class in a different color.\n",
    "\n",
    "**(c)** Create 3 different data subsets by selecting 100 of the 1000 data points at random three times (with replacement). For each of these 100-sample datasets, fit three separate k-Nearest Neighbor classifiers with: $k = \\{1, 25, 50\\}$. This will result in 9 combinations (3 datasets, each with 3 trained classifiers).\n",
    "\n",
    "**(d)** For each combination of dataset and trained classifier plot the decision boundary (similar in style to Figure 2.15 from *Introduction to Statistical Learning*). This should form a 3-by-3 grid. Each column should represent a different value of $k$ and each row should represent a different dataset. \n",
    "\n",
    "**(e)** What do you notice about the difference between the rows and the columns. Which decision boundaries appear to best separate the two classes of data? Which decision boundaries vary the most as the data change?\n",
    "\n",
    "**(f)** Explain the bias-variance tradeoff using the example of the plots you made in this exercise and its implications for training supervised machine learning algorithms.\n",
    "\n",
    "Notes and tips for plotting decision boundaries (as in part d):\n",
    "- *Resource for plotting decision boundaries with meshgrid and contour: https://scikit-learn.org/stable/auto_examples/neighbors/plot_classification.html*\n",
    "- If you would like to change the colors of the background, and do not like any of the existing cmap available in matplotlib, you can make your own cmap using the 2 sets of rgb values. Sample code (replace r, g, b with respective rgb values):"
   ]
  },
  {
   "cell_type": "code",
   "execution_count": 4,
   "metadata": {},
   "outputs": [
    {
     "ename": "NameError",
     "evalue": "name 'r' is not defined",
     "output_type": "error",
     "traceback": [
      "\u001b[0;31m---------------------------------------------------------------------------\u001b[0m",
      "\u001b[0;31mNameError\u001b[0m                                 Traceback (most recent call last)",
      "Cell \u001b[0;32mIn[4], line 2\u001b[0m\n\u001b[1;32m      1\u001b[0m \u001b[39mfrom\u001b[39;00m \u001b[39mmatplotlib\u001b[39;00m\u001b[39m.\u001b[39;00m\u001b[39mcolors\u001b[39;00m \u001b[39mimport\u001b[39;00m LinearSegmentedColormap\n\u001b[0;32m----> 2\u001b[0m newcmp \u001b[39m=\u001b[39m LinearSegmentedColormap\u001b[39m.\u001b[39mfrom_list(\u001b[39m\"\u001b[39m\u001b[39mnew\u001b[39m\u001b[39m\"\u001b[39m, [(r\u001b[39m/\u001b[39m\u001b[39m255\u001b[39m, g\u001b[39m/\u001b[39m\u001b[39m255\u001b[39m, b\u001b[39m/\u001b[39m\u001b[39m255\u001b[39m), (r\u001b[39m/\u001b[39m\u001b[39m255\u001b[39m, g\u001b[39m/\u001b[39m\u001b[39m255\u001b[39m, b\u001b[39m/\u001b[39m\u001b[39m255\u001b[39m)], N\u001b[39m=\u001b[39m\u001b[39m2\u001b[39m)\n",
      "\u001b[0;31mNameError\u001b[0m: name 'r' is not defined"
     ]
    }
   ],
   "source": [
    "from matplotlib.colors import LinearSegmentedColormap\n",
    "newcmp = LinearSegmentedColormap.from_list(\"new\", [(r/255, g/255, b/255), (r/255, g/255, b/255)], N=2)"
   ]
  },
  {
   "cell_type": "markdown",
   "metadata": {},
   "source": [
    "**ANSWER**"
   ]
  },
  {
   "attachments": {},
   "cell_type": "markdown",
   "metadata": {},
   "source": [
    "**(a)** Creating a Synthetic Dataset"
   ]
  },
  {
   "cell_type": "code",
   "execution_count": 5,
   "metadata": {},
   "outputs": [],
   "source": [
    "from sklearn.datasets import make_moons\n",
    "\n",
    "X_data, Y_data = make_moons(n_samples = 1000, noise = .35)"
   ]
  },
  {
   "attachments": {},
   "cell_type": "markdown",
   "metadata": {},
   "source": [
    "**(b)** Visualizing Data"
   ]
  },
  {
   "cell_type": "code",
   "execution_count": 10,
   "metadata": {},
   "outputs": [
    {
     "data": {
      "text/html": [
       "\n",
       "<div id=\"altair-viz-325cf8cfd2694774b8f8f435045b6bd6\"></div>\n",
       "<script type=\"text/javascript\">\n",
       "  var VEGA_DEBUG = (typeof VEGA_DEBUG == \"undefined\") ? {} : VEGA_DEBUG;\n",
       "  (function(spec, embedOpt){\n",
       "    let outputDiv = document.currentScript.previousElementSibling;\n",
       "    if (outputDiv.id !== \"altair-viz-325cf8cfd2694774b8f8f435045b6bd6\") {\n",
       "      outputDiv = document.getElementById(\"altair-viz-325cf8cfd2694774b8f8f435045b6bd6\");\n",
       "    }\n",
       "    const paths = {\n",
       "      \"vega\": \"https://cdn.jsdelivr.net/npm//vega@5?noext\",\n",
       "      \"vega-lib\": \"https://cdn.jsdelivr.net/npm//vega-lib?noext\",\n",
       "      \"vega-lite\": \"https://cdn.jsdelivr.net/npm//vega-lite@4.17.0?noext\",\n",
       "      \"vega-embed\": \"https://cdn.jsdelivr.net/npm//vega-embed@6?noext\",\n",
       "    };\n",
       "\n",
       "    function maybeLoadScript(lib, version) {\n",
       "      var key = `${lib.replace(\"-\", \"\")}_version`;\n",
       "      return (VEGA_DEBUG[key] == version) ?\n",
       "        Promise.resolve(paths[lib]) :\n",
       "        new Promise(function(resolve, reject) {\n",
       "          var s = document.createElement('script');\n",
       "          document.getElementsByTagName(\"head\")[0].appendChild(s);\n",
       "          s.async = true;\n",
       "          s.onload = () => {\n",
       "            VEGA_DEBUG[key] = version;\n",
       "            return resolve(paths[lib]);\n",
       "          };\n",
       "          s.onerror = () => reject(`Error loading script: ${paths[lib]}`);\n",
       "          s.src = paths[lib];\n",
       "        });\n",
       "    }\n",
       "\n",
       "    function showError(err) {\n",
       "      outputDiv.innerHTML = `<div class=\"error\" style=\"color:red;\">${err}</div>`;\n",
       "      throw err;\n",
       "    }\n",
       "\n",
       "    function displayChart(vegaEmbed) {\n",
       "      vegaEmbed(outputDiv, spec, embedOpt)\n",
       "        .catch(err => showError(`Javascript Error: ${err.message}<br>This usually means there's a typo in your chart specification. See the javascript console for the full traceback.`));\n",
       "    }\n",
       "\n",
       "    if(typeof define === \"function\" && define.amd) {\n",
       "      requirejs.config({paths});\n",
       "      require([\"vega-embed\"], displayChart, err => showError(`Error loading script: ${err.message}`));\n",
       "    } else {\n",
       "      maybeLoadScript(\"vega\", \"5\")\n",
       "        .then(() => maybeLoadScript(\"vega-lite\", \"4.17.0\"))\n",
       "        .then(() => maybeLoadScript(\"vega-embed\", \"6\"))\n",
       "        .catch(showError)\n",
       "        .then(() => displayChart(vegaEmbed));\n",
       "    }\n",
       "  })({\"config\": {\"view\": {\"continuousWidth\": 400, \"continuousHeight\": 300}}, \"data\": {\"name\": \"data-85c5d81cf98d4cc16ab71844d8511df0\"}, \"mark\": \"point\", \"encoding\": {\"color\": {\"field\": \"y\", \"scale\": {\"domain\": [0.0, 1.0], \"range\": [\"red\", \"blue\"]}, \"type\": \"quantitative\"}, \"x\": {\"field\": \"x1\", \"type\": \"quantitative\"}, \"y\": {\"field\": \"x2\", \"type\": \"quantitative\"}}, \"$schema\": \"https://vega.github.io/schema/vega-lite/v4.17.0.json\", \"datasets\": {\"data-85c5d81cf98d4cc16ab71844d8511df0\": [{\"x1\": 1.0336257167163259, \"x2\": -0.4279712796559968, \"y\": 0}, {\"x1\": 0.28387183915123815, \"x2\": 1.493118914283957, \"y\": 0}, {\"x1\": 0.16064120479105093, \"x2\": 0.03148887386433316, \"y\": 1}, {\"x1\": 0.5286148133173327, \"x2\": -1.054283492242479, \"y\": 1}, {\"x1\": 0.053962837543760626, \"x2\": -0.5142782822402806, \"y\": 1}, {\"x1\": -0.1224461730791272, \"x2\": 0.26921109573895546, \"y\": 1}, {\"x1\": 1.8218709887076106, \"x2\": 0.1725719836242871, \"y\": 1}, {\"x1\": 1.2276846634911784, \"x2\": -0.6081841695347252, \"y\": 1}, {\"x1\": 0.25087057475986424, \"x2\": 1.0346146070047122, \"y\": 0}, {\"x1\": -1.0994247000257886, \"x2\": -0.4262607587159022, \"y\": 0}, {\"x1\": 0.8436972512441518, \"x2\": -0.19476284773204194, \"y\": 1}, {\"x1\": -0.4656332161649586, \"x2\": 1.3074910649593983, \"y\": 0}, {\"x1\": 0.4548996225019793, \"x2\": -0.01408299346844405, \"y\": 1}, {\"x1\": -0.6514944493433559, \"x2\": 1.1658331645389803, \"y\": 0}, {\"x1\": 0.21094138233498572, \"x2\": 0.44601405234176855, \"y\": 1}, {\"x1\": -0.07671407183590395, \"x2\": 0.43463357898593913, \"y\": 0}, {\"x1\": -1.439195421625214, \"x2\": 0.4160935160183533, \"y\": 0}, {\"x1\": 1.6963423932558543, \"x2\": -0.07078943963951231, \"y\": 1}, {\"x1\": 1.8730817773075217, \"x2\": 0.07334438153398251, \"y\": 1}, {\"x1\": -0.8214487221772903, \"x2\": 0.3751502642253307, \"y\": 0}, {\"x1\": 1.466944781914605, \"x2\": -0.24896859697441623, \"y\": 1}, {\"x1\": 0.46606706874941317, \"x2\": -0.3911335129715138, \"y\": 1}, {\"x1\": 1.233872455726058, \"x2\": 0.22879131002567926, \"y\": 0}, {\"x1\": 1.8341243801127298, \"x2\": 0.057175263187984604, \"y\": 1}, {\"x1\": -0.20494766422604482, \"x2\": 0.6243436453327261, \"y\": 1}, {\"x1\": 1.1101547282642057, \"x2\": -0.12070686937897637, \"y\": 0}, {\"x1\": -0.38376527147014033, \"x2\": 0.5647576880800439, \"y\": 1}, {\"x1\": 1.822428213424968, \"x2\": 1.0169848906797783, \"y\": 1}, {\"x1\": 1.023877323781193, \"x2\": 0.5442901821047876, \"y\": 0}, {\"x1\": 0.2802281110112659, \"x2\": 0.8625692057062649, \"y\": 0}, {\"x1\": 1.026409825859647, \"x2\": -0.3826932120908223, \"y\": 1}, {\"x1\": -1.3738885897067505, \"x2\": -0.32704458912917267, \"y\": 0}, {\"x1\": 1.0388489473579081, \"x2\": -0.18324403406937534, \"y\": 0}, {\"x1\": -0.8970518587737117, \"x2\": 0.6175386345402051, \"y\": 0}, {\"x1\": -0.5542484599122257, \"x2\": 0.2073850080985766, \"y\": 1}, {\"x1\": 1.3970684487772074, \"x2\": -0.49923826469586274, \"y\": 1}, {\"x1\": -0.2266207309682015, \"x2\": 1.5593179306020024, \"y\": 0}, {\"x1\": 0.8165424554400801, \"x2\": 1.332502689171118, \"y\": 0}, {\"x1\": -1.4286069774750283, \"x2\": -0.34074559819640166, \"y\": 0}, {\"x1\": 0.36600502139434954, \"x2\": 0.025098764120243366, \"y\": 1}, {\"x1\": -0.9108449652918722, \"x2\": 0.27065342035507545, \"y\": 0}, {\"x1\": 1.848683782836675, \"x2\": -0.2543319553773431, \"y\": 1}, {\"x1\": 2.141602113622369, \"x2\": 0.6863857407828299, \"y\": 1}, {\"x1\": -1.513572260905673, \"x2\": -0.06044375181124417, \"y\": 0}, {\"x1\": -0.48064423329146333, \"x2\": 0.7948389124862898, \"y\": 0}, {\"x1\": 0.18580452169801528, \"x2\": 0.7939534403887211, \"y\": 0}, {\"x1\": 0.23498670448349618, \"x2\": 0.12728450565652372, \"y\": 1}, {\"x1\": 0.7471711934954054, \"x2\": 0.8259362975541689, \"y\": 0}, {\"x1\": 1.3646668262037105, \"x2\": 0.338217814571739, \"y\": 1}, {\"x1\": 1.1144119079097685, \"x2\": 0.26127075744927186, \"y\": 0}, {\"x1\": 0.19646048422519047, \"x2\": 0.3434026180673825, \"y\": 0}, {\"x1\": 0.7314693279965907, \"x2\": -0.36365874036580925, \"y\": 1}, {\"x1\": 0.4369702280433375, \"x2\": 0.3005693596012514, \"y\": 1}, {\"x1\": 0.9558728885552952, \"x2\": -0.027135607320355304, \"y\": 1}, {\"x1\": 1.0953840262134071, \"x2\": -0.5886441850347965, \"y\": 1}, {\"x1\": 2.258611483744681, \"x2\": 0.21295464181479734, \"y\": 1}, {\"x1\": -0.4867331378532466, \"x2\": 0.4447755587460159, \"y\": 0}, {\"x1\": 2.2966666859810707, \"x2\": 0.38263480287167406, \"y\": 1}, {\"x1\": -0.39960989250030865, \"x2\": 0.31069835609341634, \"y\": 0}, {\"x1\": 1.1649142118770315, \"x2\": 0.006585062395465968, \"y\": 1}, {\"x1\": 1.2538043100261727, \"x2\": -0.5151060713517616, \"y\": 1}, {\"x1\": 0.02155802934790102, \"x2\": 1.0031708391899157, \"y\": 0}, {\"x1\": 0.03216716561120084, \"x2\": 0.6272765822422461, \"y\": 0}, {\"x1\": -0.47012963180745243, \"x2\": 0.48906504537782847, \"y\": 0}, {\"x1\": 0.778593022171305, \"x2\": 0.3875548372984741, \"y\": 0}, {\"x1\": -0.5683933216045295, \"x2\": 0.839435068676916, \"y\": 0}, {\"x1\": -0.2537250197143451, \"x2\": 0.6805068809143221, \"y\": 0}, {\"x1\": 0.989838537905865, \"x2\": 0.6064549063782075, \"y\": 0}, {\"x1\": 1.2039242245987962, \"x2\": -1.0704305284877327, \"y\": 1}, {\"x1\": 0.7825125297696608, \"x2\": 0.442529590223551, \"y\": 0}, {\"x1\": 0.6903189662191833, \"x2\": 0.513473914707713, \"y\": 0}, {\"x1\": 1.3482037749613007, \"x2\": -0.2567047162970015, \"y\": 1}, {\"x1\": -0.7607776333735027, \"x2\": 0.7375569960682551, \"y\": 0}, {\"x1\": -1.0688259478013755, \"x2\": 0.6184044459838941, \"y\": 0}, {\"x1\": -0.6792332216283965, \"x2\": 0.20570988209808466, \"y\": 0}, {\"x1\": 0.4392939439429233, \"x2\": 0.7404119677999289, \"y\": 0}, {\"x1\": 0.12521766440341148, \"x2\": -0.6474112948885145, \"y\": 1}, {\"x1\": -1.5171698076893096, \"x2\": 0.45379486919637924, \"y\": 0}, {\"x1\": 0.39626723151024257, \"x2\": 0.29244341085493053, \"y\": 0}, {\"x1\": 0.39683417233581336, \"x2\": -0.6366961488811453, \"y\": 1}, {\"x1\": 0.8388202988599359, \"x2\": -0.6688631522234296, \"y\": 1}, {\"x1\": 0.0829126319697506, \"x2\": 0.23772104123164198, \"y\": 1}, {\"x1\": 0.09764128736353743, \"x2\": 0.7893213767142829, \"y\": 0}, {\"x1\": 0.1629165438533226, \"x2\": -0.2588605180400827, \"y\": 1}, {\"x1\": 0.7206447937130618, \"x2\": -0.17470084727043578, \"y\": 1}, {\"x1\": 1.2457750761767645, \"x2\": 0.24899640667969636, \"y\": 1}, {\"x1\": -0.8077722326678054, \"x2\": 0.12193824774731692, \"y\": 0}, {\"x1\": 1.546114881084928, \"x2\": 0.12616857741207665, \"y\": 1}, {\"x1\": 1.9281403578565255, \"x2\": -0.2739828958332138, \"y\": 1}, {\"x1\": 1.8744474479769047, \"x2\": 1.026833103474403, \"y\": 1}, {\"x1\": 0.8210250622402294, \"x2\": -0.5368601043970038, \"y\": 0}, {\"x1\": 0.2455882865627076, \"x2\": 0.8640780875421492, \"y\": 0}, {\"x1\": 0.3028495239958387, \"x2\": 0.9855982278586326, \"y\": 0}, {\"x1\": 0.7038353083363637, \"x2\": 0.5520562378643692, \"y\": 0}, {\"x1\": 0.44772106054294136, \"x2\": -0.5235886582404407, \"y\": 1}, {\"x1\": 1.5978739640397042, \"x2\": -0.6988293177148996, \"y\": 1}, {\"x1\": -0.8035243211776488, \"x2\": 0.47094444998965224, \"y\": 0}, {\"x1\": 0.37676762985881235, \"x2\": 0.5440068363629692, \"y\": 0}, {\"x1\": 0.056811086742753064, \"x2\": 1.752092832085081, \"y\": 0}, {\"x1\": 0.026807783476162673, \"x2\": 1.3263997743590752, \"y\": 0}, {\"x1\": 0.9128858486512121, \"x2\": -0.4309660472945026, \"y\": 1}, {\"x1\": 0.9166790838166898, \"x2\": 0.5444821910494202, \"y\": 0}, {\"x1\": 0.007351611969240723, \"x2\": 0.8256071134253343, \"y\": 0}, {\"x1\": 0.3986105733180686, \"x2\": -0.659359849714369, \"y\": 1}, {\"x1\": 0.5639746982606445, \"x2\": 0.049974319965186226, \"y\": 1}, {\"x1\": 0.8043127555539826, \"x2\": -0.6440507838337094, \"y\": 1}, {\"x1\": 2.2171763883929367, \"x2\": 0.37312895798905293, \"y\": 1}, {\"x1\": 1.6907438436426308, \"x2\": 0.1830197999553178, \"y\": 1}, {\"x1\": 2.035678280046633, \"x2\": 1.359830427574456, \"y\": 1}, {\"x1\": 0.42356501812437586, \"x2\": 0.27659119789104625, \"y\": 1}, {\"x1\": -1.2129145308300384, \"x2\": 0.06212514745332731, \"y\": 0}, {\"x1\": 0.6843318910078211, \"x2\": -0.8208879982032425, \"y\": 1}, {\"x1\": 0.6721489073997919, \"x2\": 1.3751413626095468, \"y\": 0}, {\"x1\": 0.94407011388341, \"x2\": 0.5339531168908073, \"y\": 0}, {\"x1\": 1.2725643889307947, \"x2\": -0.37512389336585517, \"y\": 1}, {\"x1\": 2.125647704193807, \"x2\": 0.38826733334919283, \"y\": 1}, {\"x1\": -0.3925564429941103, \"x2\": 1.499311614134828, \"y\": 0}, {\"x1\": 1.4406691360222244, \"x2\": 0.14217108991274802, \"y\": 1}, {\"x1\": -0.496659934029005, \"x2\": 0.48043178805338305, \"y\": 0}, {\"x1\": 2.1644685667007812, \"x2\": -0.39403916135675315, \"y\": 1}, {\"x1\": -0.10645435130186565, \"x2\": 1.1094133150222383, \"y\": 0}, {\"x1\": 1.3730863904468802, \"x2\": 0.10112215992919105, \"y\": 1}, {\"x1\": 0.08827939365076132, \"x2\": 1.3152258883996675, \"y\": 0}, {\"x1\": -0.523708199496167, \"x2\": 0.5277936165006896, \"y\": 0}, {\"x1\": 0.685292236512109, \"x2\": -0.2166450015495193, \"y\": 1}, {\"x1\": 1.191764995205087, \"x2\": -0.23486474785275177, \"y\": 1}, {\"x1\": -0.9381629459630461, \"x2\": 0.5956122318620581, \"y\": 0}, {\"x1\": -1.1795598093915434, \"x2\": 0.04437322372749547, \"y\": 0}, {\"x1\": -0.5426130270450177, \"x2\": -0.12251148665204398, \"y\": 1}, {\"x1\": 0.6968356718585569, \"x2\": -0.12769149450943895, \"y\": 1}, {\"x1\": 0.5773991387526711, \"x2\": 0.8798371752969285, \"y\": 0}, {\"x1\": -0.3041568754298287, \"x2\": -0.017737268016035423, \"y\": 1}, {\"x1\": 0.8908942280830141, \"x2\": -0.469560758232723, \"y\": 1}, {\"x1\": 0.043601488839673824, \"x2\": 1.5940703847726911, \"y\": 0}, {\"x1\": 0.7683220421472895, \"x2\": 0.205499645343321, \"y\": 1}, {\"x1\": 1.9430149655017994, \"x2\": -0.016987123458219164, \"y\": 1}, {\"x1\": -0.9035254649053999, \"x2\": 0.11560990775358347, \"y\": 0}, {\"x1\": 0.41095082961948015, \"x2\": 0.3474656316903899, \"y\": 0}, {\"x1\": 0.9026376724230498, \"x2\": 0.1928126021318719, \"y\": 0}, {\"x1\": -0.2566700687827471, \"x2\": 1.195389020854052, \"y\": 0}, {\"x1\": 0.7584193223341218, \"x2\": -0.4205550426960587, \"y\": 1}, {\"x1\": 0.3132058478788071, \"x2\": 1.2089531593867258, \"y\": 0}, {\"x1\": 0.6055589296447732, \"x2\": -0.8865403871639046, \"y\": 1}, {\"x1\": -0.6879728858516575, \"x2\": 0.06089849133828085, \"y\": 0}, {\"x1\": 1.3569612353830918, \"x2\": -0.7012355536255903, \"y\": 1}, {\"x1\": 0.6620500244345991, \"x2\": -0.3913302464256859, \"y\": 1}, {\"x1\": -0.4536668253660275, \"x2\": 0.5502815526129721, \"y\": 0}, {\"x1\": 2.4134672795099936, \"x2\": 0.05130620582388007, \"y\": 1}, {\"x1\": 2.294622488378675, \"x2\": -0.32069880393278605, \"y\": 1}, {\"x1\": 1.1273303980139033, \"x2\": -0.142933144934084, \"y\": 1}, {\"x1\": 1.823883349021496, \"x2\": -0.02951085313130189, \"y\": 1}, {\"x1\": -0.5089246751943297, \"x2\": -0.25210698546390026, \"y\": 0}, {\"x1\": 1.1807250780536198, \"x2\": 0.508714249841941, \"y\": 0}, {\"x1\": 0.027186707804270016, \"x2\": 0.6002359385973253, \"y\": 0}, {\"x1\": 0.9788631915599122, \"x2\": -0.6768467982797993, \"y\": 1}, {\"x1\": 0.1978036866665508, \"x2\": 1.1511721176361687, \"y\": 0}, {\"x1\": 0.8618841302453675, \"x2\": -0.12982860675442948, \"y\": 0}, {\"x1\": -0.17829712501951783, \"x2\": 0.4333164282672662, \"y\": 1}, {\"x1\": 0.5404472698451555, \"x2\": -0.2362852740072306, \"y\": 1}, {\"x1\": -1.2174760544881877, \"x2\": 0.7740861117445234, \"y\": 0}, {\"x1\": 0.9859257069791756, \"x2\": 0.7182557899160881, \"y\": 0}, {\"x1\": 0.6217634398898153, \"x2\": -0.49497357592720126, \"y\": 1}, {\"x1\": -0.12213166245623341, \"x2\": 1.0028921130709474, \"y\": 1}, {\"x1\": 1.2932096141094025, \"x2\": 0.9102735198666206, \"y\": 0}, {\"x1\": 0.8893633773869228, \"x2\": 0.4496188545315719, \"y\": 0}, {\"x1\": -1.0111537231379553, \"x2\": -0.07740854045833911, \"y\": 0}, {\"x1\": -0.49162666396591814, \"x2\": -0.015503176270793652, \"y\": 1}, {\"x1\": -1.1501794227481008, \"x2\": -0.2811398506021424, \"y\": 0}, {\"x1\": -0.6402768074229876, \"x2\": 0.515631120590982, \"y\": 0}, {\"x1\": -0.10618920553975998, \"x2\": 0.3372802511154651, \"y\": 0}, {\"x1\": 0.16873244951987143, \"x2\": 0.6788585753837613, \"y\": 0}, {\"x1\": 1.2049591047602477, \"x2\": 0.08103394137068537, \"y\": 1}, {\"x1\": 0.7576107730591097, \"x2\": 0.6408564230325512, \"y\": 0}, {\"x1\": 0.7681341877296127, \"x2\": -0.22897098571581234, \"y\": 1}, {\"x1\": 0.7525477973608152, \"x2\": 1.073972935455427, \"y\": 0}, {\"x1\": 0.6673931744454136, \"x2\": 0.8744853409868251, \"y\": 0}, {\"x1\": 1.2101047367943956, \"x2\": 0.20230745222710367, \"y\": 1}, {\"x1\": 1.8658391206914904, \"x2\": -0.33883536248969953, \"y\": 1}, {\"x1\": 0.9559416103053245, \"x2\": 0.9223288767017042, \"y\": 0}, {\"x1\": -1.5814798210417536, \"x2\": 0.19085900897197577, \"y\": 0}, {\"x1\": 0.2258688805037703, \"x2\": 0.4024707708571623, \"y\": 0}, {\"x1\": 0.0011939291491511739, \"x2\": 0.7315943674695461, \"y\": 0}, {\"x1\": 0.9416160592018286, \"x2\": -0.5297819494510803, \"y\": 1}, {\"x1\": -0.13985121923222282, \"x2\": 0.016555217254182034, \"y\": 1}, {\"x1\": 0.1508170044693823, \"x2\": -0.29904729616298, \"y\": 1}, {\"x1\": 0.17845597760485704, \"x2\": 0.9472389197923808, \"y\": 0}, {\"x1\": 1.9013588035409386, \"x2\": 0.2348338662934495, \"y\": 1}, {\"x1\": 0.5488550336443506, \"x2\": -0.24940218756885954, \"y\": 1}, {\"x1\": 0.3493805839576305, \"x2\": 0.830546903131715, \"y\": 0}, {\"x1\": -1.224555293050595, \"x2\": 0.6110846613515349, \"y\": 0}, {\"x1\": 2.620311865033314, \"x2\": -0.31405533902729377, \"y\": 1}, {\"x1\": 0.182251571678393, \"x2\": -0.21776049760033378, \"y\": 1}, {\"x1\": 1.1891631945000367, \"x2\": 0.4116151511513222, \"y\": 0}, {\"x1\": 0.5752515791811414, \"x2\": -0.12559978625551377, \"y\": 1}, {\"x1\": -1.1710148969246048, \"x2\": 0.5091510747318161, \"y\": 0}, {\"x1\": -0.7595979677997253, \"x2\": 0.47240781286302824, \"y\": 0}, {\"x1\": 1.3819240076104218, \"x2\": -0.060557395705146275, \"y\": 0}, {\"x1\": 1.4366428844078605, \"x2\": 0.027594908909141402, \"y\": 1}, {\"x1\": -0.07067960964227243, \"x2\": 0.8404816096591354, \"y\": 0}, {\"x1\": 0.31624290658334686, \"x2\": 1.684295531847236, \"y\": 0}, {\"x1\": 1.6568468063862458, \"x2\": -0.19405570344891082, \"y\": 1}, {\"x1\": -1.1137965671614178, \"x2\": 1.0654232799374925, \"y\": 0}, {\"x1\": 1.926609100895914, \"x2\": 0.09704059812226012, \"y\": 1}, {\"x1\": 1.7074861614531496, \"x2\": 0.5596667607474829, \"y\": 1}, {\"x1\": -0.21015167608111418, \"x2\": 0.508150902026852, \"y\": 0}, {\"x1\": 1.0430878544730757, \"x2\": 0.48309367229256384, \"y\": 1}, {\"x1\": -0.886283259989697, \"x2\": 0.4313268730227314, \"y\": 0}, {\"x1\": 1.4890231749011344, \"x2\": -0.3792827769394621, \"y\": 1}, {\"x1\": 2.2078727741491844, \"x2\": -0.35014828764368344, \"y\": 1}, {\"x1\": 0.36962415637617807, \"x2\": 0.14634175882361974, \"y\": 1}, {\"x1\": 0.49446224662643945, \"x2\": -0.29015142453194875, \"y\": 1}, {\"x1\": 1.5501378810526538, \"x2\": 0.23538019545988448, \"y\": 1}, {\"x1\": -1.4261883521343246, \"x2\": -0.20024754058922511, \"y\": 0}, {\"x1\": -0.8987810073969388, \"x2\": 1.4629437553390932, \"y\": 0}, {\"x1\": 0.6885493177641416, \"x2\": 0.9232871402907458, \"y\": 0}, {\"x1\": -0.9079095197479308, \"x2\": 0.6352602294879185, \"y\": 0}, {\"x1\": 0.2485401769742104, \"x2\": 0.587678967113398, \"y\": 1}, {\"x1\": -0.4535606995765774, \"x2\": 0.01913915102715949, \"y\": 0}, {\"x1\": 1.5683772791260662, \"x2\": -0.46505767440235957, \"y\": 1}, {\"x1\": -0.14279036090369168, \"x2\": 1.2196490965690687, \"y\": 0}, {\"x1\": -1.4206253924790475, \"x2\": 0.4052136113863849, \"y\": 0}, {\"x1\": 0.06439203779357278, \"x2\": 0.3155627726428517, \"y\": 1}, {\"x1\": -1.0846923928913652, \"x2\": 0.8693479388182561, \"y\": 0}, {\"x1\": 1.456531221640536, \"x2\": 0.15219074516290187, \"y\": 1}, {\"x1\": 0.29726669075750733, \"x2\": 0.7032854811551523, \"y\": 0}, {\"x1\": 1.0355057937604886, \"x2\": 0.9788246030145802, \"y\": 0}, {\"x1\": 0.774204622524634, \"x2\": -0.32431632375289643, \"y\": 1}, {\"x1\": 1.4502683025437144, \"x2\": 0.17131777701348083, \"y\": 1}, {\"x1\": 0.9761454370299008, \"x2\": 0.6703309965558722, \"y\": 0}, {\"x1\": 0.22294559209097797, \"x2\": -0.828236440687345, \"y\": 1}, {\"x1\": 0.8189336475016287, \"x2\": 1.0404432507350405, \"y\": 0}, {\"x1\": 1.5136814248867962, \"x2\": -0.6664411497240502, \"y\": 1}, {\"x1\": -0.6806497889016837, \"x2\": 0.934524481048405, \"y\": 0}, {\"x1\": -0.4539725093709114, \"x2\": 1.1678504025289769, \"y\": 0}, {\"x1\": -0.05938280596977241, \"x2\": 0.2110847012060062, \"y\": 0}, {\"x1\": 1.9946731317974735, \"x2\": -0.027374061367847063, \"y\": 1}, {\"x1\": 0.29792587631750644, \"x2\": 0.43753202672564684, \"y\": 1}, {\"x1\": 0.1806177155832829, \"x2\": 1.2837936499239393, \"y\": 0}, {\"x1\": 0.3383747567362737, \"x2\": -0.5992351863348513, \"y\": 1}, {\"x1\": -0.11969501876932315, \"x2\": 0.5399383527591509, \"y\": 1}, {\"x1\": -0.5868991145810392, \"x2\": 0.6188342655506791, \"y\": 0}, {\"x1\": -0.3431989973749512, \"x2\": 0.6946768082198885, \"y\": 1}, {\"x1\": 1.9233052617332216, \"x2\": 0.8643141292182946, \"y\": 1}, {\"x1\": 1.6312766588954273, \"x2\": -0.3165277386031957, \"y\": 1}, {\"x1\": 1.0936649951642112, \"x2\": -0.8628593321664593, \"y\": 1}, {\"x1\": 1.495361206181306, \"x2\": 0.6262305943988205, \"y\": 1}, {\"x1\": -0.5916584962164141, \"x2\": 0.8043695138221274, \"y\": 0}, {\"x1\": 0.24144963145241982, \"x2\": -0.18575497336327107, \"y\": 0}, {\"x1\": 2.1344211090752636, \"x2\": -0.4546333221933302, \"y\": 1}, {\"x1\": -1.0149491304190625, \"x2\": 0.2832584929516161, \"y\": 0}, {\"x1\": 1.80122349169539, \"x2\": -0.7154364139253047, \"y\": 1}, {\"x1\": 1.130929690449092, \"x2\": 0.5953898655944212, \"y\": 0}, {\"x1\": -1.3208668970670805, \"x2\": 0.03779154081919256, \"y\": 0}, {\"x1\": 1.7184107217548046, \"x2\": -0.08382841497564912, \"y\": 1}, {\"x1\": 0.3418936477664757, \"x2\": 0.004120409183165918, \"y\": 1}, {\"x1\": -0.006464027866838931, \"x2\": -0.45687612743083694, \"y\": 1}, {\"x1\": 0.8417748493896738, \"x2\": -0.13839301125104586, \"y\": 0}, {\"x1\": 1.2718361491961052, \"x2\": -0.24503727964607472, \"y\": 1}, {\"x1\": 0.024956202988846654, \"x2\": 0.26660777263060553, \"y\": 1}, {\"x1\": -0.31051556833342886, \"x2\": 0.6966088643227756, \"y\": 0}, {\"x1\": -1.0181398012576026, \"x2\": 0.6257883059523209, \"y\": 0}, {\"x1\": -0.3104016224343133, \"x2\": 0.04587660752010435, \"y\": 1}, {\"x1\": -0.2689837489297926, \"x2\": 1.3584827602498375, \"y\": 0}, {\"x1\": 1.459847267030204, \"x2\": 0.15664839731895844, \"y\": 0}, {\"x1\": 2.0202017996899353, \"x2\": 0.05148045993056419, \"y\": 1}, {\"x1\": 0.26693973042306673, \"x2\": 0.6702665001355053, \"y\": 1}, {\"x1\": 1.854215502358957, \"x2\": -0.5734398299093, \"y\": 1}, {\"x1\": 0.4202642462598922, \"x2\": 1.1834127099728549, \"y\": 0}, {\"x1\": 1.6943129312830052, \"x2\": 0.8952716250055186, \"y\": 1}, {\"x1\": 2.244344251437388, \"x2\": -0.040896268230934035, \"y\": 1}, {\"x1\": 1.724637252854051, \"x2\": -0.37224199965479865, \"y\": 1}, {\"x1\": -0.843730819703341, \"x2\": 0.08830894533290622, \"y\": 0}, {\"x1\": 0.4219151200234848, \"x2\": 0.6964754791903494, \"y\": 0}, {\"x1\": -0.23918223084808643, \"x2\": 0.8473147871267193, \"y\": 0}, {\"x1\": -0.37891014143467844, \"x2\": -0.053369119853759195, \"y\": 1}, {\"x1\": 1.1016783142032578, \"x2\": 0.8129348966967238, \"y\": 1}, {\"x1\": 2.0186808409240777, \"x2\": -0.040284053799771846, \"y\": 1}, {\"x1\": 1.8410407152317645, \"x2\": 0.09471290548964112, \"y\": 1}, {\"x1\": 0.7055980568584266, \"x2\": 0.8915670850201857, \"y\": 0}, {\"x1\": 1.3275004043938852, \"x2\": 0.555068109711697, \"y\": 0}, {\"x1\": 2.493182959932312, \"x2\": -0.2473333644581203, \"y\": 1}, {\"x1\": 0.7972825265027171, \"x2\": -0.8053045442688224, \"y\": 1}, {\"x1\": 0.4060036719511988, \"x2\": 0.7404902610405109, \"y\": 0}, {\"x1\": -0.6685229362440428, \"x2\": 1.0895241598478924, \"y\": 0}, {\"x1\": 1.141857121685089, \"x2\": -0.6680875085471134, \"y\": 1}, {\"x1\": 0.6162025120079972, \"x2\": -0.14397707940520635, \"y\": 1}, {\"x1\": -1.3792996960775095, \"x2\": 0.7939257778879081, \"y\": 0}, {\"x1\": 1.4863858794060045, \"x2\": 0.8760214627573373, \"y\": 1}, {\"x1\": -0.8997366349968626, \"x2\": 0.20079140043901952, \"y\": 0}, {\"x1\": 0.42357090287300025, \"x2\": 1.398005869046587, \"y\": 0}, {\"x1\": -0.20736085629702408, \"x2\": 1.257467550210661, \"y\": 0}, {\"x1\": 1.669811444068542, \"x2\": -0.8196282041581856, \"y\": 1}, {\"x1\": 0.8986477665090999, \"x2\": 0.7318341464405752, \"y\": 0}, {\"x1\": 0.26008575917404975, \"x2\": -0.09022282837383283, \"y\": 1}, {\"x1\": -0.18626012301530379, \"x2\": -0.07734302134292509, \"y\": 1}, {\"x1\": 0.6783175966369482, \"x2\": 0.9207596263336958, \"y\": 0}, {\"x1\": -0.22357174828191845, \"x2\": 0.45629359300110556, \"y\": 1}, {\"x1\": 0.01472738151350425, \"x2\": 0.7910068347768959, \"y\": 0}, {\"x1\": 0.44938930428442697, \"x2\": 0.5630001954755828, \"y\": 0}, {\"x1\": 0.09300378979250307, \"x2\": 1.088602836291468, \"y\": 0}, {\"x1\": 1.3541856073641312, \"x2\": -0.017287516717453377, \"y\": 1}, {\"x1\": 0.15068513877296758, \"x2\": 1.7689970640138784, \"y\": 0}, {\"x1\": 1.2098636979631188, \"x2\": 0.33909238935945585, \"y\": 0}, {\"x1\": -0.14582290898879008, \"x2\": -0.742734389863991, \"y\": 1}, {\"x1\": 1.2650397393703423, \"x2\": 0.22559033370737902, \"y\": 1}, {\"x1\": 0.1027345534270176, \"x2\": 0.4241380644296512, \"y\": 0}, {\"x1\": 0.8476180185980948, \"x2\": 0.3148337260170293, \"y\": 0}, {\"x1\": -0.4295083653284846, \"x2\": 1.8006030391129304, \"y\": 0}, {\"x1\": 1.3570021863334891, \"x2\": -0.7252002896247273, \"y\": 1}, {\"x1\": 0.8504882073705148, \"x2\": -0.4357771117196964, \"y\": 0}, {\"x1\": 1.8470999840616518, \"x2\": 0.3206792861207929, \"y\": 1}, {\"x1\": 0.9261328695605162, \"x2\": 0.7756790562149077, \"y\": 0}, {\"x1\": 0.8050117594642328, \"x2\": 0.22722564077738758, \"y\": 0}, {\"x1\": -0.3515352222001504, \"x2\": 0.3621184890933733, \"y\": 1}, {\"x1\": 2.402904189527698, \"x2\": -0.5437679567121596, \"y\": 1}, {\"x1\": 1.6182627762110882, \"x2\": -0.12487059143529991, \"y\": 1}, {\"x1\": -0.5615781207544526, \"x2\": -0.008006284242510597, \"y\": 0}, {\"x1\": 0.32834923541952005, \"x2\": 0.92879064195398, \"y\": 0}, {\"x1\": 1.5972173395590257, \"x2\": -0.17637544428812194, \"y\": 1}, {\"x1\": 1.681035626449478, \"x2\": -0.8139870147622721, \"y\": 1}, {\"x1\": 0.9591927610220812, \"x2\": -0.21887505391468903, \"y\": 1}, {\"x1\": 0.933648292793113, \"x2\": -0.5622273775548704, \"y\": 1}, {\"x1\": 0.8358986950617326, \"x2\": 0.5561748056937359, \"y\": 0}, {\"x1\": -0.37920111727571215, \"x2\": -0.07715427110855191, \"y\": 1}, {\"x1\": -0.015444188337415399, \"x2\": -0.04356326623674209, \"y\": 1}, {\"x1\": -1.3565545469162872, \"x2\": 0.8715474968705067, \"y\": 0}, {\"x1\": 1.7057235917079883, \"x2\": 0.5790683946298449, \"y\": 1}, {\"x1\": -0.7144941921308087, \"x2\": 0.616311389872608, \"y\": 0}, {\"x1\": 2.0926939973975314, \"x2\": 0.06746313994657796, \"y\": 1}, {\"x1\": 0.6412362799277976, \"x2\": -0.647333756361677, \"y\": 1}, {\"x1\": -0.22930084358388206, \"x2\": 1.2317377372353362, \"y\": 0}, {\"x1\": -0.9688803322076631, \"x2\": 0.5960268704511037, \"y\": 0}, {\"x1\": 0.8510680707148749, \"x2\": -0.16977143775863002, \"y\": 0}, {\"x1\": 1.9915945637468422, \"x2\": -0.2539979522703453, \"y\": 1}, {\"x1\": -0.781528165521184, \"x2\": -0.08391613488913721, \"y\": 0}, {\"x1\": -0.9185245871213442, \"x2\": 0.45836720511594886, \"y\": 0}, {\"x1\": 0.9656710321441894, \"x2\": 0.780673956889905, \"y\": 0}, {\"x1\": 0.3030540483338083, \"x2\": 0.4172527207016671, \"y\": 1}, {\"x1\": 0.6028828554244205, \"x2\": -0.5296413310411998, \"y\": 1}, {\"x1\": 0.661393385198223, \"x2\": 0.962139471401778, \"y\": 0}, {\"x1\": 1.5893032051830736, \"x2\": 0.3659186382210125, \"y\": 1}, {\"x1\": -0.8285812833818332, \"x2\": 0.009940169335435178, \"y\": 0}, {\"x1\": 1.895766430372756, \"x2\": 0.7493049213674142, \"y\": 1}, {\"x1\": -0.1951593326876476, \"x2\": 0.3975166444337579, \"y\": 0}, {\"x1\": -0.6094093289479572, \"x2\": 1.2221579494100487, \"y\": 0}, {\"x1\": 1.8885625343086543, \"x2\": -0.05725543044805179, \"y\": 1}, {\"x1\": 0.5386534810339266, \"x2\": 0.24836464747656029, \"y\": 0}, {\"x1\": 2.0040088068143906, \"x2\": 0.20839348893797388, \"y\": 1}, {\"x1\": 0.12325040944334946, \"x2\": -0.5059460137407046, \"y\": 1}, {\"x1\": -0.5328413159629847, \"x2\": 1.0039815005301085, \"y\": 0}, {\"x1\": 0.1069106663829662, \"x2\": -0.22941679285876831, \"y\": 1}, {\"x1\": 0.9303767672327892, \"x2\": -0.06879531269874697, \"y\": 1}, {\"x1\": 0.25864455327998415, \"x2\": 0.5983022027261381, \"y\": 0}, {\"x1\": 0.49437737778553037, \"x2\": -0.3849459576976619, \"y\": 1}, {\"x1\": -0.13388958305013496, \"x2\": 0.2073150824789776, \"y\": 1}, {\"x1\": 0.09255816787907227, \"x2\": -0.7523009725637282, \"y\": 1}, {\"x1\": 0.36775754575211483, \"x2\": 0.5611397431641892, \"y\": 0}, {\"x1\": 2.0265050792115797, \"x2\": -0.07933468959495049, \"y\": 1}, {\"x1\": -0.6843346428552197, \"x2\": 1.2024907518878156, \"y\": 0}, {\"x1\": 1.5775999046008602, \"x2\": -0.6498589124257911, \"y\": 1}, {\"x1\": 1.4268855884785303, \"x2\": -0.8308658264136606, \"y\": 1}, {\"x1\": -0.03693431889073398, \"x2\": 0.5140314269139604, \"y\": 1}, {\"x1\": 1.9284198382676245, \"x2\": 0.4064902780878516, \"y\": 1}, {\"x1\": 1.3114736029882272, \"x2\": 0.4826859788562272, \"y\": 0}, {\"x1\": 1.1959421239182455, \"x2\": -0.5829547344433935, \"y\": 0}, {\"x1\": 1.7461764293399424, \"x2\": -0.2976728110564233, \"y\": 1}, {\"x1\": 1.2369124743420392, \"x2\": 0.4625964169642401, \"y\": 1}, {\"x1\": 2.0528348541038492, \"x2\": -0.06114969338827925, \"y\": 1}, {\"x1\": 0.9985568743224396, \"x2\": 0.13287453348751466, \"y\": 0}, {\"x1\": -0.4892999168422813, \"x2\": 0.6438615830308105, \"y\": 0}, {\"x1\": 1.332360720175756, \"x2\": -0.1773193041796437, \"y\": 1}, {\"x1\": 0.5076291382552116, \"x2\": -0.7960693862350732, \"y\": 1}, {\"x1\": 0.43716694043488946, \"x2\": -0.1192614821375898, \"y\": 1}, {\"x1\": 0.7271753618123781, \"x2\": 0.7636992829647782, \"y\": 0}, {\"x1\": -0.7734948327832605, \"x2\": 1.1234339552079484, \"y\": 0}, {\"x1\": 0.29857503472538793, \"x2\": 0.8057664260215353, \"y\": 0}, {\"x1\": 2.475939254799286, \"x2\": 0.39160896968885156, \"y\": 1}, {\"x1\": 1.1482571165224358, \"x2\": -0.15992667229601343, \"y\": 1}, {\"x1\": -0.44517392053547233, \"x2\": 0.030686878973425147, \"y\": 0}, {\"x1\": -0.8376202230615046, \"x2\": 0.559309588051131, \"y\": 0}, {\"x1\": 0.4022912000258972, \"x2\": 0.5273054383948979, \"y\": 0}, {\"x1\": 0.2829872552685719, \"x2\": 1.0424501797325418, \"y\": 0}, {\"x1\": -0.9773366046888798, \"x2\": 1.0252565356048453, \"y\": 0}, {\"x1\": -0.19416242502651693, \"x2\": -0.3885019678715843, \"y\": 1}, {\"x1\": -0.11863663272064331, \"x2\": 0.8104624660129376, \"y\": 0}, {\"x1\": 1.6177433495695666, \"x2\": 0.04416989603226407, \"y\": 1}, {\"x1\": -0.24813869572841535, \"x2\": 0.46425311040509465, \"y\": 1}, {\"x1\": -0.2135793705361954, \"x2\": 0.92905824607811, \"y\": 0}, {\"x1\": -0.6212646048039999, \"x2\": 0.23413245340567468, \"y\": 0}, {\"x1\": -0.9786828379104744, \"x2\": 0.1039215080958818, \"y\": 0}, {\"x1\": 0.8526503361689923, \"x2\": -0.29008561270597355, \"y\": 1}, {\"x1\": 1.720466730929856, \"x2\": 0.49019349268075063, \"y\": 1}, {\"x1\": 0.2894865828352445, \"x2\": -0.8763328151761136, \"y\": 1}, {\"x1\": -0.6605362299339899, \"x2\": 0.48691497981938214, \"y\": 0}, {\"x1\": -0.20573508656515677, \"x2\": 0.5541604151156987, \"y\": 0}, {\"x1\": 0.12883758819058533, \"x2\": 0.501381555803751, \"y\": 1}, {\"x1\": 1.6648011651073464, \"x2\": -0.07233557310077157, \"y\": 1}, {\"x1\": 1.4569177231621047, \"x2\": -0.14609040409477186, \"y\": 0}, {\"x1\": 1.3675307118163778, \"x2\": -0.052597944011129855, \"y\": 1}, {\"x1\": 1.1990945892187368, \"x2\": 0.11728807600078464, \"y\": 0}, {\"x1\": 1.954764071036927, \"x2\": -0.46003181957939193, \"y\": 1}, {\"x1\": 1.3124425566129267, \"x2\": 0.1272427759524861, \"y\": 0}, {\"x1\": 1.6074541557898823, \"x2\": -0.3831278101265311, \"y\": 1}, {\"x1\": 1.3366763731179576, \"x2\": -0.24701349516793036, \"y\": 1}, {\"x1\": -0.4308286057199112, \"x2\": -0.48320837755182033, \"y\": 1}, {\"x1\": 0.661153262039665, \"x2\": 0.09115991302041448, \"y\": 1}, {\"x1\": 0.5376539068207964, \"x2\": -0.015186174696816351, \"y\": 0}, {\"x1\": 0.9679496357054123, \"x2\": -0.09162275489072347, \"y\": 1}, {\"x1\": 1.1875202801444042, \"x2\": -0.6134140581023337, \"y\": 1}, {\"x1\": 1.298075591733417, \"x2\": -0.191817473917058, \"y\": 1}, {\"x1\": 0.22803790051829367, \"x2\": 0.01770788869558386, \"y\": 1}, {\"x1\": 1.1605883456214037, \"x2\": -0.7564149845970451, \"y\": 1}, {\"x1\": -0.5565048060755899, \"x2\": 0.6785194792401084, \"y\": 0}, {\"x1\": 0.4203289004895593, \"x2\": 0.5028491228540909, \"y\": 1}, {\"x1\": 1.0804657882858388, \"x2\": -0.602007072755526, \"y\": 1}, {\"x1\": 0.26141125082152505, \"x2\": 1.3807385179000584, \"y\": 0}, {\"x1\": -0.6493415866152267, \"x2\": -0.3497437008264036, \"y\": 1}, {\"x1\": 0.44242880067846546, \"x2\": 0.8114271750954563, \"y\": 1}, {\"x1\": 0.81673084996986, \"x2\": 0.7365483677397571, \"y\": 0}, {\"x1\": -0.1493728201486012, \"x2\": 0.01001799335614656, \"y\": 0}, {\"x1\": -0.05482883463864325, \"x2\": 1.1283357094621749, \"y\": 1}, {\"x1\": -0.5470760265145012, \"x2\": -0.03459784322648557, \"y\": 0}, {\"x1\": 1.5112511064664438, \"x2\": -0.22521384891607926, \"y\": 1}, {\"x1\": 1.4207713712053827, \"x2\": 0.057056033113603494, \"y\": 1}, {\"x1\": -0.2798553705436868, \"x2\": 0.7893548357856056, \"y\": 0}, {\"x1\": 0.2956640348974322, \"x2\": 0.6102129766607287, \"y\": 1}, {\"x1\": 2.3324223093141274, \"x2\": 0.3043354562940671, \"y\": 1}, {\"x1\": 0.824682522791836, \"x2\": 0.6926083633987552, \"y\": 0}, {\"x1\": 0.3866625854430427, \"x2\": 0.8844598901607409, \"y\": 0}, {\"x1\": 0.5631810986963455, \"x2\": -0.004083119728905071, \"y\": 0}, {\"x1\": 1.8932133521113812, \"x2\": 0.6046659571211002, \"y\": 1}, {\"x1\": 0.30898118690523435, \"x2\": -0.12151909216017515, \"y\": 1}, {\"x1\": -0.4170018452692469, \"x2\": -0.43011651218033775, \"y\": 0}, {\"x1\": -0.5220831374526558, \"x2\": -0.021237111742003434, \"y\": 0}, {\"x1\": 1.3569105844454783, \"x2\": -0.7803640440118186, \"y\": 1}, {\"x1\": 0.3584865814673566, \"x2\": 1.0712300979204106, \"y\": 0}, {\"x1\": 1.2598782573953455, \"x2\": -0.1708454123799945, \"y\": 1}, {\"x1\": -0.39915176840586297, \"x2\": 0.8518058552354183, \"y\": 0}, {\"x1\": -0.35849472819014877, \"x2\": 0.8808582546767708, \"y\": 0}, {\"x1\": -0.6792257488431184, \"x2\": 1.5990143233582121, \"y\": 0}, {\"x1\": 1.642905074897431, \"x2\": 0.06701561040217047, \"y\": 1}, {\"x1\": 0.862391769935023, \"x2\": 0.22767792621920208, \"y\": 0}, {\"x1\": 0.7912411959809592, \"x2\": 0.986389631388748, \"y\": 0}, {\"x1\": 0.6925956059846057, \"x2\": 0.9366197275280287, \"y\": 0}, {\"x1\": 0.8481663560028515, \"x2\": 1.0677236647533745, \"y\": 0}, {\"x1\": 1.178256016599852, \"x2\": 0.40431617458817937, \"y\": 0}, {\"x1\": 1.541055059309552, \"x2\": -0.149084682873793, \"y\": 1}, {\"x1\": 0.7387720614816629, \"x2\": -1.0950341170530224, \"y\": 1}, {\"x1\": -0.9777731452039177, \"x2\": 0.36397195681983263, \"y\": 0}, {\"x1\": 0.9559969359538127, \"x2\": -0.733473738382945, \"y\": 1}, {\"x1\": 1.2714791402883803, \"x2\": 0.14661717557343734, \"y\": 0}, {\"x1\": -1.1786372141588957, \"x2\": 0.11296736450727451, \"y\": 0}, {\"x1\": -0.8311883507525697, \"x2\": -0.04541012502496919, \"y\": 0}, {\"x1\": -0.11811095260686538, \"x2\": 0.7482785025630115, \"y\": 1}, {\"x1\": 1.1599829147891318, \"x2\": -0.6622822044741224, \"y\": 1}, {\"x1\": -0.7039633994012107, \"x2\": 0.7126034205649581, \"y\": 0}, {\"x1\": -0.8875840903983732, \"x2\": -0.1342959471896661, \"y\": 0}, {\"x1\": 0.5252021352660468, \"x2\": 0.7606351189470913, \"y\": 0}, {\"x1\": 1.6506790829817652, \"x2\": 0.48594904816973605, \"y\": 0}, {\"x1\": -0.6769661630187421, \"x2\": 0.6742956308817529, \"y\": 0}, {\"x1\": -0.29567782807994003, \"x2\": 0.3701773492221311, \"y\": 0}, {\"x1\": 0.14343405274556947, \"x2\": -0.5197003054290503, \"y\": 1}, {\"x1\": 0.3819475129371622, \"x2\": 0.06662303100491684, \"y\": 1}, {\"x1\": 0.6682851958498224, \"x2\": 0.5385252827790488, \"y\": 0}, {\"x1\": 2.1554458198297897, \"x2\": 0.4216384287174919, \"y\": 1}, {\"x1\": 1.2103376034941626, \"x2\": 0.5123449353633769, \"y\": 1}, {\"x1\": 0.2427614833261058, \"x2\": 0.008737462021807946, \"y\": 1}, {\"x1\": 1.2934236343510317, \"x2\": -0.2847968659073088, \"y\": 0}, {\"x1\": 0.7227545288902637, \"x2\": -0.3623091717223068, \"y\": 1}, {\"x1\": 0.5286988851054986, \"x2\": -0.0012164288008920665, \"y\": 1}, {\"x1\": 1.0040056455287076, \"x2\": -0.48136849609249593, \"y\": 1}, {\"x1\": -1.6128260473819473, \"x2\": -0.15380608934757112, \"y\": 0}, {\"x1\": 1.0910899867450798, \"x2\": 0.18474208760408362, \"y\": 1}, {\"x1\": 0.9502550087096396, \"x2\": -0.7489980636545612, \"y\": 1}, {\"x1\": 0.6384795898808636, \"x2\": -0.48369657503119295, \"y\": 1}, {\"x1\": 0.3155678074372143, \"x2\": 0.117585329896604, \"y\": 1}, {\"x1\": -0.9738713206656407, \"x2\": 1.0209507314991888, \"y\": 0}, {\"x1\": 0.32333950525214994, \"x2\": -0.5202735975845663, \"y\": 1}, {\"x1\": 0.2368154241438672, \"x2\": 0.20436892788502228, \"y\": 1}, {\"x1\": 0.9263304452082283, \"x2\": -0.5918793882505547, \"y\": 1}, {\"x1\": -0.489732351581158, \"x2\": 0.26215123277914115, \"y\": 0}, {\"x1\": 0.12081816396299486, \"x2\": -0.25454503833051845, \"y\": 1}, {\"x1\": 1.6145843654669487, \"x2\": -0.06145392390069701, \"y\": 1}, {\"x1\": 0.570973893394045, \"x2\": 0.41842120091292534, \"y\": 1}, {\"x1\": 0.840030495908948, \"x2\": 1.1672425084267628, \"y\": 0}, {\"x1\": 1.363335898274604, \"x2\": -0.33694101167395396, \"y\": 1}, {\"x1\": 0.330233692396125, \"x2\": -0.31252724505281515, \"y\": 1}, {\"x1\": -0.47926378422137517, \"x2\": 0.8666887069686484, \"y\": 0}, {\"x1\": 0.06187463570029228, \"x2\": 1.2402158262171543, \"y\": 0}, {\"x1\": -0.7115030228980463, \"x2\": 0.26200236176881775, \"y\": 0}, {\"x1\": 0.1815085812748144, \"x2\": 1.4817194762803294, \"y\": 0}, {\"x1\": 0.32288410826683067, \"x2\": -0.07972401508159879, \"y\": 1}, {\"x1\": -0.012558668525308847, \"x2\": 1.0200507806659087, \"y\": 0}, {\"x1\": 1.3312507191285183, \"x2\": 0.941018822903686, \"y\": 0}, {\"x1\": 1.2802755574092077, \"x2\": 0.23912831217206532, \"y\": 1}, {\"x1\": 0.7947759395058955, \"x2\": 0.2836857793137957, \"y\": 0}, {\"x1\": -0.27145419907423957, \"x2\": 1.590437643343984, \"y\": 0}, {\"x1\": 1.356564717943616, \"x2\": -0.6275853472907577, \"y\": 1}, {\"x1\": -0.34854338923757394, \"x2\": 1.5466934240002508, \"y\": 0}, {\"x1\": -0.932058646925553, \"x2\": 1.0964029098672392, \"y\": 0}, {\"x1\": 1.6406245755548212, \"x2\": 0.05710618715719419, \"y\": 0}, {\"x1\": 0.6276106231945116, \"x2\": 0.5676575772235299, \"y\": 0}, {\"x1\": 0.19244603334228366, \"x2\": 1.467085164253913, \"y\": 0}, {\"x1\": 1.3963156616704633, \"x2\": -0.05124759110271518, \"y\": 1}, {\"x1\": 0.20155388514095118, \"x2\": 0.6861822231327579, \"y\": 0}, {\"x1\": 1.1261647899438685, \"x2\": 0.24428537816453705, \"y\": 0}, {\"x1\": 1.6762088847504057, \"x2\": -0.28640896331893007, \"y\": 1}, {\"x1\": 1.7111694254870122, \"x2\": 0.33901007868239064, \"y\": 1}, {\"x1\": 0.11519716075713174, \"x2\": -0.1897385227782506, \"y\": 1}, {\"x1\": -0.12485842417075828, \"x2\": 0.2951470089715371, \"y\": 0}, {\"x1\": 0.3888965691677782, \"x2\": -0.47422872398364535, \"y\": 1}, {\"x1\": 0.8853710900170368, \"x2\": 0.31990051107562756, \"y\": 1}, {\"x1\": 1.2030938609784148, \"x2\": -0.0014404238851726259, \"y\": 1}, {\"x1\": 0.9708775806565255, \"x2\": 0.279825392460925, \"y\": 0}, {\"x1\": -0.8267835499811036, \"x2\": 1.083253629069561, \"y\": 0}, {\"x1\": 0.6618615251442753, \"x2\": 0.9387119376562555, \"y\": 0}, {\"x1\": -1.4833369159782968, \"x2\": 0.6529760526449502, \"y\": 0}, {\"x1\": 1.3174849212643425, \"x2\": -0.792590968228589, \"y\": 1}, {\"x1\": -0.903144198194856, \"x2\": 0.09729493427346292, \"y\": 0}, {\"x1\": -0.9381388334083228, \"x2\": 0.22814474704162582, \"y\": 0}, {\"x1\": -0.13198278295188726, \"x2\": 0.3741000057020007, \"y\": 0}, {\"x1\": -0.24826004504251425, \"x2\": 0.12776335656055776, \"y\": 1}, {\"x1\": 0.3691709070518914, \"x2\": 0.4650545017191221, \"y\": 1}, {\"x1\": -0.021458996875464223, \"x2\": 0.16759971526275422, \"y\": 1}, {\"x1\": 1.9853615401838385, \"x2\": 0.44813889532231405, \"y\": 1}, {\"x1\": 0.34915203458788047, \"x2\": -0.5685599901258297, \"y\": 1}, {\"x1\": 1.4235399596003664, \"x2\": -0.9357625342567046, \"y\": 1}, {\"x1\": 0.046285561340865256, \"x2\": -0.7308727380011375, \"y\": 1}, {\"x1\": 1.6179417515027876, \"x2\": -0.41852068443856877, \"y\": 1}, {\"x1\": -0.8204878364531997, \"x2\": 0.14830323175476767, \"y\": 0}, {\"x1\": 1.8470921244419851, \"x2\": 0.23748343108032502, \"y\": 1}, {\"x1\": 0.6310288151202178, \"x2\": 0.10526118330534828, \"y\": 1}, {\"x1\": -0.3476175691879627, \"x2\": 0.7181662983485502, \"y\": 0}, {\"x1\": 0.12706013183787662, \"x2\": 0.6529110522327073, \"y\": 0}, {\"x1\": 1.5953635163699569, \"x2\": 0.3046427409850259, \"y\": 1}, {\"x1\": 1.7586199090109642, \"x2\": 0.3720227524837024, \"y\": 1}, {\"x1\": -0.5342155800702667, \"x2\": 0.5967024051990306, \"y\": 0}, {\"x1\": -0.4348373637194183, \"x2\": 1.0528502601483614, \"y\": 0}, {\"x1\": 0.24863474663594248, \"x2\": 1.1174674499407027, \"y\": 0}, {\"x1\": 1.7779869486312254, \"x2\": 0.33294071368326805, \"y\": 1}, {\"x1\": -0.980196429656951, \"x2\": 1.1942620755233477, \"y\": 0}, {\"x1\": 1.4540752632809408, \"x2\": -0.6372382511586061, \"y\": 1}, {\"x1\": 0.2935235272250062, \"x2\": -0.6427823988598412, \"y\": 1}, {\"x1\": -0.052991018401519985, \"x2\": -0.31589003031589014, \"y\": 1}, {\"x1\": -0.597987427668655, \"x2\": 0.19417011144115687, \"y\": 0}, {\"x1\": 1.335317522127097, \"x2\": 0.7545568249481077, \"y\": 0}, {\"x1\": 2.0862002594130593, \"x2\": 0.39234863213772003, \"y\": 1}, {\"x1\": 0.6173289454103053, \"x2\": -1.0006924458990063, \"y\": 1}, {\"x1\": 0.5320924336557178, \"x2\": 0.23380680285958277, \"y\": 0}, {\"x1\": 1.6857248940696932, \"x2\": -0.6590332248619807, \"y\": 1}, {\"x1\": -0.03920590607802421, \"x2\": 1.6407997545368787, \"y\": 0}, {\"x1\": 1.4628600945903774, \"x2\": 0.36304881307380854, \"y\": 1}, {\"x1\": 1.0821161688945855, \"x2\": 0.9830963859626805, \"y\": 0}, {\"x1\": 1.5580622617473798, \"x2\": -0.18881168369237883, \"y\": 1}, {\"x1\": -0.5531049822342552, \"x2\": 0.8582385330715724, \"y\": 0}, {\"x1\": 0.7355623764746978, \"x2\": 0.6437231034345445, \"y\": 0}, {\"x1\": -0.11346475155378122, \"x2\": 0.6503388633599197, \"y\": 0}, {\"x1\": 0.9790014042891358, \"x2\": -0.4946781213115216, \"y\": 1}, {\"x1\": 0.16179319988922058, \"x2\": 0.4799103757452946, \"y\": 0}, {\"x1\": 0.4537411196994055, \"x2\": -0.7685244462218072, \"y\": 1}, {\"x1\": 2.1536434815483707, \"x2\": 0.43527424078652305, \"y\": 1}, {\"x1\": 1.513542728660238, \"x2\": -0.6004073505549593, \"y\": 1}, {\"x1\": -1.0146455865820438, \"x2\": 0.7385065594091623, \"y\": 0}, {\"x1\": 0.06391106435516566, \"x2\": 0.785475309335711, \"y\": 0}, {\"x1\": 0.22177226860793625, \"x2\": 0.4358467651008616, \"y\": 0}, {\"x1\": -0.8493314364719524, \"x2\": 1.058498638487108, \"y\": 0}, {\"x1\": 1.4500885267898629, \"x2\": -0.1137603468413361, \"y\": 1}, {\"x1\": 0.07193439342003516, \"x2\": -0.04311333752973645, \"y\": 1}, {\"x1\": -1.4136805704214277, \"x2\": -0.06519011083894644, \"y\": 0}, {\"x1\": 0.5050666700113835, \"x2\": -0.3953253549685696, \"y\": 1}, {\"x1\": -1.1748275014556977, \"x2\": 0.01724898513563211, \"y\": 0}, {\"x1\": 1.2261302846979638, \"x2\": -0.962636222319589, \"y\": 1}, {\"x1\": 0.23387476842244073, \"x2\": -0.08115490061435746, \"y\": 1}, {\"x1\": 1.6414565532909329, \"x2\": -0.9983863573451328, \"y\": 1}, {\"x1\": 0.365553728810719, \"x2\": 1.4994941709286818, \"y\": 0}, {\"x1\": 0.9320062055119486, \"x2\": -0.40994340994044354, \"y\": 1}, {\"x1\": 1.7596762865070084, \"x2\": -0.26056610871274133, \"y\": 1}, {\"x1\": -0.2881777352448693, \"x2\": 1.609842508803945, \"y\": 0}, {\"x1\": 0.010147815773023379, \"x2\": 0.8430577746836346, \"y\": 0}, {\"x1\": 0.928546488219468, \"x2\": -0.13620344350596802, \"y\": 0}, {\"x1\": -0.6643917152193571, \"x2\": 0.4742077079149767, \"y\": 0}, {\"x1\": -0.8376676141672794, \"x2\": -0.876793437012997, \"y\": 0}, {\"x1\": -1.1865806105500702, \"x2\": -0.006355692507952815, \"y\": 0}, {\"x1\": 1.2638873721940762, \"x2\": -0.33747866710020924, \"y\": 1}, {\"x1\": 1.2987884760445596, \"x2\": 0.06367365230093552, \"y\": 1}, {\"x1\": 0.7754929467372096, \"x2\": -0.2886317943600066, \"y\": 0}, {\"x1\": 1.127652325882084, \"x2\": -0.03071562268065886, \"y\": 1}, {\"x1\": -1.2258255158073303, \"x2\": 0.6557808613174473, \"y\": 0}, {\"x1\": 0.10136686929801351, \"x2\": 0.4445809510696456, \"y\": 1}, {\"x1\": 1.709274895760991, \"x2\": -0.10684927167552327, \"y\": 1}, {\"x1\": -1.047287068271361, \"x2\": 0.4380688880512187, \"y\": 0}, {\"x1\": -0.8072714646323915, \"x2\": -0.0903669515438914, \"y\": 0}, {\"x1\": 1.8009294991482523, \"x2\": 0.5667680195115878, \"y\": 1}, {\"x1\": -0.32932489056832714, \"x2\": 0.8746802682152401, \"y\": 0}, {\"x1\": -0.9439904290602328, \"x2\": -0.37316038043671795, \"y\": 0}, {\"x1\": -1.5862438890115693, \"x2\": 0.7238920338095427, \"y\": 0}, {\"x1\": 0.35173352745383035, \"x2\": -0.25721073221981716, \"y\": 1}, {\"x1\": 1.468023984039811, \"x2\": 0.299286782338964, \"y\": 0}, {\"x1\": 1.1110808395320289, \"x2\": 0.7292065256945433, \"y\": 0}, {\"x1\": 2.0916957329432213, \"x2\": 0.1803226685701911, \"y\": 1}, {\"x1\": 0.3019052730501386, \"x2\": -0.37396857931117183, \"y\": 1}, {\"x1\": 0.08725582536215004, \"x2\": 1.2524273593153914, \"y\": 0}, {\"x1\": 0.6954315174060385, \"x2\": -0.1500508314288861, \"y\": 0}, {\"x1\": 2.275388874204017, \"x2\": 0.19565894420145166, \"y\": 1}, {\"x1\": -1.5051981091780415, \"x2\": -0.007430794724842954, \"y\": 0}, {\"x1\": 0.5508893844570171, \"x2\": -0.6642213710227336, \"y\": 1}, {\"x1\": 0.7333044439112815, \"x2\": -0.2613172753356966, \"y\": 1}, {\"x1\": 1.9714748490358731, \"x2\": 0.8988078948751157, \"y\": 1}, {\"x1\": -0.35862410426031516, \"x2\": 0.677892324445996, \"y\": 1}, {\"x1\": -0.9072522837552361, \"x2\": 0.11587234737803387, \"y\": 0}, {\"x1\": 0.5724543061411862, \"x2\": 0.16676403864242764, \"y\": 0}, {\"x1\": -0.08352772059255054, \"x2\": -0.04412735936461335, \"y\": 1}, {\"x1\": 2.200315609563653, \"x2\": 0.5823658738704311, \"y\": 1}, {\"x1\": 0.10907634704722213, \"x2\": 0.06712413443379132, \"y\": 1}, {\"x1\": 0.6694869917923031, \"x2\": -0.5240695587399058, \"y\": 1}, {\"x1\": -0.13260632896650412, \"x2\": 0.41760345326840065, \"y\": 0}, {\"x1\": -1.325522360200076, \"x2\": 1.067123421943123, \"y\": 0}, {\"x1\": 0.9433963848599026, \"x2\": -0.35928051603946665, \"y\": 1}, {\"x1\": 1.6033883880660609, \"x2\": 0.9974446833872878, \"y\": 0}, {\"x1\": 2.021935975340098, \"x2\": 0.3394472870897719, \"y\": 1}, {\"x1\": 0.6313926046722433, \"x2\": -0.5678801392709947, \"y\": 1}, {\"x1\": -0.12458723392846549, \"x2\": 0.4640888725863641, \"y\": 1}, {\"x1\": 0.4033742826565487, \"x2\": 0.7520713042222709, \"y\": 1}, {\"x1\": 1.6342490979361033, \"x2\": 0.5131218484387843, \"y\": 1}, {\"x1\": -0.05742971823417503, \"x2\": 1.201712131958663, \"y\": 0}, {\"x1\": 0.697964053352993, \"x2\": 1.61622646745899, \"y\": 0}, {\"x1\": 0.0625436410860313, \"x2\": 0.2946175433452294, \"y\": 1}, {\"x1\": 1.056956170763662, \"x2\": -1.0085408726538345, \"y\": 1}, {\"x1\": 2.3467320253176798, \"x2\": -0.057019548478321094, \"y\": 1}, {\"x1\": -1.1075592700758639, \"x2\": 0.5252525859928732, \"y\": 0}, {\"x1\": 2.0555434463941387, \"x2\": -0.03832033648036884, \"y\": 1}, {\"x1\": 0.2988375471689334, \"x2\": 0.6462853327028654, \"y\": 0}, {\"x1\": 0.7975536060814965, \"x2\": 0.7596871476693062, \"y\": 0}, {\"x1\": 0.849572415520431, \"x2\": 0.25856441858642887, \"y\": 0}, {\"x1\": 2.184192029064348, \"x2\": -0.7973086771120264, \"y\": 1}, {\"x1\": 2.0743621830305776, \"x2\": -0.3951691963522966, \"y\": 1}, {\"x1\": 0.9942293467004215, \"x2\": -0.6963690234577687, \"y\": 1}, {\"x1\": 1.2307749155526566, \"x2\": 0.2974355193600904, \"y\": 0}, {\"x1\": 0.04637357847816255, \"x2\": 1.3697293639651025, \"y\": 0}, {\"x1\": -0.5243190883041833, \"x2\": 0.8931054704018884, \"y\": 0}, {\"x1\": 1.2197995052169142, \"x2\": 0.0007123481988001237, \"y\": 1}, {\"x1\": -0.9955448233504416, \"x2\": 0.9581607622202586, \"y\": 0}, {\"x1\": 0.4541525496766875, \"x2\": 0.4926106730729851, \"y\": 1}, {\"x1\": 2.3782981460521464, \"x2\": 0.6516818361699288, \"y\": 1}, {\"x1\": 0.48578887136170884, \"x2\": 0.7594898743122389, \"y\": 0}, {\"x1\": 0.2443968813802121, \"x2\": 1.2582155758335705, \"y\": 0}, {\"x1\": -0.6685780153950639, \"x2\": 0.7797390310315974, \"y\": 0}, {\"x1\": 1.1051556863282885, \"x2\": -0.03881084622104036, \"y\": 0}, {\"x1\": 0.7768684423713961, \"x2\": -0.06803505041193691, \"y\": 1}, {\"x1\": 0.12844638844066503, \"x2\": 0.4455138519635832, \"y\": 0}, {\"x1\": 0.3796963696157156, \"x2\": 0.07133711950168675, \"y\": 1}, {\"x1\": 0.8086015889782557, \"x2\": 0.6232141393339212, \"y\": 0}, {\"x1\": 0.940862179174399, \"x2\": -1.1089539793852399, \"y\": 1}, {\"x1\": -0.530923164750956, \"x2\": 0.8979359387922197, \"y\": 0}, {\"x1\": 1.2634469713746934, \"x2\": -0.18775542546597904, \"y\": 1}, {\"x1\": -1.6985767992353051, \"x2\": -0.22668566503551768, \"y\": 0}, {\"x1\": 0.4301253947593183, \"x2\": 0.48655159761927763, \"y\": 0}, {\"x1\": 2.3337135388017263, \"x2\": -0.6190748156854093, \"y\": 1}, {\"x1\": 1.0637674161368755, \"x2\": 1.2707882743443248, \"y\": 0}, {\"x1\": -0.7863993774219744, \"x2\": 1.1406014547273353, \"y\": 0}, {\"x1\": 0.12306798019522261, \"x2\": 0.9889347347372255, \"y\": 1}, {\"x1\": 0.3435271468646935, \"x2\": 1.368019899832777, \"y\": 0}, {\"x1\": -0.025178738366085307, \"x2\": 0.8890617217621732, \"y\": 0}, {\"x1\": 1.4359959695692037, \"x2\": 0.306754026682925, \"y\": 0}, {\"x1\": 0.48919918171679994, \"x2\": 0.36071741294402226, \"y\": 0}, {\"x1\": 1.344263051124336, \"x2\": -0.4131401916193007, \"y\": 1}, {\"x1\": 1.295934760810769, \"x2\": -0.4257896049985957, \"y\": 1}, {\"x1\": 1.1861674950780423, \"x2\": -0.0012380811416035087, \"y\": 1}, {\"x1\": 2.1830566852076467, \"x2\": 0.22216144824488865, \"y\": 1}, {\"x1\": -0.07785614401385013, \"x2\": 1.2048247006465231, \"y\": 0}, {\"x1\": 2.127577090947118, \"x2\": -0.28616825529451356, \"y\": 1}, {\"x1\": 1.0318711820111295, \"x2\": 0.6079935009971401, \"y\": 0}, {\"x1\": 0.563677831527381, \"x2\": 1.162024218699454, \"y\": 0}, {\"x1\": 1.7321341987512584, \"x2\": -0.35645550418308425, \"y\": 1}, {\"x1\": 0.7938649523938424, \"x2\": -0.47619544910927425, \"y\": 1}, {\"x1\": 1.5550172406464842, \"x2\": -0.9296591198850745, \"y\": 1}, {\"x1\": 0.597406897422909, \"x2\": -0.6783339351974219, \"y\": 1}, {\"x1\": 0.9407677236022552, \"x2\": 0.5614059999819732, \"y\": 0}, {\"x1\": 1.1268555088182026, \"x2\": -0.4088576201130024, \"y\": 1}, {\"x1\": 0.44595736953125237, \"x2\": 0.029740259232195004, \"y\": 1}, {\"x1\": -0.6555728007032835, \"x2\": 0.7346254691471817, \"y\": 0}, {\"x1\": 1.3151722854171597, \"x2\": -0.25481061290187923, \"y\": 1}, {\"x1\": -0.795946160656543, \"x2\": 0.004580403757608806, \"y\": 0}, {\"x1\": 0.5835713770530924, \"x2\": 1.1487347756232515, \"y\": 0}, {\"x1\": -0.36173037428140736, \"x2\": 0.6965965395110016, \"y\": 0}, {\"x1\": 0.021147493689057495, \"x2\": 0.1100514272163477, \"y\": 1}, {\"x1\": -1.5788036873175775, \"x2\": 0.38846893643291547, \"y\": 0}, {\"x1\": -0.5840032573290945, \"x2\": 0.5350924206113027, \"y\": 0}, {\"x1\": 1.097270912858675, \"x2\": -0.5681329443744981, \"y\": 1}, {\"x1\": 0.6173082522740525, \"x2\": -0.2920620399448659, \"y\": 0}, {\"x1\": -0.6359543384748941, \"x2\": 0.16355413698549448, \"y\": 0}, {\"x1\": 1.0912400834970337, \"x2\": 0.5487745464597802, \"y\": 0}, {\"x1\": 0.4167350151146958, \"x2\": -0.2864296703887702, \"y\": 1}, {\"x1\": 0.2054322489678083, \"x2\": -0.4697070946423316, \"y\": 1}, {\"x1\": 1.3317249141056102, \"x2\": 0.12596696524121004, \"y\": 0}, {\"x1\": -0.05902015194661764, \"x2\": 0.394599164120938, \"y\": 0}, {\"x1\": 1.50628096183692, \"x2\": 0.16461792438254894, \"y\": 0}, {\"x1\": -1.1455978047480675, \"x2\": 0.7327157437111158, \"y\": 0}, {\"x1\": 0.42278916512172093, \"x2\": 0.44877642845115684, \"y\": 0}, {\"x1\": -0.30373937036812315, \"x2\": 1.2757430243030443, \"y\": 0}, {\"x1\": 0.13717520631674304, \"x2\": 0.6649633209042779, \"y\": 1}, {\"x1\": -0.12690607905834783, \"x2\": -0.0930703168926556, \"y\": 1}, {\"x1\": -0.9637213957358937, \"x2\": 0.3652851892304725, \"y\": 0}, {\"x1\": -1.424097020025323, \"x2\": 0.286693267027878, \"y\": 0}, {\"x1\": 0.9088702045383875, \"x2\": -0.7714007411072699, \"y\": 1}, {\"x1\": 1.1773734561510583, \"x2\": -0.7900915703372384, \"y\": 1}, {\"x1\": 0.12576708955332017, \"x2\": 0.378599479982611, \"y\": 0}, {\"x1\": 0.22894465471072278, \"x2\": -0.2827670156818817, \"y\": 1}, {\"x1\": 0.19986644760389416, \"x2\": -0.17656302636450333, \"y\": 1}, {\"x1\": 1.3994798222403944, \"x2\": 0.15443243328026734, \"y\": 1}, {\"x1\": 0.36215008028482926, \"x2\": 0.5609540790240305, \"y\": 1}, {\"x1\": -0.43318088377411423, \"x2\": 1.0196487943171013, \"y\": 0}, {\"x1\": -0.26963989304263536, \"x2\": 1.2497008581097924, \"y\": 0}, {\"x1\": 2.2118612532755897, \"x2\": -0.7442059236635532, \"y\": 1}, {\"x1\": 0.4492555931651103, \"x2\": -0.1591158609949001, \"y\": 1}, {\"x1\": -0.7723643326070174, \"x2\": -0.22437442787560496, \"y\": 1}, {\"x1\": -0.41227128898332305, \"x2\": 1.256176338327388, \"y\": 0}, {\"x1\": -1.1860290536817066, \"x2\": -0.06528255103080471, \"y\": 0}, {\"x1\": -0.9864921295436391, \"x2\": 0.33670375630281957, \"y\": 0}, {\"x1\": 0.9919913133723198, \"x2\": -0.4306368882309642, \"y\": 1}, {\"x1\": 0.1653727079384128, \"x2\": -0.2558180864112652, \"y\": 1}, {\"x1\": -0.5642680911696377, \"x2\": -0.4650245152592053, \"y\": 1}, {\"x1\": -0.01517861413824003, \"x2\": 0.5259802414494281, \"y\": 1}, {\"x1\": 1.3203622654346443, \"x2\": -0.5970713449631733, \"y\": 1}, {\"x1\": 0.9260235117210432, \"x2\": 1.0511528224762092, \"y\": 0}, {\"x1\": 0.7320189468482574, \"x2\": -0.7844608392438616, \"y\": 1}, {\"x1\": 0.8542412935004751, \"x2\": 0.36673371326471926, \"y\": 0}, {\"x1\": 0.1731464852222837, \"x2\": 0.1777355237807187, \"y\": 1}, {\"x1\": 0.20512485877914305, \"x2\": -0.3720641128138153, \"y\": 1}, {\"x1\": 0.716285109882402, \"x2\": 0.5453838636023834, \"y\": 0}, {\"x1\": 1.875948185957079, \"x2\": -0.22300391416442322, \"y\": 1}, {\"x1\": -0.7914319706563021, \"x2\": 0.7602325819653004, \"y\": 0}, {\"x1\": 1.1358720386082577, \"x2\": -0.6290404413826193, \"y\": 1}, {\"x1\": 1.9876498211696756, \"x2\": -0.2212008771178493, \"y\": 1}, {\"x1\": -0.9676854630491858, \"x2\": 0.47370667658275534, \"y\": 0}, {\"x1\": 0.17121005236139197, \"x2\": 0.3621752637730149, \"y\": 1}, {\"x1\": 0.08586990896574476, \"x2\": 0.4689730881876323, \"y\": 0}, {\"x1\": 0.9411719824264979, \"x2\": -0.3547660450853408, \"y\": 1}, {\"x1\": 0.615602960480498, \"x2\": 0.4938983135267513, \"y\": 0}, {\"x1\": 0.7590516078547639, \"x2\": 1.11742209372491, \"y\": 0}, {\"x1\": 0.7880565125617104, \"x2\": 0.571190262202264, \"y\": 0}, {\"x1\": -0.8060508961690303, \"x2\": 1.252372721954934, \"y\": 0}, {\"x1\": 0.7126246200500638, \"x2\": 0.4871288929508552, \"y\": 1}, {\"x1\": -1.4822838680477153, \"x2\": 0.27536031010920836, \"y\": 0}, {\"x1\": 0.9049610034010327, \"x2\": 0.24356093640867651, \"y\": 0}, {\"x1\": 1.185558434580393, \"x2\": -0.07156565103646276, \"y\": 0}, {\"x1\": -0.6828346369807055, \"x2\": 0.3424280516261087, \"y\": 0}, {\"x1\": 1.0219643093857127, \"x2\": 0.6204365265593892, \"y\": 0}, {\"x1\": 0.5839301898723878, \"x2\": -1.105353100084777, \"y\": 1}, {\"x1\": 1.5848656414910232, \"x2\": -0.21746263457158405, \"y\": 1}, {\"x1\": 2.356550409614924, \"x2\": 1.0766848475374644, \"y\": 1}, {\"x1\": -0.01806238827871573, \"x2\": 1.0458114585191531, \"y\": 0}, {\"x1\": 1.8509139199296645, \"x2\": 0.13857550961186144, \"y\": 1}, {\"x1\": 0.8120385380933227, \"x2\": 0.1705799812064474, \"y\": 0}, {\"x1\": 0.8612186769434553, \"x2\": 0.03502348662977284, \"y\": 0}, {\"x1\": -0.006838539840974378, \"x2\": 1.6851264642807102, \"y\": 0}, {\"x1\": -1.2275065128213585, \"x2\": 0.6971730677572291, \"y\": 0}, {\"x1\": 0.5086758568614096, \"x2\": -0.6994255574561611, \"y\": 1}, {\"x1\": 0.37474433163306836, \"x2\": 0.5926231991989135, \"y\": 1}, {\"x1\": 0.5875615967374446, \"x2\": 1.155105492541501, \"y\": 0}, {\"x1\": -0.1711742740954315, \"x2\": 1.3220564963876302, \"y\": 0}, {\"x1\": 2.215499959425732, \"x2\": 0.8475343258626498, \"y\": 1}, {\"x1\": 1.8023846251486602, \"x2\": 0.0022340373574810113, \"y\": 1}, {\"x1\": -0.027549822256503376, \"x2\": -0.17018569009523943, \"y\": 1}, {\"x1\": -0.19490692479987926, \"x2\": -1.1426185642638504, \"y\": 1}, {\"x1\": 1.2798757073714695, \"x2\": -0.44078550976737585, \"y\": 1}, {\"x1\": 0.5417084042406206, \"x2\": 1.1923106941432724, \"y\": 0}, {\"x1\": 0.7590316528455506, \"x2\": -0.42812358758336744, \"y\": 1}, {\"x1\": -0.02277992298300971, \"x2\": -0.15361543208218387, \"y\": 1}, {\"x1\": 0.8945632988483028, \"x2\": 0.15827209169731385, \"y\": 0}, {\"x1\": 0.5674352310324233, \"x2\": -0.02450808903848639, \"y\": 0}, {\"x1\": 0.7835965895961603, \"x2\": -0.46733517005304176, \"y\": 1}, {\"x1\": 1.6878988171134428, \"x2\": -0.56701201276225, \"y\": 1}, {\"x1\": -0.05922477892820022, \"x2\": 1.4562437793461522, \"y\": 0}, {\"x1\": 1.1594181276148263, \"x2\": -0.8233646593181576, \"y\": 1}, {\"x1\": 1.0084783947641998, \"x2\": -0.37923084314801037, \"y\": 1}, {\"x1\": 1.4843989698986906, \"x2\": 0.025470956827461144, \"y\": 1}, {\"x1\": -0.256378521055694, \"x2\": 0.8218293436564548, \"y\": 1}, {\"x1\": 0.6512207905923778, \"x2\": 0.9293457099168595, \"y\": 0}, {\"x1\": 0.7687863092151503, \"x2\": 0.18285063312932065, \"y\": 0}, {\"x1\": 1.119645523099214, \"x2\": 0.18748021880262888, \"y\": 0}, {\"x1\": 0.8242336839713433, \"x2\": 1.3364535704949794, \"y\": 0}, {\"x1\": 0.13973329114841254, \"x2\": -0.37982822493877966, \"y\": 1}, {\"x1\": -0.543065177209141, \"x2\": 0.6834659857444159, \"y\": 0}, {\"x1\": -0.7616624259842597, \"x2\": 0.46991850009171326, \"y\": 0}, {\"x1\": -0.476565113450185, \"x2\": 0.6102777375354254, \"y\": 0}, {\"x1\": 0.8377805872056667, \"x2\": 0.5749896572824035, \"y\": 0}, {\"x1\": -1.3059309052266481, \"x2\": 0.27119507995428893, \"y\": 0}, {\"x1\": 2.766710420471933, \"x2\": 1.1451160284736446, \"y\": 1}, {\"x1\": -0.816775374348369, \"x2\": -0.014718220507964813, \"y\": 0}, {\"x1\": 1.1476313091240808, \"x2\": 0.21248431810435048, \"y\": 0}, {\"x1\": -0.07587971900741589, \"x2\": -0.07501301423825502, \"y\": 1}, {\"x1\": -1.3648572412339908, \"x2\": -0.23561608478875606, \"y\": 0}, {\"x1\": 1.9138769558259041, \"x2\": 0.34515081571650663, \"y\": 1}, {\"x1\": 1.3246888798118714, \"x2\": -0.7160627236189182, \"y\": 1}, {\"x1\": -0.7922073493859507, \"x2\": 0.596308641092617, \"y\": 0}, {\"x1\": 0.9421594657356849, \"x2\": 0.008695663842489475, \"y\": 0}, {\"x1\": 0.6349187939385861, \"x2\": 0.005444897435756102, \"y\": 1}, {\"x1\": 0.9545493007296193, \"x2\": 0.26653930666994957, \"y\": 0}, {\"x1\": 0.06783367793593542, \"x2\": 0.826517399144753, \"y\": 0}, {\"x1\": 1.8994326113316344, \"x2\": -0.6789544356838711, \"y\": 1}, {\"x1\": 1.6046292283961214, \"x2\": -0.038440174877653444, \"y\": 1}, {\"x1\": -0.3247717074687966, \"x2\": 0.7743800061799953, \"y\": 0}, {\"x1\": 0.7796879526152984, \"x2\": -0.6636708585890398, \"y\": 1}, {\"x1\": -0.8251448800511737, \"x2\": 0.49499456879193876, \"y\": 0}, {\"x1\": 0.3605887894677964, \"x2\": 0.7032952852530313, \"y\": 1}, {\"x1\": 0.2602877591916957, \"x2\": 0.7685085101209784, \"y\": 0}, {\"x1\": -1.2657770247275686, \"x2\": -0.4178490229373254, \"y\": 0}, {\"x1\": 1.5919968192427878, \"x2\": 0.2941733939295096, \"y\": 1}, {\"x1\": -0.5297585624642812, \"x2\": 1.4004210695805321, \"y\": 0}, {\"x1\": 0.9068617724452225, \"x2\": 0.5274722999896219, \"y\": 0}, {\"x1\": 2.032873287612732, \"x2\": 0.6863541771303304, \"y\": 1}, {\"x1\": 1.5128327308781244, \"x2\": -0.5772017326780321, \"y\": 1}, {\"x1\": 0.49132862681441947, \"x2\": -0.6531042783981575, \"y\": 1}, {\"x1\": -0.06526419956027296, \"x2\": 0.5486126747148783, \"y\": 0}, {\"x1\": -0.48638697346650506, \"x2\": 1.5042784083433016, \"y\": 0}, {\"x1\": 0.20936111502066526, \"x2\": 1.2057159197048521, \"y\": 0}, {\"x1\": -1.0469753033634484, \"x2\": 0.5145286112156031, \"y\": 0}, {\"x1\": 0.3153175894410427, \"x2\": -0.08700058915904435, \"y\": 1}, {\"x1\": -0.748222941526626, \"x2\": 0.6276849998372291, \"y\": 0}, {\"x1\": 0.9328094845700299, \"x2\": 1.0384237145433102, \"y\": 0}, {\"x1\": 2.085358850720508, \"x2\": 0.8041660611498624, \"y\": 1}, {\"x1\": -0.4000530486521257, \"x2\": 0.6266668170317538, \"y\": 0}, {\"x1\": 0.4721276584666531, \"x2\": 0.36923107943089173, \"y\": 0}, {\"x1\": 0.6565603214100334, \"x2\": 1.3261732028856563, \"y\": 0}, {\"x1\": 2.0932439139695056, \"x2\": 0.35798528691522435, \"y\": 1}, {\"x1\": -0.37130539756540315, \"x2\": 1.3745522020200789, \"y\": 0}, {\"x1\": 1.0853572795247028, \"x2\": -0.14306011724654996, \"y\": 0}, {\"x1\": -0.875786886618079, \"x2\": 0.016140590368101337, \"y\": 0}, {\"x1\": -0.7983218335504748, \"x2\": -0.05861039224383735, \"y\": 0}, {\"x1\": 1.0410164080102695, \"x2\": 0.8045213104141891, \"y\": 1}, {\"x1\": 0.7182881519334386, \"x2\": -0.4325519872641597, \"y\": 1}, {\"x1\": 0.3566773935611265, \"x2\": 0.04275638037785953, \"y\": 1}, {\"x1\": -0.15731007342140552, \"x2\": 0.2645852625237317, \"y\": 1}, {\"x1\": 0.6666386793907038, \"x2\": -0.3465103120038209, \"y\": 1}, {\"x1\": 0.8773287924535, \"x2\": 0.018727831050741287, \"y\": 0}, {\"x1\": 0.2445998189152394, \"x2\": -0.1843215707273252, \"y\": 1}, {\"x1\": 0.6028663071747815, \"x2\": 0.9123585862257357, \"y\": 0}, {\"x1\": 0.3682865015546411, \"x2\": -0.5883617127047549, \"y\": 1}, {\"x1\": 0.6093847382353003, \"x2\": 0.6931642877283274, \"y\": 0}, {\"x1\": 0.6141579235319153, \"x2\": 1.018098014572236, \"y\": 0}, {\"x1\": -0.021076616686643863, \"x2\": 0.5972168384399149, \"y\": 1}, {\"x1\": 2.254112377852835, \"x2\": 0.20965985668389858, \"y\": 1}, {\"x1\": -0.2567612189649773, \"x2\": 1.5265267658295691, \"y\": 0}, {\"x1\": 0.05498431184519205, \"x2\": 1.2237329749730625, \"y\": 0}, {\"x1\": -0.620478676657416, \"x2\": 1.69687921892358, \"y\": 0}, {\"x1\": 0.9261129884568098, \"x2\": 0.34766133902772617, \"y\": 0}, {\"x1\": 1.2352032402314668, \"x2\": 0.1913960604223848, \"y\": 0}, {\"x1\": 0.3192344344446463, \"x2\": -0.015980182723083353, \"y\": 1}, {\"x1\": 2.5602737357247394, \"x2\": -0.2141244331765842, \"y\": 1}, {\"x1\": 0.7561886104483362, \"x2\": -0.4282349839419364, \"y\": 1}, {\"x1\": 2.241195334459449, \"x2\": 0.20517132174478198, \"y\": 1}, {\"x1\": -0.4381964756520716, \"x2\": 1.1676943227613013, \"y\": 0}, {\"x1\": 1.5320502452286755, \"x2\": -0.07360132952715165, \"y\": 1}, {\"x1\": 1.3309582130348443, \"x2\": -0.1290163165465003, \"y\": 1}, {\"x1\": -0.03758278018357766, \"x2\": 0.3260983400268425, \"y\": 1}, {\"x1\": 0.0571915725502489, \"x2\": -0.4005535031598062, \"y\": 1}, {\"x1\": -1.1214523129419445, \"x2\": 0.5771213992820253, \"y\": 0}, {\"x1\": -0.6337090350021792, \"x2\": 0.7295379998712902, \"y\": 0}, {\"x1\": 0.5669458515738366, \"x2\": -0.982211898024705, \"y\": 1}, {\"x1\": 0.40692530045049113, \"x2\": 0.5952892283641914, \"y\": 0}, {\"x1\": 1.0081207733520543, \"x2\": 0.4691063115240541, \"y\": 0}, {\"x1\": 1.9486004928493128, \"x2\": -0.5588705784675796, \"y\": 1}, {\"x1\": 0.12123611313541549, \"x2\": 0.014190521289842106, \"y\": 1}, {\"x1\": 0.5859084937490067, \"x2\": 0.11103363240538988, \"y\": 1}, {\"x1\": 0.8654661940931654, \"x2\": 0.9257153828422842, \"y\": 0}, {\"x1\": 1.9877785218246273, \"x2\": 0.3617904440874403, \"y\": 1}, {\"x1\": 0.23394688064474228, \"x2\": 0.5611153716951316, \"y\": 0}, {\"x1\": 0.01269374560621848, \"x2\": 0.32345467011370366, \"y\": 1}, {\"x1\": 0.2976517525826064, \"x2\": -0.31395918516614585, \"y\": 1}, {\"x1\": -0.5922397727877101, \"x2\": 0.6033880988790203, \"y\": 0}, {\"x1\": 2.7998518044530893, \"x2\": -0.16208442077212293, \"y\": 1}, {\"x1\": 0.31235386810710264, \"x2\": 0.4810771699309196, \"y\": 1}, {\"x1\": 0.8211906321460136, \"x2\": -0.29970341210562845, \"y\": 0}, {\"x1\": -0.21325903368544197, \"x2\": 0.7766697669137419, \"y\": 0}, {\"x1\": 1.7218831904973797, \"x2\": 0.7342142823856352, \"y\": 1}, {\"x1\": 0.15719457498504708, \"x2\": 0.8703580984621813, \"y\": 0}, {\"x1\": -0.5055852855547979, \"x2\": 1.7297160933762434, \"y\": 0}, {\"x1\": -0.251093241374159, \"x2\": 0.962928535044466, \"y\": 0}, {\"x1\": 1.0628799555754396, \"x2\": -0.9973902404858621, \"y\": 1}, {\"x1\": 1.8980894500649421, \"x2\": 0.2897680535117525, \"y\": 1}, {\"x1\": 0.38987622959632146, \"x2\": 0.7114926091716899, \"y\": 1}, {\"x1\": -0.35440166387975225, \"x2\": 0.44507682797875925, \"y\": 0}, {\"x1\": -0.5412351637196819, \"x2\": 0.8205306273565576, \"y\": 0}, {\"x1\": -0.2914884029001954, \"x2\": 0.03671113640717272, \"y\": 0}, {\"x1\": 1.477378270509842, \"x2\": -0.39945787255164694, \"y\": 1}, {\"x1\": 0.4615897925120793, \"x2\": -0.4112396374577924, \"y\": 1}, {\"x1\": -1.3786149418925118, \"x2\": 0.4752497951564708, \"y\": 0}, {\"x1\": -0.8391088524040236, \"x2\": -0.37999932973367123, \"y\": 0}, {\"x1\": -1.2941727552063338, \"x2\": 0.34798415393702165, \"y\": 0}, {\"x1\": 0.2881634209671641, \"x2\": 0.45559328965493384, \"y\": 0}, {\"x1\": 0.19697484597621384, \"x2\": 0.9243189688706457, \"y\": 0}, {\"x1\": -1.232537483014998, \"x2\": 1.0696789387061147, \"y\": 0}, {\"x1\": 0.592127935244302, \"x2\": 0.9566899992504256, \"y\": 1}, {\"x1\": 0.3869108662086131, \"x2\": 0.8023868093608388, \"y\": 0}, {\"x1\": 0.06254287971951067, \"x2\": -0.48695075479599204, \"y\": 1}, {\"x1\": 0.807312274964542, \"x2\": -0.15944614462917323, \"y\": 1}, {\"x1\": 2.5036503926912443, \"x2\": 0.38619962304075084, \"y\": 1}, {\"x1\": -0.5223382423828741, \"x2\": 0.49738093553285034, \"y\": 0}, {\"x1\": -1.077350791934264, \"x2\": 0.3501406966425484, \"y\": 0}, {\"x1\": 0.9214684243670545, \"x2\": -0.4603121047919757, \"y\": 1}, {\"x1\": 1.5713521222748588, \"x2\": -0.7165115413316526, \"y\": 1}, {\"x1\": -0.8288413395862544, \"x2\": 0.38614200414946676, \"y\": 0}, {\"x1\": 0.2170784007325689, \"x2\": -0.2052877895433926, \"y\": 1}, {\"x1\": -0.5671240258114244, \"x2\": 0.6004767289040708, \"y\": 0}, {\"x1\": -0.9177692569210977, \"x2\": 0.016882092887482325, \"y\": 0}, {\"x1\": -1.1610764502532538, \"x2\": 1.1706115707621088, \"y\": 0}, {\"x1\": 1.8857235866325586, \"x2\": -0.7213850677292271, \"y\": 1}, {\"x1\": 0.27279941920126577, \"x2\": 0.37133675838989677, \"y\": 1}, {\"x1\": 1.4434299051954753, \"x2\": 0.2339183765689944, \"y\": 0}, {\"x1\": -0.6908374125396922, \"x2\": 0.9877007098961625, \"y\": 0}, {\"x1\": 2.053190454197908, \"x2\": 0.24197147404004324, \"y\": 1}, {\"x1\": 0.41636977326678837, \"x2\": 0.8440878109059889, \"y\": 0}, {\"x1\": 0.5476862142054136, \"x2\": 0.22175577772886046, \"y\": 0}, {\"x1\": 0.9523952475009045, \"x2\": 0.49110917473286286, \"y\": 0}, {\"x1\": 0.2224184001572338, \"x2\": 1.0894573723020056, \"y\": 0}, {\"x1\": -0.9027721277744019, \"x2\": -0.018479545831701583, \"y\": 0}, {\"x1\": 0.9987927499174457, \"x2\": 0.3673129126624204, \"y\": 0}, {\"x1\": 0.1803305862975402, \"x2\": 0.0229727526165783, \"y\": 1}, {\"x1\": -0.5210742873076372, \"x2\": 0.4967748576508333, \"y\": 1}, {\"x1\": 1.2422019847057366, \"x2\": 0.33143213620174433, \"y\": 0}, {\"x1\": 1.6660619858845624, \"x2\": 0.49373425240256297, \"y\": 1}, {\"x1\": -0.9197872110232514, \"x2\": 0.8064732682443846, \"y\": 0}, {\"x1\": 1.2164477321104534, \"x2\": 0.060309419995246305, \"y\": 1}, {\"x1\": 1.2817013685341945, \"x2\": 0.1463183243470073, \"y\": 0}, {\"x1\": 1.7483537126682005, \"x2\": -0.6886198455993572, \"y\": 1}, {\"x1\": 1.0938300414708726, \"x2\": -0.37511413974628854, \"y\": 1}, {\"x1\": 0.050680391926515855, \"x2\": 0.27066514951755405, \"y\": 0}, {\"x1\": 0.3535229421735915, \"x2\": -0.24533230063355352, \"y\": 1}, {\"x1\": 1.098295241171436, \"x2\": -0.489669634181511, \"y\": 1}, {\"x1\": -0.2530162346025382, \"x2\": 0.8974281347175906, \"y\": 0}, {\"x1\": 1.1958775006837477, \"x2\": 0.3456506996711915, \"y\": 0}, {\"x1\": 0.013690640894364448, \"x2\": 0.90856645087749, \"y\": 0}, {\"x1\": 2.1780673427468646, \"x2\": 0.31232900879448483, \"y\": 1}, {\"x1\": 0.3330867880330651, \"x2\": 0.5316874260987811, \"y\": 0}, {\"x1\": 0.8260738125577798, \"x2\": 0.10722782249775833, \"y\": 0}, {\"x1\": 0.3621565212028855, \"x2\": 0.08648409966765143, \"y\": 1}, {\"x1\": 1.7234492303434483, \"x2\": -0.2964104056674586, \"y\": 1}, {\"x1\": 0.8478176977068208, \"x2\": 0.6633099869433815, \"y\": 0}, {\"x1\": 0.15984507152627575, \"x2\": 0.0528620011604507, \"y\": 1}, {\"x1\": -0.68372274018047, \"x2\": 0.6110000935458167, \"y\": 0}, {\"x1\": 0.2954839798904927, \"x2\": -0.15393832561310578, \"y\": 1}, {\"x1\": 1.9702955548002978, \"x2\": 0.31146341195727595, \"y\": 1}, {\"x1\": 0.014324481695614864, \"x2\": 0.30056679177554757, \"y\": 1}, {\"x1\": 0.2150375956391684, \"x2\": 1.0618427334875733, \"y\": 0}, {\"x1\": 1.1083688044188436, \"x2\": -0.6507734395924905, \"y\": 1}, {\"x1\": 0.18706069407704806, \"x2\": -0.807676414554105, \"y\": 1}, {\"x1\": 2.4444150666902362, \"x2\": 0.028147755699201416, \"y\": 1}, {\"x1\": 0.634128582908294, \"x2\": 0.9821746057794349, \"y\": 0}, {\"x1\": 0.693762541807884, \"x2\": -1.2638574233639854, \"y\": 1}, {\"x1\": 0.17140278042264392, \"x2\": 0.039682112868078157, \"y\": 1}, {\"x1\": 1.9047102958150102, \"x2\": 0.5190885493347817, \"y\": 1}, {\"x1\": 0.049659708447768125, \"x2\": 0.9563969353295237, \"y\": 0}, {\"x1\": 0.9832566529984308, \"x2\": 1.3902494686776803, \"y\": 0}, {\"x1\": 0.3219095259391086, \"x2\": -0.08487623916673881, \"y\": 1}, {\"x1\": 1.1793514410615247, \"x2\": -0.21035298578162076, \"y\": 1}, {\"x1\": 1.992202883398741, \"x2\": 0.42280994878718037, \"y\": 1}, {\"x1\": 1.6481529208354098, \"x2\": 0.17553202752416627, \"y\": 1}, {\"x1\": 1.5899499366846803, \"x2\": -0.721490388830835, \"y\": 1}, {\"x1\": 0.2241801873862619, \"x2\": 0.483548950057719, \"y\": 1}, {\"x1\": 1.723564707698292, \"x2\": 0.012278338487458046, \"y\": 1}, {\"x1\": -0.8625405610577368, \"x2\": 0.16786737452902986, \"y\": 0}, {\"x1\": 0.7137636076227016, \"x2\": -0.23090821890267185, \"y\": 1}, {\"x1\": 0.3522773346086763, \"x2\": 1.5623377295550775, \"y\": 0}, {\"x1\": -0.19604422665294474, \"x2\": 0.681259016090582, \"y\": 0}, {\"x1\": -0.23998103883154667, \"x2\": 0.28791329856561887, \"y\": 0}, {\"x1\": 0.026386885414378197, \"x2\": -0.2164897981979541, \"y\": 1}, {\"x1\": -0.5412097511124597, \"x2\": 0.6562253891761005, \"y\": 1}, {\"x1\": 1.599815759492921, \"x2\": 0.4362106455174773, \"y\": 1}, {\"x1\": 2.2210460785178032, \"x2\": 0.04286952314699513, \"y\": 1}, {\"x1\": 0.7450459360248448, \"x2\": 0.6534956370267511, \"y\": 0}, {\"x1\": 1.184070462254389, \"x2\": -0.5172220420759485, \"y\": 1}, {\"x1\": -0.6092196803472149, \"x2\": 0.6598393585201627, \"y\": 0}, {\"x1\": -0.40215239130831937, \"x2\": 0.6070279671447966, \"y\": 1}, {\"x1\": 0.18822463515674195, \"x2\": 1.2805951455521605, \"y\": 0}, {\"x1\": -0.1843812209021572, \"x2\": -0.35111516429677675, \"y\": 1}, {\"x1\": -0.3207106732016665, \"x2\": -0.13090820185433522, \"y\": 1}, {\"x1\": 0.47384893265575434, \"x2\": -0.3870713275752712, \"y\": 1}, {\"x1\": -1.2224806925833152, \"x2\": 0.5639829514569079, \"y\": 0}, {\"x1\": 0.857410174474768, \"x2\": 0.19846934008871486, \"y\": 0}, {\"x1\": -0.016755809025358948, \"x2\": 0.7952884568940027, \"y\": 0}, {\"x1\": 2.3477314320505625, \"x2\": 0.5277385922595041, \"y\": 1}, {\"x1\": 0.09685656091478345, \"x2\": 1.4514633270399258, \"y\": 0}, {\"x1\": 0.5835702409323485, \"x2\": -0.6138791264798532, \"y\": 1}, {\"x1\": -0.4307829440180967, \"x2\": 0.2168019970342437, \"y\": 1}, {\"x1\": 0.6095102313620491, \"x2\": 0.6200117400477562, \"y\": 1}, {\"x1\": 1.0865868445865743, \"x2\": -0.7590149337696609, \"y\": 1}, {\"x1\": 0.014578961879170849, \"x2\": 0.8107833402407814, \"y\": 0}, {\"x1\": -0.6364646745578411, \"x2\": 0.826323782621547, \"y\": 0}, {\"x1\": 0.41509358967320364, \"x2\": 1.530499696330109, \"y\": 0}, {\"x1\": -0.6383413245020682, \"x2\": 0.6450162006579645, \"y\": 0}, {\"x1\": -0.08703195606674269, \"x2\": 0.39861541384297206, \"y\": 0}, {\"x1\": -0.8407688369340718, \"x2\": 0.5371472188531152, \"y\": 0}, {\"x1\": 1.3404927738334949, \"x2\": -0.29282425377144483, \"y\": 0}, {\"x1\": 0.7511058715486618, \"x2\": -0.3982826059205564, \"y\": 1}, {\"x1\": -0.590990050850015, \"x2\": 0.7132858491572698, \"y\": 0}, {\"x1\": 2.19050402389382, \"x2\": 1.1990246514203782, \"y\": 1}, {\"x1\": -1.2211848779499384, \"x2\": 0.9293874814701146, \"y\": 0}, {\"x1\": -0.16095794910845954, \"x2\": -0.086021329693041, \"y\": 1}, {\"x1\": 0.830702892129587, \"x2\": -0.5206779018043944, \"y\": 1}]}}, {\"mode\": \"vega-lite\"});\n",
       "</script>"
      ],
      "text/plain": [
       "alt.Chart(...)"
      ]
     },
     "execution_count": 10,
     "metadata": {},
     "output_type": "execute_result"
    }
   ],
   "source": [
    "import altair as alt\n",
    "alt.Chart(pd.DataFrame({'x1': X_data[:, 0], 'x2': X_data[:, 1], 'y': Y_data})).mark_point().encode(\n",
    "    x='x1', y='x2', color=alt.Color('y', scale=alt.Scale(domain=[0.0, 1.0], range=['red', 'blue'])))\n"
   ]
  },
  {
   "attachments": {},
   "cell_type": "markdown",
   "metadata": {},
   "source": [
    "**(c)** Visualizing Data Subsets"
   ]
  },
  {
   "cell_type": "code",
   "execution_count": 11,
   "metadata": {},
   "outputs": [
    {
     "data": {
      "text/html": [
       "\n",
       "<div id=\"altair-viz-606087af642b47b49cf2abd63324f04f\"></div>\n",
       "<script type=\"text/javascript\">\n",
       "  var VEGA_DEBUG = (typeof VEGA_DEBUG == \"undefined\") ? {} : VEGA_DEBUG;\n",
       "  (function(spec, embedOpt){\n",
       "    let outputDiv = document.currentScript.previousElementSibling;\n",
       "    if (outputDiv.id !== \"altair-viz-606087af642b47b49cf2abd63324f04f\") {\n",
       "      outputDiv = document.getElementById(\"altair-viz-606087af642b47b49cf2abd63324f04f\");\n",
       "    }\n",
       "    const paths = {\n",
       "      \"vega\": \"https://cdn.jsdelivr.net/npm//vega@5?noext\",\n",
       "      \"vega-lib\": \"https://cdn.jsdelivr.net/npm//vega-lib?noext\",\n",
       "      \"vega-lite\": \"https://cdn.jsdelivr.net/npm//vega-lite@4.17.0?noext\",\n",
       "      \"vega-embed\": \"https://cdn.jsdelivr.net/npm//vega-embed@6?noext\",\n",
       "    };\n",
       "\n",
       "    function maybeLoadScript(lib, version) {\n",
       "      var key = `${lib.replace(\"-\", \"\")}_version`;\n",
       "      return (VEGA_DEBUG[key] == version) ?\n",
       "        Promise.resolve(paths[lib]) :\n",
       "        new Promise(function(resolve, reject) {\n",
       "          var s = document.createElement('script');\n",
       "          document.getElementsByTagName(\"head\")[0].appendChild(s);\n",
       "          s.async = true;\n",
       "          s.onload = () => {\n",
       "            VEGA_DEBUG[key] = version;\n",
       "            return resolve(paths[lib]);\n",
       "          };\n",
       "          s.onerror = () => reject(`Error loading script: ${paths[lib]}`);\n",
       "          s.src = paths[lib];\n",
       "        });\n",
       "    }\n",
       "\n",
       "    function showError(err) {\n",
       "      outputDiv.innerHTML = `<div class=\"error\" style=\"color:red;\">${err}</div>`;\n",
       "      throw err;\n",
       "    }\n",
       "\n",
       "    function displayChart(vegaEmbed) {\n",
       "      vegaEmbed(outputDiv, spec, embedOpt)\n",
       "        .catch(err => showError(`Javascript Error: ${err.message}<br>This usually means there's a typo in your chart specification. See the javascript console for the full traceback.`));\n",
       "    }\n",
       "\n",
       "    if(typeof define === \"function\" && define.amd) {\n",
       "      requirejs.config({paths});\n",
       "      require([\"vega-embed\"], displayChart, err => showError(`Error loading script: ${err.message}`));\n",
       "    } else {\n",
       "      maybeLoadScript(\"vega\", \"5\")\n",
       "        .then(() => maybeLoadScript(\"vega-lite\", \"4.17.0\"))\n",
       "        .then(() => maybeLoadScript(\"vega-embed\", \"6\"))\n",
       "        .catch(showError)\n",
       "        .then(() => displayChart(vegaEmbed));\n",
       "    }\n",
       "  })({\"config\": {\"view\": {\"continuousWidth\": 400, \"continuousHeight\": 300}}, \"vconcat\": [{\"hconcat\": [{\"data\": {\"name\": \"data-c6c5bba846148771e633a7ebe2121b00\"}, \"mark\": \"point\", \"encoding\": {\"color\": {\"field\": \"y\", \"scale\": {\"domain\": [0.0, 1.0], \"range\": [\"red\", \"blue\"]}, \"type\": \"quantitative\"}, \"x\": {\"field\": \"x1\", \"type\": \"quantitative\"}, \"y\": {\"field\": \"x2\", \"type\": \"quantitative\"}}}, {\"data\": {\"name\": \"data-094058152bff19b0637537ed62eb6453\"}, \"mark\": \"point\", \"encoding\": {\"color\": {\"field\": \"y\", \"scale\": {\"domain\": [0.0, 1.0], \"range\": [\"red\", \"blue\"]}, \"type\": \"quantitative\"}, \"x\": {\"field\": \"x1\", \"type\": \"quantitative\"}, \"y\": {\"field\": \"x2\", \"type\": \"quantitative\"}}}, {\"data\": {\"name\": \"data-b875e36d9a67ea393417769170283134\"}, \"mark\": \"point\", \"encoding\": {\"color\": {\"field\": \"y\", \"scale\": {\"domain\": [0.0, 1.0], \"range\": [\"red\", \"blue\"]}, \"type\": \"quantitative\"}, \"x\": {\"field\": \"x1\", \"type\": \"quantitative\"}, \"y\": {\"field\": \"x2\", \"type\": \"quantitative\"}}}]}, {\"hconcat\": [{\"data\": {\"name\": \"data-c8bb1178215e6f6618b84b1254eff373\"}, \"mark\": \"point\", \"encoding\": {\"color\": {\"field\": \"y\", \"scale\": {\"domain\": [0.0, 1.0], \"range\": [\"red\", \"blue\"]}, \"type\": \"quantitative\"}, \"x\": {\"field\": \"x1\", \"type\": \"quantitative\"}, \"y\": {\"field\": \"x2\", \"type\": \"quantitative\"}}}, {\"data\": {\"name\": \"data-887f42bd9902971f4010f32a94a48acf\"}, \"mark\": \"point\", \"encoding\": {\"color\": {\"field\": \"y\", \"scale\": {\"domain\": [0.0, 1.0], \"range\": [\"red\", \"blue\"]}, \"type\": \"quantitative\"}, \"x\": {\"field\": \"x1\", \"type\": \"quantitative\"}, \"y\": {\"field\": \"x2\", \"type\": \"quantitative\"}}}, {\"data\": {\"name\": \"data-e546bdf05e4c97b8ab46f6dee1f4a7c5\"}, \"mark\": \"point\", \"encoding\": {\"color\": {\"field\": \"y\", \"scale\": {\"domain\": [0.0, 1.0], \"range\": [\"red\", \"blue\"]}, \"type\": \"quantitative\"}, \"x\": {\"field\": \"x1\", \"type\": \"quantitative\"}, \"y\": {\"field\": \"x2\", \"type\": \"quantitative\"}}}]}, {\"hconcat\": [{\"data\": {\"name\": \"data-62a2a78f6a1af51de9fb0e8d60744a6a\"}, \"mark\": \"point\", \"encoding\": {\"color\": {\"field\": \"y\", \"scale\": {\"domain\": [0.0, 1.0], \"range\": [\"red\", \"blue\"]}, \"type\": \"quantitative\"}, \"x\": {\"field\": \"x1\", \"type\": \"quantitative\"}, \"y\": {\"field\": \"x2\", \"type\": \"quantitative\"}}}, {\"data\": {\"name\": \"data-ac9ae66e1911c614b05369759cfd4be0\"}, \"mark\": \"point\", \"encoding\": {\"color\": {\"field\": \"y\", \"scale\": {\"domain\": [0.0, 1.0], \"range\": [\"red\", \"blue\"]}, \"type\": \"quantitative\"}, \"x\": {\"field\": \"x1\", \"type\": \"quantitative\"}, \"y\": {\"field\": \"x2\", \"type\": \"quantitative\"}}}, {\"data\": {\"name\": \"data-95d41e498362a36186a28fe839008183\"}, \"mark\": \"point\", \"encoding\": {\"color\": {\"field\": \"y\", \"scale\": {\"domain\": [0.0, 1.0], \"range\": [\"red\", \"blue\"]}, \"type\": \"quantitative\"}, \"x\": {\"field\": \"x1\", \"type\": \"quantitative\"}, \"y\": {\"field\": \"x2\", \"type\": \"quantitative\"}}}]}], \"$schema\": \"https://vega.github.io/schema/vega-lite/v4.17.0.json\", \"datasets\": {\"data-c6c5bba846148771e633a7ebe2121b00\": [{\"x1\": -1.1214523129419445, \"x2\": 0.5771213992820253, \"y\": 0}, {\"x1\": 2.2171763883929367, \"x2\": 0.37312895798905293, \"y\": 1}, {\"x1\": 0.1815085812748144, \"x2\": 1.4817194762803294, \"y\": 0}, {\"x1\": 1.9284198382676245, \"x2\": 0.4064902780878516, \"y\": 1}, {\"x1\": 0.0829126319697506, \"x2\": 0.23772104123164198, \"y\": 1}, {\"x1\": 0.5724543061411862, \"x2\": 0.16676403864242764, \"y\": 0}, {\"x1\": -0.4295083653284846, \"x2\": 1.8006030391129304, \"y\": 0}, {\"x1\": 1.822428213424968, \"x2\": 1.0169848906797783, \"y\": 1}, {\"x1\": 2.1830566852076467, \"x2\": 0.22216144824488865, \"y\": 1}, {\"x1\": -0.1224461730791272, \"x2\": 0.26921109573895546, \"y\": 1}, {\"x1\": 2.766710420471933, \"x2\": 1.1451160284736446, \"y\": 1}, {\"x1\": 0.563677831527381, \"x2\": 1.162024218699454, \"y\": 0}, {\"x1\": 0.09764128736353743, \"x2\": 0.7893213767142829, \"y\": 0}, {\"x1\": 0.9068617724452225, \"x2\": 0.5274722999896219, \"y\": 0}, {\"x1\": 1.2098636979631188, \"x2\": 0.33909238935945585, \"y\": 0}, {\"x1\": 0.027186707804270016, \"x2\": 0.6002359385973253, \"y\": 0}, {\"x1\": 0.04637357847816255, \"x2\": 1.3697293639651025, \"y\": 0}, {\"x1\": 0.8165424554400801, \"x2\": 1.332502689171118, \"y\": 0}, {\"x1\": 0.3605887894677964, \"x2\": 0.7032952852530313, \"y\": 1}, {\"x1\": 0.13717520631674304, \"x2\": 0.6649633209042779, \"y\": 1}, {\"x1\": 1.185558434580393, \"x2\": -0.07156565103646276, \"y\": 0}, {\"x1\": 1.4502683025437144, \"x2\": 0.17131777701348083, \"y\": 1}, {\"x1\": 1.2817013685341945, \"x2\": 0.1463183243470073, \"y\": 0}, {\"x1\": 0.3153175894410427, \"x2\": -0.08700058915904435, \"y\": 1}, {\"x1\": 2.1830566852076467, \"x2\": 0.22216144824488865, \"y\": 1}, {\"x1\": 1.8509139199296645, \"x2\": 0.13857550961186144, \"y\": 1}, {\"x1\": 0.3584865814673566, \"x2\": 1.0712300979204106, \"y\": 0}, {\"x1\": -0.47926378422137517, \"x2\": 0.8666887069686484, \"y\": 0}, {\"x1\": 0.7681341877296127, \"x2\": -0.22897098571581234, \"y\": 1}, {\"x1\": 0.8242336839713433, \"x2\": 1.3364535704949794, \"y\": 0}, {\"x1\": 0.3535229421735915, \"x2\": -0.24533230063355352, \"y\": 1}, {\"x1\": 1.1793514410615247, \"x2\": -0.21035298578162076, \"y\": 1}, {\"x1\": -0.4170018452692469, \"x2\": -0.43011651218033775, \"y\": 0}, {\"x1\": 1.9013588035409386, \"x2\": 0.2348338662934495, \"y\": 1}, {\"x1\": 0.6694869917923031, \"x2\": -0.5240695587399058, \"y\": 1}, {\"x1\": 1.5580622617473798, \"x2\": -0.18881168369237883, \"y\": 1}, {\"x1\": 0.12325040944334946, \"x2\": -0.5059460137407046, \"y\": 1}, {\"x1\": -0.8204878364531997, \"x2\": 0.14830323175476767, \"y\": 0}, {\"x1\": 0.31624290658334686, \"x2\": 1.684295531847236, \"y\": 0}, {\"x1\": 1.7074861614531496, \"x2\": 0.5596667607474829, \"y\": 1}, {\"x1\": 0.7206447937130618, \"x2\": -0.17470084727043578, \"y\": 1}, {\"x1\": 0.4203289004895593, \"x2\": 0.5028491228540909, \"y\": 1}, {\"x1\": 0.4167350151146958, \"x2\": -0.2864296703887702, \"y\": 1}, {\"x1\": 0.4492555931651103, \"x2\": -0.1591158609949001, \"y\": 1}, {\"x1\": -0.10645435130186565, \"x2\": 1.1094133150222383, \"y\": 0}, {\"x1\": 1.6762088847504057, \"x2\": -0.28640896331893007, \"y\": 1}, {\"x1\": 1.2650397393703423, \"x2\": 0.22559033370737902, \"y\": 1}, {\"x1\": 0.9859257069791756, \"x2\": 0.7182557899160881, \"y\": 0}, {\"x1\": -0.7922073493859507, \"x2\": 0.596308641092617, \"y\": 0}, {\"x1\": 1.3174849212643425, \"x2\": -0.792590968228589, \"y\": 1}, {\"x1\": -0.5412351637196819, \"x2\": 0.8205306273565576, \"y\": 0}, {\"x1\": -0.748222941526626, \"x2\": 0.6276849998372291, \"y\": 0}, {\"x1\": 1.2049591047602477, \"x2\": 0.08103394137068537, \"y\": 1}, {\"x1\": 0.15068513877296758, \"x2\": 1.7689970640138784, \"y\": 0}, {\"x1\": -0.11863663272064331, \"x2\": 0.8104624660129376, \"y\": 0}, {\"x1\": 0.0625436410860313, \"x2\": 0.2946175433452294, \"y\": 1}, {\"x1\": 0.010147815773023379, \"x2\": 0.8430577746836346, \"y\": 0}, {\"x1\": 0.08586990896574476, \"x2\": 0.4689730881876323, \"y\": 0}, {\"x1\": 0.3418936477664757, \"x2\": 0.004120409183165918, \"y\": 1}, {\"x1\": 1.6568468063862458, \"x2\": -0.19405570344891082, \"y\": 1}, {\"x1\": 0.8120385380933227, \"x2\": 0.1705799812064474, \"y\": 0}, {\"x1\": 1.3482037749613007, \"x2\": -0.2567047162970015, \"y\": 1}, {\"x1\": 1.1959421239182455, \"x2\": -0.5829547344433935, \"y\": 0}, {\"x1\": 0.7271753618123781, \"x2\": 0.7636992829647782, \"y\": 0}, {\"x1\": 0.15719457498504708, \"x2\": 0.8703580984621813, \"y\": 0}, {\"x1\": 0.47384893265575434, \"x2\": -0.3870713275752712, \"y\": 1}, {\"x1\": -0.26963989304263536, \"x2\": 1.2497008581097924, \"y\": 0}, {\"x1\": -0.6792332216283965, \"x2\": 0.20570988209808466, \"y\": 0}, {\"x1\": -0.35862410426031516, \"x2\": 0.677892324445996, \"y\": 1}, {\"x1\": 1.5713521222748588, \"x2\": -0.7165115413316526, \"y\": 1}, {\"x1\": -0.6493415866152267, \"x2\": -0.3497437008264036, \"y\": 1}, {\"x1\": 0.024956202988846654, \"x2\": 0.26660777263060553, \"y\": 1}, {\"x1\": 1.6179417515027876, \"x2\": -0.41852068443856877, \"y\": 1}, {\"x1\": -0.4536668253660275, \"x2\": 0.5502815526129721, \"y\": 0}, {\"x1\": 0.1806177155832829, \"x2\": 1.2837936499239393, \"y\": 0}, {\"x1\": 0.9214684243670545, \"x2\": -0.4603121047919757, \"y\": 1}, {\"x1\": 0.8417748493896738, \"x2\": -0.13839301125104586, \"y\": 0}, {\"x1\": -1.3738885897067505, \"x2\": -0.32704458912917267, \"y\": 0}, {\"x1\": 2.4134672795099936, \"x2\": 0.05130620582388007, \"y\": 1}, {\"x1\": 0.1978036866665508, \"x2\": 1.1511721176361687, \"y\": 0}, {\"x1\": 1.119645523099214, \"x2\": 0.18748021880262888, \"y\": 0}, {\"x1\": 1.0628799555754396, \"x2\": -0.9973902404858621, \"y\": 1}, {\"x1\": 1.0821161688945855, \"x2\": 0.9830963859626805, \"y\": 0}, {\"x1\": -0.30373937036812315, \"x2\": 1.2757430243030443, \"y\": 0}, {\"x1\": 1.822428213424968, \"x2\": 1.0169848906797783, \"y\": 1}, {\"x1\": -0.886283259989697, \"x2\": 0.4313268730227314, \"y\": 0}, {\"x1\": -0.8875840903983732, \"x2\": -0.1342959471896661, \"y\": 0}, {\"x1\": 1.2718361491961052, \"x2\": -0.24503727964607472, \"y\": 1}, {\"x1\": 2.0932439139695056, \"x2\": 0.35798528691522435, \"y\": 1}, {\"x1\": 0.8417748493896738, \"x2\": -0.13839301125104586, \"y\": 0}, {\"x1\": 1.2798757073714695, \"x2\": -0.44078550976737585, \"y\": 1}, {\"x1\": 1.0936649951642112, \"x2\": -0.8628593321664593, \"y\": 1}, {\"x1\": 1.0081207733520543, \"x2\": 0.4691063115240541, \"y\": 0}, {\"x1\": 0.44938930428442697, \"x2\": 0.5630001954755828, \"y\": 0}, {\"x1\": 1.1268555088182026, \"x2\": -0.4088576201130024, \"y\": 1}, {\"x1\": 1.1594181276148263, \"x2\": -0.8233646593181576, \"y\": 1}, {\"x1\": -1.1865806105500702, \"x2\": -0.006355692507952815, \"y\": 0}, {\"x1\": 0.014578961879170849, \"x2\": 0.8107833402407814, \"y\": 0}, {\"x1\": 1.8509139199296645, \"x2\": 0.13857550961186144, \"y\": 1}, {\"x1\": 2.244344251437388, \"x2\": -0.040896268230934035, \"y\": 1}], \"data-094058152bff19b0637537ed62eb6453\": [{\"x1\": -1.1214523129419445, \"x2\": 0.5771213992820253, \"y\": 0}, {\"x1\": 2.2171763883929367, \"x2\": 0.37312895798905293, \"y\": 1}, {\"x1\": 0.1815085812748144, \"x2\": 1.4817194762803294, \"y\": 0}, {\"x1\": 1.9284198382676245, \"x2\": 0.4064902780878516, \"y\": 1}, {\"x1\": 0.0829126319697506, \"x2\": 0.23772104123164198, \"y\": 1}, {\"x1\": 0.5724543061411862, \"x2\": 0.16676403864242764, \"y\": 1}, {\"x1\": -0.4295083653284846, \"x2\": 1.8006030391129304, \"y\": 0}, {\"x1\": 1.822428213424968, \"x2\": 1.0169848906797783, \"y\": 1}, {\"x1\": 2.1830566852076467, \"x2\": 0.22216144824488865, \"y\": 1}, {\"x1\": -0.1224461730791272, \"x2\": 0.26921109573895546, \"y\": 0}, {\"x1\": 2.766710420471933, \"x2\": 1.1451160284736446, \"y\": 1}, {\"x1\": 0.563677831527381, \"x2\": 1.162024218699454, \"y\": 0}, {\"x1\": 0.09764128736353743, \"x2\": 0.7893213767142829, \"y\": 0}, {\"x1\": 0.9068617724452225, \"x2\": 0.5274722999896219, \"y\": 0}, {\"x1\": 1.2098636979631188, \"x2\": 0.33909238935945585, \"y\": 0}, {\"x1\": 0.027186707804270016, \"x2\": 0.6002359385973253, \"y\": 0}, {\"x1\": 0.04637357847816255, \"x2\": 1.3697293639651025, \"y\": 0}, {\"x1\": 0.8165424554400801, \"x2\": 1.332502689171118, \"y\": 0}, {\"x1\": 0.3605887894677964, \"x2\": 0.7032952852530313, \"y\": 0}, {\"x1\": 0.13717520631674304, \"x2\": 0.6649633209042779, \"y\": 0}, {\"x1\": 1.185558434580393, \"x2\": -0.07156565103646276, \"y\": 1}, {\"x1\": 1.4502683025437144, \"x2\": 0.17131777701348083, \"y\": 1}, {\"x1\": 1.2817013685341945, \"x2\": 0.1463183243470073, \"y\": 1}, {\"x1\": 0.3153175894410427, \"x2\": -0.08700058915904435, \"y\": 1}, {\"x1\": 2.1830566852076467, \"x2\": 0.22216144824488865, \"y\": 1}, {\"x1\": 1.8509139199296645, \"x2\": 0.13857550961186144, \"y\": 1}, {\"x1\": 0.3584865814673566, \"x2\": 1.0712300979204106, \"y\": 0}, {\"x1\": -0.47926378422137517, \"x2\": 0.8666887069686484, \"y\": 0}, {\"x1\": 0.7681341877296127, \"x2\": -0.22897098571581234, \"y\": 1}, {\"x1\": 0.8242336839713433, \"x2\": 1.3364535704949794, \"y\": 0}, {\"x1\": 0.3535229421735915, \"x2\": -0.24533230063355352, \"y\": 1}, {\"x1\": 1.1793514410615247, \"x2\": -0.21035298578162076, \"y\": 1}, {\"x1\": -0.4170018452692469, \"x2\": -0.43011651218033775, \"y\": 1}, {\"x1\": 1.9013588035409386, \"x2\": 0.2348338662934495, \"y\": 1}, {\"x1\": 0.6694869917923031, \"x2\": -0.5240695587399058, \"y\": 1}, {\"x1\": 1.5580622617473798, \"x2\": -0.18881168369237883, \"y\": 1}, {\"x1\": 0.12325040944334946, \"x2\": -0.5059460137407046, \"y\": 1}, {\"x1\": -0.8204878364531997, \"x2\": 0.14830323175476767, \"y\": 0}, {\"x1\": 0.31624290658334686, \"x2\": 1.684295531847236, \"y\": 0}, {\"x1\": 1.7074861614531496, \"x2\": 0.5596667607474829, \"y\": 1}, {\"x1\": 0.7206447937130618, \"x2\": -0.17470084727043578, \"y\": 1}, {\"x1\": 0.4203289004895593, \"x2\": 0.5028491228540909, \"y\": 0}, {\"x1\": 0.4167350151146958, \"x2\": -0.2864296703887702, \"y\": 1}, {\"x1\": 0.4492555931651103, \"x2\": -0.1591158609949001, \"y\": 1}, {\"x1\": -0.10645435130186565, \"x2\": 1.1094133150222383, \"y\": 0}, {\"x1\": 1.6762088847504057, \"x2\": -0.28640896331893007, \"y\": 1}, {\"x1\": 1.2650397393703423, \"x2\": 0.22559033370737902, \"y\": 1}, {\"x1\": 0.9859257069791756, \"x2\": 0.7182557899160881, \"y\": 0}, {\"x1\": -0.7922073493859507, \"x2\": 0.596308641092617, \"y\": 0}, {\"x1\": 1.3174849212643425, \"x2\": -0.792590968228589, \"y\": 1}, {\"x1\": -0.5412351637196819, \"x2\": 0.8205306273565576, \"y\": 0}, {\"x1\": -0.748222941526626, \"x2\": 0.6276849998372291, \"y\": 0}, {\"x1\": 1.2049591047602477, \"x2\": 0.08103394137068537, \"y\": 1}, {\"x1\": 0.15068513877296758, \"x2\": 1.7689970640138784, \"y\": 0}, {\"x1\": -0.11863663272064331, \"x2\": 0.8104624660129376, \"y\": 0}, {\"x1\": 0.0625436410860313, \"x2\": 0.2946175433452294, \"y\": 1}, {\"x1\": 0.010147815773023379, \"x2\": 0.8430577746836346, \"y\": 0}, {\"x1\": 0.08586990896574476, \"x2\": 0.4689730881876323, \"y\": 0}, {\"x1\": 0.3418936477664757, \"x2\": 0.004120409183165918, \"y\": 1}, {\"x1\": 1.6568468063862458, \"x2\": -0.19405570344891082, \"y\": 1}, {\"x1\": 0.8120385380933227, \"x2\": 0.1705799812064474, \"y\": 0}, {\"x1\": 1.3482037749613007, \"x2\": -0.2567047162970015, \"y\": 1}, {\"x1\": 1.1959421239182455, \"x2\": -0.5829547344433935, \"y\": 1}, {\"x1\": 0.7271753618123781, \"x2\": 0.7636992829647782, \"y\": 0}, {\"x1\": 0.15719457498504708, \"x2\": 0.8703580984621813, \"y\": 0}, {\"x1\": 0.47384893265575434, \"x2\": -0.3870713275752712, \"y\": 1}, {\"x1\": -0.26963989304263536, \"x2\": 1.2497008581097924, \"y\": 0}, {\"x1\": -0.6792332216283965, \"x2\": 0.20570988209808466, \"y\": 0}, {\"x1\": -0.35862410426031516, \"x2\": 0.677892324445996, \"y\": 0}, {\"x1\": 1.5713521222748588, \"x2\": -0.7165115413316526, \"y\": 1}, {\"x1\": -0.6493415866152267, \"x2\": -0.3497437008264036, \"y\": 1}, {\"x1\": 0.024956202988846654, \"x2\": 0.26660777263060553, \"y\": 1}, {\"x1\": 1.6179417515027876, \"x2\": -0.41852068443856877, \"y\": 1}, {\"x1\": -0.4536668253660275, \"x2\": 0.5502815526129721, \"y\": 0}, {\"x1\": 0.1806177155832829, \"x2\": 1.2837936499239393, \"y\": 0}, {\"x1\": 0.9214684243670545, \"x2\": -0.4603121047919757, \"y\": 1}, {\"x1\": 0.8417748493896738, \"x2\": -0.13839301125104586, \"y\": 1}, {\"x1\": -1.3738885897067505, \"x2\": -0.32704458912917267, \"y\": 0}, {\"x1\": 2.4134672795099936, \"x2\": 0.05130620582388007, \"y\": 1}, {\"x1\": 0.1978036866665508, \"x2\": 1.1511721176361687, \"y\": 0}, {\"x1\": 1.119645523099214, \"x2\": 0.18748021880262888, \"y\": 1}, {\"x1\": 1.0628799555754396, \"x2\": -0.9973902404858621, \"y\": 1}, {\"x1\": 1.0821161688945855, \"x2\": 0.9830963859626805, \"y\": 0}, {\"x1\": -0.30373937036812315, \"x2\": 1.2757430243030443, \"y\": 0}, {\"x1\": 1.822428213424968, \"x2\": 1.0169848906797783, \"y\": 1}, {\"x1\": -0.886283259989697, \"x2\": 0.4313268730227314, \"y\": 0}, {\"x1\": -0.8875840903983732, \"x2\": -0.1342959471896661, \"y\": 0}, {\"x1\": 1.2718361491961052, \"x2\": -0.24503727964607472, \"y\": 1}, {\"x1\": 2.0932439139695056, \"x2\": 0.35798528691522435, \"y\": 1}, {\"x1\": 0.8417748493896738, \"x2\": -0.13839301125104586, \"y\": 1}, {\"x1\": 1.2798757073714695, \"x2\": -0.44078550976737585, \"y\": 1}, {\"x1\": 1.0936649951642112, \"x2\": -0.8628593321664593, \"y\": 1}, {\"x1\": 1.0081207733520543, \"x2\": 0.4691063115240541, \"y\": 0}, {\"x1\": 0.44938930428442697, \"x2\": 0.5630001954755828, \"y\": 0}, {\"x1\": 1.1268555088182026, \"x2\": -0.4088576201130024, \"y\": 1}, {\"x1\": 1.1594181276148263, \"x2\": -0.8233646593181576, \"y\": 1}, {\"x1\": -1.1865806105500702, \"x2\": -0.006355692507952815, \"y\": 0}, {\"x1\": 0.014578961879170849, \"x2\": 0.8107833402407814, \"y\": 0}, {\"x1\": 1.8509139199296645, \"x2\": 0.13857550961186144, \"y\": 1}, {\"x1\": 2.244344251437388, \"x2\": -0.040896268230934035, \"y\": 1}], \"data-b875e36d9a67ea393417769170283134\": [{\"x1\": -1.1214523129419445, \"x2\": 0.5771213992820253, \"y\": 0}, {\"x1\": 2.2171763883929367, \"x2\": 0.37312895798905293, \"y\": 1}, {\"x1\": 0.1815085812748144, \"x2\": 1.4817194762803294, \"y\": 0}, {\"x1\": 1.9284198382676245, \"x2\": 0.4064902780878516, \"y\": 1}, {\"x1\": 0.0829126319697506, \"x2\": 0.23772104123164198, \"y\": 0}, {\"x1\": 0.5724543061411862, \"x2\": 0.16676403864242764, \"y\": 1}, {\"x1\": -0.4295083653284846, \"x2\": 1.8006030391129304, \"y\": 0}, {\"x1\": 1.822428213424968, \"x2\": 1.0169848906797783, \"y\": 1}, {\"x1\": 2.1830566852076467, \"x2\": 0.22216144824488865, \"y\": 1}, {\"x1\": -0.1224461730791272, \"x2\": 0.26921109573895546, \"y\": 0}, {\"x1\": 2.766710420471933, \"x2\": 1.1451160284736446, \"y\": 1}, {\"x1\": 0.563677831527381, \"x2\": 1.162024218699454, \"y\": 0}, {\"x1\": 0.09764128736353743, \"x2\": 0.7893213767142829, \"y\": 0}, {\"x1\": 0.9068617724452225, \"x2\": 0.5274722999896219, \"y\": 0}, {\"x1\": 1.2098636979631188, \"x2\": 0.33909238935945585, \"y\": 1}, {\"x1\": 0.027186707804270016, \"x2\": 0.6002359385973253, \"y\": 0}, {\"x1\": 0.04637357847816255, \"x2\": 1.3697293639651025, \"y\": 0}, {\"x1\": 0.8165424554400801, \"x2\": 1.332502689171118, \"y\": 0}, {\"x1\": 0.3605887894677964, \"x2\": 0.7032952852530313, \"y\": 0}, {\"x1\": 0.13717520631674304, \"x2\": 0.6649633209042779, \"y\": 0}, {\"x1\": 1.185558434580393, \"x2\": -0.07156565103646276, \"y\": 1}, {\"x1\": 1.4502683025437144, \"x2\": 0.17131777701348083, \"y\": 1}, {\"x1\": 1.2817013685341945, \"x2\": 0.1463183243470073, \"y\": 1}, {\"x1\": 0.3153175894410427, \"x2\": -0.08700058915904435, \"y\": 1}, {\"x1\": 2.1830566852076467, \"x2\": 0.22216144824488865, \"y\": 1}, {\"x1\": 1.8509139199296645, \"x2\": 0.13857550961186144, \"y\": 1}, {\"x1\": 0.3584865814673566, \"x2\": 1.0712300979204106, \"y\": 0}, {\"x1\": -0.47926378422137517, \"x2\": 0.8666887069686484, \"y\": 0}, {\"x1\": 0.7681341877296127, \"x2\": -0.22897098571581234, \"y\": 1}, {\"x1\": 0.8242336839713433, \"x2\": 1.3364535704949794, \"y\": 0}, {\"x1\": 0.3535229421735915, \"x2\": -0.24533230063355352, \"y\": 1}, {\"x1\": 1.1793514410615247, \"x2\": -0.21035298578162076, \"y\": 1}, {\"x1\": -0.4170018452692469, \"x2\": -0.43011651218033775, \"y\": 0}, {\"x1\": 1.9013588035409386, \"x2\": 0.2348338662934495, \"y\": 1}, {\"x1\": 0.6694869917923031, \"x2\": -0.5240695587399058, \"y\": 1}, {\"x1\": 1.5580622617473798, \"x2\": -0.18881168369237883, \"y\": 1}, {\"x1\": 0.12325040944334946, \"x2\": -0.5059460137407046, \"y\": 1}, {\"x1\": -0.8204878364531997, \"x2\": 0.14830323175476767, \"y\": 0}, {\"x1\": 0.31624290658334686, \"x2\": 1.684295531847236, \"y\": 0}, {\"x1\": 1.7074861614531496, \"x2\": 0.5596667607474829, \"y\": 1}, {\"x1\": 0.7206447937130618, \"x2\": -0.17470084727043578, \"y\": 1}, {\"x1\": 0.4203289004895593, \"x2\": 0.5028491228540909, \"y\": 0}, {\"x1\": 0.4167350151146958, \"x2\": -0.2864296703887702, \"y\": 1}, {\"x1\": 0.4492555931651103, \"x2\": -0.1591158609949001, \"y\": 1}, {\"x1\": -0.10645435130186565, \"x2\": 1.1094133150222383, \"y\": 0}, {\"x1\": 1.6762088847504057, \"x2\": -0.28640896331893007, \"y\": 1}, {\"x1\": 1.2650397393703423, \"x2\": 0.22559033370737902, \"y\": 1}, {\"x1\": 0.9859257069791756, \"x2\": 0.7182557899160881, \"y\": 0}, {\"x1\": -0.7922073493859507, \"x2\": 0.596308641092617, \"y\": 0}, {\"x1\": 1.3174849212643425, \"x2\": -0.792590968228589, \"y\": 1}, {\"x1\": -0.5412351637196819, \"x2\": 0.8205306273565576, \"y\": 0}, {\"x1\": -0.748222941526626, \"x2\": 0.6276849998372291, \"y\": 0}, {\"x1\": 1.2049591047602477, \"x2\": 0.08103394137068537, \"y\": 1}, {\"x1\": 0.15068513877296758, \"x2\": 1.7689970640138784, \"y\": 0}, {\"x1\": -0.11863663272064331, \"x2\": 0.8104624660129376, \"y\": 0}, {\"x1\": 0.0625436410860313, \"x2\": 0.2946175433452294, \"y\": 0}, {\"x1\": 0.010147815773023379, \"x2\": 0.8430577746836346, \"y\": 0}, {\"x1\": 0.08586990896574476, \"x2\": 0.4689730881876323, \"y\": 0}, {\"x1\": 0.3418936477664757, \"x2\": 0.004120409183165918, \"y\": 1}, {\"x1\": 1.6568468063862458, \"x2\": -0.19405570344891082, \"y\": 1}, {\"x1\": 0.8120385380933227, \"x2\": 0.1705799812064474, \"y\": 1}, {\"x1\": 1.3482037749613007, \"x2\": -0.2567047162970015, \"y\": 1}, {\"x1\": 1.1959421239182455, \"x2\": -0.5829547344433935, \"y\": 1}, {\"x1\": 0.7271753618123781, \"x2\": 0.7636992829647782, \"y\": 0}, {\"x1\": 0.15719457498504708, \"x2\": 0.8703580984621813, \"y\": 0}, {\"x1\": 0.47384893265575434, \"x2\": -0.3870713275752712, \"y\": 1}, {\"x1\": -0.26963989304263536, \"x2\": 1.2497008581097924, \"y\": 0}, {\"x1\": -0.6792332216283965, \"x2\": 0.20570988209808466, \"y\": 0}, {\"x1\": -0.35862410426031516, \"x2\": 0.677892324445996, \"y\": 0}, {\"x1\": 1.5713521222748588, \"x2\": -0.7165115413316526, \"y\": 1}, {\"x1\": -0.6493415866152267, \"x2\": -0.3497437008264036, \"y\": 0}, {\"x1\": 0.024956202988846654, \"x2\": 0.26660777263060553, \"y\": 0}, {\"x1\": 1.6179417515027876, \"x2\": -0.41852068443856877, \"y\": 1}, {\"x1\": -0.4536668253660275, \"x2\": 0.5502815526129721, \"y\": 0}, {\"x1\": 0.1806177155832829, \"x2\": 1.2837936499239393, \"y\": 0}, {\"x1\": 0.9214684243670545, \"x2\": -0.4603121047919757, \"y\": 1}, {\"x1\": 0.8417748493896738, \"x2\": -0.13839301125104586, \"y\": 1}, {\"x1\": -1.3738885897067505, \"x2\": -0.32704458912917267, \"y\": 0}, {\"x1\": 2.4134672795099936, \"x2\": 0.05130620582388007, \"y\": 1}, {\"x1\": 0.1978036866665508, \"x2\": 1.1511721176361687, \"y\": 0}, {\"x1\": 1.119645523099214, \"x2\": 0.18748021880262888, \"y\": 1}, {\"x1\": 1.0628799555754396, \"x2\": -0.9973902404858621, \"y\": 1}, {\"x1\": 1.0821161688945855, \"x2\": 0.9830963859626805, \"y\": 0}, {\"x1\": -0.30373937036812315, \"x2\": 1.2757430243030443, \"y\": 0}, {\"x1\": 1.822428213424968, \"x2\": 1.0169848906797783, \"y\": 1}, {\"x1\": -0.886283259989697, \"x2\": 0.4313268730227314, \"y\": 0}, {\"x1\": -0.8875840903983732, \"x2\": -0.1342959471896661, \"y\": 0}, {\"x1\": 1.2718361491961052, \"x2\": -0.24503727964607472, \"y\": 1}, {\"x1\": 2.0932439139695056, \"x2\": 0.35798528691522435, \"y\": 1}, {\"x1\": 0.8417748493896738, \"x2\": -0.13839301125104586, \"y\": 1}, {\"x1\": 1.2798757073714695, \"x2\": -0.44078550976737585, \"y\": 1}, {\"x1\": 1.0936649951642112, \"x2\": -0.8628593321664593, \"y\": 1}, {\"x1\": 1.0081207733520543, \"x2\": 0.4691063115240541, \"y\": 1}, {\"x1\": 0.44938930428442697, \"x2\": 0.5630001954755828, \"y\": 0}, {\"x1\": 1.1268555088182026, \"x2\": -0.4088576201130024, \"y\": 1}, {\"x1\": 1.1594181276148263, \"x2\": -0.8233646593181576, \"y\": 1}, {\"x1\": -1.1865806105500702, \"x2\": -0.006355692507952815, \"y\": 0}, {\"x1\": 0.014578961879170849, \"x2\": 0.8107833402407814, \"y\": 0}, {\"x1\": 1.8509139199296645, \"x2\": 0.13857550961186144, \"y\": 1}, {\"x1\": 2.244344251437388, \"x2\": -0.040896268230934035, \"y\": 1}], \"data-c8bb1178215e6f6618b84b1254eff373\": [{\"x1\": 0.1508170044693823, \"x2\": -0.29904729616298, \"y\": 1}, {\"x1\": 0.5386534810339266, \"x2\": 0.24836464747656029, \"y\": 0}, {\"x1\": -0.9072522837552361, \"x2\": 0.11587234737803387, \"y\": 0}, {\"x1\": 2.125647704193807, \"x2\": 0.38826733334919283, \"y\": 1}, {\"x1\": -1.3786149418925118, \"x2\": 0.4752497951564708, \"y\": 0}, {\"x1\": 1.9430149655017994, \"x2\": -0.016987123458219164, \"y\": 1}, {\"x1\": -1.439195421625214, \"x2\": 0.4160935160183533, \"y\": 0}, {\"x1\": 0.5752515791811414, \"x2\": -0.12559978625551377, \"y\": 1}, {\"x1\": -0.35862410426031516, \"x2\": 0.677892324445996, \"y\": 1}, {\"x1\": 1.0938300414708726, \"x2\": -0.37511413974628854, \"y\": 1}, {\"x1\": 1.1773734561510583, \"x2\": -0.7900915703372384, \"y\": 1}, {\"x1\": 1.9430149655017994, \"x2\": -0.016987123458219164, \"y\": 1}, {\"x1\": 0.16179319988922058, \"x2\": 0.4799103757452946, \"y\": 0}, {\"x1\": 1.8658391206914904, \"x2\": -0.33883536248969953, \"y\": 1}, {\"x1\": 1.0910899867450798, \"x2\": 0.18474208760408362, \"y\": 1}, {\"x1\": 0.7314693279965907, \"x2\": -0.36365874036580925, \"y\": 1}, {\"x1\": -0.9197872110232514, \"x2\": 0.8064732682443846, \"y\": 0}, {\"x1\": 2.766710420471933, \"x2\": 1.1451160284736446, \"y\": 1}, {\"x1\": 0.5859084937490067, \"x2\": 0.11103363240538988, \"y\": 1}, {\"x1\": 1.130929690449092, \"x2\": 0.5953898655944212, \"y\": 0}, {\"x1\": 1.0938300414708726, \"x2\": -0.37511413974628854, \"y\": 1}, {\"x1\": 1.6568468063862458, \"x2\": -0.19405570344891082, \"y\": 1}, {\"x1\": 0.3219095259391086, \"x2\": -0.08487623916673881, \"y\": 1}, {\"x1\": 0.2894865828352445, \"x2\": -0.8763328151761136, \"y\": 1}, {\"x1\": 0.043601488839673824, \"x2\": 1.5940703847726911, \"y\": 0}, {\"x1\": 0.27279941920126577, \"x2\": 0.37133675838989677, \"y\": 1}, {\"x1\": 1.2934236343510317, \"x2\": -0.2847968659073088, \"y\": 0}, {\"x1\": 0.9919913133723198, \"x2\": -0.4306368882309642, \"y\": 1}, {\"x1\": 0.026386885414378197, \"x2\": -0.2164897981979541, \"y\": 1}, {\"x1\": 2.032873287612732, \"x2\": 0.6863541771303304, \"y\": 1}, {\"x1\": 2.475939254799286, \"x2\": 0.39160896968885156, \"y\": 1}, {\"x1\": -0.4307829440180967, \"x2\": 0.2168019970342437, \"y\": 1}, {\"x1\": 2.3337135388017263, \"x2\": -0.6190748156854093, \"y\": 1}, {\"x1\": 0.8773287924535, \"x2\": 0.018727831050741287, \"y\": 0}, {\"x1\": 0.5086758568614096, \"x2\": -0.6994255574561611, \"y\": 1}, {\"x1\": 1.1599829147891318, \"x2\": -0.6622822044741224, \"y\": 1}, {\"x1\": 0.9433963848599026, \"x2\": -0.35928051603946665, \"y\": 1}, {\"x1\": 0.37676762985881235, \"x2\": 0.5440068363629692, \"y\": 0}, {\"x1\": 0.41095082961948015, \"x2\": 0.3474656316903899, \"y\": 0}, {\"x1\": -0.2798553705436868, \"x2\": 0.7893548357856056, \"y\": 0}, {\"x1\": 0.09685656091478345, \"x2\": 1.4514633270399258, \"y\": 0}, {\"x1\": 0.7681341877296127, \"x2\": -0.22897098571581234, \"y\": 1}, {\"x1\": -0.13985121923222282, \"x2\": 0.016555217254182034, \"y\": 1}, {\"x1\": 0.9260235117210432, \"x2\": 1.0511528224762092, \"y\": 0}, {\"x1\": -0.35862410426031516, \"x2\": 0.677892324445996, \"y\": 1}, {\"x1\": 0.9761454370299008, \"x2\": 0.6703309965558722, \"y\": 0}, {\"x1\": 0.7947759395058955, \"x2\": 0.2836857793137957, \"y\": 0}, {\"x1\": -0.18626012301530379, \"x2\": -0.07734302134292509, \"y\": 1}, {\"x1\": 0.12521766440341148, \"x2\": -0.6474112948885145, \"y\": 1}, {\"x1\": 0.5488550336443506, \"x2\": -0.24940218756885954, \"y\": 1}, {\"x1\": -0.6605362299339899, \"x2\": 0.48691497981938214, \"y\": 0}, {\"x1\": 0.2935235272250062, \"x2\": -0.6427823988598412, \"y\": 1}, {\"x1\": 1.0430878544730757, \"x2\": 0.48309367229256384, \"y\": 1}, {\"x1\": 0.10136686929801351, \"x2\": 0.4445809510696456, \"y\": 1}, {\"x1\": -1.2941727552063338, \"x2\": 0.34798415393702165, \"y\": 0}, {\"x1\": 0.8417748493896738, \"x2\": -0.13839301125104586, \"y\": 0}, {\"x1\": 0.6968356718585569, \"x2\": -0.12769149450943895, \"y\": 1}, {\"x1\": 1.2197995052169142, \"x2\": 0.0007123481988001237, \"y\": 1}, {\"x1\": -0.748222941526626, \"x2\": 0.6276849998372291, \"y\": 0}, {\"x1\": -0.48064423329146333, \"x2\": 0.7948389124862898, \"y\": 0}, {\"x1\": 0.2935235272250062, \"x2\": -0.6427823988598412, \"y\": 1}, {\"x1\": 1.9047102958150102, \"x2\": 0.5190885493347817, \"y\": 1}, {\"x1\": 1.875948185957079, \"x2\": -0.22300391416442322, \"y\": 1}, {\"x1\": -0.4308286057199112, \"x2\": -0.48320837755182033, \"y\": 1}, {\"x1\": 0.32834923541952005, \"x2\": 0.92879064195398, \"y\": 0}, {\"x1\": -0.6493415866152267, \"x2\": -0.3497437008264036, \"y\": 1}, {\"x1\": 0.685292236512109, \"x2\": -0.2166450015495193, \"y\": 1}, {\"x1\": 0.8504882073705148, \"x2\": -0.4357771117196964, \"y\": 0}, {\"x1\": 0.3418936477664757, \"x2\": 0.004120409183165918, \"y\": 1}, {\"x1\": 0.42357090287300025, \"x2\": 1.398005869046587, \"y\": 0}, {\"x1\": 0.8893633773869228, \"x2\": 0.4496188545315719, \"y\": 0}, {\"x1\": 0.3866625854430427, \"x2\": 0.8844598901607409, \"y\": 0}, {\"x1\": 0.9088702045383875, \"x2\": -0.7714007411072699, \"y\": 1}, {\"x1\": 0.30898118690523435, \"x2\": -0.12151909216017515, \"y\": 1}, {\"x1\": -0.38376527147014033, \"x2\": 0.5647576880800439, \"y\": 1}, {\"x1\": 1.1261647899438685, \"x2\": 0.24428537816453705, \"y\": 0}, {\"x1\": 1.4863858794060045, \"x2\": 0.8760214627573373, \"y\": 1}, {\"x1\": 0.2954839798904927, \"x2\": -0.15393832561310578, \"y\": 1}, {\"x1\": 0.06783367793593542, \"x2\": 0.826517399144753, \"y\": 0}, {\"x1\": -0.4535606995765774, \"x2\": 0.01913915102715949, \"y\": 0}, {\"x1\": -1.1455978047480675, \"x2\": 0.7327157437111158, \"y\": 0}, {\"x1\": 0.9303767672327892, \"x2\": -0.06879531269874697, \"y\": 1}, {\"x1\": 0.8481663560028515, \"x2\": 1.0677236647533745, \"y\": 0}, {\"x1\": 1.513542728660238, \"x2\": -0.6004073505549593, \"y\": 1}, {\"x1\": -0.4867331378532466, \"x2\": 0.4447755587460159, \"y\": 0}, {\"x1\": 0.29857503472538793, \"x2\": 0.8057664260215353, \"y\": 0}, {\"x1\": 1.6907438436426308, \"x2\": 0.1830197999553178, \"y\": 1}, {\"x1\": 1.295934760810769, \"x2\": -0.4257896049985957, \"y\": 1}, {\"x1\": -0.025178738366085307, \"x2\": 0.8890617217621732, \"y\": 0}, {\"x1\": 0.9591927610220812, \"x2\": -0.21887505391468903, \"y\": 1}, {\"x1\": 0.5724543061411862, \"x2\": 0.16676403864242764, \"y\": 0}, {\"x1\": 0.021147493689057495, \"x2\": 0.1100514272163477, \"y\": 1}, {\"x1\": 1.8994326113316344, \"x2\": -0.6789544356838711, \"y\": 1}, {\"x1\": 1.5501378810526538, \"x2\": 0.23538019545988448, \"y\": 1}, {\"x1\": 1.1649142118770315, \"x2\": 0.006585062395465968, \"y\": 1}, {\"x1\": 0.11519716075713174, \"x2\": -0.1897385227782506, \"y\": 1}, {\"x1\": 0.03216716561120084, \"x2\": 0.6272765822422461, \"y\": 0}, {\"x1\": 1.1110808395320289, \"x2\": 0.7292065256945433, \"y\": 0}, {\"x1\": -0.1493728201486012, \"x2\": 0.01001799335614656, \"y\": 0}, {\"x1\": -1.232537483014998, \"x2\": 1.0696789387061147, \"y\": 0}], \"data-887f42bd9902971f4010f32a94a48acf\": [{\"x1\": 0.1508170044693823, \"x2\": -0.29904729616298, \"y\": 1}, {\"x1\": 0.5386534810339266, \"x2\": 0.24836464747656029, \"y\": 1}, {\"x1\": -0.9072522837552361, \"x2\": 0.11587234737803387, \"y\": 0}, {\"x1\": 2.125647704193807, \"x2\": 0.38826733334919283, \"y\": 1}, {\"x1\": -1.3786149418925118, \"x2\": 0.4752497951564708, \"y\": 0}, {\"x1\": 1.9430149655017994, \"x2\": -0.016987123458219164, \"y\": 1}, {\"x1\": -1.439195421625214, \"x2\": 0.4160935160183533, \"y\": 0}, {\"x1\": 0.5752515791811414, \"x2\": -0.12559978625551377, \"y\": 1}, {\"x1\": -0.35862410426031516, \"x2\": 0.677892324445996, \"y\": 0}, {\"x1\": 1.0938300414708726, \"x2\": -0.37511413974628854, \"y\": 1}, {\"x1\": 1.1773734561510583, \"x2\": -0.7900915703372384, \"y\": 1}, {\"x1\": 1.9430149655017994, \"x2\": -0.016987123458219164, \"y\": 1}, {\"x1\": 0.16179319988922058, \"x2\": 0.4799103757452946, \"y\": 0}, {\"x1\": 1.8658391206914904, \"x2\": -0.33883536248969953, \"y\": 1}, {\"x1\": 1.0910899867450798, \"x2\": 0.18474208760408362, \"y\": 1}, {\"x1\": 0.7314693279965907, \"x2\": -0.36365874036580925, \"y\": 1}, {\"x1\": -0.9197872110232514, \"x2\": 0.8064732682443846, \"y\": 0}, {\"x1\": 2.766710420471933, \"x2\": 1.1451160284736446, \"y\": 1}, {\"x1\": 0.5859084937490067, \"x2\": 0.11103363240538988, \"y\": 1}, {\"x1\": 1.130929690449092, \"x2\": 0.5953898655944212, \"y\": 0}, {\"x1\": 1.0938300414708726, \"x2\": -0.37511413974628854, \"y\": 1}, {\"x1\": 1.6568468063862458, \"x2\": -0.19405570344891082, \"y\": 1}, {\"x1\": 0.3219095259391086, \"x2\": -0.08487623916673881, \"y\": 1}, {\"x1\": 0.2894865828352445, \"x2\": -0.8763328151761136, \"y\": 1}, {\"x1\": 0.043601488839673824, \"x2\": 1.5940703847726911, \"y\": 0}, {\"x1\": 0.27279941920126577, \"x2\": 0.37133675838989677, \"y\": 0}, {\"x1\": 1.2934236343510317, \"x2\": -0.2847968659073088, \"y\": 1}, {\"x1\": 0.9919913133723198, \"x2\": -0.4306368882309642, \"y\": 1}, {\"x1\": 0.026386885414378197, \"x2\": -0.2164897981979541, \"y\": 1}, {\"x1\": 2.032873287612732, \"x2\": 0.6863541771303304, \"y\": 1}, {\"x1\": 2.475939254799286, \"x2\": 0.39160896968885156, \"y\": 1}, {\"x1\": -0.4307829440180967, \"x2\": 0.2168019970342437, \"y\": 1}, {\"x1\": 2.3337135388017263, \"x2\": -0.6190748156854093, \"y\": 1}, {\"x1\": 0.8773287924535, \"x2\": 0.018727831050741287, \"y\": 1}, {\"x1\": 0.5086758568614096, \"x2\": -0.6994255574561611, \"y\": 1}, {\"x1\": 1.1599829147891318, \"x2\": -0.6622822044741224, \"y\": 1}, {\"x1\": 0.9433963848599026, \"x2\": -0.35928051603946665, \"y\": 1}, {\"x1\": 0.37676762985881235, \"x2\": 0.5440068363629692, \"y\": 0}, {\"x1\": 0.41095082961948015, \"x2\": 0.3474656316903899, \"y\": 0}, {\"x1\": -0.2798553705436868, \"x2\": 0.7893548357856056, \"y\": 0}, {\"x1\": 0.09685656091478345, \"x2\": 1.4514633270399258, \"y\": 0}, {\"x1\": 0.7681341877296127, \"x2\": -0.22897098571581234, \"y\": 1}, {\"x1\": -0.13985121923222282, \"x2\": 0.016555217254182034, \"y\": 1}, {\"x1\": 0.9260235117210432, \"x2\": 1.0511528224762092, \"y\": 0}, {\"x1\": -0.35862410426031516, \"x2\": 0.677892324445996, \"y\": 0}, {\"x1\": 0.9761454370299008, \"x2\": 0.6703309965558722, \"y\": 0}, {\"x1\": 0.7947759395058955, \"x2\": 0.2836857793137957, \"y\": 1}, {\"x1\": -0.18626012301530379, \"x2\": -0.07734302134292509, \"y\": 1}, {\"x1\": 0.12521766440341148, \"x2\": -0.6474112948885145, \"y\": 1}, {\"x1\": 0.5488550336443506, \"x2\": -0.24940218756885954, \"y\": 1}, {\"x1\": -0.6605362299339899, \"x2\": 0.48691497981938214, \"y\": 0}, {\"x1\": 0.2935235272250062, \"x2\": -0.6427823988598412, \"y\": 1}, {\"x1\": 1.0430878544730757, \"x2\": 0.48309367229256384, \"y\": 0}, {\"x1\": 0.10136686929801351, \"x2\": 0.4445809510696456, \"y\": 0}, {\"x1\": -1.2941727552063338, \"x2\": 0.34798415393702165, \"y\": 0}, {\"x1\": 0.8417748493896738, \"x2\": -0.13839301125104586, \"y\": 1}, {\"x1\": 0.6968356718585569, \"x2\": -0.12769149450943895, \"y\": 1}, {\"x1\": 1.2197995052169142, \"x2\": 0.0007123481988001237, \"y\": 1}, {\"x1\": -0.748222941526626, \"x2\": 0.6276849998372291, \"y\": 0}, {\"x1\": -0.48064423329146333, \"x2\": 0.7948389124862898, \"y\": 0}, {\"x1\": 0.2935235272250062, \"x2\": -0.6427823988598412, \"y\": 1}, {\"x1\": 1.9047102958150102, \"x2\": 0.5190885493347817, \"y\": 1}, {\"x1\": 1.875948185957079, \"x2\": -0.22300391416442322, \"y\": 1}, {\"x1\": -0.4308286057199112, \"x2\": -0.48320837755182033, \"y\": 1}, {\"x1\": 0.32834923541952005, \"x2\": 0.92879064195398, \"y\": 0}, {\"x1\": -0.6493415866152267, \"x2\": -0.3497437008264036, \"y\": 1}, {\"x1\": 0.685292236512109, \"x2\": -0.2166450015495193, \"y\": 1}, {\"x1\": 0.8504882073705148, \"x2\": -0.4357771117196964, \"y\": 1}, {\"x1\": 0.3418936477664757, \"x2\": 0.004120409183165918, \"y\": 1}, {\"x1\": 0.42357090287300025, \"x2\": 1.398005869046587, \"y\": 0}, {\"x1\": 0.8893633773869228, \"x2\": 0.4496188545315719, \"y\": 0}, {\"x1\": 0.3866625854430427, \"x2\": 0.8844598901607409, \"y\": 0}, {\"x1\": 0.9088702045383875, \"x2\": -0.7714007411072699, \"y\": 1}, {\"x1\": 0.30898118690523435, \"x2\": -0.12151909216017515, \"y\": 1}, {\"x1\": -0.38376527147014033, \"x2\": 0.5647576880800439, \"y\": 0}, {\"x1\": 1.1261647899438685, \"x2\": 0.24428537816453705, \"y\": 1}, {\"x1\": 1.4863858794060045, \"x2\": 0.8760214627573373, \"y\": 1}, {\"x1\": 0.2954839798904927, \"x2\": -0.15393832561310578, \"y\": 1}, {\"x1\": 0.06783367793593542, \"x2\": 0.826517399144753, \"y\": 0}, {\"x1\": -0.4535606995765774, \"x2\": 0.01913915102715949, \"y\": 1}, {\"x1\": -1.1455978047480675, \"x2\": 0.7327157437111158, \"y\": 0}, {\"x1\": 0.9303767672327892, \"x2\": -0.06879531269874697, \"y\": 1}, {\"x1\": 0.8481663560028515, \"x2\": 1.0677236647533745, \"y\": 0}, {\"x1\": 1.513542728660238, \"x2\": -0.6004073505549593, \"y\": 1}, {\"x1\": -0.4867331378532466, \"x2\": 0.4447755587460159, \"y\": 0}, {\"x1\": 0.29857503472538793, \"x2\": 0.8057664260215353, \"y\": 0}, {\"x1\": 1.6907438436426308, \"x2\": 0.1830197999553178, \"y\": 1}, {\"x1\": 1.295934760810769, \"x2\": -0.4257896049985957, \"y\": 1}, {\"x1\": -0.025178738366085307, \"x2\": 0.8890617217621732, \"y\": 0}, {\"x1\": 0.9591927610220812, \"x2\": -0.21887505391468903, \"y\": 1}, {\"x1\": 0.5724543061411862, \"x2\": 0.16676403864242764, \"y\": 1}, {\"x1\": 0.021147493689057495, \"x2\": 0.1100514272163477, \"y\": 1}, {\"x1\": 1.8994326113316344, \"x2\": -0.6789544356838711, \"y\": 1}, {\"x1\": 1.5501378810526538, \"x2\": 0.23538019545988448, \"y\": 1}, {\"x1\": 1.1649142118770315, \"x2\": 0.006585062395465968, \"y\": 1}, {\"x1\": 0.11519716075713174, \"x2\": -0.1897385227782506, \"y\": 1}, {\"x1\": 0.03216716561120084, \"x2\": 0.6272765822422461, \"y\": 0}, {\"x1\": 1.1110808395320289, \"x2\": 0.7292065256945433, \"y\": 0}, {\"x1\": -0.1493728201486012, \"x2\": 0.01001799335614656, \"y\": 1}, {\"x1\": -1.232537483014998, \"x2\": 1.0696789387061147, \"y\": 0}], \"data-e546bdf05e4c97b8ab46f6dee1f4a7c5\": [{\"x1\": 0.1508170044693823, \"x2\": -0.29904729616298, \"y\": 1}, {\"x1\": 0.5386534810339266, \"x2\": 0.24836464747656029, \"y\": 1}, {\"x1\": -0.9072522837552361, \"x2\": 0.11587234737803387, \"y\": 0}, {\"x1\": 2.125647704193807, \"x2\": 0.38826733334919283, \"y\": 1}, {\"x1\": -1.3786149418925118, \"x2\": 0.4752497951564708, \"y\": 0}, {\"x1\": 1.9430149655017994, \"x2\": -0.016987123458219164, \"y\": 1}, {\"x1\": -1.439195421625214, \"x2\": 0.4160935160183533, \"y\": 0}, {\"x1\": 0.5752515791811414, \"x2\": -0.12559978625551377, \"y\": 1}, {\"x1\": -0.35862410426031516, \"x2\": 0.677892324445996, \"y\": 0}, {\"x1\": 1.0938300414708726, \"x2\": -0.37511413974628854, \"y\": 1}, {\"x1\": 1.1773734561510583, \"x2\": -0.7900915703372384, \"y\": 1}, {\"x1\": 1.9430149655017994, \"x2\": -0.016987123458219164, \"y\": 1}, {\"x1\": 0.16179319988922058, \"x2\": 0.4799103757452946, \"y\": 0}, {\"x1\": 1.8658391206914904, \"x2\": -0.33883536248969953, \"y\": 1}, {\"x1\": 1.0910899867450798, \"x2\": 0.18474208760408362, \"y\": 1}, {\"x1\": 0.7314693279965907, \"x2\": -0.36365874036580925, \"y\": 1}, {\"x1\": -0.9197872110232514, \"x2\": 0.8064732682443846, \"y\": 0}, {\"x1\": 2.766710420471933, \"x2\": 1.1451160284736446, \"y\": 1}, {\"x1\": 0.5859084937490067, \"x2\": 0.11103363240538988, \"y\": 1}, {\"x1\": 1.130929690449092, \"x2\": 0.5953898655944212, \"y\": 1}, {\"x1\": 1.0938300414708726, \"x2\": -0.37511413974628854, \"y\": 1}, {\"x1\": 1.6568468063862458, \"x2\": -0.19405570344891082, \"y\": 1}, {\"x1\": 0.3219095259391086, \"x2\": -0.08487623916673881, \"y\": 1}, {\"x1\": 0.2894865828352445, \"x2\": -0.8763328151761136, \"y\": 1}, {\"x1\": 0.043601488839673824, \"x2\": 1.5940703847726911, \"y\": 0}, {\"x1\": 0.27279941920126577, \"x2\": 0.37133675838989677, \"y\": 1}, {\"x1\": 1.2934236343510317, \"x2\": -0.2847968659073088, \"y\": 1}, {\"x1\": 0.9919913133723198, \"x2\": -0.4306368882309642, \"y\": 1}, {\"x1\": 0.026386885414378197, \"x2\": -0.2164897981979541, \"y\": 1}, {\"x1\": 2.032873287612732, \"x2\": 0.6863541771303304, \"y\": 1}, {\"x1\": 2.475939254799286, \"x2\": 0.39160896968885156, \"y\": 1}, {\"x1\": -0.4307829440180967, \"x2\": 0.2168019970342437, \"y\": 0}, {\"x1\": 2.3337135388017263, \"x2\": -0.6190748156854093, \"y\": 1}, {\"x1\": 0.8773287924535, \"x2\": 0.018727831050741287, \"y\": 1}, {\"x1\": 0.5086758568614096, \"x2\": -0.6994255574561611, \"y\": 1}, {\"x1\": 1.1599829147891318, \"x2\": -0.6622822044741224, \"y\": 1}, {\"x1\": 0.9433963848599026, \"x2\": -0.35928051603946665, \"y\": 1}, {\"x1\": 0.37676762985881235, \"x2\": 0.5440068363629692, \"y\": 0}, {\"x1\": 0.41095082961948015, \"x2\": 0.3474656316903899, \"y\": 1}, {\"x1\": -0.2798553705436868, \"x2\": 0.7893548357856056, \"y\": 0}, {\"x1\": 0.09685656091478345, \"x2\": 1.4514633270399258, \"y\": 0}, {\"x1\": 0.7681341877296127, \"x2\": -0.22897098571581234, \"y\": 1}, {\"x1\": -0.13985121923222282, \"x2\": 0.016555217254182034, \"y\": 1}, {\"x1\": 0.9260235117210432, \"x2\": 1.0511528224762092, \"y\": 0}, {\"x1\": -0.35862410426031516, \"x2\": 0.677892324445996, \"y\": 0}, {\"x1\": 0.9761454370299008, \"x2\": 0.6703309965558722, \"y\": 1}, {\"x1\": 0.7947759395058955, \"x2\": 0.2836857793137957, \"y\": 1}, {\"x1\": -0.18626012301530379, \"x2\": -0.07734302134292509, \"y\": 1}, {\"x1\": 0.12521766440341148, \"x2\": -0.6474112948885145, \"y\": 1}, {\"x1\": 0.5488550336443506, \"x2\": -0.24940218756885954, \"y\": 1}, {\"x1\": -0.6605362299339899, \"x2\": 0.48691497981938214, \"y\": 0}, {\"x1\": 0.2935235272250062, \"x2\": -0.6427823988598412, \"y\": 1}, {\"x1\": 1.0430878544730757, \"x2\": 0.48309367229256384, \"y\": 1}, {\"x1\": 0.10136686929801351, \"x2\": 0.4445809510696456, \"y\": 0}, {\"x1\": -1.2941727552063338, \"x2\": 0.34798415393702165, \"y\": 0}, {\"x1\": 0.8417748493896738, \"x2\": -0.13839301125104586, \"y\": 1}, {\"x1\": 0.6968356718585569, \"x2\": -0.12769149450943895, \"y\": 1}, {\"x1\": 1.2197995052169142, \"x2\": 0.0007123481988001237, \"y\": 1}, {\"x1\": -0.748222941526626, \"x2\": 0.6276849998372291, \"y\": 0}, {\"x1\": -0.48064423329146333, \"x2\": 0.7948389124862898, \"y\": 0}, {\"x1\": 0.2935235272250062, \"x2\": -0.6427823988598412, \"y\": 1}, {\"x1\": 1.9047102958150102, \"x2\": 0.5190885493347817, \"y\": 1}, {\"x1\": 1.875948185957079, \"x2\": -0.22300391416442322, \"y\": 1}, {\"x1\": -0.4308286057199112, \"x2\": -0.48320837755182033, \"y\": 1}, {\"x1\": 0.32834923541952005, \"x2\": 0.92879064195398, \"y\": 0}, {\"x1\": -0.6493415866152267, \"x2\": -0.3497437008264036, \"y\": 1}, {\"x1\": 0.685292236512109, \"x2\": -0.2166450015495193, \"y\": 1}, {\"x1\": 0.8504882073705148, \"x2\": -0.4357771117196964, \"y\": 1}, {\"x1\": 0.3418936477664757, \"x2\": 0.004120409183165918, \"y\": 1}, {\"x1\": 0.42357090287300025, \"x2\": 1.398005869046587, \"y\": 0}, {\"x1\": 0.8893633773869228, \"x2\": 0.4496188545315719, \"y\": 1}, {\"x1\": 0.3866625854430427, \"x2\": 0.8844598901607409, \"y\": 0}, {\"x1\": 0.9088702045383875, \"x2\": -0.7714007411072699, \"y\": 1}, {\"x1\": 0.30898118690523435, \"x2\": -0.12151909216017515, \"y\": 1}, {\"x1\": -0.38376527147014033, \"x2\": 0.5647576880800439, \"y\": 0}, {\"x1\": 1.1261647899438685, \"x2\": 0.24428537816453705, \"y\": 1}, {\"x1\": 1.4863858794060045, \"x2\": 0.8760214627573373, \"y\": 1}, {\"x1\": 0.2954839798904927, \"x2\": -0.15393832561310578, \"y\": 1}, {\"x1\": 0.06783367793593542, \"x2\": 0.826517399144753, \"y\": 0}, {\"x1\": -0.4535606995765774, \"x2\": 0.01913915102715949, \"y\": 1}, {\"x1\": -1.1455978047480675, \"x2\": 0.7327157437111158, \"y\": 0}, {\"x1\": 0.9303767672327892, \"x2\": -0.06879531269874697, \"y\": 1}, {\"x1\": 0.8481663560028515, \"x2\": 1.0677236647533745, \"y\": 0}, {\"x1\": 1.513542728660238, \"x2\": -0.6004073505549593, \"y\": 1}, {\"x1\": -0.4867331378532466, \"x2\": 0.4447755587460159, \"y\": 0}, {\"x1\": 0.29857503472538793, \"x2\": 0.8057664260215353, \"y\": 0}, {\"x1\": 1.6907438436426308, \"x2\": 0.1830197999553178, \"y\": 1}, {\"x1\": 1.295934760810769, \"x2\": -0.4257896049985957, \"y\": 1}, {\"x1\": -0.025178738366085307, \"x2\": 0.8890617217621732, \"y\": 0}, {\"x1\": 0.9591927610220812, \"x2\": -0.21887505391468903, \"y\": 1}, {\"x1\": 0.5724543061411862, \"x2\": 0.16676403864242764, \"y\": 1}, {\"x1\": 0.021147493689057495, \"x2\": 0.1100514272163477, \"y\": 1}, {\"x1\": 1.8994326113316344, \"x2\": -0.6789544356838711, \"y\": 1}, {\"x1\": 1.5501378810526538, \"x2\": 0.23538019545988448, \"y\": 1}, {\"x1\": 1.1649142118770315, \"x2\": 0.006585062395465968, \"y\": 1}, {\"x1\": 0.11519716075713174, \"x2\": -0.1897385227782506, \"y\": 1}, {\"x1\": 0.03216716561120084, \"x2\": 0.6272765822422461, \"y\": 0}, {\"x1\": 1.1110808395320289, \"x2\": 0.7292065256945433, \"y\": 1}, {\"x1\": -0.1493728201486012, \"x2\": 0.01001799335614656, \"y\": 1}, {\"x1\": -1.232537483014998, \"x2\": 1.0696789387061147, \"y\": 0}], \"data-62a2a78f6a1af51de9fb0e8d60744a6a\": [{\"x1\": 0.4219151200234848, \"x2\": 0.6964754791903494, \"y\": 0}, {\"x1\": -0.3104016224343133, \"x2\": 0.04587660752010435, \"y\": 1}, {\"x1\": 1.6182627762110882, \"x2\": -0.12487059143529991, \"y\": 1}, {\"x1\": 0.4202642462598922, \"x2\": 1.1834127099728549, \"y\": 0}, {\"x1\": 0.9421594657356849, \"x2\": 0.008695663842489475, \"y\": 0}, {\"x1\": 0.48578887136170884, \"x2\": 0.7594898743122389, \"y\": 0}, {\"x1\": 0.06783367793593542, \"x2\": 0.826517399144753, \"y\": 0}, {\"x1\": 0.7137636076227016, \"x2\": -0.23090821890267185, \"y\": 1}, {\"x1\": -0.6908374125396922, \"x2\": 0.9877007098961625, \"y\": 0}, {\"x1\": 0.4492555931651103, \"x2\": -0.1591158609949001, \"y\": 1}, {\"x1\": -1.424097020025323, \"x2\": 0.286693267027878, \"y\": 0}, {\"x1\": 1.0355057937604886, \"x2\": 0.9788246030145802, \"y\": 0}, {\"x1\": -0.21015167608111418, \"x2\": 0.508150902026852, \"y\": 0}, {\"x1\": 0.42278916512172093, \"x2\": 0.44877642845115684, \"y\": 0}, {\"x1\": -0.7616624259842597, \"x2\": 0.46991850009171326, \"y\": 0}, {\"x1\": -1.224555293050595, \"x2\": 0.6110846613515349, \"y\": 0}, {\"x1\": 0.056811086742753064, \"x2\": 1.752092832085081, \"y\": 0}, {\"x1\": 0.3219095259391086, \"x2\": -0.08487623916673881, \"y\": 1}, {\"x1\": 0.3330867880330651, \"x2\": 0.5316874260987811, \"y\": 0}, {\"x1\": 0.6173082522740525, \"x2\": -0.2920620399448659, \"y\": 0}, {\"x1\": -0.7734948327832605, \"x2\": 1.1234339552079484, \"y\": 0}, {\"x1\": 1.332360720175756, \"x2\": -0.1773193041796437, \"y\": 1}, {\"x1\": -0.8376676141672794, \"x2\": -0.876793437012997, \"y\": 0}, {\"x1\": 1.681035626449478, \"x2\": -0.8139870147622721, \"y\": 1}, {\"x1\": 0.862391769935023, \"x2\": 0.22767792621920208, \"y\": 0}, {\"x1\": 0.44772106054294136, \"x2\": -0.5235886582404407, \"y\": 1}, {\"x1\": 0.570973893394045, \"x2\": 0.41842120091292534, \"y\": 1}, {\"x1\": 0.3019052730501386, \"x2\": -0.37396857931117183, \"y\": 1}, {\"x1\": 1.4628600945903774, \"x2\": 0.36304881307380854, \"y\": 1}, {\"x1\": 1.5978739640397042, \"x2\": -0.6988293177148996, \"y\": 1}, {\"x1\": 0.7584193223341218, \"x2\": -0.4205550426960587, \"y\": 1}, {\"x1\": 1.4359959695692037, \"x2\": 0.306754026682925, \"y\": 0}, {\"x1\": -0.2566700687827471, \"x2\": 1.195389020854052, \"y\": 0}, {\"x1\": 1.5972173395590257, \"x2\": -0.17637544428812194, \"y\": 1}, {\"x1\": -1.5788036873175775, \"x2\": 0.38846893643291547, \"y\": 0}, {\"x1\": 0.2258688805037703, \"x2\": 0.4024707708571623, \"y\": 0}, {\"x1\": 0.6954315174060385, \"x2\": -0.1500508314288861, \"y\": 0}, {\"x1\": 1.6074541557898823, \"x2\": -0.3831278101265311, \"y\": 1}, {\"x1\": -0.19490692479987926, \"x2\": -1.1426185642638504, \"y\": 1}, {\"x1\": 1.541055059309552, \"x2\": -0.149084682873793, \"y\": 1}, {\"x1\": 1.3963156616704633, \"x2\": -0.05124759110271518, \"y\": 1}, {\"x1\": 1.0821161688945855, \"x2\": 0.9830963859626805, \"y\": 0}, {\"x1\": 0.3493805839576305, \"x2\": 0.830546903131715, \"y\": 0}, {\"x1\": 0.3030540483338083, \"x2\": 0.4172527207016671, \"y\": 1}, {\"x1\": 0.32288410826683067, \"x2\": -0.07972401508159879, \"y\": 1}, {\"x1\": 0.06187463570029228, \"x2\": 1.2402158262171543, \"y\": 0}, {\"x1\": 0.6682851958498224, \"x2\": 0.5385252827790488, \"y\": 0}, {\"x1\": 1.4628600945903774, \"x2\": 0.36304881307380854, \"y\": 1}, {\"x1\": -0.5565048060755899, \"x2\": 0.6785194792401084, \"y\": 0}, {\"x1\": -0.31051556833342886, \"x2\": 0.6966088643227756, \"y\": 0}, {\"x1\": 0.7584193223341218, \"x2\": -0.4205550426960587, \"y\": 1}, {\"x1\": 1.5919968192427878, \"x2\": 0.2941733939295096, \"y\": 1}, {\"x1\": -0.48638697346650506, \"x2\": 1.5042784083433016, \"y\": 0}, {\"x1\": 0.5674352310324233, \"x2\": -0.02450808903848639, \"y\": 0}, {\"x1\": 0.3796963696157156, \"x2\": 0.07133711950168675, \"y\": 1}, {\"x1\": -0.4892999168422813, \"x2\": 0.6438615830308105, \"y\": 0}, {\"x1\": -0.4867331378532466, \"x2\": 0.4447755587460159, \"y\": 0}, {\"x1\": 0.12521766440341148, \"x2\": -0.6474112948885145, \"y\": 1}, {\"x1\": 1.459847267030204, \"x2\": 0.15664839731895844, \"y\": 0}, {\"x1\": 0.94407011388341, \"x2\": 0.5339531168908073, \"y\": 0}, {\"x1\": 0.3493805839576305, \"x2\": 0.830546903131715, \"y\": 0}, {\"x1\": 2.053190454197908, \"x2\": 0.24197147404004324, \"y\": 1}, {\"x1\": 1.6907438436426308, \"x2\": 0.1830197999553178, \"y\": 1}, {\"x1\": 2.184192029064348, \"x2\": -0.7973086771120264, \"y\": 1}, {\"x1\": 0.4167350151146958, \"x2\": -0.2864296703887702, \"y\": 1}, {\"x1\": 2.7998518044530893, \"x2\": -0.16208442077212293, \"y\": 1}, {\"x1\": -0.489732351581158, \"x2\": 0.26215123277914115, \"y\": 0}, {\"x1\": 1.023877323781193, \"x2\": 0.5442901821047876, \"y\": 0}, {\"x1\": 0.7576107730591097, \"x2\": 0.6408564230325512, \"y\": 0}, {\"x1\": 1.5683772791260662, \"x2\": -0.46505767440235957, \"y\": 1}, {\"x1\": -0.6514944493433559, \"x2\": 1.1658331645389803, \"y\": 0}, {\"x1\": 0.0571915725502489, \"x2\": -0.4005535031598062, \"y\": 1}, {\"x1\": 0.8165424554400801, \"x2\": 1.332502689171118, \"y\": 0}, {\"x1\": 1.6046292283961214, \"x2\": -0.038440174877653444, \"y\": 1}, {\"x1\": -0.05922477892820022, \"x2\": 1.4562437793461522, \"y\": 0}, {\"x1\": -0.14582290898879008, \"x2\": -0.742734389863991, \"y\": 1}, {\"x1\": 1.642905074897431, \"x2\": 0.06701561040217047, \"y\": 1}, {\"x1\": -1.4206253924790475, \"x2\": 0.4052136113863849, \"y\": 0}, {\"x1\": 0.9942293467004215, \"x2\": -0.6963690234577687, \"y\": 1}, {\"x1\": 0.7038353083363637, \"x2\": 0.5520562378643692, \"y\": 0}, {\"x1\": 1.3675307118163778, \"x2\": -0.052597944011129855, \"y\": 1}, {\"x1\": 1.0219643093857127, \"x2\": 0.6204365265593892, \"y\": 0}, {\"x1\": -0.15731007342140552, \"x2\": 0.2645852625237317, \"y\": 1}, {\"x1\": 1.098295241171436, \"x2\": -0.489669634181511, \"y\": 1}, {\"x1\": -0.5220831374526558, \"x2\": -0.021237111742003434, \"y\": 0}, {\"x1\": 0.6620500244345991, \"x2\": -0.3913302464256859, \"y\": 1}, {\"x1\": 1.541055059309552, \"x2\": -0.149084682873793, \"y\": 1}, {\"x1\": 0.42356501812437586, \"x2\": 0.27659119789104625, \"y\": 1}, {\"x1\": -0.6879728858516575, \"x2\": 0.06089849133828085, \"y\": 0}, {\"x1\": 0.7227545288902637, \"x2\": -0.3623091717223068, \"y\": 1}, {\"x1\": 0.08725582536215004, \"x2\": 1.2524273593153914, \"y\": 0}, {\"x1\": 0.6028828554244205, \"x2\": -0.5296413310411998, \"y\": 1}, {\"x1\": -0.9108449652918722, \"x2\": 0.27065342035507545, \"y\": 0}, {\"x1\": -0.8625405610577368, \"x2\": 0.16786737452902986, \"y\": 0}, {\"x1\": -1.2174760544881877, \"x2\": 0.7740861117445234, \"y\": 0}, {\"x1\": 0.09300378979250307, \"x2\": 1.088602836291468, \"y\": 0}, {\"x1\": 1.178256016599852, \"x2\": 0.40431617458817937, \"y\": 0}, {\"x1\": 1.7586199090109642, \"x2\": 0.3720227524837024, \"y\": 1}, {\"x1\": 0.6384795898808636, \"x2\": -0.48369657503119295, \"y\": 1}, {\"x1\": 1.0865868445865743, \"x2\": -0.7590149337696609, \"y\": 1}], \"data-ac9ae66e1911c614b05369759cfd4be0\": [{\"x1\": 0.4219151200234848, \"x2\": 0.6964754791903494, \"y\": 0}, {\"x1\": -0.3104016224343133, \"x2\": 0.04587660752010435, \"y\": 0}, {\"x1\": 1.6182627762110882, \"x2\": -0.12487059143529991, \"y\": 1}, {\"x1\": 0.4202642462598922, \"x2\": 1.1834127099728549, \"y\": 0}, {\"x1\": 0.9421594657356849, \"x2\": 0.008695663842489475, \"y\": 1}, {\"x1\": 0.48578887136170884, \"x2\": 0.7594898743122389, \"y\": 0}, {\"x1\": 0.06783367793593542, \"x2\": 0.826517399144753, \"y\": 0}, {\"x1\": 0.7137636076227016, \"x2\": -0.23090821890267185, \"y\": 1}, {\"x1\": -0.6908374125396922, \"x2\": 0.9877007098961625, \"y\": 0}, {\"x1\": 0.4492555931651103, \"x2\": -0.1591158609949001, \"y\": 1}, {\"x1\": -1.424097020025323, \"x2\": 0.286693267027878, \"y\": 0}, {\"x1\": 1.0355057937604886, \"x2\": 0.9788246030145802, \"y\": 0}, {\"x1\": -0.21015167608111418, \"x2\": 0.508150902026852, \"y\": 0}, {\"x1\": 0.42278916512172093, \"x2\": 0.44877642845115684, \"y\": 0}, {\"x1\": -0.7616624259842597, \"x2\": 0.46991850009171326, \"y\": 0}, {\"x1\": -1.224555293050595, \"x2\": 0.6110846613515349, \"y\": 0}, {\"x1\": 0.056811086742753064, \"x2\": 1.752092832085081, \"y\": 0}, {\"x1\": 0.3219095259391086, \"x2\": -0.08487623916673881, \"y\": 1}, {\"x1\": 0.3330867880330651, \"x2\": 0.5316874260987811, \"y\": 0}, {\"x1\": 0.6173082522740525, \"x2\": -0.2920620399448659, \"y\": 1}, {\"x1\": -0.7734948327832605, \"x2\": 1.1234339552079484, \"y\": 0}, {\"x1\": 1.332360720175756, \"x2\": -0.1773193041796437, \"y\": 1}, {\"x1\": -0.8376676141672794, \"x2\": -0.876793437012997, \"y\": 1}, {\"x1\": 1.681035626449478, \"x2\": -0.8139870147622721, \"y\": 1}, {\"x1\": 0.862391769935023, \"x2\": 0.22767792621920208, \"y\": 0}, {\"x1\": 0.44772106054294136, \"x2\": -0.5235886582404407, \"y\": 1}, {\"x1\": 0.570973893394045, \"x2\": 0.41842120091292534, \"y\": 0}, {\"x1\": 0.3019052730501386, \"x2\": -0.37396857931117183, \"y\": 1}, {\"x1\": 1.4628600945903774, \"x2\": 0.36304881307380854, \"y\": 1}, {\"x1\": 1.5978739640397042, \"x2\": -0.6988293177148996, \"y\": 1}, {\"x1\": 0.7584193223341218, \"x2\": -0.4205550426960587, \"y\": 1}, {\"x1\": 1.4359959695692037, \"x2\": 0.306754026682925, \"y\": 1}, {\"x1\": -0.2566700687827471, \"x2\": 1.195389020854052, \"y\": 0}, {\"x1\": 1.5972173395590257, \"x2\": -0.17637544428812194, \"y\": 1}, {\"x1\": -1.5788036873175775, \"x2\": 0.38846893643291547, \"y\": 0}, {\"x1\": 0.2258688805037703, \"x2\": 0.4024707708571623, \"y\": 0}, {\"x1\": 0.6954315174060385, \"x2\": -0.1500508314288861, \"y\": 1}, {\"x1\": 1.6074541557898823, \"x2\": -0.3831278101265311, \"y\": 1}, {\"x1\": -0.19490692479987926, \"x2\": -1.1426185642638504, \"y\": 1}, {\"x1\": 1.541055059309552, \"x2\": -0.149084682873793, \"y\": 1}, {\"x1\": 1.3963156616704633, \"x2\": -0.05124759110271518, \"y\": 1}, {\"x1\": 1.0821161688945855, \"x2\": 0.9830963859626805, \"y\": 0}, {\"x1\": 0.3493805839576305, \"x2\": 0.830546903131715, \"y\": 0}, {\"x1\": 0.3030540483338083, \"x2\": 0.4172527207016671, \"y\": 0}, {\"x1\": 0.32288410826683067, \"x2\": -0.07972401508159879, \"y\": 1}, {\"x1\": 0.06187463570029228, \"x2\": 1.2402158262171543, \"y\": 0}, {\"x1\": 0.6682851958498224, \"x2\": 0.5385252827790488, \"y\": 0}, {\"x1\": 1.4628600945903774, \"x2\": 0.36304881307380854, \"y\": 1}, {\"x1\": -0.5565048060755899, \"x2\": 0.6785194792401084, \"y\": 0}, {\"x1\": -0.31051556833342886, \"x2\": 0.6966088643227756, \"y\": 0}, {\"x1\": 0.7584193223341218, \"x2\": -0.4205550426960587, \"y\": 1}, {\"x1\": 1.5919968192427878, \"x2\": 0.2941733939295096, \"y\": 1}, {\"x1\": -0.48638697346650506, \"x2\": 1.5042784083433016, \"y\": 0}, {\"x1\": 0.5674352310324233, \"x2\": -0.02450808903848639, \"y\": 1}, {\"x1\": 0.3796963696157156, \"x2\": 0.07133711950168675, \"y\": 1}, {\"x1\": -0.4892999168422813, \"x2\": 0.6438615830308105, \"y\": 0}, {\"x1\": -0.4867331378532466, \"x2\": 0.4447755587460159, \"y\": 0}, {\"x1\": 0.12521766440341148, \"x2\": -0.6474112948885145, \"y\": 1}, {\"x1\": 1.459847267030204, \"x2\": 0.15664839731895844, \"y\": 1}, {\"x1\": 0.94407011388341, \"x2\": 0.5339531168908073, \"y\": 0}, {\"x1\": 0.3493805839576305, \"x2\": 0.830546903131715, \"y\": 0}, {\"x1\": 2.053190454197908, \"x2\": 0.24197147404004324, \"y\": 1}, {\"x1\": 1.6907438436426308, \"x2\": 0.1830197999553178, \"y\": 1}, {\"x1\": 2.184192029064348, \"x2\": -0.7973086771120264, \"y\": 1}, {\"x1\": 0.4167350151146958, \"x2\": -0.2864296703887702, \"y\": 1}, {\"x1\": 2.7998518044530893, \"x2\": -0.16208442077212293, \"y\": 1}, {\"x1\": -0.489732351581158, \"x2\": 0.26215123277914115, \"y\": 0}, {\"x1\": 1.023877323781193, \"x2\": 0.5442901821047876, \"y\": 0}, {\"x1\": 0.7576107730591097, \"x2\": 0.6408564230325512, \"y\": 0}, {\"x1\": 1.5683772791260662, \"x2\": -0.46505767440235957, \"y\": 1}, {\"x1\": -0.6514944493433559, \"x2\": 1.1658331645389803, \"y\": 0}, {\"x1\": 0.0571915725502489, \"x2\": -0.4005535031598062, \"y\": 1}, {\"x1\": 0.8165424554400801, \"x2\": 1.332502689171118, \"y\": 0}, {\"x1\": 1.6046292283961214, \"x2\": -0.038440174877653444, \"y\": 1}, {\"x1\": -0.05922477892820022, \"x2\": 1.4562437793461522, \"y\": 0}, {\"x1\": -0.14582290898879008, \"x2\": -0.742734389863991, \"y\": 1}, {\"x1\": 1.642905074897431, \"x2\": 0.06701561040217047, \"y\": 1}, {\"x1\": -1.4206253924790475, \"x2\": 0.4052136113863849, \"y\": 0}, {\"x1\": 0.9942293467004215, \"x2\": -0.6963690234577687, \"y\": 1}, {\"x1\": 0.7038353083363637, \"x2\": 0.5520562378643692, \"y\": 0}, {\"x1\": 1.3675307118163778, \"x2\": -0.052597944011129855, \"y\": 1}, {\"x1\": 1.0219643093857127, \"x2\": 0.6204365265593892, \"y\": 0}, {\"x1\": -0.15731007342140552, \"x2\": 0.2645852625237317, \"y\": 0}, {\"x1\": 1.098295241171436, \"x2\": -0.489669634181511, \"y\": 1}, {\"x1\": -0.5220831374526558, \"x2\": -0.021237111742003434, \"y\": 0}, {\"x1\": 0.6620500244345991, \"x2\": -0.3913302464256859, \"y\": 1}, {\"x1\": 1.541055059309552, \"x2\": -0.149084682873793, \"y\": 1}, {\"x1\": 0.42356501812437586, \"x2\": 0.27659119789104625, \"y\": 0}, {\"x1\": -0.6879728858516575, \"x2\": 0.06089849133828085, \"y\": 0}, {\"x1\": 0.7227545288902637, \"x2\": -0.3623091717223068, \"y\": 1}, {\"x1\": 0.08725582536215004, \"x2\": 1.2524273593153914, \"y\": 0}, {\"x1\": 0.6028828554244205, \"x2\": -0.5296413310411998, \"y\": 1}, {\"x1\": -0.9108449652918722, \"x2\": 0.27065342035507545, \"y\": 0}, {\"x1\": -0.8625405610577368, \"x2\": 0.16786737452902986, \"y\": 0}, {\"x1\": -1.2174760544881877, \"x2\": 0.7740861117445234, \"y\": 0}, {\"x1\": 0.09300378979250307, \"x2\": 1.088602836291468, \"y\": 0}, {\"x1\": 1.178256016599852, \"x2\": 0.40431617458817937, \"y\": 0}, {\"x1\": 1.7586199090109642, \"x2\": 0.3720227524837024, \"y\": 1}, {\"x1\": 0.6384795898808636, \"x2\": -0.48369657503119295, \"y\": 1}, {\"x1\": 1.0865868445865743, \"x2\": -0.7590149337696609, \"y\": 1}], \"data-95d41e498362a36186a28fe839008183\": [{\"x1\": 0.4219151200234848, \"x2\": 0.6964754791903494, \"y\": 0}, {\"x1\": -0.3104016224343133, \"x2\": 0.04587660752010435, \"y\": 0}, {\"x1\": 1.6182627762110882, \"x2\": -0.12487059143529991, \"y\": 1}, {\"x1\": 0.4202642462598922, \"x2\": 1.1834127099728549, \"y\": 0}, {\"x1\": 0.9421594657356849, \"x2\": 0.008695663842489475, \"y\": 1}, {\"x1\": 0.48578887136170884, \"x2\": 0.7594898743122389, \"y\": 0}, {\"x1\": 0.06783367793593542, \"x2\": 0.826517399144753, \"y\": 0}, {\"x1\": 0.7137636076227016, \"x2\": -0.23090821890267185, \"y\": 1}, {\"x1\": -0.6908374125396922, \"x2\": 0.9877007098961625, \"y\": 0}, {\"x1\": 0.4492555931651103, \"x2\": -0.1591158609949001, \"y\": 1}, {\"x1\": -1.424097020025323, \"x2\": 0.286693267027878, \"y\": 0}, {\"x1\": 1.0355057937604886, \"x2\": 0.9788246030145802, \"y\": 0}, {\"x1\": -0.21015167608111418, \"x2\": 0.508150902026852, \"y\": 0}, {\"x1\": 0.42278916512172093, \"x2\": 0.44877642845115684, \"y\": 0}, {\"x1\": -0.7616624259842597, \"x2\": 0.46991850009171326, \"y\": 0}, {\"x1\": -1.224555293050595, \"x2\": 0.6110846613515349, \"y\": 0}, {\"x1\": 0.056811086742753064, \"x2\": 1.752092832085081, \"y\": 0}, {\"x1\": 0.3219095259391086, \"x2\": -0.08487623916673881, \"y\": 0}, {\"x1\": 0.3330867880330651, \"x2\": 0.5316874260987811, \"y\": 0}, {\"x1\": 0.6173082522740525, \"x2\": -0.2920620399448659, \"y\": 1}, {\"x1\": -0.7734948327832605, \"x2\": 1.1234339552079484, \"y\": 0}, {\"x1\": 1.332360720175756, \"x2\": -0.1773193041796437, \"y\": 1}, {\"x1\": -0.8376676141672794, \"x2\": -0.876793437012997, \"y\": 0}, {\"x1\": 1.681035626449478, \"x2\": -0.8139870147622721, \"y\": 1}, {\"x1\": 0.862391769935023, \"x2\": 0.22767792621920208, \"y\": 1}, {\"x1\": 0.44772106054294136, \"x2\": -0.5235886582404407, \"y\": 1}, {\"x1\": 0.570973893394045, \"x2\": 0.41842120091292534, \"y\": 0}, {\"x1\": 0.3019052730501386, \"x2\": -0.37396857931117183, \"y\": 1}, {\"x1\": 1.4628600945903774, \"x2\": 0.36304881307380854, \"y\": 1}, {\"x1\": 1.5978739640397042, \"x2\": -0.6988293177148996, \"y\": 1}, {\"x1\": 0.7584193223341218, \"x2\": -0.4205550426960587, \"y\": 1}, {\"x1\": 1.4359959695692037, \"x2\": 0.306754026682925, \"y\": 1}, {\"x1\": -0.2566700687827471, \"x2\": 1.195389020854052, \"y\": 0}, {\"x1\": 1.5972173395590257, \"x2\": -0.17637544428812194, \"y\": 1}, {\"x1\": -1.5788036873175775, \"x2\": 0.38846893643291547, \"y\": 0}, {\"x1\": 0.2258688805037703, \"x2\": 0.4024707708571623, \"y\": 0}, {\"x1\": 0.6954315174060385, \"x2\": -0.1500508314288861, \"y\": 1}, {\"x1\": 1.6074541557898823, \"x2\": -0.3831278101265311, \"y\": 1}, {\"x1\": -0.19490692479987926, \"x2\": -1.1426185642638504, \"y\": 1}, {\"x1\": 1.541055059309552, \"x2\": -0.149084682873793, \"y\": 1}, {\"x1\": 1.3963156616704633, \"x2\": -0.05124759110271518, \"y\": 1}, {\"x1\": 1.0821161688945855, \"x2\": 0.9830963859626805, \"y\": 0}, {\"x1\": 0.3493805839576305, \"x2\": 0.830546903131715, \"y\": 0}, {\"x1\": 0.3030540483338083, \"x2\": 0.4172527207016671, \"y\": 0}, {\"x1\": 0.32288410826683067, \"x2\": -0.07972401508159879, \"y\": 0}, {\"x1\": 0.06187463570029228, \"x2\": 1.2402158262171543, \"y\": 0}, {\"x1\": 0.6682851958498224, \"x2\": 0.5385252827790488, \"y\": 0}, {\"x1\": 1.4628600945903774, \"x2\": 0.36304881307380854, \"y\": 1}, {\"x1\": -0.5565048060755899, \"x2\": 0.6785194792401084, \"y\": 0}, {\"x1\": -0.31051556833342886, \"x2\": 0.6966088643227756, \"y\": 0}, {\"x1\": 0.7584193223341218, \"x2\": -0.4205550426960587, \"y\": 1}, {\"x1\": 1.5919968192427878, \"x2\": 0.2941733939295096, \"y\": 1}, {\"x1\": -0.48638697346650506, \"x2\": 1.5042784083433016, \"y\": 0}, {\"x1\": 0.5674352310324233, \"x2\": -0.02450808903848639, \"y\": 1}, {\"x1\": 0.3796963696157156, \"x2\": 0.07133711950168675, \"y\": 0}, {\"x1\": -0.4892999168422813, \"x2\": 0.6438615830308105, \"y\": 0}, {\"x1\": -0.4867331378532466, \"x2\": 0.4447755587460159, \"y\": 0}, {\"x1\": 0.12521766440341148, \"x2\": -0.6474112948885145, \"y\": 1}, {\"x1\": 1.459847267030204, \"x2\": 0.15664839731895844, \"y\": 1}, {\"x1\": 0.94407011388341, \"x2\": 0.5339531168908073, \"y\": 0}, {\"x1\": 0.3493805839576305, \"x2\": 0.830546903131715, \"y\": 0}, {\"x1\": 2.053190454197908, \"x2\": 0.24197147404004324, \"y\": 1}, {\"x1\": 1.6907438436426308, \"x2\": 0.1830197999553178, \"y\": 1}, {\"x1\": 2.184192029064348, \"x2\": -0.7973086771120264, \"y\": 1}, {\"x1\": 0.4167350151146958, \"x2\": -0.2864296703887702, \"y\": 1}, {\"x1\": 2.7998518044530893, \"x2\": -0.16208442077212293, \"y\": 1}, {\"x1\": -0.489732351581158, \"x2\": 0.26215123277914115, \"y\": 0}, {\"x1\": 1.023877323781193, \"x2\": 0.5442901821047876, \"y\": 0}, {\"x1\": 0.7576107730591097, \"x2\": 0.6408564230325512, \"y\": 0}, {\"x1\": 1.5683772791260662, \"x2\": -0.46505767440235957, \"y\": 1}, {\"x1\": -0.6514944493433559, \"x2\": 1.1658331645389803, \"y\": 0}, {\"x1\": 0.0571915725502489, \"x2\": -0.4005535031598062, \"y\": 1}, {\"x1\": 0.8165424554400801, \"x2\": 1.332502689171118, \"y\": 0}, {\"x1\": 1.6046292283961214, \"x2\": -0.038440174877653444, \"y\": 1}, {\"x1\": -0.05922477892820022, \"x2\": 1.4562437793461522, \"y\": 0}, {\"x1\": -0.14582290898879008, \"x2\": -0.742734389863991, \"y\": 1}, {\"x1\": 1.642905074897431, \"x2\": 0.06701561040217047, \"y\": 1}, {\"x1\": -1.4206253924790475, \"x2\": 0.4052136113863849, \"y\": 0}, {\"x1\": 0.9942293467004215, \"x2\": -0.6963690234577687, \"y\": 1}, {\"x1\": 0.7038353083363637, \"x2\": 0.5520562378643692, \"y\": 0}, {\"x1\": 1.3675307118163778, \"x2\": -0.052597944011129855, \"y\": 1}, {\"x1\": 1.0219643093857127, \"x2\": 0.6204365265593892, \"y\": 0}, {\"x1\": -0.15731007342140552, \"x2\": 0.2645852625237317, \"y\": 0}, {\"x1\": 1.098295241171436, \"x2\": -0.489669634181511, \"y\": 1}, {\"x1\": -0.5220831374526558, \"x2\": -0.021237111742003434, \"y\": 0}, {\"x1\": 0.6620500244345991, \"x2\": -0.3913302464256859, \"y\": 1}, {\"x1\": 1.541055059309552, \"x2\": -0.149084682873793, \"y\": 1}, {\"x1\": 0.42356501812437586, \"x2\": 0.27659119789104625, \"y\": 0}, {\"x1\": -0.6879728858516575, \"x2\": 0.06089849133828085, \"y\": 0}, {\"x1\": 0.7227545288902637, \"x2\": -0.3623091717223068, \"y\": 1}, {\"x1\": 0.08725582536215004, \"x2\": 1.2524273593153914, \"y\": 0}, {\"x1\": 0.6028828554244205, \"x2\": -0.5296413310411998, \"y\": 1}, {\"x1\": -0.9108449652918722, \"x2\": 0.27065342035507545, \"y\": 0}, {\"x1\": -0.8625405610577368, \"x2\": 0.16786737452902986, \"y\": 0}, {\"x1\": -1.2174760544881877, \"x2\": 0.7740861117445234, \"y\": 0}, {\"x1\": 0.09300378979250307, \"x2\": 1.088602836291468, \"y\": 0}, {\"x1\": 1.178256016599852, \"x2\": 0.40431617458817937, \"y\": 1}, {\"x1\": 1.7586199090109642, \"x2\": 0.3720227524837024, \"y\": 1}, {\"x1\": 0.6384795898808636, \"x2\": -0.48369657503119295, \"y\": 1}, {\"x1\": 1.0865868445865743, \"x2\": -0.7590149337696609, \"y\": 1}]}}, {\"mode\": \"vega-lite\"});\n",
       "</script>"
      ],
      "text/plain": [
       "alt.VConcatChart(...)"
      ]
     },
     "execution_count": 11,
     "metadata": {},
     "output_type": "execute_result"
    }
   ],
   "source": [
    "myCharts = [[], [], []]\n",
    "for i in range(3):\n",
    "    indices = np.random.randint(low = 0, high = 1000, size = 100)\n",
    "    for eachK in [1, 25, 50]:\n",
    "        scikit_classifier = KNeighborsClassifier(n_neighbors = eachK)\n",
    "        scikit_classifier.fit(X_data[indices, :], Y_data[indices])\n",
    "        scikit_predictions = scikit_classifier.predict(X_data[indices, :])\n",
    "        myCharts[i].append(alt.Chart(pd.DataFrame({'x1': X_data[indices, 0], 'x2': X_data[indices, 1], 'y': scikit_predictions})).mark_point().encode(\n",
    "            x='x1', y='x2', color=alt.Color('y', scale=alt.Scale(domain=[0.0, 1.0], range=['red', 'blue']))))\n",
    "alt.vconcat(alt.hconcat(myCharts[0][0], myCharts[0][1], myCharts[0][2]), alt.hconcat(myCharts[1][0], myCharts[1][1], myCharts[1][2]), alt.hconcat(myCharts[2][0], myCharts[2][1], myCharts[2][2]))"
   ]
  },
  {
   "attachments": {},
   "cell_type": "markdown",
   "metadata": {},
   "source": [
    "**(d)** Plotting Decision Boundaries"
   ]
  },
  {
   "cell_type": "code",
   "execution_count": 12,
   "metadata": {},
   "outputs": [
    {
     "data": {
      "text/plain": [
       "<sklearn.inspection._plot.decision_boundary.DecisionBoundaryDisplay at 0x7f4649bf8280>"
      ]
     },
     "execution_count": 12,
     "metadata": {},
     "output_type": "execute_result"
    },
    {
     "data": {
      "image/png": "[encoded data removed]",
      "text/plain": [
       "<Figure size 640x480 with 1 Axes>"
      ]
     },
     "metadata": {},
     "output_type": "display_data"
    }
   ],
   "source": [
    "from sklearn.inspection import DecisionBoundaryDisplay\n",
    "from matplotlib.colors import ListedColormap\n",
    "\n",
    "DecisionBoundaryDisplay.from_estimator(\n",
    "scikit_classifier,\n",
    "X_data[indices, :],\n",
    "response_method = 'predict',\n",
    "cmap = ListedColormap(['pink', 'lightblue']))"
   ]
  },
  {
   "attachments": {},
   "cell_type": "markdown",
   "metadata": {},
   "source": [
    "---\n",
    "\n",
    "## 6\n",
    "**[18 points] Bias-variance trade-off II: Quantifying the tradeoff**. This exercise explores the impact of the bias-variance tradeoff on classifier performance by looking at the performance on both training and test data.\n",
    "\n",
    "Here, the value of $k$ determines how flexible our model is.\n",
    "\n",
    "**(a)** Using the function created earlier to generate random samples (using the `make_moons` function setting the `noise` parameter to 0.35), create a new set of 1000 random samples, and call this dataset your test set and the previously created dataset your training set.\n",
    "\n",
    "**(b)** Train a kNN classifier on your training set for $k = 1,2,...500$. Apply each of these trained classifiers to both your training dataset and your test dataset and plot the classification error (fraction of incorrect predictions).\n",
    "\n",
    "**(c)** What trend do you see in the results?\n",
    "\n",
    "**(d)** What values of $k$ represent high bias and which represent high variance?\n",
    "\n",
    "**(e)** What is the optimal value of $k$ and why?\n",
    "\n",
    "**(f)** In KNN classifiers, the value of k controls the flexibility of the model - what controls the flexibility of other models?"
   ]
  },
  {
   "cell_type": "markdown",
   "metadata": {},
   "source": [
    "**ANSWER**"
   ]
  },
  {
   "attachments": {},
   "cell_type": "markdown",
   "metadata": {},
   "source": [
    "**(a)** Creating Test Data"
   ]
  },
  {
   "cell_type": "code",
   "execution_count": 13,
   "metadata": {},
   "outputs": [],
   "source": [
    "X_test, Y_test = make_moons(n_samples = 1000, noise = .35)"
   ]
  },
  {
   "attachments": {},
   "cell_type": "markdown",
   "metadata": {},
   "source": [
    "**(b)** Plotting Classification Error against K"
   ]
  },
  {
   "cell_type": "code",
   "execution_count": 15,
   "metadata": {},
   "outputs": [
    {
     "data": {
      "text/html": [
       "\n",
       "<div id=\"altair-viz-f389284a652e434092c0cc15cf62f2de\"></div>\n",
       "<script type=\"text/javascript\">\n",
       "  var VEGA_DEBUG = (typeof VEGA_DEBUG == \"undefined\") ? {} : VEGA_DEBUG;\n",
       "  (function(spec, embedOpt){\n",
       "    let outputDiv = document.currentScript.previousElementSibling;\n",
       "    if (outputDiv.id !== \"altair-viz-f389284a652e434092c0cc15cf62f2de\") {\n",
       "      outputDiv = document.getElementById(\"altair-viz-f389284a652e434092c0cc15cf62f2de\");\n",
       "    }\n",
       "    const paths = {\n",
       "      \"vega\": \"https://cdn.jsdelivr.net/npm//vega@5?noext\",\n",
       "      \"vega-lib\": \"https://cdn.jsdelivr.net/npm//vega-lib?noext\",\n",
       "      \"vega-lite\": \"https://cdn.jsdelivr.net/npm//vega-lite@4.17.0?noext\",\n",
       "      \"vega-embed\": \"https://cdn.jsdelivr.net/npm//vega-embed@6?noext\",\n",
       "    };\n",
       "\n",
       "    function maybeLoadScript(lib, version) {\n",
       "      var key = `${lib.replace(\"-\", \"\")}_version`;\n",
       "      return (VEGA_DEBUG[key] == version) ?\n",
       "        Promise.resolve(paths[lib]) :\n",
       "        new Promise(function(resolve, reject) {\n",
       "          var s = document.createElement('script');\n",
       "          document.getElementsByTagName(\"head\")[0].appendChild(s);\n",
       "          s.async = true;\n",
       "          s.onload = () => {\n",
       "            VEGA_DEBUG[key] = version;\n",
       "            return resolve(paths[lib]);\n",
       "          };\n",
       "          s.onerror = () => reject(`Error loading script: ${paths[lib]}`);\n",
       "          s.src = paths[lib];\n",
       "        });\n",
       "    }\n",
       "\n",
       "    function showError(err) {\n",
       "      outputDiv.innerHTML = `<div class=\"error\" style=\"color:red;\">${err}</div>`;\n",
       "      throw err;\n",
       "    }\n",
       "\n",
       "    function displayChart(vegaEmbed) {\n",
       "      vegaEmbed(outputDiv, spec, embedOpt)\n",
       "        .catch(err => showError(`Javascript Error: ${err.message}<br>This usually means there's a typo in your chart specification. See the javascript console for the full traceback.`));\n",
       "    }\n",
       "\n",
       "    if(typeof define === \"function\" && define.amd) {\n",
       "      requirejs.config({paths});\n",
       "      require([\"vega-embed\"], displayChart, err => showError(`Error loading script: ${err.message}`));\n",
       "    } else {\n",
       "      maybeLoadScript(\"vega\", \"5\")\n",
       "        .then(() => maybeLoadScript(\"vega-lite\", \"4.17.0\"))\n",
       "        .then(() => maybeLoadScript(\"vega-embed\", \"6\"))\n",
       "        .catch(showError)\n",
       "        .then(() => displayChart(vegaEmbed));\n",
       "    }\n",
       "  })({\"config\": {\"view\": {\"continuousWidth\": 400, \"continuousHeight\": 300}}, \"layer\": [{\"mark\": \"line\", \"encoding\": {\"x\": {\"field\": \"K\", \"type\": \"quantitative\"}, \"y\": {\"field\": \"Training Accuracy\", \"scale\": {\"zero\": false}, \"type\": \"quantitative\"}}}, {\"mark\": \"line\", \"encoding\": {\"x\": {\"field\": \"K\", \"type\": \"quantitative\"}, \"y\": {\"field\": \"Testing Accuracy\", \"scale\": {\"zero\": false}, \"type\": \"quantitative\"}}}], \"data\": {\"name\": \"data-2b987c2b5686ca4605307061c78c7089\"}, \"$schema\": \"https://vega.github.io/schema/vega-lite/v4.17.0.json\", \"datasets\": {\"data-2b987c2b5686ca4605307061c78c7089\": [{\"K\": 1, \"Training Accuracy\": 0.0, \"Testing Accuracy\": 0.17200000000000004}, {\"K\": 2, \"Training Accuracy\": 0.09399999999999997, \"Testing Accuracy\": 0.15500000000000003}, {\"K\": 3, \"Training Accuracy\": 0.08799999999999997, \"Testing Accuracy\": 0.14900000000000002}, {\"K\": 4, \"Training Accuracy\": 0.09399999999999997, \"Testing Accuracy\": 0.135}, {\"K\": 5, \"Training Accuracy\": 0.09099999999999997, \"Testing Accuracy\": 0.14100000000000001}, {\"K\": 6, \"Training Accuracy\": 0.11299999999999999, \"Testing Accuracy\": 0.138}, {\"K\": 7, \"Training Accuracy\": 0.10699999999999998, \"Testing Accuracy\": 0.136}, {\"K\": 8, \"Training Accuracy\": 0.11199999999999999, \"Testing Accuracy\": 0.14}, {\"K\": 9, \"Training Accuracy\": 0.11499999999999999, \"Testing Accuracy\": 0.136}, {\"K\": 10, \"Training Accuracy\": 0.11399999999999999, \"Testing Accuracy\": 0.14100000000000001}, {\"K\": 11, \"Training Accuracy\": 0.118, \"Testing Accuracy\": 0.139}, {\"K\": 12, \"Training Accuracy\": 0.11499999999999999, \"Testing Accuracy\": 0.139}, {\"K\": 13, \"Training Accuracy\": 0.11699999999999999, \"Testing Accuracy\": 0.133}, {\"K\": 14, \"Training Accuracy\": 0.12, \"Testing Accuracy\": 0.134}, {\"K\": 15, \"Training Accuracy\": 0.122, \"Testing Accuracy\": 0.131}, {\"K\": 16, \"Training Accuracy\": 0.122, \"Testing Accuracy\": 0.136}, {\"K\": 17, \"Training Accuracy\": 0.124, \"Testing Accuracy\": 0.131}, {\"K\": 18, \"Training Accuracy\": 0.128, \"Testing Accuracy\": 0.132}, {\"K\": 19, \"Training Accuracy\": 0.132, \"Testing Accuracy\": 0.134}, {\"K\": 20, \"Training Accuracy\": 0.127, \"Testing Accuracy\": 0.133}, {\"K\": 21, \"Training Accuracy\": 0.125, \"Testing Accuracy\": 0.135}, {\"K\": 22, \"Training Accuracy\": 0.132, \"Testing Accuracy\": 0.133}, {\"K\": 23, \"Training Accuracy\": 0.129, \"Testing Accuracy\": 0.134}, {\"K\": 24, \"Training Accuracy\": 0.128, \"Testing Accuracy\": 0.134}, {\"K\": 25, \"Training Accuracy\": 0.128, \"Testing Accuracy\": 0.134}, {\"K\": 26, \"Training Accuracy\": 0.13, \"Testing Accuracy\": 0.132}, {\"K\": 27, \"Training Accuracy\": 0.134, \"Testing Accuracy\": 0.131}, {\"K\": 28, \"Training Accuracy\": 0.131, \"Testing Accuracy\": 0.131}, {\"K\": 29, \"Training Accuracy\": 0.128, \"Testing Accuracy\": 0.127}, {\"K\": 30, \"Training Accuracy\": 0.126, \"Testing Accuracy\": 0.128}, {\"K\": 31, \"Training Accuracy\": 0.13, \"Testing Accuracy\": 0.127}, {\"K\": 32, \"Training Accuracy\": 0.127, \"Testing Accuracy\": 0.129}, {\"K\": 33, \"Training Accuracy\": 0.129, \"Testing Accuracy\": 0.127}, {\"K\": 34, \"Training Accuracy\": 0.129, \"Testing Accuracy\": 0.128}, {\"K\": 35, \"Training Accuracy\": 0.131, \"Testing Accuracy\": 0.13}, {\"K\": 36, \"Training Accuracy\": 0.126, \"Testing Accuracy\": 0.129}, {\"K\": 37, \"Training Accuracy\": 0.13, \"Testing Accuracy\": 0.129}, {\"K\": 38, \"Training Accuracy\": 0.128, \"Testing Accuracy\": 0.129}, {\"K\": 39, \"Training Accuracy\": 0.129, \"Testing Accuracy\": 0.128}, {\"K\": 40, \"Training Accuracy\": 0.127, \"Testing Accuracy\": 0.128}, {\"K\": 41, \"Training Accuracy\": 0.13, \"Testing Accuracy\": 0.124}, {\"K\": 42, \"Training Accuracy\": 0.127, \"Testing Accuracy\": 0.126}, {\"K\": 43, \"Training Accuracy\": 0.127, \"Testing Accuracy\": 0.126}, {\"K\": 44, \"Training Accuracy\": 0.123, \"Testing Accuracy\": 0.125}, {\"K\": 45, \"Training Accuracy\": 0.126, \"Testing Accuracy\": 0.126}, {\"K\": 46, \"Training Accuracy\": 0.123, \"Testing Accuracy\": 0.128}, {\"K\": 47, \"Training Accuracy\": 0.126, \"Testing Accuracy\": 0.126}, {\"K\": 48, \"Training Accuracy\": 0.123, \"Testing Accuracy\": 0.129}, {\"K\": 49, \"Training Accuracy\": 0.124, \"Testing Accuracy\": 0.127}, {\"K\": 50, \"Training Accuracy\": 0.12, \"Testing Accuracy\": 0.128}, {\"K\": 51, \"Training Accuracy\": 0.12, \"Testing Accuracy\": 0.128}, {\"K\": 52, \"Training Accuracy\": 0.11699999999999999, \"Testing Accuracy\": 0.128}, {\"K\": 53, \"Training Accuracy\": 0.122, \"Testing Accuracy\": 0.127}, {\"K\": 54, \"Training Accuracy\": 0.119, \"Testing Accuracy\": 0.13}, {\"K\": 55, \"Training Accuracy\": 0.12, \"Testing Accuracy\": 0.129}, {\"K\": 56, \"Training Accuracy\": 0.118, \"Testing Accuracy\": 0.13}, {\"K\": 57, \"Training Accuracy\": 0.118, \"Testing Accuracy\": 0.131}, {\"K\": 58, \"Training Accuracy\": 0.11699999999999999, \"Testing Accuracy\": 0.133}, {\"K\": 59, \"Training Accuracy\": 0.12, \"Testing Accuracy\": 0.133}, {\"K\": 60, \"Training Accuracy\": 0.118, \"Testing Accuracy\": 0.134}, {\"K\": 61, \"Training Accuracy\": 0.11699999999999999, \"Testing Accuracy\": 0.133}, {\"K\": 62, \"Training Accuracy\": 0.11599999999999999, \"Testing Accuracy\": 0.133}, {\"K\": 63, \"Training Accuracy\": 0.11599999999999999, \"Testing Accuracy\": 0.131}, {\"K\": 64, \"Training Accuracy\": 0.118, \"Testing Accuracy\": 0.132}, {\"K\": 65, \"Training Accuracy\": 0.11599999999999999, \"Testing Accuracy\": 0.133}, {\"K\": 66, \"Training Accuracy\": 0.11499999999999999, \"Testing Accuracy\": 0.133}, {\"K\": 67, \"Training Accuracy\": 0.11299999999999999, \"Testing Accuracy\": 0.132}, {\"K\": 68, \"Training Accuracy\": 0.11599999999999999, \"Testing Accuracy\": 0.133}, {\"K\": 69, \"Training Accuracy\": 0.12, \"Testing Accuracy\": 0.133}, {\"K\": 70, \"Training Accuracy\": 0.11699999999999999, \"Testing Accuracy\": 0.135}, {\"K\": 71, \"Training Accuracy\": 0.118, \"Testing Accuracy\": 0.135}, {\"K\": 72, \"Training Accuracy\": 0.11699999999999999, \"Testing Accuracy\": 0.133}, {\"K\": 73, \"Training Accuracy\": 0.119, \"Testing Accuracy\": 0.135}, {\"K\": 74, \"Training Accuracy\": 0.118, \"Testing Accuracy\": 0.134}, {\"K\": 75, \"Training Accuracy\": 0.12, \"Testing Accuracy\": 0.135}, {\"K\": 76, \"Training Accuracy\": 0.121, \"Testing Accuracy\": 0.134}, {\"K\": 77, \"Training Accuracy\": 0.12, \"Testing Accuracy\": 0.134}, {\"K\": 78, \"Training Accuracy\": 0.119, \"Testing Accuracy\": 0.134}, {\"K\": 79, \"Training Accuracy\": 0.118, \"Testing Accuracy\": 0.135}, {\"K\": 80, \"Training Accuracy\": 0.119, \"Testing Accuracy\": 0.135}, {\"K\": 81, \"Training Accuracy\": 0.11699999999999999, \"Testing Accuracy\": 0.134}, {\"K\": 82, \"Training Accuracy\": 0.11699999999999999, \"Testing Accuracy\": 0.135}, {\"K\": 83, \"Training Accuracy\": 0.11399999999999999, \"Testing Accuracy\": 0.134}, {\"K\": 84, \"Training Accuracy\": 0.118, \"Testing Accuracy\": 0.135}, {\"K\": 85, \"Training Accuracy\": 0.118, \"Testing Accuracy\": 0.134}, {\"K\": 86, \"Training Accuracy\": 0.11499999999999999, \"Testing Accuracy\": 0.133}, {\"K\": 87, \"Training Accuracy\": 0.11699999999999999, \"Testing Accuracy\": 0.134}, {\"K\": 88, \"Training Accuracy\": 0.11699999999999999, \"Testing Accuracy\": 0.135}, {\"K\": 89, \"Training Accuracy\": 0.11599999999999999, \"Testing Accuracy\": 0.133}, {\"K\": 90, \"Training Accuracy\": 0.11599999999999999, \"Testing Accuracy\": 0.134}, {\"K\": 91, \"Training Accuracy\": 0.119, \"Testing Accuracy\": 0.134}, {\"K\": 92, \"Training Accuracy\": 0.118, \"Testing Accuracy\": 0.134}, {\"K\": 93, \"Training Accuracy\": 0.118, \"Testing Accuracy\": 0.133}, {\"K\": 94, \"Training Accuracy\": 0.11699999999999999, \"Testing Accuracy\": 0.133}, {\"K\": 95, \"Training Accuracy\": 0.11699999999999999, \"Testing Accuracy\": 0.133}, {\"K\": 96, \"Training Accuracy\": 0.11399999999999999, \"Testing Accuracy\": 0.133}, {\"K\": 97, \"Training Accuracy\": 0.119, \"Testing Accuracy\": 0.133}, {\"K\": 98, \"Training Accuracy\": 0.11499999999999999, \"Testing Accuracy\": 0.133}, {\"K\": 99, \"Training Accuracy\": 0.11699999999999999, \"Testing Accuracy\": 0.133}, {\"K\": 100, \"Training Accuracy\": 0.11599999999999999, \"Testing Accuracy\": 0.133}, {\"K\": 101, \"Training Accuracy\": 0.11699999999999999, \"Testing Accuracy\": 0.133}, {\"K\": 102, \"Training Accuracy\": 0.119, \"Testing Accuracy\": 0.133}, {\"K\": 103, \"Training Accuracy\": 0.11599999999999999, \"Testing Accuracy\": 0.135}, {\"K\": 104, \"Training Accuracy\": 0.118, \"Testing Accuracy\": 0.134}, {\"K\": 105, \"Training Accuracy\": 0.11699999999999999, \"Testing Accuracy\": 0.134}, {\"K\": 106, \"Training Accuracy\": 0.118, \"Testing Accuracy\": 0.134}, {\"K\": 107, \"Training Accuracy\": 0.118, \"Testing Accuracy\": 0.134}, {\"K\": 108, \"Training Accuracy\": 0.119, \"Testing Accuracy\": 0.134}, {\"K\": 109, \"Training Accuracy\": 0.119, \"Testing Accuracy\": 0.134}, {\"K\": 110, \"Training Accuracy\": 0.119, \"Testing Accuracy\": 0.134}, {\"K\": 111, \"Training Accuracy\": 0.118, \"Testing Accuracy\": 0.134}, {\"K\": 112, \"Training Accuracy\": 0.119, \"Testing Accuracy\": 0.134}, {\"K\": 113, \"Training Accuracy\": 0.119, \"Testing Accuracy\": 0.134}, {\"K\": 114, \"Training Accuracy\": 0.118, \"Testing Accuracy\": 0.134}, {\"K\": 115, \"Training Accuracy\": 0.11699999999999999, \"Testing Accuracy\": 0.134}, {\"K\": 116, \"Training Accuracy\": 0.11699999999999999, \"Testing Accuracy\": 0.134}, {\"K\": 117, \"Training Accuracy\": 0.11599999999999999, \"Testing Accuracy\": 0.134}, {\"K\": 118, \"Training Accuracy\": 0.11599999999999999, \"Testing Accuracy\": 0.134}, {\"K\": 119, \"Training Accuracy\": 0.11699999999999999, \"Testing Accuracy\": 0.134}, {\"K\": 120, \"Training Accuracy\": 0.118, \"Testing Accuracy\": 0.134}, {\"K\": 121, \"Training Accuracy\": 0.118, \"Testing Accuracy\": 0.134}, {\"K\": 122, \"Training Accuracy\": 0.119, \"Testing Accuracy\": 0.133}, {\"K\": 123, \"Training Accuracy\": 0.119, \"Testing Accuracy\": 0.134}, {\"K\": 124, \"Training Accuracy\": 0.119, \"Testing Accuracy\": 0.136}, {\"K\": 125, \"Training Accuracy\": 0.119, \"Testing Accuracy\": 0.135}, {\"K\": 126, \"Training Accuracy\": 0.119, \"Testing Accuracy\": 0.136}, {\"K\": 127, \"Training Accuracy\": 0.119, \"Testing Accuracy\": 0.137}, {\"K\": 128, \"Training Accuracy\": 0.118, \"Testing Accuracy\": 0.137}, {\"K\": 129, \"Training Accuracy\": 0.119, \"Testing Accuracy\": 0.137}, {\"K\": 130, \"Training Accuracy\": 0.11699999999999999, \"Testing Accuracy\": 0.138}, {\"K\": 131, \"Training Accuracy\": 0.119, \"Testing Accuracy\": 0.138}, {\"K\": 132, \"Training Accuracy\": 0.118, \"Testing Accuracy\": 0.138}, {\"K\": 133, \"Training Accuracy\": 0.119, \"Testing Accuracy\": 0.138}, {\"K\": 134, \"Training Accuracy\": 0.118, \"Testing Accuracy\": 0.137}, {\"K\": 135, \"Training Accuracy\": 0.118, \"Testing Accuracy\": 0.138}, {\"K\": 136, \"Training Accuracy\": 0.11599999999999999, \"Testing Accuracy\": 0.137}, {\"K\": 137, \"Training Accuracy\": 0.11599999999999999, \"Testing Accuracy\": 0.137}, {\"K\": 138, \"Training Accuracy\": 0.11599999999999999, \"Testing Accuracy\": 0.137}, {\"K\": 139, \"Training Accuracy\": 0.11599999999999999, \"Testing Accuracy\": 0.137}, {\"K\": 140, \"Training Accuracy\": 0.11599999999999999, \"Testing Accuracy\": 0.137}, {\"K\": 141, \"Training Accuracy\": 0.118, \"Testing Accuracy\": 0.137}, {\"K\": 142, \"Training Accuracy\": 0.11599999999999999, \"Testing Accuracy\": 0.137}, {\"K\": 143, \"Training Accuracy\": 0.11599999999999999, \"Testing Accuracy\": 0.136}, {\"K\": 144, \"Training Accuracy\": 0.11499999999999999, \"Testing Accuracy\": 0.136}, {\"K\": 145, \"Training Accuracy\": 0.11499999999999999, \"Testing Accuracy\": 0.135}, {\"K\": 146, \"Training Accuracy\": 0.11499999999999999, \"Testing Accuracy\": 0.137}, {\"K\": 147, \"Training Accuracy\": 0.11499999999999999, \"Testing Accuracy\": 0.137}, {\"K\": 148, \"Training Accuracy\": 0.11499999999999999, \"Testing Accuracy\": 0.139}, {\"K\": 149, \"Training Accuracy\": 0.11499999999999999, \"Testing Accuracy\": 0.138}, {\"K\": 150, \"Training Accuracy\": 0.11299999999999999, \"Testing Accuracy\": 0.138}, {\"K\": 151, \"Training Accuracy\": 0.11299999999999999, \"Testing Accuracy\": 0.138}, {\"K\": 152, \"Training Accuracy\": 0.11199999999999999, \"Testing Accuracy\": 0.139}, {\"K\": 153, \"Training Accuracy\": 0.11399999999999999, \"Testing Accuracy\": 0.138}, {\"K\": 154, \"Training Accuracy\": 0.11399999999999999, \"Testing Accuracy\": 0.139}, {\"K\": 155, \"Training Accuracy\": 0.11499999999999999, \"Testing Accuracy\": 0.137}, {\"K\": 156, \"Training Accuracy\": 0.11599999999999999, \"Testing Accuracy\": 0.138}, {\"K\": 157, \"Training Accuracy\": 0.11499999999999999, \"Testing Accuracy\": 0.136}, {\"K\": 158, \"Training Accuracy\": 0.11499999999999999, \"Testing Accuracy\": 0.137}, {\"K\": 159, \"Training Accuracy\": 0.11699999999999999, \"Testing Accuracy\": 0.136}, {\"K\": 160, \"Training Accuracy\": 0.11399999999999999, \"Testing Accuracy\": 0.136}, {\"K\": 161, \"Training Accuracy\": 0.11599999999999999, \"Testing Accuracy\": 0.136}, {\"K\": 162, \"Training Accuracy\": 0.11599999999999999, \"Testing Accuracy\": 0.137}, {\"K\": 163, \"Training Accuracy\": 0.11599999999999999, \"Testing Accuracy\": 0.137}, {\"K\": 164, \"Training Accuracy\": 0.11499999999999999, \"Testing Accuracy\": 0.136}, {\"K\": 165, \"Training Accuracy\": 0.11499999999999999, \"Testing Accuracy\": 0.136}, {\"K\": 166, \"Training Accuracy\": 0.11599999999999999, \"Testing Accuracy\": 0.137}, {\"K\": 167, \"Training Accuracy\": 0.11699999999999999, \"Testing Accuracy\": 0.137}, {\"K\": 168, \"Training Accuracy\": 0.11399999999999999, \"Testing Accuracy\": 0.137}, {\"K\": 169, \"Training Accuracy\": 0.118, \"Testing Accuracy\": 0.138}, {\"K\": 170, \"Training Accuracy\": 0.11599999999999999, \"Testing Accuracy\": 0.137}, {\"K\": 171, \"Training Accuracy\": 0.11699999999999999, \"Testing Accuracy\": 0.136}, {\"K\": 172, \"Training Accuracy\": 0.118, \"Testing Accuracy\": 0.137}, {\"K\": 173, \"Training Accuracy\": 0.11699999999999999, \"Testing Accuracy\": 0.136}, {\"K\": 174, \"Training Accuracy\": 0.11599999999999999, \"Testing Accuracy\": 0.136}, {\"K\": 175, \"Training Accuracy\": 0.11699999999999999, \"Testing Accuracy\": 0.136}, {\"K\": 176, \"Training Accuracy\": 0.11599999999999999, \"Testing Accuracy\": 0.137}, {\"K\": 177, \"Training Accuracy\": 0.11599999999999999, \"Testing Accuracy\": 0.136}, {\"K\": 178, \"Training Accuracy\": 0.11499999999999999, \"Testing Accuracy\": 0.137}, {\"K\": 179, \"Training Accuracy\": 0.11599999999999999, \"Testing Accuracy\": 0.137}, {\"K\": 180, \"Training Accuracy\": 0.11499999999999999, \"Testing Accuracy\": 0.137}, {\"K\": 181, \"Training Accuracy\": 0.11499999999999999, \"Testing Accuracy\": 0.137}, {\"K\": 182, \"Training Accuracy\": 0.11499999999999999, \"Testing Accuracy\": 0.137}, {\"K\": 183, \"Training Accuracy\": 0.11699999999999999, \"Testing Accuracy\": 0.137}, {\"K\": 184, \"Training Accuracy\": 0.11699999999999999, \"Testing Accuracy\": 0.137}, {\"K\": 185, \"Training Accuracy\": 0.11699999999999999, \"Testing Accuracy\": 0.136}, {\"K\": 186, \"Training Accuracy\": 0.11699999999999999, \"Testing Accuracy\": 0.136}, {\"K\": 187, \"Training Accuracy\": 0.11699999999999999, \"Testing Accuracy\": 0.136}, {\"K\": 188, \"Training Accuracy\": 0.11699999999999999, \"Testing Accuracy\": 0.136}, {\"K\": 189, \"Training Accuracy\": 0.119, \"Testing Accuracy\": 0.137}, {\"K\": 190, \"Training Accuracy\": 0.119, \"Testing Accuracy\": 0.138}, {\"K\": 191, \"Training Accuracy\": 0.119, \"Testing Accuracy\": 0.136}, {\"K\": 192, \"Training Accuracy\": 0.119, \"Testing Accuracy\": 0.135}, {\"K\": 193, \"Training Accuracy\": 0.119, \"Testing Accuracy\": 0.136}, {\"K\": 194, \"Training Accuracy\": 0.118, \"Testing Accuracy\": 0.137}, {\"K\": 195, \"Training Accuracy\": 0.118, \"Testing Accuracy\": 0.135}, {\"K\": 196, \"Training Accuracy\": 0.118, \"Testing Accuracy\": 0.136}, {\"K\": 197, \"Training Accuracy\": 0.119, \"Testing Accuracy\": 0.136}, {\"K\": 198, \"Training Accuracy\": 0.119, \"Testing Accuracy\": 0.135}, {\"K\": 199, \"Training Accuracy\": 0.12, \"Testing Accuracy\": 0.136}, {\"K\": 200, \"Training Accuracy\": 0.118, \"Testing Accuracy\": 0.135}, {\"K\": 201, \"Training Accuracy\": 0.119, \"Testing Accuracy\": 0.135}, {\"K\": 202, \"Training Accuracy\": 0.11699999999999999, \"Testing Accuracy\": 0.134}, {\"K\": 203, \"Training Accuracy\": 0.12, \"Testing Accuracy\": 0.135}, {\"K\": 204, \"Training Accuracy\": 0.12, \"Testing Accuracy\": 0.135}, {\"K\": 205, \"Training Accuracy\": 0.119, \"Testing Accuracy\": 0.134}, {\"K\": 206, \"Training Accuracy\": 0.11599999999999999, \"Testing Accuracy\": 0.135}, {\"K\": 207, \"Training Accuracy\": 0.118, \"Testing Accuracy\": 0.134}, {\"K\": 208, \"Training Accuracy\": 0.118, \"Testing Accuracy\": 0.136}, {\"K\": 209, \"Training Accuracy\": 0.118, \"Testing Accuracy\": 0.135}, {\"K\": 210, \"Training Accuracy\": 0.118, \"Testing Accuracy\": 0.136}, {\"K\": 211, \"Training Accuracy\": 0.119, \"Testing Accuracy\": 0.135}, {\"K\": 212, \"Training Accuracy\": 0.118, \"Testing Accuracy\": 0.135}, {\"K\": 213, \"Training Accuracy\": 0.118, \"Testing Accuracy\": 0.135}, {\"K\": 214, \"Training Accuracy\": 0.11699999999999999, \"Testing Accuracy\": 0.136}, {\"K\": 215, \"Training Accuracy\": 0.119, \"Testing Accuracy\": 0.136}, {\"K\": 216, \"Training Accuracy\": 0.119, \"Testing Accuracy\": 0.136}, {\"K\": 217, \"Training Accuracy\": 0.122, \"Testing Accuracy\": 0.138}, {\"K\": 218, \"Training Accuracy\": 0.123, \"Testing Accuracy\": 0.138}, {\"K\": 219, \"Training Accuracy\": 0.124, \"Testing Accuracy\": 0.14}, {\"K\": 220, \"Training Accuracy\": 0.123, \"Testing Accuracy\": 0.14100000000000001}, {\"K\": 221, \"Training Accuracy\": 0.123, \"Testing Accuracy\": 0.14}, {\"K\": 222, \"Training Accuracy\": 0.125, \"Testing Accuracy\": 0.14100000000000001}, {\"K\": 223, \"Training Accuracy\": 0.126, \"Testing Accuracy\": 0.14}, {\"K\": 224, \"Training Accuracy\": 0.127, \"Testing Accuracy\": 0.14300000000000002}, {\"K\": 225, \"Training Accuracy\": 0.128, \"Testing Accuracy\": 0.14200000000000002}, {\"K\": 226, \"Training Accuracy\": 0.129, \"Testing Accuracy\": 0.14300000000000002}, {\"K\": 227, \"Training Accuracy\": 0.131, \"Testing Accuracy\": 0.14200000000000002}, {\"K\": 228, \"Training Accuracy\": 0.13, \"Testing Accuracy\": 0.14200000000000002}, {\"K\": 229, \"Training Accuracy\": 0.129, \"Testing Accuracy\": 0.14300000000000002}, {\"K\": 230, \"Training Accuracy\": 0.13, \"Testing Accuracy\": 0.14200000000000002}, {\"K\": 231, \"Training Accuracy\": 0.131, \"Testing Accuracy\": 0.14300000000000002}, {\"K\": 232, \"Training Accuracy\": 0.132, \"Testing Accuracy\": 0.14500000000000002}, {\"K\": 233, \"Training Accuracy\": 0.132, \"Testing Accuracy\": 0.14400000000000002}, {\"K\": 234, \"Training Accuracy\": 0.131, \"Testing Accuracy\": 0.14500000000000002}, {\"K\": 235, \"Training Accuracy\": 0.132, \"Testing Accuracy\": 0.14300000000000002}, {\"K\": 236, \"Training Accuracy\": 0.13, \"Testing Accuracy\": 0.14500000000000002}, {\"K\": 237, \"Training Accuracy\": 0.134, \"Testing Accuracy\": 0.14600000000000002}, {\"K\": 238, \"Training Accuracy\": 0.134, \"Testing Accuracy\": 0.14500000000000002}, {\"K\": 239, \"Training Accuracy\": 0.134, \"Testing Accuracy\": 0.14500000000000002}, {\"K\": 240, \"Training Accuracy\": 0.135, \"Testing Accuracy\": 0.14500000000000002}, {\"K\": 241, \"Training Accuracy\": 0.135, \"Testing Accuracy\": 0.14500000000000002}, {\"K\": 242, \"Training Accuracy\": 0.135, \"Testing Accuracy\": 0.14400000000000002}, {\"K\": 243, \"Training Accuracy\": 0.136, \"Testing Accuracy\": 0.14700000000000002}, {\"K\": 244, \"Training Accuracy\": 0.135, \"Testing Accuracy\": 0.14500000000000002}, {\"K\": 245, \"Training Accuracy\": 0.134, \"Testing Accuracy\": 0.14600000000000002}, {\"K\": 246, \"Training Accuracy\": 0.135, \"Testing Accuracy\": 0.14500000000000002}, {\"K\": 247, \"Training Accuracy\": 0.135, \"Testing Accuracy\": 0.14400000000000002}, {\"K\": 248, \"Training Accuracy\": 0.135, \"Testing Accuracy\": 0.14300000000000002}, {\"K\": 249, \"Training Accuracy\": 0.138, \"Testing Accuracy\": 0.14300000000000002}, {\"K\": 250, \"Training Accuracy\": 0.137, \"Testing Accuracy\": 0.14300000000000002}, {\"K\": 251, \"Training Accuracy\": 0.139, \"Testing Accuracy\": 0.14300000000000002}, {\"K\": 252, \"Training Accuracy\": 0.14, \"Testing Accuracy\": 0.14300000000000002}, {\"K\": 253, \"Training Accuracy\": 0.14, \"Testing Accuracy\": 0.14200000000000002}, {\"K\": 254, \"Training Accuracy\": 0.139, \"Testing Accuracy\": 0.14}, {\"K\": 255, \"Training Accuracy\": 0.14, \"Testing Accuracy\": 0.14200000000000002}, {\"K\": 256, \"Training Accuracy\": 0.139, \"Testing Accuracy\": 0.14}, {\"K\": 257, \"Training Accuracy\": 0.139, \"Testing Accuracy\": 0.14200000000000002}, {\"K\": 258, \"Training Accuracy\": 0.139, \"Testing Accuracy\": 0.14200000000000002}, {\"K\": 259, \"Training Accuracy\": 0.139, \"Testing Accuracy\": 0.14200000000000002}, {\"K\": 260, \"Training Accuracy\": 0.138, \"Testing Accuracy\": 0.14300000000000002}, {\"K\": 261, \"Training Accuracy\": 0.138, \"Testing Accuracy\": 0.14400000000000002}, {\"K\": 262, \"Training Accuracy\": 0.138, \"Testing Accuracy\": 0.14400000000000002}, {\"K\": 263, \"Training Accuracy\": 0.137, \"Testing Accuracy\": 0.14400000000000002}, {\"K\": 264, \"Training Accuracy\": 0.138, \"Testing Accuracy\": 0.14200000000000002}, {\"K\": 265, \"Training Accuracy\": 0.139, \"Testing Accuracy\": 0.14200000000000002}, {\"K\": 266, \"Training Accuracy\": 0.138, \"Testing Accuracy\": 0.14300000000000002}, {\"K\": 267, \"Training Accuracy\": 0.138, \"Testing Accuracy\": 0.14300000000000002}, {\"K\": 268, \"Training Accuracy\": 0.138, \"Testing Accuracy\": 0.14200000000000002}, {\"K\": 269, \"Training Accuracy\": 0.139, \"Testing Accuracy\": 0.14300000000000002}, {\"K\": 270, \"Training Accuracy\": 0.14100000000000001, \"Testing Accuracy\": 0.14200000000000002}, {\"K\": 271, \"Training Accuracy\": 0.139, \"Testing Accuracy\": 0.14200000000000002}, {\"K\": 272, \"Training Accuracy\": 0.14, \"Testing Accuracy\": 0.14200000000000002}, {\"K\": 273, \"Training Accuracy\": 0.139, \"Testing Accuracy\": 0.14200000000000002}, {\"K\": 274, \"Training Accuracy\": 0.139, \"Testing Accuracy\": 0.14400000000000002}, {\"K\": 275, \"Training Accuracy\": 0.139, \"Testing Accuracy\": 0.14400000000000002}, {\"K\": 276, \"Training Accuracy\": 0.138, \"Testing Accuracy\": 0.14500000000000002}, {\"K\": 277, \"Training Accuracy\": 0.14, \"Testing Accuracy\": 0.14500000000000002}, {\"K\": 278, \"Training Accuracy\": 0.14, \"Testing Accuracy\": 0.14500000000000002}, {\"K\": 279, \"Training Accuracy\": 0.14, \"Testing Accuracy\": 0.14500000000000002}, {\"K\": 280, \"Training Accuracy\": 0.14, \"Testing Accuracy\": 0.14500000000000002}, {\"K\": 281, \"Training Accuracy\": 0.14100000000000001, \"Testing Accuracy\": 0.14500000000000002}, {\"K\": 282, \"Training Accuracy\": 0.14100000000000001, \"Testing Accuracy\": 0.14600000000000002}, {\"K\": 283, \"Training Accuracy\": 0.14100000000000001, \"Testing Accuracy\": 0.14600000000000002}, {\"K\": 284, \"Training Accuracy\": 0.14100000000000001, \"Testing Accuracy\": 0.14600000000000002}, {\"K\": 285, \"Training Accuracy\": 0.14200000000000002, \"Testing Accuracy\": 0.14500000000000002}, {\"K\": 286, \"Training Accuracy\": 0.14300000000000002, \"Testing Accuracy\": 0.14600000000000002}, {\"K\": 287, \"Training Accuracy\": 0.14200000000000002, \"Testing Accuracy\": 0.14600000000000002}, {\"K\": 288, \"Training Accuracy\": 0.14300000000000002, \"Testing Accuracy\": 0.14600000000000002}, {\"K\": 289, \"Training Accuracy\": 0.14300000000000002, \"Testing Accuracy\": 0.14600000000000002}, {\"K\": 290, \"Training Accuracy\": 0.14400000000000002, \"Testing Accuracy\": 0.14700000000000002}, {\"K\": 291, \"Training Accuracy\": 0.14400000000000002, \"Testing Accuracy\": 0.14600000000000002}, {\"K\": 292, \"Training Accuracy\": 0.14300000000000002, \"Testing Accuracy\": 0.14700000000000002}, {\"K\": 293, \"Training Accuracy\": 0.14300000000000002, \"Testing Accuracy\": 0.14700000000000002}, {\"K\": 294, \"Training Accuracy\": 0.14300000000000002, \"Testing Accuracy\": 0.14600000000000002}, {\"K\": 295, \"Training Accuracy\": 0.14300000000000002, \"Testing Accuracy\": 0.14500000000000002}, {\"K\": 296, \"Training Accuracy\": 0.14200000000000002, \"Testing Accuracy\": 0.14500000000000002}, {\"K\": 297, \"Training Accuracy\": 0.14300000000000002, \"Testing Accuracy\": 0.14500000000000002}, {\"K\": 298, \"Training Accuracy\": 0.14200000000000002, \"Testing Accuracy\": 0.14500000000000002}, {\"K\": 299, \"Training Accuracy\": 0.14200000000000002, \"Testing Accuracy\": 0.14500000000000002}, {\"K\": 300, \"Training Accuracy\": 0.14200000000000002, \"Testing Accuracy\": 0.14600000000000002}, {\"K\": 301, \"Training Accuracy\": 0.14600000000000002, \"Testing Accuracy\": 0.14600000000000002}, {\"K\": 302, \"Training Accuracy\": 0.14400000000000002, \"Testing Accuracy\": 0.14600000000000002}, {\"K\": 303, \"Training Accuracy\": 0.14500000000000002, \"Testing Accuracy\": 0.14500000000000002}, {\"K\": 304, \"Training Accuracy\": 0.14400000000000002, \"Testing Accuracy\": 0.14700000000000002}, {\"K\": 305, \"Training Accuracy\": 0.14600000000000002, \"Testing Accuracy\": 0.14500000000000002}, {\"K\": 306, \"Training Accuracy\": 0.14500000000000002, \"Testing Accuracy\": 0.14700000000000002}, {\"K\": 307, \"Training Accuracy\": 0.14500000000000002, \"Testing Accuracy\": 0.14700000000000002}, {\"K\": 308, \"Training Accuracy\": 0.14400000000000002, \"Testing Accuracy\": 0.14700000000000002}, {\"K\": 309, \"Training Accuracy\": 0.14300000000000002, \"Testing Accuracy\": 0.14600000000000002}, {\"K\": 310, \"Training Accuracy\": 0.14300000000000002, \"Testing Accuracy\": 0.14600000000000002}, {\"K\": 311, \"Training Accuracy\": 0.14500000000000002, \"Testing Accuracy\": 0.14700000000000002}, {\"K\": 312, \"Training Accuracy\": 0.14700000000000002, \"Testing Accuracy\": 0.14600000000000002}, {\"K\": 313, \"Training Accuracy\": 0.14800000000000002, \"Testing Accuracy\": 0.14800000000000002}, {\"K\": 314, \"Training Accuracy\": 0.14800000000000002, \"Testing Accuracy\": 0.14900000000000002}, {\"K\": 315, \"Training Accuracy\": 0.14900000000000002, \"Testing Accuracy\": 0.15000000000000002}, {\"K\": 316, \"Training Accuracy\": 0.14900000000000002, \"Testing Accuracy\": 0.15000000000000002}, {\"K\": 317, \"Training Accuracy\": 0.14900000000000002, \"Testing Accuracy\": 0.15000000000000002}, {\"K\": 318, \"Training Accuracy\": 0.14900000000000002, \"Testing Accuracy\": 0.15100000000000002}, {\"K\": 319, \"Training Accuracy\": 0.14900000000000002, \"Testing Accuracy\": 0.15000000000000002}, {\"K\": 320, \"Training Accuracy\": 0.14900000000000002, \"Testing Accuracy\": 0.15000000000000002}, {\"K\": 321, \"Training Accuracy\": 0.14800000000000002, \"Testing Accuracy\": 0.14900000000000002}, {\"K\": 322, \"Training Accuracy\": 0.15000000000000002, \"Testing Accuracy\": 0.15000000000000002}, {\"K\": 323, \"Training Accuracy\": 0.14900000000000002, \"Testing Accuracy\": 0.14900000000000002}, {\"K\": 324, \"Training Accuracy\": 0.15000000000000002, \"Testing Accuracy\": 0.15000000000000002}, {\"K\": 325, \"Training Accuracy\": 0.15000000000000002, \"Testing Accuracy\": 0.15000000000000002}, {\"K\": 326, \"Training Accuracy\": 0.15100000000000002, \"Testing Accuracy\": 0.15100000000000002}, {\"K\": 327, \"Training Accuracy\": 0.15100000000000002, \"Testing Accuracy\": 0.15000000000000002}, {\"K\": 328, \"Training Accuracy\": 0.15100000000000002, \"Testing Accuracy\": 0.15100000000000002}, {\"K\": 329, \"Training Accuracy\": 0.15200000000000002, \"Testing Accuracy\": 0.15100000000000002}, {\"K\": 330, \"Training Accuracy\": 0.15200000000000002, \"Testing Accuracy\": 0.15100000000000002}, {\"K\": 331, \"Training Accuracy\": 0.15100000000000002, \"Testing Accuracy\": 0.15100000000000002}, {\"K\": 332, \"Training Accuracy\": 0.15200000000000002, \"Testing Accuracy\": 0.15300000000000002}, {\"K\": 333, \"Training Accuracy\": 0.15000000000000002, \"Testing Accuracy\": 0.15100000000000002}, {\"K\": 334, \"Training Accuracy\": 0.15000000000000002, \"Testing Accuracy\": 0.15100000000000002}, {\"K\": 335, \"Training Accuracy\": 0.15000000000000002, \"Testing Accuracy\": 0.15200000000000002}, {\"K\": 336, \"Training Accuracy\": 0.15000000000000002, \"Testing Accuracy\": 0.15300000000000002}, {\"K\": 337, \"Training Accuracy\": 0.15100000000000002, \"Testing Accuracy\": 0.15300000000000002}, {\"K\": 338, \"Training Accuracy\": 0.15000000000000002, \"Testing Accuracy\": 0.15300000000000002}, {\"K\": 339, \"Training Accuracy\": 0.15100000000000002, \"Testing Accuracy\": 0.15300000000000002}, {\"K\": 340, \"Training Accuracy\": 0.15000000000000002, \"Testing Accuracy\": 0.15400000000000003}, {\"K\": 341, \"Training Accuracy\": 0.15000000000000002, \"Testing Accuracy\": 0.15500000000000003}, {\"K\": 342, \"Training Accuracy\": 0.15000000000000002, \"Testing Accuracy\": 0.15500000000000003}, {\"K\": 343, \"Training Accuracy\": 0.15100000000000002, \"Testing Accuracy\": 0.15600000000000003}, {\"K\": 344, \"Training Accuracy\": 0.15100000000000002, \"Testing Accuracy\": 0.15600000000000003}, {\"K\": 345, \"Training Accuracy\": 0.15200000000000002, \"Testing Accuracy\": 0.15600000000000003}, {\"K\": 346, \"Training Accuracy\": 0.15000000000000002, \"Testing Accuracy\": 0.15500000000000003}, {\"K\": 347, \"Training Accuracy\": 0.15300000000000002, \"Testing Accuracy\": 0.15600000000000003}, {\"K\": 348, \"Training Accuracy\": 0.15100000000000002, \"Testing Accuracy\": 0.15500000000000003}, {\"K\": 349, \"Training Accuracy\": 0.15400000000000003, \"Testing Accuracy\": 0.15600000000000003}, {\"K\": 350, \"Training Accuracy\": 0.15400000000000003, \"Testing Accuracy\": 0.15500000000000003}, {\"K\": 351, \"Training Accuracy\": 0.15400000000000003, \"Testing Accuracy\": 0.15600000000000003}, {\"K\": 352, \"Training Accuracy\": 0.15400000000000003, \"Testing Accuracy\": 0.15700000000000003}, {\"K\": 353, \"Training Accuracy\": 0.15500000000000003, \"Testing Accuracy\": 0.15700000000000003}, {\"K\": 354, \"Training Accuracy\": 0.15400000000000003, \"Testing Accuracy\": 0.15700000000000003}, {\"K\": 355, \"Training Accuracy\": 0.15500000000000003, \"Testing Accuracy\": 0.15600000000000003}, {\"K\": 356, \"Training Accuracy\": 0.15300000000000002, \"Testing Accuracy\": 0.15700000000000003}, {\"K\": 357, \"Training Accuracy\": 0.15400000000000003, \"Testing Accuracy\": 0.15700000000000003}, {\"K\": 358, \"Training Accuracy\": 0.15300000000000002, \"Testing Accuracy\": 0.15800000000000003}, {\"K\": 359, \"Training Accuracy\": 0.15500000000000003, \"Testing Accuracy\": 0.15700000000000003}, {\"K\": 360, \"Training Accuracy\": 0.15500000000000003, \"Testing Accuracy\": 0.15900000000000003}, {\"K\": 361, \"Training Accuracy\": 0.15500000000000003, \"Testing Accuracy\": 0.16000000000000003}, {\"K\": 362, \"Training Accuracy\": 0.15600000000000003, \"Testing Accuracy\": 0.16000000000000003}, {\"K\": 363, \"Training Accuracy\": 0.15500000000000003, \"Testing Accuracy\": 0.16100000000000003}, {\"K\": 364, \"Training Accuracy\": 0.15500000000000003, \"Testing Accuracy\": 0.16100000000000003}, {\"K\": 365, \"Training Accuracy\": 0.15500000000000003, \"Testing Accuracy\": 0.16100000000000003}, {\"K\": 366, \"Training Accuracy\": 0.15500000000000003, \"Testing Accuracy\": 0.16100000000000003}, {\"K\": 367, \"Training Accuracy\": 0.15500000000000003, \"Testing Accuracy\": 0.16100000000000003}, {\"K\": 368, \"Training Accuracy\": 0.15500000000000003, \"Testing Accuracy\": 0.16200000000000003}, {\"K\": 369, \"Training Accuracy\": 0.15500000000000003, \"Testing Accuracy\": 0.16300000000000003}, {\"K\": 370, \"Training Accuracy\": 0.15500000000000003, \"Testing Accuracy\": 0.16400000000000003}, {\"K\": 371, \"Training Accuracy\": 0.15600000000000003, \"Testing Accuracy\": 0.16300000000000003}, {\"K\": 372, \"Training Accuracy\": 0.15600000000000003, \"Testing Accuracy\": 0.16400000000000003}, {\"K\": 373, \"Training Accuracy\": 0.15600000000000003, \"Testing Accuracy\": 0.16200000000000003}, {\"K\": 374, \"Training Accuracy\": 0.15600000000000003, \"Testing Accuracy\": 0.16300000000000003}, {\"K\": 375, \"Training Accuracy\": 0.15600000000000003, \"Testing Accuracy\": 0.16000000000000003}, {\"K\": 376, \"Training Accuracy\": 0.15600000000000003, \"Testing Accuracy\": 0.16300000000000003}, {\"K\": 377, \"Training Accuracy\": 0.15600000000000003, \"Testing Accuracy\": 0.16300000000000003}, {\"K\": 378, \"Training Accuracy\": 0.15600000000000003, \"Testing Accuracy\": 0.16500000000000004}, {\"K\": 379, \"Training Accuracy\": 0.15600000000000003, \"Testing Accuracy\": 0.16500000000000004}, {\"K\": 380, \"Training Accuracy\": 0.15600000000000003, \"Testing Accuracy\": 0.16500000000000004}, {\"K\": 381, \"Training Accuracy\": 0.15600000000000003, \"Testing Accuracy\": 0.16500000000000004}, {\"K\": 382, \"Training Accuracy\": 0.15600000000000003, \"Testing Accuracy\": 0.16600000000000004}, {\"K\": 383, \"Training Accuracy\": 0.15600000000000003, \"Testing Accuracy\": 0.16600000000000004}, {\"K\": 384, \"Training Accuracy\": 0.15600000000000003, \"Testing Accuracy\": 0.16700000000000004}, {\"K\": 385, \"Training Accuracy\": 0.15700000000000003, \"Testing Accuracy\": 0.16600000000000004}, {\"K\": 386, \"Training Accuracy\": 0.15800000000000003, \"Testing Accuracy\": 0.16600000000000004}, {\"K\": 387, \"Training Accuracy\": 0.15700000000000003, \"Testing Accuracy\": 0.16600000000000004}, {\"K\": 388, \"Training Accuracy\": 0.15800000000000003, \"Testing Accuracy\": 0.16700000000000004}, {\"K\": 389, \"Training Accuracy\": 0.15800000000000003, \"Testing Accuracy\": 0.16600000000000004}, {\"K\": 390, \"Training Accuracy\": 0.15800000000000003, \"Testing Accuracy\": 0.16700000000000004}, {\"K\": 391, \"Training Accuracy\": 0.15800000000000003, \"Testing Accuracy\": 0.16700000000000004}, {\"K\": 392, \"Training Accuracy\": 0.15900000000000003, \"Testing Accuracy\": 0.16900000000000004}, {\"K\": 393, \"Training Accuracy\": 0.15800000000000003, \"Testing Accuracy\": 0.16800000000000004}, {\"K\": 394, \"Training Accuracy\": 0.15900000000000003, \"Testing Accuracy\": 0.16900000000000004}, {\"K\": 395, \"Training Accuracy\": 0.16000000000000003, \"Testing Accuracy\": 0.16800000000000004}, {\"K\": 396, \"Training Accuracy\": 0.16100000000000003, \"Testing Accuracy\": 0.17000000000000004}, {\"K\": 397, \"Training Accuracy\": 0.16000000000000003, \"Testing Accuracy\": 0.17000000000000004}, {\"K\": 398, \"Training Accuracy\": 0.16000000000000003, \"Testing Accuracy\": 0.17100000000000004}, {\"K\": 399, \"Training Accuracy\": 0.16000000000000003, \"Testing Accuracy\": 0.17000000000000004}, {\"K\": 400, \"Training Accuracy\": 0.16000000000000003, \"Testing Accuracy\": 0.17100000000000004}, {\"K\": 401, \"Training Accuracy\": 0.16200000000000003, \"Testing Accuracy\": 0.17100000000000004}, {\"K\": 402, \"Training Accuracy\": 0.15900000000000003, \"Testing Accuracy\": 0.17100000000000004}, {\"K\": 403, \"Training Accuracy\": 0.16000000000000003, \"Testing Accuracy\": 0.17100000000000004}, {\"K\": 404, \"Training Accuracy\": 0.16100000000000003, \"Testing Accuracy\": 0.17100000000000004}, {\"K\": 405, \"Training Accuracy\": 0.16200000000000003, \"Testing Accuracy\": 0.17200000000000004}, {\"K\": 406, \"Training Accuracy\": 0.16200000000000003, \"Testing Accuracy\": 0.17200000000000004}, {\"K\": 407, \"Training Accuracy\": 0.16300000000000003, \"Testing Accuracy\": 0.17400000000000004}, {\"K\": 408, \"Training Accuracy\": 0.16200000000000003, \"Testing Accuracy\": 0.17500000000000004}, {\"K\": 409, \"Training Accuracy\": 0.16200000000000003, \"Testing Accuracy\": 0.17300000000000004}, {\"K\": 410, \"Training Accuracy\": 0.16300000000000003, \"Testing Accuracy\": 0.17300000000000004}, {\"K\": 411, \"Training Accuracy\": 0.16500000000000004, \"Testing Accuracy\": 0.17300000000000004}, {\"K\": 412, \"Training Accuracy\": 0.16500000000000004, \"Testing Accuracy\": 0.17500000000000004}, {\"K\": 413, \"Training Accuracy\": 0.16500000000000004, \"Testing Accuracy\": 0.17500000000000004}, {\"K\": 414, \"Training Accuracy\": 0.16500000000000004, \"Testing Accuracy\": 0.17500000000000004}, {\"K\": 415, \"Training Accuracy\": 0.16500000000000004, \"Testing Accuracy\": 0.17500000000000004}, {\"K\": 416, \"Training Accuracy\": 0.16500000000000004, \"Testing Accuracy\": 0.17500000000000004}, {\"K\": 417, \"Training Accuracy\": 0.16500000000000004, \"Testing Accuracy\": 0.17500000000000004}, {\"K\": 418, \"Training Accuracy\": 0.16700000000000004, \"Testing Accuracy\": 0.17500000000000004}, {\"K\": 419, \"Training Accuracy\": 0.16700000000000004, \"Testing Accuracy\": 0.17600000000000005}, {\"K\": 420, \"Training Accuracy\": 0.16800000000000004, \"Testing Accuracy\": 0.17700000000000005}, {\"K\": 421, \"Training Accuracy\": 0.16800000000000004, \"Testing Accuracy\": 0.17700000000000005}, {\"K\": 422, \"Training Accuracy\": 0.16800000000000004, \"Testing Accuracy\": 0.17700000000000005}, {\"K\": 423, \"Training Accuracy\": 0.16800000000000004, \"Testing Accuracy\": 0.17700000000000005}, {\"K\": 424, \"Training Accuracy\": 0.16800000000000004, \"Testing Accuracy\": 0.17800000000000005}, {\"K\": 425, \"Training Accuracy\": 0.16800000000000004, \"Testing Accuracy\": 0.17800000000000005}, {\"K\": 426, \"Training Accuracy\": 0.16800000000000004, \"Testing Accuracy\": 0.17900000000000005}, {\"K\": 427, \"Training Accuracy\": 0.16900000000000004, \"Testing Accuracy\": 0.17800000000000005}, {\"K\": 428, \"Training Accuracy\": 0.16900000000000004, \"Testing Accuracy\": 0.17900000000000005}, {\"K\": 429, \"Training Accuracy\": 0.17100000000000004, \"Testing Accuracy\": 0.17900000000000005}, {\"K\": 430, \"Training Accuracy\": 0.17000000000000004, \"Testing Accuracy\": 0.17900000000000005}, {\"K\": 431, \"Training Accuracy\": 0.17000000000000004, \"Testing Accuracy\": 0.17900000000000005}, {\"K\": 432, \"Training Accuracy\": 0.17000000000000004, \"Testing Accuracy\": 0.17900000000000005}, {\"K\": 433, \"Training Accuracy\": 0.17000000000000004, \"Testing Accuracy\": 0.17900000000000005}, {\"K\": 434, \"Training Accuracy\": 0.16900000000000004, \"Testing Accuracy\": 0.17900000000000005}, {\"K\": 435, \"Training Accuracy\": 0.16900000000000004, \"Testing Accuracy\": 0.17900000000000005}, {\"K\": 436, \"Training Accuracy\": 0.16900000000000004, \"Testing Accuracy\": 0.17900000000000005}, {\"K\": 437, \"Training Accuracy\": 0.16900000000000004, \"Testing Accuracy\": 0.17800000000000005}, {\"K\": 438, \"Training Accuracy\": 0.16900000000000004, \"Testing Accuracy\": 0.17700000000000005}, {\"K\": 439, \"Training Accuracy\": 0.16900000000000004, \"Testing Accuracy\": 0.17900000000000005}, {\"K\": 440, \"Training Accuracy\": 0.16900000000000004, \"Testing Accuracy\": 0.18000000000000005}, {\"K\": 441, \"Training Accuracy\": 0.16900000000000004, \"Testing Accuracy\": 0.18000000000000005}, {\"K\": 442, \"Training Accuracy\": 0.16900000000000004, \"Testing Accuracy\": 0.17900000000000005}, {\"K\": 443, \"Training Accuracy\": 0.16900000000000004, \"Testing Accuracy\": 0.17800000000000005}, {\"K\": 444, \"Training Accuracy\": 0.16900000000000004, \"Testing Accuracy\": 0.17900000000000005}, {\"K\": 445, \"Training Accuracy\": 0.17000000000000004, \"Testing Accuracy\": 0.17800000000000005}, {\"K\": 446, \"Training Accuracy\": 0.17000000000000004, \"Testing Accuracy\": 0.17800000000000005}, {\"K\": 447, \"Training Accuracy\": 0.17100000000000004, \"Testing Accuracy\": 0.17800000000000005}, {\"K\": 448, \"Training Accuracy\": 0.17100000000000004, \"Testing Accuracy\": 0.17800000000000005}, {\"K\": 449, \"Training Accuracy\": 0.17100000000000004, \"Testing Accuracy\": 0.17800000000000005}, {\"K\": 450, \"Training Accuracy\": 0.17100000000000004, \"Testing Accuracy\": 0.17800000000000005}, {\"K\": 451, \"Training Accuracy\": 0.17100000000000004, \"Testing Accuracy\": 0.17700000000000005}, {\"K\": 452, \"Training Accuracy\": 0.17100000000000004, \"Testing Accuracy\": 0.18000000000000005}, {\"K\": 453, \"Training Accuracy\": 0.17200000000000004, \"Testing Accuracy\": 0.18000000000000005}, {\"K\": 454, \"Training Accuracy\": 0.17200000000000004, \"Testing Accuracy\": 0.18100000000000005}, {\"K\": 455, \"Training Accuracy\": 0.17100000000000004, \"Testing Accuracy\": 0.18200000000000005}, {\"K\": 456, \"Training Accuracy\": 0.17200000000000004, \"Testing Accuracy\": 0.18500000000000005}, {\"K\": 457, \"Training Accuracy\": 0.17100000000000004, \"Testing Accuracy\": 0.18100000000000005}, {\"K\": 458, \"Training Accuracy\": 0.17300000000000004, \"Testing Accuracy\": 0.18400000000000005}, {\"K\": 459, \"Training Accuracy\": 0.17300000000000004, \"Testing Accuracy\": 0.18200000000000005}, {\"K\": 460, \"Training Accuracy\": 0.17400000000000004, \"Testing Accuracy\": 0.18300000000000005}, {\"K\": 461, \"Training Accuracy\": 0.17300000000000004, \"Testing Accuracy\": 0.18200000000000005}, {\"K\": 462, \"Training Accuracy\": 0.17300000000000004, \"Testing Accuracy\": 0.18400000000000005}, {\"K\": 463, \"Training Accuracy\": 0.17400000000000004, \"Testing Accuracy\": 0.18300000000000005}, {\"K\": 464, \"Training Accuracy\": 0.17300000000000004, \"Testing Accuracy\": 0.18400000000000005}, {\"K\": 465, \"Training Accuracy\": 0.17500000000000004, \"Testing Accuracy\": 0.18300000000000005}, {\"K\": 466, \"Training Accuracy\": 0.17600000000000005, \"Testing Accuracy\": 0.18300000000000005}, {\"K\": 467, \"Training Accuracy\": 0.17600000000000005, \"Testing Accuracy\": 0.18300000000000005}, {\"K\": 468, \"Training Accuracy\": 0.17600000000000005, \"Testing Accuracy\": 0.18200000000000005}, {\"K\": 469, \"Training Accuracy\": 0.17600000000000005, \"Testing Accuracy\": 0.18300000000000005}, {\"K\": 470, \"Training Accuracy\": 0.17600000000000005, \"Testing Accuracy\": 0.18200000000000005}, {\"K\": 471, \"Training Accuracy\": 0.17700000000000005, \"Testing Accuracy\": 0.18300000000000005}, {\"K\": 472, \"Training Accuracy\": 0.17700000000000005, \"Testing Accuracy\": 0.18400000000000005}, {\"K\": 473, \"Training Accuracy\": 0.17700000000000005, \"Testing Accuracy\": 0.18400000000000005}, {\"K\": 474, \"Training Accuracy\": 0.17700000000000005, \"Testing Accuracy\": 0.18300000000000005}, {\"K\": 475, \"Training Accuracy\": 0.17700000000000005, \"Testing Accuracy\": 0.18400000000000005}, {\"K\": 476, \"Training Accuracy\": 0.17700000000000005, \"Testing Accuracy\": 0.18600000000000005}, {\"K\": 477, \"Training Accuracy\": 0.17800000000000005, \"Testing Accuracy\": 0.18300000000000005}, {\"K\": 478, \"Training Accuracy\": 0.17800000000000005, \"Testing Accuracy\": 0.18500000000000005}, {\"K\": 479, \"Training Accuracy\": 0.18000000000000005, \"Testing Accuracy\": 0.18300000000000005}, {\"K\": 480, \"Training Accuracy\": 0.18000000000000005, \"Testing Accuracy\": 0.18500000000000005}, {\"K\": 481, \"Training Accuracy\": 0.18100000000000005, \"Testing Accuracy\": 0.18500000000000005}, {\"K\": 482, \"Training Accuracy\": 0.18200000000000005, \"Testing Accuracy\": 0.18600000000000005}, {\"K\": 483, \"Training Accuracy\": 0.18200000000000005, \"Testing Accuracy\": 0.18400000000000005}, {\"K\": 484, \"Training Accuracy\": 0.18200000000000005, \"Testing Accuracy\": 0.18700000000000006}, {\"K\": 485, \"Training Accuracy\": 0.18300000000000005, \"Testing Accuracy\": 0.18600000000000005}, {\"K\": 486, \"Training Accuracy\": 0.18300000000000005, \"Testing Accuracy\": 0.18600000000000005}, {\"K\": 487, \"Training Accuracy\": 0.18200000000000005, \"Testing Accuracy\": 0.18600000000000005}, {\"K\": 488, \"Training Accuracy\": 0.18400000000000005, \"Testing Accuracy\": 0.18799999999999994}, {\"K\": 489, \"Training Accuracy\": 0.18500000000000005, \"Testing Accuracy\": 0.18799999999999994}, {\"K\": 490, \"Training Accuracy\": 0.18500000000000005, \"Testing Accuracy\": 0.18899999999999995}, {\"K\": 491, \"Training Accuracy\": 0.18500000000000005, \"Testing Accuracy\": 0.18799999999999994}, {\"K\": 492, \"Training Accuracy\": 0.18600000000000005, \"Testing Accuracy\": 0.18899999999999995}, {\"K\": 493, \"Training Accuracy\": 0.18799999999999994, \"Testing Accuracy\": 0.18899999999999995}, {\"K\": 494, \"Training Accuracy\": 0.19099999999999995, \"Testing Accuracy\": 0.18999999999999995}, {\"K\": 495, \"Training Accuracy\": 0.19099999999999995, \"Testing Accuracy\": 0.18799999999999994}, {\"K\": 496, \"Training Accuracy\": 0.19099999999999995, \"Testing Accuracy\": 0.18899999999999995}, {\"K\": 497, \"Training Accuracy\": 0.19099999999999995, \"Testing Accuracy\": 0.18899999999999995}, {\"K\": 498, \"Training Accuracy\": 0.19299999999999995, \"Testing Accuracy\": 0.18899999999999995}, {\"K\": 499, \"Training Accuracy\": 0.19199999999999995, \"Testing Accuracy\": 0.18899999999999995}]}}, {\"mode\": \"vega-lite\"});\n",
       "</script>"
      ],
      "text/plain": [
       "alt.LayerChart(...)"
      ]
     },
     "execution_count": 15,
     "metadata": {},
     "output_type": "execute_result"
    }
   ],
   "source": [
    "K_List = [k for k in range(1, 500)]\n",
    "Accuracy_Train = [1 - KNeighborsClassifier(n_neighbors = k).fit(X_data, Y_data).score(X_data, Y_data) for k in K_List] \n",
    "Accuracy_Test = [1 - KNeighborsClassifier(n_neighbors = k).fit(X_data, Y_data).score(X_test, Y_test) for k in K_List]\n",
    "plot_data = pd.DataFrame({'K': K_List, 'Training Accuracy': Accuracy_Train, 'Testing Accuracy': Accuracy_Test})\n",
    "training_plot = alt.Chart(plot_data).mark_line().encode(x='K', y=alt.Y('Training Accuracy', scale=alt.Scale(zero=False)))\n",
    "testing_plot = alt.Chart(plot_data).mark_line().encode(x='K', y=alt.Y('Testing Accuracy', scale=alt.Scale(zero=False)))\n",
    "training_plot + testing_plot"
   ]
  },
  {
   "attachments": {},
   "cell_type": "markdown",
   "metadata": {},
   "source": [
    "---\n",
    "\n",
    "## 7\n",
    "**[18 points] Linear regression and nonlinear transformations**. Linear regression can be used to model nonlinear relationships when feature variables are properly transformed to represent the nonlinearities in the data. In this exercise, you're given training and test data contained in files \"A2_Q7_train.csv\" and \"A2_Q7_test.csv\" in the \"data\" folder for this assignment. Your goal is to develop a regression algorithm from the training data that performs well on the test data.\n",
    "\n",
    "*Hint: Use the scikit learn [LinearRegression](http://scikit-learn.org/stable/modules/generated/sklearn.linear_model.LinearRegression.html) module.*\n",
    "\n",
    "**(a)** Create a scatter plot of your training data.\n",
    "\n",
    "**(b)** Estimate a linear regression model ($y = a_0 + a_1 x$) for the training data and calculate both the $R^2$ value and mean square error for the fit of that model for the training data. Also provide the equation representing the estimated model (e.g. $y = a_0 + a_1 x$, but with the estimated coefficients inserted. Consider this your baseline model against which you will compare other model options. *Evaluating performance on the training data is not a measure of how well this model would generalize to unseen data. We will evaluate performance on the test data once we see our models fit the training data decently well.*  \n",
    "\n",
    "**(c)** If features can be nonlinearly transformed, a linear model may incorporate those non-linear feature transformation relationships in the training process. From looking at the scatter plot of the training data, choose a transformation of the predictor variable, $x$ that may make sense for these data. This will be a multiple regression model of the form $y = a_0 + a_1 z_1 + a_2 z_2 + \\ldots + a_n z_n$. Here $z_i$ could be any transformations of x - perhaps it's $\\frac{1}{x}$, $log(x)$, $sin(x)$, $x^k$ (where $k$ is any power of your choosing). Provide the estimated equation for this multiple regression model (e.g. if you chose your predictors to be $z_1 = x$ and $z_2 = log(x)$, your model would be of the form $y = a_0 + a_1 x + a_2 log(x)$. Also provide the $R^2$ and mean square error of the fit for the training data.\n",
    "\n",
    "**(d)** Visualize the model fit to the training data. Using both of the models you created in parts (b) and (c), plot the original data (as a scatter plot) AND the curves representing your models (each as a separate curve) from (b) and (c).\n",
    "\n",
    "**(e)** Now its time to compare your models and evaluate the generalization performance on held out test data. Using the models above from (b) an (c), apply them to the test data and estimate the $R^2$ and mean square error of the test dataset.\n",
    "\n",
    "**(f)** Which models perform better on the training data, and which on the test data? Why?\n",
    "\n",
    "**(g)** Imagine that the test data were significantly different from the training dataset. How might this affect the predictive capability of your model? How would the accuracy of generalization performance be impacted? Why?\n",
    "\n",
    "*To help get you started - here's some code to help you load in the data for this exercise (you'll just need to update the path)*:"
   ]
  },
  {
   "cell_type": "code",
   "execution_count": null,
   "metadata": {},
   "outputs": [],
   "source": [
    "# import numpy as np\n",
    "# import pandas as pd\n",
    "\n",
    "# path = './data/'\n",
    "# train = pd.read_csv(path + 'A2_Q7_train.csv')\n",
    "# test = pd.read_csv(path + 'A2_Q7_test.csv')\n",
    "\n",
    "# x_train = train.x.values\n",
    "# y_train = train.y.values\n",
    "\n",
    "# x_test = test.x.values\n",
    "# y_test = test.y.values"
   ]
  },
  {
   "cell_type": "markdown",
   "metadata": {},
   "source": [
    "**ANSWER**"
   ]
  },
  {
   "attachments": {},
   "cell_type": "markdown",
   "metadata": {},
   "source": [
    "**(a)** Scatter Plot of Training Data"
   ]
  },
  {
   "cell_type": "code",
   "execution_count": 57,
   "metadata": {},
   "outputs": [
    {
     "data": {
      "text/html": [
       "\n",
       "<div id=\"altair-viz-4535600709ff4e109e0ec5e3b5ecba9a\"></div>\n",
       "<script type=\"text/javascript\">\n",
       "  var VEGA_DEBUG = (typeof VEGA_DEBUG == \"undefined\") ? {} : VEGA_DEBUG;\n",
       "  (function(spec, embedOpt){\n",
       "    let outputDiv = document.currentScript.previousElementSibling;\n",
       "    if (outputDiv.id !== \"altair-viz-4535600709ff4e109e0ec5e3b5ecba9a\") {\n",
       "      outputDiv = document.getElementById(\"altair-viz-4535600709ff4e109e0ec5e3b5ecba9a\");\n",
       "    }\n",
       "    const paths = {\n",
       "      \"vega\": \"https://cdn.jsdelivr.net/npm//vega@5?noext\",\n",
       "      \"vega-lib\": \"https://cdn.jsdelivr.net/npm//vega-lib?noext\",\n",
       "      \"vega-lite\": \"https://cdn.jsdelivr.net/npm//vega-lite@4.17.0?noext\",\n",
       "      \"vega-embed\": \"https://cdn.jsdelivr.net/npm//vega-embed@6?noext\",\n",
       "    };\n",
       "\n",
       "    function maybeLoadScript(lib, version) {\n",
       "      var key = `${lib.replace(\"-\", \"\")}_version`;\n",
       "      return (VEGA_DEBUG[key] == version) ?\n",
       "        Promise.resolve(paths[lib]) :\n",
       "        new Promise(function(resolve, reject) {\n",
       "          var s = document.createElement('script');\n",
       "          document.getElementsByTagName(\"head\")[0].appendChild(s);\n",
       "          s.async = true;\n",
       "          s.onload = () => {\n",
       "            VEGA_DEBUG[key] = version;\n",
       "            return resolve(paths[lib]);\n",
       "          };\n",
       "          s.onerror = () => reject(`Error loading script: ${paths[lib]}`);\n",
       "          s.src = paths[lib];\n",
       "        });\n",
       "    }\n",
       "\n",
       "    function showError(err) {\n",
       "      outputDiv.innerHTML = `<div class=\"error\" style=\"color:red;\">${err}</div>`;\n",
       "      throw err;\n",
       "    }\n",
       "\n",
       "    function displayChart(vegaEmbed) {\n",
       "      vegaEmbed(outputDiv, spec, embedOpt)\n",
       "        .catch(err => showError(`Javascript Error: ${err.message}<br>This usually means there's a typo in your chart specification. See the javascript console for the full traceback.`));\n",
       "    }\n",
       "\n",
       "    if(typeof define === \"function\" && define.amd) {\n",
       "      requirejs.config({paths});\n",
       "      require([\"vega-embed\"], displayChart, err => showError(`Error loading script: ${err.message}`));\n",
       "    } else {\n",
       "      maybeLoadScript(\"vega\", \"5\")\n",
       "        .then(() => maybeLoadScript(\"vega-lite\", \"4.17.0\"))\n",
       "        .then(() => maybeLoadScript(\"vega-embed\", \"6\"))\n",
       "        .catch(showError)\n",
       "        .then(() => displayChart(vegaEmbed));\n",
       "    }\n",
       "  })({\"config\": {\"view\": {\"continuousWidth\": 400, \"continuousHeight\": 300}}, \"data\": {\"name\": \"data-64089ef3659b166a44a2135408b54e00\"}, \"mark\": \"point\", \"encoding\": {\"x\": {\"field\": \"x\", \"type\": \"quantitative\"}, \"y\": {\"field\": \"y\", \"type\": \"quantitative\"}}, \"$schema\": \"https://vega.github.io/schema/vega-lite/v4.17.0.json\", \"datasets\": {\"data-64089ef3659b166a44a2135408b54e00\": [{\"x\": -0.2545988115263751, \"y\": 45.8355800473331}, {\"x\": 5.507143064099161, \"y\": 68.44815235744446}, {\"x\": 3.3199394181140507, \"y\": -0.9510310535048712}, {\"x\": 1.986584841970366, \"y\": -4.024991723711713}, {\"x\": -2.439813595575635, \"y\": -16.37482564039904}, {\"x\": -2.4400547966379733, \"y\": 2.587398237310431}, {\"x\": -3.419163878318005, \"y\": -20.35432272637388}, {\"x\": 4.661761457749352, \"y\": 53.96308606186548}, {\"x\": 2.011150117432088, \"y\": 11.90616530339484}, {\"x\": 3.0807257779604544, \"y\": -43.42258090153083}, {\"x\": -3.794155057041976, \"y\": -18.12500676087442}, {\"x\": 5.699098521619943, \"y\": 65.53576706958434}, {\"x\": 4.324426408004218, \"y\": 0.820737095881519}, {\"x\": -1.8766088932172384, \"y\": 43.99722966641118}, {\"x\": -2.181750327928994, \"y\": 50.78320174051622}, {\"x\": -2.165954901465662, \"y\": 48.52101090580413}, {\"x\": -0.9575775704046228, \"y\": 10.516590742704317}, {\"x\": 1.2475643163223786, \"y\": 3.00037726982212}, {\"x\": 0.3194501864211574, \"y\": 29.87476709633224}, {\"x\": -1.0877085980195806, \"y\": 56.1393712590606}, {\"x\": 2.118528947223795, \"y\": -9.42793391786978}, {\"x\": -2.605061393479581, \"y\": 12.443066837567676}, {\"x\": -1.0785535146478185, \"y\": 4.08063712027996}, {\"x\": -0.336381567063083, \"y\": -1.8509785071686835}, {\"x\": 0.5606998421703597, \"y\": 39.12790002161314}, {\"x\": 3.851759613930136, \"y\": 41.926785878033655}, {\"x\": -2.003262178416403, \"y\": 25.561816264958534}, {\"x\": 1.1423443841361165, \"y\": 37.02370003976128}, {\"x\": 1.924145688620425, \"y\": 13.037670891929324}, {\"x\": -3.5354958728000225, \"y\": -29.965137293959263}, {\"x\": 2.075448519014383, \"y\": 11.882403806789997}, {\"x\": -2.294758763127085, \"y\": 61.67628814490515}, {\"x\": -3.349484070147205, \"y\": -6.904522369773458}, {\"x\": 5.488855372533333, \"y\": 102.28713076671508}, {\"x\": 5.656320330745594, \"y\": 7.125750470383878}, {\"x\": 4.083973481164611, \"y\": 32.794551035275234}, {\"x\": -0.9538623082662934, \"y\": 33.66327708919423}, {\"x\": -3.0232788599361613, \"y\": -1.812330299227369}, {\"x\": 2.8423302651215687, \"y\": 2.4442327922113645}, {\"x\": 0.4015249373960134, \"y\": -29.02667093580745}, {\"x\": -2.779617651552212, \"y\": 7.285232632474963}, {\"x\": 0.951769101112702, \"y\": 23.09822243076559}, {\"x\": -3.656114788847816, \"y\": 17.555350689411938}, {\"x\": 5.093204020787821, \"y\": 30.974875125395396}, {\"x\": -1.4122001839998308, \"y\": 11.306955259709028}, {\"x\": 2.62522284353982, \"y\": -12.243964862918205}, {\"x\": -0.8828892391058902, \"y\": 54.154954810797}, {\"x\": 1.200680211778108, \"y\": 19.482996674290955}, {\"x\": 1.4671027934327965, \"y\": -4.922992212747701}, {\"x\": -2.1514554447447294, \"y\": 38.27864295530823}]}}, {\"mode\": \"vega-lite\"});\n",
       "</script>"
      ],
      "text/plain": [
       "alt.Chart(...)"
      ]
     },
     "execution_count": 57,
     "metadata": {},
     "output_type": "execute_result"
    }
   ],
   "source": [
    "train = pd.read_csv('data/A2_Q7_train.csv', index_col=0)\n",
    "test = pd.read_csv('data/A2_Q7_test.csv', index_col=0)\n",
    "scatter = alt.Chart(train).mark_point().encode(x='x', y='y')\n",
    "scatter"
   ]
  },
  {
   "attachments": {},
   "cell_type": "markdown",
   "metadata": {},
   "source": [
    "**(b)** Linear Regression of Training Data"
   ]
  },
  {
   "cell_type": "code",
   "execution_count": 80,
   "metadata": {},
   "outputs": [
    {
     "name": "stdout",
     "output_type": "stream",
     "text": [
      "The linear regression model that estimates this training data set is  17.20 +  2.59 x.\n",
      "It's r-squared value is  0.06.\n"
     ]
    }
   ],
   "source": [
    "from sklearn.linear_model import LinearRegression\n",
    "\n",
    "linear_model = LinearRegression()\n",
    "train_x = train.loc[:, 'x'].to_numpy().reshape(-1, 1)\n",
    "train_y = train.loc[:, 'y'].to_numpy().reshape(-1, 1)\n",
    "predictor = train.loc[:, 'x'].name\n",
    "linear_model.fit(train_x, train_y)\n",
    "print(f\"\"\"The linear regression model that estimates this training data set is \\\n",
    "{linear_model.intercept_[0]: .2f} + {linear_model.coef_.tolist()[0][0]: .2f} {predictor}.\n",
    "It's r-squared value is {linear_model.score(train_x, train_y): .2f}.\"\"\")\n"
   ]
  },
  {
   "attachments": {},
   "cell_type": "markdown",
   "metadata": {},
   "source": [
    "**(c)** Non-linear Transformation Regression"
   ]
  },
  {
   "cell_type": "code",
   "execution_count": 56,
   "metadata": {},
   "outputs": [
    {
     "name": "stdout",
     "output_type": "stream",
     "text": [
      "The linear regression model that estimates this training data set is  12.39 + -5.584164152638165 x + 0.47095383745026753 x^3.\n",
      "It's r-squared value is  0.28.\n"
     ]
    }
   ],
   "source": [
    "nonLinear_transformation = LinearRegression()\n",
    "nonLinear_predictors = np.vstack((train.loc[:, 'x'].to_numpy(), train.loc[:, 'x'] ** 3)).T\n",
    "nonLinear_transformation.fit(nonLinear_predictors, train_y)\n",
    "print(f\"\"\"The linear regression model that estimates this training data set is \\\n",
    "{nonLinear_transformation.intercept_[0]: .2f} + {nonLinear_transformation.coef_.tolist()[0][0]} {train.loc[:, 'x'].name} + {nonLinear_transformation.coef_.tolist()[0][1]} {train.loc[:, 'x'].name}^3.\n",
    "It's r-squared value is {nonLinear_transformation.score(np.vstack((train.loc[:, 'x'].to_numpy(), train.loc[:, 'x'] ** 3)).T, train.loc[:, 'y'].to_numpy().reshape(-1, 1)): .2f}.\"\"\")"
   ]
  },
  {
   "attachments": {},
   "cell_type": "markdown",
   "metadata": {},
   "source": [
    "**(d)** Plotting Regressions"
   ]
  },
  {
   "cell_type": "code",
   "execution_count": 78,
   "metadata": {},
   "outputs": [
    {
     "data": {
      "text/html": [
       "\n",
       "<div id=\"altair-viz-04fc9b4bf8bf4b4d9e4f880d75ab33cc\"></div>\n",
       "<script type=\"text/javascript\">\n",
       "  var VEGA_DEBUG = (typeof VEGA_DEBUG == \"undefined\") ? {} : VEGA_DEBUG;\n",
       "  (function(spec, embedOpt){\n",
       "    let outputDiv = document.currentScript.previousElementSibling;\n",
       "    if (outputDiv.id !== \"altair-viz-04fc9b4bf8bf4b4d9e4f880d75ab33cc\") {\n",
       "      outputDiv = document.getElementById(\"altair-viz-04fc9b4bf8bf4b4d9e4f880d75ab33cc\");\n",
       "    }\n",
       "    const paths = {\n",
       "      \"vega\": \"https://cdn.jsdelivr.net/npm//vega@5?noext\",\n",
       "      \"vega-lib\": \"https://cdn.jsdelivr.net/npm//vega-lib?noext\",\n",
       "      \"vega-lite\": \"https://cdn.jsdelivr.net/npm//vega-lite@4.17.0?noext\",\n",
       "      \"vega-embed\": \"https://cdn.jsdelivr.net/npm//vega-embed@6?noext\",\n",
       "    };\n",
       "\n",
       "    function maybeLoadScript(lib, version) {\n",
       "      var key = `${lib.replace(\"-\", \"\")}_version`;\n",
       "      return (VEGA_DEBUG[key] == version) ?\n",
       "        Promise.resolve(paths[lib]) :\n",
       "        new Promise(function(resolve, reject) {\n",
       "          var s = document.createElement('script');\n",
       "          document.getElementsByTagName(\"head\")[0].appendChild(s);\n",
       "          s.async = true;\n",
       "          s.onload = () => {\n",
       "            VEGA_DEBUG[key] = version;\n",
       "            return resolve(paths[lib]);\n",
       "          };\n",
       "          s.onerror = () => reject(`Error loading script: ${paths[lib]}`);\n",
       "          s.src = paths[lib];\n",
       "        });\n",
       "    }\n",
       "\n",
       "    function showError(err) {\n",
       "      outputDiv.innerHTML = `<div class=\"error\" style=\"color:red;\">${err}</div>`;\n",
       "      throw err;\n",
       "    }\n",
       "\n",
       "    function displayChart(vegaEmbed) {\n",
       "      vegaEmbed(outputDiv, spec, embedOpt)\n",
       "        .catch(err => showError(`Javascript Error: ${err.message}<br>This usually means there's a typo in your chart specification. See the javascript console for the full traceback.`));\n",
       "    }\n",
       "\n",
       "    if(typeof define === \"function\" && define.amd) {\n",
       "      requirejs.config({paths});\n",
       "      require([\"vega-embed\"], displayChart, err => showError(`Error loading script: ${err.message}`));\n",
       "    } else {\n",
       "      maybeLoadScript(\"vega\", \"5\")\n",
       "        .then(() => maybeLoadScript(\"vega-lite\", \"4.17.0\"))\n",
       "        .then(() => maybeLoadScript(\"vega-embed\", \"6\"))\n",
       "        .catch(showError)\n",
       "        .then(() => displayChart(vegaEmbed));\n",
       "    }\n",
       "  })({\"config\": {\"view\": {\"continuousWidth\": 400, \"continuousHeight\": 300}}, \"layer\": [{\"data\": {\"name\": \"data-64089ef3659b166a44a2135408b54e00\"}, \"mark\": \"point\", \"encoding\": {\"x\": {\"field\": \"x\", \"type\": \"quantitative\"}, \"y\": {\"field\": \"y\", \"type\": \"quantitative\"}}}, {\"data\": {\"name\": \"data-62946e658e73d381611f486dc3930b6c\"}, \"mark\": \"line\", \"encoding\": {\"x\": {\"field\": \"x\", \"type\": \"quantitative\"}, \"y\": {\"field\": \"y_hat\", \"type\": \"quantitative\"}}}, {\"data\": {\"name\": \"data-99f37282f2ef7f12b0534510e45f83a0\"}, \"mark\": \"line\", \"encoding\": {\"x\": {\"field\": \"x\", \"type\": \"quantitative\"}, \"y\": {\"field\": \"y_hat\", \"type\": \"quantitative\"}}}], \"$schema\": \"https://vega.github.io/schema/vega-lite/v4.17.0.json\", \"datasets\": {\"data-64089ef3659b166a44a2135408b54e00\": [{\"x\": -0.2545988115263751, \"y\": 45.8355800473331}, {\"x\": 5.507143064099161, \"y\": 68.44815235744446}, {\"x\": 3.3199394181140507, \"y\": -0.9510310535048712}, {\"x\": 1.986584841970366, \"y\": -4.024991723711713}, {\"x\": -2.439813595575635, \"y\": -16.37482564039904}, {\"x\": -2.4400547966379733, \"y\": 2.587398237310431}, {\"x\": -3.419163878318005, \"y\": -20.35432272637388}, {\"x\": 4.661761457749352, \"y\": 53.96308606186548}, {\"x\": 2.011150117432088, \"y\": 11.90616530339484}, {\"x\": 3.0807257779604544, \"y\": -43.42258090153083}, {\"x\": -3.794155057041976, \"y\": -18.12500676087442}, {\"x\": 5.699098521619943, \"y\": 65.53576706958434}, {\"x\": 4.324426408004218, \"y\": 0.820737095881519}, {\"x\": -1.8766088932172384, \"y\": 43.99722966641118}, {\"x\": -2.181750327928994, \"y\": 50.78320174051622}, {\"x\": -2.165954901465662, \"y\": 48.52101090580413}, {\"x\": -0.9575775704046228, \"y\": 10.516590742704317}, {\"x\": 1.2475643163223786, \"y\": 3.00037726982212}, {\"x\": 0.3194501864211574, \"y\": 29.87476709633224}, {\"x\": -1.0877085980195806, \"y\": 56.1393712590606}, {\"x\": 2.118528947223795, \"y\": -9.42793391786978}, {\"x\": -2.605061393479581, \"y\": 12.443066837567676}, {\"x\": -1.0785535146478185, \"y\": 4.08063712027996}, {\"x\": -0.336381567063083, \"y\": -1.8509785071686835}, {\"x\": 0.5606998421703597, \"y\": 39.12790002161314}, {\"x\": 3.851759613930136, \"y\": 41.926785878033655}, {\"x\": -2.003262178416403, \"y\": 25.561816264958534}, {\"x\": 1.1423443841361165, \"y\": 37.02370003976128}, {\"x\": 1.924145688620425, \"y\": 13.037670891929324}, {\"x\": -3.5354958728000225, \"y\": -29.965137293959263}, {\"x\": 2.075448519014383, \"y\": 11.882403806789997}, {\"x\": -2.294758763127085, \"y\": 61.67628814490515}, {\"x\": -3.349484070147205, \"y\": -6.904522369773458}, {\"x\": 5.488855372533333, \"y\": 102.28713076671508}, {\"x\": 5.656320330745594, \"y\": 7.125750470383878}, {\"x\": 4.083973481164611, \"y\": 32.794551035275234}, {\"x\": -0.9538623082662934, \"y\": 33.66327708919423}, {\"x\": -3.0232788599361613, \"y\": -1.812330299227369}, {\"x\": 2.8423302651215687, \"y\": 2.4442327922113645}, {\"x\": 0.4015249373960134, \"y\": -29.02667093580745}, {\"x\": -2.779617651552212, \"y\": 7.285232632474963}, {\"x\": 0.951769101112702, \"y\": 23.09822243076559}, {\"x\": -3.656114788847816, \"y\": 17.555350689411938}, {\"x\": 5.093204020787821, \"y\": 30.974875125395396}, {\"x\": -1.4122001839998308, \"y\": 11.306955259709028}, {\"x\": 2.62522284353982, \"y\": -12.243964862918205}, {\"x\": -0.8828892391058902, \"y\": 54.154954810797}, {\"x\": 1.200680211778108, \"y\": 19.482996674290955}, {\"x\": 1.4671027934327965, \"y\": -4.922992212747701}, {\"x\": -2.1514554447447294, \"y\": 38.27864295530823}], \"data-62946e658e73d381611f486dc3930b6c\": [{\"x\": -0.2545988115263751, \"y_hat\": 16.545331843911242}, {\"x\": 5.507143064099161, \"y_hat\": 31.47243933683489}, {\"x\": 3.3199394181140507, \"y_hat\": 25.805989045014122}, {\"x\": 1.986584841970366, \"y_hat\": 22.351629666563554}, {\"x\": -2.439813595575635, \"y_hat\": 10.884034152909095}, {\"x\": -2.4400547966379733, \"y_hat\": 10.883409266501015}, {\"x\": -3.419163878318005, \"y_hat\": 8.346803700853586}, {\"x\": 4.661761457749352, \"y_hat\": 29.282285320406647}, {\"x\": 2.011150117432088, \"y_hat\": 22.415271619869664}, {\"x\": 3.0807257779604544, \"y_hat\": 25.186251507750946}, {\"x\": -3.794155057041976, \"y_hat\": 7.375303457604119}, {\"x\": 5.699098521619943, \"y_hat\": 31.969743764925916}, {\"x\": 4.324426408004218, \"y_hat\": 28.40834187459241}, {\"x\": -1.8766088932172384, \"y_hat\": 12.343144490390348}, {\"x\": -2.181750327928994, \"y_hat\": 11.552605952772712}, {\"x\": -2.165954901465662, \"y_hat\": 11.593527610459628}, {\"x\": -0.9575775704046228, \"y_hat\": 14.724104908458079}, {\"x\": 1.2475643163223786, \"y_hat\": 20.43702830746904}, {\"x\": 0.3194501864211574, \"y_hat\": 18.032536804414203}, {\"x\": -1.0877085980195806, \"y_hat\": 14.386970777963523}, {\"x\": 2.118528947223795, \"y_hat\": 22.693460988530184}, {\"x\": -2.605061393479581, \"y_hat\": 10.455922013294487}, {\"x\": -1.0785535146478185, \"y_hat\": 14.41068911115979}, {\"x\": -0.336381567063083, \"y_hat\": 16.333454948118963}, {\"x\": 0.5606998421703597, \"y_hat\": 18.657549104814798}, {\"x\": 3.851759613930136, \"y_hat\": 27.183790654530434}, {\"x\": -2.003262178416403, \"y_hat\": 12.0150202454467}, {\"x\": 1.1423443841361165, \"y_hat\": 20.164432055841235}, {\"x\": 1.924145688620425, \"y_hat\": 22.189866787569514}, {\"x\": -3.5354958728000225, \"y_hat\": 8.045419115430667}, {\"x\": 2.075448519014383, \"y_hat\": 22.581851305798043}, {\"x\": -2.294758763127085, \"y_hat\": 11.259831806304051}, {\"x\": -3.349484070147205, \"y_hat\": 8.527325148899003}, {\"x\": 5.488855372533333, \"y_hat\": 31.425060897520318}, {\"x\": 5.656320330745594, \"y_hat\": 31.85891709699836}, {\"x\": 4.083973481164611, \"y_hat\": 27.78539368229193}, {\"x\": -0.9538623082662934, \"y_hat\": 14.73373014306601}, {\"x\": -3.0232788599361613, \"y_hat\": 9.372434204924417}, {\"x\": 2.8423302651215687, \"y_hat\": 24.56863351604069}, {\"x\": 0.4015249373960134, \"y_hat\": 18.245170181039324}, {\"x\": -2.779617651552212, \"y_hat\": 10.003694182881691}, {\"x\": 0.951769101112702, \"y_hat\": 19.670703284821617}, {\"x\": -3.656114788847816, \"y_hat\": 7.732928281167137}, {\"x\": 5.093204020787821, \"y_hat\": 30.400035760207203}, {\"x\": -1.4122001839998308, \"y_hat\": 13.546301256656548}, {\"x\": 2.62522284353982, \"y_hat\": 24.006167183910808}, {\"x\": -0.8828892391058902, \"y_hat\": 14.917602078902258}, {\"x\": 1.200680211778108, \"y_hat\": 20.3155643329716}, {\"x\": 1.4671027934327965, \"y_hat\": 21.005792843853996}, {\"x\": -2.1514554447447294, \"y_hat\": 11.6310917627133}], \"data-99f37282f2ef7f12b0534510e45f83a0\": [{\"x\": -0.2545988115263751, \"y_hat\": 13.80403642242327}, {\"x\": 5.507143064099161, \"y_hat\": 60.297925463344455}, {\"x\": 3.3199394181140507, \"y_hat\": 11.084315047276103}, {\"x\": 1.986584841970366, \"y_hat\": 4.988994323640805}, {\"x\": -2.439813595575635, \"y_hat\": 19.17452991911118}, {\"x\": -2.4400547966379733, \"y_hat\": 19.1738480450447}, {\"x\": -3.419163878318005, \"y_hat\": 12.658124883388663}, {\"x\": 4.661761457749352, \"y_hat\": 34.07014027310032}, {\"x\": 2.011150117432088, \"y_hat\": 4.990491684803962}, {\"x\": 3.0807257779604544, \"y_hat\": 8.956920516519615}, {\"x\": -3.794155057041976, \"y_hat\": 7.854156385059467}, {\"x\": 5.699098521619943, \"y_hat\": 67.74136467780215}, {\"x\": 4.324426408004218, \"y_hat\": 26.327649470733352}, {\"x\": -1.8766088932172384, \"y_hat\": 19.75694882555043}, {\"x\": -2.181750327928994, \"y_hat\": 19.682386096284265}, {\"x\": -2.165954901465662, \"y_hat\": 19.69964312575489}, {\"x\": -0.9575775704046228, \"y_hat\": 17.323833932372754}, {\"x\": 1.2475643163223786, \"y_hat\": 6.337948373398476}, {\"x\": 0.3194501864211574, \"y_hat\": 10.621577655206142}, {\"x\": -1.0877085980195806, \"y_hat\": 17.857969927341443}, {\"x\": 2.118528947223795, \"y_hat\": 5.037847517052695}, {\"x\": -2.605061393479581, \"y_hat\": 18.611257679133853}, {\"x\": -1.0785535146478185, \"y_hat\": 17.822021362126968}, {\"x\": -0.336381567063083, \"y_hat\": 14.250571366799026}, {\"x\": 0.5606998421703597, \"y_hat\": 9.342064667407643}, {\"x\": 3.851759613930136, \"y_hat\": 17.793842127102366}, {\"x\": -2.003262178416403, \"y_hat\": 19.790535161194086}, {\"x\": 1.1423443841361165, \"y_hat\": 6.7131009112364595}, {\"x\": 1.924145688620425, \"y_hat\": 5.000339211273439}, {\"x\": -3.5354958728000225, \"y_hat\": 11.320132374622725}, {\"x\": 2.075448519014383, \"y_hat\": 5.010753480599761}, {\"x\": -2.294758763127085, \"y_hat\": 19.513385412355984}, {\"x\": -3.349484070147205, \"y_hat\": 13.396649116465742}, {\"x\": 5.488855372533333, \"y_hat\": 59.619016008331485}, {\"x\": 5.656320330745594, \"y_hat\": 66.03187981004794}, {\"x\": 4.083973481164611, \"y_hat\": 21.66397110583945}, {\"x\": -0.9538623082662934, \"y_hat\": 17.307881882339494}, {\"x\": -3.0232788599361613, \"y_hat\": 16.258507850289803}, {\"x\": 2.8423302651215687, \"y_hat\": 7.3324366297573755}, {\"x\": 0.4015249373960134, \"y_hat\": 10.178393051955865}, {\"x\": -2.779617651552212, \"y_hat\": 17.797682133513693}, {\"x\": 0.951769101112702, \"y_hat\": 7.481296276081593}, {\"x\": -3.656114788847816, \"y_hat\": 9.790010479999674}, {\"x\": 5.093204020787821, \"y_hat\": 46.17188771787724}, {\"x\": -1.4122001839998308, \"y_hat\": 18.949667317552485}, {\"x\": 2.62522284353982, \"y_hat\": 6.251143011072301}, {\"x\": -0.8828892391058902, \"y_hat\": 16.996172150103156}, {\"x\": 1.200680211778108, \"y_hat\": 6.500484651408448}, {\"x\": 1.4671027934327965, \"y_hat\": 5.684712095610323}, {\"x\": -2.1514554447447294, \"y_hat\": 19.71413977806233}]}}, {\"mode\": \"vega-lite\"});\n",
       "</script>"
      ],
      "text/plain": [
       "alt.LayerChart(...)"
      ]
     },
     "execution_count": 78,
     "metadata": {},
     "output_type": "execute_result"
    }
   ],
   "source": [
    "linear_model_plot = alt.Chart(pd.concat((train.loc[:, 'x'], pd.Series(linear_model.predict(train.loc[:, 'x'].to_numpy().reshape(-1, 1)).reshape(1, -1)[0], name = 'y_hat')), axis = 1)).mark_line().encode(x='x', y='y_hat')\n",
    "nonLinear_model_plot = alt.Chart(pd.concat((train.loc[:, 'x'], pd.Series(nonLinear_transformation.predict(np.vstack((train.loc[:, 'x'].to_numpy(), train.loc[:, 'x'] ** 3)).T).reshape(1, -1)[0], name = 'y_hat')), axis = 1)).mark_line().encode(x='x', y='y_hat')\n",
    "scatter + linear_model_plot + nonLinear_model_plot\n"
   ]
  },
  {
   "cell_type": "code",
   "execution_count": 79,
   "metadata": {},
   "outputs": [
    {
     "data": {
      "text/plain": [
       "-0.132899284725984"
      ]
     },
     "execution_count": 79,
     "metadata": {},
     "output_type": "execute_result"
    }
   ],
   "source": [
    "linear_model.score(test.loc[:, 'x'].to_numpy().reshape(-1, 1), test.loc[:, 'y'].to_numpy().reshape(-1, 1))"
   ]
  },
  {
   "cell_type": "code",
   "execution_count": null,
   "metadata": {},
   "outputs": [],
   "source": []
  }
 ],
 "metadata": {
  "kernelspec": {
   "display_name": "Python 3",
   "language": "python",
   "name": "python3"
  },
  "language_info": {
   "codemirror_mode": {
    "name": "ipython",
    "version": 3
   },
   "file_extension": ".py",
   "mimetype": "text/x-python",
   "name": "python",
   "nbconvert_exporter": "python",
   "pygments_lexer": "ipython3",
   "version": "3.10.4"
  },
  "varInspector": {
   "cols": {
    "lenName": 16,
    "lenType": 16,
    "lenVar": 40
   },
   "kernels_config": {
    "python": {
     "delete_cmd_postfix": "",
     "delete_cmd_prefix": "del ",
     "library": "var_list.py",
     "varRefreshCmd": "print(var_dic_list())"
    },
    "r": {
     "delete_cmd_postfix": ") ",
     "delete_cmd_prefix": "rm(",
     "library": "var_list.r",
     "varRefreshCmd": "cat(var_dic_list()) "
    }
   },
   "types_to_exclude": [
    "module",
    "function",
    "builtin_function_or_method",
    "instance",
    "_Feature"
   ],
   "window_display": false
  },
  "vscode": {
   "interpreter": {
    "hash": "3ad933181bd8a04b432d3370b9dc3b0662ad032c4dfaa4e4f1596c548f763858"
   }
  }
 },
 "nbformat": 4,
 "nbformat_minor": 4
}
