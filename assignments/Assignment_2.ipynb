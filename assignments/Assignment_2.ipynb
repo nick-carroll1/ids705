{
 "cells": [
  {
   "cell_type": "markdown",
   "metadata": {},
   "source": [
    "# Assignment 2 - Supervised Machine Learning Fundamentals"
   ]
  },
  {
   "attachments": {},
   "cell_type": "markdown",
   "metadata": {},
   "source": [
    "## *Nick Carroll*\n",
    "Netid: nc230\n",
    "\n",
    "Note: this assignment falls under collaboration Mode 2: Individual Assignment – Collaboration Permitted. Please refer to the syllabus for additional information.\n",
    "\n",
    "Instructions for all assignments can be found [here](https://github.com/kylebradbury/ids705/blob/master/assignments/_Assignment%20Instructions.ipynb), and is also linked to from the [course syllabus](https://kylebradbury.github.io/ids705/index.html).\n",
    "\n",
    "Total points in the assignment add up to 90; an additional 10 points are allocated to presentation quality."
   ]
  },
  {
   "cell_type": "markdown",
   "metadata": {},
   "source": [
    "## Learning Objectives:\n",
    "By successfully completing this assignment you will be able to...\n",
    "- Explain the bias-variance tradeoff of supervised machine learning and the impact of model flexibility on algorithm performance\n",
    "- Perform supervised machine learning training and performance evaluation\n",
    "- Implement a k-nearest neighbors machine learning algorithm from scratch in a style similar to that of popular machine learning tools like `scikit-learn`\n",
    "- Describe how KNN classification works, the method's reliance on distance measurements, and the impact of higher dimensionality on computational speed\n",
    "- Apply regression (linear regression) and classification (KNN) supervised learning techniques to data and evaluate the performance of those methods\n",
    "- Construct simple feature transformations for improving model fit in linear models\n",
    "- Fit a `scikit-learn` supervised learning technique to training data and make predictions using it"
   ]
  },
  {
   "cell_type": "code",
   "execution_count": 1,
   "metadata": {},
   "outputs": [],
   "source": [
    "# MAC USERS TAKE NOTE:\n",
    "# For clearer plots in Jupyter notebooks on macs, run the following line of code:\n",
    "# %config InlineBackend.figure_format = 'retina'"
   ]
  },
  {
   "attachments": {},
   "cell_type": "markdown",
   "metadata": {},
   "source": [
    "---\n",
    "\n",
    "# Conceptual Questions on Supervised Learning"
   ]
  },
  {
   "cell_type": "markdown",
   "metadata": {},
   "source": [
    "## 1\n",
    "**[4 points]**\n",
    "For each part below, indicate whether we would generally expect the performance of a flexible statistical learning method to be *better* or *worse* than an inflexible method. Justify your answer.\n",
    "\n",
    "1. The sample size $n$ is extremely large, and the number of predictors $p$ is small.\n",
    "2. The number of predictors $p$ is extremely large, and the number of observations $n$ is small.\n",
    "3. The relationship between the predictors and response is highly non-linear.\n",
    "4. The variance of the error terms, i.e. $\\sigma^2 = Var(\\epsilon)$, is extremely high"
   ]
  },
  {
   "cell_type": "markdown",
   "metadata": {},
   "source": [
    "**ANSWER**"
   ]
  },
  {
   "attachments": {},
   "cell_type": "markdown",
   "metadata": {},
   "source": [
    "1. If the sample size is extremely large, but the number of predictors is small, I would expect that a more flexible model will be much more likely to overfit to the large number of samples (i.e. over-fitting a classification around a point of one class that is surrounded by points of another class) and therefore perform worse than an inflexible model.\n",
    "2. If the number of predictors is extremely large, and the number of observations is small, then a more flexible model will be more likely to overfit to the small number of observations, and there is more likely to be a noise from predictors that may not be statistically significant (i.e. connecting three points into a curve when it is actually a linear relationship), and therefore a more flexible model would likely perform worse than an inflexible model.\n",
    "3. If the relationship between the predictors and the response is highly non-linear than a more flexible model will likely perform better than an inflexible model, because an inflexible model will not be able to account for the non-linearity.\n",
    "4. If the variance of the error terms is extremely high, then an inflexible model will seek to account for that variance, even if there is simply a lot of noise in the data than cannot be accounted for; therefore, a more flexible model will likely perform worse than an inflexible model."
   ]
  },
  {
   "attachments": {},
   "cell_type": "markdown",
   "metadata": {},
   "source": [
    "---\n",
    "\n",
    "## 2\n",
    "**[6 points]** For each of the following, (i) explain if each scenario is a classification or regression problem AND why, (ii) indicate whether we are most interested in inference or prediction for that problem AND why, and (iii) provide the sample size $n$ and number of predictors $p$ indicated for each scenario.\n",
    "\n",
    "**(a)** We collect a set of data on the top 500 firms in the US. For each firm we record profit, number of employees, industry and the CEO salary. We are interested in understanding which factors affect CEO salary.\n",
    "\n",
    "**(b)** We are considering launching a new product and wish to know whether it will be a success or a failure. We collect data on 20 similar products that were previously launched. For each product we have recorded whether it was a success or failure, price charged for the product, marketing budget, competition price, and ten other variables.\n",
    "\n",
    "**(c)** We are interesting in predicting the % change in the US dollar in relation to the weekly changes in the world stock markets. Hence we collect weekly data for all of 2012. For each week we record the % change in the dollar, the % change in the US market, the % change in the British market, and the % change in the German market."
   ]
  },
  {
   "cell_type": "markdown",
   "metadata": {},
   "source": [
    "**ANSWER**\n"
   ]
  },
  {
   "attachments": {},
   "cell_type": "markdown",
   "metadata": {},
   "source": [
    "**(a)** To understand which factors affect CEO salary, a regression would be required because the CEO salary is a continuous variable.  In this scenario, we would be most interested in inference, since we are trying to understand the factors that affect it, and not interested in predicting the actual salary itself.  In this scenario, the sample size is the 500 firms, and the predictors are profit, number of employees, and industry (3 predictors)."
   ]
  },
  {
   "attachments": {},
   "cell_type": "markdown",
   "metadata": {},
   "source": [
    "**(b)** To understand whether a new product launch will be a success or a failure, we will need a classification problem, because the output is being classified as a binary output: success or failure.  In this scenario, we would be most interested in prediction, because we want to know what will be the outcome of the product which has not launched yet.  In this scenario, the sample size is the 20 similar products, and the predictors are the price charged, marketing budget, competition price, and ten other variables (13 predictors in total)."
   ]
  },
  {
   "attachments": {},
   "cell_type": "markdown",
   "metadata": {},
   "source": [
    "**(c)** To predict the % change in the US dollar, we will need a regression, because the percent change is a continuous variable.  In this scneario, we would be most interested in prediction, because we are trying to predict the % change in the US dollar in the future.  In this scenario, the sample size is the 52 weeks of weekly data, and the predictors are the % change in the US market, % change in the British market, % change in the German market (3 predictors)."
   ]
  },
  {
   "attachments": {},
   "cell_type": "markdown",
   "metadata": {},
   "source": [
    "---\n",
    "\n",
    "# Practical Questions"
   ]
  },
  {
   "cell_type": "markdown",
   "metadata": {},
   "source": [
    "## 3\n",
    "**[6 points] Classification using KNN**. The table below provides a training dataset containing six observations (a.k.a. samples) ($n=6$) each with three predictors (a.k.a. features) ($p=3$), and one qualitative response variable (a.k.a. target).\n",
    "\n",
    "*Table 1. Training dataset with $n=6$ observations in $p=3$ dimensions with a categorical response, $y$*\n",
    "\n",
    "| Obs. | $x_1$ | $x_2$ | $x_3$ | $y$   |\n",
    "|------|-------|-------|-------|-------|\n",
    "| **1**| 0     | 3     | 0     | Red   |\n",
    "| **2**| 2     | 0     | 0     | Red   |\n",
    "| **3**| 0     | 1     | 3     | Red   |\n",
    "| **4**| 0     | 1     | 2     | Blue  |\n",
    "| **5**| -1    | 0     | 1     | Blue  |\n",
    "| **6**| 1     | 1     | 1     | Red   |\n",
    "\n",
    "We want to use the above training dataset to make a prediction, $\\hat{y}$, for an unlabeled test data observation where $x_1=x_2=x_3=0$ using $K$-nearest neighbors. You are given some code below to get you started. *Note: coding is only required for part (a), for (b)-(d) please provide your reasoning based on your answer to part (a)*.\n",
    "\n",
    "**(a)** Compute the Euclidean distance between each observation and the test point, $x_1=x_2=x_3=0$. Present your answer in a table similar in style to Table 1 with observations 1-6 as the row headers.\n",
    "\n",
    "**(b)** What is our prediction, $\\hat{y}$, when $K=1$ for the test point? Why?\n",
    "\n",
    "**(c)** What is our prediction, $\\hat{y}$, when $K=3$ for the test point? Why?\n",
    "\n",
    "**(d)** If the Bayes decision boundary (the optimal decision boundary) in this problem is highly nonlinear, then would we expect the *best* value of $K$ to be large or small? Why?"
   ]
  },
  {
   "cell_type": "code",
   "execution_count": 1,
   "metadata": {},
   "outputs": [],
   "source": [
    "import numpy as np\n",
    "\n",
    "X = np.array([[ 0, 3, 0],\n",
    "              [ 2, 0, 0],\n",
    "              [ 0, 1, 3],\n",
    "              [ 0, 1, 2],\n",
    "              [-1, 0, 1],\n",
    "              [ 1, 1, 1]])\n",
    "              \n",
    "y = np.array(['r','r','r','b','b','r'])"
   ]
  },
  {
   "cell_type": "markdown",
   "metadata": {},
   "source": [
    "**ANSWER**:"
   ]
  },
  {
   "attachments": {},
   "cell_type": "markdown",
   "metadata": {},
   "source": [
    "**(a)** Below is a table showing the Euclidean distances for each observation along with its y-value."
   ]
  },
  {
   "cell_type": "code",
   "execution_count": 2,
   "metadata": {},
   "outputs": [],
   "source": [
    "import pandas as pd\n",
    "\n",
    "# Get rid of Warnings\n",
    "%%capture --no-stdout\n",
    "\n",
    "# Calculate euclidean distances\n",
    "test = np.array([[0, 0, 0]])\n",
    "obs = np.arange(1, 7)\n",
    "distances = np.diagonal(np.matmul((X - test), (X - test).T))\n",
    "\n",
    "# Create a table of distances\n",
    "table = pd.DataFrame(\n",
    "    np.vstack(\n",
    "        (obs, distances, y)).T, \n",
    "        columns=[\n",
    "                     'Observations', \n",
    "                     'Distances', \n",
    "                     'y']).set_index('Observations').replace(\n",
    "                        {'r': 'Red', 'b': 'Blue'})\n",
    "\n",
    "# Convert distances to integers\n",
    "table.loc[:, 'Distances'] = table.loc[:, 'Distances'].astype('int')"
   ]
  },
  {
   "cell_type": "code",
   "execution_count": 4,
   "metadata": {},
   "outputs": [
    {
     "data": {
      "text/html": [
       "<div>\n",
       "<style scoped>\n",
       "    .dataframe tbody tr th:only-of-type {\n",
       "        vertical-align: middle;\n",
       "    }\n",
       "\n",
       "    .dataframe tbody tr th {\n",
       "        vertical-align: top;\n",
       "    }\n",
       "\n",
       "    .dataframe thead th {\n",
       "        text-align: right;\n",
       "    }\n",
       "</style>\n",
       "<table border=\"1\" class=\"dataframe\">\n",
       "  <thead>\n",
       "    <tr style=\"text-align: right;\">\n",
       "      <th></th>\n",
       "      <th>Distances</th>\n",
       "      <th>y</th>\n",
       "    </tr>\n",
       "    <tr>\n",
       "      <th>Observations</th>\n",
       "      <th></th>\n",
       "      <th></th>\n",
       "    </tr>\n",
       "  </thead>\n",
       "  <tbody>\n",
       "    <tr>\n",
       "      <th>1</th>\n",
       "      <td>9</td>\n",
       "      <td>Red</td>\n",
       "    </tr>\n",
       "    <tr>\n",
       "      <th>2</th>\n",
       "      <td>4</td>\n",
       "      <td>Red</td>\n",
       "    </tr>\n",
       "    <tr>\n",
       "      <th>3</th>\n",
       "      <td>10</td>\n",
       "      <td>Red</td>\n",
       "    </tr>\n",
       "    <tr>\n",
       "      <th>4</th>\n",
       "      <td>5</td>\n",
       "      <td>Blue</td>\n",
       "    </tr>\n",
       "    <tr>\n",
       "      <th>5</th>\n",
       "      <td>2</td>\n",
       "      <td>Blue</td>\n",
       "    </tr>\n",
       "    <tr>\n",
       "      <th>6</th>\n",
       "      <td>3</td>\n",
       "      <td>Red</td>\n",
       "    </tr>\n",
       "  </tbody>\n",
       "</table>\n",
       "</div>"
      ],
      "text/plain": [
       "              Distances     y\n",
       "Observations                 \n",
       "1                     9   Red\n",
       "2                     4   Red\n",
       "3                    10   Red\n",
       "4                     5  Blue\n",
       "5                     2  Blue\n",
       "6                     3   Red"
      ]
     },
     "execution_count": 4,
     "metadata": {},
     "output_type": "execute_result"
    }
   ],
   "source": [
    "# Show Table\n",
    "table"
   ]
  },
  {
   "attachments": {},
   "cell_type": "markdown",
   "metadata": {},
   "source": [
    "**(b)**"
   ]
  },
  {
   "cell_type": "code",
   "execution_count": 67,
   "metadata": {},
   "outputs": [
    {
     "name": "stdout",
     "output_type": "stream",
     "text": [
      "The KNN prediction for the test point when K = 1 is Blue.\n"
     ]
    }
   ],
   "source": [
    "print(\n",
    "    f\"\"\"The KNN prediction for the test point when K = 1 is \\\n",
    "{table.loc[table.loc[:, 'Distances'] == table.loc[:, 'Distances'].min(), 'y'].values[0]}.\"\"\")"
   ]
  },
  {
   "attachments": {},
   "cell_type": "markdown",
   "metadata": {},
   "source": [
    "**(c)**"
   ]
  },
  {
   "cell_type": "code",
   "execution_count": 66,
   "metadata": {},
   "outputs": [
    {
     "name": "stdout",
     "output_type": "stream",
     "text": [
      "The KNN prediction for the test point when K = 3 is Red.\n"
     ]
    }
   ],
   "source": [
    "print(\n",
    "    f\"\"\"The KNN prediction for the test point when K = 3 is \\\n",
    "{table.sort_values(\n",
    "    'Distances').iloc[:3].loc[:, 'y'].value_counts().loc[table.sort_values(\n",
    "        'Distances').iloc[:3].loc[:, 'y'].value_counts() == table.sort_values(\n",
    "            'Distances').iloc[:3].loc[:, 'y'].value_counts().max()].index.values[0]}.\"\"\")\n"
   ]
  },
  {
   "attachments": {},
   "cell_type": "markdown",
   "metadata": {},
   "source": [
    "**(d)** If the Bayes decision boundary is highly non-linear, we would expect the best value of K to be small."
   ]
  },
  {
   "attachments": {},
   "cell_type": "markdown",
   "metadata": {},
   "source": [
    "---\n",
    "\n",
    "## 4\n",
    "**[18 points] Build your own classification algorithm**.\n",
    "\n",
    "**(a)** Build a working version of a binary KNN classifier using the skeleton code below. We'll use the `sklearn` convention that a supervised learning algorithm has the methods `fit` which trains your algorithm (for KNN that means storing the data) and `predict` which identifies the K nearest neighbors and determines the most common class among those K neighbors. *Note: Most classification algorithms typically also have a method `predict_proba` which outputs the confidence score of each prediction, but we will explore that in a later assignment.*\n",
    "\n",
    "**(b)** Load the datasets to be evaluated here. Each includes training features ($\\mathbf{X}$), and test features ($\\mathbf{y}$) for both a low dimensional dataset ($p = 2$ features/predictors) and a higher dimensional dataset ($p = 100$ features/predictors). For each of these datasets there are $n=1000$ observations of each. They can be found in the `data` subfolder in the `assignments` folder on github. Each file is labeled similar to `A2_X_train_low.csv`, which lets you know whether the dataset is of features, $X$, targets, $y$; training or testing; and low or high dimensions.\n",
    "\n",
    "**(c)** Train your classifier on first the low dimensional dataset and then the high dimensional dataset with $k=5$. Evaluate the classification performance on the corresponding test data for each of those trained models. Calculate the time it takes each model to make the predictions and the overall accuracy of those predictions for each corresponding set of test data - state each.\n",
    "\n",
    "**(d)** Compare your implementation's accuracy and computation time to the scikit learn [KNeighborsClassifier](http://scikit-learn.org/stable/modules/generated/sklearn.neighbors.KNeighborsClassifier.html) class. How do the results and speed compare to your implementation?\n",
    "\n",
    "**(e)** Some supervised learning algorithms are more computationally intensive during training than testing. What are the drawbacks of the prediction process being slow? In what cases in practice might slow testing (inference) be more problematic than slow training?"
   ]
  },
  {
   "cell_type": "code",
   "execution_count": 7,
   "metadata": {},
   "outputs": [],
   "source": [
    "# # Skeleton code for part (a) to write your own kNN classifier\n",
    "\n",
    "# class Knn:\n",
    "# # k-Nearest Neighbor class object for classification training and testing\n",
    "#     def __init__(self):\n",
    "        \n",
    "#     def fit(self, x, y):\n",
    "#         # Save the training data to properties of this class\n",
    "        \n",
    "#     def predict(self, x, k):\n",
    "#         y_hat = [] # Variable to store the estimated class label for \n",
    "#         # Calculate the distance from each vector in x to the training data\n",
    "        \n",
    "#         # Return the estimated targets\n",
    "#         return y_hat\n",
    "\n",
    "# # Metric of overall classification accuracy\n",
    "# #  (a more general function, sklearn.metrics.accuracy_score, is also available)\n",
    "# def accuracy(y,y_hat):\n",
    "#     nvalues = len(y)\n",
    "#     accuracy = sum(y == y_hat) / nvalues\n",
    "#     return accuracy"
   ]
  },
  {
   "cell_type": "markdown",
   "metadata": {},
   "source": [
    "**ANSWER**:"
   ]
  },
  {
   "attachments": {},
   "cell_type": "markdown",
   "metadata": {},
   "source": [
    "**(a)** Below is the code for my KNN classifier."
   ]
  },
  {
   "cell_type": "code",
   "execution_count": 8,
   "metadata": {},
   "outputs": [],
   "source": [
    "class Knn:\n",
    "    # k-Nearest Neighbor class object for classification training and testing\n",
    "    def __init__(self):\n",
    "        self.X = []\n",
    "        self.Y = []\n",
    "\n",
    "    def fit(self, x, y):\n",
    "        self.X = x\n",
    "        self.Y = y\n",
    "\n",
    "    def predict(self, x, k):\n",
    "        y_hat = []  # Variable to store the estimated class label for\n",
    "        # Calculate the distance from each vector in x to the training data\n",
    "\n",
    "        X_3d = np.stack(x.shape[0] * [self.X.to_numpy()])\n",
    "\n",
    "        x_3d = np.transpose(\n",
    "            np.stack(\n",
    "                self.X.shape[0] * [x.to_numpy()]),\n",
    "            axes=[1, 0, 2])\n",
    "\n",
    "        distances = pd.DataFrame(\n",
    "            np.hstack((np.sum(\n",
    "                np.multiply(\n",
    "                    (X_3d - x_3d),\n",
    "                    (X_3d - x_3d)),\n",
    "                axis=2).T,\n",
    "                self.Y)))\n",
    "\n",
    "        y_hat = np.asarray(\n",
    "            [distances.sort_values(i).iloc[:k, -1].value_counts().loc[\n",
    "                distances.sort_values(i).iloc[:k, -1].value_counts() == distances.sort_values(\n",
    "                    i).iloc[:k, -1].value_counts().max()].index.values[0] for i in range(x.shape[0])])\n",
    "\n",
    "        # Return the estimated targets\n",
    "        return y_hat\n",
    "\n",
    "# Metric of overall classification accuracy\n",
    "#  (a more general function, sklearn.metrics.accuracy_score, is also available)\n",
    "\n",
    "\n",
    "def accuracy(y, y_hat):\n",
    "    nvalues = len(y)\n",
    "    accuracy = sum(y == y_hat) / nvalues\n",
    "    return accuracy\n"
   ]
  },
  {
   "attachments": {},
   "cell_type": "markdown",
   "metadata": {},
   "source": [
    "**(b)** Loading datasets"
   ]
  },
  {
   "cell_type": "code",
   "execution_count": 9,
   "metadata": {},
   "outputs": [],
   "source": [
    "# Loading Data\n",
    "A2_X_test_high = pd.read_csv('data/A2_X_test_high.csv')\n",
    "A2_X_test_low = pd.read_csv('data/A2_X_test_low.csv')\n",
    "A2_X_train_high = pd.read_csv('data/A2_X_train_high.csv')\n",
    "A2_X_train_low = pd.read_csv('data/A2_X_train_low.csv')\n",
    "A2_y_test_high = pd.read_csv('data/A2_y_test_high.csv')\n",
    "A2_y_test_low = pd.read_csv('data/A2_y_test_low.csv')\n",
    "A2_y_train_high = pd.read_csv('data/A2_y_train_high.csv')\n",
    "A2_y_train_low = pd.read_csv('data/A2_y_train_low.csv')"
   ]
  },
  {
   "attachments": {},
   "cell_type": "markdown",
   "metadata": {},
   "source": [
    "**(c)** Classifier Training"
   ]
  },
  {
   "cell_type": "code",
   "execution_count": 10,
   "metadata": {},
   "outputs": [
    {
     "ename": "NameError",
     "evalue": "name 'low_predictions' is not defined",
     "output_type": "error",
     "traceback": [
      "\u001b[0;31m---------------------------------------------------------------------------\u001b[0m",
      "\u001b[0;31mNameError\u001b[0m                                 Traceback (most recent call last)",
      "Cell \u001b[0;32mIn[10], line 8\u001b[0m\n\u001b[1;32m      6\u001b[0m low_classifier_time \u001b[39m=\u001b[39m get_ipython()\u001b[39m.\u001b[39mrun_line_magic(\u001b[39m'\u001b[39m\u001b[39mtimeit\u001b[39m\u001b[39m'\u001b[39m, \u001b[39m'\u001b[39m\u001b[39m-o -q low_predictions = low_classifier.predict(A2_X_test_low, k)\u001b[39m\u001b[39m'\u001b[39m)\n\u001b[1;32m      7\u001b[0m high_classifier_time \u001b[39m=\u001b[39m get_ipython()\u001b[39m.\u001b[39mrun_line_magic(\u001b[39m'\u001b[39m\u001b[39mtimeit\u001b[39m\u001b[39m'\u001b[39m, \u001b[39m'\u001b[39m\u001b[39m-o -q high_predictions = high_classifier.predict(A2_X_test_high, k)\u001b[39m\u001b[39m'\u001b[39m)\n\u001b[0;32m----> 8\u001b[0m low_classifier_accuracy \u001b[39m=\u001b[39m accuracy(A2_y_test_low\u001b[39m.\u001b[39mto_numpy()[:, \u001b[39m0\u001b[39m], low_predictions)\n\u001b[1;32m      9\u001b[0m high_classifier_accuracy \u001b[39m=\u001b[39m accuracy(A2_y_test_high\u001b[39m.\u001b[39mto_numpy()[:, \u001b[39m0\u001b[39m], high_predictions)\n\u001b[1;32m     10\u001b[0m \u001b[39mprint\u001b[39m(\u001b[39mf\u001b[39m\u001b[39m\"\u001b[39m\u001b[39mThe KNN classifier took \u001b[39m\u001b[39m{\u001b[39;00mlow_classifier_time\u001b[39m.\u001b[39maverage\u001b[39m:\u001b[39;00m\u001b[39m .2f\u001b[39m\u001b[39m}\u001b[39;00m\u001b[39m seconds to predict the values in the small dataset, and had \u001b[39m\u001b[39m{\u001b[39;00mlow_classifier_accuracy\u001b[39m \u001b[39m\u001b[39m*\u001b[39m\u001b[39m \u001b[39m\u001b[39m100\u001b[39m\u001b[39m:\u001b[39;00m\u001b[39m .2f\u001b[39m\u001b[39m}\u001b[39;00m\u001b[39m % accuracy.\u001b[39m\u001b[39m\"\u001b[39m)\n",
      "\u001b[0;31mNameError\u001b[0m: name 'low_predictions' is not defined"
     ]
    }
   ],
   "source": [
    "# Initializing Classifiers\n",
    "low_classifier = Knn()\n",
    "high_classifier = Knn()\n",
    "\n",
    "# Setting K\n",
    "k = 5\n",
    "\n",
    "# Fitting Classifiers\n",
    "low_classifier.fit(A2_X_train_low, A2_y_train_low)\n",
    "high_classifier.fit(A2_X_train_high, A2_y_train_high)\n",
    "\n",
    "# Timing and Predicting Classifiers\n",
    "low_classifier_time = %timeit -o -q low_predictions = low_classifier.predict(A2_X_test_low, k)\n",
    "high_classifier_time = %timeit -o -q high_predictions = high_classifier.predict(A2_X_test_high, k)\n",
    "\n",
    "# Calculating Accuracy\n",
    "low_classifier_accuracy = accuracy(A2_y_test_low.to_numpy()[:, 0], low_predictions)\n",
    "high_classifier_accuracy = accuracy(A2_y_test_high.to_numpy()[:, 0], high_predictions)\n",
    "\n",
    "# Printing Results\n",
    "print(f\"\"\"The KNN classifier took {low_classifier_time.average: .2f} seconds to predict the values in the small dataset, and had \\\n",
    "{low_classifier_accuracy * 100: .2f} % accuracy.\"\"\")\n",
    "\n",
    "print(f\"\"\"The KNN classifier took {high_classifier_time.average: .2f} seconds to predict the values in the large dataset, and had \\\n",
    "{high_classifier_accuracy * 100: .2f} % accuracy.\"\"\")\n"
   ]
  },
  {
   "attachments": {},
   "cell_type": "markdown",
   "metadata": {},
   "source": [
    "**(d)** Comparing Sci-Kit Learn"
   ]
  },
  {
   "cell_type": "code",
   "execution_count": 69,
   "metadata": {},
   "outputs": [
    {
     "name": "stderr",
     "output_type": "stream",
     "text": [
      "UsageError: Line magic function `%%capture` not found.\n"
     ]
    }
   ],
   "source": [
    "from sklearn.neighbors import KNeighborsClassifier\n",
    "\n",
    "# Getting rid of warnings\n",
    "%%capture --no-stdout\n",
    "\n",
    "# Initializing Classifiers\n",
    "scikit_low_classifier = KNeighborsClassifier(n_neighbors = k)\n",
    "scikit_high_classifier = KNeighborsClassifier(n_neighbors = k)\n",
    "\n",
    "# Fitting Classifiers\n",
    "scikit_low_classifier.fit(A2_X_train_low.to_numpy(), A2_y_train_low.to_numpy())\n",
    "scikit_high_classifier.fit(A2_X_train_high.to_numpy(), A2_y_train_high.to_numpy())\n",
    "\n",
    "# Timing and Predicting Classifiers\n",
    "scikit_low_classifier_time = %timeit -o -q scikit_low_classifier.predict(A2_X_test_low.to_numpy())\n",
    "scikit_high_classifier_time = %timeit -o -q scikit_high_classifier.predict(A2_X_test_high.to_numpy())\n",
    "\n",
    "# Calculating Accuracy\n",
    "scikit_low_classifier_accuracy = scikit_low_classifier.score(A2_X_test_low, A2_y_test_low)\n",
    "scikit_high_classifier_accuracy = scikit_high_classifier.score(A2_X_test_high, A2_y_test_high)\n",
    "\n",
    "# Printing Results\n",
    "print(f\"\"\"The Scikit-Learn KNN classifier took {scikit_low_classifier_time.average: .2f} seconds to predict the values in the small \\\n",
    "dataset, and had {scikit_low_classifier_accuracy * 100: .2f} % accuracy.\"\"\")\n",
    "\n",
    "print(f\"\"\"The Scikit-Learn KNN classifier took {scikit_high_classifier_time.average: .2f} seconds to predict the values in the large \\\n",
    "dataset, and had {scikit_high_classifier_accuracy * 100: .2f} % accuracy.\"\"\")\n"
   ]
  },
  {
   "attachments": {},
   "cell_type": "markdown",
   "metadata": {},
   "source": [
    "**(e)** Computational Intensity"
   ]
  },
  {
   "attachments": {},
   "cell_type": "markdown",
   "metadata": {},
   "source": [
    "The drawbacks of the prediction process being slow, is that the prediction process is what you are likely using if you are implementing your model in a development environment.  In this scenario, you do not want to slow down a customer or a process that relies on a model being able to predict quickly.  In algorithmic trading of the stock market, trades can take place on the order of milliseconds, and if the model takes excessive time to predict, the opportunity might be lost by the time the model completes its predictions.  \n",
    "\n",
    "Slow testing would be problematic, when the testing is computationally intensive compared to the training, for example in a cross validation situation, where many sections of the dataset are tested, slow testing could compound the validation timeline and slow down the whole process of developing a model."
   ]
  },
  {
   "attachments": {},
   "cell_type": "markdown",
   "metadata": {},
   "source": [
    "---\n",
    "\n",
    "## 5\n",
    "**[20 points] Bias-variance tradeoff: exploring the tradeoff with a KNN classifier**. This exercise will illustrate the impact of the bias-variance tradeoff on classifier performance by investigating how model flexibility impacts classifier decision boundaries. For this problem, please us Scikit-learn's KNN implementation rather than your own implementation, as you did at the end of the last question.\n",
    "\n",
    "**(a)** Create a synthetic dataset (with both features and targets). Use the [`make_moons`](http://scikit-learn.org/stable/modules/generated/sklearn.datasets.make_moons.html#sklearn.datasets.make_moons) module with the parameter `noise=0.35` to generate 1000 random samples.\n",
    "\n",
    "**(b)** Visualize your data: scatterplot your random samples with each class in a different color.\n",
    "\n",
    "**(c)** Create 3 different data subsets by selecting 100 of the 1000 data points at random three times (with replacement). For each of these 100-sample datasets, fit three separate k-Nearest Neighbor classifiers with: $k = \\{1, 25, 50\\}$. This will result in 9 combinations (3 datasets, each with 3 trained classifiers).\n",
    "\n",
    "**(d)** For each combination of dataset and trained classifier plot the decision boundary (similar in style to Figure 2.15 from *Introduction to Statistical Learning*). This should form a 3-by-3 grid. Each column should represent a different value of $k$ and each row should represent a different dataset. \n",
    "\n",
    "**(e)** What do you notice about the difference between the rows and the columns. Which decision boundaries appear to best separate the two classes of data? Which decision boundaries vary the most as the data change?\n",
    "\n",
    "**(f)** Explain the bias-variance tradeoff using the example of the plots you made in this exercise and its implications for training supervised machine learning algorithms.\n",
    "\n",
    "Notes and tips for plotting decision boundaries (as in part d):\n",
    "- *Resource for plotting decision boundaries with meshgrid and contour: https://scikit-learn.org/stable/auto_examples/neighbors/plot_classification.html*\n",
    "- If you would like to change the colors of the background, and do not like any of the existing cmap available in matplotlib, you can make your own cmap using the 2 sets of rgb values. Sample code (replace r, g, b with respective rgb values):"
   ]
  },
  {
   "cell_type": "code",
   "execution_count": 4,
   "metadata": {},
   "outputs": [
    {
     "ename": "NameError",
     "evalue": "name 'r' is not defined",
     "output_type": "error",
     "traceback": [
      "\u001b[0;31m---------------------------------------------------------------------------\u001b[0m",
      "\u001b[0;31mNameError\u001b[0m                                 Traceback (most recent call last)",
      "Cell \u001b[0;32mIn[4], line 2\u001b[0m\n\u001b[1;32m      1\u001b[0m \u001b[39mfrom\u001b[39;00m \u001b[39mmatplotlib\u001b[39;00m\u001b[39m.\u001b[39;00m\u001b[39mcolors\u001b[39;00m \u001b[39mimport\u001b[39;00m LinearSegmentedColormap\n\u001b[0;32m----> 2\u001b[0m newcmp \u001b[39m=\u001b[39m LinearSegmentedColormap\u001b[39m.\u001b[39mfrom_list(\u001b[39m\"\u001b[39m\u001b[39mnew\u001b[39m\u001b[39m\"\u001b[39m, [(r\u001b[39m/\u001b[39m\u001b[39m255\u001b[39m, g\u001b[39m/\u001b[39m\u001b[39m255\u001b[39m, b\u001b[39m/\u001b[39m\u001b[39m255\u001b[39m), (r\u001b[39m/\u001b[39m\u001b[39m255\u001b[39m, g\u001b[39m/\u001b[39m\u001b[39m255\u001b[39m, b\u001b[39m/\u001b[39m\u001b[39m255\u001b[39m)], N\u001b[39m=\u001b[39m\u001b[39m2\u001b[39m)\n",
      "\u001b[0;31mNameError\u001b[0m: name 'r' is not defined"
     ]
    }
   ],
   "source": [
    "from matplotlib.colors import LinearSegmentedColormap\n",
    "newcmp = LinearSegmentedColormap.from_list(\"new\", [(r/255, g/255, b/255), (r/255, g/255, b/255)], N=2)"
   ]
  },
  {
   "cell_type": "markdown",
   "metadata": {},
   "source": [
    "**ANSWER**"
   ]
  },
  {
   "attachments": {},
   "cell_type": "markdown",
   "metadata": {},
   "source": [
    "**(a)** Creating a Synthetic Dataset"
   ]
  },
  {
   "cell_type": "code",
   "execution_count": 4,
   "metadata": {},
   "outputs": [],
   "source": [
    "from sklearn.datasets import make_moons\n",
    "\n",
    "X_data, Y_data = make_moons(n_samples = 1000, noise = .35)"
   ]
  },
  {
   "attachments": {},
   "cell_type": "markdown",
   "metadata": {},
   "source": [
    "**(b)** Visualizing Data"
   ]
  },
  {
   "cell_type": "code",
   "execution_count": 62,
   "metadata": {},
   "outputs": [
    {
     "data": {
      "text/html": [
       "\n",
       "<div id=\"altair-viz-97d3b7e1750f40a38c3cc32408230b23\"></div>\n",
       "<script type=\"text/javascript\">\n",
       "  var VEGA_DEBUG = (typeof VEGA_DEBUG == \"undefined\") ? {} : VEGA_DEBUG;\n",
       "  (function(spec, embedOpt){\n",
       "    let outputDiv = document.currentScript.previousElementSibling;\n",
       "    if (outputDiv.id !== \"altair-viz-97d3b7e1750f40a38c3cc32408230b23\") {\n",
       "      outputDiv = document.getElementById(\"altair-viz-97d3b7e1750f40a38c3cc32408230b23\");\n",
       "    }\n",
       "    const paths = {\n",
       "      \"vega\": \"https://cdn.jsdelivr.net/npm//vega@5?noext\",\n",
       "      \"vega-lib\": \"https://cdn.jsdelivr.net/npm//vega-lib?noext\",\n",
       "      \"vega-lite\": \"https://cdn.jsdelivr.net/npm//vega-lite@4.17.0?noext\",\n",
       "      \"vega-embed\": \"https://cdn.jsdelivr.net/npm//vega-embed@6?noext\",\n",
       "    };\n",
       "\n",
       "    function maybeLoadScript(lib, version) {\n",
       "      var key = `${lib.replace(\"-\", \"\")}_version`;\n",
       "      return (VEGA_DEBUG[key] == version) ?\n",
       "        Promise.resolve(paths[lib]) :\n",
       "        new Promise(function(resolve, reject) {\n",
       "          var s = document.createElement('script');\n",
       "          document.getElementsByTagName(\"head\")[0].appendChild(s);\n",
       "          s.async = true;\n",
       "          s.onload = () => {\n",
       "            VEGA_DEBUG[key] = version;\n",
       "            return resolve(paths[lib]);\n",
       "          };\n",
       "          s.onerror = () => reject(`Error loading script: ${paths[lib]}`);\n",
       "          s.src = paths[lib];\n",
       "        });\n",
       "    }\n",
       "\n",
       "    function showError(err) {\n",
       "      outputDiv.innerHTML = `<div class=\"error\" style=\"color:red;\">${err}</div>`;\n",
       "      throw err;\n",
       "    }\n",
       "\n",
       "    function displayChart(vegaEmbed) {\n",
       "      vegaEmbed(outputDiv, spec, embedOpt)\n",
       "        .catch(err => showError(`Javascript Error: ${err.message}<br>This usually means there's a typo in your chart specification. See the javascript console for the full traceback.`));\n",
       "    }\n",
       "\n",
       "    if(typeof define === \"function\" && define.amd) {\n",
       "      requirejs.config({paths});\n",
       "      require([\"vega-embed\"], displayChart, err => showError(`Error loading script: ${err.message}`));\n",
       "    } else {\n",
       "      maybeLoadScript(\"vega\", \"5\")\n",
       "        .then(() => maybeLoadScript(\"vega-lite\", \"4.17.0\"))\n",
       "        .then(() => maybeLoadScript(\"vega-embed\", \"6\"))\n",
       "        .catch(showError)\n",
       "        .then(() => displayChart(vegaEmbed));\n",
       "    }\n",
       "  })({\"config\": {\"view\": {\"continuousWidth\": 400, \"continuousHeight\": 300}}, \"data\": {\"name\": \"data-23a1e93fd67be54643fc1ae985138dc8\"}, \"mark\": \"point\", \"encoding\": {\"color\": {\"field\": \"y\", \"scale\": {\"domain\": [0.0, 1.0], \"range\": [\"red\", \"blue\"]}, \"type\": \"quantitative\"}, \"x\": {\"field\": \"x1\", \"type\": \"quantitative\"}, \"y\": {\"field\": \"x2\", \"type\": \"quantitative\"}}, \"title\": \"Synthetic Data from Make Moons Function\", \"$schema\": \"https://vega.github.io/schema/vega-lite/v4.17.0.json\", \"datasets\": {\"data-23a1e93fd67be54643fc1ae985138dc8\": [{\"x1\": 0.5168897605562319, \"x2\": -0.3959808550656335, \"y\": 1}, {\"x1\": 0.5336403044746931, \"x2\": -0.1613192092625659, \"y\": 1}, {\"x1\": 1.6997064567997742, \"x2\": -0.011341935849421836, \"y\": 1}, {\"x1\": 0.4809108109410287, \"x2\": 1.2317377387027908, \"y\": 0}, {\"x1\": -0.8120860528931747, \"x2\": -0.07940778101190976, \"y\": 0}, {\"x1\": -0.39691668304385685, \"x2\": 0.6045605169041598, \"y\": 0}, {\"x1\": -0.02373133003154631, \"x2\": 0.9523686488002354, \"y\": 0}, {\"x1\": -0.5696729341760631, \"x2\": 0.48957848405982285, \"y\": 0}, {\"x1\": -0.10117146251276188, \"x2\": 0.11656395726603552, \"y\": 1}, {\"x1\": -0.8350391692482428, \"x2\": 0.6408536977556708, \"y\": 0}, {\"x1\": 0.1228492657355223, \"x2\": 1.1508872284399996, \"y\": 0}, {\"x1\": 0.9517195923543934, \"x2\": -0.6966310113708953, \"y\": 1}, {\"x1\": 0.84675868519512, \"x2\": 0.27060054875358996, \"y\": 1}, {\"x1\": 0.5536696649392286, \"x2\": 1.5945576196874984, \"y\": 0}, {\"x1\": 0.9638662951704025, \"x2\": -0.17729806034378962, \"y\": 0}, {\"x1\": 0.6625145179541323, \"x2\": 0.6504634812643961, \"y\": 0}, {\"x1\": 1.3964802509774021, \"x2\": 0.15209699682094557, \"y\": 1}, {\"x1\": 0.028846689060038098, \"x2\": 0.503920177791229, \"y\": 1}, {\"x1\": 1.8137030344083935, \"x2\": 0.4484010874134539, \"y\": 1}, {\"x1\": 0.3170798047883161, \"x2\": 0.5151023117405964, \"y\": 0}, {\"x1\": 2.0322042608493804, \"x2\": -0.0005795439726442586, \"y\": 1}, {\"x1\": 1.148444532247016, \"x2\": -0.066270487615082, \"y\": 0}, {\"x1\": 0.06291932907271547, \"x2\": -0.5385761100339151, \"y\": 1}, {\"x1\": -0.4151541268163828, \"x2\": 0.5991924157148991, \"y\": 0}, {\"x1\": -0.12072908800030585, \"x2\": 0.8888452962877317, \"y\": 0}, {\"x1\": 0.11488507486311195, \"x2\": 1.8189159727026614, \"y\": 0}, {\"x1\": 1.1039846240903706, \"x2\": -0.793221645378613, \"y\": 1}, {\"x1\": -1.1491992435462415, \"x2\": 0.6344218628462688, \"y\": 0}, {\"x1\": 0.2921799376066482, \"x2\": 0.8870202027721061, \"y\": 0}, {\"x1\": -1.0734218874078814, \"x2\": -0.15671690196110227, \"y\": 0}, {\"x1\": 1.2418134834729229, \"x2\": 0.9846315573872904, \"y\": 0}, {\"x1\": 1.6883040837692893, \"x2\": 0.5294990858378787, \"y\": 0}, {\"x1\": 0.8917745137163573, \"x2\": -0.5968824597056596, \"y\": 0}, {\"x1\": -0.8092531796852289, \"x2\": 0.45100955522401487, \"y\": 0}, {\"x1\": 0.48847051622888144, \"x2\": -0.666994479941881, \"y\": 1}, {\"x1\": -1.2264304284354135, \"x2\": 0.6096906188016598, \"y\": 0}, {\"x1\": -0.5029169272739875, \"x2\": 0.5766536129236185, \"y\": 0}, {\"x1\": 0.14841790028850693, \"x2\": 1.1647056535363431, \"y\": 0}, {\"x1\": 0.29393883056933023, \"x2\": -0.7903266145856398, \"y\": 1}, {\"x1\": 1.2942375391469356, \"x2\": -0.2715162960035845, \"y\": 1}, {\"x1\": -0.7374965946992398, \"x2\": 1.2452030608658997, \"y\": 0}, {\"x1\": 0.03255221333468172, \"x2\": -0.04514294988037609, \"y\": 1}, {\"x1\": -0.1962941223570062, \"x2\": 0.5755557092892285, \"y\": 0}, {\"x1\": 0.6026248055090594, \"x2\": 0.5396772451224967, \"y\": 1}, {\"x1\": 1.2145627391281042, \"x2\": 0.7422626550211082, \"y\": 0}, {\"x1\": 1.152715216896606, \"x2\": -0.02521913713031604, \"y\": 1}, {\"x1\": 0.5609889949205389, \"x2\": 1.062500367246254, \"y\": 0}, {\"x1\": -0.4359401596216576, \"x2\": 0.8313987746615565, \"y\": 0}, {\"x1\": 1.4528210599693214, \"x2\": -0.6635981550013446, \"y\": 1}, {\"x1\": 0.17833660031597878, \"x2\": -0.3602465629840119, \"y\": 1}, {\"x1\": 2.1449611807863347, \"x2\": 0.5767312791026428, \"y\": 1}, {\"x1\": 1.0652475176123237, \"x2\": -0.6997389823214559, \"y\": 1}, {\"x1\": 0.48332625594383355, \"x2\": 1.2022999461746895, \"y\": 0}, {\"x1\": 1.9004888229806698, \"x2\": 0.046194919846761384, \"y\": 1}, {\"x1\": -1.1681015804798223, \"x2\": 0.1180458205193923, \"y\": 0}, {\"x1\": 2.0726182828666966, \"x2\": 0.34822708139429714, \"y\": 1}, {\"x1\": -0.39399463689988257, \"x2\": 0.8525572333639837, \"y\": 0}, {\"x1\": 0.6957314548294726, \"x2\": 0.4032196007617968, \"y\": 0}, {\"x1\": 0.19034088391089365, \"x2\": 0.14052842363665763, \"y\": 1}, {\"x1\": -0.12417811942564452, \"x2\": 0.696486030591488, \"y\": 0}, {\"x1\": 0.40444654065663477, \"x2\": 0.7398628106087498, \"y\": 0}, {\"x1\": 0.8461298403185429, \"x2\": 0.3814730591718664, \"y\": 0}, {\"x1\": 0.9784358140909508, \"x2\": -1.4273349104633397, \"y\": 1}, {\"x1\": 0.18114593820806413, \"x2\": 0.478272165131578, \"y\": 0}, {\"x1\": 1.450143985160529, \"x2\": -0.6766811583686858, \"y\": 1}, {\"x1\": -0.5667759844361733, \"x2\": 0.8504668253368401, \"y\": 0}, {\"x1\": 1.7611803644069834, \"x2\": 0.13787093661692842, \"y\": 1}, {\"x1\": 2.037222418702695, \"x2\": -0.4000073547990938, \"y\": 1}, {\"x1\": 1.2508211952545003, \"x2\": 0.19976320619895932, \"y\": 0}, {\"x1\": 2.2490440200415005, \"x2\": 0.47162858781148265, \"y\": 1}, {\"x1\": 0.4720584079393519, \"x2\": -0.31508546355383305, \"y\": 1}, {\"x1\": 0.43150570971542823, \"x2\": 0.2977079656588596, \"y\": 0}, {\"x1\": 1.2893096060513738, \"x2\": -0.2161915279555519, \"y\": 1}, {\"x1\": -0.9432695986861862, \"x2\": 0.5484865948330249, \"y\": 0}, {\"x1\": 0.12623738748412971, \"x2\": 0.9968441992912002, \"y\": 0}, {\"x1\": 0.5260341325554415, \"x2\": 0.06411435939087345, \"y\": 1}, {\"x1\": 1.6733312351796623, \"x2\": -0.9017782812755435, \"y\": 1}, {\"x1\": -1.1105976577409324, \"x2\": 0.7918287869034362, \"y\": 0}, {\"x1\": 0.17613062895893952, \"x2\": 1.567215120044195, \"y\": 0}, {\"x1\": 0.6047479182579577, \"x2\": 0.9179783023489, \"y\": 0}, {\"x1\": 0.1322607941034891, \"x2\": -0.23527291626312014, \"y\": 1}, {\"x1\": 1.2435807658187383, \"x2\": 0.30499391538318693, \"y\": 0}, {\"x1\": -0.11272326925913245, \"x2\": -0.12076304843231239, \"y\": 1}, {\"x1\": -0.18207811658986683, \"x2\": 1.183571699217104, \"y\": 0}, {\"x1\": 0.3418415744905968, \"x2\": -0.6155780741570132, \"y\": 1}, {\"x1\": -0.0874462967768829, \"x2\": 0.9238627963027163, \"y\": 0}, {\"x1\": -1.2844665921081084, \"x2\": 0.6324309618855088, \"y\": 0}, {\"x1\": -0.808594845231859, \"x2\": 0.16149038037171204, \"y\": 0}, {\"x1\": 1.1017930936402978, \"x2\": -0.9510782368237936, \"y\": 1}, {\"x1\": 0.5061232337843423, \"x2\": 0.12300600600085237, \"y\": 1}, {\"x1\": -0.649285732873679, \"x2\": -0.000289661819514485, \"y\": 0}, {\"x1\": -0.035588443454098076, \"x2\": 1.1217863684167722, \"y\": 0}, {\"x1\": 0.7494853336651711, \"x2\": 0.5587574820891835, \"y\": 0}, {\"x1\": 1.5976835770428772, \"x2\": -0.6740457359574263, \"y\": 1}, {\"x1\": 0.7819416766749139, \"x2\": 0.34449425358884694, \"y\": 0}, {\"x1\": 2.711470364766714, \"x2\": 0.5660321975874163, \"y\": 1}, {\"x1\": 0.534174180805372, \"x2\": -0.7327863564415691, \"y\": 1}, {\"x1\": 0.22545704202233552, \"x2\": 1.2786089778251826, \"y\": 0}, {\"x1\": 1.2085467620838788, \"x2\": -0.47953293482813153, \"y\": 1}, {\"x1\": 0.6993706637519219, \"x2\": -0.33021287357050527, \"y\": 1}, {\"x1\": 2.1624100182871007, \"x2\": 0.18103905333173587, \"y\": 1}, {\"x1\": -1.2396763911020254, \"x2\": 0.210417702725937, \"y\": 0}, {\"x1\": 2.1859153171377113, \"x2\": 0.8503463905133186, \"y\": 1}, {\"x1\": 2.4668227694203892, \"x2\": 0.600422270708826, \"y\": 1}, {\"x1\": 0.8583512283555863, \"x2\": -0.81117468276904, \"y\": 1}, {\"x1\": -0.591581084330273, \"x2\": 0.49440757456244727, \"y\": 1}, {\"x1\": 1.5437874603536503, \"x2\": 0.19904260532754123, \"y\": 1}, {\"x1\": 1.0693503016731793, \"x2\": -0.1106029288959533, \"y\": 1}, {\"x1\": -1.0049773344841422, \"x2\": 0.488558429246528, \"y\": 0}, {\"x1\": -0.8977170631969028, \"x2\": -0.34778223056537094, \"y\": 0}, {\"x1\": 0.13083319306304025, \"x2\": -0.8231938183862378, \"y\": 1}, {\"x1\": 1.42672720713521, \"x2\": 0.09812637282800885, \"y\": 1}, {\"x1\": -0.20222712040446233, \"x2\": 1.258392625607684, \"y\": 0}, {\"x1\": 0.9926031321454464, \"x2\": 0.7946468987851046, \"y\": 0}, {\"x1\": -0.9992773971421065, \"x2\": -0.24615491590930044, \"y\": 0}, {\"x1\": -0.3152351829468998, \"x2\": 1.1176814831329156, \"y\": 0}, {\"x1\": 2.0774284059965646, \"x2\": 0.2650460416536051, \"y\": 1}, {\"x1\": 0.02255152179768297, \"x2\": 0.8397651560713927, \"y\": 1}, {\"x1\": 0.20949531973420812, \"x2\": 0.9683140752287336, \"y\": 0}, {\"x1\": -1.3159662397600673, \"x2\": 0.33706511484095714, \"y\": 0}, {\"x1\": 0.5037495805679979, \"x2\": -0.3848742896392543, \"y\": 1}, {\"x1\": 1.7192008914275512, \"x2\": 0.3590443363724874, \"y\": 1}, {\"x1\": 1.0444958854612463, \"x2\": -0.2877672716501175, \"y\": 1}, {\"x1\": 0.22522421229792977, \"x2\": -0.16617375228477327, \"y\": 0}, {\"x1\": 1.4893483753068426, \"x2\": -0.08279831004710467, \"y\": 1}, {\"x1\": 0.25476497774484785, \"x2\": -0.4706596780044796, \"y\": 1}, {\"x1\": 0.2931154019175193, \"x2\": -0.10346641481366883, \"y\": 0}, {\"x1\": 1.1331967900053233, \"x2\": 0.7065742550130697, \"y\": 0}, {\"x1\": 1.0299105144878113, \"x2\": -0.2632363222598379, \"y\": 1}, {\"x1\": 1.4642570888842577, \"x2\": 0.44292202765310973, \"y\": 0}, {\"x1\": 1.2929108258639983, \"x2\": -0.3809796315390803, \"y\": 1}, {\"x1\": 0.26801512911884534, \"x2\": 1.5729797396029583, \"y\": 0}, {\"x1\": 0.8133060280250443, \"x2\": -0.3884557983787719, \"y\": 1}, {\"x1\": -0.23179847195870654, \"x2\": 1.389000998059972, \"y\": 0}, {\"x1\": -0.7685218794435695, \"x2\": 1.0445771147928045, \"y\": 0}, {\"x1\": 0.8480820529938677, \"x2\": 1.1319486641345282, \"y\": 0}, {\"x1\": 1.3333382970552825, \"x2\": -0.08667432375704336, \"y\": 1}, {\"x1\": 1.4930306619839955, \"x2\": 0.09443146372970523, \"y\": 1}, {\"x1\": -1.1951902698515602, \"x2\": 0.3174928222577169, \"y\": 0}, {\"x1\": 0.4025611878623947, \"x2\": -0.6836282873155073, \"y\": 1}, {\"x1\": 1.2704462371178178, \"x2\": -0.576147135585602, \"y\": 1}, {\"x1\": 0.42235181792607823, \"x2\": -1.1130701466187864, \"y\": 1}, {\"x1\": -0.013945471398760512, \"x2\": 0.1894567134717245, \"y\": 1}, {\"x1\": -0.8488800473674607, \"x2\": -0.14721577106240585, \"y\": 0}, {\"x1\": 1.5429275961319682, \"x2\": -0.36389919631310086, \"y\": 1}, {\"x1\": 0.05165809973690266, \"x2\": 0.018989960761176403, \"y\": 1}, {\"x1\": 1.2273740873646224, \"x2\": -0.5909856481312701, \"y\": 1}, {\"x1\": 0.4592501742693076, \"x2\": -0.22686734355258206, \"y\": 1}, {\"x1\": 0.4609301310829941, \"x2\": 0.6048940799630073, \"y\": 0}, {\"x1\": 0.31459687953159005, \"x2\": 0.6471494812521557, \"y\": 0}, {\"x1\": -0.9068274960638782, \"x2\": 0.4860016557566829, \"y\": 0}, {\"x1\": -0.29076189802616487, \"x2\": 0.7641030095906757, \"y\": 0}, {\"x1\": -0.11094695827827816, \"x2\": -0.2595792740546476, \"y\": 1}, {\"x1\": 0.2140133634205956, \"x2\": 1.4539464030294396, \"y\": 0}, {\"x1\": -0.29024033871220656, \"x2\": 0.1687452849983228, \"y\": 1}, {\"x1\": 2.111761853826269, \"x2\": 0.20118905220188588, \"y\": 1}, {\"x1\": 2.0419925501411327, \"x2\": -0.6071222565313227, \"y\": 1}, {\"x1\": 0.5193149567816474, \"x2\": 0.6229192437177833, \"y\": 0}, {\"x1\": 0.015948261733242708, \"x2\": -0.004761451881393625, \"y\": 0}, {\"x1\": 0.5048233612816927, \"x2\": 0.5823177020834418, \"y\": 0}, {\"x1\": -1.33633997773435, \"x2\": -0.2153747830824197, \"y\": 0}, {\"x1\": 1.3533455568556072, \"x2\": -0.565736587989325, \"y\": 1}, {\"x1\": 1.321931419144644, \"x2\": -0.009360667797249617, \"y\": 0}, {\"x1\": 0.5201682726425741, \"x2\": -0.4700487757392384, \"y\": 1}, {\"x1\": -0.19502091180695602, \"x2\": 1.2518094996760343, \"y\": 0}, {\"x1\": -0.32362511661201376, \"x2\": 1.4446574595708142, \"y\": 0}, {\"x1\": 0.06543495237611585, \"x2\": -0.17611262457002969, \"y\": 1}, {\"x1\": -0.5651917768741944, \"x2\": 1.2868462852763087, \"y\": 0}, {\"x1\": 0.8136368143565674, \"x2\": 0.14945298235668503, \"y\": 1}, {\"x1\": 0.43906285457525435, \"x2\": -0.01405897753735244, \"y\": 1}, {\"x1\": 0.2691788983959946, \"x2\": 0.3873143804311189, \"y\": 1}, {\"x1\": 1.241717062308044, \"x2\": -0.3714475525833391, \"y\": 1}, {\"x1\": -0.059401652373276714, \"x2\": 0.5024843389860424, \"y\": 0}, {\"x1\": 2.202178953644096, \"x2\": -0.46317059732593285, \"y\": 1}, {\"x1\": 1.4657230390556983, \"x2\": -1.365439372505998, \"y\": 1}, {\"x1\": -0.5173766468978639, \"x2\": 0.03492186729891528, \"y\": 1}, {\"x1\": -0.47514144157127514, \"x2\": 0.5851116400518915, \"y\": 0}, {\"x1\": -1.1196145291278694, \"x2\": 0.5652111783209641, \"y\": 0}, {\"x1\": 0.878507456749158, \"x2\": -0.24670748481939167, \"y\": 1}, {\"x1\": 1.9769981492598085, \"x2\": 0.00932339776178187, \"y\": 1}, {\"x1\": -0.18072116726963172, \"x2\": -0.06542444591078278, \"y\": 1}, {\"x1\": 1.292230357481721, \"x2\": -0.3851191878400041, \"y\": 1}, {\"x1\": -1.2862562318763087, \"x2\": 0.20267093254784058, \"y\": 0}, {\"x1\": 0.4114225772258475, \"x2\": 0.39884531210257773, \"y\": 0}, {\"x1\": 0.9662729149363264, \"x2\": 0.7347373063125727, \"y\": 0}, {\"x1\": 0.10188474286807221, \"x2\": 0.40065885467480566, \"y\": 1}, {\"x1\": -1.0354440884503733, \"x2\": 0.8705099730002527, \"y\": 0}, {\"x1\": 2.2633173135114735, \"x2\": 0.12073634211337683, \"y\": 1}, {\"x1\": 1.3202917636529903, \"x2\": -0.5992751890676695, \"y\": 1}, {\"x1\": 0.11617914765577779, \"x2\": -0.10303713669302425, \"y\": 1}, {\"x1\": 0.021287525026568943, \"x2\": -0.6644703311788885, \"y\": 1}, {\"x1\": -0.6901968113271436, \"x2\": -0.09446863534547056, \"y\": 0}, {\"x1\": 0.4169984370849384, \"x2\": -0.6194877374350275, \"y\": 1}, {\"x1\": 0.2778174535133936, \"x2\": -0.1952467846841704, \"y\": 0}, {\"x1\": 0.5737370569878256, \"x2\": -0.13317707796971118, \"y\": 1}, {\"x1\": 0.7908789511993678, \"x2\": -1.0016155536203084, \"y\": 1}, {\"x1\": 1.528178326987054, \"x2\": 0.24733673769662154, \"y\": 0}, {\"x1\": 2.202477874638026, \"x2\": 0.4649812318395882, \"y\": 1}, {\"x1\": 0.4899872411683892, \"x2\": 1.1493287893430362, \"y\": 0}, {\"x1\": 1.1732553147175608, \"x2\": -0.32256100917732045, \"y\": 1}, {\"x1\": -0.9344023177102831, \"x2\": 0.22342566071283337, \"y\": 0}, {\"x1\": 2.024300391728316, \"x2\": 0.427742219575197, \"y\": 1}, {\"x1\": 1.8724754251627473, \"x2\": -0.19552687511975858, \"y\": 1}, {\"x1\": -0.2730535075913968, \"x2\": 0.6423957093523669, \"y\": 0}, {\"x1\": 1.4121567590367539, \"x2\": 0.23129294443893444, \"y\": 1}, {\"x1\": 1.569134186500896, \"x2\": 0.42390064591982346, \"y\": 1}, {\"x1\": 1.594485819268752, \"x2\": 0.6231262470337973, \"y\": 1}, {\"x1\": 1.1242307790626407, \"x2\": 0.09026652931121376, \"y\": 0}, {\"x1\": 0.818311522128905, \"x2\": 1.0185272231387648, \"y\": 0}, {\"x1\": 1.909854737096063, \"x2\": 1.0055936702657897, \"y\": 1}, {\"x1\": 0.4125295749028576, \"x2\": -0.2892275012389155, \"y\": 1}, {\"x1\": -0.2901475915838853, \"x2\": 0.1873727417066705, \"y\": 0}, {\"x1\": 0.7684863557888926, \"x2\": 0.7882449958849528, \"y\": 0}, {\"x1\": -0.12019881094922405, \"x2\": 1.169113417752453, \"y\": 0}, {\"x1\": 0.27708462521632377, \"x2\": 0.6084618779841423, \"y\": 0}, {\"x1\": -0.7811795424331396, \"x2\": 0.13993862772139515, \"y\": 0}, {\"x1\": 1.7347258719758762, \"x2\": 0.05174963810930336, \"y\": 1}, {\"x1\": 0.3479030905744762, \"x2\": 0.8702902842863094, \"y\": 0}, {\"x1\": 1.9437122896895331, \"x2\": 0.15718721884824657, \"y\": 1}, {\"x1\": 0.17167302665195253, \"x2\": 0.9114622728196144, \"y\": 0}, {\"x1\": -0.18965192527271568, \"x2\": -0.9888804910752241, \"y\": 1}, {\"x1\": 0.788377422155884, \"x2\": 1.0090258662653846, \"y\": 0}, {\"x1\": 0.5062048777539474, \"x2\": 0.739879383289419, \"y\": 0}, {\"x1\": -0.7739497492125138, \"x2\": 0.6191241017329625, \"y\": 0}, {\"x1\": -0.15225407563160698, \"x2\": 0.6064279572145632, \"y\": 0}, {\"x1\": 0.6889662671839458, \"x2\": 0.5479295236494994, \"y\": 0}, {\"x1\": 1.8846908821882264, \"x2\": -0.007705860569595213, \"y\": 0}, {\"x1\": 1.093404039251607, \"x2\": 1.1541273882011098, \"y\": 0}, {\"x1\": 0.11299252726633656, \"x2\": -0.6795885357976482, \"y\": 1}, {\"x1\": 1.6881355147632662, \"x2\": -0.435896503379288, \"y\": 0}, {\"x1\": 0.8809646901797444, \"x2\": 0.2365899471498639, \"y\": 0}, {\"x1\": 2.0288916600661917, \"x2\": 0.38913619340947087, \"y\": 1}, {\"x1\": 1.7172793476308144, \"x2\": -0.5983782995786009, \"y\": 1}, {\"x1\": -0.8243929367527587, \"x2\": 0.39741075746853205, \"y\": 0}, {\"x1\": 0.6343587147328357, \"x2\": 0.8372505430611605, \"y\": 0}, {\"x1\": 1.0887281923110737, \"x2\": 0.7708131536815862, \"y\": 0}, {\"x1\": -1.2421101249173998, \"x2\": 0.9873820331018053, \"y\": 0}, {\"x1\": 0.017172294971239843, \"x2\": -1.0600144226898252, \"y\": 1}, {\"x1\": 1.115043893941257, \"x2\": -0.10983885189354997, \"y\": 0}, {\"x1\": 0.7227740810853247, \"x2\": -0.5991558908818349, \"y\": 1}, {\"x1\": 1.7404197076041188, \"x2\": 0.6531355387514386, \"y\": 1}, {\"x1\": 1.6408370645900927, \"x2\": -0.4621691551893498, \"y\": 1}, {\"x1\": 0.4392404889699531, \"x2\": 0.4412619261957787, \"y\": 0}, {\"x1\": 0.9097352216039967, \"x2\": 0.096256389513242, \"y\": 0}, {\"x1\": 0.1675097000011922, \"x2\": -0.5486094666746986, \"y\": 1}, {\"x1\": 0.19009977544553258, \"x2\": 0.9143156883660369, \"y\": 0}, {\"x1\": 0.9813749798962119, \"x2\": -0.5509008390954463, \"y\": 1}, {\"x1\": 0.45640165004442323, \"x2\": -0.6681519098335884, \"y\": 1}, {\"x1\": 0.5088482580457755, \"x2\": -0.8466903264600398, \"y\": 1}, {\"x1\": 0.6312832502847149, \"x2\": 0.010733661389220384, \"y\": 1}, {\"x1\": 0.6324091000927641, \"x2\": 0.4985690952535996, \"y\": 0}, {\"x1\": 0.005512671120017444, \"x2\": 0.8075418313772459, \"y\": 0}, {\"x1\": 0.9871421814714816, \"x2\": -0.2512735892565803, \"y\": 0}, {\"x1\": 0.556462028127289, \"x2\": 0.1856505100630801, \"y\": 1}, {\"x1\": -1.3730546116600204, \"x2\": 0.1193008146094075, \"y\": 0}, {\"x1\": 1.741352174849444, \"x2\": 0.11080787179139506, \"y\": 1}, {\"x1\": -0.5445118132565938, \"x2\": 1.7889030309405376, \"y\": 0}, {\"x1\": 0.9810553220592527, \"x2\": -0.44530850175269016, \"y\": 1}, {\"x1\": 0.61492143124788, \"x2\": 0.709070458148388, \"y\": 0}, {\"x1\": 0.5036254867293743, \"x2\": -0.4267621142770749, \"y\": 1}, {\"x1\": 0.9127103715320929, \"x2\": 0.42757409374405114, \"y\": 0}, {\"x1\": 1.7831206376093247, \"x2\": -0.25472952867301657, \"y\": 1}, {\"x1\": -0.36557856957257806, \"x2\": 0.7811720944860377, \"y\": 0}, {\"x1\": -0.5810339819993459, \"x2\": 1.1372732367128788, \"y\": 0}, {\"x1\": 0.7452592185344485, \"x2\": -0.36166463812007654, \"y\": 1}, {\"x1\": -0.4366658279537863, \"x2\": 0.5254158735254025, \"y\": 0}, {\"x1\": 0.6371184764192365, \"x2\": -0.34482239926397373, \"y\": 1}, {\"x1\": 0.42229754473053377, \"x2\": 0.6342295545933512, \"y\": 0}, {\"x1\": -0.8954166134980884, \"x2\": -0.6141545613543338, \"y\": 1}, {\"x1\": 0.07477499651334457, \"x2\": 0.4010383966124734, \"y\": 1}, {\"x1\": 0.456236117823498, \"x2\": -0.7242946015798122, \"y\": 1}, {\"x1\": -1.179465691652224, \"x2\": 0.5226433556864966, \"y\": 0}, {\"x1\": -1.190343557504638, \"x2\": 0.05819150066243217, \"y\": 0}, {\"x1\": -0.4117870861961774, \"x2\": 1.6508213133617295, \"y\": 0}, {\"x1\": 0.7031831716853989, \"x2\": -0.216512867464183, \"y\": 1}, {\"x1\": 0.782766084334253, \"x2\": -0.22594513908367164, \"y\": 1}, {\"x1\": 1.9193524171514742, \"x2\": 0.02495433723543225, \"y\": 0}, {\"x1\": 0.26998034553484995, \"x2\": -0.5575323992961883, \"y\": 1}, {\"x1\": -1.0909916241874833, \"x2\": 0.4125798677559664, \"y\": 0}, {\"x1\": -1.2640387200451313, \"x2\": -0.1784989273366025, \"y\": 0}, {\"x1\": -0.5965395612995767, \"x2\": 0.06840742846885156, \"y\": 0}, {\"x1\": 1.8158822726239054, \"x2\": -0.11772402912728153, \"y\": 1}, {\"x1\": 0.2474867897958786, \"x2\": 0.12919356780509816, \"y\": 1}, {\"x1\": 0.6874956175031375, \"x2\": 0.13607975123440996, \"y\": 0}, {\"x1\": 0.9099540889025395, \"x2\": -0.11343658666053635, \"y\": 1}, {\"x1\": 0.41240103338358836, \"x2\": -0.5322296353148466, \"y\": 1}, {\"x1\": 0.4852654813199781, \"x2\": 0.4566310385670081, \"y\": 0}, {\"x1\": -0.2214181730536458, \"x2\": 0.31258969895312777, \"y\": 1}, {\"x1\": 0.3731179759594582, \"x2\": 0.5311853628303946, \"y\": 0}, {\"x1\": 0.23969637220540346, \"x2\": 1.1194947039877887, \"y\": 0}, {\"x1\": 0.1857287504073355, \"x2\": 0.46429285805819204, \"y\": 0}, {\"x1\": 0.6515884756511974, \"x2\": 0.0889521192456472, \"y\": 0}, {\"x1\": 0.7505709644047811, \"x2\": 0.5578812686047282, \"y\": 0}, {\"x1\": 0.4975463656919768, \"x2\": 0.07237109126205676, \"y\": 1}, {\"x1\": -0.19127099184874957, \"x2\": 1.1470491896558916, \"y\": 0}, {\"x1\": 1.1918201423152828, \"x2\": -0.40838977671297927, \"y\": 0}, {\"x1\": 0.5367198714020606, \"x2\": 0.5750511132792612, \"y\": 0}, {\"x1\": 2.355139999726946, \"x2\": -0.35215435574484144, \"y\": 1}, {\"x1\": 0.35248695522964224, \"x2\": -0.4213700757595087, \"y\": 1}, {\"x1\": 0.7748118303732274, \"x2\": 1.1427258553167323, \"y\": 0}, {\"x1\": 0.8092588251066791, \"x2\": -0.038296131357702545, \"y\": 0}, {\"x1\": 0.2952724048479722, \"x2\": 1.4370231085552985, \"y\": 0}, {\"x1\": -0.5516601011255019, \"x2\": -0.003911104234414098, \"y\": 1}, {\"x1\": 0.6829137043318972, \"x2\": 0.2930532852848099, \"y\": 0}, {\"x1\": 1.7881009457656554, \"x2\": -0.32182420221489383, \"y\": 1}, {\"x1\": 1.683210986264415, \"x2\": 0.40330086184418495, \"y\": 1}, {\"x1\": -1.0568455463864297, \"x2\": 0.8852437364631661, \"y\": 0}, {\"x1\": -1.6306480237758372, \"x2\": -0.34543084934951507, \"y\": 0}, {\"x1\": 0.6504795041753594, \"x2\": 0.09083718177053346, \"y\": 0}, {\"x1\": -1.1458694183429905, \"x2\": 0.7581090777755364, \"y\": 0}, {\"x1\": 0.5768029497476922, \"x2\": 0.7340495122808982, \"y\": 1}, {\"x1\": 2.0481442745398692, \"x2\": 0.46879212519459956, \"y\": 1}, {\"x1\": 0.5013964087821166, \"x2\": -0.1802610444643572, \"y\": 1}, {\"x1\": 0.27284076678056846, \"x2\": -0.3456897656934644, \"y\": 1}, {\"x1\": 2.152506569289048, \"x2\": 0.1955324566371271, \"y\": 1}, {\"x1\": 1.1979772123194132, \"x2\": -0.2125312613208496, \"y\": 1}, {\"x1\": -1.0821440269962004, \"x2\": 0.5909029847400631, \"y\": 0}, {\"x1\": 2.032478158835603, \"x2\": 0.06596406480412173, \"y\": 1}, {\"x1\": -0.03294928345668194, \"x2\": 0.092849163060548, \"y\": 1}, {\"x1\": 1.903017275806655, \"x2\": 0.11248153128553495, \"y\": 1}, {\"x1\": 1.6892607183468407, \"x2\": -0.42103305532738877, \"y\": 1}, {\"x1\": 0.9361618116843231, \"x2\": -0.8208166004676087, \"y\": 1}, {\"x1\": 0.4074244687614892, \"x2\": 0.3355870017036356, \"y\": 1}, {\"x1\": 1.6848142497176624, \"x2\": 0.44400815224626683, \"y\": 1}, {\"x1\": 0.08351747138367899, \"x2\": -0.7240805634228779, \"y\": 1}, {\"x1\": 0.48844096937783793, \"x2\": -0.08697803111545, \"y\": 0}, {\"x1\": -0.12038525401466342, \"x2\": 1.1239467226348987, \"y\": 0}, {\"x1\": 0.05901593922539526, \"x2\": 0.6544110376862444, \"y\": 0}, {\"x1\": 0.6441025739337378, \"x2\": -0.13294114361824017, \"y\": 1}, {\"x1\": -0.630709665638969, \"x2\": 0.765826079508499, \"y\": 0}, {\"x1\": -1.1600682566478737, \"x2\": 0.24220247748911042, \"y\": 0}, {\"x1\": 1.6982251591899054, \"x2\": -0.04703017332434456, \"y\": 1}, {\"x1\": -1.0969807250470018, \"x2\": 0.38855596464640246, \"y\": 0}, {\"x1\": 1.870932337365458, \"x2\": -0.23195311528896478, \"y\": 1}, {\"x1\": -1.3048816079217866, \"x2\": 0.9527534243361853, \"y\": 0}, {\"x1\": 2.003508759717893, \"x2\": 0.8154935241860294, \"y\": 1}, {\"x1\": 0.26858081274137446, \"x2\": 0.7424532832438218, \"y\": 0}, {\"x1\": -0.3312920966120289, \"x2\": 1.2222619795257499, \"y\": 0}, {\"x1\": 0.2962708280907145, \"x2\": 0.7178657576973301, \"y\": 0}, {\"x1\": -1.2950945008651467, \"x2\": 0.31665093471092387, \"y\": 0}, {\"x1\": -0.8557477099881784, \"x2\": 0.25095461339877173, \"y\": 0}, {\"x1\": 0.361388196871073, \"x2\": -0.31855346187307704, \"y\": 1}, {\"x1\": 0.804366270420958, \"x2\": 1.4982687499194354, \"y\": 0}, {\"x1\": 1.082398245054383, \"x2\": -0.8043699660146175, \"y\": 1}, {\"x1\": 0.5770812651906203, \"x2\": 0.5259530001319195, \"y\": 0}, {\"x1\": 0.8053327774857769, \"x2\": 1.0677232126119791, \"y\": 0}, {\"x1\": 0.36555760613836613, \"x2\": -0.4087737890709683, \"y\": 1}, {\"x1\": 0.0018482010697145057, \"x2\": 1.0076592582842276, \"y\": 0}, {\"x1\": -0.2814096647512991, \"x2\": 1.3107100396741314, \"y\": 0}, {\"x1\": 0.6589579135783501, \"x2\": -0.19663111156081475, \"y\": 1}, {\"x1\": 1.959244162374335, \"x2\": -0.27538241662698526, \"y\": 1}, {\"x1\": 0.998266717617628, \"x2\": 0.5145807705047831, \"y\": 0}, {\"x1\": 1.785221350916166, \"x2\": 0.6159882533832874, \"y\": 1}, {\"x1\": 0.6633595955631896, \"x2\": 0.7748119942507842, \"y\": 0}, {\"x1\": -0.36575736886598376, \"x2\": 1.468704633951162, \"y\": 0}, {\"x1\": -0.8278827546446055, \"x2\": 0.16901977147077663, \"y\": 0}, {\"x1\": -1.1160854314256448, \"x2\": 0.5987278654481717, \"y\": 0}, {\"x1\": 1.6623571037795566, \"x2\": -0.12840426227509794, \"y\": 1}, {\"x1\": 0.5491706177194755, \"x2\": -0.357507869885653, \"y\": 1}, {\"x1\": 0.3085896209753483, \"x2\": 1.1138007538012493, \"y\": 0}, {\"x1\": 0.07589541935097677, \"x2\": 1.1510408782139812, \"y\": 0}, {\"x1\": 1.3506454931145169, \"x2\": 0.7597927906298861, \"y\": 1}, {\"x1\": 2.049891300657319, \"x2\": -0.6560073961801196, \"y\": 1}, {\"x1\": 1.6519582031956022, \"x2\": 0.37615311196723816, \"y\": 1}, {\"x1\": -0.6895262664772154, \"x2\": 1.1395304952929783, \"y\": 0}, {\"x1\": 0.08350869156494783, \"x2\": 0.004978875951812595, \"y\": 1}, {\"x1\": 1.0887147394056793, \"x2\": 1.4173096132127454, \"y\": 0}, {\"x1\": 0.7992095283338327, \"x2\": -0.3037774592597856, \"y\": 0}, {\"x1\": 0.09374475709190841, \"x2\": 0.48512342080755905, \"y\": 1}, {\"x1\": 0.8511858643526853, \"x2\": 1.0239845552636722, \"y\": 0}, {\"x1\": 1.1289244115352906, \"x2\": 0.02000115253463819, \"y\": 0}, {\"x1\": -0.8049338137121672, \"x2\": 0.40185414527655877, \"y\": 0}, {\"x1\": -0.7904421189809788, \"x2\": 0.9881973562596835, \"y\": 0}, {\"x1\": 0.9368189898875594, \"x2\": -0.5310904205478582, \"y\": 1}, {\"x1\": 0.8267937242781593, \"x2\": 1.1153909987089958, \"y\": 0}, {\"x1\": 1.039112470850962, \"x2\": -0.25195377884929115, \"y\": 1}, {\"x1\": 0.22821756406977425, \"x2\": -0.35071821359782646, \"y\": 1}, {\"x1\": 0.2285102057673084, \"x2\": 0.2347215643575264, \"y\": 1}, {\"x1\": -0.0899146763236766, \"x2\": 0.8032765511471014, \"y\": 1}, {\"x1\": 0.13464826265113222, \"x2\": 0.626924020993753, \"y\": 0}, {\"x1\": 0.49908200561194194, \"x2\": -0.7986407463402672, \"y\": 1}, {\"x1\": 0.6423561041750762, \"x2\": -0.612954295596624, \"y\": 1}, {\"x1\": 0.8193296587060559, \"x2\": 0.5078541697311546, \"y\": 0}, {\"x1\": -0.1249211684216196, \"x2\": 0.41465116759160137, \"y\": 1}, {\"x1\": -0.845625194906437, \"x2\": 1.2841937631405067, \"y\": 0}, {\"x1\": 1.9317063166955613, \"x2\": 0.4260526668987449, \"y\": 1}, {\"x1\": 1.1351852675444847, \"x2\": 0.82916093977528, \"y\": 0}, {\"x1\": 1.0737983067190289, \"x2\": -0.33084625828580333, \"y\": 1}, {\"x1\": 0.3655521434644141, \"x2\": -0.806074623121122, \"y\": 1}, {\"x1\": 0.39852568807143457, \"x2\": 0.5803099647998755, \"y\": 0}, {\"x1\": -0.41859143189425074, \"x2\": 0.39131704021951086, \"y\": 1}, {\"x1\": 1.247216874768797, \"x2\": 0.4518082554072317, \"y\": 0}, {\"x1\": 1.303911114690094, \"x2\": -0.3918420364456182, \"y\": 1}, {\"x1\": 0.45703392190180886, \"x2\": 0.47739316470134796, \"y\": 0}, {\"x1\": 0.742142079734202, \"x2\": 0.5523111923878065, \"y\": 0}, {\"x1\": -0.48587434907121646, \"x2\": 0.6358684642944379, \"y\": 0}, {\"x1\": -0.8815845864048379, \"x2\": 0.8175603722166127, \"y\": 0}, {\"x1\": 0.009719003414565441, \"x2\": 1.226369799881065, \"y\": 0}, {\"x1\": 1.703300021116522, \"x2\": 0.06976676121278083, \"y\": 1}, {\"x1\": 1.9573915734452965, \"x2\": -0.42066625813413255, \"y\": 1}, {\"x1\": 1.6763406414503546, \"x2\": 0.34039660680199724, \"y\": 1}, {\"x1\": -0.5337480336738806, \"x2\": 0.40017816195018086, \"y\": 0}, {\"x1\": 1.544410957007818, \"x2\": -0.40462278147059594, \"y\": 1}, {\"x1\": 0.4033639612924318, \"x2\": -0.9610817123635398, \"y\": 1}, {\"x1\": 0.5444570054938804, \"x2\": -0.3235467604281367, \"y\": 1}, {\"x1\": 1.0709125304557652, \"x2\": 0.10563638522045349, \"y\": 0}, {\"x1\": 1.6188877177695726, \"x2\": -0.3586215853288235, \"y\": 1}, {\"x1\": -0.5191645767788847, \"x2\": 0.8794676735493336, \"y\": 0}, {\"x1\": 1.032810085743748, \"x2\": 0.795503103606205, \"y\": 0}, {\"x1\": 0.6591637460268405, \"x2\": -0.433267072778233, \"y\": 1}, {\"x1\": 1.381621827742868, \"x2\": -1.182056207862336, \"y\": 1}, {\"x1\": 1.51743290253239, \"x2\": -0.890001357631115, \"y\": 1}, {\"x1\": 1.3627126138314813, \"x2\": -0.5364119277097084, \"y\": 1}, {\"x1\": 0.8638165871063723, \"x2\": 0.7161226632324453, \"y\": 0}, {\"x1\": 1.5069617695019455, \"x2\": -0.23338427963640718, \"y\": 1}, {\"x1\": 2.0973456871718255, \"x2\": 0.42345439479662217, \"y\": 1}, {\"x1\": 0.15344427938381056, \"x2\": 0.8356188078074931, \"y\": 0}, {\"x1\": 1.4238498204557666, \"x2\": -0.7797162506734998, \"y\": 1}, {\"x1\": 1.6359616199594316, \"x2\": 0.6428612396752433, \"y\": 1}, {\"x1\": -0.3126541207837433, \"x2\": 0.6835134239681117, \"y\": 0}, {\"x1\": 0.6661369140680401, \"x2\": 0.014185814640919114, \"y\": 1}, {\"x1\": 0.46639197086959583, \"x2\": 0.13788556093345006, \"y\": 1}, {\"x1\": 0.4812460974275049, \"x2\": -0.10959183040184535, \"y\": 1}, {\"x1\": 0.41104220867016095, \"x2\": 0.3846010448505903, \"y\": 1}, {\"x1\": 1.1887872935315007, \"x2\": 0.7367511831021295, \"y\": 0}, {\"x1\": 0.6012682838160286, \"x2\": 0.23343523155703405, \"y\": 0}, {\"x1\": 0.16279335713716814, \"x2\": 1.324883006696135, \"y\": 0}, {\"x1\": -1.1822660594441494, \"x2\": 0.5568036913460167, \"y\": 0}, {\"x1\": 0.33230535735803535, \"x2\": -0.22263958970672984, \"y\": 1}, {\"x1\": -0.7776935334173632, \"x2\": 0.6198542393642015, \"y\": 0}, {\"x1\": 0.04466569269599452, \"x2\": 0.1163098511425813, \"y\": 0}, {\"x1\": 1.007732297256848, \"x2\": -0.8671837744078283, \"y\": 1}, {\"x1\": 1.331935587949086, \"x2\": -0.5372835318778267, \"y\": 1}, {\"x1\": 1.4012607249616846, \"x2\": -0.06683965700836896, \"y\": 0}, {\"x1\": 1.5726627278653051, \"x2\": -0.6390794567350251, \"y\": 1}, {\"x1\": 1.2942304100892177, \"x2\": 1.1541249226582744, \"y\": 1}, {\"x1\": 0.6779341047164014, \"x2\": 0.9915236663197031, \"y\": 0}, {\"x1\": 1.3773010594157513, \"x2\": -0.41783537258308223, \"y\": 1}, {\"x1\": -0.7937861839228357, \"x2\": 1.014378121941225, \"y\": 0}, {\"x1\": 0.43829282297817546, \"x2\": 0.6876665182803356, \"y\": 0}, {\"x1\": 1.8376763334652146, \"x2\": -0.6762911340178112, \"y\": 1}, {\"x1\": 1.481367418394699, \"x2\": -0.6574867513497846, \"y\": 1}, {\"x1\": 1.0022935743970225, \"x2\": 0.05998805856853617, \"y\": 0}, {\"x1\": 1.7836430678010742, \"x2\": -0.5130545123933313, \"y\": 1}, {\"x1\": 0.13423123100698903, \"x2\": 0.5377031586675513, \"y\": 1}, {\"x1\": -1.1947118301758282, \"x2\": -0.3480874378123332, \"y\": 0}, {\"x1\": 0.4892001183405189, \"x2\": -0.1307123920419191, \"y\": 1}, {\"x1\": 1.5680267111081418, \"x2\": 0.08136087902428701, \"y\": 1}, {\"x1\": 0.38840856060553036, \"x2\": 1.1188628895894912, \"y\": 0}, {\"x1\": 0.8026448955678609, \"x2\": -0.30787284252533453, \"y\": 1}, {\"x1\": 1.4123267862094055, \"x2\": -0.6246197841415803, \"y\": 1}, {\"x1\": 0.6583860622009355, \"x2\": 0.8520042449742348, \"y\": 0}, {\"x1\": 0.9014948775747339, \"x2\": -0.6835168818256729, \"y\": 1}, {\"x1\": 0.23705253600350484, \"x2\": 0.3469267485453178, \"y\": 0}, {\"x1\": -0.28563173279338905, \"x2\": -0.06018573407033864, \"y\": 1}, {\"x1\": -0.1312984259730736, \"x2\": 0.2220228608438353, \"y\": 1}, {\"x1\": 0.6033694519813397, \"x2\": -0.5867048427801691, \"y\": 1}, {\"x1\": 0.22459663356766593, \"x2\": 0.33232741085340917, \"y\": 1}, {\"x1\": 0.5295215596419942, \"x2\": -0.237925602736692, \"y\": 1}, {\"x1\": -0.39291190266429055, \"x2\": 0.6693839145505991, \"y\": 0}, {\"x1\": 0.7793299117728542, \"x2\": 0.825331395087802, \"y\": 0}, {\"x1\": -1.55301146452025, \"x2\": 0.17209736384714855, \"y\": 0}, {\"x1\": -0.1062931588156052, \"x2\": -0.2946496622816269, \"y\": 1}, {\"x1\": -0.8434380642072796, \"x2\": 0.39316203353505425, \"y\": 0}, {\"x1\": 1.024537331635533, \"x2\": 0.6596267476757336, \"y\": 0}, {\"x1\": 1.1732526776540606, \"x2\": -0.6134988186237096, \"y\": 1}, {\"x1\": 1.3845874473653537, \"x2\": -0.13004365668899526, \"y\": 1}, {\"x1\": 1.5031070023060362, \"x2\": -0.7812445638284085, \"y\": 1}, {\"x1\": -0.0314711156916348, \"x2\": 1.0031539719615619, \"y\": 0}, {\"x1\": 0.8922556097063088, \"x2\": -0.21148204938334636, \"y\": 1}, {\"x1\": 0.9491866646982189, \"x2\": 0.3033449094751034, \"y\": 0}, {\"x1\": 2.360503867490871, \"x2\": -0.15293772604357306, \"y\": 1}, {\"x1\": 0.43759387924146, \"x2\": -0.448720951944379, \"y\": 1}, {\"x1\": 2.345509155692456, \"x2\": 0.5223123450743496, \"y\": 1}, {\"x1\": -0.9883628274169222, \"x2\": 0.06421212067189752, \"y\": 0}, {\"x1\": -0.42722561605231935, \"x2\": 1.013950220648354, \"y\": 0}, {\"x1\": 1.304653212139646, \"x2\": -0.6738811131461941, \"y\": 1}, {\"x1\": -0.23174658930509123, \"x2\": 0.6802292707705538, \"y\": 0}, {\"x1\": -0.7575059769676622, \"x2\": -0.17846240128019372, \"y\": 0}, {\"x1\": -1.708078696124466, \"x2\": 0.18678716778888507, \"y\": 0}, {\"x1\": -0.24087142371756082, \"x2\": 0.7296851377311417, \"y\": 0}, {\"x1\": 1.568531283231101, \"x2\": -0.20744153233361476, \"y\": 1}, {\"x1\": 1.839083646895751, \"x2\": -0.23777114308225195, \"y\": 1}, {\"x1\": 0.4197985244105368, \"x2\": 0.9251231389503313, \"y\": 1}, {\"x1\": -1.0391716885283497, \"x2\": 0.031087133511123244, \"y\": 0}, {\"x1\": -0.024286239029065362, \"x2\": 0.9307067053762769, \"y\": 1}, {\"x1\": -0.25155620349126473, \"x2\": 0.42552251994312607, \"y\": 0}, {\"x1\": 0.9095974888629754, \"x2\": -0.14579175220411011, \"y\": 1}, {\"x1\": -1.037000017149384, \"x2\": 1.0233560858916428, \"y\": 0}, {\"x1\": 0.2829608120269058, \"x2\": 0.6631787865169626, \"y\": 0}, {\"x1\": 0.675895797885822, \"x2\": 0.06097372146080212, \"y\": 0}, {\"x1\": 0.37456136369124804, \"x2\": -0.18496476285608465, \"y\": 1}, {\"x1\": 0.7324727427155401, \"x2\": 0.06788262964090774, \"y\": 0}, {\"x1\": 2.5655528175248197, \"x2\": 0.4711563227226689, \"y\": 1}, {\"x1\": -0.5061873717394272, \"x2\": 1.0242154409198825, \"y\": 0}, {\"x1\": 0.36945101297434135, \"x2\": 0.8943953119938695, \"y\": 0}, {\"x1\": 1.5262425726408018, \"x2\": 0.5773666047723278, \"y\": 0}, {\"x1\": 0.4046541218637713, \"x2\": -0.5942320983192086, \"y\": 1}, {\"x1\": -1.2158660709774856, \"x2\": 0.3685422803392117, \"y\": 0}, {\"x1\": 0.697269646272138, \"x2\": 1.4803577855276089, \"y\": 0}, {\"x1\": 0.6560961642263459, \"x2\": 0.8434069973488318, \"y\": 0}, {\"x1\": 0.4377303068304424, \"x2\": 0.02509050438122251, \"y\": 1}, {\"x1\": -0.004802302334251329, \"x2\": 0.7780700395726545, \"y\": 1}, {\"x1\": 1.1159332073075652, \"x2\": 0.3055072437728391, \"y\": 0}, {\"x1\": 0.9333696373956688, \"x2\": 0.13683017516588392, \"y\": 0}, {\"x1\": 0.2809462272205122, \"x2\": 0.2851135154302651, \"y\": 0}, {\"x1\": 0.07171310912942808, \"x2\": 1.0753723704249432, \"y\": 0}, {\"x1\": 1.447987847485739, \"x2\": 0.03643278174201514, \"y\": 0}, {\"x1\": 0.25445998298301054, \"x2\": 1.1491515460415016, \"y\": 0}, {\"x1\": 0.06036914639228974, \"x2\": 0.3433236775555, \"y\": 0}, {\"x1\": 0.9419734921978788, \"x2\": -0.2641787906304056, \"y\": 0}, {\"x1\": 1.8448007126961927, \"x2\": 0.33450896738009017, \"y\": 1}, {\"x1\": 0.9691344779664334, \"x2\": 1.0869744436939022, \"y\": 0}, {\"x1\": -0.3627440794556047, \"x2\": 0.8449784038584166, \"y\": 0}, {\"x1\": 0.027664330841492057, \"x2\": 1.3255557918946115, \"y\": 0}, {\"x1\": -0.1067072958313434, \"x2\": 0.811221125999914, \"y\": 0}, {\"x1\": -0.7793755610063406, \"x2\": 0.1095286549497057, \"y\": 0}, {\"x1\": 0.653718169430437, \"x2\": -0.7618180279033866, \"y\": 1}, {\"x1\": 0.03911365276880616, \"x2\": 0.5664601632485335, \"y\": 1}, {\"x1\": 0.2449968860719651, \"x2\": 0.326854929057775, \"y\": 1}, {\"x1\": -0.8533130737126484, \"x2\": 1.2986511990505623, \"y\": 0}, {\"x1\": 0.2505796211757054, \"x2\": -0.7338010017156631, \"y\": 1}, {\"x1\": 1.335028025420688, \"x2\": 0.5348671650706895, \"y\": 0}, {\"x1\": 1.7269274217007928, \"x2\": -0.08158677331659042, \"y\": 1}, {\"x1\": -0.4533841780713968, \"x2\": 0.4255251921090296, \"y\": 1}, {\"x1\": 0.9101598428473869, \"x2\": -0.5314308966811235, \"y\": 1}, {\"x1\": 0.9157910055671364, \"x2\": 0.07201715129410813, \"y\": 0}, {\"x1\": 1.3710491661789197, \"x2\": -0.46881093474701807, \"y\": 1}, {\"x1\": 0.5244802012907802, \"x2\": -0.7562489079735124, \"y\": 1}, {\"x1\": 1.6545610263422192, \"x2\": 0.20685526235801552, \"y\": 1}, {\"x1\": 0.4068022592237894, \"x2\": 0.9519119388394819, \"y\": 0}, {\"x1\": 1.3342404487410682, \"x2\": -0.22896626430790007, \"y\": 1}, {\"x1\": -1.1982131088692274, \"x2\": 0.677783747165715, \"y\": 0}, {\"x1\": 0.8847327115508616, \"x2\": -0.38658689172444116, \"y\": 1}, {\"x1\": -0.10058670382043056, \"x2\": 0.6183458784509439, \"y\": 0}, {\"x1\": -1.1683566821800646, \"x2\": 0.42490624833864454, \"y\": 0}, {\"x1\": 0.46540920251914614, \"x2\": 0.11420290902242392, \"y\": 1}, {\"x1\": 1.7594181877638588, \"x2\": 0.27182097965746554, \"y\": 1}, {\"x1\": 1.0761818496697284, \"x2\": 0.012141314994759435, \"y\": 1}, {\"x1\": 0.4039121530231331, \"x2\": -0.16347075952548035, \"y\": 1}, {\"x1\": -0.22522746967796947, \"x2\": -0.17714232161060423, \"y\": 1}, {\"x1\": 0.7207509025098651, \"x2\": 0.2266317023807977, \"y\": 0}, {\"x1\": 0.5977516106914266, \"x2\": -0.20934972373136004, \"y\": 1}, {\"x1\": 2.196678923030335, \"x2\": 0.46760688740313644, \"y\": 1}, {\"x1\": -0.10094189193537206, \"x2\": -0.36316833809550697, \"y\": 1}, {\"x1\": 0.6524160291964556, \"x2\": -0.47967218424434066, \"y\": 1}, {\"x1\": -1.1764836163916146, \"x2\": 0.043388546869676414, \"y\": 0}, {\"x1\": 0.5964026433787907, \"x2\": -0.958543452222344, \"y\": 1}, {\"x1\": 0.8849144169957756, \"x2\": 0.6908994867308252, \"y\": 0}, {\"x1\": 0.4344158357940059, \"x2\": 1.0093193364802215, \"y\": 0}, {\"x1\": 0.16872788625395355, \"x2\": 0.14565966261180957, \"y\": 1}, {\"x1\": 2.006008157513939, \"x2\": -0.2722877064689512, \"y\": 1}, {\"x1\": 1.6084985631103097, \"x2\": -0.03484672008269904, \"y\": 1}, {\"x1\": 0.4934179885762496, \"x2\": 0.0957141374158599, \"y\": 0}, {\"x1\": 1.71924539346957, \"x2\": -0.04337401716888972, \"y\": 1}, {\"x1\": -0.7846415704709488, \"x2\": 1.3409409697328751, \"y\": 0}, {\"x1\": -0.6148319364652859, \"x2\": -0.23773752762005806, \"y\": 1}, {\"x1\": 1.0854031494140195, \"x2\": 0.39716356784710816, \"y\": 0}, {\"x1\": 1.0110106604239766, \"x2\": 0.3819703595930549, \"y\": 1}, {\"x1\": 0.012751541716888921, \"x2\": 0.09712259745692949, \"y\": 1}, {\"x1\": 2.2998274760580437, \"x2\": 0.6149358142451069, \"y\": 1}, {\"x1\": -1.0387795836889944, \"x2\": 0.73860863524337, \"y\": 0}, {\"x1\": 1.4018807240659326, \"x2\": -0.7415029025303375, \"y\": 1}, {\"x1\": 0.24499570740233073, \"x2\": 0.011226561631003634, \"y\": 1}, {\"x1\": 1.6579111181045512, \"x2\": -0.3666073466247903, \"y\": 1}, {\"x1\": 0.9225532217064113, \"x2\": -0.309448876629638, \"y\": 1}, {\"x1\": 0.5240556437272496, \"x2\": -0.39500028977584273, \"y\": 1}, {\"x1\": -0.8669766518617738, \"x2\": 0.018559451302741004, \"y\": 0}, {\"x1\": -0.6291653549692554, \"x2\": 1.3202473296103812, \"y\": 0}, {\"x1\": -1.1584831011782684, \"x2\": 0.5740524397590661, \"y\": 0}, {\"x1\": -1.2846530593662155, \"x2\": -0.05846673605264929, \"y\": 0}, {\"x1\": 0.6196747231235933, \"x2\": 1.2980954644422498, \"y\": 0}, {\"x1\": 1.8515874698590067, \"x2\": 0.03587827388004394, \"y\": 1}, {\"x1\": 0.3921180320396568, \"x2\": 2.1335773672500924, \"y\": 0}, {\"x1\": 0.9733582118655641, \"x2\": 0.3757683463639875, \"y\": 0}, {\"x1\": -0.08650601884212777, \"x2\": 0.9182002106251962, \"y\": 0}, {\"x1\": 1.6202534684650618, \"x2\": -0.698950808033556, \"y\": 1}, {\"x1\": 0.08216080220381744, \"x2\": -0.7140499254120818, \"y\": 1}, {\"x1\": 1.936911850216692, \"x2\": -0.3886800787387616, \"y\": 1}, {\"x1\": 0.7909929972951166, \"x2\": -0.9568065037332866, \"y\": 1}, {\"x1\": 0.752651940010999, \"x2\": 0.8154467270541994, \"y\": 0}, {\"x1\": 1.19166365990228, \"x2\": -0.9486597123327882, \"y\": 1}, {\"x1\": 0.1357541293702057, \"x2\": -1.0853612741123002, \"y\": 1}, {\"x1\": 1.8900941677310776, \"x2\": -0.027590706074292815, \"y\": 1}, {\"x1\": -0.5073977253487556, \"x2\": 0.1681344264149637, \"y\": 0}, {\"x1\": 0.3774426507092748, \"x2\": -0.22895497163511824, \"y\": 1}, {\"x1\": 0.5060995408031747, \"x2\": 0.659039051083859, \"y\": 0}, {\"x1\": -0.6197414086469242, \"x2\": 0.12430174417853979, \"y\": 0}, {\"x1\": -0.685352201905497, \"x2\": 1.1024636368108167, \"y\": 0}, {\"x1\": -0.3366792304706843, \"x2\": 0.752989009226344, \"y\": 0}, {\"x1\": 1.5992308959302872, \"x2\": -0.25211025250008395, \"y\": 1}, {\"x1\": -0.6329828587828745, \"x2\": 1.0636231196132886, \"y\": 0}, {\"x1\": -0.18669186079611078, \"x2\": -0.37910512054538437, \"y\": 1}, {\"x1\": 0.4944521881035036, \"x2\": 1.4384236068578244, \"y\": 0}, {\"x1\": -0.8946759515700692, \"x2\": 1.3177174761235708, \"y\": 0}, {\"x1\": 0.3160124708361297, \"x2\": -0.5107117297662573, \"y\": 1}, {\"x1\": -0.10233313192878936, \"x2\": 0.35446032030930896, \"y\": 1}, {\"x1\": -0.2669704469099181, \"x2\": 0.9194524068610098, \"y\": 0}, {\"x1\": -0.11853410086832186, \"x2\": 0.2283408633200235, \"y\": 1}, {\"x1\": -1.2134068102475049, \"x2\": -0.2845841729418918, \"y\": 0}, {\"x1\": 0.7252096287266449, \"x2\": 0.5786698816129453, \"y\": 0}, {\"x1\": 0.5841987044402005, \"x2\": -0.3970513212370672, \"y\": 1}, {\"x1\": 0.4002781108702251, \"x2\": 0.8306437318256074, \"y\": 0}, {\"x1\": -0.44643582105264107, \"x2\": 0.12445911506719393, \"y\": 0}, {\"x1\": -0.12943399965622848, \"x2\": 0.6856980318347492, \"y\": 0}, {\"x1\": 0.8291881073076175, \"x2\": -0.08309038444597402, \"y\": 0}, {\"x1\": -0.6083857097327029, \"x2\": 0.5971967022062147, \"y\": 1}, {\"x1\": 1.8240980397690973, \"x2\": 0.48903600076413317, \"y\": 1}, {\"x1\": -0.7758604436462375, \"x2\": 0.9648159708770476, \"y\": 0}, {\"x1\": 1.2909485075801306, \"x2\": -0.15122468996184874, \"y\": 1}, {\"x1\": 1.502053825071568, \"x2\": -0.06971355538418826, \"y\": 1}, {\"x1\": 1.3136429769906395, \"x2\": -0.6276465336124606, \"y\": 1}, {\"x1\": 0.28432705893656596, \"x2\": 0.3591865902801186, \"y\": 1}, {\"x1\": 1.5542146261742413, \"x2\": 0.02338155020359467, \"y\": 1}, {\"x1\": 1.4510028204433674, \"x2\": -0.0772733759504472, \"y\": 1}, {\"x1\": -0.295383553766774, \"x2\": 1.1995389803401553, \"y\": 0}, {\"x1\": 2.1334731239124993, \"x2\": -0.24076398992112424, \"y\": 1}, {\"x1\": -0.8824852472914446, \"x2\": 0.5328037184655882, \"y\": 1}, {\"x1\": -0.40522891212405865, \"x2\": 1.3303741402527494, \"y\": 0}, {\"x1\": -0.6721853503623963, \"x2\": 1.1991890028467274, \"y\": 0}, {\"x1\": 2.000485855674409, \"x2\": 0.23311438523166889, \"y\": 1}, {\"x1\": 0.5102183701171148, \"x2\": 1.113915665410407, \"y\": 0}, {\"x1\": 0.35732850174885533, \"x2\": 0.6884144275853531, \"y\": 0}, {\"x1\": 2.482884875201176, \"x2\": 0.03605435793097281, \"y\": 1}, {\"x1\": 1.2218416152989562, \"x2\": 0.3164002051031557, \"y\": 0}, {\"x1\": -0.2709798299163694, \"x2\": 1.0997166246715517, \"y\": 1}, {\"x1\": 1.0133850103920015, \"x2\": -0.5655122210715593, \"y\": 1}, {\"x1\": 0.1620797513989688, \"x2\": -0.6415282236340702, \"y\": 1}, {\"x1\": -0.19483376216880355, \"x2\": 0.8673545621350724, \"y\": 0}, {\"x1\": -0.8197266129903016, \"x2\": 0.4049971484519254, \"y\": 0}, {\"x1\": 0.07408337950083577, \"x2\": 1.0157452704776109, \"y\": 0}, {\"x1\": -0.5173142334112704, \"x2\": 1.558986958038696, \"y\": 0}, {\"x1\": 2.5531411764023684, \"x2\": -0.08410200311519436, \"y\": 1}, {\"x1\": -0.6731002896538826, \"x2\": 1.4199006584399527, \"y\": 0}, {\"x1\": 2.2504932792337424, \"x2\": 0.6257632368746313, \"y\": 1}, {\"x1\": 0.530502839833393, \"x2\": -0.21665671402430364, \"y\": 1}, {\"x1\": 0.835049800734452, \"x2\": -0.8547829184282265, \"y\": 1}, {\"x1\": 1.7631638598831625, \"x2\": -0.2018898302673991, \"y\": 1}, {\"x1\": 0.11451618324881929, \"x2\": 0.427574368475493, \"y\": 1}, {\"x1\": -1.3521826764527463, \"x2\": 0.6016189701799006, \"y\": 0}, {\"x1\": -0.7375489637153527, \"x2\": 0.4057556489290203, \"y\": 0}, {\"x1\": -0.5293850706244647, \"x2\": -0.06200131059654619, \"y\": 1}, {\"x1\": -1.0921287775344592, \"x2\": 0.8343087453817376, \"y\": 0}, {\"x1\": -0.14840272954864, \"x2\": 0.6355267953561372, \"y\": 1}, {\"x1\": -0.6279989571423151, \"x2\": 1.0355742903996128, \"y\": 0}, {\"x1\": -0.7503201182318594, \"x2\": -0.16651840882326918, \"y\": 0}, {\"x1\": 0.1305980445857265, \"x2\": -0.6530801232212163, \"y\": 1}, {\"x1\": 1.3177829161355121, \"x2\": -0.3962946999215887, \"y\": 0}, {\"x1\": 1.0708306500199594, \"x2\": 0.3924167021212185, \"y\": 0}, {\"x1\": -0.6337440960731086, \"x2\": 0.7225739934103553, \"y\": 0}, {\"x1\": -0.4225815944398895, \"x2\": 1.2719404195185162, \"y\": 0}, {\"x1\": 1.9013083826302328, \"x2\": -0.08670551844141017, \"y\": 1}, {\"x1\": 0.03581308390399407, \"x2\": -0.43010279888513026, \"y\": 1}, {\"x1\": 0.32211748710516325, \"x2\": 0.08868911597725455, \"y\": 1}, {\"x1\": 0.4999056218555934, \"x2\": -0.49196374880461613, \"y\": 1}, {\"x1\": 0.4444679736827024, \"x2\": 1.0521305918285968, \"y\": 0}, {\"x1\": 1.627948992206989, \"x2\": -0.5448219860494294, \"y\": 1}, {\"x1\": 1.3288575094371218, \"x2\": -0.14012536405495069, \"y\": 1}, {\"x1\": 0.09035742391033044, \"x2\": 1.3472027987072908, \"y\": 0}, {\"x1\": -0.039579723060263805, \"x2\": 0.09961235989770212, \"y\": 0}, {\"x1\": 1.2361505947301106, \"x2\": -0.1115968688408831, \"y\": 1}, {\"x1\": -0.6362082605575834, \"x2\": 0.12906817445288238, \"y\": 0}, {\"x1\": 1.1573779262468542, \"x2\": 0.6940928552556686, \"y\": 0}, {\"x1\": 1.4751593213961698, \"x2\": -1.0995731807524427, \"y\": 1}, {\"x1\": 0.348519590379601, \"x2\": 1.6502466336318375, \"y\": 0}, {\"x1\": 0.6400258630411366, \"x2\": -0.0684432090029915, \"y\": 0}, {\"x1\": 1.3028394181915401, \"x2\": -0.9754927127939512, \"y\": 1}, {\"x1\": 0.045915336001626644, \"x2\": -0.007627132898821526, \"y\": 1}, {\"x1\": 1.9326221720273322, \"x2\": -0.8971523964669946, \"y\": 1}, {\"x1\": 1.6957367582524918, \"x2\": -0.34116425409533213, \"y\": 1}, {\"x1\": 1.0809027963230258, \"x2\": -0.5159401823335371, \"y\": 1}, {\"x1\": 2.4228492333196363, \"x2\": 0.5707680591957702, \"y\": 1}, {\"x1\": 0.6112364840795328, \"x2\": -0.17632061369958638, \"y\": 1}, {\"x1\": 1.2524636278266783, \"x2\": -0.46795489358455783, \"y\": 1}, {\"x1\": 2.021485640353253, \"x2\": -0.950807629370439, \"y\": 1}, {\"x1\": 1.7400984634240608, \"x2\": 0.1661947868493036, \"y\": 0}, {\"x1\": -1.72900694873239, \"x2\": 0.34842733598052505, \"y\": 0}, {\"x1\": 1.3539971904248866, \"x2\": 0.011940999771427374, \"y\": 1}, {\"x1\": -0.12370214153052615, \"x2\": 1.3142769198708537, \"y\": 0}, {\"x1\": 0.9883430197074111, \"x2\": -0.09969198317453298, \"y\": 1}, {\"x1\": 0.14858474375197847, \"x2\": 1.6111752853812726, \"y\": 0}, {\"x1\": 2.255032438246808, \"x2\": 0.6381475567068242, \"y\": 1}, {\"x1\": 1.6222018996775738, \"x2\": 0.13230484732624492, \"y\": 1}, {\"x1\": 1.0399700522059978, \"x2\": -0.4071296485862945, \"y\": 1}, {\"x1\": -0.8838178903112175, \"x2\": 1.1901045144773432, \"y\": 0}, {\"x1\": 0.9645506262202789, \"x2\": -0.2287458506815598, \"y\": 0}, {\"x1\": 2.715562719755141, \"x2\": 0.4589368905742489, \"y\": 1}, {\"x1\": 1.1281314207949074, \"x2\": 0.34538722492113794, \"y\": 0}, {\"x1\": -0.08743338234224628, \"x2\": 1.2760892768648464, \"y\": 0}, {\"x1\": -0.8624354022909515, \"x2\": -0.24561779983326118, \"y\": 0}, {\"x1\": 0.30448348204920384, \"x2\": 0.765914279617907, \"y\": 0}, {\"x1\": 1.550689130311806, \"x2\": -1.2008660738379235, \"y\": 1}, {\"x1\": -0.44677773163628437, \"x2\": 0.9597859029076271, \"y\": 1}, {\"x1\": 1.9430767674009628, \"x2\": -0.019152607705518465, \"y\": 1}, {\"x1\": -0.09725075120393997, \"x2\": -0.22162588424655857, \"y\": 1}, {\"x1\": -0.3349587419085257, \"x2\": 0.8081925133451585, \"y\": 1}, {\"x1\": 0.38674590016931676, \"x2\": 0.13055367909353105, \"y\": 0}, {\"x1\": 0.4020034101316819, \"x2\": -0.4234254722231757, \"y\": 1}, {\"x1\": -0.42636413188957967, \"x2\": 1.3736005709963224, \"y\": 0}, {\"x1\": 0.34301559456419856, \"x2\": -0.20848941205439497, \"y\": 1}, {\"x1\": 1.7143558926539877, \"x2\": 0.8931350276515145, \"y\": 1}, {\"x1\": -0.6750975525414883, \"x2\": 0.605980810063128, \"y\": 0}, {\"x1\": 0.2420566282814805, \"x2\": 0.03902724821217746, \"y\": 1}, {\"x1\": -0.3894594685378, \"x2\": 0.8776869633738653, \"y\": 0}, {\"x1\": -0.027163990756295497, \"x2\": -0.055588422257032616, \"y\": 1}, {\"x1\": 2.1807881488615006, \"x2\": 0.08997685767631636, \"y\": 1}, {\"x1\": 0.1668070247300878, \"x2\": 0.8296794554052696, \"y\": 1}, {\"x1\": 0.9660100433511692, \"x2\": -0.8913440054890972, \"y\": 1}, {\"x1\": -0.06567405208415926, \"x2\": 0.43982818622814457, \"y\": 0}, {\"x1\": -0.2692846646945146, \"x2\": 0.5480134246959165, \"y\": 0}, {\"x1\": 2.243669325567077, \"x2\": -0.7740986944461643, \"y\": 1}, {\"x1\": 1.1058804464938423, \"x2\": 0.11927198108019044, \"y\": 0}, {\"x1\": 1.2980819857730597, \"x2\": -0.6812843863271973, \"y\": 1}, {\"x1\": -0.9139709577341629, \"x2\": 0.5914161151445121, \"y\": 0}, {\"x1\": 0.09714746149964257, \"x2\": 0.7645912595328304, \"y\": 0}, {\"x1\": 0.0703179381024081, \"x2\": 1.0320840508045617, \"y\": 0}, {\"x1\": 0.7978507135496107, \"x2\": -0.8908505591799997, \"y\": 1}, {\"x1\": -0.42971900685155956, \"x2\": 0.7873496348033713, \"y\": 0}, {\"x1\": 0.5318805075306436, \"x2\": 1.3859756245883792, \"y\": 0}, {\"x1\": -0.06736121676335771, \"x2\": 0.2903664051109872, \"y\": 0}, {\"x1\": 0.009545925953250378, \"x2\": 0.3626718593282794, \"y\": 0}, {\"x1\": -0.5055966107021174, \"x2\": 1.6820994920239627, \"y\": 0}, {\"x1\": 0.755515215510272, \"x2\": 0.0884338780544994, \"y\": 0}, {\"x1\": -0.004851143754890097, \"x2\": 0.029758711650842262, \"y\": 1}, {\"x1\": 0.2882908928380489, \"x2\": -0.0772792757719748, \"y\": 1}, {\"x1\": 1.6718395619399675, \"x2\": -0.6059632057659774, \"y\": 1}, {\"x1\": -0.33084334054778486, \"x2\": 1.3025048440106337, \"y\": 0}, {\"x1\": 0.9897255085118832, \"x2\": -0.9766222030494439, \"y\": 1}, {\"x1\": 1.4205405628476584, \"x2\": -0.43112994946668115, \"y\": 1}, {\"x1\": 1.9293791073870727, \"x2\": -0.3950439283838502, \"y\": 1}, {\"x1\": 1.0879291434798277, \"x2\": -0.9841149286314366, \"y\": 1}, {\"x1\": -0.8592203343698619, \"x2\": -0.16492559214914548, \"y\": 0}, {\"x1\": 1.7895387465253931, \"x2\": -0.06726441160761004, \"y\": 1}, {\"x1\": -0.4360985167949562, \"x2\": 0.24297179955077652, \"y\": 0}, {\"x1\": 1.3943264120119254, \"x2\": -0.9078764902145644, \"y\": 1}, {\"x1\": 0.7634145502976405, \"x2\": 0.47281671074349313, \"y\": 0}, {\"x1\": -0.13710327194379074, \"x2\": 0.9843485885504883, \"y\": 0}, {\"x1\": 0.7622133415230165, \"x2\": 0.34965151506678416, \"y\": 0}, {\"x1\": 0.24305756978618395, \"x2\": 0.36589046877955456, \"y\": 0}, {\"x1\": 1.949384047958149, \"x2\": -0.21416359868966242, \"y\": 1}, {\"x1\": 1.4472165614639336, \"x2\": 0.3687130023518186, \"y\": 1}, {\"x1\": -0.0376023798258569, \"x2\": 1.551729891652077, \"y\": 0}, {\"x1\": 0.0005806780225715673, \"x2\": 0.6928663007874758, \"y\": 1}, {\"x1\": 1.1134174093006135, \"x2\": -0.7539473647805044, \"y\": 1}, {\"x1\": -0.9544557066547386, \"x2\": 0.9686855543908856, \"y\": 0}, {\"x1\": 0.09765488003385014, \"x2\": 1.0609933435815744, \"y\": 0}, {\"x1\": 0.08393143021982924, \"x2\": 1.196286132907502, \"y\": 0}, {\"x1\": 0.3553326230970281, \"x2\": 0.7303875957218136, \"y\": 0}, {\"x1\": 0.507592796574573, \"x2\": 0.008533581834338277, \"y\": 1}, {\"x1\": -1.0155844501598161, \"x2\": 0.7807974386728753, \"y\": 0}, {\"x1\": -1.5909715811741019, \"x2\": -0.4391567812250581, \"y\": 0}, {\"x1\": -0.04579544116100179, \"x2\": 0.29714921700244035, \"y\": 1}, {\"x1\": 0.9906564731693129, \"x2\": -0.706285322356639, \"y\": 1}, {\"x1\": 2.183101933260634, \"x2\": -0.6431441556702588, \"y\": 1}, {\"x1\": -0.8653635311134636, \"x2\": 0.6482856852236771, \"y\": 0}, {\"x1\": 1.7279917921364027, \"x2\": -0.042345695178585496, \"y\": 1}, {\"x1\": 0.3701162616622472, \"x2\": -0.343091392262971, \"y\": 1}, {\"x1\": -0.06723189110030081, \"x2\": 0.9006118206387987, \"y\": 0}, {\"x1\": 0.08804687096437441, \"x2\": 0.8442372814761103, \"y\": 0}, {\"x1\": 0.8886326558470841, \"x2\": -0.6856005473961807, \"y\": 1}, {\"x1\": 0.6394272768242988, \"x2\": 0.6684339258793199, \"y\": 0}, {\"x1\": -0.24498284793878347, \"x2\": 0.8755181914348089, \"y\": 0}, {\"x1\": -0.7028799355584072, \"x2\": 0.7879341232715842, \"y\": 0}, {\"x1\": 0.7030457314438577, \"x2\": -0.4272469876863515, \"y\": 1}, {\"x1\": 0.3183497651895665, \"x2\": -1.0370487267049102, \"y\": 1}, {\"x1\": 0.44053906691646694, \"x2\": -0.18395357508245597, \"y\": 0}, {\"x1\": -0.8078722053833431, \"x2\": 0.5553176487171037, \"y\": 0}, {\"x1\": 1.7250518034968163, \"x2\": -0.40446319015782295, \"y\": 1}, {\"x1\": 0.011317093423597893, \"x2\": 0.17582558370415818, \"y\": 1}, {\"x1\": -0.5778874621721966, \"x2\": 0.5075963996837721, \"y\": 0}, {\"x1\": -0.2308631769348558, \"x2\": 0.9514346333646914, \"y\": 0}, {\"x1\": -0.21284889884077607, \"x2\": -0.12998342059218337, \"y\": 1}, {\"x1\": -1.022741836149031, \"x2\": 0.5353132818573183, \"y\": 0}, {\"x1\": -0.8229677897860292, \"x2\": -0.5058457850039064, \"y\": 0}, {\"x1\": 1.6015530128161093, \"x2\": -0.14480969653923195, \"y\": 1}, {\"x1\": 1.1588085994106427, \"x2\": 0.2275496232207005, \"y\": 1}, {\"x1\": 0.6931132369463795, \"x2\": -0.11504725464891452, \"y\": 1}, {\"x1\": 1.1330916637668762, \"x2\": 0.08048792595747223, \"y\": 1}, {\"x1\": -1.0718207259928199, \"x2\": 1.025544438778421, \"y\": 0}, {\"x1\": 1.1172049762249407, \"x2\": -0.5470512910684312, \"y\": 1}, {\"x1\": 0.7521462438336766, \"x2\": 0.6393097855169808, \"y\": 0}, {\"x1\": 1.5225237852908486, \"x2\": 0.4026165028891257, \"y\": 0}, {\"x1\": 0.5799219642310924, \"x2\": -0.40226077201829347, \"y\": 1}, {\"x1\": 0.6902772598659573, \"x2\": 1.1367312202828779, \"y\": 0}, {\"x1\": 2.092910968493768, \"x2\": -0.4002112331788575, \"y\": 1}, {\"x1\": -0.3075879838810375, \"x2\": 0.8171241473977411, \"y\": 0}, {\"x1\": 0.2553963928669949, \"x2\": 0.4799399357414449, \"y\": 1}, {\"x1\": 1.2110120257851678, \"x2\": -0.2517258033047435, \"y\": 1}, {\"x1\": 0.05308190812310473, \"x2\": -0.2897002734872917, \"y\": 1}, {\"x1\": 1.1138271996025315, \"x2\": 0.38286036555592884, \"y\": 1}, {\"x1\": -0.19237545098697917, \"x2\": 0.4650011751244736, \"y\": 0}, {\"x1\": 0.8174952161241646, \"x2\": 1.2865184220277472, \"y\": 0}, {\"x1\": -1.2201869707465935, \"x2\": 1.1894697655091813, \"y\": 0}, {\"x1\": -0.16528524988272186, \"x2\": -0.06737969896432372, \"y\": 1}, {\"x1\": 1.8320039850489356, \"x2\": -0.9280046258163964, \"y\": 1}, {\"x1\": -0.20629831995110737, \"x2\": 0.1074870090917282, \"y\": 1}, {\"x1\": -1.0479019694175673, \"x2\": -0.39930046387618173, \"y\": 0}, {\"x1\": -0.8951653335242493, \"x2\": 0.9767294594840279, \"y\": 0}, {\"x1\": -0.2920482808011502, \"x2\": 0.8609780918311284, \"y\": 0}, {\"x1\": 1.2906472533533242, \"x2\": -0.5162467286636423, \"y\": 1}, {\"x1\": 0.8412548454772533, \"x2\": -0.31381356918687286, \"y\": 1}, {\"x1\": 0.951518252499085, \"x2\": -0.6722750748455844, \"y\": 1}, {\"x1\": 0.5045943983329841, \"x2\": 0.5566852700487631, \"y\": 0}, {\"x1\": 2.3515760071273224, \"x2\": 0.3825240929806694, \"y\": 1}, {\"x1\": -0.5906300637587548, \"x2\": 0.9429242995277592, \"y\": 0}, {\"x1\": -0.4278515066252348, \"x2\": -0.031592824190263824, \"y\": 1}, {\"x1\": -0.9158537079437689, \"x2\": 0.5382385398646938, \"y\": 0}, {\"x1\": 1.3416580164594372, \"x2\": -0.9517065847194874, \"y\": 1}, {\"x1\": -0.03513625513157026, \"x2\": -0.11845199178539595, \"y\": 1}, {\"x1\": -0.18648903064244393, \"x2\": -0.17955633869266682, \"y\": 1}, {\"x1\": 0.7812783878036488, \"x2\": -0.21795273874684212, \"y\": 0}, {\"x1\": -0.6309596312956408, \"x2\": 0.9746642714026381, \"y\": 0}, {\"x1\": 0.5715959132107085, \"x2\": 1.2129144068104627, \"y\": 0}, {\"x1\": 0.5487332377593435, \"x2\": 0.43619956658764597, \"y\": 0}, {\"x1\": 1.6370765915730652, \"x2\": 0.05898620820234651, \"y\": 1}, {\"x1\": -0.14485337781352536, \"x2\": 0.27568855798986613, \"y\": 1}, {\"x1\": 1.9445962934447416, \"x2\": 0.5287050889982368, \"y\": 1}, {\"x1\": 0.6399259053357662, \"x2\": -0.3497710986437402, \"y\": 0}, {\"x1\": -0.48973353145038656, \"x2\": 1.0936066709571892, \"y\": 0}, {\"x1\": -0.148588408337613, \"x2\": -0.4891466318989326, \"y\": 0}, {\"x1\": 0.8892132517593264, \"x2\": -0.4605886512238674, \"y\": 1}, {\"x1\": 1.3557277178044655, \"x2\": -0.43869599180555796, \"y\": 1}, {\"x1\": 0.0849294034592257, \"x2\": -0.5100153181116949, \"y\": 1}, {\"x1\": 1.3751016497360755, \"x2\": 0.6390934470300564, \"y\": 0}, {\"x1\": -0.4140878986742114, \"x2\": 1.1555307032507227, \"y\": 0}, {\"x1\": -1.0220267325220715, \"x2\": 0.5567989300711753, \"y\": 0}, {\"x1\": 0.611794138812736, \"x2\": 0.5129522233263937, \"y\": 1}, {\"x1\": 1.5421295129134647, \"x2\": -0.2476234267917555, \"y\": 1}, {\"x1\": 0.50972572302896, \"x2\": -0.9011167313360091, \"y\": 1}, {\"x1\": 0.7627305640749873, \"x2\": -0.13627140891106823, \"y\": 1}, {\"x1\": -0.0240155774733673, \"x2\": -0.8107248495613585, \"y\": 1}, {\"x1\": 0.912255162061066, \"x2\": 0.3346946662996825, \"y\": 0}, {\"x1\": 0.31510427658782125, \"x2\": -0.2673558164687885, \"y\": 1}, {\"x1\": 0.7684144537947041, \"x2\": -0.5510600569716515, \"y\": 1}, {\"x1\": -0.1821769242344196, \"x2\": -0.45052184728034095, \"y\": 1}, {\"x1\": 2.4525863111816344, \"x2\": 0.23553329381128166, \"y\": 1}, {\"x1\": 1.9928510976144211, \"x2\": 0.6360591777239302, \"y\": 1}, {\"x1\": -0.25916729698775004, \"x2\": 0.343234705659889, \"y\": 0}, {\"x1\": 0.5323647218603041, \"x2\": 0.27193773656183684, \"y\": 0}, {\"x1\": 1.9528072066630924, \"x2\": -0.6645971425956516, \"y\": 1}, {\"x1\": 0.8592534631918962, \"x2\": 0.3900104189734176, \"y\": 0}, {\"x1\": 1.351945311011806, \"x2\": -0.43727638854506123, \"y\": 1}, {\"x1\": 0.5047760113700362, \"x2\": 0.692510178477878, \"y\": 0}, {\"x1\": 0.5479051725213975, \"x2\": 1.372257120946657, \"y\": 0}, {\"x1\": 0.7653966635642927, \"x2\": 0.28830294285864, \"y\": 1}, {\"x1\": -0.5016138632559637, \"x2\": 0.8320339082059728, \"y\": 0}, {\"x1\": -0.6512660419091453, \"x2\": 1.1643194623531457, \"y\": 0}, {\"x1\": 2.248263372081683, \"x2\": 0.11992253892296084, \"y\": 1}, {\"x1\": 0.6669643845663958, \"x2\": 0.8217181491553142, \"y\": 0}, {\"x1\": 0.5999202662508174, \"x2\": 0.33366939127508877, \"y\": 1}, {\"x1\": 1.5710723703002014, \"x2\": -0.5783456805987833, \"y\": 1}, {\"x1\": 0.3637195135487483, \"x2\": -0.12068337157226615, \"y\": 1}, {\"x1\": -0.8010545381941696, \"x2\": 0.18668323005844645, \"y\": 1}, {\"x1\": 1.7802811924783457, \"x2\": -0.2264944737295682, \"y\": 1}, {\"x1\": 0.5520004909689592, \"x2\": 1.3191098005797914, \"y\": 0}, {\"x1\": 1.2366523844422206, \"x2\": -0.6414069496157444, \"y\": 1}, {\"x1\": -1.4978930660919756, \"x2\": -0.10853522470930083, \"y\": 0}, {\"x1\": 0.6048708377517307, \"x2\": -0.47041121624301835, \"y\": 1}, {\"x1\": -0.3941907169099581, \"x2\": 0.7362992801884155, \"y\": 0}, {\"x1\": -0.8742731151346802, \"x2\": 1.0531179638732704, \"y\": 0}, {\"x1\": -0.1634451243368123, \"x2\": 0.5271277588720336, \"y\": 0}, {\"x1\": -0.5613387093445875, \"x2\": 0.4934661020919073, \"y\": 1}, {\"x1\": 0.8192911694398267, \"x2\": 0.031382154372684073, \"y\": 1}, {\"x1\": 0.8739841680126791, \"x2\": 0.7773035681893883, \"y\": 0}, {\"x1\": -1.2323940781652953, \"x2\": -0.23967106740439467, \"y\": 0}, {\"x1\": 0.5548582849038796, \"x2\": 0.911276295458084, \"y\": 0}, {\"x1\": 1.7962432241520772, \"x2\": -0.24093336449032732, \"y\": 1}, {\"x1\": -0.14397148797922737, \"x2\": 1.2309317708951535, \"y\": 0}, {\"x1\": 2.062011656205685, \"x2\": -0.6047613476279223, \"y\": 1}, {\"x1\": 0.44126056723623175, \"x2\": 0.6414002259455477, \"y\": 1}, {\"x1\": 2.2645032955276228, \"x2\": 0.03811539479978149, \"y\": 1}, {\"x1\": 2.050031870171352, \"x2\": 0.39133373872556354, \"y\": 1}, {\"x1\": -0.1847384702331521, \"x2\": 1.232546257328124, \"y\": 0}, {\"x1\": 0.4045858145534256, \"x2\": 0.9632599439602126, \"y\": 0}, {\"x1\": 0.866533724160805, \"x2\": -0.45211311296785717, \"y\": 1}, {\"x1\": 1.2997605025172303, \"x2\": -0.621437579292388, \"y\": 1}, {\"x1\": -0.20403276792576297, \"x2\": 0.5555476251182535, \"y\": 0}, {\"x1\": 0.35377978722926584, \"x2\": 0.792985153615097, \"y\": 0}, {\"x1\": -0.8185669468980209, \"x2\": 1.0361396421919813, \"y\": 0}, {\"x1\": -0.6939715056254043, \"x2\": 0.5509677006243597, \"y\": 0}, {\"x1\": -0.20563856389478652, \"x2\": 0.5814912648951689, \"y\": 1}, {\"x1\": -0.4887633736851666, \"x2\": 1.3989610868584283, \"y\": 0}, {\"x1\": -0.009638123589309266, \"x2\": 1.2535889191946956, \"y\": 0}, {\"x1\": -0.9407490750493728, \"x2\": -0.7163440312571632, \"y\": 0}, {\"x1\": -0.19269991509852658, \"x2\": 0.5484606319174283, \"y\": 1}, {\"x1\": 1.1333696638326372, \"x2\": 0.030133915352476448, \"y\": 0}, {\"x1\": 0.9832032459837178, \"x2\": -0.10207904909040882, \"y\": 1}, {\"x1\": 0.2704099935272409, \"x2\": 0.6522394046780993, \"y\": 0}, {\"x1\": -0.3332620004685392, \"x2\": 0.48431292858764957, \"y\": 1}, {\"x1\": 0.38519120688474945, \"x2\": 0.6742378593191526, \"y\": 0}, {\"x1\": 2.0131257002906406, \"x2\": -0.3429893431158395, \"y\": 1}, {\"x1\": 0.0983728407882524, \"x2\": 0.7627595203391171, \"y\": 0}, {\"x1\": 0.23068605283527283, \"x2\": -0.42702639674975723, \"y\": 1}, {\"x1\": -0.416321262391643, \"x2\": 0.7842063823686916, \"y\": 1}, {\"x1\": 1.5447652333783202, \"x2\": -0.39188157696889614, \"y\": 1}, {\"x1\": -0.55769094630247, \"x2\": 0.46584112399979577, \"y\": 0}, {\"x1\": -0.8925967749994882, \"x2\": -0.2914108667018884, \"y\": 0}, {\"x1\": -0.027736842573039745, \"x2\": 0.5782763428399365, \"y\": 1}, {\"x1\": 0.9882249302174047, \"x2\": -0.9668758946078376, \"y\": 1}, {\"x1\": 1.6215670532543913, \"x2\": 0.09401896870639026, \"y\": 1}, {\"x1\": 0.559481192397921, \"x2\": 0.11230421605024227, \"y\": 0}, {\"x1\": -1.3576607912064667, \"x2\": 0.8968078011095614, \"y\": 0}, {\"x1\": -0.18989538046691354, \"x2\": 0.5923953895540203, \"y\": 1}, {\"x1\": 0.773886357601904, \"x2\": 1.0317549416004805, \"y\": 0}, {\"x1\": -1.7592525056478752, \"x2\": 1.2101869061247628, \"y\": 0}, {\"x1\": 0.3032403160206385, \"x2\": 0.8060098406883627, \"y\": 0}, {\"x1\": 0.32943187390106876, \"x2\": 0.17681194984425444, \"y\": 1}, {\"x1\": 0.27328541420256003, \"x2\": 0.3223298720046085, \"y\": 1}, {\"x1\": -0.38994102403828035, \"x2\": 1.3534523165923018, \"y\": 0}, {\"x1\": -0.6175595655705721, \"x2\": 0.2458970819638171, \"y\": 0}, {\"x1\": 0.4206534976482507, \"x2\": 0.35057961617527017, \"y\": 1}, {\"x1\": 1.2471250281847361, \"x2\": 0.02938750162888755, \"y\": 0}, {\"x1\": 0.30501156203243746, \"x2\": -1.2149914320704216, \"y\": 1}, {\"x1\": 1.9388847043496296, \"x2\": -1.0712520428811116, \"y\": 1}, {\"x1\": -1.4960792539308143, \"x2\": 0.14193319781349803, \"y\": 0}, {\"x1\": 1.7858148247673213, \"x2\": -0.29826443463261304, \"y\": 1}, {\"x1\": 1.8983007964845653, \"x2\": 0.26806139946483803, \"y\": 1}, {\"x1\": 1.3734459062665736, \"x2\": -0.7369054509421473, \"y\": 1}, {\"x1\": 1.4210469431160464, \"x2\": -0.5604538974542697, \"y\": 1}, {\"x1\": -0.5742877223252736, \"x2\": 0.39131530776107865, \"y\": 0}, {\"x1\": 0.6806694281594148, \"x2\": 0.5343111554224851, \"y\": 0}, {\"x1\": -0.7428452676250918, \"x2\": 0.6609350718740162, \"y\": 0}, {\"x1\": -0.5913609719963894, \"x2\": 0.560795573615606, \"y\": 0}, {\"x1\": 1.8175447729108345, \"x2\": -0.6335413762842272, \"y\": 1}, {\"x1\": 1.4398514696104825, \"x2\": -0.3251650601474795, \"y\": 1}, {\"x1\": 0.956197509726209, \"x2\": -0.6404762859181081, \"y\": 1}, {\"x1\": -1.0477885968136547, \"x2\": 0.7543064791507739, \"y\": 0}, {\"x1\": 1.4479700516060467, \"x2\": -0.5610375827312413, \"y\": 1}, {\"x1\": 0.7521498291694547, \"x2\": -0.22670764252131875, \"y\": 1}, {\"x1\": 2.0803293330848684, \"x2\": 0.5046500642309023, \"y\": 1}, {\"x1\": 1.0548981773531363, \"x2\": 0.7201013933929743, \"y\": 0}, {\"x1\": 2.650490024436792, \"x2\": 0.30621848144133523, \"y\": 1}, {\"x1\": 0.3617922103629414, \"x2\": 1.1084651052431371, \"y\": 0}, {\"x1\": 0.29921810435268004, \"x2\": 0.7258913650729348, \"y\": 0}, {\"x1\": -0.43368848746908417, \"x2\": 1.4536854367823175, \"y\": 0}, {\"x1\": -0.6019434535749549, \"x2\": -0.03966819857363363, \"y\": 0}, {\"x1\": 0.4581971384537276, \"x2\": 0.8659910089556973, \"y\": 0}, {\"x1\": -0.23484778893787328, \"x2\": 0.5959713929286449, \"y\": 0}, {\"x1\": 0.4635714629791477, \"x2\": 0.08284740561783116, \"y\": 1}, {\"x1\": -0.365727466435248, \"x2\": 0.9906000359727403, \"y\": 0}, {\"x1\": 1.8501576954668766, \"x2\": 0.14134652851631613, \"y\": 1}, {\"x1\": -0.4110468342469871, \"x2\": 0.5164402968186619, \"y\": 0}, {\"x1\": 0.09460985551237877, \"x2\": -0.47726894902021166, \"y\": 1}, {\"x1\": 1.3342730942270062, \"x2\": -0.9216458036708354, \"y\": 1}, {\"x1\": 0.7569782991128797, \"x2\": 0.10363309346195287, \"y\": 1}, {\"x1\": -0.0964585179324487, \"x2\": -0.7964993923207788, \"y\": 1}, {\"x1\": 1.0747419458095555, \"x2\": 0.08603286639724275, \"y\": 0}, {\"x1\": 1.7688392412433245, \"x2\": 0.00017320292022280498, \"y\": 1}, {\"x1\": 2.1068072573124823, \"x2\": -0.43974835974890736, \"y\": 1}, {\"x1\": 0.016222153539985906, \"x2\": 0.9604002495207506, \"y\": 0}, {\"x1\": -1.0521899298671369, \"x2\": 0.5155270682676065, \"y\": 0}, {\"x1\": 1.062819308678846, \"x2\": 0.624929166093313, \"y\": 1}, {\"x1\": -0.8526485695816863, \"x2\": 0.36767376805970653, \"y\": 0}, {\"x1\": 0.8870060687754324, \"x2\": -0.8609383869270826, \"y\": 1}, {\"x1\": 0.8426007186843547, \"x2\": 1.4453836860228135, \"y\": 0}, {\"x1\": 1.0967570755065204, \"x2\": 0.26672672470043857, \"y\": 1}, {\"x1\": 0.3250637255796254, \"x2\": 1.4487693236934607, \"y\": 0}, {\"x1\": 0.6067266706921318, \"x2\": -0.7532984347820337, \"y\": 1}, {\"x1\": -0.10841347715720331, \"x2\": 1.1075170045310838, \"y\": 0}, {\"x1\": 0.3348430291104853, \"x2\": 0.699340250801787, \"y\": 0}, {\"x1\": 1.5516423121516956, \"x2\": 0.5523936523101651, \"y\": 1}, {\"x1\": -0.8003267441995063, \"x2\": 0.9219032126211654, \"y\": 0}, {\"x1\": 1.630682212154647, \"x2\": 0.11851751351222345, \"y\": 1}, {\"x1\": 1.100882909078647, \"x2\": 0.0808553885015656, \"y\": 0}, {\"x1\": -0.6317736996799941, \"x2\": 0.09708060256697426, \"y\": 0}, {\"x1\": 0.34862840524935756, \"x2\": 0.35882890665272243, \"y\": 0}, {\"x1\": -0.12095630097532573, \"x2\": 1.325734280208015, \"y\": 0}, {\"x1\": 1.300224936302661, \"x2\": -0.3149944689178362, \"y\": 1}, {\"x1\": 0.7226417458841399, \"x2\": -0.23759379496212724, \"y\": 1}, {\"x1\": -0.573356186330074, \"x2\": 0.5822595822956709, \"y\": 0}, {\"x1\": 0.8033986014420778, \"x2\": 0.8541781859439325, \"y\": 0}, {\"x1\": 0.9236510438584338, \"x2\": 0.32333395397531184, \"y\": 0}, {\"x1\": 2.0230272515779792, \"x2\": 0.3092910230189846, \"y\": 1}, {\"x1\": 0.6346912422087426, \"x2\": 0.68700603424142, \"y\": 0}, {\"x1\": 1.010474849052294, \"x2\": 0.9544983267327865, \"y\": 0}, {\"x1\": -1.0756579487701337, \"x2\": 0.6133201867601212, \"y\": 0}, {\"x1\": 2.2337413470967493, \"x2\": -0.02710751482302301, \"y\": 1}, {\"x1\": -1.5186038611974821, \"x2\": 0.03905253405025316, \"y\": 0}, {\"x1\": 0.720812028365023, \"x2\": -0.4117501119261949, \"y\": 1}, {\"x1\": 0.25108166382866937, \"x2\": 0.30240716808823076, \"y\": 0}, {\"x1\": 1.3169563714087178, \"x2\": -0.2021307643758407, \"y\": 1}, {\"x1\": -0.8329898242067961, \"x2\": -0.005102257763173579, \"y\": 0}, {\"x1\": 1.2986182043064385, \"x2\": 0.43022488689769645, \"y\": 0}, {\"x1\": 0.5002502726915099, \"x2\": 1.277357457050353, \"y\": 0}, {\"x1\": 1.216272346550323, \"x2\": -0.4294643334159882, \"y\": 1}, {\"x1\": 0.584353429287505, \"x2\": 0.3478207870375771, \"y\": 0}, {\"x1\": 1.1202873794418808, \"x2\": 1.2418112957506073, \"y\": 0}, {\"x1\": -0.16059033696773933, \"x2\": 0.05272062827379381, \"y\": 1}, {\"x1\": -0.9115489942724995, \"x2\": 0.19737489729056745, \"y\": 0}, {\"x1\": -1.0600134752309267, \"x2\": 0.37743144654402044, \"y\": 0}, {\"x1\": 2.282252636850606, \"x2\": 0.41758848102620993, \"y\": 1}, {\"x1\": -0.5852248852095754, \"x2\": 0.6251324592880609, \"y\": 0}, {\"x1\": 0.7325726223800387, \"x2\": -1.040145354581889, \"y\": 1}, {\"x1\": 1.474889232212238, \"x2\": 0.2505010300086823, \"y\": 1}, {\"x1\": 1.056947152876506, \"x2\": 1.0728765790066896, \"y\": 0}, {\"x1\": 0.038873305507268086, \"x2\": 0.996153382245902, \"y\": 0}, {\"x1\": 1.020058388591009, \"x2\": 0.3197368829644863, \"y\": 0}, {\"x1\": -0.4512781615123949, \"x2\": 1.2341947896409422, \"y\": 0}, {\"x1\": -0.4710086794872354, \"x2\": 1.2358044332396394, \"y\": 0}, {\"x1\": 0.1710389174048545, \"x2\": 0.36385020208286734, \"y\": 1}]}}, {\"mode\": \"vega-lite\"});\n",
       "</script>"
      ],
      "text/plain": [
       "alt.Chart(...)"
      ]
     },
     "execution_count": 62,
     "metadata": {},
     "output_type": "execute_result"
    }
   ],
   "source": [
    "import altair as alt\n",
    "\n",
    "alt.Chart(\n",
    "    pd.DataFrame(\n",
    "        {'x1': X_data[:, 0], \n",
    "        'x2': X_data[:, 1], \n",
    "        'y': Y_data}), \n",
    "        title = \"Synthetic Data from Make Moons Function\").mark_point().encode(\n",
    "            x='x1', \n",
    "            y='x2', \n",
    "            color=alt.Color('y', scale=alt.Scale(\n",
    "                domain=[0.0, 1.0], \n",
    "                range=['red', 'blue'])))\n"
   ]
  },
  {
   "attachments": {},
   "cell_type": "markdown",
   "metadata": {},
   "source": [
    "**(c)** Visualizing Data Subsets"
   ]
  },
  {
   "cell_type": "code",
   "execution_count": 72,
   "metadata": {},
   "outputs": [
    {
     "data": {
      "text/html": [
       "\n",
       "<div id=\"altair-viz-1a40a7d31359415fafe073a5b8c54d31\"></div>\n",
       "<script type=\"text/javascript\">\n",
       "  var VEGA_DEBUG = (typeof VEGA_DEBUG == \"undefined\") ? {} : VEGA_DEBUG;\n",
       "  (function(spec, embedOpt){\n",
       "    let outputDiv = document.currentScript.previousElementSibling;\n",
       "    if (outputDiv.id !== \"altair-viz-1a40a7d31359415fafe073a5b8c54d31\") {\n",
       "      outputDiv = document.getElementById(\"altair-viz-1a40a7d31359415fafe073a5b8c54d31\");\n",
       "    }\n",
       "    const paths = {\n",
       "      \"vega\": \"https://cdn.jsdelivr.net/npm//vega@5?noext\",\n",
       "      \"vega-lib\": \"https://cdn.jsdelivr.net/npm//vega-lib?noext\",\n",
       "      \"vega-lite\": \"https://cdn.jsdelivr.net/npm//vega-lite@4.17.0?noext\",\n",
       "      \"vega-embed\": \"https://cdn.jsdelivr.net/npm//vega-embed@6?noext\",\n",
       "    };\n",
       "\n",
       "    function maybeLoadScript(lib, version) {\n",
       "      var key = `${lib.replace(\"-\", \"\")}_version`;\n",
       "      return (VEGA_DEBUG[key] == version) ?\n",
       "        Promise.resolve(paths[lib]) :\n",
       "        new Promise(function(resolve, reject) {\n",
       "          var s = document.createElement('script');\n",
       "          document.getElementsByTagName(\"head\")[0].appendChild(s);\n",
       "          s.async = true;\n",
       "          s.onload = () => {\n",
       "            VEGA_DEBUG[key] = version;\n",
       "            return resolve(paths[lib]);\n",
       "          };\n",
       "          s.onerror = () => reject(`Error loading script: ${paths[lib]}`);\n",
       "          s.src = paths[lib];\n",
       "        });\n",
       "    }\n",
       "\n",
       "    function showError(err) {\n",
       "      outputDiv.innerHTML = `<div class=\"error\" style=\"color:red;\">${err}</div>`;\n",
       "      throw err;\n",
       "    }\n",
       "\n",
       "    function displayChart(vegaEmbed) {\n",
       "      vegaEmbed(outputDiv, spec, embedOpt)\n",
       "        .catch(err => showError(`Javascript Error: ${err.message}<br>This usually means there's a typo in your chart specification. See the javascript console for the full traceback.`));\n",
       "    }\n",
       "\n",
       "    if(typeof define === \"function\" && define.amd) {\n",
       "      requirejs.config({paths});\n",
       "      require([\"vega-embed\"], displayChart, err => showError(`Error loading script: ${err.message}`));\n",
       "    } else {\n",
       "      maybeLoadScript(\"vega\", \"5\")\n",
       "        .then(() => maybeLoadScript(\"vega-lite\", \"4.17.0\"))\n",
       "        .then(() => maybeLoadScript(\"vega-embed\", \"6\"))\n",
       "        .catch(showError)\n",
       "        .then(() => displayChart(vegaEmbed));\n",
       "    }\n",
       "  })({\"config\": {\"view\": {\"continuousWidth\": 400, \"continuousHeight\": 300}}, \"vconcat\": [{\"hconcat\": [{\"data\": {\"name\": \"data-a2ec1d089f003e7cce3eb14e507a3372\"}, \"mark\": \"point\", \"encoding\": {\"color\": {\"field\": \"y\", \"scale\": {\"domain\": [0.0, 1.0], \"range\": [\"red\", \"blue\"]}, \"type\": \"quantitative\"}, \"x\": {\"field\": \"x1\", \"type\": \"quantitative\"}, \"y\": {\"field\": \"x2\", \"type\": \"quantitative\"}}, \"title\": \"Sample 1 with 1 Nearest Neighbors\"}, {\"data\": {\"name\": \"data-da7f8f74149280ea4351234a8dde643d\"}, \"mark\": \"point\", \"encoding\": {\"color\": {\"field\": \"y\", \"scale\": {\"domain\": [0.0, 1.0], \"range\": [\"red\", \"blue\"]}, \"type\": \"quantitative\"}, \"x\": {\"field\": \"x1\", \"type\": \"quantitative\"}, \"y\": {\"field\": \"x2\", \"type\": \"quantitative\"}}, \"title\": \"Sample 1 with 25 Nearest Neighbors\"}, {\"data\": {\"name\": \"data-8b64a6706b55006c788a2c9c4ffa4366\"}, \"mark\": \"point\", \"encoding\": {\"color\": {\"field\": \"y\", \"scale\": {\"domain\": [0.0, 1.0], \"range\": [\"red\", \"blue\"]}, \"type\": \"quantitative\"}, \"x\": {\"field\": \"x1\", \"type\": \"quantitative\"}, \"y\": {\"field\": \"x2\", \"type\": \"quantitative\"}}, \"title\": \"Sample 1 with 50 Nearest Neighbors\"}]}, {\"hconcat\": [{\"data\": {\"name\": \"data-d06f339c03ed6c7753686b4ada75bccc\"}, \"mark\": \"point\", \"encoding\": {\"color\": {\"field\": \"y\", \"scale\": {\"domain\": [0.0, 1.0], \"range\": [\"red\", \"blue\"]}, \"type\": \"quantitative\"}, \"x\": {\"field\": \"x1\", \"type\": \"quantitative\"}, \"y\": {\"field\": \"x2\", \"type\": \"quantitative\"}}, \"title\": \"Sample 2 with 1 Nearest Neighbors\"}, {\"data\": {\"name\": \"data-99c4cc89e2971c6371a245bffaac4f43\"}, \"mark\": \"point\", \"encoding\": {\"color\": {\"field\": \"y\", \"scale\": {\"domain\": [0.0, 1.0], \"range\": [\"red\", \"blue\"]}, \"type\": \"quantitative\"}, \"x\": {\"field\": \"x1\", \"type\": \"quantitative\"}, \"y\": {\"field\": \"x2\", \"type\": \"quantitative\"}}, \"title\": \"Sample 2 with 25 Nearest Neighbors\"}, {\"data\": {\"name\": \"data-103e39daa38b8938317e2a56395ac9ac\"}, \"mark\": \"point\", \"encoding\": {\"color\": {\"field\": \"y\", \"scale\": {\"domain\": [0.0, 1.0], \"range\": [\"red\", \"blue\"]}, \"type\": \"quantitative\"}, \"x\": {\"field\": \"x1\", \"type\": \"quantitative\"}, \"y\": {\"field\": \"x2\", \"type\": \"quantitative\"}}, \"title\": \"Sample 2 with 50 Nearest Neighbors\"}]}, {\"hconcat\": [{\"data\": {\"name\": \"data-4b3de3d53968e126a73b833ce31f17d6\"}, \"mark\": \"point\", \"encoding\": {\"color\": {\"field\": \"y\", \"scale\": {\"domain\": [0.0, 1.0], \"range\": [\"red\", \"blue\"]}, \"type\": \"quantitative\"}, \"x\": {\"field\": \"x1\", \"type\": \"quantitative\"}, \"y\": {\"field\": \"x2\", \"type\": \"quantitative\"}}, \"title\": \"Sample 3 with 1 Nearest Neighbors\"}, {\"data\": {\"name\": \"data-d06bfec3eda2892d79e135aa44ad4b20\"}, \"mark\": \"point\", \"encoding\": {\"color\": {\"field\": \"y\", \"scale\": {\"domain\": [0.0, 1.0], \"range\": [\"red\", \"blue\"]}, \"type\": \"quantitative\"}, \"x\": {\"field\": \"x1\", \"type\": \"quantitative\"}, \"y\": {\"field\": \"x2\", \"type\": \"quantitative\"}}, \"title\": \"Sample 3 with 25 Nearest Neighbors\"}, {\"data\": {\"name\": \"data-c7db755769c23ec21d70e9d17a9ee222\"}, \"mark\": \"point\", \"encoding\": {\"color\": {\"field\": \"y\", \"scale\": {\"domain\": [0.0, 1.0], \"range\": [\"red\", \"blue\"]}, \"type\": \"quantitative\"}, \"x\": {\"field\": \"x1\", \"type\": \"quantitative\"}, \"y\": {\"field\": \"x2\", \"type\": \"quantitative\"}}, \"title\": \"Sample 3 with 50 Nearest Neighbors\"}]}], \"$schema\": \"https://vega.github.io/schema/vega-lite/v4.17.0.json\", \"datasets\": {\"data-a2ec1d089f003e7cce3eb14e507a3372\": [{\"x1\": 0.7909929972951166, \"x2\": -0.9568065037332866, \"y\": 1}, {\"x1\": 0.5444570054938804, \"x2\": -0.3235467604281367, \"y\": 1}, {\"x1\": 0.4635714629791477, \"x2\": 0.08284740561783116, \"y\": 1}, {\"x1\": 0.6047479182579577, \"x2\": 0.9179783023489, \"y\": 0}, {\"x1\": -0.5516601011255019, \"x2\": -0.003911104234414098, \"y\": 1}, {\"x1\": 1.0761818496697284, \"x2\": 0.012141314994759435, \"y\": 1}, {\"x1\": -0.39291190266429055, \"x2\": 0.6693839145505991, \"y\": 0}, {\"x1\": -0.5852248852095754, \"x2\": 0.6251324592880609, \"y\": 0}, {\"x1\": -0.5016138632559637, \"x2\": 0.8320339082059728, \"y\": 0}, {\"x1\": 1.0709125304557652, \"x2\": 0.10563638522045349, \"y\": 0}, {\"x1\": -0.027163990756295497, \"x2\": -0.055588422257032616, \"y\": 1}, {\"x1\": 0.39852568807143457, \"x2\": 0.5803099647998755, \"y\": 0}, {\"x1\": -1.3521826764527463, \"x2\": 0.6016189701799006, \"y\": 0}, {\"x1\": 2.111761853826269, \"x2\": 0.20118905220188588, \"y\": 1}, {\"x1\": -0.08743338234224628, \"x2\": 1.2760892768648464, \"y\": 0}, {\"x1\": -0.3366792304706843, \"x2\": 0.752989009226344, \"y\": 0}, {\"x1\": 1.569134186500896, \"x2\": 0.42390064591982346, \"y\": 1}, {\"x1\": -0.24498284793878347, \"x2\": 0.8755181914348089, \"y\": 0}, {\"x1\": 1.2418134834729229, \"x2\": 0.9846315573872904, \"y\": 0}, {\"x1\": -0.11853410086832186, \"x2\": 0.2283408633200235, \"y\": 1}, {\"x1\": -0.8954166134980884, \"x2\": -0.6141545613543338, \"y\": 1}, {\"x1\": 0.1305980445857265, \"x2\": -0.6530801232212163, \"y\": 1}, {\"x1\": -0.5965395612995767, \"x2\": 0.06840742846885156, \"y\": 0}, {\"x1\": 1.8448007126961927, \"x2\": 0.33450896738009017, \"y\": 1}, {\"x1\": 0.7992095283338327, \"x2\": -0.3037774592597856, \"y\": 0}, {\"x1\": 0.4033639612924318, \"x2\": -0.9610817123635398, \"y\": 1}, {\"x1\": 0.7992095283338327, \"x2\": -0.3037774592597856, \"y\": 0}, {\"x1\": -0.5173142334112704, \"x2\": 1.558986958038696, \"y\": 0}, {\"x1\": -0.02373133003154631, \"x2\": 0.9523686488002354, \"y\": 0}, {\"x1\": 0.4197985244105368, \"x2\": 0.9251231389503313, \"y\": 1}, {\"x1\": 0.24305756978618395, \"x2\": 0.36589046877955456, \"y\": 0}, {\"x1\": 0.2553963928669949, \"x2\": 0.4799399357414449, \"y\": 1}, {\"x1\": 0.5367198714020606, \"x2\": 0.5750511132792612, \"y\": 0}, {\"x1\": -0.32362511661201376, \"x2\": 1.4446574595708142, \"y\": 0}, {\"x1\": 0.6589579135783501, \"x2\": -0.19663111156081475, \"y\": 1}, {\"x1\": 0.10188474286807221, \"x2\": 0.40065885467480566, \"y\": 1}, {\"x1\": 1.1330916637668762, \"x2\": 0.08048792595747223, \"y\": 1}, {\"x1\": 0.3479030905744762, \"x2\": 0.8702902842863094, \"y\": 0}, {\"x1\": 1.4210469431160464, \"x2\": -0.5604538974542697, \"y\": 1}, {\"x1\": -0.5016138632559637, \"x2\": 0.8320339082059728, \"y\": 0}, {\"x1\": 0.6625145179541323, \"x2\": 0.6504634812643961, \"y\": 0}, {\"x1\": 0.18114593820806413, \"x2\": 0.478272165131578, \"y\": 0}, {\"x1\": 0.584353429287505, \"x2\": 0.3478207870375771, \"y\": 0}, {\"x1\": 1.481367418394699, \"x2\": -0.6574867513497846, \"y\": 1}, {\"x1\": -0.8243929367527587, \"x2\": 0.39741075746853205, \"y\": 0}, {\"x1\": -0.6175595655705721, \"x2\": 0.2458970819638171, \"y\": 0}, {\"x1\": 0.9097352216039967, \"x2\": 0.096256389513242, \"y\": 0}, {\"x1\": 0.7452592185344485, \"x2\": -0.36166463812007654, \"y\": 1}, {\"x1\": 0.9832032459837178, \"x2\": -0.10207904909040882, \"y\": 1}, {\"x1\": 1.7347258719758762, \"x2\": 0.05174963810930336, \"y\": 1}, {\"x1\": 0.8809646901797444, \"x2\": 0.2365899471498639, \"y\": 0}, {\"x1\": 0.584353429287505, \"x2\": 0.3478207870375771, \"y\": 0}, {\"x1\": -0.7575059769676622, \"x2\": -0.17846240128019372, \"y\": 0}, {\"x1\": 0.697269646272138, \"x2\": 1.4803577855276089, \"y\": 0}, {\"x1\": 0.755515215510272, \"x2\": 0.0884338780544994, \"y\": 0}, {\"x1\": 1.0708306500199594, \"x2\": 0.3924167021212185, \"y\": 0}, {\"x1\": -0.5651917768741944, \"x2\": 1.2868462852763087, \"y\": 0}, {\"x1\": 1.3627126138314813, \"x2\": -0.5364119277097084, \"y\": 1}, {\"x1\": -0.2709798299163694, \"x2\": 1.0997166246715517, \"y\": 1}, {\"x1\": 0.46540920251914614, \"x2\": 0.11420290902242392, \"y\": 1}, {\"x1\": -0.16059033696773933, \"x2\": 0.05272062827379381, \"y\": 1}, {\"x1\": 1.7172793476308144, \"x2\": -0.5983782995786009, \"y\": 1}, {\"x1\": 0.30448348204920384, \"x2\": 0.765914279617907, \"y\": 0}, {\"x1\": -0.7776935334173632, \"x2\": 0.6198542393642015, \"y\": 0}, {\"x1\": 0.6874956175031375, \"x2\": 0.13607975123440996, \"y\": 0}, {\"x1\": 2.049891300657319, \"x2\": -0.6560073961801196, \"y\": 1}, {\"x1\": -0.1962941223570062, \"x2\": 0.5755557092892285, \"y\": 0}, {\"x1\": 0.8511858643526853, \"x2\": 1.0239845552636722, \"y\": 0}, {\"x1\": 0.46639197086959583, \"x2\": 0.13788556093345006, \"y\": 1}, {\"x1\": -1.708078696124466, \"x2\": 0.18678716778888507, \"y\": 0}, {\"x1\": 1.321931419144644, \"x2\": -0.009360667797249617, \"y\": 0}, {\"x1\": 0.17613062895893952, \"x2\": 1.567215120044195, \"y\": 0}, {\"x1\": -0.295383553766774, \"x2\": 1.1995389803401553, \"y\": 0}, {\"x1\": -1.0734218874078814, \"x2\": -0.15671690196110227, \"y\": 0}, {\"x1\": 1.5976835770428772, \"x2\": -0.6740457359574263, \"y\": 1}, {\"x1\": 0.6047479182579577, \"x2\": 0.9179783023489, \"y\": 0}, {\"x1\": 0.11299252726633656, \"x2\": -0.6795885357976482, \"y\": 1}, {\"x1\": 0.3160124708361297, \"x2\": -0.5107117297662573, \"y\": 1}, {\"x1\": 1.19166365990228, \"x2\": -0.9486597123327882, \"y\": 1}, {\"x1\": 0.348519590379601, \"x2\": 1.6502466336318375, \"y\": 0}, {\"x1\": 0.61492143124788, \"x2\": 0.709070458148388, \"y\": 0}, {\"x1\": 1.9193524171514742, \"x2\": 0.02495433723543225, \"y\": 0}, {\"x1\": -0.03513625513157026, \"x2\": -0.11845199178539595, \"y\": 1}, {\"x1\": -0.5337480336738806, \"x2\": 0.40017816195018086, \"y\": 0}, {\"x1\": 2.1068072573124823, \"x2\": -0.43974835974890736, \"y\": 1}, {\"x1\": 0.15344427938381056, \"x2\": 0.8356188078074931, \"y\": 0}, {\"x1\": 1.2273740873646224, \"x2\": -0.5909856481312701, \"y\": 1}, {\"x1\": 0.2420566282814805, \"x2\": 0.03902724821217746, \"y\": 1}, {\"x1\": 1.1887872935315007, \"x2\": 0.7367511831021295, \"y\": 0}, {\"x1\": -1.1600682566478737, \"x2\": 0.24220247748911042, \"y\": 0}, {\"x1\": -0.6317736996799941, \"x2\": 0.09708060256697426, \"y\": 0}, {\"x1\": 0.7992095283338327, \"x2\": -0.3037774592597856, \"y\": 0}, {\"x1\": 0.43829282297817546, \"x2\": 0.6876665182803356, \"y\": 0}, {\"x1\": 0.18114593820806413, \"x2\": 0.478272165131578, \"y\": 0}, {\"x1\": 2.0973456871718255, \"x2\": 0.42345439479662217, \"y\": 1}, {\"x1\": 2.1449611807863347, \"x2\": 0.5767312791026428, \"y\": 1}, {\"x1\": -1.1600682566478737, \"x2\": 0.24220247748911042, \"y\": 0}, {\"x1\": 0.788377422155884, \"x2\": 1.0090258662653846, \"y\": 0}, {\"x1\": -0.6291653549692554, \"x2\": 1.3202473296103812, \"y\": 0}, {\"x1\": 0.26858081274137446, \"x2\": 0.7424532832438218, \"y\": 0}], \"data-da7f8f74149280ea4351234a8dde643d\": [{\"x1\": 0.7909929972951166, \"x2\": -0.9568065037332866, \"y\": 1}, {\"x1\": 0.5444570054938804, \"x2\": -0.3235467604281367, \"y\": 1}, {\"x1\": 0.4635714629791477, \"x2\": 0.08284740561783116, \"y\": 0}, {\"x1\": 0.6047479182579577, \"x2\": 0.9179783023489, \"y\": 0}, {\"x1\": -0.5516601011255019, \"x2\": -0.003911104234414098, \"y\": 0}, {\"x1\": 1.0761818496697284, \"x2\": 0.012141314994759435, \"y\": 1}, {\"x1\": -0.39291190266429055, \"x2\": 0.6693839145505991, \"y\": 0}, {\"x1\": -0.5852248852095754, \"x2\": 0.6251324592880609, \"y\": 0}, {\"x1\": -0.5016138632559637, \"x2\": 0.8320339082059728, \"y\": 0}, {\"x1\": 1.0709125304557652, \"x2\": 0.10563638522045349, \"y\": 0}, {\"x1\": -0.027163990756295497, \"x2\": -0.055588422257032616, \"y\": 1}, {\"x1\": 0.39852568807143457, \"x2\": 0.5803099647998755, \"y\": 0}, {\"x1\": -1.3521826764527463, \"x2\": 0.6016189701799006, \"y\": 0}, {\"x1\": 2.111761853826269, \"x2\": 0.20118905220188588, \"y\": 1}, {\"x1\": -0.08743338234224628, \"x2\": 1.2760892768648464, \"y\": 0}, {\"x1\": -0.3366792304706843, \"x2\": 0.752989009226344, \"y\": 0}, {\"x1\": 1.569134186500896, \"x2\": 0.42390064591982346, \"y\": 0}, {\"x1\": -0.24498284793878347, \"x2\": 0.8755181914348089, \"y\": 0}, {\"x1\": 1.2418134834729229, \"x2\": 0.9846315573872904, \"y\": 0}, {\"x1\": -0.11853410086832186, \"x2\": 0.2283408633200235, \"y\": 0}, {\"x1\": -0.8954166134980884, \"x2\": -0.6141545613543338, \"y\": 0}, {\"x1\": 0.1305980445857265, \"x2\": -0.6530801232212163, \"y\": 1}, {\"x1\": -0.5965395612995767, \"x2\": 0.06840742846885156, \"y\": 0}, {\"x1\": 1.8448007126961927, \"x2\": 0.33450896738009017, \"y\": 1}, {\"x1\": 0.7992095283338327, \"x2\": -0.3037774592597856, \"y\": 1}, {\"x1\": 0.4033639612924318, \"x2\": -0.9610817123635398, \"y\": 1}, {\"x1\": 0.7992095283338327, \"x2\": -0.3037774592597856, \"y\": 1}, {\"x1\": -0.5173142334112704, \"x2\": 1.558986958038696, \"y\": 0}, {\"x1\": -0.02373133003154631, \"x2\": 0.9523686488002354, \"y\": 0}, {\"x1\": 0.4197985244105368, \"x2\": 0.9251231389503313, \"y\": 0}, {\"x1\": 0.24305756978618395, \"x2\": 0.36589046877955456, \"y\": 0}, {\"x1\": 0.2553963928669949, \"x2\": 0.4799399357414449, \"y\": 0}, {\"x1\": 0.5367198714020606, \"x2\": 0.5750511132792612, \"y\": 0}, {\"x1\": -0.32362511661201376, \"x2\": 1.4446574595708142, \"y\": 0}, {\"x1\": 0.6589579135783501, \"x2\": -0.19663111156081475, \"y\": 1}, {\"x1\": 0.10188474286807221, \"x2\": 0.40065885467480566, \"y\": 0}, {\"x1\": 1.1330916637668762, \"x2\": 0.08048792595747223, \"y\": 0}, {\"x1\": 0.3479030905744762, \"x2\": 0.8702902842863094, \"y\": 0}, {\"x1\": 1.4210469431160464, \"x2\": -0.5604538974542697, \"y\": 1}, {\"x1\": -0.5016138632559637, \"x2\": 0.8320339082059728, \"y\": 0}, {\"x1\": 0.6625145179541323, \"x2\": 0.6504634812643961, \"y\": 0}, {\"x1\": 0.18114593820806413, \"x2\": 0.478272165131578, \"y\": 0}, {\"x1\": 0.584353429287505, \"x2\": 0.3478207870375771, \"y\": 0}, {\"x1\": 1.481367418394699, \"x2\": -0.6574867513497846, \"y\": 1}, {\"x1\": -0.8243929367527587, \"x2\": 0.39741075746853205, \"y\": 0}, {\"x1\": -0.6175595655705721, \"x2\": 0.2458970819638171, \"y\": 0}, {\"x1\": 0.9097352216039967, \"x2\": 0.096256389513242, \"y\": 0}, {\"x1\": 0.7452592185344485, \"x2\": -0.36166463812007654, \"y\": 1}, {\"x1\": 0.9832032459837178, \"x2\": -0.10207904909040882, \"y\": 1}, {\"x1\": 1.7347258719758762, \"x2\": 0.05174963810930336, \"y\": 1}, {\"x1\": 0.8809646901797444, \"x2\": 0.2365899471498639, \"y\": 0}, {\"x1\": 0.584353429287505, \"x2\": 0.3478207870375771, \"y\": 0}, {\"x1\": -0.7575059769676622, \"x2\": -0.17846240128019372, \"y\": 0}, {\"x1\": 0.697269646272138, \"x2\": 1.4803577855276089, \"y\": 0}, {\"x1\": 0.755515215510272, \"x2\": 0.0884338780544994, \"y\": 0}, {\"x1\": 1.0708306500199594, \"x2\": 0.3924167021212185, \"y\": 0}, {\"x1\": -0.5651917768741944, \"x2\": 1.2868462852763087, \"y\": 0}, {\"x1\": 1.3627126138314813, \"x2\": -0.5364119277097084, \"y\": 1}, {\"x1\": -0.2709798299163694, \"x2\": 1.0997166246715517, \"y\": 0}, {\"x1\": 0.46540920251914614, \"x2\": 0.11420290902242392, \"y\": 0}, {\"x1\": -0.16059033696773933, \"x2\": 0.05272062827379381, \"y\": 0}, {\"x1\": 1.7172793476308144, \"x2\": -0.5983782995786009, \"y\": 1}, {\"x1\": 0.30448348204920384, \"x2\": 0.765914279617907, \"y\": 0}, {\"x1\": -0.7776935334173632, \"x2\": 0.6198542393642015, \"y\": 0}, {\"x1\": 0.6874956175031375, \"x2\": 0.13607975123440996, \"y\": 0}, {\"x1\": 2.049891300657319, \"x2\": -0.6560073961801196, \"y\": 1}, {\"x1\": -0.1962941223570062, \"x2\": 0.5755557092892285, \"y\": 0}, {\"x1\": 0.8511858643526853, \"x2\": 1.0239845552636722, \"y\": 0}, {\"x1\": 0.46639197086959583, \"x2\": 0.13788556093345006, \"y\": 0}, {\"x1\": -1.708078696124466, \"x2\": 0.18678716778888507, \"y\": 0}, {\"x1\": 1.321931419144644, \"x2\": -0.009360667797249617, \"y\": 1}, {\"x1\": 0.17613062895893952, \"x2\": 1.567215120044195, \"y\": 0}, {\"x1\": -0.295383553766774, \"x2\": 1.1995389803401553, \"y\": 0}, {\"x1\": -1.0734218874078814, \"x2\": -0.15671690196110227, \"y\": 0}, {\"x1\": 1.5976835770428772, \"x2\": -0.6740457359574263, \"y\": 1}, {\"x1\": 0.6047479182579577, \"x2\": 0.9179783023489, \"y\": 0}, {\"x1\": 0.11299252726633656, \"x2\": -0.6795885357976482, \"y\": 1}, {\"x1\": 0.3160124708361297, \"x2\": -0.5107117297662573, \"y\": 1}, {\"x1\": 1.19166365990228, \"x2\": -0.9486597123327882, \"y\": 1}, {\"x1\": 0.348519590379601, \"x2\": 1.6502466336318375, \"y\": 0}, {\"x1\": 0.61492143124788, \"x2\": 0.709070458148388, \"y\": 0}, {\"x1\": 1.9193524171514742, \"x2\": 0.02495433723543225, \"y\": 1}, {\"x1\": -0.03513625513157026, \"x2\": -0.11845199178539595, \"y\": 1}, {\"x1\": -0.5337480336738806, \"x2\": 0.40017816195018086, \"y\": 0}, {\"x1\": 2.1068072573124823, \"x2\": -0.43974835974890736, \"y\": 1}, {\"x1\": 0.15344427938381056, \"x2\": 0.8356188078074931, \"y\": 0}, {\"x1\": 1.2273740873646224, \"x2\": -0.5909856481312701, \"y\": 1}, {\"x1\": 0.2420566282814805, \"x2\": 0.03902724821217746, \"y\": 1}, {\"x1\": 1.1887872935315007, \"x2\": 0.7367511831021295, \"y\": 0}, {\"x1\": -1.1600682566478737, \"x2\": 0.24220247748911042, \"y\": 0}, {\"x1\": -0.6317736996799941, \"x2\": 0.09708060256697426, \"y\": 0}, {\"x1\": 0.7992095283338327, \"x2\": -0.3037774592597856, \"y\": 1}, {\"x1\": 0.43829282297817546, \"x2\": 0.6876665182803356, \"y\": 0}, {\"x1\": 0.18114593820806413, \"x2\": 0.478272165131578, \"y\": 0}, {\"x1\": 2.0973456871718255, \"x2\": 0.42345439479662217, \"y\": 1}, {\"x1\": 2.1449611807863347, \"x2\": 0.5767312791026428, \"y\": 1}, {\"x1\": -1.1600682566478737, \"x2\": 0.24220247748911042, \"y\": 0}, {\"x1\": 0.788377422155884, \"x2\": 1.0090258662653846, \"y\": 0}, {\"x1\": -0.6291653549692554, \"x2\": 1.3202473296103812, \"y\": 0}, {\"x1\": 0.26858081274137446, \"x2\": 0.7424532832438218, \"y\": 0}], \"data-8b64a6706b55006c788a2c9c4ffa4366\": [{\"x1\": 0.7909929972951166, \"x2\": -0.9568065037332866, \"y\": 1}, {\"x1\": 0.5444570054938804, \"x2\": -0.3235467604281367, \"y\": 1}, {\"x1\": 0.4635714629791477, \"x2\": 0.08284740561783116, \"y\": 0}, {\"x1\": 0.6047479182579577, \"x2\": 0.9179783023489, \"y\": 0}, {\"x1\": -0.5516601011255019, \"x2\": -0.003911104234414098, \"y\": 0}, {\"x1\": 1.0761818496697284, \"x2\": 0.012141314994759435, \"y\": 0}, {\"x1\": -0.39291190266429055, \"x2\": 0.6693839145505991, \"y\": 0}, {\"x1\": -0.5852248852095754, \"x2\": 0.6251324592880609, \"y\": 0}, {\"x1\": -0.5016138632559637, \"x2\": 0.8320339082059728, \"y\": 0}, {\"x1\": 1.0709125304557652, \"x2\": 0.10563638522045349, \"y\": 0}, {\"x1\": -0.027163990756295497, \"x2\": -0.055588422257032616, \"y\": 0}, {\"x1\": 0.39852568807143457, \"x2\": 0.5803099647998755, \"y\": 0}, {\"x1\": -1.3521826764527463, \"x2\": 0.6016189701799006, \"y\": 0}, {\"x1\": 2.111761853826269, \"x2\": 0.20118905220188588, \"y\": 1}, {\"x1\": -0.08743338234224628, \"x2\": 1.2760892768648464, \"y\": 0}, {\"x1\": -0.3366792304706843, \"x2\": 0.752989009226344, \"y\": 0}, {\"x1\": 1.569134186500896, \"x2\": 0.42390064591982346, \"y\": 0}, {\"x1\": -0.24498284793878347, \"x2\": 0.8755181914348089, \"y\": 0}, {\"x1\": 1.2418134834729229, \"x2\": 0.9846315573872904, \"y\": 0}, {\"x1\": -0.11853410086832186, \"x2\": 0.2283408633200235, \"y\": 0}, {\"x1\": -0.8954166134980884, \"x2\": -0.6141545613543338, \"y\": 0}, {\"x1\": 0.1305980445857265, \"x2\": -0.6530801232212163, \"y\": 1}, {\"x1\": -0.5965395612995767, \"x2\": 0.06840742846885156, \"y\": 0}, {\"x1\": 1.8448007126961927, \"x2\": 0.33450896738009017, \"y\": 0}, {\"x1\": 0.7992095283338327, \"x2\": -0.3037774592597856, \"y\": 1}, {\"x1\": 0.4033639612924318, \"x2\": -0.9610817123635398, \"y\": 1}, {\"x1\": 0.7992095283338327, \"x2\": -0.3037774592597856, \"y\": 1}, {\"x1\": -0.5173142334112704, \"x2\": 1.558986958038696, \"y\": 0}, {\"x1\": -0.02373133003154631, \"x2\": 0.9523686488002354, \"y\": 0}, {\"x1\": 0.4197985244105368, \"x2\": 0.9251231389503313, \"y\": 0}, {\"x1\": 0.24305756978618395, \"x2\": 0.36589046877955456, \"y\": 0}, {\"x1\": 0.2553963928669949, \"x2\": 0.4799399357414449, \"y\": 0}, {\"x1\": 0.5367198714020606, \"x2\": 0.5750511132792612, \"y\": 0}, {\"x1\": -0.32362511661201376, \"x2\": 1.4446574595708142, \"y\": 0}, {\"x1\": 0.6589579135783501, \"x2\": -0.19663111156081475, \"y\": 1}, {\"x1\": 0.10188474286807221, \"x2\": 0.40065885467480566, \"y\": 0}, {\"x1\": 1.1330916637668762, \"x2\": 0.08048792595747223, \"y\": 0}, {\"x1\": 0.3479030905744762, \"x2\": 0.8702902842863094, \"y\": 0}, {\"x1\": 1.4210469431160464, \"x2\": -0.5604538974542697, \"y\": 1}, {\"x1\": -0.5016138632559637, \"x2\": 0.8320339082059728, \"y\": 0}, {\"x1\": 0.6625145179541323, \"x2\": 0.6504634812643961, \"y\": 0}, {\"x1\": 0.18114593820806413, \"x2\": 0.478272165131578, \"y\": 0}, {\"x1\": 0.584353429287505, \"x2\": 0.3478207870375771, \"y\": 0}, {\"x1\": 1.481367418394699, \"x2\": -0.6574867513497846, \"y\": 1}, {\"x1\": -0.8243929367527587, \"x2\": 0.39741075746853205, \"y\": 0}, {\"x1\": -0.6175595655705721, \"x2\": 0.2458970819638171, \"y\": 0}, {\"x1\": 0.9097352216039967, \"x2\": 0.096256389513242, \"y\": 0}, {\"x1\": 0.7452592185344485, \"x2\": -0.36166463812007654, \"y\": 1}, {\"x1\": 0.9832032459837178, \"x2\": -0.10207904909040882, \"y\": 1}, {\"x1\": 1.7347258719758762, \"x2\": 0.05174963810930336, \"y\": 1}, {\"x1\": 0.8809646901797444, \"x2\": 0.2365899471498639, \"y\": 0}, {\"x1\": 0.584353429287505, \"x2\": 0.3478207870375771, \"y\": 0}, {\"x1\": -0.7575059769676622, \"x2\": -0.17846240128019372, \"y\": 0}, {\"x1\": 0.697269646272138, \"x2\": 1.4803577855276089, \"y\": 0}, {\"x1\": 0.755515215510272, \"x2\": 0.0884338780544994, \"y\": 0}, {\"x1\": 1.0708306500199594, \"x2\": 0.3924167021212185, \"y\": 0}, {\"x1\": -0.5651917768741944, \"x2\": 1.2868462852763087, \"y\": 0}, {\"x1\": 1.3627126138314813, \"x2\": -0.5364119277097084, \"y\": 1}, {\"x1\": -0.2709798299163694, \"x2\": 1.0997166246715517, \"y\": 0}, {\"x1\": 0.46540920251914614, \"x2\": 0.11420290902242392, \"y\": 0}, {\"x1\": -0.16059033696773933, \"x2\": 0.05272062827379381, \"y\": 0}, {\"x1\": 1.7172793476308144, \"x2\": -0.5983782995786009, \"y\": 1}, {\"x1\": 0.30448348204920384, \"x2\": 0.765914279617907, \"y\": 0}, {\"x1\": -0.7776935334173632, \"x2\": 0.6198542393642015, \"y\": 0}, {\"x1\": 0.6874956175031375, \"x2\": 0.13607975123440996, \"y\": 0}, {\"x1\": 2.049891300657319, \"x2\": -0.6560073961801196, \"y\": 1}, {\"x1\": -0.1962941223570062, \"x2\": 0.5755557092892285, \"y\": 0}, {\"x1\": 0.8511858643526853, \"x2\": 1.0239845552636722, \"y\": 0}, {\"x1\": 0.46639197086959583, \"x2\": 0.13788556093345006, \"y\": 0}, {\"x1\": -1.708078696124466, \"x2\": 0.18678716778888507, \"y\": 0}, {\"x1\": 1.321931419144644, \"x2\": -0.009360667797249617, \"y\": 1}, {\"x1\": 0.17613062895893952, \"x2\": 1.567215120044195, \"y\": 0}, {\"x1\": -0.295383553766774, \"x2\": 1.1995389803401553, \"y\": 0}, {\"x1\": -1.0734218874078814, \"x2\": -0.15671690196110227, \"y\": 0}, {\"x1\": 1.5976835770428772, \"x2\": -0.6740457359574263, \"y\": 1}, {\"x1\": 0.6047479182579577, \"x2\": 0.9179783023489, \"y\": 0}, {\"x1\": 0.11299252726633656, \"x2\": -0.6795885357976482, \"y\": 1}, {\"x1\": 0.3160124708361297, \"x2\": -0.5107117297662573, \"y\": 1}, {\"x1\": 1.19166365990228, \"x2\": -0.9486597123327882, \"y\": 1}, {\"x1\": 0.348519590379601, \"x2\": 1.6502466336318375, \"y\": 0}, {\"x1\": 0.61492143124788, \"x2\": 0.709070458148388, \"y\": 0}, {\"x1\": 1.9193524171514742, \"x2\": 0.02495433723543225, \"y\": 1}, {\"x1\": -0.03513625513157026, \"x2\": -0.11845199178539595, \"y\": 0}, {\"x1\": -0.5337480336738806, \"x2\": 0.40017816195018086, \"y\": 0}, {\"x1\": 2.1068072573124823, \"x2\": -0.43974835974890736, \"y\": 1}, {\"x1\": 0.15344427938381056, \"x2\": 0.8356188078074931, \"y\": 0}, {\"x1\": 1.2273740873646224, \"x2\": -0.5909856481312701, \"y\": 1}, {\"x1\": 0.2420566282814805, \"x2\": 0.03902724821217746, \"y\": 0}, {\"x1\": 1.1887872935315007, \"x2\": 0.7367511831021295, \"y\": 0}, {\"x1\": -1.1600682566478737, \"x2\": 0.24220247748911042, \"y\": 0}, {\"x1\": -0.6317736996799941, \"x2\": 0.09708060256697426, \"y\": 0}, {\"x1\": 0.7992095283338327, \"x2\": -0.3037774592597856, \"y\": 1}, {\"x1\": 0.43829282297817546, \"x2\": 0.6876665182803356, \"y\": 0}, {\"x1\": 0.18114593820806413, \"x2\": 0.478272165131578, \"y\": 0}, {\"x1\": 2.0973456871718255, \"x2\": 0.42345439479662217, \"y\": 0}, {\"x1\": 2.1449611807863347, \"x2\": 0.5767312791026428, \"y\": 0}, {\"x1\": -1.1600682566478737, \"x2\": 0.24220247748911042, \"y\": 0}, {\"x1\": 0.788377422155884, \"x2\": 1.0090258662653846, \"y\": 0}, {\"x1\": -0.6291653549692554, \"x2\": 1.3202473296103812, \"y\": 0}, {\"x1\": 0.26858081274137446, \"x2\": 0.7424532832438218, \"y\": 0}], \"data-d06f339c03ed6c7753686b4ada75bccc\": [{\"x1\": 2.021485640353253, \"x2\": -0.950807629370439, \"y\": 1}, {\"x1\": -1.2421101249173998, \"x2\": 0.9873820331018053, \"y\": 0}, {\"x1\": -0.4117870861961774, \"x2\": 1.6508213133617295, \"y\": 0}, {\"x1\": 2.4525863111816344, \"x2\": 0.23553329381128166, \"y\": 1}, {\"x1\": 2.2645032955276228, \"x2\": 0.03811539479978149, \"y\": 1}, {\"x1\": -0.5191645767788847, \"x2\": 0.8794676735493336, \"y\": 0}, {\"x1\": -0.18965192527271568, \"x2\": -0.9888804910752241, \"y\": 1}, {\"x1\": 0.9097352216039967, \"x2\": 0.096256389513242, \"y\": 0}, {\"x1\": 1.9445962934447416, \"x2\": 0.5287050889982368, \"y\": 1}, {\"x1\": -1.1600682566478737, \"x2\": 0.24220247748911042, \"y\": 0}, {\"x1\": 2.202178953644096, \"x2\": -0.46317059732593285, \"y\": 1}, {\"x1\": 0.09460985551237877, \"x2\": -0.47726894902021166, \"y\": 1}, {\"x1\": 0.1620797513989688, \"x2\": -0.6415282236340702, \"y\": 1}, {\"x1\": -0.6329828587828745, \"x2\": 1.0636231196132886, \"y\": 0}, {\"x1\": 0.03911365276880616, \"x2\": 0.5664601632485335, \"y\": 1}, {\"x1\": -0.2669704469099181, \"x2\": 0.9194524068610098, \"y\": 0}, {\"x1\": 2.650490024436792, \"x2\": 0.30621848144133523, \"y\": 1}, {\"x1\": 1.1058804464938423, \"x2\": 0.11927198108019044, \"y\": 0}, {\"x1\": -0.18648903064244393, \"x2\": -0.17955633869266682, \"y\": 1}, {\"x1\": 1.9437122896895331, \"x2\": 0.15718721884824657, \"y\": 1}, {\"x1\": 1.0854031494140195, \"x2\": 0.39716356784710816, \"y\": 0}, {\"x1\": 0.25445998298301054, \"x2\": 1.1491515460415016, \"y\": 0}, {\"x1\": 1.9004888229806698, \"x2\": 0.046194919846761384, \"y\": 1}, {\"x1\": 0.6829137043318972, \"x2\": 0.2930532852848099, \"y\": 0}, {\"x1\": -1.0521899298671369, \"x2\": 0.5155270682676065, \"y\": 0}, {\"x1\": 0.03911365276880616, \"x2\": 0.5664601632485335, \"y\": 1}, {\"x1\": 1.1333696638326372, \"x2\": 0.030133915352476448, \"y\": 0}, {\"x1\": 1.569134186500896, \"x2\": 0.42390064591982346, \"y\": 1}, {\"x1\": 1.1732526776540606, \"x2\": -0.6134988186237096, \"y\": 1}, {\"x1\": 1.0110106604239766, \"x2\": 0.3819703595930549, \"y\": 1}, {\"x1\": -0.14397148797922737, \"x2\": 1.2309317708951535, \"y\": 0}, {\"x1\": 0.9097352216039967, \"x2\": 0.096256389513242, \"y\": 0}, {\"x1\": 0.2704099935272409, \"x2\": 0.6522394046780993, \"y\": 0}, {\"x1\": -0.6337440960731086, \"x2\": 0.7225739934103553, \"y\": 0}, {\"x1\": 0.697269646272138, \"x2\": 1.4803577855276089, \"y\": 0}, {\"x1\": 1.4472165614639336, \"x2\": 0.3687130023518186, \"y\": 1}, {\"x1\": 1.152715216896606, \"x2\": -0.02521913713031604, \"y\": 1}, {\"x1\": -0.11094695827827816, \"x2\": -0.2595792740546476, \"y\": 1}, {\"x1\": -1.55301146452025, \"x2\": 0.17209736384714855, \"y\": 0}, {\"x1\": 1.703300021116522, \"x2\": 0.06976676121278083, \"y\": 1}, {\"x1\": 2.1807881488615006, \"x2\": 0.08997685767631636, \"y\": 1}, {\"x1\": 1.6519582031956022, \"x2\": 0.37615311196723816, \"y\": 1}, {\"x1\": -1.5909715811741019, \"x2\": -0.4391567812250581, \"y\": 0}, {\"x1\": -0.03513625513157026, \"x2\": -0.11845199178539595, \"y\": 1}, {\"x1\": 0.9645506262202789, \"x2\": -0.2287458506815598, \"y\": 0}, {\"x1\": 0.24305756978618395, \"x2\": 0.36589046877955456, \"y\": 0}, {\"x1\": 0.9691344779664334, \"x2\": 1.0869744436939022, \"y\": 0}, {\"x1\": 1.1159332073075652, \"x2\": 0.3055072437728391, \"y\": 0}, {\"x1\": 1.1732553147175608, \"x2\": -0.32256100917732045, \"y\": 1}, {\"x1\": -0.4533841780713968, \"x2\": 0.4255251921090296, \"y\": 1}, {\"x1\": -0.6291653549692554, \"x2\": 1.3202473296103812, \"y\": 0}, {\"x1\": 1.4472165614639336, \"x2\": 0.3687130023518186, \"y\": 1}, {\"x1\": 1.3539971904248866, \"x2\": 0.011940999771427374, \"y\": 1}, {\"x1\": -0.9544557066547386, \"x2\": 0.9686855543908856, \"y\": 0}, {\"x1\": 0.30448348204920384, \"x2\": 0.765914279617907, \"y\": 0}, {\"x1\": 1.5447652333783202, \"x2\": -0.39188157696889614, \"y\": 1}, {\"x1\": -0.2730535075913968, \"x2\": 0.6423957093523669, \"y\": 0}, {\"x1\": 1.2906472533533242, \"x2\": -0.5162467286636423, \"y\": 1}, {\"x1\": -0.8951653335242493, \"x2\": 0.9767294594840279, \"y\": 0}, {\"x1\": -0.5696729341760631, \"x2\": 0.48957848405982285, \"y\": 0}, {\"x1\": 0.08351747138367899, \"x2\": -0.7240805634228779, \"y\": 1}, {\"x1\": 0.84675868519512, \"x2\": 0.27060054875358996, \"y\": 1}, {\"x1\": 0.25445998298301054, \"x2\": 1.1491515460415016, \"y\": 0}, {\"x1\": 1.7594181877638588, \"x2\": 0.27182097965746554, \"y\": 1}, {\"x1\": -1.3048816079217866, \"x2\": 0.9527534243361853, \"y\": 0}, {\"x1\": -0.5810339819993459, \"x2\": 1.1372732367128788, \"y\": 0}, {\"x1\": 0.26998034553484995, \"x2\": -0.5575323992961883, \"y\": 1}, {\"x1\": 1.0879291434798277, \"x2\": -0.9841149286314366, \"y\": 1}, {\"x1\": 0.9236510438584338, \"x2\": 0.32333395397531184, \"y\": 0}, {\"x1\": 0.6993706637519219, \"x2\": -0.33021287357050527, \"y\": 1}, {\"x1\": -0.6362082605575834, \"x2\": 0.12906817445288238, \"y\": 0}, {\"x1\": 0.5013964087821166, \"x2\": -0.1802610444643572, \"y\": 1}, {\"x1\": -0.8954166134980884, \"x2\": -0.6141545613543338, \"y\": 1}, {\"x1\": 0.675895797885822, \"x2\": 0.06097372146080212, \"y\": 0}, {\"x1\": -0.09725075120393997, \"x2\": -0.22162588424655857, \"y\": 1}, {\"x1\": 0.9813749798962119, \"x2\": -0.5509008390954463, \"y\": 1}, {\"x1\": 0.9361618116843231, \"x2\": -0.8208166004676087, \"y\": 1}, {\"x1\": 1.3845874473653537, \"x2\": -0.13004365668899526, \"y\": 1}, {\"x1\": 0.6524160291964556, \"x2\": -0.47967218424434066, \"y\": 1}, {\"x1\": 1.683210986264415, \"x2\": 0.40330086184418495, \"y\": 1}, {\"x1\": 1.0299105144878113, \"x2\": -0.2632363222598379, \"y\": 1}, {\"x1\": -1.2396763911020254, \"x2\": 0.210417702725937, \"y\": 0}, {\"x1\": 0.6441025739337378, \"x2\": -0.13294114361824017, \"y\": 1}, {\"x1\": 0.02255152179768297, \"x2\": 0.8397651560713927, \"y\": 1}, {\"x1\": 1.082398245054383, \"x2\": -0.8043699660146175, \"y\": 1}, {\"x1\": 0.675895797885822, \"x2\": 0.06097372146080212, \"y\": 0}, {\"x1\": 0.6423561041750762, \"x2\": -0.612954295596624, \"y\": 1}, {\"x1\": 2.3515760071273224, \"x2\": 0.3825240929806694, \"y\": 1}, {\"x1\": -0.10841347715720331, \"x2\": 1.1075170045310838, \"y\": 0}, {\"x1\": 1.683210986264415, \"x2\": 0.40330086184418495, \"y\": 1}, {\"x1\": -0.5337480336738806, \"x2\": 0.40017816195018086, \"y\": 0}, {\"x1\": 1.1732553147175608, \"x2\": -0.32256100917732045, \"y\": 1}, {\"x1\": -0.12072908800030585, \"x2\": 0.8888452962877317, \"y\": 0}, {\"x1\": -0.416321262391643, \"x2\": 0.7842063823686916, \"y\": 1}, {\"x1\": 0.6625145179541323, \"x2\": 0.6504634812643961, \"y\": 0}, {\"x1\": -0.0314711156916348, \"x2\": 1.0031539719615619, \"y\": 0}, {\"x1\": -0.4887633736851666, \"x2\": 1.3989610868584283, \"y\": 0}, {\"x1\": 0.44053906691646694, \"x2\": -0.18395357508245597, \"y\": 0}, {\"x1\": -0.4117870861961774, \"x2\": 1.6508213133617295, \"y\": 0}, {\"x1\": 0.4581971384537276, \"x2\": 0.8659910089556973, \"y\": 0}], \"data-99c4cc89e2971c6371a245bffaac4f43\": [{\"x1\": 2.021485640353253, \"x2\": -0.950807629370439, \"y\": 1}, {\"x1\": -1.2421101249173998, \"x2\": 0.9873820331018053, \"y\": 0}, {\"x1\": -0.4117870861961774, \"x2\": 1.6508213133617295, \"y\": 0}, {\"x1\": 2.4525863111816344, \"x2\": 0.23553329381128166, \"y\": 1}, {\"x1\": 2.2645032955276228, \"x2\": 0.03811539479978149, \"y\": 1}, {\"x1\": -0.5191645767788847, \"x2\": 0.8794676735493336, \"y\": 0}, {\"x1\": -0.18965192527271568, \"x2\": -0.9888804910752241, \"y\": 1}, {\"x1\": 0.9097352216039967, \"x2\": 0.096256389513242, \"y\": 1}, {\"x1\": 1.9445962934447416, \"x2\": 0.5287050889982368, \"y\": 1}, {\"x1\": -1.1600682566478737, \"x2\": 0.24220247748911042, \"y\": 0}, {\"x1\": 2.202178953644096, \"x2\": -0.46317059732593285, \"y\": 1}, {\"x1\": 0.09460985551237877, \"x2\": -0.47726894902021166, \"y\": 1}, {\"x1\": 0.1620797513989688, \"x2\": -0.6415282236340702, \"y\": 1}, {\"x1\": -0.6329828587828745, \"x2\": 1.0636231196132886, \"y\": 0}, {\"x1\": 0.03911365276880616, \"x2\": 0.5664601632485335, \"y\": 0}, {\"x1\": -0.2669704469099181, \"x2\": 0.9194524068610098, \"y\": 0}, {\"x1\": 2.650490024436792, \"x2\": 0.30621848144133523, \"y\": 1}, {\"x1\": 1.1058804464938423, \"x2\": 0.11927198108019044, \"y\": 1}, {\"x1\": -0.18648903064244393, \"x2\": -0.17955633869266682, \"y\": 1}, {\"x1\": 1.9437122896895331, \"x2\": 0.15718721884824657, \"y\": 1}, {\"x1\": 1.0854031494140195, \"x2\": 0.39716356784710816, \"y\": 1}, {\"x1\": 0.25445998298301054, \"x2\": 1.1491515460415016, \"y\": 0}, {\"x1\": 1.9004888229806698, \"x2\": 0.046194919846761384, \"y\": 1}, {\"x1\": 0.6829137043318972, \"x2\": 0.2930532852848099, \"y\": 0}, {\"x1\": -1.0521899298671369, \"x2\": 0.5155270682676065, \"y\": 0}, {\"x1\": 0.03911365276880616, \"x2\": 0.5664601632485335, \"y\": 0}, {\"x1\": 1.1333696638326372, \"x2\": 0.030133915352476448, \"y\": 1}, {\"x1\": 1.569134186500896, \"x2\": 0.42390064591982346, \"y\": 1}, {\"x1\": 1.1732526776540606, \"x2\": -0.6134988186237096, \"y\": 1}, {\"x1\": 1.0110106604239766, \"x2\": 0.3819703595930549, \"y\": 1}, {\"x1\": -0.14397148797922737, \"x2\": 1.2309317708951535, \"y\": 0}, {\"x1\": 0.9097352216039967, \"x2\": 0.096256389513242, \"y\": 1}, {\"x1\": 0.2704099935272409, \"x2\": 0.6522394046780993, \"y\": 0}, {\"x1\": -0.6337440960731086, \"x2\": 0.7225739934103553, \"y\": 0}, {\"x1\": 0.697269646272138, \"x2\": 1.4803577855276089, \"y\": 0}, {\"x1\": 1.4472165614639336, \"x2\": 0.3687130023518186, \"y\": 1}, {\"x1\": 1.152715216896606, \"x2\": -0.02521913713031604, \"y\": 1}, {\"x1\": -0.11094695827827816, \"x2\": -0.2595792740546476, \"y\": 1}, {\"x1\": -1.55301146452025, \"x2\": 0.17209736384714855, \"y\": 0}, {\"x1\": 1.703300021116522, \"x2\": 0.06976676121278083, \"y\": 1}, {\"x1\": 2.1807881488615006, \"x2\": 0.08997685767631636, \"y\": 1}, {\"x1\": 1.6519582031956022, \"x2\": 0.37615311196723816, \"y\": 1}, {\"x1\": -1.5909715811741019, \"x2\": -0.4391567812250581, \"y\": 0}, {\"x1\": -0.03513625513157026, \"x2\": -0.11845199178539595, \"y\": 1}, {\"x1\": 0.9645506262202789, \"x2\": -0.2287458506815598, \"y\": 1}, {\"x1\": 0.24305756978618395, \"x2\": 0.36589046877955456, \"y\": 0}, {\"x1\": 0.9691344779664334, \"x2\": 1.0869744436939022, \"y\": 0}, {\"x1\": 1.1159332073075652, \"x2\": 0.3055072437728391, \"y\": 1}, {\"x1\": 1.1732553147175608, \"x2\": -0.32256100917732045, \"y\": 1}, {\"x1\": -0.4533841780713968, \"x2\": 0.4255251921090296, \"y\": 0}, {\"x1\": -0.6291653549692554, \"x2\": 1.3202473296103812, \"y\": 0}, {\"x1\": 1.4472165614639336, \"x2\": 0.3687130023518186, \"y\": 1}, {\"x1\": 1.3539971904248866, \"x2\": 0.011940999771427374, \"y\": 1}, {\"x1\": -0.9544557066547386, \"x2\": 0.9686855543908856, \"y\": 0}, {\"x1\": 0.30448348204920384, \"x2\": 0.765914279617907, \"y\": 0}, {\"x1\": 1.5447652333783202, \"x2\": -0.39188157696889614, \"y\": 1}, {\"x1\": -0.2730535075913968, \"x2\": 0.6423957093523669, \"y\": 0}, {\"x1\": 1.2906472533533242, \"x2\": -0.5162467286636423, \"y\": 1}, {\"x1\": -0.8951653335242493, \"x2\": 0.9767294594840279, \"y\": 0}, {\"x1\": -0.5696729341760631, \"x2\": 0.48957848405982285, \"y\": 0}, {\"x1\": 0.08351747138367899, \"x2\": -0.7240805634228779, \"y\": 1}, {\"x1\": 0.84675868519512, \"x2\": 0.27060054875358996, \"y\": 0}, {\"x1\": 0.25445998298301054, \"x2\": 1.1491515460415016, \"y\": 0}, {\"x1\": 1.7594181877638588, \"x2\": 0.27182097965746554, \"y\": 1}, {\"x1\": -1.3048816079217866, \"x2\": 0.9527534243361853, \"y\": 0}, {\"x1\": -0.5810339819993459, \"x2\": 1.1372732367128788, \"y\": 0}, {\"x1\": 0.26998034553484995, \"x2\": -0.5575323992961883, \"y\": 1}, {\"x1\": 1.0879291434798277, \"x2\": -0.9841149286314366, \"y\": 1}, {\"x1\": 0.9236510438584338, \"x2\": 0.32333395397531184, \"y\": 0}, {\"x1\": 0.6993706637519219, \"x2\": -0.33021287357050527, \"y\": 1}, {\"x1\": -0.6362082605575834, \"x2\": 0.12906817445288238, \"y\": 0}, {\"x1\": 0.5013964087821166, \"x2\": -0.1802610444643572, \"y\": 1}, {\"x1\": -0.8954166134980884, \"x2\": -0.6141545613543338, \"y\": 1}, {\"x1\": 0.675895797885822, \"x2\": 0.06097372146080212, \"y\": 0}, {\"x1\": -0.09725075120393997, \"x2\": -0.22162588424655857, \"y\": 1}, {\"x1\": 0.9813749798962119, \"x2\": -0.5509008390954463, \"y\": 1}, {\"x1\": 0.9361618116843231, \"x2\": -0.8208166004676087, \"y\": 1}, {\"x1\": 1.3845874473653537, \"x2\": -0.13004365668899526, \"y\": 1}, {\"x1\": 0.6524160291964556, \"x2\": -0.47967218424434066, \"y\": 1}, {\"x1\": 1.683210986264415, \"x2\": 0.40330086184418495, \"y\": 1}, {\"x1\": 1.0299105144878113, \"x2\": -0.2632363222598379, \"y\": 1}, {\"x1\": -1.2396763911020254, \"x2\": 0.210417702725937, \"y\": 0}, {\"x1\": 0.6441025739337378, \"x2\": -0.13294114361824017, \"y\": 1}, {\"x1\": 0.02255152179768297, \"x2\": 0.8397651560713927, \"y\": 0}, {\"x1\": 1.082398245054383, \"x2\": -0.8043699660146175, \"y\": 1}, {\"x1\": 0.675895797885822, \"x2\": 0.06097372146080212, \"y\": 0}, {\"x1\": 0.6423561041750762, \"x2\": -0.612954295596624, \"y\": 1}, {\"x1\": 2.3515760071273224, \"x2\": 0.3825240929806694, \"y\": 1}, {\"x1\": -0.10841347715720331, \"x2\": 1.1075170045310838, \"y\": 0}, {\"x1\": 1.683210986264415, \"x2\": 0.40330086184418495, \"y\": 1}, {\"x1\": -0.5337480336738806, \"x2\": 0.40017816195018086, \"y\": 0}, {\"x1\": 1.1732553147175608, \"x2\": -0.32256100917732045, \"y\": 1}, {\"x1\": -0.12072908800030585, \"x2\": 0.8888452962877317, \"y\": 0}, {\"x1\": -0.416321262391643, \"x2\": 0.7842063823686916, \"y\": 0}, {\"x1\": 0.6625145179541323, \"x2\": 0.6504634812643961, \"y\": 0}, {\"x1\": -0.0314711156916348, \"x2\": 1.0031539719615619, \"y\": 0}, {\"x1\": -0.4887633736851666, \"x2\": 1.3989610868584283, \"y\": 0}, {\"x1\": 0.44053906691646694, \"x2\": -0.18395357508245597, \"y\": 1}, {\"x1\": -0.4117870861961774, \"x2\": 1.6508213133617295, \"y\": 0}, {\"x1\": 0.4581971384537276, \"x2\": 0.8659910089556973, \"y\": 0}], \"data-103e39daa38b8938317e2a56395ac9ac\": [{\"x1\": 2.021485640353253, \"x2\": -0.950807629370439, \"y\": 1}, {\"x1\": -1.2421101249173998, \"x2\": 0.9873820331018053, \"y\": 0}, {\"x1\": -0.4117870861961774, \"x2\": 1.6508213133617295, \"y\": 0}, {\"x1\": 2.4525863111816344, \"x2\": 0.23553329381128166, \"y\": 1}, {\"x1\": 2.2645032955276228, \"x2\": 0.03811539479978149, \"y\": 1}, {\"x1\": -0.5191645767788847, \"x2\": 0.8794676735493336, \"y\": 0}, {\"x1\": -0.18965192527271568, \"x2\": -0.9888804910752241, \"y\": 1}, {\"x1\": 0.9097352216039967, \"x2\": 0.096256389513242, \"y\": 1}, {\"x1\": 1.9445962934447416, \"x2\": 0.5287050889982368, \"y\": 1}, {\"x1\": -1.1600682566478737, \"x2\": 0.24220247748911042, \"y\": 0}, {\"x1\": 2.202178953644096, \"x2\": -0.46317059732593285, \"y\": 1}, {\"x1\": 0.09460985551237877, \"x2\": -0.47726894902021166, \"y\": 1}, {\"x1\": 0.1620797513989688, \"x2\": -0.6415282236340702, \"y\": 1}, {\"x1\": -0.6329828587828745, \"x2\": 1.0636231196132886, \"y\": 0}, {\"x1\": 0.03911365276880616, \"x2\": 0.5664601632485335, \"y\": 0}, {\"x1\": -0.2669704469099181, \"x2\": 0.9194524068610098, \"y\": 0}, {\"x1\": 2.650490024436792, \"x2\": 0.30621848144133523, \"y\": 1}, {\"x1\": 1.1058804464938423, \"x2\": 0.11927198108019044, \"y\": 1}, {\"x1\": -0.18648903064244393, \"x2\": -0.17955633869266682, \"y\": 0}, {\"x1\": 1.9437122896895331, \"x2\": 0.15718721884824657, \"y\": 1}, {\"x1\": 1.0854031494140195, \"x2\": 0.39716356784710816, \"y\": 1}, {\"x1\": 0.25445998298301054, \"x2\": 1.1491515460415016, \"y\": 0}, {\"x1\": 1.9004888229806698, \"x2\": 0.046194919846761384, \"y\": 1}, {\"x1\": 0.6829137043318972, \"x2\": 0.2930532852848099, \"y\": 1}, {\"x1\": -1.0521899298671369, \"x2\": 0.5155270682676065, \"y\": 0}, {\"x1\": 0.03911365276880616, \"x2\": 0.5664601632485335, \"y\": 0}, {\"x1\": 1.1333696638326372, \"x2\": 0.030133915352476448, \"y\": 1}, {\"x1\": 1.569134186500896, \"x2\": 0.42390064591982346, \"y\": 1}, {\"x1\": 1.1732526776540606, \"x2\": -0.6134988186237096, \"y\": 1}, {\"x1\": 1.0110106604239766, \"x2\": 0.3819703595930549, \"y\": 1}, {\"x1\": -0.14397148797922737, \"x2\": 1.2309317708951535, \"y\": 0}, {\"x1\": 0.9097352216039967, \"x2\": 0.096256389513242, \"y\": 1}, {\"x1\": 0.2704099935272409, \"x2\": 0.6522394046780993, \"y\": 0}, {\"x1\": -0.6337440960731086, \"x2\": 0.7225739934103553, \"y\": 0}, {\"x1\": 0.697269646272138, \"x2\": 1.4803577855276089, \"y\": 0}, {\"x1\": 1.4472165614639336, \"x2\": 0.3687130023518186, \"y\": 1}, {\"x1\": 1.152715216896606, \"x2\": -0.02521913713031604, \"y\": 1}, {\"x1\": -0.11094695827827816, \"x2\": -0.2595792740546476, \"y\": 0}, {\"x1\": -1.55301146452025, \"x2\": 0.17209736384714855, \"y\": 0}, {\"x1\": 1.703300021116522, \"x2\": 0.06976676121278083, \"y\": 1}, {\"x1\": 2.1807881488615006, \"x2\": 0.08997685767631636, \"y\": 1}, {\"x1\": 1.6519582031956022, \"x2\": 0.37615311196723816, \"y\": 1}, {\"x1\": -1.5909715811741019, \"x2\": -0.4391567812250581, \"y\": 0}, {\"x1\": -0.03513625513157026, \"x2\": -0.11845199178539595, \"y\": 0}, {\"x1\": 0.9645506262202789, \"x2\": -0.2287458506815598, \"y\": 1}, {\"x1\": 0.24305756978618395, \"x2\": 0.36589046877955456, \"y\": 0}, {\"x1\": 0.9691344779664334, \"x2\": 1.0869744436939022, \"y\": 0}, {\"x1\": 1.1159332073075652, \"x2\": 0.3055072437728391, \"y\": 1}, {\"x1\": 1.1732553147175608, \"x2\": -0.32256100917732045, \"y\": 1}, {\"x1\": -0.4533841780713968, \"x2\": 0.4255251921090296, \"y\": 0}, {\"x1\": -0.6291653549692554, \"x2\": 1.3202473296103812, \"y\": 0}, {\"x1\": 1.4472165614639336, \"x2\": 0.3687130023518186, \"y\": 1}, {\"x1\": 1.3539971904248866, \"x2\": 0.011940999771427374, \"y\": 1}, {\"x1\": -0.9544557066547386, \"x2\": 0.9686855543908856, \"y\": 0}, {\"x1\": 0.30448348204920384, \"x2\": 0.765914279617907, \"y\": 0}, {\"x1\": 1.5447652333783202, \"x2\": -0.39188157696889614, \"y\": 1}, {\"x1\": -0.2730535075913968, \"x2\": 0.6423957093523669, \"y\": 0}, {\"x1\": 1.2906472533533242, \"x2\": -0.5162467286636423, \"y\": 1}, {\"x1\": -0.8951653335242493, \"x2\": 0.9767294594840279, \"y\": 0}, {\"x1\": -0.5696729341760631, \"x2\": 0.48957848405982285, \"y\": 0}, {\"x1\": 0.08351747138367899, \"x2\": -0.7240805634228779, \"y\": 1}, {\"x1\": 0.84675868519512, \"x2\": 0.27060054875358996, \"y\": 1}, {\"x1\": 0.25445998298301054, \"x2\": 1.1491515460415016, \"y\": 0}, {\"x1\": 1.7594181877638588, \"x2\": 0.27182097965746554, \"y\": 1}, {\"x1\": -1.3048816079217866, \"x2\": 0.9527534243361853, \"y\": 0}, {\"x1\": -0.5810339819993459, \"x2\": 1.1372732367128788, \"y\": 0}, {\"x1\": 0.26998034553484995, \"x2\": -0.5575323992961883, \"y\": 1}, {\"x1\": 1.0879291434798277, \"x2\": -0.9841149286314366, \"y\": 1}, {\"x1\": 0.9236510438584338, \"x2\": 0.32333395397531184, \"y\": 1}, {\"x1\": 0.6993706637519219, \"x2\": -0.33021287357050527, \"y\": 1}, {\"x1\": -0.6362082605575834, \"x2\": 0.12906817445288238, \"y\": 0}, {\"x1\": 0.5013964087821166, \"x2\": -0.1802610444643572, \"y\": 1}, {\"x1\": -0.8954166134980884, \"x2\": -0.6141545613543338, \"y\": 0}, {\"x1\": 0.675895797885822, \"x2\": 0.06097372146080212, \"y\": 1}, {\"x1\": -0.09725075120393997, \"x2\": -0.22162588424655857, \"y\": 0}, {\"x1\": 0.9813749798962119, \"x2\": -0.5509008390954463, \"y\": 1}, {\"x1\": 0.9361618116843231, \"x2\": -0.8208166004676087, \"y\": 1}, {\"x1\": 1.3845874473653537, \"x2\": -0.13004365668899526, \"y\": 1}, {\"x1\": 0.6524160291964556, \"x2\": -0.47967218424434066, \"y\": 1}, {\"x1\": 1.683210986264415, \"x2\": 0.40330086184418495, \"y\": 1}, {\"x1\": 1.0299105144878113, \"x2\": -0.2632363222598379, \"y\": 1}, {\"x1\": -1.2396763911020254, \"x2\": 0.210417702725937, \"y\": 0}, {\"x1\": 0.6441025739337378, \"x2\": -0.13294114361824017, \"y\": 1}, {\"x1\": 0.02255152179768297, \"x2\": 0.8397651560713927, \"y\": 0}, {\"x1\": 1.082398245054383, \"x2\": -0.8043699660146175, \"y\": 1}, {\"x1\": 0.675895797885822, \"x2\": 0.06097372146080212, \"y\": 1}, {\"x1\": 0.6423561041750762, \"x2\": -0.612954295596624, \"y\": 1}, {\"x1\": 2.3515760071273224, \"x2\": 0.3825240929806694, \"y\": 1}, {\"x1\": -0.10841347715720331, \"x2\": 1.1075170045310838, \"y\": 0}, {\"x1\": 1.683210986264415, \"x2\": 0.40330086184418495, \"y\": 1}, {\"x1\": -0.5337480336738806, \"x2\": 0.40017816195018086, \"y\": 0}, {\"x1\": 1.1732553147175608, \"x2\": -0.32256100917732045, \"y\": 1}, {\"x1\": -0.12072908800030585, \"x2\": 0.8888452962877317, \"y\": 0}, {\"x1\": -0.416321262391643, \"x2\": 0.7842063823686916, \"y\": 0}, {\"x1\": 0.6625145179541323, \"x2\": 0.6504634812643961, \"y\": 0}, {\"x1\": -0.0314711156916348, \"x2\": 1.0031539719615619, \"y\": 0}, {\"x1\": -0.4887633736851666, \"x2\": 1.3989610868584283, \"y\": 0}, {\"x1\": 0.44053906691646694, \"x2\": -0.18395357508245597, \"y\": 1}, {\"x1\": -0.4117870861961774, \"x2\": 1.6508213133617295, \"y\": 0}, {\"x1\": 0.4581971384537276, \"x2\": 0.8659910089556973, \"y\": 0}], \"data-4b3de3d53968e126a73b833ce31f17d6\": [{\"x1\": 1.3539971904248866, \"x2\": 0.011940999771427374, \"y\": 1}, {\"x1\": 1.2909485075801306, \"x2\": -0.15122468996184874, \"y\": 1}, {\"x1\": 1.1058804464938423, \"x2\": 0.11927198108019044, \"y\": 0}, {\"x1\": 1.7279917921364027, \"x2\": -0.042345695178585496, \"y\": 1}, {\"x1\": 1.331935587949086, \"x2\": -0.5372835318778267, \"y\": 1}, {\"x1\": -1.6306480237758372, \"x2\": -0.34543084934951507, \"y\": 0}, {\"x1\": 2.000485855674409, \"x2\": 0.23311438523166889, \"y\": 1}, {\"x1\": -0.0376023798258569, \"x2\": 1.551729891652077, \"y\": 0}, {\"x1\": 0.3032403160206385, \"x2\": 0.8060098406883627, \"y\": 0}, {\"x1\": 1.1242307790626407, \"x2\": 0.09026652931121376, \"y\": 0}, {\"x1\": 0.5102183701171148, \"x2\": 1.113915665410407, \"y\": 0}, {\"x1\": 0.5002502726915099, \"x2\": 1.277357457050353, \"y\": 0}, {\"x1\": 0.38519120688474945, \"x2\": 0.6742378593191526, \"y\": 0}, {\"x1\": 2.715562719755141, \"x2\": 0.4589368905742489, \"y\": 1}, {\"x1\": 1.3333382970552825, \"x2\": -0.08667432375704336, \"y\": 1}, {\"x1\": -1.037000017149384, \"x2\": 1.0233560858916428, \"y\": 0}, {\"x1\": 1.0399700522059978, \"x2\": -0.4071296485862945, \"y\": 1}, {\"x1\": -0.11272326925913245, \"x2\": -0.12076304843231239, \"y\": 1}, {\"x1\": -1.2421101249173998, \"x2\": 0.9873820331018053, \"y\": 0}, {\"x1\": 0.4581971384537276, \"x2\": 0.8659910089556973, \"y\": 0}, {\"x1\": 0.7634145502976405, \"x2\": 0.47281671074349313, \"y\": 0}, {\"x1\": 1.6733312351796623, \"x2\": -0.9017782812755435, \"y\": 1}, {\"x1\": 0.25108166382866937, \"x2\": 0.30240716808823076, \"y\": 0}, {\"x1\": -0.16528524988272186, \"x2\": -0.06737969896432372, \"y\": 1}, {\"x1\": 0.5013964087821166, \"x2\": -0.1802610444643572, \"y\": 1}, {\"x1\": 0.84675868519512, \"x2\": 0.27060054875358996, \"y\": 1}, {\"x1\": -0.8533130737126484, \"x2\": 1.2986511990505623, \"y\": 0}, {\"x1\": 0.9813749798962119, \"x2\": -0.5509008390954463, \"y\": 1}, {\"x1\": 0.1857287504073355, \"x2\": 0.46429285805819204, \"y\": 0}, {\"x1\": 0.11299252726633656, \"x2\": -0.6795885357976482, \"y\": 1}, {\"x1\": -0.08650601884212777, \"x2\": 0.9182002106251962, \"y\": 0}, {\"x1\": 0.5062048777539474, \"x2\": 0.739879383289419, \"y\": 0}, {\"x1\": -0.7793755610063406, \"x2\": 0.1095286549497057, \"y\": 0}, {\"x1\": 2.711470364766714, \"x2\": 0.5660321975874163, \"y\": 1}, {\"x1\": 0.35377978722926584, \"x2\": 0.792985153615097, \"y\": 0}, {\"x1\": -0.10058670382043056, \"x2\": 0.6183458784509439, \"y\": 0}, {\"x1\": 0.5037495805679979, \"x2\": -0.3848742896392543, \"y\": 1}, {\"x1\": -0.8197266129903016, \"x2\": 0.4049971484519254, \"y\": 0}, {\"x1\": 0.4025611878623947, \"x2\": -0.6836282873155073, \"y\": 1}, {\"x1\": -0.059401652373276714, \"x2\": 0.5024843389860424, \"y\": 0}, {\"x1\": -1.0568455463864297, \"x2\": 0.8852437364631661, \"y\": 0}, {\"x1\": 0.06291932907271547, \"x2\": -0.5385761100339151, \"y\": 1}, {\"x1\": 2.1334731239124993, \"x2\": -0.24076398992112424, \"y\": 1}, {\"x1\": 1.3734459062665736, \"x2\": -0.7369054509421473, \"y\": 1}, {\"x1\": 0.08350869156494783, \"x2\": 0.004978875951812595, \"y\": 1}, {\"x1\": 0.3032403160206385, \"x2\": 0.8060098406883627, \"y\": 0}, {\"x1\": 0.7793299117728542, \"x2\": 0.825331395087802, \"y\": 0}, {\"x1\": 0.11617914765577779, \"x2\": -0.10303713669302425, \"y\": 1}, {\"x1\": -1.0479019694175673, \"x2\": -0.39930046387618173, \"y\": 0}, {\"x1\": 0.5102183701171148, \"x2\": 1.113915665410407, \"y\": 0}, {\"x1\": 0.2140133634205956, \"x2\": 1.4539464030294396, \"y\": 0}, {\"x1\": 0.03581308390399407, \"x2\": -0.43010279888513026, \"y\": 1}, {\"x1\": 0.9095974888629754, \"x2\": -0.14579175220411011, \"y\": 1}, {\"x1\": 1.024537331635533, \"x2\": 0.6596267476757336, \"y\": 0}, {\"x1\": -0.8653635311134636, \"x2\": 0.6482856852236771, \"y\": 0}, {\"x1\": 2.0322042608493804, \"x2\": -0.0005795439726442586, \"y\": 1}, {\"x1\": 0.017172294971239843, \"x2\": -1.0600144226898252, \"y\": 1}, {\"x1\": 0.782766084334253, \"x2\": -0.22594513908367164, \"y\": 1}, {\"x1\": -1.0391716885283497, \"x2\": 0.031087133511123244, \"y\": 0}, {\"x1\": 0.2882908928380489, \"x2\": -0.0772792757719748, \"y\": 1}, {\"x1\": 0.8136368143565674, \"x2\": 0.14945298235668503, \"y\": 1}, {\"x1\": -0.5029169272739875, \"x2\": 0.5766536129236185, \"y\": 0}, {\"x1\": 0.27328541420256003, \"x2\": 0.3223298720046085, \"y\": 1}, {\"x1\": 0.1675097000011922, \"x2\": -0.5486094666746986, \"y\": 1}, {\"x1\": 2.4668227694203892, \"x2\": 0.600422270708826, \"y\": 1}, {\"x1\": 0.8412548454772533, \"x2\": -0.31381356918687286, \"y\": 1}, {\"x1\": 0.009545925953250378, \"x2\": 0.3626718593282794, \"y\": 0}, {\"x1\": 0.5609889949205389, \"x2\": 1.062500367246254, \"y\": 0}, {\"x1\": -1.2862562318763087, \"x2\": 0.20267093254784058, \"y\": 0}, {\"x1\": -0.2901475915838853, \"x2\": 0.1873727417066705, \"y\": 0}, {\"x1\": -0.08743338234224628, \"x2\": 1.2760892768648464, \"y\": 0}, {\"x1\": 0.4114225772258475, \"x2\": 0.39884531210257773, \"y\": 0}, {\"x1\": 0.7909929972951166, \"x2\": -0.9568065037332866, \"y\": 1}, {\"x1\": 1.093404039251607, \"x2\": 1.1541273882011098, \"y\": 0}, {\"x1\": 1.6408370645900927, \"x2\": -0.4621691551893498, \"y\": 1}, {\"x1\": 0.6560961642263459, \"x2\": 0.8434069973488318, \"y\": 0}, {\"x1\": 0.4125295749028576, \"x2\": -0.2892275012389155, \"y\": 1}, {\"x1\": 0.3617922103629414, \"x2\": 1.1084651052431371, \"y\": 0}, {\"x1\": 0.3731179759594582, \"x2\": 0.5311853628303946, \"y\": 0}, {\"x1\": 1.1573779262468542, \"x2\": 0.6940928552556686, \"y\": 0}, {\"x1\": -0.5913609719963894, \"x2\": 0.560795573615606, \"y\": 0}, {\"x1\": 0.8886326558470841, \"x2\": -0.6856005473961807, \"y\": 1}, {\"x1\": -0.22522746967796947, \"x2\": -0.17714232161060423, \"y\": 1}, {\"x1\": -0.18648903064244393, \"x2\": -0.17955633869266682, \"y\": 1}, {\"x1\": 0.878507456749158, \"x2\": -0.24670748481939167, \"y\": 1}, {\"x1\": 1.0022935743970225, \"x2\": 0.05998805856853617, \"y\": 0}, {\"x1\": 0.36555760613836613, \"x2\": -0.4087737890709683, \"y\": 1}, {\"x1\": 1.839083646895751, \"x2\": -0.23777114308225195, \"y\": 1}, {\"x1\": 2.255032438246808, \"x2\": 0.6381475567068242, \"y\": 1}, {\"x1\": -0.14397148797922737, \"x2\": 1.2309317708951535, \"y\": 0}, {\"x1\": 1.7831206376093247, \"x2\": -0.25472952867301657, \"y\": 1}, {\"x1\": 1.6848142497176624, \"x2\": 0.44400815224626683, \"y\": 1}, {\"x1\": 0.9225532217064113, \"x2\": -0.309448876629638, \"y\": 1}, {\"x1\": 1.5225237852908486, \"x2\": 0.4026165028891257, \"y\": 0}, {\"x1\": 0.43759387924146, \"x2\": -0.448720951944379, \"y\": 1}, {\"x1\": 1.4472165614639336, \"x2\": 0.3687130023518186, \"y\": 1}, {\"x1\": 0.1857287504073355, \"x2\": 0.46429285805819204, \"y\": 0}, {\"x1\": 0.29921810435268004, \"x2\": 0.7258913650729348, \"y\": 0}, {\"x1\": 1.5069617695019455, \"x2\": -0.23338427963640718, \"y\": 1}, {\"x1\": 1.569134186500896, \"x2\": 0.42390064591982346, \"y\": 1}], \"data-d06bfec3eda2892d79e135aa44ad4b20\": [{\"x1\": 1.3539971904248866, \"x2\": 0.011940999771427374, \"y\": 1}, {\"x1\": 1.2909485075801306, \"x2\": -0.15122468996184874, \"y\": 1}, {\"x1\": 1.1058804464938423, \"x2\": 0.11927198108019044, \"y\": 1}, {\"x1\": 1.7279917921364027, \"x2\": -0.042345695178585496, \"y\": 1}, {\"x1\": 1.331935587949086, \"x2\": -0.5372835318778267, \"y\": 1}, {\"x1\": -1.6306480237758372, \"x2\": -0.34543084934951507, \"y\": 0}, {\"x1\": 2.000485855674409, \"x2\": 0.23311438523166889, \"y\": 1}, {\"x1\": -0.0376023798258569, \"x2\": 1.551729891652077, \"y\": 0}, {\"x1\": 0.3032403160206385, \"x2\": 0.8060098406883627, \"y\": 0}, {\"x1\": 1.1242307790626407, \"x2\": 0.09026652931121376, \"y\": 1}, {\"x1\": 0.5102183701171148, \"x2\": 1.113915665410407, \"y\": 0}, {\"x1\": 0.5002502726915099, \"x2\": 1.277357457050353, \"y\": 0}, {\"x1\": 0.38519120688474945, \"x2\": 0.6742378593191526, \"y\": 0}, {\"x1\": 2.715562719755141, \"x2\": 0.4589368905742489, \"y\": 1}, {\"x1\": 1.3333382970552825, \"x2\": -0.08667432375704336, \"y\": 1}, {\"x1\": -1.037000017149384, \"x2\": 1.0233560858916428, \"y\": 0}, {\"x1\": 1.0399700522059978, \"x2\": -0.4071296485862945, \"y\": 1}, {\"x1\": -0.11272326925913245, \"x2\": -0.12076304843231239, \"y\": 1}, {\"x1\": -1.2421101249173998, \"x2\": 0.9873820331018053, \"y\": 0}, {\"x1\": 0.4581971384537276, \"x2\": 0.8659910089556973, \"y\": 0}, {\"x1\": 0.7634145502976405, \"x2\": 0.47281671074349313, \"y\": 0}, {\"x1\": 1.6733312351796623, \"x2\": -0.9017782812755435, \"y\": 1}, {\"x1\": 0.25108166382866937, \"x2\": 0.30240716808823076, \"y\": 0}, {\"x1\": -0.16528524988272186, \"x2\": -0.06737969896432372, \"y\": 1}, {\"x1\": 0.5013964087821166, \"x2\": -0.1802610444643572, \"y\": 1}, {\"x1\": 0.84675868519512, \"x2\": 0.27060054875358996, \"y\": 1}, {\"x1\": -0.8533130737126484, \"x2\": 1.2986511990505623, \"y\": 0}, {\"x1\": 0.9813749798962119, \"x2\": -0.5509008390954463, \"y\": 1}, {\"x1\": 0.1857287504073355, \"x2\": 0.46429285805819204, \"y\": 0}, {\"x1\": 0.11299252726633656, \"x2\": -0.6795885357976482, \"y\": 1}, {\"x1\": -0.08650601884212777, \"x2\": 0.9182002106251962, \"y\": 0}, {\"x1\": 0.5062048777539474, \"x2\": 0.739879383289419, \"y\": 0}, {\"x1\": -0.7793755610063406, \"x2\": 0.1095286549497057, \"y\": 0}, {\"x1\": 2.711470364766714, \"x2\": 0.5660321975874163, \"y\": 1}, {\"x1\": 0.35377978722926584, \"x2\": 0.792985153615097, \"y\": 0}, {\"x1\": -0.10058670382043056, \"x2\": 0.6183458784509439, \"y\": 0}, {\"x1\": 0.5037495805679979, \"x2\": -0.3848742896392543, \"y\": 1}, {\"x1\": -0.8197266129903016, \"x2\": 0.4049971484519254, \"y\": 0}, {\"x1\": 0.4025611878623947, \"x2\": -0.6836282873155073, \"y\": 1}, {\"x1\": -0.059401652373276714, \"x2\": 0.5024843389860424, \"y\": 0}, {\"x1\": -1.0568455463864297, \"x2\": 0.8852437364631661, \"y\": 0}, {\"x1\": 0.06291932907271547, \"x2\": -0.5385761100339151, \"y\": 1}, {\"x1\": 2.1334731239124993, \"x2\": -0.24076398992112424, \"y\": 1}, {\"x1\": 1.3734459062665736, \"x2\": -0.7369054509421473, \"y\": 1}, {\"x1\": 0.08350869156494783, \"x2\": 0.004978875951812595, \"y\": 1}, {\"x1\": 0.3032403160206385, \"x2\": 0.8060098406883627, \"y\": 0}, {\"x1\": 0.7793299117728542, \"x2\": 0.825331395087802, \"y\": 0}, {\"x1\": 0.11617914765577779, \"x2\": -0.10303713669302425, \"y\": 1}, {\"x1\": -1.0479019694175673, \"x2\": -0.39930046387618173, \"y\": 0}, {\"x1\": 0.5102183701171148, \"x2\": 1.113915665410407, \"y\": 0}, {\"x1\": 0.2140133634205956, \"x2\": 1.4539464030294396, \"y\": 0}, {\"x1\": 0.03581308390399407, \"x2\": -0.43010279888513026, \"y\": 1}, {\"x1\": 0.9095974888629754, \"x2\": -0.14579175220411011, \"y\": 1}, {\"x1\": 1.024537331635533, \"x2\": 0.6596267476757336, \"y\": 0}, {\"x1\": -0.8653635311134636, \"x2\": 0.6482856852236771, \"y\": 0}, {\"x1\": 2.0322042608493804, \"x2\": -0.0005795439726442586, \"y\": 1}, {\"x1\": 0.017172294971239843, \"x2\": -1.0600144226898252, \"y\": 1}, {\"x1\": 0.782766084334253, \"x2\": -0.22594513908367164, \"y\": 1}, {\"x1\": -1.0391716885283497, \"x2\": 0.031087133511123244, \"y\": 0}, {\"x1\": 0.2882908928380489, \"x2\": -0.0772792757719748, \"y\": 1}, {\"x1\": 0.8136368143565674, \"x2\": 0.14945298235668503, \"y\": 1}, {\"x1\": -0.5029169272739875, \"x2\": 0.5766536129236185, \"y\": 0}, {\"x1\": 0.27328541420256003, \"x2\": 0.3223298720046085, \"y\": 0}, {\"x1\": 0.1675097000011922, \"x2\": -0.5486094666746986, \"y\": 1}, {\"x1\": 2.4668227694203892, \"x2\": 0.600422270708826, \"y\": 1}, {\"x1\": 0.8412548454772533, \"x2\": -0.31381356918687286, \"y\": 1}, {\"x1\": 0.009545925953250378, \"x2\": 0.3626718593282794, \"y\": 0}, {\"x1\": 0.5609889949205389, \"x2\": 1.062500367246254, \"y\": 0}, {\"x1\": -1.2862562318763087, \"x2\": 0.20267093254784058, \"y\": 0}, {\"x1\": -0.2901475915838853, \"x2\": 0.1873727417066705, \"y\": 0}, {\"x1\": -0.08743338234224628, \"x2\": 1.2760892768648464, \"y\": 0}, {\"x1\": 0.4114225772258475, \"x2\": 0.39884531210257773, \"y\": 0}, {\"x1\": 0.7909929972951166, \"x2\": -0.9568065037332866, \"y\": 1}, {\"x1\": 1.093404039251607, \"x2\": 1.1541273882011098, \"y\": 0}, {\"x1\": 1.6408370645900927, \"x2\": -0.4621691551893498, \"y\": 1}, {\"x1\": 0.6560961642263459, \"x2\": 0.8434069973488318, \"y\": 0}, {\"x1\": 0.4125295749028576, \"x2\": -0.2892275012389155, \"y\": 1}, {\"x1\": 0.3617922103629414, \"x2\": 1.1084651052431371, \"y\": 0}, {\"x1\": 0.3731179759594582, \"x2\": 0.5311853628303946, \"y\": 0}, {\"x1\": 1.1573779262468542, \"x2\": 0.6940928552556686, \"y\": 0}, {\"x1\": -0.5913609719963894, \"x2\": 0.560795573615606, \"y\": 0}, {\"x1\": 0.8886326558470841, \"x2\": -0.6856005473961807, \"y\": 1}, {\"x1\": -0.22522746967796947, \"x2\": -0.17714232161060423, \"y\": 1}, {\"x1\": -0.18648903064244393, \"x2\": -0.17955633869266682, \"y\": 1}, {\"x1\": 0.878507456749158, \"x2\": -0.24670748481939167, \"y\": 1}, {\"x1\": 1.0022935743970225, \"x2\": 0.05998805856853617, \"y\": 1}, {\"x1\": 0.36555760613836613, \"x2\": -0.4087737890709683, \"y\": 1}, {\"x1\": 1.839083646895751, \"x2\": -0.23777114308225195, \"y\": 1}, {\"x1\": 2.255032438246808, \"x2\": 0.6381475567068242, \"y\": 1}, {\"x1\": -0.14397148797922737, \"x2\": 1.2309317708951535, \"y\": 0}, {\"x1\": 1.7831206376093247, \"x2\": -0.25472952867301657, \"y\": 1}, {\"x1\": 1.6848142497176624, \"x2\": 0.44400815224626683, \"y\": 1}, {\"x1\": 0.9225532217064113, \"x2\": -0.309448876629638, \"y\": 1}, {\"x1\": 1.5225237852908486, \"x2\": 0.4026165028891257, \"y\": 1}, {\"x1\": 0.43759387924146, \"x2\": -0.448720951944379, \"y\": 1}, {\"x1\": 1.4472165614639336, \"x2\": 0.3687130023518186, \"y\": 1}, {\"x1\": 0.1857287504073355, \"x2\": 0.46429285805819204, \"y\": 0}, {\"x1\": 0.29921810435268004, \"x2\": 0.7258913650729348, \"y\": 0}, {\"x1\": 1.5069617695019455, \"x2\": -0.23338427963640718, \"y\": 1}, {\"x1\": 1.569134186500896, \"x2\": 0.42390064591982346, \"y\": 1}], \"data-c7db755769c23ec21d70e9d17a9ee222\": [{\"x1\": 1.3539971904248866, \"x2\": 0.011940999771427374, \"y\": 1}, {\"x1\": 1.2909485075801306, \"x2\": -0.15122468996184874, \"y\": 1}, {\"x1\": 1.1058804464938423, \"x2\": 0.11927198108019044, \"y\": 1}, {\"x1\": 1.7279917921364027, \"x2\": -0.042345695178585496, \"y\": 1}, {\"x1\": 1.331935587949086, \"x2\": -0.5372835318778267, \"y\": 1}, {\"x1\": -1.6306480237758372, \"x2\": -0.34543084934951507, \"y\": 0}, {\"x1\": 2.000485855674409, \"x2\": 0.23311438523166889, \"y\": 1}, {\"x1\": -0.0376023798258569, \"x2\": 1.551729891652077, \"y\": 0}, {\"x1\": 0.3032403160206385, \"x2\": 0.8060098406883627, \"y\": 0}, {\"x1\": 1.1242307790626407, \"x2\": 0.09026652931121376, \"y\": 1}, {\"x1\": 0.5102183701171148, \"x2\": 1.113915665410407, \"y\": 0}, {\"x1\": 0.5002502726915099, \"x2\": 1.277357457050353, \"y\": 0}, {\"x1\": 0.38519120688474945, \"x2\": 0.6742378593191526, \"y\": 0}, {\"x1\": 2.715562719755141, \"x2\": 0.4589368905742489, \"y\": 1}, {\"x1\": 1.3333382970552825, \"x2\": -0.08667432375704336, \"y\": 1}, {\"x1\": -1.037000017149384, \"x2\": 1.0233560858916428, \"y\": 0}, {\"x1\": 1.0399700522059978, \"x2\": -0.4071296485862945, \"y\": 1}, {\"x1\": -0.11272326925913245, \"x2\": -0.12076304843231239, \"y\": 1}, {\"x1\": -1.2421101249173998, \"x2\": 0.9873820331018053, \"y\": 0}, {\"x1\": 0.4581971384537276, \"x2\": 0.8659910089556973, \"y\": 0}, {\"x1\": 0.7634145502976405, \"x2\": 0.47281671074349313, \"y\": 0}, {\"x1\": 1.6733312351796623, \"x2\": -0.9017782812755435, \"y\": 1}, {\"x1\": 0.25108166382866937, \"x2\": 0.30240716808823076, \"y\": 0}, {\"x1\": -0.16528524988272186, \"x2\": -0.06737969896432372, \"y\": 1}, {\"x1\": 0.5013964087821166, \"x2\": -0.1802610444643572, \"y\": 1}, {\"x1\": 0.84675868519512, \"x2\": 0.27060054875358996, \"y\": 0}, {\"x1\": -0.8533130737126484, \"x2\": 1.2986511990505623, \"y\": 0}, {\"x1\": 0.9813749798962119, \"x2\": -0.5509008390954463, \"y\": 1}, {\"x1\": 0.1857287504073355, \"x2\": 0.46429285805819204, \"y\": 0}, {\"x1\": 0.11299252726633656, \"x2\": -0.6795885357976482, \"y\": 1}, {\"x1\": -0.08650601884212777, \"x2\": 0.9182002106251962, \"y\": 0}, {\"x1\": 0.5062048777539474, \"x2\": 0.739879383289419, \"y\": 0}, {\"x1\": -0.7793755610063406, \"x2\": 0.1095286549497057, \"y\": 0}, {\"x1\": 2.711470364766714, \"x2\": 0.5660321975874163, \"y\": 1}, {\"x1\": 0.35377978722926584, \"x2\": 0.792985153615097, \"y\": 0}, {\"x1\": -0.10058670382043056, \"x2\": 0.6183458784509439, \"y\": 0}, {\"x1\": 0.5037495805679979, \"x2\": -0.3848742896392543, \"y\": 1}, {\"x1\": -0.8197266129903016, \"x2\": 0.4049971484519254, \"y\": 0}, {\"x1\": 0.4025611878623947, \"x2\": -0.6836282873155073, \"y\": 1}, {\"x1\": -0.059401652373276714, \"x2\": 0.5024843389860424, \"y\": 0}, {\"x1\": -1.0568455463864297, \"x2\": 0.8852437364631661, \"y\": 0}, {\"x1\": 0.06291932907271547, \"x2\": -0.5385761100339151, \"y\": 1}, {\"x1\": 2.1334731239124993, \"x2\": -0.24076398992112424, \"y\": 1}, {\"x1\": 1.3734459062665736, \"x2\": -0.7369054509421473, \"y\": 1}, {\"x1\": 0.08350869156494783, \"x2\": 0.004978875951812595, \"y\": 0}, {\"x1\": 0.3032403160206385, \"x2\": 0.8060098406883627, \"y\": 0}, {\"x1\": 0.7793299117728542, \"x2\": 0.825331395087802, \"y\": 0}, {\"x1\": 0.11617914765577779, \"x2\": -0.10303713669302425, \"y\": 1}, {\"x1\": -1.0479019694175673, \"x2\": -0.39930046387618173, \"y\": 0}, {\"x1\": 0.5102183701171148, \"x2\": 1.113915665410407, \"y\": 0}, {\"x1\": 0.2140133634205956, \"x2\": 1.4539464030294396, \"y\": 0}, {\"x1\": 0.03581308390399407, \"x2\": -0.43010279888513026, \"y\": 1}, {\"x1\": 0.9095974888629754, \"x2\": -0.14579175220411011, \"y\": 1}, {\"x1\": 1.024537331635533, \"x2\": 0.6596267476757336, \"y\": 0}, {\"x1\": -0.8653635311134636, \"x2\": 0.6482856852236771, \"y\": 0}, {\"x1\": 2.0322042608493804, \"x2\": -0.0005795439726442586, \"y\": 1}, {\"x1\": 0.017172294971239843, \"x2\": -1.0600144226898252, \"y\": 1}, {\"x1\": 0.782766084334253, \"x2\": -0.22594513908367164, \"y\": 1}, {\"x1\": -1.0391716885283497, \"x2\": 0.031087133511123244, \"y\": 0}, {\"x1\": 0.2882908928380489, \"x2\": -0.0772792757719748, \"y\": 1}, {\"x1\": 0.8136368143565674, \"x2\": 0.14945298235668503, \"y\": 1}, {\"x1\": -0.5029169272739875, \"x2\": 0.5766536129236185, \"y\": 0}, {\"x1\": 0.27328541420256003, \"x2\": 0.3223298720046085, \"y\": 0}, {\"x1\": 0.1675097000011922, \"x2\": -0.5486094666746986, \"y\": 1}, {\"x1\": 2.4668227694203892, \"x2\": 0.600422270708826, \"y\": 1}, {\"x1\": 0.8412548454772533, \"x2\": -0.31381356918687286, \"y\": 1}, {\"x1\": 0.009545925953250378, \"x2\": 0.3626718593282794, \"y\": 0}, {\"x1\": 0.5609889949205389, \"x2\": 1.062500367246254, \"y\": 0}, {\"x1\": -1.2862562318763087, \"x2\": 0.20267093254784058, \"y\": 0}, {\"x1\": -0.2901475915838853, \"x2\": 0.1873727417066705, \"y\": 0}, {\"x1\": -0.08743338234224628, \"x2\": 1.2760892768648464, \"y\": 0}, {\"x1\": 0.4114225772258475, \"x2\": 0.39884531210257773, \"y\": 0}, {\"x1\": 0.7909929972951166, \"x2\": -0.9568065037332866, \"y\": 1}, {\"x1\": 1.093404039251607, \"x2\": 1.1541273882011098, \"y\": 0}, {\"x1\": 1.6408370645900927, \"x2\": -0.4621691551893498, \"y\": 1}, {\"x1\": 0.6560961642263459, \"x2\": 0.8434069973488318, \"y\": 0}, {\"x1\": 0.4125295749028576, \"x2\": -0.2892275012389155, \"y\": 1}, {\"x1\": 0.3617922103629414, \"x2\": 1.1084651052431371, \"y\": 0}, {\"x1\": 0.3731179759594582, \"x2\": 0.5311853628303946, \"y\": 0}, {\"x1\": 1.1573779262468542, \"x2\": 0.6940928552556686, \"y\": 0}, {\"x1\": -0.5913609719963894, \"x2\": 0.560795573615606, \"y\": 0}, {\"x1\": 0.8886326558470841, \"x2\": -0.6856005473961807, \"y\": 1}, {\"x1\": -0.22522746967796947, \"x2\": -0.17714232161060423, \"y\": 1}, {\"x1\": -0.18648903064244393, \"x2\": -0.17955633869266682, \"y\": 1}, {\"x1\": 0.878507456749158, \"x2\": -0.24670748481939167, \"y\": 1}, {\"x1\": 1.0022935743970225, \"x2\": 0.05998805856853617, \"y\": 1}, {\"x1\": 0.36555760613836613, \"x2\": -0.4087737890709683, \"y\": 1}, {\"x1\": 1.839083646895751, \"x2\": -0.23777114308225195, \"y\": 1}, {\"x1\": 2.255032438246808, \"x2\": 0.6381475567068242, \"y\": 1}, {\"x1\": -0.14397148797922737, \"x2\": 1.2309317708951535, \"y\": 0}, {\"x1\": 1.7831206376093247, \"x2\": -0.25472952867301657, \"y\": 1}, {\"x1\": 1.6848142497176624, \"x2\": 0.44400815224626683, \"y\": 1}, {\"x1\": 0.9225532217064113, \"x2\": -0.309448876629638, \"y\": 1}, {\"x1\": 1.5225237852908486, \"x2\": 0.4026165028891257, \"y\": 1}, {\"x1\": 0.43759387924146, \"x2\": -0.448720951944379, \"y\": 1}, {\"x1\": 1.4472165614639336, \"x2\": 0.3687130023518186, \"y\": 1}, {\"x1\": 0.1857287504073355, \"x2\": 0.46429285805819204, \"y\": 0}, {\"x1\": 0.29921810435268004, \"x2\": 0.7258913650729348, \"y\": 0}, {\"x1\": 1.5069617695019455, \"x2\": -0.23338427963640718, \"y\": 1}, {\"x1\": 1.569134186500896, \"x2\": 0.42390064591982346, \"y\": 1}]}}, {\"mode\": \"vega-lite\"});\n",
       "</script>"
      ],
      "text/plain": [
       "alt.VConcatChart(...)"
      ]
     },
     "execution_count": 72,
     "metadata": {},
     "output_type": "execute_result"
    }
   ],
   "source": [
    "myCharts = [[], [], []]\n",
    "\n",
    "for i in range(3):\n",
    "    indices = np.random.randint(low = 0, high = 1000, size = 100)\n",
    "\n",
    "    for eachK in [1, 25, 50]:\n",
    "        scikit_classifier = KNeighborsClassifier(n_neighbors = eachK)\n",
    "        scikit_classifier.fit(X_data[indices, :], Y_data[indices])\n",
    "        scikit_predictions = scikit_classifier.predict(X_data[indices, :])\n",
    "        \n",
    "        myCharts[i].append(\n",
    "            alt.Chart(\n",
    "                pd.DataFrame(\n",
    "                    {'x1': X_data[indices, 0], \n",
    "                    'x2': X_data[indices, 1], \n",
    "                    'y': scikit_predictions}),\n",
    "                    title = f\"Sample {i + 1} with {eachK} Nearest Neighbors\").mark_point().encode(\n",
    "                        x='x1', \n",
    "                        y='x2', \n",
    "                        color=alt.Color('y', scale=alt.Scale(domain=[0.0, 1.0], range=['red', 'blue']))))\n",
    "            \n",
    "alt.vconcat(\n",
    "    alt.hconcat(\n",
    "        myCharts[0][0], \n",
    "        myCharts[0][1], \n",
    "        myCharts[0][2]), \n",
    "        alt.hconcat(\n",
    "            myCharts[1][0], \n",
    "            myCharts[1][1], \n",
    "            myCharts[1][2]), \n",
    "            alt.hconcat(\n",
    "                myCharts[2][0], \n",
    "                myCharts[2][1], \n",
    "                myCharts[2][2]))"
   ]
  },
  {
   "attachments": {},
   "cell_type": "markdown",
   "metadata": {},
   "source": [
    "**(d)** Plotting Decision Boundaries"
   ]
  },
  {
   "cell_type": "code",
   "execution_count": 6,
   "metadata": {},
   "outputs": [
    {
     "ename": "NameError",
     "evalue": "name 'scikit_classifier' is not defined",
     "output_type": "error",
     "traceback": [
      "\u001b[0;31m---------------------------------------------------------------------------\u001b[0m",
      "\u001b[0;31mNameError\u001b[0m                                 Traceback (most recent call last)",
      "Cell \u001b[0;32mIn[6], line 5\u001b[0m\n\u001b[1;32m      1\u001b[0m \u001b[39mfrom\u001b[39;00m \u001b[39msklearn\u001b[39;00m\u001b[39m.\u001b[39;00m\u001b[39minspection\u001b[39;00m \u001b[39mimport\u001b[39;00m DecisionBoundaryDisplay\n\u001b[1;32m      2\u001b[0m \u001b[39mfrom\u001b[39;00m \u001b[39mmatplotlib\u001b[39;00m\u001b[39m.\u001b[39;00m\u001b[39mcolors\u001b[39;00m \u001b[39mimport\u001b[39;00m ListedColormap\n\u001b[1;32m      4\u001b[0m DecisionBoundaryDisplay\u001b[39m.\u001b[39mfrom_estimator(\n\u001b[0;32m----> 5\u001b[0m scikit_classifier,\n\u001b[1;32m      6\u001b[0m X_data[indices, :],\n\u001b[1;32m      7\u001b[0m response_method \u001b[39m=\u001b[39m \u001b[39m'\u001b[39m\u001b[39mpredict\u001b[39m\u001b[39m'\u001b[39m,\n\u001b[1;32m      8\u001b[0m cmap \u001b[39m=\u001b[39m ListedColormap([\u001b[39m'\u001b[39m\u001b[39mpink\u001b[39m\u001b[39m'\u001b[39m, \u001b[39m'\u001b[39m\u001b[39mlightblue\u001b[39m\u001b[39m'\u001b[39m]))\n",
      "\u001b[0;31mNameError\u001b[0m: name 'scikit_classifier' is not defined"
     ]
    }
   ],
   "source": [
    "from sklearn.inspection import DecisionBoundaryDisplay\n",
    "from matplotlib.colors import ListedColormap\n",
    "\n",
    "DecisionBoundaryDisplay.from_estimator(\n",
    "scikit_classifier,\n",
    "X_data[indices, :],\n",
    "response_method = 'predict',\n",
    "cmap = ListedColormap(['pink', 'lightblue']))"
   ]
  },
  {
   "attachments": {},
   "cell_type": "markdown",
   "metadata": {},
   "source": [
    "---\n",
    "\n",
    "## 6\n",
    "**[18 points] Bias-variance trade-off II: Quantifying the tradeoff**. This exercise explores the impact of the bias-variance tradeoff on classifier performance by looking at the performance on both training and test data.\n",
    "\n",
    "Here, the value of $k$ determines how flexible our model is.\n",
    "\n",
    "**(a)** Using the function created earlier to generate random samples (using the `make_moons` function setting the `noise` parameter to 0.35), create a new set of 1000 random samples, and call this dataset your test set and the previously created dataset your training set.\n",
    "\n",
    "**(b)** Train a kNN classifier on your training set for $k = 1,2,...500$. Apply each of these trained classifiers to both your training dataset and your test dataset and plot the classification error (fraction of incorrect predictions).\n",
    "\n",
    "**(c)** What trend do you see in the results?\n",
    "\n",
    "**(d)** What values of $k$ represent high bias and which represent high variance?\n",
    "\n",
    "**(e)** What is the optimal value of $k$ and why?\n",
    "\n",
    "**(f)** In KNN classifiers, the value of k controls the flexibility of the model - what controls the flexibility of other models?"
   ]
  },
  {
   "cell_type": "markdown",
   "metadata": {},
   "source": [
    "**ANSWER**"
   ]
  },
  {
   "attachments": {},
   "cell_type": "markdown",
   "metadata": {},
   "source": [
    "**(a)** Creating Test Data"
   ]
  },
  {
   "cell_type": "code",
   "execution_count": 7,
   "metadata": {},
   "outputs": [],
   "source": [
    "X_test, Y_test = make_moons(n_samples = 1000, noise = .35)"
   ]
  },
  {
   "attachments": {},
   "cell_type": "markdown",
   "metadata": {},
   "source": [
    "**(b)** Plotting Classification Error against K"
   ]
  },
  {
   "cell_type": "code",
   "execution_count": 8,
   "metadata": {},
   "outputs": [
    {
     "data": {
      "text/html": [
       "\n",
       "<div id=\"altair-viz-4f0ab81343fc4d2794d7674a5eb81efa\"></div>\n",
       "<script type=\"text/javascript\">\n",
       "  var VEGA_DEBUG = (typeof VEGA_DEBUG == \"undefined\") ? {} : VEGA_DEBUG;\n",
       "  (function(spec, embedOpt){\n",
       "    let outputDiv = document.currentScript.previousElementSibling;\n",
       "    if (outputDiv.id !== \"altair-viz-4f0ab81343fc4d2794d7674a5eb81efa\") {\n",
       "      outputDiv = document.getElementById(\"altair-viz-4f0ab81343fc4d2794d7674a5eb81efa\");\n",
       "    }\n",
       "    const paths = {\n",
       "      \"vega\": \"https://cdn.jsdelivr.net/npm//vega@5?noext\",\n",
       "      \"vega-lib\": \"https://cdn.jsdelivr.net/npm//vega-lib?noext\",\n",
       "      \"vega-lite\": \"https://cdn.jsdelivr.net/npm//vega-lite@4.17.0?noext\",\n",
       "      \"vega-embed\": \"https://cdn.jsdelivr.net/npm//vega-embed@6?noext\",\n",
       "    };\n",
       "\n",
       "    function maybeLoadScript(lib, version) {\n",
       "      var key = `${lib.replace(\"-\", \"\")}_version`;\n",
       "      return (VEGA_DEBUG[key] == version) ?\n",
       "        Promise.resolve(paths[lib]) :\n",
       "        new Promise(function(resolve, reject) {\n",
       "          var s = document.createElement('script');\n",
       "          document.getElementsByTagName(\"head\")[0].appendChild(s);\n",
       "          s.async = true;\n",
       "          s.onload = () => {\n",
       "            VEGA_DEBUG[key] = version;\n",
       "            return resolve(paths[lib]);\n",
       "          };\n",
       "          s.onerror = () => reject(`Error loading script: ${paths[lib]}`);\n",
       "          s.src = paths[lib];\n",
       "        });\n",
       "    }\n",
       "\n",
       "    function showError(err) {\n",
       "      outputDiv.innerHTML = `<div class=\"error\" style=\"color:red;\">${err}</div>`;\n",
       "      throw err;\n",
       "    }\n",
       "\n",
       "    function displayChart(vegaEmbed) {\n",
       "      vegaEmbed(outputDiv, spec, embedOpt)\n",
       "        .catch(err => showError(`Javascript Error: ${err.message}<br>This usually means there's a typo in your chart specification. See the javascript console for the full traceback.`));\n",
       "    }\n",
       "\n",
       "    if(typeof define === \"function\" && define.amd) {\n",
       "      requirejs.config({paths});\n",
       "      require([\"vega-embed\"], displayChart, err => showError(`Error loading script: ${err.message}`));\n",
       "    } else {\n",
       "      maybeLoadScript(\"vega\", \"5\")\n",
       "        .then(() => maybeLoadScript(\"vega-lite\", \"4.17.0\"))\n",
       "        .then(() => maybeLoadScript(\"vega-embed\", \"6\"))\n",
       "        .catch(showError)\n",
       "        .then(() => displayChart(vegaEmbed));\n",
       "    }\n",
       "  })({\"config\": {\"view\": {\"continuousWidth\": 400, \"continuousHeight\": 300}}, \"layer\": [{\"mark\": \"line\", \"encoding\": {\"x\": {\"field\": \"K\", \"type\": \"quantitative\"}, \"y\": {\"field\": \"Training Accuracy\", \"scale\": {\"zero\": false}, \"type\": \"quantitative\"}}}, {\"mark\": \"line\", \"encoding\": {\"x\": {\"field\": \"K\", \"type\": \"quantitative\"}, \"y\": {\"field\": \"Testing Accuracy\", \"scale\": {\"zero\": false}, \"type\": \"quantitative\"}}}], \"data\": {\"name\": \"data-0cddda3d96361acab02b1abd670166b5\"}, \"$schema\": \"https://vega.github.io/schema/vega-lite/v4.17.0.json\", \"datasets\": {\"data-0cddda3d96361acab02b1abd670166b5\": [{\"K\": 1, \"Training Accuracy\": 0.0, \"Testing Accuracy\": 0.18000000000000005}, {\"K\": 2, \"Training Accuracy\": 0.07599999999999996, \"Testing Accuracy\": 0.17000000000000004}, {\"K\": 3, \"Training Accuracy\": 0.07299999999999995, \"Testing Accuracy\": 0.14}, {\"K\": 4, \"Training Accuracy\": 0.09399999999999997, \"Testing Accuracy\": 0.132}, {\"K\": 5, \"Training Accuracy\": 0.09899999999999998, \"Testing Accuracy\": 0.124}, {\"K\": 6, \"Training Accuracy\": 0.09699999999999998, \"Testing Accuracy\": 0.125}, {\"K\": 7, \"Training Accuracy\": 0.09899999999999998, \"Testing Accuracy\": 0.11299999999999999}, {\"K\": 8, \"Training Accuracy\": 0.10299999999999998, \"Testing Accuracy\": 0.11499999999999999}, {\"K\": 9, \"Training Accuracy\": 0.10399999999999998, \"Testing Accuracy\": 0.10799999999999998}, {\"K\": 10, \"Training Accuracy\": 0.10999999999999999, \"Testing Accuracy\": 0.10999999999999999}, {\"K\": 11, \"Training Accuracy\": 0.10799999999999998, \"Testing Accuracy\": 0.11299999999999999}, {\"K\": 12, \"Training Accuracy\": 0.10599999999999998, \"Testing Accuracy\": 0.10999999999999999}, {\"K\": 13, \"Training Accuracy\": 0.10599999999999998, \"Testing Accuracy\": 0.10999999999999999}, {\"K\": 14, \"Training Accuracy\": 0.10799999999999998, \"Testing Accuracy\": 0.11099999999999999}, {\"K\": 15, \"Training Accuracy\": 0.10899999999999999, \"Testing Accuracy\": 0.11099999999999999}, {\"K\": 16, \"Training Accuracy\": 0.10999999999999999, \"Testing Accuracy\": 0.11099999999999999}, {\"K\": 17, \"Training Accuracy\": 0.10899999999999999, \"Testing Accuracy\": 0.11199999999999999}, {\"K\": 18, \"Training Accuracy\": 0.10899999999999999, \"Testing Accuracy\": 0.10999999999999999}, {\"K\": 19, \"Training Accuracy\": 0.10599999999999998, \"Testing Accuracy\": 0.10999999999999999}, {\"K\": 20, \"Training Accuracy\": 0.10899999999999999, \"Testing Accuracy\": 0.10499999999999998}, {\"K\": 21, \"Training Accuracy\": 0.10599999999999998, \"Testing Accuracy\": 0.10599999999999998}, {\"K\": 22, \"Training Accuracy\": 0.11199999999999999, \"Testing Accuracy\": 0.10799999999999998}, {\"K\": 23, \"Training Accuracy\": 0.10899999999999999, \"Testing Accuracy\": 0.10799999999999998}, {\"K\": 24, \"Training Accuracy\": 0.10899999999999999, \"Testing Accuracy\": 0.10899999999999999}, {\"K\": 25, \"Training Accuracy\": 0.11099999999999999, \"Testing Accuracy\": 0.11099999999999999}, {\"K\": 26, \"Training Accuracy\": 0.10699999999999998, \"Testing Accuracy\": 0.11099999999999999}, {\"K\": 27, \"Training Accuracy\": 0.11099999999999999, \"Testing Accuracy\": 0.10799999999999998}, {\"K\": 28, \"Training Accuracy\": 0.10699999999999998, \"Testing Accuracy\": 0.10799999999999998}, {\"K\": 29, \"Training Accuracy\": 0.10799999999999998, \"Testing Accuracy\": 0.10899999999999999}, {\"K\": 30, \"Training Accuracy\": 0.11099999999999999, \"Testing Accuracy\": 0.10899999999999999}, {\"K\": 31, \"Training Accuracy\": 0.10799999999999998, \"Testing Accuracy\": 0.10699999999999998}, {\"K\": 32, \"Training Accuracy\": 0.10699999999999998, \"Testing Accuracy\": 0.10399999999999998}, {\"K\": 33, \"Training Accuracy\": 0.10699999999999998, \"Testing Accuracy\": 0.10599999999999998}, {\"K\": 34, \"Training Accuracy\": 0.10799999999999998, \"Testing Accuracy\": 0.10499999999999998}, {\"K\": 35, \"Training Accuracy\": 0.11099999999999999, \"Testing Accuracy\": 0.10699999999999998}, {\"K\": 36, \"Training Accuracy\": 0.10899999999999999, \"Testing Accuracy\": 0.10699999999999998}, {\"K\": 37, \"Training Accuracy\": 0.10799999999999998, \"Testing Accuracy\": 0.10499999999999998}, {\"K\": 38, \"Training Accuracy\": 0.10999999999999999, \"Testing Accuracy\": 0.11099999999999999}, {\"K\": 39, \"Training Accuracy\": 0.11099999999999999, \"Testing Accuracy\": 0.10699999999999998}, {\"K\": 40, \"Training Accuracy\": 0.11399999999999999, \"Testing Accuracy\": 0.10899999999999999}, {\"K\": 41, \"Training Accuracy\": 0.11199999999999999, \"Testing Accuracy\": 0.10599999999999998}, {\"K\": 42, \"Training Accuracy\": 0.11399999999999999, \"Testing Accuracy\": 0.10699999999999998}, {\"K\": 43, \"Training Accuracy\": 0.11299999999999999, \"Testing Accuracy\": 0.10299999999999998}, {\"K\": 44, \"Training Accuracy\": 0.11299999999999999, \"Testing Accuracy\": 0.10499999999999998}, {\"K\": 45, \"Training Accuracy\": 0.11399999999999999, \"Testing Accuracy\": 0.10399999999999998}, {\"K\": 46, \"Training Accuracy\": 0.11399999999999999, \"Testing Accuracy\": 0.10399999999999998}, {\"K\": 47, \"Training Accuracy\": 0.11599999999999999, \"Testing Accuracy\": 0.10499999999999998}, {\"K\": 48, \"Training Accuracy\": 0.11399999999999999, \"Testing Accuracy\": 0.10599999999999998}, {\"K\": 49, \"Training Accuracy\": 0.11399999999999999, \"Testing Accuracy\": 0.10499999999999998}, {\"K\": 50, \"Training Accuracy\": 0.11099999999999999, \"Testing Accuracy\": 0.10699999999999998}, {\"K\": 51, \"Training Accuracy\": 0.11399999999999999, \"Testing Accuracy\": 0.10599999999999998}, {\"K\": 52, \"Training Accuracy\": 0.11199999999999999, \"Testing Accuracy\": 0.10999999999999999}, {\"K\": 53, \"Training Accuracy\": 0.11199999999999999, \"Testing Accuracy\": 0.10899999999999999}, {\"K\": 54, \"Training Accuracy\": 0.11199999999999999, \"Testing Accuracy\": 0.10899999999999999}, {\"K\": 55, \"Training Accuracy\": 0.11099999999999999, \"Testing Accuracy\": 0.10799999999999998}, {\"K\": 56, \"Training Accuracy\": 0.10999999999999999, \"Testing Accuracy\": 0.10999999999999999}, {\"K\": 57, \"Training Accuracy\": 0.11099999999999999, \"Testing Accuracy\": 0.10899999999999999}, {\"K\": 58, \"Training Accuracy\": 0.10899999999999999, \"Testing Accuracy\": 0.10799999999999998}, {\"K\": 59, \"Training Accuracy\": 0.11099999999999999, \"Testing Accuracy\": 0.10599999999999998}, {\"K\": 60, \"Training Accuracy\": 0.11199999999999999, \"Testing Accuracy\": 0.10599999999999998}, {\"K\": 61, \"Training Accuracy\": 0.11099999999999999, \"Testing Accuracy\": 0.10799999999999998}, {\"K\": 62, \"Training Accuracy\": 0.11099999999999999, \"Testing Accuracy\": 0.10399999999999998}, {\"K\": 63, \"Training Accuracy\": 0.11199999999999999, \"Testing Accuracy\": 0.10499999999999998}, {\"K\": 64, \"Training Accuracy\": 0.11299999999999999, \"Testing Accuracy\": 0.10399999999999998}, {\"K\": 65, \"Training Accuracy\": 0.11099999999999999, \"Testing Accuracy\": 0.10499999999999998}, {\"K\": 66, \"Training Accuracy\": 0.11299999999999999, \"Testing Accuracy\": 0.10499999999999998}, {\"K\": 67, \"Training Accuracy\": 0.11299999999999999, \"Testing Accuracy\": 0.10499999999999998}, {\"K\": 68, \"Training Accuracy\": 0.11499999999999999, \"Testing Accuracy\": 0.10599999999999998}, {\"K\": 69, \"Training Accuracy\": 0.11399999999999999, \"Testing Accuracy\": 0.10599999999999998}, {\"K\": 70, \"Training Accuracy\": 0.11399999999999999, \"Testing Accuracy\": 0.10599999999999998}, {\"K\": 71, \"Training Accuracy\": 0.11399999999999999, \"Testing Accuracy\": 0.10699999999999998}, {\"K\": 72, \"Training Accuracy\": 0.11499999999999999, \"Testing Accuracy\": 0.10899999999999999}, {\"K\": 73, \"Training Accuracy\": 0.11399999999999999, \"Testing Accuracy\": 0.10899999999999999}, {\"K\": 74, \"Training Accuracy\": 0.11399999999999999, \"Testing Accuracy\": 0.10699999999999998}, {\"K\": 75, \"Training Accuracy\": 0.11399999999999999, \"Testing Accuracy\": 0.10599999999999998}, {\"K\": 76, \"Training Accuracy\": 0.11399999999999999, \"Testing Accuracy\": 0.10699999999999998}, {\"K\": 77, \"Training Accuracy\": 0.11499999999999999, \"Testing Accuracy\": 0.10799999999999998}, {\"K\": 78, \"Training Accuracy\": 0.11499999999999999, \"Testing Accuracy\": 0.10699999999999998}, {\"K\": 79, \"Training Accuracy\": 0.11599999999999999, \"Testing Accuracy\": 0.10599999999999998}, {\"K\": 80, \"Training Accuracy\": 0.11599999999999999, \"Testing Accuracy\": 0.10699999999999998}, {\"K\": 81, \"Training Accuracy\": 0.11499999999999999, \"Testing Accuracy\": 0.10699999999999998}, {\"K\": 82, \"Training Accuracy\": 0.11499999999999999, \"Testing Accuracy\": 0.10699999999999998}, {\"K\": 83, \"Training Accuracy\": 0.11599999999999999, \"Testing Accuracy\": 0.10599999999999998}, {\"K\": 84, \"Training Accuracy\": 0.11699999999999999, \"Testing Accuracy\": 0.10599999999999998}, {\"K\": 85, \"Training Accuracy\": 0.11399999999999999, \"Testing Accuracy\": 0.10599999999999998}, {\"K\": 86, \"Training Accuracy\": 0.11599999999999999, \"Testing Accuracy\": 0.10499999999999998}, {\"K\": 87, \"Training Accuracy\": 0.11499999999999999, \"Testing Accuracy\": 0.10599999999999998}, {\"K\": 88, \"Training Accuracy\": 0.11399999999999999, \"Testing Accuracy\": 0.10399999999999998}, {\"K\": 89, \"Training Accuracy\": 0.11199999999999999, \"Testing Accuracy\": 0.10299999999999998}, {\"K\": 90, \"Training Accuracy\": 0.11099999999999999, \"Testing Accuracy\": 0.10399999999999998}, {\"K\": 91, \"Training Accuracy\": 0.11199999999999999, \"Testing Accuracy\": 0.10399999999999998}, {\"K\": 92, \"Training Accuracy\": 0.11399999999999999, \"Testing Accuracy\": 0.10299999999999998}, {\"K\": 93, \"Training Accuracy\": 0.11399999999999999, \"Testing Accuracy\": 0.10299999999999998}, {\"K\": 94, \"Training Accuracy\": 0.11399999999999999, \"Testing Accuracy\": 0.10199999999999998}, {\"K\": 95, \"Training Accuracy\": 0.11399999999999999, \"Testing Accuracy\": 0.10299999999999998}, {\"K\": 96, \"Training Accuracy\": 0.11599999999999999, \"Testing Accuracy\": 0.10399999999999998}, {\"K\": 97, \"Training Accuracy\": 0.11499999999999999, \"Testing Accuracy\": 0.10199999999999998}, {\"K\": 98, \"Training Accuracy\": 0.11499999999999999, \"Testing Accuracy\": 0.10199999999999998}, {\"K\": 99, \"Training Accuracy\": 0.11499999999999999, \"Testing Accuracy\": 0.10299999999999998}, {\"K\": 100, \"Training Accuracy\": 0.11599999999999999, \"Testing Accuracy\": 0.10099999999999998}, {\"K\": 101, \"Training Accuracy\": 0.11699999999999999, \"Testing Accuracy\": 0.10399999999999998}, {\"K\": 102, \"Training Accuracy\": 0.11699999999999999, \"Testing Accuracy\": 0.10599999999999998}, {\"K\": 103, \"Training Accuracy\": 0.118, \"Testing Accuracy\": 0.10299999999999998}, {\"K\": 104, \"Training Accuracy\": 0.118, \"Testing Accuracy\": 0.10499999999999998}, {\"K\": 105, \"Training Accuracy\": 0.119, \"Testing Accuracy\": 0.10599999999999998}, {\"K\": 106, \"Training Accuracy\": 0.119, \"Testing Accuracy\": 0.10699999999999998}, {\"K\": 107, \"Training Accuracy\": 0.119, \"Testing Accuracy\": 0.10699999999999998}, {\"K\": 108, \"Training Accuracy\": 0.12, \"Testing Accuracy\": 0.10699999999999998}, {\"K\": 109, \"Training Accuracy\": 0.119, \"Testing Accuracy\": 0.10799999999999998}, {\"K\": 110, \"Training Accuracy\": 0.12, \"Testing Accuracy\": 0.10599999999999998}, {\"K\": 111, \"Training Accuracy\": 0.12, \"Testing Accuracy\": 0.10699999999999998}, {\"K\": 112, \"Training Accuracy\": 0.12, \"Testing Accuracy\": 0.10799999999999998}, {\"K\": 113, \"Training Accuracy\": 0.123, \"Testing Accuracy\": 0.10699999999999998}, {\"K\": 114, \"Training Accuracy\": 0.122, \"Testing Accuracy\": 0.10799999999999998}, {\"K\": 115, \"Training Accuracy\": 0.122, \"Testing Accuracy\": 0.10799999999999998}, {\"K\": 116, \"Training Accuracy\": 0.124, \"Testing Accuracy\": 0.10999999999999999}, {\"K\": 117, \"Training Accuracy\": 0.124, \"Testing Accuracy\": 0.10799999999999998}, {\"K\": 118, \"Training Accuracy\": 0.123, \"Testing Accuracy\": 0.10899999999999999}, {\"K\": 119, \"Training Accuracy\": 0.125, \"Testing Accuracy\": 0.10899999999999999}, {\"K\": 120, \"Training Accuracy\": 0.123, \"Testing Accuracy\": 0.10699999999999998}, {\"K\": 121, \"Training Accuracy\": 0.128, \"Testing Accuracy\": 0.10899999999999999}, {\"K\": 122, \"Training Accuracy\": 0.125, \"Testing Accuracy\": 0.10699999999999998}, {\"K\": 123, \"Training Accuracy\": 0.124, \"Testing Accuracy\": 0.10899999999999999}, {\"K\": 124, \"Training Accuracy\": 0.124, \"Testing Accuracy\": 0.10699999999999998}, {\"K\": 125, \"Training Accuracy\": 0.123, \"Testing Accuracy\": 0.10799999999999998}, {\"K\": 126, \"Training Accuracy\": 0.123, \"Testing Accuracy\": 0.10699999999999998}, {\"K\": 127, \"Training Accuracy\": 0.123, \"Testing Accuracy\": 0.10799999999999998}, {\"K\": 128, \"Training Accuracy\": 0.124, \"Testing Accuracy\": 0.10899999999999999}, {\"K\": 129, \"Training Accuracy\": 0.124, \"Testing Accuracy\": 0.10999999999999999}, {\"K\": 130, \"Training Accuracy\": 0.124, \"Testing Accuracy\": 0.10999999999999999}, {\"K\": 131, \"Training Accuracy\": 0.124, \"Testing Accuracy\": 0.10999999999999999}, {\"K\": 132, \"Training Accuracy\": 0.124, \"Testing Accuracy\": 0.10999999999999999}, {\"K\": 133, \"Training Accuracy\": 0.124, \"Testing Accuracy\": 0.10999999999999999}, {\"K\": 134, \"Training Accuracy\": 0.124, \"Testing Accuracy\": 0.10899999999999999}, {\"K\": 135, \"Training Accuracy\": 0.124, \"Testing Accuracy\": 0.10899999999999999}, {\"K\": 136, \"Training Accuracy\": 0.123, \"Testing Accuracy\": 0.10999999999999999}, {\"K\": 137, \"Training Accuracy\": 0.122, \"Testing Accuracy\": 0.10799999999999998}, {\"K\": 138, \"Training Accuracy\": 0.123, \"Testing Accuracy\": 0.10899999999999999}, {\"K\": 139, \"Training Accuracy\": 0.124, \"Testing Accuracy\": 0.10599999999999998}, {\"K\": 140, \"Training Accuracy\": 0.125, \"Testing Accuracy\": 0.10999999999999999}, {\"K\": 141, \"Training Accuracy\": 0.125, \"Testing Accuracy\": 0.10699999999999998}, {\"K\": 142, \"Training Accuracy\": 0.124, \"Testing Accuracy\": 0.10799999999999998}, {\"K\": 143, \"Training Accuracy\": 0.124, \"Testing Accuracy\": 0.10699999999999998}, {\"K\": 144, \"Training Accuracy\": 0.124, \"Testing Accuracy\": 0.10699999999999998}, {\"K\": 145, \"Training Accuracy\": 0.125, \"Testing Accuracy\": 0.10699999999999998}, {\"K\": 146, \"Training Accuracy\": 0.125, \"Testing Accuracy\": 0.10999999999999999}, {\"K\": 147, \"Training Accuracy\": 0.126, \"Testing Accuracy\": 0.10799999999999998}, {\"K\": 148, \"Training Accuracy\": 0.126, \"Testing Accuracy\": 0.10899999999999999}, {\"K\": 149, \"Training Accuracy\": 0.126, \"Testing Accuracy\": 0.10899999999999999}, {\"K\": 150, \"Training Accuracy\": 0.125, \"Testing Accuracy\": 0.10799999999999998}, {\"K\": 151, \"Training Accuracy\": 0.124, \"Testing Accuracy\": 0.10799999999999998}, {\"K\": 152, \"Training Accuracy\": 0.125, \"Testing Accuracy\": 0.11099999999999999}, {\"K\": 153, \"Training Accuracy\": 0.126, \"Testing Accuracy\": 0.10899999999999999}, {\"K\": 154, \"Training Accuracy\": 0.126, \"Testing Accuracy\": 0.11099999999999999}, {\"K\": 155, \"Training Accuracy\": 0.126, \"Testing Accuracy\": 0.10899999999999999}, {\"K\": 156, \"Training Accuracy\": 0.125, \"Testing Accuracy\": 0.10999999999999999}, {\"K\": 157, \"Training Accuracy\": 0.125, \"Testing Accuracy\": 0.10999999999999999}, {\"K\": 158, \"Training Accuracy\": 0.127, \"Testing Accuracy\": 0.10999999999999999}, {\"K\": 159, \"Training Accuracy\": 0.125, \"Testing Accuracy\": 0.10799999999999998}, {\"K\": 160, \"Training Accuracy\": 0.126, \"Testing Accuracy\": 0.10799999999999998}, {\"K\": 161, \"Training Accuracy\": 0.126, \"Testing Accuracy\": 0.10599999999999998}, {\"K\": 162, \"Training Accuracy\": 0.125, \"Testing Accuracy\": 0.10699999999999998}, {\"K\": 163, \"Training Accuracy\": 0.127, \"Testing Accuracy\": 0.10599999999999998}, {\"K\": 164, \"Training Accuracy\": 0.127, \"Testing Accuracy\": 0.10699999999999998}, {\"K\": 165, \"Training Accuracy\": 0.127, \"Testing Accuracy\": 0.10599999999999998}, {\"K\": 166, \"Training Accuracy\": 0.127, \"Testing Accuracy\": 0.10899999999999999}, {\"K\": 167, \"Training Accuracy\": 0.128, \"Testing Accuracy\": 0.10799999999999998}, {\"K\": 168, \"Training Accuracy\": 0.127, \"Testing Accuracy\": 0.11099999999999999}, {\"K\": 169, \"Training Accuracy\": 0.128, \"Testing Accuracy\": 0.10899999999999999}, {\"K\": 170, \"Training Accuracy\": 0.127, \"Testing Accuracy\": 0.10899999999999999}, {\"K\": 171, \"Training Accuracy\": 0.127, \"Testing Accuracy\": 0.10799999999999998}, {\"K\": 172, \"Training Accuracy\": 0.127, \"Testing Accuracy\": 0.10899999999999999}, {\"K\": 173, \"Training Accuracy\": 0.129, \"Testing Accuracy\": 0.10799999999999998}, {\"K\": 174, \"Training Accuracy\": 0.127, \"Testing Accuracy\": 0.10899999999999999}, {\"K\": 175, \"Training Accuracy\": 0.128, \"Testing Accuracy\": 0.10899999999999999}, {\"K\": 176, \"Training Accuracy\": 0.128, \"Testing Accuracy\": 0.10999999999999999}, {\"K\": 177, \"Training Accuracy\": 0.129, \"Testing Accuracy\": 0.10999999999999999}, {\"K\": 178, \"Training Accuracy\": 0.129, \"Testing Accuracy\": 0.10999999999999999}, {\"K\": 179, \"Training Accuracy\": 0.129, \"Testing Accuracy\": 0.10999999999999999}, {\"K\": 180, \"Training Accuracy\": 0.129, \"Testing Accuracy\": 0.10999999999999999}, {\"K\": 181, \"Training Accuracy\": 0.129, \"Testing Accuracy\": 0.10999999999999999}, {\"K\": 182, \"Training Accuracy\": 0.129, \"Testing Accuracy\": 0.10999999999999999}, {\"K\": 183, \"Training Accuracy\": 0.129, \"Testing Accuracy\": 0.10999999999999999}, {\"K\": 184, \"Training Accuracy\": 0.129, \"Testing Accuracy\": 0.10999999999999999}, {\"K\": 185, \"Training Accuracy\": 0.129, \"Testing Accuracy\": 0.10999999999999999}, {\"K\": 186, \"Training Accuracy\": 0.129, \"Testing Accuracy\": 0.10999999999999999}, {\"K\": 187, \"Training Accuracy\": 0.128, \"Testing Accuracy\": 0.10999999999999999}, {\"K\": 188, \"Training Accuracy\": 0.129, \"Testing Accuracy\": 0.10999999999999999}, {\"K\": 189, \"Training Accuracy\": 0.129, \"Testing Accuracy\": 0.11099999999999999}, {\"K\": 190, \"Training Accuracy\": 0.129, \"Testing Accuracy\": 0.11099999999999999}, {\"K\": 191, \"Training Accuracy\": 0.129, \"Testing Accuracy\": 0.11099999999999999}, {\"K\": 192, \"Training Accuracy\": 0.129, \"Testing Accuracy\": 0.11099999999999999}, {\"K\": 193, \"Training Accuracy\": 0.128, \"Testing Accuracy\": 0.11099999999999999}, {\"K\": 194, \"Training Accuracy\": 0.13, \"Testing Accuracy\": 0.11099999999999999}, {\"K\": 195, \"Training Accuracy\": 0.128, \"Testing Accuracy\": 0.11099999999999999}, {\"K\": 196, \"Training Accuracy\": 0.128, \"Testing Accuracy\": 0.11099999999999999}, {\"K\": 197, \"Training Accuracy\": 0.128, \"Testing Accuracy\": 0.11299999999999999}, {\"K\": 198, \"Training Accuracy\": 0.129, \"Testing Accuracy\": 0.11299999999999999}, {\"K\": 199, \"Training Accuracy\": 0.129, \"Testing Accuracy\": 0.11299999999999999}, {\"K\": 200, \"Training Accuracy\": 0.129, \"Testing Accuracy\": 0.11299999999999999}, {\"K\": 201, \"Training Accuracy\": 0.129, \"Testing Accuracy\": 0.11299999999999999}, {\"K\": 202, \"Training Accuracy\": 0.129, \"Testing Accuracy\": 0.11199999999999999}, {\"K\": 203, \"Training Accuracy\": 0.129, \"Testing Accuracy\": 0.11299999999999999}, {\"K\": 204, \"Training Accuracy\": 0.129, \"Testing Accuracy\": 0.11299999999999999}, {\"K\": 205, \"Training Accuracy\": 0.129, \"Testing Accuracy\": 0.11299999999999999}, {\"K\": 206, \"Training Accuracy\": 0.129, \"Testing Accuracy\": 0.11399999999999999}, {\"K\": 207, \"Training Accuracy\": 0.129, \"Testing Accuracy\": 0.11399999999999999}, {\"K\": 208, \"Training Accuracy\": 0.129, \"Testing Accuracy\": 0.11599999999999999}, {\"K\": 209, \"Training Accuracy\": 0.129, \"Testing Accuracy\": 0.11599999999999999}, {\"K\": 210, \"Training Accuracy\": 0.129, \"Testing Accuracy\": 0.11699999999999999}, {\"K\": 211, \"Training Accuracy\": 0.128, \"Testing Accuracy\": 0.11499999999999999}, {\"K\": 212, \"Training Accuracy\": 0.129, \"Testing Accuracy\": 0.11599999999999999}, {\"K\": 213, \"Training Accuracy\": 0.128, \"Testing Accuracy\": 0.11599999999999999}, {\"K\": 214, \"Training Accuracy\": 0.127, \"Testing Accuracy\": 0.11699999999999999}, {\"K\": 215, \"Training Accuracy\": 0.128, \"Testing Accuracy\": 0.11399999999999999}, {\"K\": 216, \"Training Accuracy\": 0.13, \"Testing Accuracy\": 0.11599999999999999}, {\"K\": 217, \"Training Accuracy\": 0.13, \"Testing Accuracy\": 0.11299999999999999}, {\"K\": 218, \"Training Accuracy\": 0.13, \"Testing Accuracy\": 0.11599999999999999}, {\"K\": 219, \"Training Accuracy\": 0.13, \"Testing Accuracy\": 0.11399999999999999}, {\"K\": 220, \"Training Accuracy\": 0.13, \"Testing Accuracy\": 0.11499999999999999}, {\"K\": 221, \"Training Accuracy\": 0.13, \"Testing Accuracy\": 0.11299999999999999}, {\"K\": 222, \"Training Accuracy\": 0.129, \"Testing Accuracy\": 0.11399999999999999}, {\"K\": 223, \"Training Accuracy\": 0.13, \"Testing Accuracy\": 0.11299999999999999}, {\"K\": 224, \"Training Accuracy\": 0.129, \"Testing Accuracy\": 0.11299999999999999}, {\"K\": 225, \"Training Accuracy\": 0.13, \"Testing Accuracy\": 0.11299999999999999}, {\"K\": 226, \"Training Accuracy\": 0.129, \"Testing Accuracy\": 0.11299999999999999}, {\"K\": 227, \"Training Accuracy\": 0.129, \"Testing Accuracy\": 0.11299999999999999}, {\"K\": 228, \"Training Accuracy\": 0.129, \"Testing Accuracy\": 0.11299999999999999}, {\"K\": 229, \"Training Accuracy\": 0.129, \"Testing Accuracy\": 0.11399999999999999}, {\"K\": 230, \"Training Accuracy\": 0.129, \"Testing Accuracy\": 0.11399999999999999}, {\"K\": 231, \"Training Accuracy\": 0.129, \"Testing Accuracy\": 0.11399999999999999}, {\"K\": 232, \"Training Accuracy\": 0.13, \"Testing Accuracy\": 0.11399999999999999}, {\"K\": 233, \"Training Accuracy\": 0.129, \"Testing Accuracy\": 0.11399999999999999}, {\"K\": 234, \"Training Accuracy\": 0.129, \"Testing Accuracy\": 0.11499999999999999}, {\"K\": 235, \"Training Accuracy\": 0.129, \"Testing Accuracy\": 0.11399999999999999}, {\"K\": 236, \"Training Accuracy\": 0.129, \"Testing Accuracy\": 0.11499999999999999}, {\"K\": 237, \"Training Accuracy\": 0.128, \"Testing Accuracy\": 0.11399999999999999}, {\"K\": 238, \"Training Accuracy\": 0.13, \"Testing Accuracy\": 0.11499999999999999}, {\"K\": 239, \"Training Accuracy\": 0.129, \"Testing Accuracy\": 0.11499999999999999}, {\"K\": 240, \"Training Accuracy\": 0.129, \"Testing Accuracy\": 0.11499999999999999}, {\"K\": 241, \"Training Accuracy\": 0.129, \"Testing Accuracy\": 0.11499999999999999}, {\"K\": 242, \"Training Accuracy\": 0.129, \"Testing Accuracy\": 0.11499999999999999}, {\"K\": 243, \"Training Accuracy\": 0.129, \"Testing Accuracy\": 0.11499999999999999}, {\"K\": 244, \"Training Accuracy\": 0.129, \"Testing Accuracy\": 0.11499999999999999}, {\"K\": 245, \"Training Accuracy\": 0.129, \"Testing Accuracy\": 0.11499999999999999}, {\"K\": 246, \"Training Accuracy\": 0.129, \"Testing Accuracy\": 0.11399999999999999}, {\"K\": 247, \"Training Accuracy\": 0.129, \"Testing Accuracy\": 0.11499999999999999}, {\"K\": 248, \"Training Accuracy\": 0.129, \"Testing Accuracy\": 0.11399999999999999}, {\"K\": 249, \"Training Accuracy\": 0.13, \"Testing Accuracy\": 0.11499999999999999}, {\"K\": 250, \"Training Accuracy\": 0.13, \"Testing Accuracy\": 0.11399999999999999}, {\"K\": 251, \"Training Accuracy\": 0.13, \"Testing Accuracy\": 0.11499999999999999}, {\"K\": 252, \"Training Accuracy\": 0.13, \"Testing Accuracy\": 0.11399999999999999}, {\"K\": 253, \"Training Accuracy\": 0.13, \"Testing Accuracy\": 0.11499999999999999}, {\"K\": 254, \"Training Accuracy\": 0.13, \"Testing Accuracy\": 0.11499999999999999}, {\"K\": 255, \"Training Accuracy\": 0.13, \"Testing Accuracy\": 0.11499999999999999}, {\"K\": 256, \"Training Accuracy\": 0.13, \"Testing Accuracy\": 0.11399999999999999}, {\"K\": 257, \"Training Accuracy\": 0.13, \"Testing Accuracy\": 0.11399999999999999}, {\"K\": 258, \"Training Accuracy\": 0.13, \"Testing Accuracy\": 0.11399999999999999}, {\"K\": 259, \"Training Accuracy\": 0.13, \"Testing Accuracy\": 0.11399999999999999}, {\"K\": 260, \"Training Accuracy\": 0.13, \"Testing Accuracy\": 0.11399999999999999}, {\"K\": 261, \"Training Accuracy\": 0.13, \"Testing Accuracy\": 0.11399999999999999}, {\"K\": 262, \"Training Accuracy\": 0.13, \"Testing Accuracy\": 0.11399999999999999}, {\"K\": 263, \"Training Accuracy\": 0.13, \"Testing Accuracy\": 0.11499999999999999}, {\"K\": 264, \"Training Accuracy\": 0.13, \"Testing Accuracy\": 0.11599999999999999}, {\"K\": 265, \"Training Accuracy\": 0.13, \"Testing Accuracy\": 0.11499999999999999}, {\"K\": 266, \"Training Accuracy\": 0.13, \"Testing Accuracy\": 0.11499999999999999}, {\"K\": 267, \"Training Accuracy\": 0.13, \"Testing Accuracy\": 0.11599999999999999}, {\"K\": 268, \"Training Accuracy\": 0.13, \"Testing Accuracy\": 0.118}, {\"K\": 269, \"Training Accuracy\": 0.131, \"Testing Accuracy\": 0.11699999999999999}, {\"K\": 270, \"Training Accuracy\": 0.13, \"Testing Accuracy\": 0.118}, {\"K\": 271, \"Training Accuracy\": 0.131, \"Testing Accuracy\": 0.118}, {\"K\": 272, \"Training Accuracy\": 0.131, \"Testing Accuracy\": 0.119}, {\"K\": 273, \"Training Accuracy\": 0.131, \"Testing Accuracy\": 0.118}, {\"K\": 274, \"Training Accuracy\": 0.131, \"Testing Accuracy\": 0.118}, {\"K\": 275, \"Training Accuracy\": 0.131, \"Testing Accuracy\": 0.118}, {\"K\": 276, \"Training Accuracy\": 0.131, \"Testing Accuracy\": 0.118}, {\"K\": 277, \"Training Accuracy\": 0.131, \"Testing Accuracy\": 0.119}, {\"K\": 278, \"Training Accuracy\": 0.132, \"Testing Accuracy\": 0.119}, {\"K\": 279, \"Training Accuracy\": 0.132, \"Testing Accuracy\": 0.119}, {\"K\": 280, \"Training Accuracy\": 0.132, \"Testing Accuracy\": 0.119}, {\"K\": 281, \"Training Accuracy\": 0.132, \"Testing Accuracy\": 0.119}, {\"K\": 282, \"Training Accuracy\": 0.132, \"Testing Accuracy\": 0.119}, {\"K\": 283, \"Training Accuracy\": 0.134, \"Testing Accuracy\": 0.11699999999999999}, {\"K\": 284, \"Training Accuracy\": 0.133, \"Testing Accuracy\": 0.119}, {\"K\": 285, \"Training Accuracy\": 0.134, \"Testing Accuracy\": 0.11599999999999999}, {\"K\": 286, \"Training Accuracy\": 0.134, \"Testing Accuracy\": 0.12}, {\"K\": 287, \"Training Accuracy\": 0.135, \"Testing Accuracy\": 0.119}, {\"K\": 288, \"Training Accuracy\": 0.136, \"Testing Accuracy\": 0.12}, {\"K\": 289, \"Training Accuracy\": 0.136, \"Testing Accuracy\": 0.12}, {\"K\": 290, \"Training Accuracy\": 0.135, \"Testing Accuracy\": 0.12}, {\"K\": 291, \"Training Accuracy\": 0.136, \"Testing Accuracy\": 0.119}, {\"K\": 292, \"Training Accuracy\": 0.135, \"Testing Accuracy\": 0.12}, {\"K\": 293, \"Training Accuracy\": 0.136, \"Testing Accuracy\": 0.12}, {\"K\": 294, \"Training Accuracy\": 0.135, \"Testing Accuracy\": 0.12}, {\"K\": 295, \"Training Accuracy\": 0.135, \"Testing Accuracy\": 0.118}, {\"K\": 296, \"Training Accuracy\": 0.135, \"Testing Accuracy\": 0.119}, {\"K\": 297, \"Training Accuracy\": 0.136, \"Testing Accuracy\": 0.118}, {\"K\": 298, \"Training Accuracy\": 0.136, \"Testing Accuracy\": 0.119}, {\"K\": 299, \"Training Accuracy\": 0.136, \"Testing Accuracy\": 0.119}, {\"K\": 300, \"Training Accuracy\": 0.136, \"Testing Accuracy\": 0.121}, {\"K\": 301, \"Training Accuracy\": 0.136, \"Testing Accuracy\": 0.121}, {\"K\": 302, \"Training Accuracy\": 0.135, \"Testing Accuracy\": 0.121}, {\"K\": 303, \"Training Accuracy\": 0.135, \"Testing Accuracy\": 0.121}, {\"K\": 304, \"Training Accuracy\": 0.135, \"Testing Accuracy\": 0.121}, {\"K\": 305, \"Training Accuracy\": 0.136, \"Testing Accuracy\": 0.12}, {\"K\": 306, \"Training Accuracy\": 0.137, \"Testing Accuracy\": 0.121}, {\"K\": 307, \"Training Accuracy\": 0.138, \"Testing Accuracy\": 0.121}, {\"K\": 308, \"Training Accuracy\": 0.138, \"Testing Accuracy\": 0.121}, {\"K\": 309, \"Training Accuracy\": 0.138, \"Testing Accuracy\": 0.122}, {\"K\": 310, \"Training Accuracy\": 0.138, \"Testing Accuracy\": 0.123}, {\"K\": 311, \"Training Accuracy\": 0.138, \"Testing Accuracy\": 0.122}, {\"K\": 312, \"Training Accuracy\": 0.139, \"Testing Accuracy\": 0.123}, {\"K\": 313, \"Training Accuracy\": 0.138, \"Testing Accuracy\": 0.123}, {\"K\": 314, \"Training Accuracy\": 0.138, \"Testing Accuracy\": 0.123}, {\"K\": 315, \"Training Accuracy\": 0.139, \"Testing Accuracy\": 0.124}, {\"K\": 316, \"Training Accuracy\": 0.138, \"Testing Accuracy\": 0.124}, {\"K\": 317, \"Training Accuracy\": 0.137, \"Testing Accuracy\": 0.123}, {\"K\": 318, \"Training Accuracy\": 0.137, \"Testing Accuracy\": 0.123}, {\"K\": 319, \"Training Accuracy\": 0.137, \"Testing Accuracy\": 0.123}, {\"K\": 320, \"Training Accuracy\": 0.138, \"Testing Accuracy\": 0.123}, {\"K\": 321, \"Training Accuracy\": 0.138, \"Testing Accuracy\": 0.123}, {\"K\": 322, \"Training Accuracy\": 0.138, \"Testing Accuracy\": 0.123}, {\"K\": 323, \"Training Accuracy\": 0.137, \"Testing Accuracy\": 0.123}, {\"K\": 324, \"Training Accuracy\": 0.137, \"Testing Accuracy\": 0.123}, {\"K\": 325, \"Training Accuracy\": 0.139, \"Testing Accuracy\": 0.124}, {\"K\": 326, \"Training Accuracy\": 0.139, \"Testing Accuracy\": 0.124}, {\"K\": 327, \"Training Accuracy\": 0.139, \"Testing Accuracy\": 0.123}, {\"K\": 328, \"Training Accuracy\": 0.14, \"Testing Accuracy\": 0.124}, {\"K\": 329, \"Training Accuracy\": 0.139, \"Testing Accuracy\": 0.124}, {\"K\": 330, \"Training Accuracy\": 0.14, \"Testing Accuracy\": 0.125}, {\"K\": 331, \"Training Accuracy\": 0.14, \"Testing Accuracy\": 0.123}, {\"K\": 332, \"Training Accuracy\": 0.14, \"Testing Accuracy\": 0.125}, {\"K\": 333, \"Training Accuracy\": 0.14, \"Testing Accuracy\": 0.124}, {\"K\": 334, \"Training Accuracy\": 0.14, \"Testing Accuracy\": 0.127}, {\"K\": 335, \"Training Accuracy\": 0.14, \"Testing Accuracy\": 0.127}, {\"K\": 336, \"Training Accuracy\": 0.14, \"Testing Accuracy\": 0.127}, {\"K\": 337, \"Training Accuracy\": 0.14, \"Testing Accuracy\": 0.126}, {\"K\": 338, \"Training Accuracy\": 0.14, \"Testing Accuracy\": 0.126}, {\"K\": 339, \"Training Accuracy\": 0.14, \"Testing Accuracy\": 0.126}, {\"K\": 340, \"Training Accuracy\": 0.14100000000000001, \"Testing Accuracy\": 0.126}, {\"K\": 341, \"Training Accuracy\": 0.14, \"Testing Accuracy\": 0.127}, {\"K\": 342, \"Training Accuracy\": 0.14100000000000001, \"Testing Accuracy\": 0.127}, {\"K\": 343, \"Training Accuracy\": 0.14100000000000001, \"Testing Accuracy\": 0.127}, {\"K\": 344, \"Training Accuracy\": 0.14200000000000002, \"Testing Accuracy\": 0.128}, {\"K\": 345, \"Training Accuracy\": 0.14200000000000002, \"Testing Accuracy\": 0.128}, {\"K\": 346, \"Training Accuracy\": 0.14100000000000001, \"Testing Accuracy\": 0.128}, {\"K\": 347, \"Training Accuracy\": 0.14200000000000002, \"Testing Accuracy\": 0.128}, {\"K\": 348, \"Training Accuracy\": 0.14100000000000001, \"Testing Accuracy\": 0.128}, {\"K\": 349, \"Training Accuracy\": 0.14300000000000002, \"Testing Accuracy\": 0.128}, {\"K\": 350, \"Training Accuracy\": 0.14200000000000002, \"Testing Accuracy\": 0.128}, {\"K\": 351, \"Training Accuracy\": 0.14300000000000002, \"Testing Accuracy\": 0.128}, {\"K\": 352, \"Training Accuracy\": 0.14100000000000001, \"Testing Accuracy\": 0.128}, {\"K\": 353, \"Training Accuracy\": 0.14200000000000002, \"Testing Accuracy\": 0.127}, {\"K\": 354, \"Training Accuracy\": 0.14200000000000002, \"Testing Accuracy\": 0.128}, {\"K\": 355, \"Training Accuracy\": 0.14, \"Testing Accuracy\": 0.127}, {\"K\": 356, \"Training Accuracy\": 0.14100000000000001, \"Testing Accuracy\": 0.128}, {\"K\": 357, \"Training Accuracy\": 0.14200000000000002, \"Testing Accuracy\": 0.127}, {\"K\": 358, \"Training Accuracy\": 0.14200000000000002, \"Testing Accuracy\": 0.129}, {\"K\": 359, \"Training Accuracy\": 0.14300000000000002, \"Testing Accuracy\": 0.128}, {\"K\": 360, \"Training Accuracy\": 0.14200000000000002, \"Testing Accuracy\": 0.129}, {\"K\": 361, \"Training Accuracy\": 0.14300000000000002, \"Testing Accuracy\": 0.13}, {\"K\": 362, \"Training Accuracy\": 0.14300000000000002, \"Testing Accuracy\": 0.13}, {\"K\": 363, \"Training Accuracy\": 0.14400000000000002, \"Testing Accuracy\": 0.13}, {\"K\": 364, \"Training Accuracy\": 0.14400000000000002, \"Testing Accuracy\": 0.13}, {\"K\": 365, \"Training Accuracy\": 0.14500000000000002, \"Testing Accuracy\": 0.13}, {\"K\": 366, \"Training Accuracy\": 0.14400000000000002, \"Testing Accuracy\": 0.13}, {\"K\": 367, \"Training Accuracy\": 0.14400000000000002, \"Testing Accuracy\": 0.13}, {\"K\": 368, \"Training Accuracy\": 0.14400000000000002, \"Testing Accuracy\": 0.13}, {\"K\": 369, \"Training Accuracy\": 0.14300000000000002, \"Testing Accuracy\": 0.13}, {\"K\": 370, \"Training Accuracy\": 0.14300000000000002, \"Testing Accuracy\": 0.13}, {\"K\": 371, \"Training Accuracy\": 0.14700000000000002, \"Testing Accuracy\": 0.131}, {\"K\": 372, \"Training Accuracy\": 0.14400000000000002, \"Testing Accuracy\": 0.131}, {\"K\": 373, \"Training Accuracy\": 0.14700000000000002, \"Testing Accuracy\": 0.132}, {\"K\": 374, \"Training Accuracy\": 0.14600000000000002, \"Testing Accuracy\": 0.131}, {\"K\": 375, \"Training Accuracy\": 0.14700000000000002, \"Testing Accuracy\": 0.131}, {\"K\": 376, \"Training Accuracy\": 0.14600000000000002, \"Testing Accuracy\": 0.132}, {\"K\": 377, \"Training Accuracy\": 0.14600000000000002, \"Testing Accuracy\": 0.133}, {\"K\": 378, \"Training Accuracy\": 0.14700000000000002, \"Testing Accuracy\": 0.131}, {\"K\": 379, \"Training Accuracy\": 0.14700000000000002, \"Testing Accuracy\": 0.135}, {\"K\": 380, \"Training Accuracy\": 0.14700000000000002, \"Testing Accuracy\": 0.134}, {\"K\": 381, \"Training Accuracy\": 0.14700000000000002, \"Testing Accuracy\": 0.137}, {\"K\": 382, \"Training Accuracy\": 0.14700000000000002, \"Testing Accuracy\": 0.135}, {\"K\": 383, \"Training Accuracy\": 0.14700000000000002, \"Testing Accuracy\": 0.137}, {\"K\": 384, \"Training Accuracy\": 0.14700000000000002, \"Testing Accuracy\": 0.136}, {\"K\": 385, \"Training Accuracy\": 0.14700000000000002, \"Testing Accuracy\": 0.136}, {\"K\": 386, \"Training Accuracy\": 0.14700000000000002, \"Testing Accuracy\": 0.136}, {\"K\": 387, \"Training Accuracy\": 0.14700000000000002, \"Testing Accuracy\": 0.136}, {\"K\": 388, \"Training Accuracy\": 0.14700000000000002, \"Testing Accuracy\": 0.137}, {\"K\": 389, \"Training Accuracy\": 0.14700000000000002, \"Testing Accuracy\": 0.138}, {\"K\": 390, \"Training Accuracy\": 0.14700000000000002, \"Testing Accuracy\": 0.138}, {\"K\": 391, \"Training Accuracy\": 0.14700000000000002, \"Testing Accuracy\": 0.139}, {\"K\": 392, \"Training Accuracy\": 0.14700000000000002, \"Testing Accuracy\": 0.138}, {\"K\": 393, \"Training Accuracy\": 0.14700000000000002, \"Testing Accuracy\": 0.139}, {\"K\": 394, \"Training Accuracy\": 0.14700000000000002, \"Testing Accuracy\": 0.137}, {\"K\": 395, \"Training Accuracy\": 0.14700000000000002, \"Testing Accuracy\": 0.138}, {\"K\": 396, \"Training Accuracy\": 0.14700000000000002, \"Testing Accuracy\": 0.136}, {\"K\": 397, \"Training Accuracy\": 0.14700000000000002, \"Testing Accuracy\": 0.138}, {\"K\": 398, \"Training Accuracy\": 0.14700000000000002, \"Testing Accuracy\": 0.138}, {\"K\": 399, \"Training Accuracy\": 0.14600000000000002, \"Testing Accuracy\": 0.137}, {\"K\": 400, \"Training Accuracy\": 0.14700000000000002, \"Testing Accuracy\": 0.137}, {\"K\": 401, \"Training Accuracy\": 0.14700000000000002, \"Testing Accuracy\": 0.137}, {\"K\": 402, \"Training Accuracy\": 0.14800000000000002, \"Testing Accuracy\": 0.137}, {\"K\": 403, \"Training Accuracy\": 0.14700000000000002, \"Testing Accuracy\": 0.138}, {\"K\": 404, \"Training Accuracy\": 0.14800000000000002, \"Testing Accuracy\": 0.137}, {\"K\": 405, \"Training Accuracy\": 0.14800000000000002, \"Testing Accuracy\": 0.137}, {\"K\": 406, \"Training Accuracy\": 0.15000000000000002, \"Testing Accuracy\": 0.136}, {\"K\": 407, \"Training Accuracy\": 0.14800000000000002, \"Testing Accuracy\": 0.137}, {\"K\": 408, \"Training Accuracy\": 0.14800000000000002, \"Testing Accuracy\": 0.137}, {\"K\": 409, \"Training Accuracy\": 0.14800000000000002, \"Testing Accuracy\": 0.138}, {\"K\": 410, \"Training Accuracy\": 0.14800000000000002, \"Testing Accuracy\": 0.137}, {\"K\": 411, \"Training Accuracy\": 0.14800000000000002, \"Testing Accuracy\": 0.138}, {\"K\": 412, \"Training Accuracy\": 0.14900000000000002, \"Testing Accuracy\": 0.139}, {\"K\": 413, \"Training Accuracy\": 0.14800000000000002, \"Testing Accuracy\": 0.139}, {\"K\": 414, \"Training Accuracy\": 0.14900000000000002, \"Testing Accuracy\": 0.139}, {\"K\": 415, \"Training Accuracy\": 0.14900000000000002, \"Testing Accuracy\": 0.139}, {\"K\": 416, \"Training Accuracy\": 0.15000000000000002, \"Testing Accuracy\": 0.139}, {\"K\": 417, \"Training Accuracy\": 0.15000000000000002, \"Testing Accuracy\": 0.139}, {\"K\": 418, \"Training Accuracy\": 0.15000000000000002, \"Testing Accuracy\": 0.139}, {\"K\": 419, \"Training Accuracy\": 0.15000000000000002, \"Testing Accuracy\": 0.139}, {\"K\": 420, \"Training Accuracy\": 0.15000000000000002, \"Testing Accuracy\": 0.139}, {\"K\": 421, \"Training Accuracy\": 0.15100000000000002, \"Testing Accuracy\": 0.14}, {\"K\": 422, \"Training Accuracy\": 0.15100000000000002, \"Testing Accuracy\": 0.14}, {\"K\": 423, \"Training Accuracy\": 0.15300000000000002, \"Testing Accuracy\": 0.14100000000000001}, {\"K\": 424, \"Training Accuracy\": 0.15200000000000002, \"Testing Accuracy\": 0.14100000000000001}, {\"K\": 425, \"Training Accuracy\": 0.15300000000000002, \"Testing Accuracy\": 0.14100000000000001}, {\"K\": 426, \"Training Accuracy\": 0.15200000000000002, \"Testing Accuracy\": 0.14100000000000001}, {\"K\": 427, \"Training Accuracy\": 0.15300000000000002, \"Testing Accuracy\": 0.14100000000000001}, {\"K\": 428, \"Training Accuracy\": 0.15300000000000002, \"Testing Accuracy\": 0.14200000000000002}, {\"K\": 429, \"Training Accuracy\": 0.15600000000000003, \"Testing Accuracy\": 0.14200000000000002}, {\"K\": 430, \"Training Accuracy\": 0.15600000000000003, \"Testing Accuracy\": 0.14300000000000002}, {\"K\": 431, \"Training Accuracy\": 0.15600000000000003, \"Testing Accuracy\": 0.14300000000000002}, {\"K\": 432, \"Training Accuracy\": 0.15700000000000003, \"Testing Accuracy\": 0.14400000000000002}, {\"K\": 433, \"Training Accuracy\": 0.15600000000000003, \"Testing Accuracy\": 0.14400000000000002}, {\"K\": 434, \"Training Accuracy\": 0.15900000000000003, \"Testing Accuracy\": 0.14400000000000002}, {\"K\": 435, \"Training Accuracy\": 0.15700000000000003, \"Testing Accuracy\": 0.14400000000000002}, {\"K\": 436, \"Training Accuracy\": 0.15900000000000003, \"Testing Accuracy\": 0.14400000000000002}, {\"K\": 437, \"Training Accuracy\": 0.15800000000000003, \"Testing Accuracy\": 0.14600000000000002}, {\"K\": 438, \"Training Accuracy\": 0.15800000000000003, \"Testing Accuracy\": 0.14600000000000002}, {\"K\": 439, \"Training Accuracy\": 0.15900000000000003, \"Testing Accuracy\": 0.14500000000000002}, {\"K\": 440, \"Training Accuracy\": 0.15800000000000003, \"Testing Accuracy\": 0.14400000000000002}, {\"K\": 441, \"Training Accuracy\": 0.15800000000000003, \"Testing Accuracy\": 0.14500000000000002}, {\"K\": 442, \"Training Accuracy\": 0.15800000000000003, \"Testing Accuracy\": 0.14600000000000002}, {\"K\": 443, \"Training Accuracy\": 0.15800000000000003, \"Testing Accuracy\": 0.14500000000000002}, {\"K\": 444, \"Training Accuracy\": 0.16000000000000003, \"Testing Accuracy\": 0.14700000000000002}, {\"K\": 445, \"Training Accuracy\": 0.15900000000000003, \"Testing Accuracy\": 0.14600000000000002}, {\"K\": 446, \"Training Accuracy\": 0.16200000000000003, \"Testing Accuracy\": 0.14800000000000002}, {\"K\": 447, \"Training Accuracy\": 0.16300000000000003, \"Testing Accuracy\": 0.14700000000000002}, {\"K\": 448, \"Training Accuracy\": 0.16300000000000003, \"Testing Accuracy\": 0.14800000000000002}, {\"K\": 449, \"Training Accuracy\": 0.16200000000000003, \"Testing Accuracy\": 0.14900000000000002}, {\"K\": 450, \"Training Accuracy\": 0.16100000000000003, \"Testing Accuracy\": 0.15100000000000002}, {\"K\": 451, \"Training Accuracy\": 0.16400000000000003, \"Testing Accuracy\": 0.15100000000000002}, {\"K\": 452, \"Training Accuracy\": 0.16500000000000004, \"Testing Accuracy\": 0.15100000000000002}, {\"K\": 453, \"Training Accuracy\": 0.16500000000000004, \"Testing Accuracy\": 0.15100000000000002}, {\"K\": 454, \"Training Accuracy\": 0.16400000000000003, \"Testing Accuracy\": 0.15200000000000002}, {\"K\": 455, \"Training Accuracy\": 0.16500000000000004, \"Testing Accuracy\": 0.15200000000000002}, {\"K\": 456, \"Training Accuracy\": 0.16400000000000003, \"Testing Accuracy\": 0.15200000000000002}, {\"K\": 457, \"Training Accuracy\": 0.16500000000000004, \"Testing Accuracy\": 0.15200000000000002}, {\"K\": 458, \"Training Accuracy\": 0.16600000000000004, \"Testing Accuracy\": 0.15300000000000002}, {\"K\": 459, \"Training Accuracy\": 0.16600000000000004, \"Testing Accuracy\": 0.15500000000000003}, {\"K\": 460, \"Training Accuracy\": 0.16700000000000004, \"Testing Accuracy\": 0.15500000000000003}, {\"K\": 461, \"Training Accuracy\": 0.16700000000000004, \"Testing Accuracy\": 0.15700000000000003}, {\"K\": 462, \"Training Accuracy\": 0.16700000000000004, \"Testing Accuracy\": 0.15700000000000003}, {\"K\": 463, \"Training Accuracy\": 0.16900000000000004, \"Testing Accuracy\": 0.15800000000000003}, {\"K\": 464, \"Training Accuracy\": 0.16900000000000004, \"Testing Accuracy\": 0.15700000000000003}, {\"K\": 465, \"Training Accuracy\": 0.16900000000000004, \"Testing Accuracy\": 0.15700000000000003}, {\"K\": 466, \"Training Accuracy\": 0.17000000000000004, \"Testing Accuracy\": 0.15700000000000003}, {\"K\": 467, \"Training Accuracy\": 0.17000000000000004, \"Testing Accuracy\": 0.15700000000000003}, {\"K\": 468, \"Training Accuracy\": 0.17000000000000004, \"Testing Accuracy\": 0.15700000000000003}, {\"K\": 469, \"Training Accuracy\": 0.17000000000000004, \"Testing Accuracy\": 0.15700000000000003}, {\"K\": 470, \"Training Accuracy\": 0.17000000000000004, \"Testing Accuracy\": 0.15900000000000003}, {\"K\": 471, \"Training Accuracy\": 0.17000000000000004, \"Testing Accuracy\": 0.15800000000000003}, {\"K\": 472, \"Training Accuracy\": 0.17000000000000004, \"Testing Accuracy\": 0.15900000000000003}, {\"K\": 473, \"Training Accuracy\": 0.17000000000000004, \"Testing Accuracy\": 0.15900000000000003}, {\"K\": 474, \"Training Accuracy\": 0.17000000000000004, \"Testing Accuracy\": 0.15900000000000003}, {\"K\": 475, \"Training Accuracy\": 0.17100000000000004, \"Testing Accuracy\": 0.15700000000000003}, {\"K\": 476, \"Training Accuracy\": 0.17100000000000004, \"Testing Accuracy\": 0.15900000000000003}, {\"K\": 477, \"Training Accuracy\": 0.17100000000000004, \"Testing Accuracy\": 0.15800000000000003}, {\"K\": 478, \"Training Accuracy\": 0.17100000000000004, \"Testing Accuracy\": 0.16000000000000003}, {\"K\": 479, \"Training Accuracy\": 0.17100000000000004, \"Testing Accuracy\": 0.15800000000000003}, {\"K\": 480, \"Training Accuracy\": 0.17100000000000004, \"Testing Accuracy\": 0.15800000000000003}, {\"K\": 481, \"Training Accuracy\": 0.17000000000000004, \"Testing Accuracy\": 0.15700000000000003}, {\"K\": 482, \"Training Accuracy\": 0.17200000000000004, \"Testing Accuracy\": 0.15800000000000003}, {\"K\": 483, \"Training Accuracy\": 0.17100000000000004, \"Testing Accuracy\": 0.15900000000000003}, {\"K\": 484, \"Training Accuracy\": 0.17100000000000004, \"Testing Accuracy\": 0.16000000000000003}, {\"K\": 485, \"Training Accuracy\": 0.17100000000000004, \"Testing Accuracy\": 0.16000000000000003}, {\"K\": 486, \"Training Accuracy\": 0.17100000000000004, \"Testing Accuracy\": 0.16100000000000003}, {\"K\": 487, \"Training Accuracy\": 0.17100000000000004, \"Testing Accuracy\": 0.16000000000000003}, {\"K\": 488, \"Training Accuracy\": 0.17100000000000004, \"Testing Accuracy\": 0.16200000000000003}, {\"K\": 489, \"Training Accuracy\": 0.17100000000000004, \"Testing Accuracy\": 0.16200000000000003}, {\"K\": 490, \"Training Accuracy\": 0.17100000000000004, \"Testing Accuracy\": 0.16200000000000003}, {\"K\": 491, \"Training Accuracy\": 0.17100000000000004, \"Testing Accuracy\": 0.16200000000000003}, {\"K\": 492, \"Training Accuracy\": 0.17100000000000004, \"Testing Accuracy\": 0.16200000000000003}, {\"K\": 493, \"Training Accuracy\": 0.17100000000000004, \"Testing Accuracy\": 0.16300000000000003}, {\"K\": 494, \"Training Accuracy\": 0.17100000000000004, \"Testing Accuracy\": 0.16300000000000003}, {\"K\": 495, \"Training Accuracy\": 0.17100000000000004, \"Testing Accuracy\": 0.16200000000000003}, {\"K\": 496, \"Training Accuracy\": 0.17100000000000004, \"Testing Accuracy\": 0.16400000000000003}, {\"K\": 497, \"Training Accuracy\": 0.17100000000000004, \"Testing Accuracy\": 0.16400000000000003}, {\"K\": 498, \"Training Accuracy\": 0.17100000000000004, \"Testing Accuracy\": 0.16400000000000003}, {\"K\": 499, \"Training Accuracy\": 0.17100000000000004, \"Testing Accuracy\": 0.16400000000000003}]}}, {\"mode\": \"vega-lite\"});\n",
       "</script>"
      ],
      "text/plain": [
       "alt.LayerChart(...)"
      ]
     },
     "execution_count": 8,
     "metadata": {},
     "output_type": "execute_result"
    }
   ],
   "source": [
    "K_List = [k for k in range(1, 500)]\n",
    "\n",
    "Accuracy_Train = [1 - KNeighborsClassifier(\n",
    "    n_neighbors=k).fit(\n",
    "        X_data,\n",
    "        Y_data).score(\n",
    "            X_data,\n",
    "            Y_data) for k in K_List]\n",
    "\n",
    "Accuracy_Test = [1 - KNeighborsClassifier(\n",
    "    n_neighbors=k).fit(\n",
    "        X_data,\n",
    "        Y_data).score(\n",
    "            X_test,\n",
    "            Y_test) for k in K_List]\n",
    "\n",
    "plot_data = pd.DataFrame(\n",
    "    {'K': K_List, 'Training Accuracy': Accuracy_Train, 'Testing Accuracy': Accuracy_Test})\n",
    "\n",
    "training_plot = alt.Chart(\n",
    "    plot_data).mark_line().encode(\n",
    "        x='K',\n",
    "        y=alt.Y('Training Accuracy', scale=alt.Scale(zero=False)))\n",
    "\n",
    "testing_plot = alt.Chart(\n",
    "    plot_data).mark_line().encode(\n",
    "        x='K',\n",
    "        y=alt.Y('Testing Accuracy', scale=alt.Scale(zero=False)))\n",
    "\n",
    "training_plot + testing_plot\n"
   ]
  },
  {
   "attachments": {},
   "cell_type": "markdown",
   "metadata": {},
   "source": [
    "---\n",
    "\n",
    "## 7\n",
    "**[18 points] Linear regression and nonlinear transformations**. Linear regression can be used to model nonlinear relationships when feature variables are properly transformed to represent the nonlinearities in the data. In this exercise, you're given training and test data contained in files \"A2_Q7_train.csv\" and \"A2_Q7_test.csv\" in the \"data\" folder for this assignment. Your goal is to develop a regression algorithm from the training data that performs well on the test data.\n",
    "\n",
    "*Hint: Use the scikit learn [LinearRegression](http://scikit-learn.org/stable/modules/generated/sklearn.linear_model.LinearRegression.html) module.*\n",
    "\n",
    "**(a)** Create a scatter plot of your training data.\n",
    "\n",
    "**(b)** Estimate a linear regression model ($y = a_0 + a_1 x$) for the training data and calculate both the $R^2$ value and mean square error for the fit of that model for the training data. Also provide the equation representing the estimated model (e.g. $y = a_0 + a_1 x$, but with the estimated coefficients inserted. Consider this your baseline model against which you will compare other model options. *Evaluating performance on the training data is not a measure of how well this model would generalize to unseen data. We will evaluate performance on the test data once we see our models fit the training data decently well.*  \n",
    "\n",
    "**(c)** If features can be nonlinearly transformed, a linear model may incorporate those non-linear feature transformation relationships in the training process. From looking at the scatter plot of the training data, choose a transformation of the predictor variable, $x$ that may make sense for these data. This will be a multiple regression model of the form $y = a_0 + a_1 z_1 + a_2 z_2 + \\ldots + a_n z_n$. Here $z_i$ could be any transformations of x - perhaps it's $\\frac{1}{x}$, $log(x)$, $sin(x)$, $x^k$ (where $k$ is any power of your choosing). Provide the estimated equation for this multiple regression model (e.g. if you chose your predictors to be $z_1 = x$ and $z_2 = log(x)$, your model would be of the form $y = a_0 + a_1 x + a_2 log(x)$. Also provide the $R^2$ and mean square error of the fit for the training data.\n",
    "\n",
    "**(d)** Visualize the model fit to the training data. Using both of the models you created in parts (b) and (c), plot the original data (as a scatter plot) AND the curves representing your models (each as a separate curve) from (b) and (c).\n",
    "\n",
    "**(e)** Now its time to compare your models and evaluate the generalization performance on held out test data. Using the models above from (b) an (c), apply them to the test data and estimate the $R^2$ and mean square error of the test dataset.\n",
    "\n",
    "**(f)** Which models perform better on the training data, and which on the test data? Why?\n",
    "\n",
    "**(g)** Imagine that the test data were significantly different from the training dataset. How might this affect the predictive capability of your model? How would the accuracy of generalization performance be impacted? Why?\n",
    "\n",
    "*To help get you started - here's some code to help you load in the data for this exercise (you'll just need to update the path)*:"
   ]
  },
  {
   "cell_type": "code",
   "execution_count": null,
   "metadata": {},
   "outputs": [],
   "source": [
    "# import numpy as np\n",
    "# import pandas as pd\n",
    "\n",
    "# path = './data/'\n",
    "# train = pd.read_csv(path + 'A2_Q7_train.csv')\n",
    "# test = pd.read_csv(path + 'A2_Q7_test.csv')\n",
    "\n",
    "# x_train = train.x.values\n",
    "# y_train = train.y.values\n",
    "\n",
    "# x_test = test.x.values\n",
    "# y_test = test.y.values"
   ]
  },
  {
   "cell_type": "markdown",
   "metadata": {},
   "source": [
    "**ANSWER**"
   ]
  },
  {
   "attachments": {},
   "cell_type": "markdown",
   "metadata": {},
   "source": [
    "**(a)** Scatter Plot of Training Data"
   ]
  },
  {
   "cell_type": "code",
   "execution_count": 53,
   "metadata": {},
   "outputs": [
    {
     "data": {
      "text/html": [
       "\n",
       "<div id=\"altair-viz-ca695f062dd84496894c14d4bb994350\"></div>\n",
       "<script type=\"text/javascript\">\n",
       "  var VEGA_DEBUG = (typeof VEGA_DEBUG == \"undefined\") ? {} : VEGA_DEBUG;\n",
       "  (function(spec, embedOpt){\n",
       "    let outputDiv = document.currentScript.previousElementSibling;\n",
       "    if (outputDiv.id !== \"altair-viz-ca695f062dd84496894c14d4bb994350\") {\n",
       "      outputDiv = document.getElementById(\"altair-viz-ca695f062dd84496894c14d4bb994350\");\n",
       "    }\n",
       "    const paths = {\n",
       "      \"vega\": \"https://cdn.jsdelivr.net/npm//vega@5?noext\",\n",
       "      \"vega-lib\": \"https://cdn.jsdelivr.net/npm//vega-lib?noext\",\n",
       "      \"vega-lite\": \"https://cdn.jsdelivr.net/npm//vega-lite@4.17.0?noext\",\n",
       "      \"vega-embed\": \"https://cdn.jsdelivr.net/npm//vega-embed@6?noext\",\n",
       "    };\n",
       "\n",
       "    function maybeLoadScript(lib, version) {\n",
       "      var key = `${lib.replace(\"-\", \"\")}_version`;\n",
       "      return (VEGA_DEBUG[key] == version) ?\n",
       "        Promise.resolve(paths[lib]) :\n",
       "        new Promise(function(resolve, reject) {\n",
       "          var s = document.createElement('script');\n",
       "          document.getElementsByTagName(\"head\")[0].appendChild(s);\n",
       "          s.async = true;\n",
       "          s.onload = () => {\n",
       "            VEGA_DEBUG[key] = version;\n",
       "            return resolve(paths[lib]);\n",
       "          };\n",
       "          s.onerror = () => reject(`Error loading script: ${paths[lib]}`);\n",
       "          s.src = paths[lib];\n",
       "        });\n",
       "    }\n",
       "\n",
       "    function showError(err) {\n",
       "      outputDiv.innerHTML = `<div class=\"error\" style=\"color:red;\">${err}</div>`;\n",
       "      throw err;\n",
       "    }\n",
       "\n",
       "    function displayChart(vegaEmbed) {\n",
       "      vegaEmbed(outputDiv, spec, embedOpt)\n",
       "        .catch(err => showError(`Javascript Error: ${err.message}<br>This usually means there's a typo in your chart specification. See the javascript console for the full traceback.`));\n",
       "    }\n",
       "\n",
       "    if(typeof define === \"function\" && define.amd) {\n",
       "      requirejs.config({paths});\n",
       "      require([\"vega-embed\"], displayChart, err => showError(`Error loading script: ${err.message}`));\n",
       "    } else {\n",
       "      maybeLoadScript(\"vega\", \"5\")\n",
       "        .then(() => maybeLoadScript(\"vega-lite\", \"4.17.0\"))\n",
       "        .then(() => maybeLoadScript(\"vega-embed\", \"6\"))\n",
       "        .catch(showError)\n",
       "        .then(() => displayChart(vegaEmbed));\n",
       "    }\n",
       "  })({\"config\": {\"view\": {\"continuousWidth\": 400, \"continuousHeight\": 300}}, \"data\": {\"name\": \"data-64089ef3659b166a44a2135408b54e00\"}, \"mark\": \"point\", \"encoding\": {\"x\": {\"field\": \"x\", \"type\": \"quantitative\"}, \"y\": {\"field\": \"y\", \"type\": \"quantitative\"}}, \"title\": \"Scatter Plot of Training Data\", \"$schema\": \"https://vega.github.io/schema/vega-lite/v4.17.0.json\", \"datasets\": {\"data-64089ef3659b166a44a2135408b54e00\": [{\"x\": -0.2545988115263751, \"y\": 45.8355800473331}, {\"x\": 5.507143064099161, \"y\": 68.44815235744446}, {\"x\": 3.3199394181140507, \"y\": -0.9510310535048712}, {\"x\": 1.986584841970366, \"y\": -4.024991723711713}, {\"x\": -2.439813595575635, \"y\": -16.37482564039904}, {\"x\": -2.4400547966379733, \"y\": 2.587398237310431}, {\"x\": -3.419163878318005, \"y\": -20.35432272637388}, {\"x\": 4.661761457749352, \"y\": 53.96308606186548}, {\"x\": 2.011150117432088, \"y\": 11.90616530339484}, {\"x\": 3.0807257779604544, \"y\": -43.42258090153083}, {\"x\": -3.794155057041976, \"y\": -18.12500676087442}, {\"x\": 5.699098521619943, \"y\": 65.53576706958434}, {\"x\": 4.324426408004218, \"y\": 0.820737095881519}, {\"x\": -1.8766088932172384, \"y\": 43.99722966641118}, {\"x\": -2.181750327928994, \"y\": 50.78320174051622}, {\"x\": -2.165954901465662, \"y\": 48.52101090580413}, {\"x\": -0.9575775704046228, \"y\": 10.516590742704317}, {\"x\": 1.2475643163223786, \"y\": 3.00037726982212}, {\"x\": 0.3194501864211574, \"y\": 29.87476709633224}, {\"x\": -1.0877085980195806, \"y\": 56.1393712590606}, {\"x\": 2.118528947223795, \"y\": -9.42793391786978}, {\"x\": -2.605061393479581, \"y\": 12.443066837567676}, {\"x\": -1.0785535146478185, \"y\": 4.08063712027996}, {\"x\": -0.336381567063083, \"y\": -1.8509785071686835}, {\"x\": 0.5606998421703597, \"y\": 39.12790002161314}, {\"x\": 3.851759613930136, \"y\": 41.926785878033655}, {\"x\": -2.003262178416403, \"y\": 25.561816264958534}, {\"x\": 1.1423443841361165, \"y\": 37.02370003976128}, {\"x\": 1.924145688620425, \"y\": 13.037670891929324}, {\"x\": -3.5354958728000225, \"y\": -29.965137293959263}, {\"x\": 2.075448519014383, \"y\": 11.882403806789997}, {\"x\": -2.294758763127085, \"y\": 61.67628814490515}, {\"x\": -3.349484070147205, \"y\": -6.904522369773458}, {\"x\": 5.488855372533333, \"y\": 102.28713076671508}, {\"x\": 5.656320330745594, \"y\": 7.125750470383878}, {\"x\": 4.083973481164611, \"y\": 32.794551035275234}, {\"x\": -0.9538623082662934, \"y\": 33.66327708919423}, {\"x\": -3.0232788599361613, \"y\": -1.812330299227369}, {\"x\": 2.8423302651215687, \"y\": 2.4442327922113645}, {\"x\": 0.4015249373960134, \"y\": -29.02667093580745}, {\"x\": -2.779617651552212, \"y\": 7.285232632474963}, {\"x\": 0.951769101112702, \"y\": 23.09822243076559}, {\"x\": -3.656114788847816, \"y\": 17.555350689411938}, {\"x\": 5.093204020787821, \"y\": 30.974875125395396}, {\"x\": -1.4122001839998308, \"y\": 11.306955259709028}, {\"x\": 2.62522284353982, \"y\": -12.243964862918205}, {\"x\": -0.8828892391058902, \"y\": 54.154954810797}, {\"x\": 1.200680211778108, \"y\": 19.482996674290955}, {\"x\": 1.4671027934327965, \"y\": -4.922992212747701}, {\"x\": -2.1514554447447294, \"y\": 38.27864295530823}]}}, {\"mode\": \"vega-lite\"});\n",
       "</script>"
      ],
      "text/plain": [
       "alt.Chart(...)"
      ]
     },
     "execution_count": 53,
     "metadata": {},
     "output_type": "execute_result"
    }
   ],
   "source": [
    "train = pd.read_csv('data/A2_Q7_train.csv', index_col=0)\n",
    "test = pd.read_csv('data/A2_Q7_test.csv', index_col=0)\n",
    "\n",
    "scatter = alt.Chart(\n",
    "    train, \n",
    "    title='Scatter Plot of Training Data').mark_point().encode(\n",
    "        x='x', y='y')\n",
    "\n",
    "scatter"
   ]
  },
  {
   "attachments": {},
   "cell_type": "markdown",
   "metadata": {},
   "source": [
    "**(b)** Linear Regression of Training Data"
   ]
  },
  {
   "cell_type": "code",
   "execution_count": 45,
   "metadata": {},
   "outputs": [
    {
     "name": "stdout",
     "output_type": "stream",
     "text": [
      "The linear regression model that estimates this training data set is  17.20 +  2.59 x.\n",
      "The r-squared value of the linear regression model is  0.06 and its MSE is  791.42.\n"
     ]
    }
   ],
   "source": [
    "from sklearn.linear_model import LinearRegression\n",
    "from sklearn.metrics import mean_squared_error\n",
    "\n",
    "linear_model = LinearRegression()\n",
    "train_x = train.loc[:, 'x'].to_numpy().reshape(-1, 1)\n",
    "train_y = train.loc[:, 'y'].to_numpy().reshape(-1, 1)\n",
    "predictor = train.loc[:, 'x'].name\n",
    "linear_model.fit(train_x, train_y)\n",
    "linear_predictions = linear_model.predict(train_x)\n",
    "\n",
    "print(f\"\"\"The linear regression model that estimates this training data set is \\\n",
    "{linear_model.intercept_[0]: .2f} + {linear_model.coef_.tolist()[0][0]: .2f} {predictor}.\n",
    "The r-squared value of the linear regression model is {linear_model.score(train_x, train_y): .2f} and its MSE is \\\n",
    "{mean_squared_error(train_y, linear_predictions): .2f}.\"\"\")\n"
   ]
  },
  {
   "attachments": {},
   "cell_type": "markdown",
   "metadata": {},
   "source": [
    "**(c)** Non-linear Transformation Regression"
   ]
  },
  {
   "cell_type": "code",
   "execution_count": 51,
   "metadata": {},
   "outputs": [
    {
     "name": "stdout",
     "output_type": "stream",
     "text": [
      "The non-linear regression model that estimates this training data set is  12.39 + -5.58 x +  0.47 x^3.\n",
      "The r-squared value of the non-linear regression model is  0.28 and its MSE is  609.78.\n"
     ]
    }
   ],
   "source": [
    "nonLinear_transformation = LinearRegression()\n",
    "nonLinear_predictors = np.vstack((train.loc[:, 'x'].to_numpy(), train.loc[:, 'x'] ** 3)).T\n",
    "nonLinear_names = [train.loc[:, 'x'].name, f\"{train.loc[:, 'x'].name}^3\"]\n",
    "nonLinear_transformation.fit(nonLinear_predictors, train_y)\n",
    "nonLinear_predictions = nonLinear_transformation.predict(nonLinear_predictors)\n",
    "\n",
    "print(f\"\"\"The non-linear regression model that estimates this training data set is \\\n",
    "{nonLinear_transformation.intercept_[0]: .2f} + {nonLinear_transformation.coef_.tolist()[0][0]: .2f} {nonLinear_names[0]} + \\\n",
    "{nonLinear_transformation.coef_.tolist()[0][1]: .2f} {nonLinear_names[1]}.\n",
    "The r-squared value of the non-linear regression model is {nonLinear_transformation.score(nonLinear_predictors, train_y): .2f} and \\\n",
    "its MSE is {mean_squared_error(train_y, nonLinear_predictions): .2f}.\"\"\")"
   ]
  },
  {
   "attachments": {},
   "cell_type": "markdown",
   "metadata": {},
   "source": [
    "**(d)** Plotting Regressions"
   ]
  },
  {
   "cell_type": "code",
   "execution_count": 56,
   "metadata": {},
   "outputs": [
    {
     "data": {
      "text/html": [
       "\n",
       "<div id=\"altair-viz-9b77a0bd71324d3298f7b9e76da6b8e1\"></div>\n",
       "<script type=\"text/javascript\">\n",
       "  var VEGA_DEBUG = (typeof VEGA_DEBUG == \"undefined\") ? {} : VEGA_DEBUG;\n",
       "  (function(spec, embedOpt){\n",
       "    let outputDiv = document.currentScript.previousElementSibling;\n",
       "    if (outputDiv.id !== \"altair-viz-9b77a0bd71324d3298f7b9e76da6b8e1\") {\n",
       "      outputDiv = document.getElementById(\"altair-viz-9b77a0bd71324d3298f7b9e76da6b8e1\");\n",
       "    }\n",
       "    const paths = {\n",
       "      \"vega\": \"https://cdn.jsdelivr.net/npm//vega@5?noext\",\n",
       "      \"vega-lib\": \"https://cdn.jsdelivr.net/npm//vega-lib?noext\",\n",
       "      \"vega-lite\": \"https://cdn.jsdelivr.net/npm//vega-lite@4.17.0?noext\",\n",
       "      \"vega-embed\": \"https://cdn.jsdelivr.net/npm//vega-embed@6?noext\",\n",
       "    };\n",
       "\n",
       "    function maybeLoadScript(lib, version) {\n",
       "      var key = `${lib.replace(\"-\", \"\")}_version`;\n",
       "      return (VEGA_DEBUG[key] == version) ?\n",
       "        Promise.resolve(paths[lib]) :\n",
       "        new Promise(function(resolve, reject) {\n",
       "          var s = document.createElement('script');\n",
       "          document.getElementsByTagName(\"head\")[0].appendChild(s);\n",
       "          s.async = true;\n",
       "          s.onload = () => {\n",
       "            VEGA_DEBUG[key] = version;\n",
       "            return resolve(paths[lib]);\n",
       "          };\n",
       "          s.onerror = () => reject(`Error loading script: ${paths[lib]}`);\n",
       "          s.src = paths[lib];\n",
       "        });\n",
       "    }\n",
       "\n",
       "    function showError(err) {\n",
       "      outputDiv.innerHTML = `<div class=\"error\" style=\"color:red;\">${err}</div>`;\n",
       "      throw err;\n",
       "    }\n",
       "\n",
       "    function displayChart(vegaEmbed) {\n",
       "      vegaEmbed(outputDiv, spec, embedOpt)\n",
       "        .catch(err => showError(`Javascript Error: ${err.message}<br>This usually means there's a typo in your chart specification. See the javascript console for the full traceback.`));\n",
       "    }\n",
       "\n",
       "    if(typeof define === \"function\" && define.amd) {\n",
       "      requirejs.config({paths});\n",
       "      require([\"vega-embed\"], displayChart, err => showError(`Error loading script: ${err.message}`));\n",
       "    } else {\n",
       "      maybeLoadScript(\"vega\", \"5\")\n",
       "        .then(() => maybeLoadScript(\"vega-lite\", \"4.17.0\"))\n",
       "        .then(() => maybeLoadScript(\"vega-embed\", \"6\"))\n",
       "        .catch(showError)\n",
       "        .then(() => displayChart(vegaEmbed));\n",
       "    }\n",
       "  })({\"config\": {\"view\": {\"continuousWidth\": 400, \"continuousHeight\": 300}}, \"layer\": [{\"data\": {\"name\": \"data-64089ef3659b166a44a2135408b54e00\"}, \"mark\": \"point\", \"encoding\": {\"x\": {\"field\": \"x\", \"type\": \"quantitative\"}, \"y\": {\"field\": \"y\", \"type\": \"quantitative\"}}, \"title\": \"Scatter Plot of Training Data\"}, {\"data\": {\"name\": \"data-62946e658e73d381611f486dc3930b6c\"}, \"mark\": \"line\", \"encoding\": {\"x\": {\"field\": \"x\", \"type\": \"quantitative\"}, \"y\": {\"field\": \"y_hat\", \"type\": \"quantitative\"}}}, {\"data\": {\"name\": \"data-99f37282f2ef7f12b0534510e45f83a0\"}, \"mark\": \"line\", \"encoding\": {\"x\": {\"field\": \"x\", \"type\": \"quantitative\"}, \"y\": {\"field\": \"y_hat\", \"type\": \"quantitative\"}}}], \"$schema\": \"https://vega.github.io/schema/vega-lite/v4.17.0.json\", \"datasets\": {\"data-64089ef3659b166a44a2135408b54e00\": [{\"x\": -0.2545988115263751, \"y\": 45.8355800473331}, {\"x\": 5.507143064099161, \"y\": 68.44815235744446}, {\"x\": 3.3199394181140507, \"y\": -0.9510310535048712}, {\"x\": 1.986584841970366, \"y\": -4.024991723711713}, {\"x\": -2.439813595575635, \"y\": -16.37482564039904}, {\"x\": -2.4400547966379733, \"y\": 2.587398237310431}, {\"x\": -3.419163878318005, \"y\": -20.35432272637388}, {\"x\": 4.661761457749352, \"y\": 53.96308606186548}, {\"x\": 2.011150117432088, \"y\": 11.90616530339484}, {\"x\": 3.0807257779604544, \"y\": -43.42258090153083}, {\"x\": -3.794155057041976, \"y\": -18.12500676087442}, {\"x\": 5.699098521619943, \"y\": 65.53576706958434}, {\"x\": 4.324426408004218, \"y\": 0.820737095881519}, {\"x\": -1.8766088932172384, \"y\": 43.99722966641118}, {\"x\": -2.181750327928994, \"y\": 50.78320174051622}, {\"x\": -2.165954901465662, \"y\": 48.52101090580413}, {\"x\": -0.9575775704046228, \"y\": 10.516590742704317}, {\"x\": 1.2475643163223786, \"y\": 3.00037726982212}, {\"x\": 0.3194501864211574, \"y\": 29.87476709633224}, {\"x\": -1.0877085980195806, \"y\": 56.1393712590606}, {\"x\": 2.118528947223795, \"y\": -9.42793391786978}, {\"x\": -2.605061393479581, \"y\": 12.443066837567676}, {\"x\": -1.0785535146478185, \"y\": 4.08063712027996}, {\"x\": -0.336381567063083, \"y\": -1.8509785071686835}, {\"x\": 0.5606998421703597, \"y\": 39.12790002161314}, {\"x\": 3.851759613930136, \"y\": 41.926785878033655}, {\"x\": -2.003262178416403, \"y\": 25.561816264958534}, {\"x\": 1.1423443841361165, \"y\": 37.02370003976128}, {\"x\": 1.924145688620425, \"y\": 13.037670891929324}, {\"x\": -3.5354958728000225, \"y\": -29.965137293959263}, {\"x\": 2.075448519014383, \"y\": 11.882403806789997}, {\"x\": -2.294758763127085, \"y\": 61.67628814490515}, {\"x\": -3.349484070147205, \"y\": -6.904522369773458}, {\"x\": 5.488855372533333, \"y\": 102.28713076671508}, {\"x\": 5.656320330745594, \"y\": 7.125750470383878}, {\"x\": 4.083973481164611, \"y\": 32.794551035275234}, {\"x\": -0.9538623082662934, \"y\": 33.66327708919423}, {\"x\": -3.0232788599361613, \"y\": -1.812330299227369}, {\"x\": 2.8423302651215687, \"y\": 2.4442327922113645}, {\"x\": 0.4015249373960134, \"y\": -29.02667093580745}, {\"x\": -2.779617651552212, \"y\": 7.285232632474963}, {\"x\": 0.951769101112702, \"y\": 23.09822243076559}, {\"x\": -3.656114788847816, \"y\": 17.555350689411938}, {\"x\": 5.093204020787821, \"y\": 30.974875125395396}, {\"x\": -1.4122001839998308, \"y\": 11.306955259709028}, {\"x\": 2.62522284353982, \"y\": -12.243964862918205}, {\"x\": -0.8828892391058902, \"y\": 54.154954810797}, {\"x\": 1.200680211778108, \"y\": 19.482996674290955}, {\"x\": 1.4671027934327965, \"y\": -4.922992212747701}, {\"x\": -2.1514554447447294, \"y\": 38.27864295530823}], \"data-62946e658e73d381611f486dc3930b6c\": [{\"x\": -0.2545988115263751, \"y_hat\": 16.545331843911242}, {\"x\": 5.507143064099161, \"y_hat\": 31.47243933683489}, {\"x\": 3.3199394181140507, \"y_hat\": 25.805989045014122}, {\"x\": 1.986584841970366, \"y_hat\": 22.351629666563554}, {\"x\": -2.439813595575635, \"y_hat\": 10.884034152909095}, {\"x\": -2.4400547966379733, \"y_hat\": 10.883409266501015}, {\"x\": -3.419163878318005, \"y_hat\": 8.346803700853586}, {\"x\": 4.661761457749352, \"y_hat\": 29.282285320406647}, {\"x\": 2.011150117432088, \"y_hat\": 22.415271619869664}, {\"x\": 3.0807257779604544, \"y_hat\": 25.186251507750946}, {\"x\": -3.794155057041976, \"y_hat\": 7.375303457604119}, {\"x\": 5.699098521619943, \"y_hat\": 31.969743764925916}, {\"x\": 4.324426408004218, \"y_hat\": 28.40834187459241}, {\"x\": -1.8766088932172384, \"y_hat\": 12.343144490390348}, {\"x\": -2.181750327928994, \"y_hat\": 11.552605952772712}, {\"x\": -2.165954901465662, \"y_hat\": 11.593527610459628}, {\"x\": -0.9575775704046228, \"y_hat\": 14.724104908458079}, {\"x\": 1.2475643163223786, \"y_hat\": 20.43702830746904}, {\"x\": 0.3194501864211574, \"y_hat\": 18.032536804414203}, {\"x\": -1.0877085980195806, \"y_hat\": 14.386970777963523}, {\"x\": 2.118528947223795, \"y_hat\": 22.693460988530184}, {\"x\": -2.605061393479581, \"y_hat\": 10.455922013294487}, {\"x\": -1.0785535146478185, \"y_hat\": 14.41068911115979}, {\"x\": -0.336381567063083, \"y_hat\": 16.333454948118963}, {\"x\": 0.5606998421703597, \"y_hat\": 18.657549104814798}, {\"x\": 3.851759613930136, \"y_hat\": 27.183790654530434}, {\"x\": -2.003262178416403, \"y_hat\": 12.0150202454467}, {\"x\": 1.1423443841361165, \"y_hat\": 20.164432055841235}, {\"x\": 1.924145688620425, \"y_hat\": 22.189866787569514}, {\"x\": -3.5354958728000225, \"y_hat\": 8.045419115430667}, {\"x\": 2.075448519014383, \"y_hat\": 22.581851305798043}, {\"x\": -2.294758763127085, \"y_hat\": 11.259831806304051}, {\"x\": -3.349484070147205, \"y_hat\": 8.527325148899003}, {\"x\": 5.488855372533333, \"y_hat\": 31.425060897520318}, {\"x\": 5.656320330745594, \"y_hat\": 31.85891709699836}, {\"x\": 4.083973481164611, \"y_hat\": 27.78539368229193}, {\"x\": -0.9538623082662934, \"y_hat\": 14.73373014306601}, {\"x\": -3.0232788599361613, \"y_hat\": 9.372434204924417}, {\"x\": 2.8423302651215687, \"y_hat\": 24.56863351604069}, {\"x\": 0.4015249373960134, \"y_hat\": 18.245170181039324}, {\"x\": -2.779617651552212, \"y_hat\": 10.003694182881691}, {\"x\": 0.951769101112702, \"y_hat\": 19.670703284821617}, {\"x\": -3.656114788847816, \"y_hat\": 7.732928281167137}, {\"x\": 5.093204020787821, \"y_hat\": 30.400035760207203}, {\"x\": -1.4122001839998308, \"y_hat\": 13.546301256656548}, {\"x\": 2.62522284353982, \"y_hat\": 24.006167183910808}, {\"x\": -0.8828892391058902, \"y_hat\": 14.917602078902258}, {\"x\": 1.200680211778108, \"y_hat\": 20.3155643329716}, {\"x\": 1.4671027934327965, \"y_hat\": 21.005792843853996}, {\"x\": -2.1514554447447294, \"y_hat\": 11.6310917627133}], \"data-99f37282f2ef7f12b0534510e45f83a0\": [{\"x\": -0.2545988115263751, \"y_hat\": 13.80403642242327}, {\"x\": 5.507143064099161, \"y_hat\": 60.297925463344455}, {\"x\": 3.3199394181140507, \"y_hat\": 11.084315047276103}, {\"x\": 1.986584841970366, \"y_hat\": 4.988994323640805}, {\"x\": -2.439813595575635, \"y_hat\": 19.17452991911118}, {\"x\": -2.4400547966379733, \"y_hat\": 19.1738480450447}, {\"x\": -3.419163878318005, \"y_hat\": 12.658124883388663}, {\"x\": 4.661761457749352, \"y_hat\": 34.07014027310032}, {\"x\": 2.011150117432088, \"y_hat\": 4.990491684803962}, {\"x\": 3.0807257779604544, \"y_hat\": 8.956920516519615}, {\"x\": -3.794155057041976, \"y_hat\": 7.854156385059467}, {\"x\": 5.699098521619943, \"y_hat\": 67.74136467780215}, {\"x\": 4.324426408004218, \"y_hat\": 26.327649470733352}, {\"x\": -1.8766088932172384, \"y_hat\": 19.75694882555043}, {\"x\": -2.181750327928994, \"y_hat\": 19.682386096284265}, {\"x\": -2.165954901465662, \"y_hat\": 19.69964312575489}, {\"x\": -0.9575775704046228, \"y_hat\": 17.323833932372754}, {\"x\": 1.2475643163223786, \"y_hat\": 6.337948373398476}, {\"x\": 0.3194501864211574, \"y_hat\": 10.621577655206142}, {\"x\": -1.0877085980195806, \"y_hat\": 17.857969927341443}, {\"x\": 2.118528947223795, \"y_hat\": 5.037847517052695}, {\"x\": -2.605061393479581, \"y_hat\": 18.611257679133853}, {\"x\": -1.0785535146478185, \"y_hat\": 17.822021362126968}, {\"x\": -0.336381567063083, \"y_hat\": 14.250571366799026}, {\"x\": 0.5606998421703597, \"y_hat\": 9.342064667407643}, {\"x\": 3.851759613930136, \"y_hat\": 17.793842127102366}, {\"x\": -2.003262178416403, \"y_hat\": 19.790535161194086}, {\"x\": 1.1423443841361165, \"y_hat\": 6.7131009112364595}, {\"x\": 1.924145688620425, \"y_hat\": 5.000339211273439}, {\"x\": -3.5354958728000225, \"y_hat\": 11.320132374622725}, {\"x\": 2.075448519014383, \"y_hat\": 5.010753480599761}, {\"x\": -2.294758763127085, \"y_hat\": 19.513385412355984}, {\"x\": -3.349484070147205, \"y_hat\": 13.396649116465742}, {\"x\": 5.488855372533333, \"y_hat\": 59.619016008331485}, {\"x\": 5.656320330745594, \"y_hat\": 66.03187981004794}, {\"x\": 4.083973481164611, \"y_hat\": 21.66397110583945}, {\"x\": -0.9538623082662934, \"y_hat\": 17.307881882339494}, {\"x\": -3.0232788599361613, \"y_hat\": 16.258507850289803}, {\"x\": 2.8423302651215687, \"y_hat\": 7.3324366297573755}, {\"x\": 0.4015249373960134, \"y_hat\": 10.178393051955865}, {\"x\": -2.779617651552212, \"y_hat\": 17.797682133513693}, {\"x\": 0.951769101112702, \"y_hat\": 7.481296276081593}, {\"x\": -3.656114788847816, \"y_hat\": 9.790010479999674}, {\"x\": 5.093204020787821, \"y_hat\": 46.17188771787724}, {\"x\": -1.4122001839998308, \"y_hat\": 18.949667317552485}, {\"x\": 2.62522284353982, \"y_hat\": 6.251143011072301}, {\"x\": -0.8828892391058902, \"y_hat\": 16.996172150103156}, {\"x\": 1.200680211778108, \"y_hat\": 6.500484651408448}, {\"x\": 1.4671027934327965, \"y_hat\": 5.684712095610323}, {\"x\": -2.1514554447447294, \"y_hat\": 19.71413977806233}]}}, {\"mode\": \"vega-lite\"});\n",
       "</script>"
      ],
      "text/plain": [
       "alt.LayerChart(...)"
      ]
     },
     "execution_count": 56,
     "metadata": {},
     "output_type": "execute_result"
    }
   ],
   "source": [
    "linear_model_plot = alt.Chart(\n",
    "    pd.concat(\n",
    "        (train.loc[:, 'x'],\n",
    "         pd.Series(\n",
    "            linear_model.predict(\n",
    "                train_x).reshape(1, -1)[0],\n",
    "            name='y_hat')),\n",
    "        axis=1)).mark_line().encode(x='x', y='y_hat')\n",
    "        \n",
    "nonLinear_model_plot = alt.Chart(\n",
    "    pd.concat(\n",
    "        (train.loc[:, 'x'],\n",
    "         pd.Series(\n",
    "            nonLinear_transformation.predict(\n",
    "                nonLinear_predictors).reshape(1, -1)[0],\n",
    "            name='y_hat')),\n",
    "        axis=1)).mark_line().encode(x='x', y='y_hat')\n",
    "\n",
    "scatter + linear_model_plot + nonLinear_model_plot\n"
   ]
  },
  {
   "attachments": {},
   "cell_type": "markdown",
   "metadata": {},
   "source": [
    "**(e)** Analyzing Metrics of the Models on the Test Data"
   ]
  },
  {
   "cell_type": "code",
   "execution_count": 61,
   "metadata": {},
   "outputs": [
    {
     "name": "stdout",
     "output_type": "stream",
     "text": [
      "The r-squared of the linear model on the test set is -0.13 and the MSE of the linear model on the test set is 1116.66.  \n",
      "The r-squared of the non-linear model on the test set is  0.12 and the MSE of the non-linear model on the test data is  870.28.\n"
     ]
    }
   ],
   "source": [
    "test_x = test.loc[:, 'x'].to_numpy().reshape(-1, 1)\n",
    "test_y = test.loc[:, 'y'].to_numpy().reshape(-1, 1)\n",
    "\n",
    "nonLinear_test = np.vstack(\n",
    "    (test.loc[:, 'x'].to_numpy(), \n",
    "    test.loc[:, 'x'] ** 3)).T\n",
    "\n",
    "linear_test_predictions = linear_model.predict(test_x)\n",
    "nonLinear_test_predictions = nonLinear_transformation.predict(nonLinear_test)\n",
    "\n",
    "print(f\"\"\"The r-squared of the linear model on the test set is {linear_model.score(test_x, test_y): .2f} and the MSE of the linear \\\n",
    "model on the test set is{mean_squared_error(test_y, linear_test_predictions): .2f}.  \n",
    "The r-squared of the non-linear model on the test set is {nonLinear_transformation.score(nonLinear_test, test_y): .2f} and the MSE \\\n",
    "of the non-linear model on the test data is {mean_squared_error(test_y, nonLinear_test_predictions): .2f}.\"\"\")\n"
   ]
  },
  {
   "attachments": {},
   "cell_type": "markdown",
   "metadata": {},
   "source": [
    "**(f)** Comparing the Models"
   ]
  },
  {
   "attachments": {},
   "cell_type": "markdown",
   "metadata": {},
   "source": [
    "The models with the non-linear transformations of the predictors perform better on both the training and testing dataset.  This is likely due to the fact that the population data is non-linear."
   ]
  },
  {
   "attachments": {},
   "cell_type": "markdown",
   "metadata": {},
   "source": [
    "**(g)** Understanding Test Data"
   ]
  },
  {
   "attachments": {},
   "cell_type": "markdown",
   "metadata": {},
   "source": [
    "If test data is significantly different from training data (or said differently, if the training data is not representative of the test data), the model will not be accurate in its predictions of the test data.  The ability of a model to generalize on test data, or any data outside of the training data, is based upon the assumption that training data is representative of the testing data.  Therefore, the accuracy of generalization performance will decline as test data is significantly different from training data.  A model is designed to predict data based on the training data, and cannot predict data that is very different from the training data."
   ]
  }
 ],
 "metadata": {
  "kernelspec": {
   "display_name": "Python 3",
   "language": "python",
   "name": "python3"
  },
  "language_info": {
   "codemirror_mode": {
    "name": "ipython",
    "version": 3
   },
   "file_extension": ".py",
   "mimetype": "text/x-python",
   "name": "python",
   "nbconvert_exporter": "python",
   "pygments_lexer": "ipython3",
   "version": "3.10.4"
  },
  "varInspector": {
   "cols": {
    "lenName": 16,
    "lenType": 16,
    "lenVar": 40
   },
   "kernels_config": {
    "python": {
     "delete_cmd_postfix": "",
     "delete_cmd_prefix": "del ",
     "library": "var_list.py",
     "varRefreshCmd": "print(var_dic_list())"
    },
    "r": {
     "delete_cmd_postfix": ") ",
     "delete_cmd_prefix": "rm(",
     "library": "var_list.r",
     "varRefreshCmd": "cat(var_dic_list()) "
    }
   },
   "types_to_exclude": [
    "module",
    "function",
    "builtin_function_or_method",
    "instance",
    "_Feature"
   ],
   "window_display": false
  },
  "vscode": {
   "interpreter": {
    "hash": "3ad933181bd8a04b432d3370b9dc3b0662ad032c4dfaa4e4f1596c548f763858"
   }
  }
 },
 "nbformat": 4,
 "nbformat_minor": 4
}
