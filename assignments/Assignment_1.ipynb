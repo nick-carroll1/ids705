{
 "cells": [
  {
   "cell_type": "markdown",
   "metadata": {},
   "source": [
    "# Assignment 1 - Probability, Linear Algebra, & Computational Programming"
   ]
  },
  {
   "attachments": {},
   "cell_type": "markdown",
   "metadata": {},
   "source": [
    "## *Nick Carroll*\n",
    "Netid: nc230\n",
    "\n",
    "Note: this assignment falls under collaboration Mode 2: Individual Assignment – Collaboration Permitted. Please refer to the syllabus for additional information."
   ]
  },
  {
   "cell_type": "markdown",
   "metadata": {},
   "source": [
    "Instructions for all assignments can be found [here](https://github.com/kylebradbury/ids705/blob/master/assignments/_Assignment%20Instructions.ipynb), and is also linked to from the [course syllabus](https://kylebradbury.github.io/ids705/index.html).\n",
    "\n",
    "Total points in the assignment add up to 90; an additional 10 points are allocated to presentation quality."
   ]
  },
  {
   "attachments": {},
   "cell_type": "markdown",
   "metadata": {},
   "source": [
    "#  Learning Objectives\n",
    "The purpose of this assignment is to provide a refresher on fundamental concepts that we will use throughout this course and provide an opportunity to develop skills in any of the related skills that may be unfamiliar to you. Through the course of completing this assignment, you will... \n",
    "- Refresh you knowledge of probability theory including properties of random variables, probability density functions,  cumulative distribution functions, and key statistics such as mean and variance.\n",
    "- Revisit common linear algebra and matrix operations and concepts such as matrix multiplication, inner and outer products, inverses, the Hadamard (element-wise) product, eigenvalues and eigenvectors, orthogonality, and symmetry.\n",
    "- Practice numerical programming, core to machine learning, by loading and filtering data, plotting data, vectorizing operations, profiling code speed, and debugging and optimizing performance. You will also practice computing probabilities based on simulation.\n",
    "- Develop or refresh your knowledge of Git version control, which will be a core tool used in the final project of this course\n",
    "- Apply your skills altogether through an exploratory data analysis to practice data cleaning, data manipulation, interpretation, and communication \n",
    "\n",
    "We will build on these concepts throughout the course, so use this assignment as a catalyst to deepen your knowledge and seek help with anything unfamiliar.\n",
    "\n",
    "If some references would be helpful on these topics, I would recommend the following resources:\n",
    "- [Mathematics for Machine Learning](https://mml-book.github.io/book/mml-book.pdf) by Deisenroth, Faisal, and Ong\n",
    "- [Deep Learning](https://www.deeplearningbook.org/); Part I: Applied Math and Machine Learning Basics by Goodfellow, Bengio, and Courville\n",
    "- [The Matrix Calculus You Need For Deep Learning](https://arxiv.org/pdf/1802.01528.pdf) by Parr and Howard\n",
    "- [Dive Into Deep Learning](https://d2l.ai/chapter_appendix-mathematics-for-deep-learning/index.html); Appendix: Mathematics for Deep Learning by Weness, Hu, et al.\n",
    "\n",
    "*Note: don't worry if you don't understand everything in the references above - some of these books dive into significant minutia of each of these topics.*"
   ]
  },
  {
   "attachments": {},
   "cell_type": "markdown",
   "metadata": {},
   "source": [
    "---\n",
    "\n",
    "# Probability and Statistics Theory"
   ]
  },
  {
   "attachments": {},
   "cell_type": "markdown",
   "metadata": {},
   "source": [
    "*Note: for all assignments, write out equations and math using markdown and [LaTeX](https://tobi.oetiker.ch/lshort/lshort.pdf). For this assignment show ALL math work for questions 1-4, meaning that you should include any intermediate steps necessary to understand the logic of your solution*"
   ]
  },
  {
   "attachments": {},
   "cell_type": "markdown",
   "metadata": {},
   "source": [
    "## 1\n",
    "**[3 points]**  \n",
    "Let $f(x) = \\begin{cases}\n",
    "                0           & x < 0  \\\\\n",
    "                \\alpha x^2  & 0 \\leq x \\leq 2 \\\\\n",
    "                0           & 2 < x\n",
    "            \\end{cases}$\n",
    "            \n",
    "For what value of $\\alpha$ is $f(x)$ a valid probability density function?"
   ]
  },
  {
   "cell_type": "markdown",
   "metadata": {},
   "source": [
    "**ANSWER**"
   ]
  },
  {
   "attachments": {},
   "cell_type": "markdown",
   "metadata": {},
   "source": [
    "$ f(x) $ is a valid probability density function if $ \\int_{-\\infty}^{\\infty} f(x) dx = 1 $, therefore $ f(x) $ is a valid probability density function when $ \\int_{0}^{2} {\\alpha} x^2 dx = 1 $"
   ]
  },
  {
   "attachments": {},
   "cell_type": "markdown",
   "metadata": {},
   "source": [
    "$$ \\int_{0}^{2} {\\alpha} x^2 dx = [\\frac{1}{3} {\\alpha} x^3]_{0}^{2} = \\frac{1}{3}[8{\\alpha} - 0{\\alpha}] = 1 $$"
   ]
  },
  {
   "attachments": {},
   "cell_type": "markdown",
   "metadata": {},
   "source": [
    "$$ 8{\\alpha} = 3 $$"
   ]
  },
  {
   "attachments": {},
   "cell_type": "markdown",
   "metadata": {},
   "source": [
    "$ f(x) $ is a valid probability density function when:\n",
    "$$ {\\alpha} = \\frac{3}{8} $$"
   ]
  },
  {
   "attachments": {},
   "cell_type": "markdown",
   "metadata": {},
   "source": [
    "---\n",
    "\n",
    "## 2\n",
    "**[3 points]** What is the cumulative distribution function (CDF) that corresponds to the following probability distribution function? Please state the value of the CDF for all possible values of $x$.\n",
    "\n",
    "$f(x) = \\begin{cases}\n",
    "    \\frac{1}{3} & 0 < x < 3 \\\\\n",
    "    0           & \\text{otherwise}\n",
    "    \\end{cases}$"
   ]
  },
  {
   "cell_type": "markdown",
   "metadata": {},
   "source": [
    "**ANSWER**"
   ]
  },
  {
   "attachments": {},
   "cell_type": "markdown",
   "metadata": {},
   "source": [
    "The cumulative distribution function that corresponds to the above probability distribution function is:\n",
    "$$ F(x) = \\begin{cases}\n",
    "    \\frac{1}{3}x & 0 < x < 3 \\\\\n",
    "    0            & \\text{otherwise}\n",
    "    \\end{cases} $$"
   ]
  },
  {
   "attachments": {},
   "cell_type": "markdown",
   "metadata": {},
   "source": [
    "---\n",
    "\n",
    "## 3\n",
    "**[6 points]** For the probability distribution function for the random variable $X$,\n",
    "\n",
    "$f(x) = \\begin{cases}\n",
    "    \\frac{1}{3} & 0 < x < 3 \\\\\n",
    "    0           & \\text{otherwise}\n",
    "    \\end{cases}$\n",
    "    \n",
    "what is the (a) expected value and (b) variance of $X$. *Show all work*."
   ]
  },
  {
   "cell_type": "markdown",
   "metadata": {},
   "source": [
    "**ANSWER**"
   ]
  },
  {
   "attachments": {},
   "cell_type": "markdown",
   "metadata": {},
   "source": [
    "The expected value of X is:\n",
    "$$ E(x) = \\int_{-\\infty}^{\\infty} xf(x) dx = \\int_{0}^{3} \\frac{1}{3}x dx = \\frac{1}{3}[\\frac{1}{2} x^2]_{0}^{3} = \\frac{9}{6} = 1.5 $$"
   ]
  },
  {
   "attachments": {},
   "cell_type": "markdown",
   "metadata": {},
   "source": [
    "The variance of X is:\n",
    "$$ Var(x) = E((X - \\mu)^2) = E((X - \\mu)(X - \\mu)) = E(x^2 - 2x\\mu + {\\mu}^2) = E(x^2) - 2E(x\\mu) + E({\\mu}^2) $$\n",
    "$$ Var(x) = \\int_{-\\infty}^{\\infty} x^2 f(x) dx - \\int_{-\\infty}^{\\infty} 2{\\mu}x f(x) dx + \\int_{-\\infty}^{\\infty}{\\mu}^2 f(x) dx = \\frac{1}{3} (\\int_{0}^{3} x^2 dx - \\int_{0}^{3} 2{\\mu}x dx + \\int_{0}^{3}{\\mu}^2 dx) $$"
   ]
  },
  {
   "attachments": {},
   "cell_type": "markdown",
   "metadata": {},
   "source": [
    "$$ Var(x) = \\frac{1}{3} ([\\frac{1}{3} x^3]_{0}^{3} - [{\\mu}x^2]_{0}^{3} + [{\\mu}^2 x]_{0}^{3}) = \\frac{1}{3} (\\frac{27}{3} - \\frac{27}{2} + \\frac{27}{4}) = \\frac{36}{12} - \\frac{54}{12} + \\frac{27}{12} = \\frac{3}{4} = 0.75 $$"
   ]
  },
  {
   "attachments": {},
   "cell_type": "markdown",
   "metadata": {},
   "source": [
    "---\n",
    "\n",
    "## 4\n",
    "**[6 points]** Consider the following table of data that provides the values of a discrete data vector $\\mathbf{x}$ of samples from the random variable $X$, where each entry in $\\mathbf{x}$ is given as $x_i$.\n",
    "\n",
    "*Table 1. Dataset N=5 observations*\n",
    "\n",
    "|        | $x_0$ | $x_1$ | $x_2$ | $x_3$ | $x_4$ |\n",
    "|------  |-------|-------|-------|-------|-------|\n",
    "|$\\textbf{x}$| 2     | 3     | 10    | -1    | -1    |\n",
    "\n",
    "What is the (a) mean and (b) variance of the data? \n",
    "\n",
    "*Show all work. Your answer should include the definition of mean and variance in the context of discrete data. In this case, use the sample variance since the sample size is quite small*"
   ]
  },
  {
   "cell_type": "markdown",
   "metadata": {},
   "source": [
    "**ANSWER**"
   ]
  },
  {
   "attachments": {},
   "cell_type": "markdown",
   "metadata": {},
   "source": [
    "The expected value of the data is:\n",
    "$$ E(x) = \\frac{\\sum_{i} x_i}{N} = \\frac{2 + 3 + 10 - 1 - 1}{5} = \\frac{13}{5} = 2.6"
   ]
  },
  {
   "attachments": {},
   "cell_type": "markdown",
   "metadata": {},
   "source": [
    "The variance of the data is:\n",
    "$$ Var(x) = \\frac{\\sum_{i} (x_i - \\bar{x})^2}{N-1} = \\frac{(2-2.6)^2 + (3-2.6)^2 + (10-2.6)^2 + (-1- 2.6)^2 + (-1-2.6)^2}{5-1} $$\n",
    "$$ Var(x) = \\frac{(-0.6)^2 + 0.4^2 + 7.4^2 + (-3.6)^2 + (-3.6)^2}{4} = \\frac{0.36 + 0.16 + 54.76 + 12.96 + 12.96}{4} = 20.3$$"
   ]
  },
  {
   "attachments": {},
   "cell_type": "markdown",
   "metadata": {},
   "source": [
    "Math Confirmation:"
   ]
  },
  {
   "cell_type": "code",
   "execution_count": 2,
   "metadata": {},
   "outputs": [
    {
     "name": "stdout",
     "output_type": "stream",
     "text": [
      "The mean of x is 2.6 and the variance of x is 20.3\n"
     ]
    }
   ],
   "source": [
    "import numpy as np\n",
    "x = [2, 3, 10, -1, -1]\n",
    "print(\n",
    "    f\"The mean of x is {np.mean(x)} and the variance of x is {np.var(x, ddof = 1):.1f}\")\n"
   ]
  },
  {
   "attachments": {},
   "cell_type": "markdown",
   "metadata": {},
   "source": [
    "---\n",
    "\n",
    "# Linear Algebra"
   ]
  },
  {
   "attachments": {},
   "cell_type": "markdown",
   "metadata": {},
   "source": [
    "# 5\n",
    "\n",
    "**[5 points]** A common task in machine learning is a change of basis: transforming the representation of our data from one space to another. A prime example of this is through the process of dimensionality reduction as in Principle Components Analysis where we often seek to transform our data from one space (of dimension $n$) to a new space (of dimension $m$) where $m<n$. Assume we have a sample of data of dimension $n=4$ (as shown below) and we want to transform it into a dimension of $m=2$.\n",
    "\n",
    "$\\mathbf{x} =  \\begin{bmatrix}\n",
    "x_1 \\\\\n",
    "x_2 \\\\\n",
    "x_3 \\\\\n",
    "x_4 \n",
    "\\end{bmatrix}$"
   ]
  },
  {
   "attachments": {},
   "cell_type": "markdown",
   "metadata": {},
   "source": [
    "(a) What are the dimensions of a matrix, $\\mathbf{A}$, that would linearly transform our sample of data, $\\mathbf{x}$, into a space of $m=2$ through the operation $\\mathbf{Ax}$?\n",
    "\n",
    "(b) Express this transformation in terms of the components of $\\mathbf{x}$: $x_1$, $x_2$, $x_3$, $x_4$ and the matrix $\\mathbf{A}$ where each entry in the matrix is denoted as $a_{i,j}$ (e.g. the entry in the first row and second column would be $a_{1,2}$). Your answer will be in the form of a matrix expressing result of the product $\\mathbf{Ax}$.\n",
    "\n",
    "*Note: please write your answers here in LaTeX*"
   ]
  },
  {
   "attachments": {},
   "cell_type": "markdown",
   "metadata": {},
   "source": [
    "**ANSWER**"
   ]
  },
  {
   "attachments": {},
   "cell_type": "markdown",
   "metadata": {},
   "source": [
    "(a) The dimensions of a matrix, $ A $, that would linearly transform our samp of data, $ x $, inta a space of $ m = 2 $ through the operation $ Ax $ is [2, 4].\n",
    "\n",
    "(b) The resultant matrix (vector) of the operation of $ Ax $ is:\n",
    "$\\mathbf{x} =  \\begin{bmatrix}\n",
    "a_{1,1}x_1 + a_{1, 2}x_2 + a_{1,3}x_3 + a_{1,4}x_4 \\\\\n",
    "a_{2,1}x_1 + a_{2, 2}x_2 + a_{2,3}x_3 + a_{2,4}x_4\n",
    "\\end{bmatrix}$"
   ]
  },
  {
   "attachments": {},
   "cell_type": "markdown",
   "metadata": {},
   "source": [
    "---\n",
    "\n",
    "## 6\n",
    "**[14 points]** **Matrix manipulations and multiplication**. Machine learning involves working with many matrices, so this exercise will provide you with the opportunity to practice those skills.\n",
    "\n",
    "Let\n",
    "$\\mathbf{A} =  \\begin{bmatrix}\n",
    "1 & 2 & 3 \\\\\n",
    "2 & 4 & 5 \\\\\n",
    "3 & 5 & 6 \n",
    "\\end{bmatrix}$, $\\mathbf{b} =  \\begin{bmatrix}\n",
    "-1  \\\\\n",
    "3  \\\\\n",
    "8  \n",
    "\\end{bmatrix}$, $\\mathbf{c} =  \\begin{bmatrix}\n",
    "4  \\\\\n",
    "-3  \\\\\n",
    "6  \n",
    "\\end{bmatrix}$, and $\\mathbf{I} =  \\begin{bmatrix}\n",
    "1 & 0 & 0 \\\\\n",
    "0 & 1 & 0 \\\\\n",
    "0 & 0 & 1 \n",
    "\\end{bmatrix}$\n",
    "\n",
    "Compute the following **using Python** or indicate that it cannot be computed. Refer to NumPy's tools for handling matrices. While all answers should be computer using Python, your response to whether each item can be computed should refer to underlying linear algebra. There may be circumstances when Python will produce an output, but based on the dimensions of the matrices involved, the linear algebra operation is not possible. **For the case when an operation is invalid, explain why it is not.**\n",
    "\n",
    "When the quantity can be computed, please provide both the Python code AND the output of that code (this need not be in LaTex)\n",
    "\n",
    "1. $\\mathbf{A}\\mathbf{A}$\n",
    "2. $\\mathbf{A}\\mathbf{A}^T$\n",
    "3. $\\mathbf{A}\\mathbf{b}$\n",
    "4. $\\mathbf{A}\\mathbf{b}^T$\n",
    "5. $\\mathbf{b}\\mathbf{A}$\n",
    "6. $\\mathbf{b}^T\\mathbf{A}$\n",
    "7. $\\mathbf{b}\\mathbf{b}$\n",
    "8. $\\mathbf{b}^T\\mathbf{b}$\n",
    "9. $\\mathbf{b}\\mathbf{b}^T$\n",
    "10. $\\mathbf{b} + \\mathbf{c}^T$\n",
    "11. $\\mathbf{b}^T\\mathbf{b}^T$\n",
    "12. $\\mathbf{A}^{-1}\\mathbf{b}$\n",
    "13. $\\mathbf{A}\\circ\\mathbf{A}$\n",
    "14. $\\mathbf{b}\\circ\\mathbf{c}$\n",
    "\n",
    "*Note: The element-wise (or Hadamard) product is the product of each element in one matrix with the corresponding element in another matrix, and is represented by the symbol \"$\\circ$\".*"
   ]
  },
  {
   "cell_type": "markdown",
   "metadata": {},
   "source": [
    "**ANSWER**"
   ]
  },
  {
   "cell_type": "code",
   "execution_count": 3,
   "metadata": {},
   "outputs": [],
   "source": [
    "A = np.array([[1, 2, 3], [2, 4, 5], [3, 5, 6]])\n",
    "b = np.array([-1, 3, 8])\n",
    "c = np.array([4, -3, 6])\n"
   ]
  },
  {
   "attachments": {},
   "cell_type": "markdown",
   "metadata": {},
   "source": [
    "1. The value of $ AA $ is:"
   ]
  },
  {
   "cell_type": "code",
   "execution_count": 4,
   "metadata": {},
   "outputs": [
    {
     "data": {
      "text/plain": [
       "array([[14, 25, 31],\n",
       "       [25, 45, 56],\n",
       "       [31, 56, 70]])"
      ]
     },
     "execution_count": 4,
     "metadata": {},
     "output_type": "execute_result"
    }
   ],
   "source": [
    "np.matmul(A, A)\n"
   ]
  },
  {
   "attachments": {},
   "cell_type": "markdown",
   "metadata": {},
   "source": [
    "2. The value of $ A{A}^T $ is:"
   ]
  },
  {
   "cell_type": "code",
   "execution_count": 5,
   "metadata": {},
   "outputs": [
    {
     "data": {
      "text/plain": [
       "array([[14, 25, 31],\n",
       "       [25, 45, 56],\n",
       "       [31, 56, 70]])"
      ]
     },
     "execution_count": 5,
     "metadata": {},
     "output_type": "execute_result"
    }
   ],
   "source": [
    "np.matmul(A, A.T)\n"
   ]
  },
  {
   "attachments": {},
   "cell_type": "markdown",
   "metadata": {},
   "source": [
    "3. The value of $ Ab $ is:"
   ]
  },
  {
   "cell_type": "code",
   "execution_count": 6,
   "metadata": {},
   "outputs": [
    {
     "data": {
      "text/plain": [
       "array([29, 50, 60])"
      ]
     },
     "execution_count": 6,
     "metadata": {},
     "output_type": "execute_result"
    }
   ],
   "source": [
    "np.matmul(A, b)\n"
   ]
  },
  {
   "attachments": {},
   "cell_type": "markdown",
   "metadata": {},
   "source": [
    "4. $ A{b}^T $ is not a valid operation because $ A $ is a 3 x 3 matrix, while $ b^T $ is a 1 x 3 matrix, and all matrix multiplication operations must have the second dimension of the first matrix equivalent to the first dimension of the second matrix."
   ]
  },
  {
   "attachments": {},
   "cell_type": "markdown",
   "metadata": {},
   "source": [
    "5. $ bA $ is not a valid operation because $ b $ is a 3 x 1 matrix, while $ A $ is a 3 x 3 matrix, and all matrix multiplication operations must have the second dimension of the first matrix equivalent to the first dimension of the second matrix."
   ]
  },
  {
   "attachments": {},
   "cell_type": "markdown",
   "metadata": {},
   "source": [
    "6. The value of $ {b}^{T}A $ is:"
   ]
  },
  {
   "cell_type": "code",
   "execution_count": 7,
   "metadata": {},
   "outputs": [
    {
     "data": {
      "text/plain": [
       "array([29, 50, 60])"
      ]
     },
     "execution_count": 7,
     "metadata": {},
     "output_type": "execute_result"
    }
   ],
   "source": [
    "np.matmul(b.T, A)\n"
   ]
  },
  {
   "attachments": {},
   "cell_type": "markdown",
   "metadata": {},
   "source": [
    "7. $ bb $ is not a valid operation because $ b $ is a 3 x 1 matrix, while $ b $ is a 3 x 1 matrix, and all matrix multiplication operations must have the second dimension of the first matrix equivalent to the first dimension of the second matrix."
   ]
  },
  {
   "attachments": {},
   "cell_type": "markdown",
   "metadata": {},
   "source": [
    "8. The value of $ b^{T}b $ is:"
   ]
  },
  {
   "cell_type": "code",
   "execution_count": 8,
   "metadata": {},
   "outputs": [
    {
     "data": {
      "text/plain": [
       "74"
      ]
     },
     "execution_count": 8,
     "metadata": {},
     "output_type": "execute_result"
    }
   ],
   "source": [
    "np.matmul(b.T, b)\n"
   ]
  },
  {
   "attachments": {},
   "cell_type": "markdown",
   "metadata": {},
   "source": [
    "9. The value of $ b{b}^T $ is:"
   ]
  },
  {
   "cell_type": "code",
   "execution_count": 9,
   "metadata": {},
   "outputs": [
    {
     "data": {
      "text/plain": [
       "74"
      ]
     },
     "execution_count": 9,
     "metadata": {},
     "output_type": "execute_result"
    }
   ],
   "source": [
    "np.matmul(b, b.T)\n"
   ]
  },
  {
   "attachments": {},
   "cell_type": "markdown",
   "metadata": {},
   "source": [
    "10. $ b + {c}^T $ is not a valid operation because $ b $ is a 3 x 1 matrix, while $ c^T $ is a 1 x 3 matrix, and all matrix addition requires the matrices to have the same dimensions."
   ]
  },
  {
   "attachments": {},
   "cell_type": "markdown",
   "metadata": {},
   "source": [
    "11. $ b^{T}b^{T} $ is not a valid operation because $ b^{T} $ is a 1 x 3 matrix, while $ b^{T} $ is a 1 x 3 matrix, and all matrix multiplication operations must have the second dimension of the first matrix equivalent to the first dimension of the second matrix."
   ]
  },
  {
   "attachments": {},
   "cell_type": "markdown",
   "metadata": {},
   "source": [
    "12. The value of $ A^{-1}b $ is:"
   ]
  },
  {
   "cell_type": "code",
   "execution_count": 10,
   "metadata": {},
   "outputs": [
    {
     "data": {
      "text/plain": [
       "array([ 6.,  4., -5.])"
      ]
     },
     "execution_count": 10,
     "metadata": {},
     "output_type": "execute_result"
    }
   ],
   "source": [
    "np.matmul(np.linalg.inv(A), b)\n"
   ]
  },
  {
   "attachments": {},
   "cell_type": "markdown",
   "metadata": {},
   "source": [
    "13. The value of $ A\\circ A $ is:"
   ]
  },
  {
   "cell_type": "code",
   "execution_count": 11,
   "metadata": {},
   "outputs": [
    {
     "data": {
      "text/plain": [
       "array([[ 1,  4,  9],\n",
       "       [ 4, 16, 25],\n",
       "       [ 9, 25, 36]])"
      ]
     },
     "execution_count": 11,
     "metadata": {},
     "output_type": "execute_result"
    }
   ],
   "source": [
    "A * A\n"
   ]
  },
  {
   "attachments": {},
   "cell_type": "markdown",
   "metadata": {},
   "source": [
    "14. The value of $ b \\circ c $ is:"
   ]
  },
  {
   "cell_type": "code",
   "execution_count": 12,
   "metadata": {},
   "outputs": [
    {
     "data": {
      "text/plain": [
       "array([-4, -9, 48])"
      ]
     },
     "execution_count": 12,
     "metadata": {},
     "output_type": "execute_result"
    }
   ],
   "source": [
    "b * c\n"
   ]
  },
  {
   "attachments": {},
   "cell_type": "markdown",
   "metadata": {},
   "source": [
    "---\n",
    "\n",
    "## 7\n",
    "**[8 points]** **Eigenvectors and eigenvalues**. Eigenvectors and eigenvalues are useful for some machine learning algorithms, but the concepts take time to solidly grasp. They are used extensively in machine learning and in this course we will encounter them in relation to Principal Components Analysis (PCA), clustering algorithms, For an intuitive review of these concepts, explore this [interactive website at Setosa.io](http://setosa.io/ev/eigenvectors-and-eigenvalues/). Also, the series of linear algebra videos by Grant Sanderson of 3Brown1Blue are excellent and can be viewed on youtube [here](https://www.youtube.com/playlist?list=PLZHQObOWTQDPD3MizzM2xVFitgF8hE_ab). For these questions, numpy may once again be helpful.\n",
    "\n",
    "1. Calculate the eigenvalues and corresponding eigenvectors of matrix $\\mathbf{A}$ above, from the last question.\n",
    "2. Choose one of the eigenvector/eigenvalue pairs, $\\mathbf{v}$ and $\\lambda$, and show that $\\mathbf{A} \\mathbf{v} = \\lambda \\mathbf{v}$. This relationship extends to higher orders: $\\mathbf{A} \\mathbf{A} \\mathbf{v} = \\lambda^2 \\mathbf{v}$\n",
    "3. Show that the eigenvectors are orthogonal to one another (e.g. their inner product is zero). This is true for eigenvectors from real, symmetric matrices. In three dimensions or less, this means that the eigenvectors are perpendicular to each other. Typically we use the orthogonal basis of our standard x, y, and z, Cartesian coordinates, which allows us, if we combine them linearly, to represent any point in a 3D space. But any three orthogonal vectors can do the same. We will see this property is used in PCA to identify the dimensions of greatest variation in our data when we discuss dimensionality reduction."
   ]
  },
  {
   "cell_type": "markdown",
   "metadata": {},
   "source": [
    "**ANSWER**"
   ]
  },
  {
   "cell_type": "code",
   "execution_count": 13,
   "metadata": {},
   "outputs": [
    {
     "name": "stdout",
     "output_type": "stream",
     "text": [
      "The eigenvalues for A are: [11.344814282762082, -0.5157294715892574, 0.1709151888271788].\n",
      "The eigenvectors for A are: [array([-0.32798528, -0.59100905, -0.73697623]), array([-0.73697623, -0.32798528,  0.59100905]), array([ 0.59100905, -0.73697623,  0.32798528])]\n"
     ]
    }
   ],
   "source": [
    "eigenvalues, eigenvectors = np.linalg.eig(A)\n",
    "print(f\"The eigenvalues for A are: {[x for x in eigenvalues]}.\")\n",
    "print(\n",
    "    f\"The eigenvectors for A are: {[eigenvectors[:, i] for i in range(eigenvectors.shape[1])]}\")\n"
   ]
  },
  {
   "cell_type": "code",
   "execution_count": 14,
   "metadata": {},
   "outputs": [
    {
     "name": "stdout",
     "output_type": "stream",
     "text": [
      "Av = [ 0.38008036  0.16915167 -0.30480078], and (lambda)v = [ 0.38008036  0.16915167 -0.30480078].  This confirms this is an eigenvalue, eigenvector pair for A.\n"
     ]
    }
   ],
   "source": [
    "print(\n",
    "    f\"Av = {np.matmul(A, eigenvectors[:, 1])}, and (lambda)v = {eigenvalues[1]*eigenvectors[:, 1]}.  This confirms this is an eigenvalue, eigenvector pair for A.\")\n"
   ]
  },
  {
   "cell_type": "code",
   "execution_count": 15,
   "metadata": {},
   "outputs": [
    {
     "name": "stdout",
     "output_type": "stream",
     "text": [
      "The values of the matrix multiplication of each of the three eigenvectors is: -0.00, -0.00, -0.00, which confirms the eigenvectors are orthogonal to each other.\n"
     ]
    }
   ],
   "source": [
    "print(\n",
    "    f\"The values of the matrix multiplication of each of the three eigenvectors is: {np.matmul(eigenvectors[:, 0], eigenvectors[:,1]): .2f}, {np.matmul(eigenvectors[:, 0], eigenvectors[:,2]): .2f}, {np.matmul(eigenvectors[:, 1], eigenvectors[:,2]): .2f}, which confirms the eigenvectors are orthogonal to each other.\")\n"
   ]
  },
  {
   "attachments": {},
   "cell_type": "markdown",
   "metadata": {},
   "source": [
    "---\n",
    "\n",
    "# Numerical Programming"
   ]
  },
  {
   "attachments": {},
   "cell_type": "markdown",
   "metadata": {},
   "source": [
    "## 8\n",
    "**[10 points]** Loading data and gathering insights from a real dataset\n",
    "\n",
    "In data science, we often need to have a sense of the idiosyncrasies of the data, how they relate to the questions we are trying to answer, and to use that information to help us to determine what approach, such as machine learning, we may need to apply to achieve our goal. This exercise provides practice in exploring a dataset and answering question that might arise from applications related to the data.\n",
    "\n",
    "**Data**. The data for this problem can be found in the `data` subfolder in the `assignments` folder on [github](https://github.com/kylebradbury/ids705). The filename is `a1_egrid2016.xlsx`. This dataset is the Environmental Protection Agency's (EPA) [Emissions & Generation Resource Integrated Database (eGRID)](https://www.epa.gov/energy/emissions-generation-resource-integrated-database-egrid) containing information about all power plants in the United States, the amount of generation they produce, what fuel they use, the location of the plant, and many more quantities. We'll be using a subset of those data.\n",
    "\n",
    "The fields we'll be using include:\t\t\t\t\t\n",
    "    \n",
    "|field    |description|\n",
    "|:-----   |:-----|\n",
    "|SEQPLT16 |eGRID2016 Plant file sequence number (the index)| \n",
    "|PSTATABB |Plant state abbreviation|\n",
    "|PNAME    |Plant name |\n",
    "|LAT      |Plant latitude |\n",
    "|LON      |Plant longitude|\n",
    "|PLPRMFL  |Plant primary fuel |\n",
    "|CAPFAC   |Plant capacity factor |\n",
    "|NAMEPCAP |Plant nameplate capacity (Megawatts MW)|\n",
    "|PLNGENAN |Plant annual net generation (Megawatt-hours MWh)|\n",
    "|PLCO2EQA |Plant annual CO2 equivalent emissions (tons)|\n",
    "\n",
    "For more details on the data, you can refer to the [eGrid technical documents](https://www.epa.gov/sites/default/files/2021-02/documents/egrid2019_technical_guide.pdf). For example, you may want to review page 45 and the section \"Plant Primary Fuel (PLPRMFL)\", which gives the full names of the fuel types including WND for wind, NG for natural gas, BIT for Bituminous coal, etc.\n",
    "\n",
    "There also are a couple of \"gotchas\" to watch out for with this dataset:\n",
    "- The headers are on the second row and you'll want to ignore the first row (they're more detailed descriptions of the headers).\n",
    "- NaN values represent blanks in the data. These will appear regularly in real-world data, so getting experience working with these sorts of missing values will be important.\n",
    "\n",
    "**Your objective**. For this dataset, your goal is to answer the following questions about electricity generation in the United States:\n",
    "\n",
    "**(a)** Which plant has generated the most energy (measured in MWh)?\n",
    "\n",
    "**(b)** What is the name of the northern-most power plant in the United States?\n",
    "\n",
    "**(c)** What is the state where the northern-most power plant in the United States is located?\n",
    "\n",
    "**(d)** Plot a bar plot showing the amount of energy produced by each fuel type across all plants. \n",
    "\n",
    "**(e)** From the plot in (d), which fuel for generation produces the most energy (MWh) in the United States?"
   ]
  },
  {
   "cell_type": "markdown",
   "metadata": {},
   "source": [
    "**ANSWER**"
   ]
  },
  {
   "cell_type": "code",
   "execution_count": 16,
   "metadata": {},
   "outputs": [
    {
     "data": {
      "text/html": [
       "<div>\n",
       "<style scoped>\n",
       "    .dataframe tbody tr th:only-of-type {\n",
       "        vertical-align: middle;\n",
       "    }\n",
       "\n",
       "    .dataframe tbody tr th {\n",
       "        vertical-align: top;\n",
       "    }\n",
       "\n",
       "    .dataframe thead th {\n",
       "        text-align: right;\n",
       "    }\n",
       "</style>\n",
       "<table border=\"1\" class=\"dataframe\">\n",
       "  <thead>\n",
       "    <tr style=\"text-align: right;\">\n",
       "      <th></th>\n",
       "      <th>SEQPLT16</th>\n",
       "      <th>PSTATABB</th>\n",
       "      <th>PNAME</th>\n",
       "      <th>LAT</th>\n",
       "      <th>LON</th>\n",
       "      <th>PLPRMFL</th>\n",
       "      <th>CAPFAC</th>\n",
       "      <th>NAMEPCAP</th>\n",
       "      <th>PLNGENAN</th>\n",
       "      <th>PLCO2EQA</th>\n",
       "    </tr>\n",
       "  </thead>\n",
       "  <tbody>\n",
       "    <tr>\n",
       "      <th>0</th>\n",
       "      <td>1</td>\n",
       "      <td>AK</td>\n",
       "      <td>7-Mile Ridge Wind Project</td>\n",
       "      <td>63.210689</td>\n",
       "      <td>-143.247156</td>\n",
       "      <td>WND</td>\n",
       "      <td>NaN</td>\n",
       "      <td>1.8</td>\n",
       "      <td>NaN</td>\n",
       "      <td>NaN</td>\n",
       "    </tr>\n",
       "    <tr>\n",
       "      <th>1</th>\n",
       "      <td>2</td>\n",
       "      <td>AK</td>\n",
       "      <td>Agrium Kenai Nitrogen Operations</td>\n",
       "      <td>60.673200</td>\n",
       "      <td>-151.378400</td>\n",
       "      <td>NG</td>\n",
       "      <td>NaN</td>\n",
       "      <td>21.6</td>\n",
       "      <td>NaN</td>\n",
       "      <td>NaN</td>\n",
       "    </tr>\n",
       "    <tr>\n",
       "      <th>2</th>\n",
       "      <td>3</td>\n",
       "      <td>AK</td>\n",
       "      <td>Alakanuk</td>\n",
       "      <td>62.683300</td>\n",
       "      <td>-164.654400</td>\n",
       "      <td>DFO</td>\n",
       "      <td>0.05326</td>\n",
       "      <td>2.6</td>\n",
       "      <td>1213.001</td>\n",
       "      <td>1049.863</td>\n",
       "    </tr>\n",
       "    <tr>\n",
       "      <th>3</th>\n",
       "      <td>4</td>\n",
       "      <td>AK</td>\n",
       "      <td>Allison Creek Hydro</td>\n",
       "      <td>61.084444</td>\n",
       "      <td>-146.353333</td>\n",
       "      <td>WAT</td>\n",
       "      <td>0.01547</td>\n",
       "      <td>6.5</td>\n",
       "      <td>881.000</td>\n",
       "      <td>0.000</td>\n",
       "    </tr>\n",
       "    <tr>\n",
       "      <th>4</th>\n",
       "      <td>5</td>\n",
       "      <td>AK</td>\n",
       "      <td>Ambler</td>\n",
       "      <td>67.087980</td>\n",
       "      <td>-157.856719</td>\n",
       "      <td>DFO</td>\n",
       "      <td>0.13657</td>\n",
       "      <td>1.1</td>\n",
       "      <td>1315.999</td>\n",
       "      <td>1087.881</td>\n",
       "    </tr>\n",
       "  </tbody>\n",
       "</table>\n",
       "</div>"
      ],
      "text/plain": [
       "   SEQPLT16 PSTATABB                             PNAME        LAT         LON  \\\n",
       "0         1       AK         7-Mile Ridge Wind Project  63.210689 -143.247156   \n",
       "1         2       AK  Agrium Kenai Nitrogen Operations  60.673200 -151.378400   \n",
       "2         3       AK                          Alakanuk  62.683300 -164.654400   \n",
       "3         4       AK               Allison Creek Hydro  61.084444 -146.353333   \n",
       "4         5       AK                            Ambler  67.087980 -157.856719   \n",
       "\n",
       "  PLPRMFL   CAPFAC  NAMEPCAP  PLNGENAN  PLCO2EQA  \n",
       "0     WND      NaN       1.8       NaN       NaN  \n",
       "1      NG      NaN      21.6       NaN       NaN  \n",
       "2     DFO  0.05326       2.6  1213.001  1049.863  \n",
       "3     WAT  0.01547       6.5   881.000     0.000  \n",
       "4     DFO  0.13657       1.1  1315.999  1087.881  "
      ]
     },
     "execution_count": 16,
     "metadata": {},
     "output_type": "execute_result"
    }
   ],
   "source": [
    "import pandas as pd\n",
    "data = pd.read_excel('data/a1_egrid2016.xlsx', header=1)\n",
    "data.head()\n"
   ]
  },
  {
   "attachments": {},
   "cell_type": "markdown",
   "metadata": {},
   "source": [
    "a)"
   ]
  },
  {
   "cell_type": "code",
   "execution_count": 17,
   "metadata": {},
   "outputs": [
    {
     "name": "stdout",
     "output_type": "stream",
     "text": [
      "The plant that has generated the most energy is Palo Verde.\n"
     ]
    }
   ],
   "source": [
    "print(\n",
    "    f\"The plant that has generated the most energy is {data.loc[data.loc[:, 'PLNGENAN'] == data.loc[:, 'PLNGENAN'].max(), 'PNAME'].values[0]}.\")\n"
   ]
  },
  {
   "attachments": {},
   "cell_type": "markdown",
   "metadata": {},
   "source": [
    "b)"
   ]
  },
  {
   "cell_type": "code",
   "execution_count": 18,
   "metadata": {},
   "outputs": [
    {
     "name": "stdout",
     "output_type": "stream",
     "text": [
      "The name of the northern most power plant in the US is Barrow.\n"
     ]
    }
   ],
   "source": [
    "print(\n",
    "    f\"The name of the northern most power plant in the US is {data.loc[data.loc[:, 'LAT'] == data.loc[:, 'LAT'].max(), 'PNAME'].values[0]}.\")\n"
   ]
  },
  {
   "attachments": {},
   "cell_type": "markdown",
   "metadata": {},
   "source": [
    "c)"
   ]
  },
  {
   "cell_type": "code",
   "execution_count": 19,
   "metadata": {},
   "outputs": [
    {
     "name": "stdout",
     "output_type": "stream",
     "text": [
      "The state where the northern most power plant is located is AK.\n"
     ]
    }
   ],
   "source": [
    "print(\n",
    "    f\"The state where the northern most power plant is located is {data.loc[data.loc[:, 'LAT'] == data.loc[:, 'LAT'].max(), 'PSTATABB'].values[0]}.\")\n"
   ]
  },
  {
   "attachments": {},
   "cell_type": "markdown",
   "metadata": {},
   "source": [
    "d) A bar plot showing the amount of energy produced by each fuel type is shown below."
   ]
  },
  {
   "cell_type": "code",
   "execution_count": 20,
   "metadata": {},
   "outputs": [
    {
     "name": "stderr",
     "output_type": "stream",
     "text": [
      "/home/codespace/.python/current/lib/python3.10/site-packages/altair/utils/core.py:317: FutureWarning: iteritems is deprecated and will be removed in a future version. Use .items instead.\n",
      "  for col_name, dtype in df.dtypes.iteritems():\n"
     ]
    },
    {
     "data": {
      "text/html": [
       "\n",
       "<div id=\"altair-viz-5d4ca2db188546aaa6606ccb45d15de2\"></div>\n",
       "<script type=\"text/javascript\">\n",
       "  var VEGA_DEBUG = (typeof VEGA_DEBUG == \"undefined\") ? {} : VEGA_DEBUG;\n",
       "  (function(spec, embedOpt){\n",
       "    let outputDiv = document.currentScript.previousElementSibling;\n",
       "    if (outputDiv.id !== \"altair-viz-5d4ca2db188546aaa6606ccb45d15de2\") {\n",
       "      outputDiv = document.getElementById(\"altair-viz-5d4ca2db188546aaa6606ccb45d15de2\");\n",
       "    }\n",
       "    const paths = {\n",
       "      \"vega\": \"https://cdn.jsdelivr.net/npm//vega@5?noext\",\n",
       "      \"vega-lib\": \"https://cdn.jsdelivr.net/npm//vega-lib?noext\",\n",
       "      \"vega-lite\": \"https://cdn.jsdelivr.net/npm//vega-lite@4.17.0?noext\",\n",
       "      \"vega-embed\": \"https://cdn.jsdelivr.net/npm//vega-embed@6?noext\",\n",
       "    };\n",
       "\n",
       "    function maybeLoadScript(lib, version) {\n",
       "      var key = `${lib.replace(\"-\", \"\")}_version`;\n",
       "      return (VEGA_DEBUG[key] == version) ?\n",
       "        Promise.resolve(paths[lib]) :\n",
       "        new Promise(function(resolve, reject) {\n",
       "          var s = document.createElement('script');\n",
       "          document.getElementsByTagName(\"head\")[0].appendChild(s);\n",
       "          s.async = true;\n",
       "          s.onload = () => {\n",
       "            VEGA_DEBUG[key] = version;\n",
       "            return resolve(paths[lib]);\n",
       "          };\n",
       "          s.onerror = () => reject(`Error loading script: ${paths[lib]}`);\n",
       "          s.src = paths[lib];\n",
       "        });\n",
       "    }\n",
       "\n",
       "    function showError(err) {\n",
       "      outputDiv.innerHTML = `<div class=\"error\" style=\"color:red;\">${err}</div>`;\n",
       "      throw err;\n",
       "    }\n",
       "\n",
       "    function displayChart(vegaEmbed) {\n",
       "      vegaEmbed(outputDiv, spec, embedOpt)\n",
       "        .catch(err => showError(`Javascript Error: ${err.message}<br>This usually means there's a typo in your chart specification. See the javascript console for the full traceback.`));\n",
       "    }\n",
       "\n",
       "    if(typeof define === \"function\" && define.amd) {\n",
       "      requirejs.config({paths});\n",
       "      require([\"vega-embed\"], displayChart, err => showError(`Error loading script: ${err.message}`));\n",
       "    } else {\n",
       "      maybeLoadScript(\"vega\", \"5\")\n",
       "        .then(() => maybeLoadScript(\"vega-lite\", \"4.17.0\"))\n",
       "        .then(() => maybeLoadScript(\"vega-embed\", \"6\"))\n",
       "        .catch(showError)\n",
       "        .then(() => displayChart(vegaEmbed));\n",
       "    }\n",
       "  })({\"config\": {\"view\": {\"continuousWidth\": 400, \"continuousHeight\": 300}}, \"data\": {\"name\": \"data-649ea42742d5dec74d29a2c65b296eec\"}, \"mark\": \"bar\", \"encoding\": {\"x\": {\"field\": \"PLPRMFL\", \"type\": \"nominal\"}, \"y\": {\"field\": \"PLNGENAN\", \"type\": \"quantitative\"}}, \"$schema\": \"https://vega.github.io/schema/vega-lite/v4.17.0.json\", \"datasets\": {\"data-649ea42742d5dec74d29a2c65b296eec\": [{\"PLPRMFL\": \"AB\", \"PLNGENAN\": 941263.6680000001}, {\"PLPRMFL\": \"BFG\", \"PLNGENAN\": 739680.0}, {\"PLPRMFL\": \"BIT\", \"PLNGENAN\": 504919277.205}, {\"PLPRMFL\": \"BLQ\", \"PLNGENAN\": 26097112.835}, {\"PLPRMFL\": \"COG\", \"PLNGENAN\": 13984.0}, {\"PLPRMFL\": \"DFO\", \"PLNGENAN\": 3211068.889}, {\"PLPRMFL\": \"GEO\", \"PLNGENAN\": 15691630.997}, {\"PLPRMFL\": \"JF\", \"PLNGENAN\": 5908.0}, {\"PLPRMFL\": \"KER\", \"PLNGENAN\": 25861.001}, {\"PLPRMFL\": \"LFG\", \"PLNGENAN\": 11090731.183}, {\"PLPRMFL\": \"LIG\", \"PLNGENAN\": 62640953.0}, {\"PLPRMFL\": \"MSW\", \"PLNGENAN\": 14271133.996}, {\"PLPRMFL\": \"MWH\", \"PLNGENAN\": 98809.0}, {\"PLPRMFL\": \"NG\", \"PLNGENAN\": 1314955593.403}, {\"PLPRMFL\": \"NUC\", \"PLNGENAN\": 812475761.0}, {\"PLPRMFL\": \"OBG\", \"PLNGENAN\": 1152140.017}, {\"PLPRMFL\": \"OBL\", \"PLNGENAN\": 37490.0}, {\"PLPRMFL\": \"OBS\", \"PLNGENAN\": 103609.426}, {\"PLPRMFL\": \"OG\", \"PLNGENAN\": 19148179.994}, {\"PLPRMFL\": \"OTH\", \"PLNGENAN\": 146709.64}, {\"PLPRMFL\": \"PC\", \"PLNGENAN\": 7235311.61}, {\"PLPRMFL\": \"PRG\", \"PLNGENAN\": 9034181.513}, {\"PLPRMFL\": \"PUR\", \"PLNGENAN\": 602854.0009999999}, {\"PLPRMFL\": \"RC\", \"PLNGENAN\": 225163759.998}, {\"PLPRMFL\": \"RFO\", \"PLNGENAN\": 16532319.423999999}, {\"PLPRMFL\": \"SGC\", \"PLNGENAN\": 3092547.0}, {\"PLPRMFL\": \"SLW\", \"PLNGENAN\": 984.55}, {\"PLPRMFL\": \"SUB\", \"PLNGENAN\": 471698446.271}, {\"PLPRMFL\": \"SUN\", \"PLNGENAN\": 35354774.987}, {\"PLPRMFL\": \"TDF\", \"PLNGENAN\": 192779.0}, {\"PLPRMFL\": \"WAT\", \"PLNGENAN\": 260778452.737}, {\"PLPRMFL\": \"WC\", \"PLNGENAN\": 9384699.0}, {\"PLPRMFL\": \"WDL\", \"PLNGENAN\": 217900.92}, {\"PLPRMFL\": \"WDS\", \"PLNGENAN\": 16464767.823}, {\"PLPRMFL\": \"WH\", \"PLNGENAN\": 3981384.0}, {\"PLPRMFL\": \"WND\", \"PLNGENAN\": 226828838.002}, {\"PLPRMFL\": \"WO\", \"PLNGENAN\": 991981.9990000001}]}}, {\"mode\": \"vega-lite\"});\n",
       "</script>"
      ],
      "text/plain": [
       "alt.Chart(...)"
      ]
     },
     "execution_count": 20,
     "metadata": {},
     "output_type": "execute_result"
    }
   ],
   "source": [
    "import altair as alt\n",
    "alt.Chart(data.loc[:, ['PLPRMFL', 'PLNGENAN']].groupby(\n",
    "    'PLPRMFL', as_index=False).sum()).mark_bar().encode(x='PLPRMFL', y='PLNGENAN')\n"
   ]
  },
  {
   "cell_type": "code",
   "execution_count": 21,
   "metadata": {},
   "outputs": [
    {
     "name": "stdout",
     "output_type": "stream",
     "text": [
      "The fuel that generates the most amount of energy in the US is NG.\n"
     ]
    }
   ],
   "source": [
    "fuelData = data.loc[:, ['PLPRMFL', 'PLNGENAN']].groupby(\n",
    "    'PLPRMFL', as_index=False).sum()\n",
    "print(\n",
    "    f\"The fuel that generates the most amount of energy in the US is {fuelData.loc[fuelData.loc[:, 'PLNGENAN'] == fuelData.loc[:, 'PLNGENAN'].max(), 'PLPRMFL'].values[0]}.\")\n"
   ]
  },
  {
   "attachments": {},
   "cell_type": "markdown",
   "metadata": {},
   "source": [
    "---\n",
    "\n",
    "## 9\n",
    "**[6 points]** *Vectorization*. When we first learn to code and think about iterating over an array, we often use loops. If implemented correctly, that does the trick. In machine learning, we iterate over so much data that those loops can lead to significant slow downs if they are not computationally efficient. In Python, vectorizing code and relying on matrix operations with efficient tools like numpy is typically the faster approach. Of course, numpy relies on loops to complete the computation, but this is at a lower level of programming (typically in C), and therefore is much more efficient. This exercise will explore the benefits of vectorization. Since many machine learning techniques rely on matrix operations, it's helpful to begin thinking about implementing algorithms using vector forms.\n",
    "\n",
    "Begin by creating an array of 10 million random numbers using the numpy `random.randn` module. Compute the sum of the squares of those random numbers first in a for loop, then using Numpy's `dot` module to perform an inner (dot) product. Time how long it takes to compute each and report the results and report the output. How many times faster is the vectorized code than the for loop approach? (Note - your results may vary from run to run).\n",
    "\n",
    "Your output should use the `print()` function as follows (where the # symbols represent your answers, to a reasonable precision of 4-5 significant figures):\n",
    "\n",
    "`Time [sec] (non-vectorized): ######`\n",
    "\n",
    "`Time [sec] (vectorized):     ######`\n",
    "\n",
    "`The vectorized code is ##### times faster than the nonvectorized code`"
   ]
  },
  {
   "cell_type": "markdown",
   "metadata": {},
   "source": [
    "**ANSWER**"
   ]
  },
  {
   "cell_type": "code",
   "execution_count": 33,
   "metadata": {},
   "outputs": [],
   "source": [
    "x = np.random.randn(10_000_000)\n"
   ]
  },
  {
   "cell_type": "code",
   "execution_count": 35,
   "metadata": {},
   "outputs": [],
   "source": [
    "def loopedFunction(x):\n",
    "    loopedSum = 0\n",
    "    for eachNumber in x:\n",
    "        loopedSum += eachNumber ** 2\n",
    "\n",
    "\n",
    "loopedTime = %timeit - q - o loopedFunction(x)\n",
    "vectorTime = %timeit - q - o np.dot(x, x)\n"
   ]
  },
  {
   "cell_type": "code",
   "execution_count": 36,
   "metadata": {},
   "outputs": [
    {
     "name": "stdout",
     "output_type": "stream",
     "text": [
      "Time [sec] (non-vectorized):  1.94994\n",
      "Time [sec] (vecotrized):  0.00684\n",
      "The vectorized code is  285.27929 times faster than the nonvectorized code\n"
     ]
    }
   ],
   "source": [
    "print(f\"Time [sec] (non-vectorized): {loopedTime.average: .5f}\")\n",
    "print(f\"Time [sec] (vecotrized): {vectorTime.average: .5f}\")\n",
    "print(\n",
    "    f\"The vectorized code is {loopedTime.average/vectorTime.average: .5f} times faster than the nonvectorized code\")\n"
   ]
  },
  {
   "attachments": {},
   "cell_type": "markdown",
   "metadata": {},
   "source": [
    "---\n",
    "\n",
    "## 10\n",
    "**[10 points]** This exercise will walk through some basic numerical programming and probabilistic thinking exercises, two skills which are frequently use in machine learning for answering questions from our data.\n",
    "1. Synthesize $n=10^4$ normally distributed data points with mean $\\mu=2$ and a standard deviation of $\\sigma=1$. Call these observations from a random variable $X$, and call the vector of observations that you generate, $\\textbf{x}$.\n",
    "2. Calculate the mean and standard deviation of $\\textbf{x}$ to validate (1) and provide the result to a precision of four significant figures.\n",
    "3. Plot a histogram of the data in $\\textbf{x}$ with 30 bins\n",
    "4. What is the 90th percentile of $\\textbf{x}$? The 90th percentile is the value below which 90% of observations can be found.\n",
    "5. What is the 99th percentile of $\\textbf{x}$?\n",
    "6. Now synthesize $n=10^4$ normally distributed data points with mean $\\mu=0$ and a standard deviation of $\\sigma=3$. Call these observations from a random variable $Y$, and call the vector of observations that you generate, $\\textbf{y}$.\n",
    "7. Create a new figure and plot the histogram of the data in $\\textbf{y}$ on the same axes with the histogram of $\\textbf{x}$, so that both histograms can be seen and compared.\n",
    "8. Using the observations from $\\textbf{x}$ and $\\textbf{y}$, estimate $E[XY]$"
   ]
  },
  {
   "cell_type": "markdown",
   "metadata": {},
   "source": [
    "**ANSWER**"
   ]
  },
  {
   "attachments": {},
   "cell_type": "markdown",
   "metadata": {},
   "source": [
    "1. Below is a vector of $ n = 10^4 $ normally distributed data points with mean $ \\mu = 2 $ and standard devation $ \\sigma = 1 $."
   ]
  },
  {
   "cell_type": "code",
   "execution_count": 43,
   "metadata": {},
   "outputs": [],
   "source": [
    "mu = 2.0\n",
    "sigma = 1.0\n",
    "x = np.random.default_rng().normal(mu, sigma, 10_000)\n"
   ]
  },
  {
   "attachments": {},
   "cell_type": "markdown",
   "metadata": {},
   "source": [
    "2."
   ]
  },
  {
   "cell_type": "code",
   "execution_count": 44,
   "metadata": {},
   "outputs": [
    {
     "name": "stdout",
     "output_type": "stream",
     "text": [
      "The mean of x is  1.9957 and the standard deviation of x is  0.9921.\n"
     ]
    }
   ],
   "source": [
    "print(\n",
    "    f\"The mean of x is {np.mean(x): .4f} and the standard deviation of x is {np.std(x, ddof= 1): .4f}.\")\n"
   ]
  },
  {
   "attachments": {},
   "cell_type": "markdown",
   "metadata": {},
   "source": [
    "3. Below is a plot of a histogram of the data in x with 30 bins."
   ]
  },
  {
   "cell_type": "code",
   "execution_count": 55,
   "metadata": {},
   "outputs": [
    {
     "data": {
      "image/png": "[encoded data removed]",
      "text/plain": [
       "<Figure size 640x480 with 1 Axes>"
      ]
     },
     "metadata": {},
     "output_type": "display_data"
    }
   ],
   "source": [
    "import matplotlib.pyplot as plt\n",
    "plt.hist(x, 30)\n",
    "plt.show()\n"
   ]
  },
  {
   "attachments": {},
   "cell_type": "markdown",
   "metadata": {},
   "source": [
    "4."
   ]
  },
  {
   "cell_type": "code",
   "execution_count": 60,
   "metadata": {},
   "outputs": [
    {
     "name": "stdout",
     "output_type": "stream",
     "text": [
      "The 90th percentile of x is  3.2780.\n"
     ]
    }
   ],
   "source": [
    "print(f\"The 90th percentile of x is {np.percentile(x, 90): .4f}.\")\n"
   ]
  },
  {
   "attachments": {},
   "cell_type": "markdown",
   "metadata": {},
   "source": [
    "5."
   ]
  },
  {
   "cell_type": "code",
   "execution_count": 59,
   "metadata": {},
   "outputs": [
    {
     "name": "stdout",
     "output_type": "stream",
     "text": [
      "The 99th percentile of x is  4.3369.\n"
     ]
    }
   ],
   "source": [
    "print(f\"The 99th percentile of x is {np.percentile(x, 99): .4f}.\")\n"
   ]
  },
  {
   "attachments": {},
   "cell_type": "markdown",
   "metadata": {},
   "source": [
    "6. Below is a vector of $ n = 10^4 $ normally distributed data points with mean $ \\mu = 0 $ and standard devation $ \\sigma = 3 $."
   ]
  },
  {
   "cell_type": "code",
   "execution_count": 62,
   "metadata": {},
   "outputs": [],
   "source": [
    "mu_y = 0.0\n",
    "sigma_y = 3.0\n",
    "y = np.random.default_rng().normal(mu_y, sigma_y, 10_000)"
   ]
  },
  {
   "attachments": {},
   "cell_type": "markdown",
   "metadata": {},
   "source": [
    "7. Below is a histogram comparing the distribution of x and y."
   ]
  },
  {
   "cell_type": "code",
   "execution_count": 65,
   "metadata": {},
   "outputs": [
    {
     "data": {
      "image/png": "[encoded data removed]",
      "text/plain": [
       "<Figure size 640x480 with 1 Axes>"
      ]
     },
     "metadata": {},
     "output_type": "display_data"
    }
   ],
   "source": [
    "plt.hist(x, 30, alpha = .5)\n",
    "y_plot = plt.hist(y, 30, alpha = .5)\n",
    "plt.show()"
   ]
  },
  {
   "attachments": {},
   "cell_type": "markdown",
   "metadata": {},
   "source": [
    "8."
   ]
  },
  {
   "cell_type": "code",
   "execution_count": 67,
   "metadata": {},
   "outputs": [
    {
     "name": "stdout",
     "output_type": "stream",
     "text": [
      "The expected value of x*y is -823.3690.\n"
     ]
    }
   ],
   "source": [
    "print(f\"The expected value of x*y is {np.mean(np.matmul(x,y)): .4f}.\")"
   ]
  },
  {
   "attachments": {},
   "cell_type": "markdown",
   "metadata": {},
   "source": [
    "---\n",
    "\n",
    "# Version Control via Git"
   ]
  },
  {
   "attachments": {},
   "cell_type": "markdown",
   "metadata": {},
   "source": [
    "## 11\n",
    "**[4 points]** Git is efficient for collaboration, and expectation in industry, and one of the best ways to share results in academia. You can even use some Git repositories (e.g. Github) as hosts for website, such as with the [course website](https://kylebradbury.github.io/ids705/index.html). As a data scientist with experience in machine learning, Git is expected. We will interact with Git repositories (a.k.a. repos) throughout this course, and your project will require the use of git repos for collaboration.\n",
    "\n",
    "Complete the [Atlassian Git tutorial](https://www.atlassian.com/git/tutorials/what-is-version-control), specifically the following listed sections. Try each concept that's presented. For this tutorial, instead of using BitBucket as your remote repository host, you may use your preferred platform such as [Github](https://github.com/) or [Duke's Gitlab](https://gitlab.oit.duke.edu/users/sign_in).\n",
    "1. [What is version control](https://www.atlassian.com/git/tutorials/what-is-version-control)\n",
    "2. [What is Git](https://www.atlassian.com/git/tutorials/what-is-git)\n",
    "3. [Install Git](https://www.atlassian.com/git/tutorials/install-git)\n",
    "4. [Setting up a repository](https://www.atlassian.com/git/tutorials/install-git)\n",
    "5. [Saving changes](https://www.atlassian.com/git/tutorials/saving-changes)\n",
    "6. [Inspecting a repository](https://www.atlassian.com/git/tutorials/inspecting-a-repository)\n",
    "7. [Undoing changes](https://www.atlassian.com/git/tutorials/undoing-changes)\n",
    "8. [Rewriting history](https://www.atlassian.com/git/tutorials/rewriting-history)\n",
    "9. [Syncing](https://www.atlassian.com/git/tutorials/syncing)\n",
    "10. [Making a pull request](https://www.atlassian.com/git/tutorials/making-a-pull-request)\n",
    "11. [Using branches](https://www.atlassian.com/git/tutorials/using-branches)\n",
    "12. [Comparing workflows](https://www.atlassian.com/git/tutorials/comparing-workflows)\n",
    "\n",
    "I also have created two videos on the topic to help you understand some of these concepts: [Git basics](https://www.youtube.com/watch?v=fBCwfoBr2ng) and a [step-by-step tutorial](https://www.youtube.com/watch?v=nH7qJHx-h5s).\n",
    "\n",
    "For your answer, affirm that you *either* completed the tutorials above OR have previous experience with ALL of the concepts above. Confirm this by typing your name below and selecting the situation that applies from the two options in brackets."
   ]
  },
  {
   "cell_type": "markdown",
   "metadata": {},
   "source": [
    "**ANSWER**\n",
    "\n",
    "*I, [**your name here**], affirm that I have [**completed the above tutorial / I have previous experience that covers all the content in this tutorial**]*"
   ]
  },
  {
   "attachments": {},
   "cell_type": "markdown",
   "metadata": {},
   "source": [
    "---\n",
    "\n",
    "# Exploratory Data Analysis\n",
    "## 12\n",
    "**[15 points]** Here you'll bring together some of the individual skills that you demonstrated above and create a Jupyter notebook based blog post on your exploratory data analysis. Your goal is to identify a question or problem and to work towards solving it or providing additional information or evidence (data) related to it through your data analysis. Below, we walk through a process to follow for your analysis. Additionally, you can find an [example of a well-done exploratory data analysis here from past years](https://github.com/kylebradbury/ids705/blob/master/assignments/Assignment_1_Q11_Example.ipynb).\n",
    "\n",
    "1. Find a dataset that interests you and relates to a question or problem that you find intriguing.\n",
    "2. Describe the dataset, the source of the data, and the reason the dataset was of interest. Include a description of the features, data size, data creator and year of creation (if available), etc. What question are you hoping to answer through exploring the dataset?\n",
    "3. Check the data and see if they need to be cleaned: are there missing values? Are there clearly erroneous values? Do two tables need to be merged together? Clean the data so it can be visualized. If the data are clean, state how you know they are clean (what did you check?).\n",
    "3. Plot the data, demonstrating interesting features that you discover. Are there any relationships between variables that were surprising or patterns that emerged? Please exercise creativity and curiosity in your plots. You should have at least a ~3 plots exploring the data in different ways.\n",
    "4. What insights are you able to take away from exploring the data? Is there a reason why analyzing the dataset you chose is particularly interesting or important? Summarize this for a general audience (imagine your publishing a blog post online) - boil down your findings in a way that is accessible, but still accurate.\n",
    "\n",
    "Here your analysis will evaluated based on:\n",
    "1. Motivation: was the purpose of the choice of data clearly articulated? Why was the dataset chosen and what was the goal of the analysis?\n",
    "2. Data cleaning: were any issues with the data investigated and, if found, were they resolved?\n",
    "3. Quality of data exploration: were at least 4 unique plots (minimum) included and did those plots demonstrate interesting aspects of the data? Was there a clear purpose and takeaway from EACH plot? \n",
    "4. Interpretation: Were the insights revealed through the analysis and their potential implications clearly explained? Was there an overall conclusion to the analysis?"
   ]
  },
  {
   "cell_type": "markdown",
   "metadata": {},
   "source": [
    "**ANSWER**"
   ]
  }
 ],
 "metadata": {
  "kernelspec": {
   "display_name": "Python 3",
   "language": "python",
   "name": "python3"
  },
  "language_info": {
   "codemirror_mode": {
    "name": "ipython",
    "version": 3
   },
   "file_extension": ".py",
   "mimetype": "text/x-python",
   "name": "python",
   "nbconvert_exporter": "python",
   "pygments_lexer": "ipython3",
   "version": "3.10.4"
  },
  "nteract": {
   "version": "0.28.0"
  },
  "varInspector": {
   "cols": {
    "lenName": 16,
    "lenType": 16,
    "lenVar": 40
   },
   "kernels_config": {
    "python": {
     "delete_cmd_postfix": "",
     "delete_cmd_prefix": "del ",
     "library": "var_list.py",
     "varRefreshCmd": "print(var_dic_list())"
    },
    "r": {
     "delete_cmd_postfix": ") ",
     "delete_cmd_prefix": "rm(",
     "library": "var_list.r",
     "varRefreshCmd": "cat(var_dic_list()) "
    }
   },
   "position": {
    "height": "643px",
    "left": "1548px",
    "right": "20px",
    "top": "121px",
    "width": "350px"
   },
   "types_to_exclude": [
    "module",
    "function",
    "builtin_function_or_method",
    "instance",
    "_Feature"
   ],
   "window_display": true
  },
  "vscode": {
   "interpreter": {
    "hash": "3ad933181bd8a04b432d3370b9dc3b0662ad032c4dfaa4e4f1596c548f763858"
   }
  }
 },
 "nbformat": 4,
 "nbformat_minor": 2
}
